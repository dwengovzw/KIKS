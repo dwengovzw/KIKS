{
 "cells": [
  {
   "cell_type": "markdown",
   "metadata": {},
   "source": [
    "<img src=\"../.images/logosnb.png\" alt=\"Banner\" style=\"width: 800px;\"/>"
   ]
  },
  {
   "cell_type": "markdown",
   "metadata": {},
   "source": [
    "<div style='color: #690027;' markdown=\"1\">\n",
    "    <h1>CLASSIFICATIE VAN DE IRIS DATASET</h1> \n",
    "</div>"
   ]
  },
  {
   "cell_type": "markdown",
   "metadata": {},
   "source": [
    "<div class=\"alert alert-box alert-success\">\n",
    "In deze notebook zie je hoe een <em>machinaal leren</em>-systeem erin slaagt twee klassen van punten <b>lineair van elkaar te scheiden</b>. Het algoritme vertrekt daarbij van een willekeurig gekozen rechte. Het algortime past de coëfficiënten in de vergelijking van de rechte stap voor stap aan, gebaseerd op gelabelde data, tot uiteindelijk een rechte bekomen wordt die de twee klassen van elkaar scheidt.\n",
    "</div>"
   ]
  },
  {
   "cell_type": "markdown",
   "metadata": {},
   "source": [
    "De Iris dataset werd in 1936 door de Brit Ronald Fischer gepubliceerd in 'The use of multiple measurements in taxonomic problems' [1][2].<br> \n",
    "De dataset beteft drie soorten irissen (*Iris setosa*, *Iris virginica* en *Iris versicolor*).\n",
    "Fischer kon de soorten van elkaar onderscheiden afgaande op vier kenmerken: de lengte en de breedte van de kelkbladen en de bloembladen."
   ]
  },
  {
   "cell_type": "markdown",
   "metadata": {},
   "source": [
    "<table><tr>\n",
    "<td><img src=\"../.images/IntroductieMachineLearning/Kosaciec_szczecinkowaty_Iris_setosa.jpg\" alt=\"Drawing\" style=\"width: 200px;\"/></td>\n",
    "<td><img src=\"../.images/IntroductieMachineLearning/Iris_versicolor_3.jpg\" alt=\"Drawing\" style=\"width: 220px;\"/></td>\n",
    "<td><img src=\"../.images/IntroductieMachineLearning/Iris_virginica.jpg\" alt=\"Drawing\" style=\"width: 203px;\"/></td>\n",
    "</tr></table>\n",
    "\n",
    "<table><tr>\n",
    "    <td><em>Iris setosa</em> [3]</td>\n",
    "<td> &nbsp;&nbsp;&nbsp;&nbsp;&nbsp;&nbsp;&nbsp;&nbsp;&nbsp;&nbsp;&nbsp;&nbsp;&nbsp;&nbsp;&nbsp;&nbsp;&nbsp;&nbsp;&nbsp;&nbsp; &nbsp;&nbsp;&nbsp;&nbsp;&nbsp;&nbsp;&nbsp;</td>\n",
    "    <td><em>Iris versicolor</em> [4]</td>\n",
    "<td>&nbsp;&nbsp;&nbsp;&nbsp;&nbsp;&nbsp;&nbsp;&nbsp;&nbsp;&nbsp;&nbsp;&nbsp;&nbsp;&nbsp;&nbsp;&nbsp;&nbsp;&nbsp;&nbsp;&nbsp; &nbsp;&nbsp;&nbsp;&nbsp;&nbsp;&nbsp;&nbsp;</td>\n",
    "    <td><em>Iris virginica</em> [5]</td>\n",
    "</tr></table>\n",
    "<br>\n",
    "<center>Figuur 1: <em>Iris setosa</em> door Radomil Binek [CC BY-SA 3.0 (https://creativecommons.org/licenses/by-sa/3.0)], via Wikimedia Commons;<br> <em>Iris versicolor</em>. No machine-readable author provided. Dlanglois assumed (based on copyright claims). CC BY-SA 3.0, via Wikimedia Commons;<br> <em>Iris virginica</em> door Frank Mayfield [CC BY-SA 2.0 (https://creativecommons.org/licenses/by-sa/2.0)], via Wikimedia Commons.</center>"
   ]
  },
  {
   "cell_type": "markdown",
   "metadata": {},
   "source": [
    "De Iris dataset is een *multivariate dataset*, d.w.z. een dataset met meerdere variabelen, die van elke soort 50 monsters bevat. Van elk monster werden de lengte en de breedte van een kroonblad en een kelkblad opgemeten in centimeter. "
   ]
  },
  {
   "cell_type": "markdown",
   "metadata": {},
   "source": [
    "<img src=\"../.images/IntroductieMachineLearning/kelkblad_kroonblad.jpg\" alt=\"Drawing\" style=\"width: 400px;\"/> \n",
    "<center>Figuur 2: Kroon- en kelkblad.</center>"
   ]
  },
  {
   "cell_type": "markdown",
   "metadata": {},
   "source": [
    "### De nodige modules importeren"
   ]
  },
  {
   "cell_type": "code",
   "execution_count": null,
   "metadata": {},
   "outputs": [],
   "source": [
    "import numpy as np\n",
    "import matplotlib.pyplot as plt\n",
    "import pandas as pd\n",
    "\n",
    "from matplotlib import animation   # voor animatie\n",
    "from IPython.display import HTML   # voor animatie "
   ]
  },
  {
   "cell_type": "markdown",
   "metadata": {},
   "source": [
    "<div style='color: #690027;' markdown=\"1\">\n",
    "    <h2>1. Inlezen van de data</h2> \n",
    "</div>"
   ]
  },
  {
   "cell_type": "markdown",
   "metadata": {},
   "source": [
    "Lees met de module `pandas` de Iris dataset in."
   ]
  },
  {
   "cell_type": "code",
   "execution_count": null,
   "metadata": {
    "scrolled": true
   },
   "outputs": [],
   "source": [
    "# dataset inlezen\n",
    "# in te lezen tabel heeft een hoofding\n",
    "iris = pd.read_csv(\"../.data/IntroductieMachineLearning/irisHoofding.dat\", header=\"infer\")  "
   ]
  },
  {
   "cell_type": "markdown",
   "metadata": {},
   "source": [
    "<div style='color: #690027;' markdown=\"1\">\n",
    "    <h2>2. Tonen van de ingelezen data</h2> \n",
    "</div>"
   ]
  },
  {
   "cell_type": "markdown",
   "metadata": {},
   "source": [
    "Kijk de gegevens in. Zowel de vier kenmerken, als de naam van de soort worden weergegeven. Het aantal monsters is gemakkelijk af te lezen."
   ]
  },
  {
   "cell_type": "markdown",
   "metadata": {},
   "source": [
    "Hoeveel **variabelen** heeft deze *multivariate dataset*?"
   ]
  },
  {
   "cell_type": "markdown",
   "metadata": {},
   "source": [
    "Antwoord: de dataset heeft ... variabelen."
   ]
  },
  {
   "cell_type": "code",
   "execution_count": null,
   "metadata": {},
   "outputs": [],
   "source": [
    "# dataset weergeven in tabel\n",
    "iris"
   ]
  },
  {
   "cell_type": "markdown",
   "metadata": {},
   "source": [
    "Deze tabel komt overeen met een matrix met 150 rijen en 5 kolommen: <br>\n",
    "150 monsters, 4 kenmerken (x1, x2, x3, x4) en 1 label (y) <br><br>\n",
    "De kenmerken:<br>\n",
    "- eerste kolom: lengte kelkblad \n",
    "- tweede kolom: breedte kelkblad\n",
    "- derde kolom: lengte bloemblad \n",
    "- vierde kolom: breedte bloemblad<br><br>\n",
    "\n",
    "Het label:<br>\n",
    "- laatste kolom: de naam van de soort "
   ]
  },
  {
   "cell_type": "markdown",
   "metadata": {},
   "source": [
    "<div class=\"alert alert-box alert-info\">\n",
    "Voor het machinaal leren-systeem zullen de <em>kenmerken</em> als <b>input</b> dienen en de labels als <b>output</b>.\n",
    "</div>"
   ]
  },
  {
   "cell_type": "markdown",
   "metadata": {},
   "source": [
    "Het is mogelijk enkel het begin of enkel het laatste deel van de tabel te tonen."
   ]
  },
  {
   "cell_type": "code",
   "execution_count": null,
   "metadata": {},
   "outputs": [],
   "source": [
    "# eerste deel van de tabel\n",
    "iris.head()"
   ]
  },
  {
   "cell_type": "code",
   "execution_count": null,
   "metadata": {},
   "outputs": [],
   "source": [
    "# laatste deel van de tabel\n",
    "iris.tail()"
   ]
  },
  {
   "cell_type": "markdown",
   "metadata": {},
   "source": [
    "Het is ook mogelijk om een bepaald deel van de tabel te tonen."
   ]
  },
  {
   "cell_type": "code",
   "execution_count": null,
   "metadata": {},
   "outputs": [],
   "source": [
    "# tabel tonen van rij 46 t.e.m. rij 53\n",
    "iris[46:54]"
   ]
  },
  {
   "cell_type": "markdown",
   "metadata": {},
   "source": [
    "Merk op dat <span style=\"background-color:whitesmoke; font-family:consolas; font-size:1em;\">[46:54]</span> staat voor het *halfopen interval* [46:54[."
   ]
  },
  {
   "cell_type": "markdown",
   "metadata": {},
   "source": [
    "In deze notebook zal je met deze laatste deeltabel werken."
   ]
  },
  {
   "cell_type": "markdown",
   "metadata": {},
   "source": [
    "<div style='color: #690027;' markdown=\"1\">\n",
    "    <h2>3. Onderzoek: kunnen twee soorten irissen onderscheiden worden gebaseerd op twee kenmerken?</h2> \n",
    "</div>"
   ]
  },
  {
   "cell_type": "markdown",
   "metadata": {},
   "source": [
    "<div style='color: #690027;' markdown=\"1\">\n",
    "    <h3>3.1 Beschouw van elk van twee soorten irissen, <em>Iris setosa</em>  en <em>Iris versicolor</em>, vier monsters</h3> \n",
    "</div>"
   ]
  },
  {
   "cell_type": "markdown",
   "metadata": {},
   "source": [
    "<table><tr>\n",
    "<td><img src=\"../.images/IntroductieMachineLearning/Kosaciec_szczecinkowaty_Iris_setosa.jpg\" alt=\"Drawing\" style=\"width: 200px;\"/></td>\n",
    "<td><img src=\"../.images/IntroductieMachineLearning/Iris_versicolor_3.jpg\" alt=\"Drawing\" style=\"width: 300px;\"/></td>\n",
    "</tr></table>\n",
    "\n",
    "<table><tr>\n",
    "    <td> Figuur 3: <em>Iris setosa</em></td>\n",
    "<td> &nbsp;&nbsp;&nbsp;&nbsp;&nbsp;&nbsp;&nbsp;&nbsp;&nbsp;&nbsp;&nbsp;&nbsp;&nbsp;&nbsp;&nbsp;&nbsp;&nbsp;&nbsp;&nbsp;&nbsp;&nbsp;\n",
    "    &nbsp;&nbsp;&nbsp;&nbsp;&nbsp;&nbsp;&nbsp;&nbsp;&nbsp;&nbsp;&nbsp;</td>\n",
    "    <td> <em>Iris versicolor</em> </td>\n",
    "</tr></table>"
   ]
  },
  {
   "cell_type": "markdown",
   "metadata": {},
   "source": [
    "In de deeltabel staan vier monsters van elk. <br>\n",
    "In de eerste vier kolommen van de tabel staat een kenmerk, in de laatste kolom staat het label. "
   ]
  },
  {
   "cell_type": "markdown",
   "metadata": {},
   "source": [
    "<div class=\"alert alert-box alert-info\">\n",
    "Voor het machinaal leren-systeem, noemt men deze kenmerken $x_{i}$ en het label $y$.\n",
    "</div>"
   ]
  },
  {
   "cell_type": "code",
   "execution_count": null,
   "metadata": {},
   "outputs": [],
   "source": [
    "x1 = iris[\"lengte kelkblad\"]          # kenmerk: lengte kelkblad\n",
    "x2 = iris[\"breedte kelkblad\"]         # kenmerk: breedte kelkblad\n",
    "x3 = iris[\"lengte kroonblad\"]         # kenmerk: lengte kroonblad\n",
    "x4 = iris[\"breedte kroonblad\"]        # kenmerk: breedte kroonblad\n",
    "\n",
    "y = iris[\"soort Iris\"]                # label: soort "
   ]
  },
  {
   "cell_type": "code",
   "execution_count": null,
   "metadata": {},
   "outputs": [],
   "source": [
    "print(x1)\n",
    "print(y)"
   ]
  },
  {
   "cell_type": "markdown",
   "metadata": {},
   "source": [
    "<div style='color: #690027;' markdown=\"1\">\n",
    "    <h3>3.2 De data voorbereiden</h3> \n",
    "</div>"
   ]
  },
  {
   "cell_type": "code",
   "execution_count": null,
   "metadata": {},
   "outputs": [],
   "source": [
    "# omzetten naar NumPy array\n",
    "x1 = np.array(x1)\n",
    "x2 = np.array(x2)\n",
    "x3 = np.array(x3)\n",
    "x4 = np.array(x4)"
   ]
  },
  {
   "cell_type": "markdown",
   "metadata": {},
   "source": [
    "Je moet slechts met twee kenmerken werken: de lengte van het kroonblad en van het kelkblad.<br>\n",
    "En je hebt enkel de 8 monsters van de deeltabel nodig."
   ]
  },
  {
   "cell_type": "code",
   "execution_count": null,
   "metadata": {},
   "outputs": [],
   "source": [
    "# lengte kelkblad en lengte bloemblad kiezen, deze staan in eerste en derde kolom\n",
    "# vier monsters van setosa en vier monsters van versicolor selecteren\n",
    "x1 = x1[46:54]\n",
    "x3 = x3[46:54]\n",
    "y = y[46:54]"
   ]
  },
  {
   "cell_type": "markdown",
   "metadata": {},
   "source": [
    "<div style='color: #690027;' markdown=\"1\">\n",
    "    <h3>3.3 De data standaardiseren</h3> \n",
    "</div>"
   ]
  },
  {
   "cell_type": "markdown",
   "metadata": {},
   "source": [
    "Om te standaardiseren wordt er overgegaan op de Z-scores van de kenmerken.<br>\n",
    "Voor meer uitleg over het belang van standaardiseren verwijzen we naar de notebook 'Standaardiseren'."
   ]
  },
  {
   "cell_type": "code",
   "execution_count": null,
   "metadata": {},
   "outputs": [],
   "source": [
    "x1 = (x1-np.mean(x1))/np.std(x1)\n",
    "x3 = (x3-np.mean(x3))/np.std(x3)"
   ]
  },
  {
   "cell_type": "code",
   "execution_count": null,
   "metadata": {},
   "outputs": [],
   "source": [
    "print(x1)\n",
    "print(x3)"
   ]
  },
  {
   "cell_type": "code",
   "execution_count": null,
   "metadata": {},
   "outputs": [],
   "source": [
    "# gestandaardiseerde kenmerken opnieuw in matrix steken\n",
    "# deze matrix X bevat dan de kenmerken die het machinaal leren-systeem zal gebruiken\n",
    "X = np.stack((x1, x3), axis = 1) # axis 1 betekent dat x1 en x3 worden beschouwd als kolommen (bij axis 0 als rijen)\n",
    "print(X)\n",
    "print(X.shape)\n",
    "print(X.shape[1])"
   ]
  },
  {
   "cell_type": "markdown",
   "metadata": {},
   "source": [
    "<div style='color: #690027;' markdown=\"1\">\n",
    "    <h3>3.4 De data weergeven in puntenwolk</h3> \n",
    "</div>"
   ]
  },
  {
   "cell_type": "code",
   "execution_count": null,
   "metadata": {},
   "outputs": [],
   "source": [
    "# lengte bloemblad t.o.v. lengte kelkblad\n",
    "# lengte kelkblad komt op x-as, lengte bloemblad komt op y-as\n",
    "plt.scatter(x1, x3, color=\"black\", marker=\"o\")\n",
    "\n",
    "plt.title(\"Iris\")\n",
    "plt.xlabel(\"lengte kelkblad (cm)\")          # xlabel geeft een omschrijving op de x1-as\n",
    "plt.ylabel(\"lengte bloemblad (cm)\")         # ylabel geeft een omschrijving op de x3-as\n",
    "\n",
    "plt.show()"
   ]
  },
  {
   "cell_type": "markdown",
   "metadata": {},
   "source": [
    "Er zijn twee groepen te onderscheiden. Bovendien zijn deze groepen **lineair scheidbaar**: ze kunnen gescheiden worden door een rechte. <br>\n",
    "Op de grafiek is niet duidelijk welk datapunt bij welke soort iris hoort, aangezien alle punten op dezelfde manier worden voorgesteld. "
   ]
  },
  {
   "cell_type": "markdown",
   "metadata": {},
   "source": [
    "<div style='color: #690027;' markdown=\"1\">\n",
    "    <h3>3.5 Data in puntenwolk weergeven als twee klassen</h3> \n",
    "</div>"
   ]
  },
  {
   "cell_type": "markdown",
   "metadata": {},
   "source": [
    "De voorstelling van de puntenwolk wordt aangepast zodat de twee irissoorten elk door een ander symbool worden weergegeven. "
   ]
  },
  {
   "cell_type": "code",
   "execution_count": null,
   "metadata": {},
   "outputs": [],
   "source": [
    "# lengte bloemblad t.o.v. lengte kelkblad\n",
    "plt.scatter(x1[:4], x3[:4], color=\"green\", marker=\"o\", label=\"setosa\")      # setosa zijn eerste 4\n",
    "plt.scatter(x1[4:], x3[4:], color=\"blue\", marker=\"x\", label=\"versicolor\")   # versicolor zijn volgende 4\n",
    "           \n",
    "plt.title(\"Iris\")\n",
    "plt.xlabel(\"lengte kelkblad (cm)\")\n",
    "plt.ylabel(\"lengte bloemblad (cm)\")\n",
    "plt.legend(loc=\"lower right\")\n",
    "\n",
    "plt.show()"
   ]
  },
  {
   "cell_type": "markdown",
   "metadata": {},
   "source": [
    "<div style='color: #690027;' markdown=\"1\">\n",
    "    <h2>4. Classificatie met het Perceptron</h2> \n",
    "</div>"
   ]
  },
  {
   "cell_type": "markdown",
   "metadata": {},
   "source": [
    "<div style='color: #690027;' markdown=\"1\">\n",
    "    <h3>4.1 Geannoteerde data</h3> \n",
    "</div>"
   ]
  },
  {
   "cell_type": "markdown",
   "metadata": {},
   "source": [
    "Het AI-systeem zal leren uit de 8 gelabelde voorbeelden.<br> \n",
    "De kolom met de labels heb je reeds $y$ genoemd. Het label is echter geen kwantitatieve (numerieke) variabele. <br>\n",
    "Er zijn twee soorten irissen. Als je de soort *setosa* laat overeenkomen met klasse $0$ en de soort *versicolor* met klasse $1$, dan heb je het **label** $y$ **numeriek** gemaakt. "
   ]
  },
  {
   "cell_type": "code",
   "execution_count": null,
   "metadata": {},
   "outputs": [],
   "source": [
    "# labels numeriek maken, setosa:0, versicolor:1\n",
    "y = np.where(y == \"Iris-setosa\", 0, 1)                # als setosa, dan 0, anders 1"
   ]
  },
  {
   "cell_type": "code",
   "execution_count": null,
   "metadata": {},
   "outputs": [],
   "source": [
    "print(y)"
   ]
  },
  {
   "cell_type": "markdown",
   "metadata": {},
   "source": [
    "De kenmerken zitten in een matrix X en de labels in een vector y. De i-de rij van X komt overeen met twee kenmerken van een bepaald monster en het label van dat monster zit op de i-de plaats in y."
   ]
  },
  {
   "cell_type": "markdown",
   "metadata": {},
   "source": [
    "<div style='color: #690027;' markdown=\"1\">\n",
    "    <h3>4.2 Het Perceptron</h3> \n",
    "</div>"
   ]
  },
  {
   "cell_type": "markdown",
   "metadata": {},
   "source": [
    "Het Perceptron is een neuraal netwerk met twee lagen: een invoerlaag en een uitvoerlaag.<br>\n",
    "De neuronen van de invoerlaag zijn verbonden met het neuron van de uitvoerlaag.<br><br>\n",
    "Het Perceptron beschikt over een algoritme om te kunnen leren. <br>\n",
    "Het wordt getraind met gelabelde voorbeelden: een aantal inputpunten X$_{i}$ met telkens een corresponderend label $y_{i}$. Tussen de neuronen van de invoer- en uitvoerlaag zijn er verbindingen met een bepaald gewicht. <br>\n",
    "Het Perceptron leert: gebaseerd op de gelabelde voorbeelden worden de gewichten gaandeweg aangepast; de aanpassing gebeurt op basis van het Perceptron-algoritme. "
   ]
  },
  {
   "cell_type": "markdown",
   "metadata": {},
   "source": [
    "<img src=\"../.images/IntroductieMachineLearning/perceptronalgoritme.jpg\" alt=\"Drawing\" style=\"width: 600px;\"/> \n",
    "<center>Figuur 4: Het Perceptron-algoritme.</center>"
   ]
  },
  {
   "cell_type": "markdown",
   "metadata": {},
   "source": [
    "<img src=\"../.images/IntroductieMachineLearning/perceptron3weights.png\" alt=\"Drawing\" style=\"width: 500px;\"/> \n",
    "<center>Figuur 5: Schematische voorstelling van het Perceptron.</center>"
   ]
  },
  {
   "cell_type": "markdown",
   "metadata": {},
   "source": [
    "Om een rechte te vinden die de twee soorten irissen van elkaar scheidt, wordt er vertrokken van een **willekeurig gekozen rechte**. Dit gebeurt door de coëfficiënten in de vergelijking van deze rechte willekeurig te kiezen.<br> Beide kanten van deze *scheidingslijn* bepalen een andere *klasse*.<br> Het systeem wordt *getraind* met de trainingset inclusief de corresponderende labels: **Voor elk punt van de trainingset wordt nagegaan of het punt aan de juiste kant van de scheidingslijn ligt.** Bij een punt dat niet aan de juiste kant van de scheidingslijn ligt, worden de coëfficiënten in de vergelijking van de rechte aangepast. <br>\n",
    "De volledige trainingset wordt een aantal keer doorlopen. Zo'n keer noemt men een *epoch*. Het systeem *leert* gedurende deze *pogingen ('epochs')*."
   ]
  },
  {
   "cell_type": "markdown",
   "metadata": {},
   "source": [
    "Als twee klassen lineair scheidbaar zijn, kan men een rechte vinden die beide klassen scheidt. Men kan de vergelijking van de scheidingslijn zodanig opschrijven (in de vorm $ax+by+c=0$) dat voor elk punt $(x_{1}, y_{1})$ in de ene klasse $ax_{1}+by_{1}+c >= 0$ en voor elk punt $(x_{1}, y_{1})$ in de andere klasse $ax_{1} +by_{1}+c < 0$. <br> \n",
    "Zolang dit niet voldaan is, moeten de coëfficiënten worden aangepast.<br>\n",
    "De trainingset met bijhorende labels wordt enkele keren doorlopen. Voor elk p{u}nt _{w}orden de coëfficiënten aangepast indien nodig.<br><br>\n",
    "**De gewichten van het Perceptron zijn de coëfficiënten in de vergelijking van de scheidingsrechte.**"
   ]
  },
  {
   "cell_type": "markdown",
   "metadata": {},
   "source": [
    "Hier geldt dus:<br>\n",
    "De vergelijking van de scheidingslijn: $ax+by+c=0$; of dus  dat voor elk punt (x1, x3) in de ene klasse $ax1+bx3+c >= 0$ en voor elk punt (x1, y3) in de andere klasse $ax1 +bx3+c < 0$. <br>\n",
    "$a$ is dus de coëfficiënt van de variabele x1 en $b$ die van x3 $c$ is een constante.<br>\n",
    "In de code-cel die volgt wordt $a$ voorgesteld door coeff_x1 en $b$ door coeff_x3, $c$ door cte.<br>\n",
    "Voor een schuine rechte $ax+by+c=0$ is $y = -\\frac{a}{b}  x - \\frac{c}{b}$.\n"
   ]
  },
  {
   "cell_type": "code",
   "execution_count": null,
   "metadata": {},
   "outputs": [],
   "source": [
    "font = {'family': 'serif',\n",
    "        'color':  'black',\n",
    "        'weight': 'normal',\n",
    "        'size': 16,\n",
    "        }\n",
    "\n",
    "def grafiek(coeff_x1, coeff_x3, cte):\n",
    "        \"\"\"Plot scheidingsrechte ('decision boundary') en geeft vergelijking ervan.\"\"\"\n",
    "        # lengte kroonlad t.o.v. lengte kelkblad\n",
    "        plt.scatter(x1[:4], x3[:4], color=\"green\", marker=\"o\", label=\"setosa\")      # setosa zijn eerste 4 (label 0)\n",
    "        plt.scatter(x1[4:], x3[4:], color=\"blue\", marker=\"x\", label=\"versicolor\")   # versicolor zijn de volgende 4 (label 1)\n",
    "        x = np.linspace(-1.5, 1.5, 10)\n",
    "        y_r = -coeff_x1/coeff_x3 * x - cte/coeff_x3\n",
    "        print(\"De grens is een rechte met vgl.\", coeff_x1, \"* x1 +\", coeff_x3, \"* x3 +\", cte, \"= 0\")\n",
    "        plt.plot(x, y_r, color=\"black\")\n",
    "        \n",
    "        plt.title(\"Scheiden vqn twee soorten irissen\", fontdict=font)\n",
    "        plt.xlabel(\"lengte kelkblad (cm)\", fontdict=font)\n",
    "        plt.ylabel(\"lengte bloemblad (cm)\", fontdict=font)\n",
    "        plt.legend(loc=\"lower right\")\n",
    "       \n",
    "        plt.show()\n",
    "        \n",
    "\n",
    "class Perceptron(object):\n",
    "    \"\"\"Perceptron classifier.\"\"\" \n",
    "    \n",
    "    def __init__(self, eta=0.01, n_iter=50, random_state=1):\n",
    "        \"\"\"self heeft drie parameters: leersnelheid, aantal pogingen, willekeurigheid.\"\"\"\n",
    "        self.eta = eta\n",
    "        self.n_iter = n_iter\n",
    "        self.random_state = random_state\n",
    "    \n",
    "    def fit(self, X, y):\n",
    "        \"\"\"Fit training data.\"\"\"\n",
    "        rgen = np.random.RandomState(self.random_state)\n",
    "        # kolommatrix van de gewichten ('weights')\n",
    "        # willekeurig gegenereerd uit normale verdeling met gemiddelde 0 en standaardafwijking 0.01\n",
    "        # aantal gewichten is aantal kenmerken in X plus 1 (+1 voor de bias)\n",
    "        self.w_ = rgen.normal(loc=0.0, scale=0.01, size=X.shape[1]+1)     # gewichtenmatrix die 3 gewichten bevat \n",
    "        print(\"Initiële willekeurige gewichten:\", self.w_)\n",
    "        self.errors_ = []    # foutenlijst\n",
    "       \n",
    "        # plot grafiek met scheidingsrechte\n",
    "        # grafiek(self.w_[0], self.w_[1], self.w_[2])\n",
    "        rechten = np.array([self.w_])\n",
    "        print(rechten)\n",
    "        # gewichten punt per punt aanpassen, gebaseerd op feedback van de verschillende pogingen        \n",
    "        for _ in range(self.n_iter):\n",
    "            print(\"epoch =\", _)\n",
    "            errors = 0\n",
    "            teller = 0\n",
    "            \n",
    "            for x, label in zip(X, y):            # x is datapunt (monster) uit matrix X, y overeenkomstig label\n",
    "                print(\"teller =\", teller)         # tel punten, het zijn er acht\n",
    "                print(\"punt:\", x, \"\\tlabel:\", label)\n",
    "                gegiste_klasse = self.predict(x)\n",
    "                print(\"gegiste klasse =\", gegiste_klasse)\n",
    "                # aanpassing nagaan voor dit punt\n",
    "                update = self.eta * (label - gegiste_klasse)     # als update = 0, juiste klasse, geen aanpassing nodig\n",
    "                print(\"update=\", update)\n",
    "                # grafiek en gewichten eventueel aanpassen na dit punt\n",
    "                if update !=0:\n",
    "                    self.w_[0:2] += update *x\n",
    "                    self.w_[2] += update\n",
    "                    errors += update\n",
    "                    print(\"gewichten =\", self.w_)\n",
    "                    # grafiek(self.w_[0], self.w_[1], self.w_[2])     # voorlopige 'decision boundary'\n",
    "                    rechten = np.append(rechten, [self.w_], axis =0)\n",
    "                    print(rechten)\n",
    "                teller += 1\n",
    "            self.errors_.append(errors)           # na alle punten, totale fout toevoegen aan foutenlijst\n",
    "            print(\"foutenlijst =\", self.errors_)          \n",
    "        return self, rechten        # geeft gewichtenmatrix en errorlijst terug\n",
    "    \n",
    "    def net_input(self, x):      # punt invullen in de voorlopige scheidingsrechte\n",
    "        \"\"\"Berekenen van z = lineaire combinatie van de  inputs inclusief bias en de weights voor elke gegeven punt.\"\"\"\n",
    "        return np.dot(x, self.w_[0:2]) + self.w_[2]\n",
    "    \n",
    "    def predict(self, x):\n",
    "        \"\"\"Gist klasse.\"\"\"\n",
    "        print(\"punt ingevuld in vergelijking rechte:\", self.net_input(x))\n",
    "        klasse = np.where(self.net_input(x) >=0, 1, 0)\n",
    "        return klasse\n",
    "    "
   ]
  },
  {
   "cell_type": "markdown",
   "metadata": {},
   "source": [
    "### Opdracht 4.2.1\n",
    "Ga op zoek naar het Perceptron-algoritme in de code-cel hierboven. <br>\n",
    "Gevonden?"
   ]
  },
  {
   "cell_type": "code",
   "execution_count": null,
   "metadata": {},
   "outputs": [],
   "source": [
    "# Perceptron, leersnelheid 0.001 en 12 pogingen\n",
    "ppn = Perceptron(eta=0.001, n_iter=12)\n",
    "gewichtenlijst = ppn.fit(X,y)[1]\n",
    "print(\"Gewichtenlijst =\", gewichtenlijst)"
   ]
  },
  {
   "cell_type": "markdown",
   "metadata": {},
   "source": [
    "<div style='color: #690027;' markdown=\"1\">\n",
    "    <h3>4.3 Animatie</h3> \n",
    "</div>"
   ]
  },
  {
   "cell_type": "markdown",
   "metadata": {},
   "source": [
    "Nu volgt een **animatie** waarin je ziet hoe het Perceptron bijleert. <br>\n",
    "Eerst zie je een willekeurig gekozen rechte. Erna wordt deze rechte stap voor stap aangepast tot de twee klassen van elkaar gescheiden zijn. "
   ]
  },
  {
   "cell_type": "code",
   "execution_count": null,
   "metadata": {
    "scrolled": false
   },
   "outputs": [],
   "source": [
    "# animatie \n",
    "xcoord = np.linspace(-1.5, 1.5, 10)\n",
    "ycoord = []\n",
    "for w in gewichtenlijst:\n",
    "    y_r = -w[0]/w[1] * xcoord - w[2]/w[1]\n",
    "    ycoord.append(y_r)\n",
    "    \n",
    "ycoord = np.array(ycoord)    \n",
    "fig, ax = plt.subplots()\n",
    "line, = ax.plot(xcoord, ycoord[0], color=\"black\")\n",
    "\n",
    "plt.scatter(x1[:4], x3[:4], color=\"green\", marker=\"o\", label=\"setosa\")      # setosa zijn eerste 4 (label 0)\n",
    "plt.scatter(x1[4:], x3[4:], color=\"blue\", marker=\"x\", label=\"versicolor\")   # versicolor zijn de volgende 4 (label 1)\n",
    "plt.title(\"Scheiden van twee soorten irissen\", fontdict=font)\n",
    "plt.xlabel(\"lengte kelkblad (cm)\", fontdict=font)\n",
    "plt.ylabel(\"lengte kroonblad (cm)\", fontdict=font)\n",
    "plt.legend(loc=\"lower right\")\n",
    "plt.savefig(\"eerstelijn.png\", dpi=300)\n",
    "def animate(i):\n",
    "    line.set_ydata(ycoord[i])  # update the data\n",
    "    return line,\n",
    "\n",
    "ax.axis([-2,2,-5, 5])\n",
    "plt.close()\n",
    "ani = animation.FuncAnimation(\n",
    "    fig, animate,  interval=1000, blit=True, save_count=10, frames=len(ycoord))\n",
    "    \n",
    "HTML(ani.to_jshtml())\n"
   ]
  },
  {
   "cell_type": "markdown",
   "metadata": {},
   "source": [
    "<div style='color: #690027;' markdown=\"1\">\n",
    "    <h3>4.4 Experimenteer</h3> \n",
    "</div>"
   ]
  },
  {
   "cell_type": "markdown",
   "metadata": {},
   "source": [
    "### Opdracht 4.4.1\n",
    "De leersnelheid of het aantal pogingen kunnen worden aangepast.\n",
    "-  Gaat het sneller net een kleinere of grotere leersnelheid?\n",
    "-  Lukt het ook met minder epochs (pogingen)?\n",
    "\n",
    "De code is hieronder reeds gekopieerd. Pas aan naar wens!"
   ]
  },
  {
   "cell_type": "code",
   "execution_count": null,
   "metadata": {},
   "outputs": [],
   "source": [
    "# Perceptron, leersnelheid 0.001 en 12 pogingen\n",
    "ppn = Perceptron(eta=0.001, n_iter=12)\n",
    "gewichtenlijst = ppn.fit(X,y)[1]\n",
    "print(\"Gewichtenlijst =\", gewichtenlijst)"
   ]
  },
  {
   "cell_type": "code",
   "execution_count": null,
   "metadata": {
    "scrolled": false
   },
   "outputs": [],
   "source": [
    "# animatie\n",
    "xcoord = np.linspace(-1.5, 1.5, 10)\n",
    "ycoord = []\n",
    "for w in gewichtenlijst:\n",
    "    y_r = -w[0]/w[1] * xcoord - w[2]/w[1]\n",
    "    ycoord.append(y_r)\n",
    "    \n",
    "ycoord = np.array(ycoord)    \n",
    "fig, ax = plt.subplots()\n",
    "line, = ax.plot(xcoord, ycoord[0], color=\"black\")\n",
    "\n",
    "plt.scatter(x1[:4], x3[:4], color=\"green\", marker=\"o\", label=\"setosa\")      # setosa zijn eerste 4 (label 0)\n",
    "plt.scatter(x1[4:], x3[4:], color=\"blue\", marker=\"x\", label=\"versicolor\")   # versicolor zijn de volgende 4 (label 1)\n",
    "plt.title(\"Scheiden van twee soorten irissen\", fontdict=font)\n",
    "plt.xlabel(\"lengte kelkblad (cm)\", fontdict=font)\n",
    "plt.ylabel(\"lengte kroonblad (cm)\", fontdict=font)\n",
    "plt.legend(loc=\"lower right\")\n",
    "plt.savefig(\"eerstelijn.png\", dpi=300)\n",
    "def animate(i):\n",
    "    line.set_ydata(ycoord[i])  # update the data\n",
    "    return line,\n",
    "\n",
    "ax.axis([-2,2,-5, 5])\n",
    "plt.close()\n",
    "ani = animation.FuncAnimation(\n",
    "    fig, animate,  interval=1000, blit=True, save_count=10, frames=len(ycoord))\n",
    "    \n",
    "HTML(ani.to_jshtml())\n"
   ]
  },
  {
   "cell_type": "markdown",
   "metadata": {},
   "source": [
    "<div style='color: #690027;' markdown=\"1\">\n",
    "    <h2>5. Doe nu zelf een onderzoek bv. met twee andere soorten iris of met andere kenmerken</h2> \n",
    "</div>"
   ]
  },
  {
   "cell_type": "markdown",
   "metadata": {},
   "source": [
    "### Opdracht 5.1\n",
    "\n",
    "- lengte kelkblad t.o.v. breedte kelkblad\n",
    "- setosa en virginica\n",
    "- meer monsters"
   ]
  },
  {
   "cell_type": "markdown",
   "metadata": {},
   "source": [
    "### Opdracht 5.2\n",
    "\n",
    "Vind je twee soorten irissen die niet lineair scheidbaar zijn?"
   ]
  },
  {
   "cell_type": "markdown",
   "metadata": {},
   "source": [
    "<div class=\"alert alert-box alert-info\">\n",
    "Het Perceptron is een neuraal netwerk met twee lagen: een invoerlaag en een uitvoerlaag. Tussen de neuronen van de invoer- en uitvoerlaag zijn er verbindingen met een bepaald gewicht. <br>\n",
    "Het Perceptron is geschikt om klassen te scheiden die lineair scheidbaar zijn.<br>\n",
    "Het Perceptron beschikt over een algoritme om te kunnen leren, het wordt getraind met gelabelde voorbeelden. Het Perceptron leert door na elk ingevoerd punt de gewichten in het netwerk aan te passen.     \n",
    "</div>"
   ]
  },
  {
   "cell_type": "markdown",
   "metadata": {},
   "source": [
    "<div>\n",
    "    <h2>Referentielijst</h2> \n",
    "</div>"
   ]
  },
  {
   "cell_type": "markdown",
   "metadata": {},
   "source": [
    "[1] Dua, D., & Karra Taniskidou, E. (2017). UCI Machine Learning Repository [http://archive.ics.uci.edu/ml]. <br> &nbsp; &nbsp; &nbsp; &nbsp; Irvine, CA: University of California, School of Information and Computer Science.<br>\n",
    "[2] Fisher, R. A. (1936). The use of multiple measurements in taxonomic problems. *Annals of Eugenics*. 7(2), 179–188. <br> &nbsp; &nbsp; &nbsp; &nbsp; https://doi.org/10.1111/j.1469-1809.1936.tb02137.x.<br>\n",
    "[3] Radomil Binek [CC BY-SA 3.0 (https://creativecommons.org/licenses/by-sa/3.0)], via Wikimedia Commons.<br>\n",
    "[4] Danielle Langlois. No machine-readable author provided. Dlanglois assumed (based on copyright claims). <br> &nbsp; &nbsp; &nbsp; &nbsp;\n",
    "[CC BY-SA 3.0 (http://creativecommons.org/licenses/by-sa/3.0/)], via Wikimedia Commons; <br>\n",
    "[5] Frank Mayfield [CC BY-SA 2.0 (https://creativecommons.org/licenses/by-sa/2.0)], via Wikimedia Commons."
   ]
  },
  {
   "cell_type": "markdown",
   "metadata": {},
   "source": [
    "<img src=\"../.images/cclic.png\" alt=\"Banner\" align=\"left\" style=\"width:80px;\"/><br><br>\n",
    "Notebook KIKS, zie <a href=\"http://www.aiopschool.be\">AI Op School</a>, van F. wyffels & N. Gesquière is in licentie gegeven volgens een <a href=\"http://creativecommons.org/licenses/by-nc-sa/4.0/\">Creative Commons Naamsvermelding-NietCommercieel-GelijkDelen 4.0 Internationaal-licentie</a>."
   ]
  }
 ],
 "metadata": {
  "kernelspec": {
   "display_name": "Python 3",
   "language": "python",
   "name": "python3"
  },
  "language_info": {
   "codemirror_mode": {
    "name": "ipython",
    "version": 3
   },
   "file_extension": ".py",
   "mimetype": "text/x-python",
   "name": "python",
   "nbconvert_exporter": "python",
   "pygments_lexer": "ipython3",
   "version": "3.7.4"
  }
 },
 "nbformat": 4,
 "nbformat_minor": 2
}
