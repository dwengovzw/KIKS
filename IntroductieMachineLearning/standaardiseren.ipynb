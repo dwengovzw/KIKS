{
 "cells": [
  {
   "cell_type": "markdown",
   "metadata": {},
   "source": [
    "<img src=\"../.images/logosnb.png\" alt=\"Banner\" style=\"width: 800px;\"/>"
   ]
  },
  {
   "cell_type": "markdown",
   "metadata": {},
   "source": [
    "<div style='color: #690027;' markdown=\"1\">\n",
    "    <h1>STANDAARDISEREN</h1> \n",
    "</div>"
   ]
  },
  {
   "cell_type": "markdown",
   "metadata": {},
   "source": [
    "<div class=\"alert alert-box alert-success\">\n",
    "In deze notebook leer je bivariate gegevens weergeven in een puntenwolk. Je leert dat je de mate van correlatie niet altijd op het zicht kunt inschatten en waarom het standaardiseren van de gegevens in dat opzicht belangrijk is. \n",
    "</div>"
   ]
  },
  {
   "cell_type": "markdown",
   "metadata": {},
   "source": [
    "Voor deze notebook werden we geïnspireerd door het lesmateriaal 'Statistiek voor het secundair onderwijs' dat je kan vinden op de website https://www.uhasselt.be/lesmateriaal-statistiek van de Universiteit Hasselt [1][2]. Een van de voorbeelden uit [2] werd in deze notebook overgenomen met toestemming van professor Callaert (zie 2. Belang van standaardiseren). "
   ]
  },
  {
   "cell_type": "markdown",
   "metadata": {},
   "source": [
    "### De nodige modules importeren"
   ]
  },
  {
   "cell_type": "markdown",
   "metadata": {},
   "source": [
    "Om een mooie tabel  te tonen, gebruik je de module *pandas*, die speciaal ontworpen is voor het analyseren van gegevens."
   ]
  },
  {
   "cell_type": "code",
   "execution_count": null,
   "metadata": {},
   "outputs": [],
   "source": [
    "import numpy as np\n",
    "import matplotlib.pyplot as plt\n",
    "import pandas as pd"
   ]
  },
  {
   "cell_type": "markdown",
   "metadata": {},
   "source": [
    "<div style='color: #690027;' markdown=\"1\">\n",
    "    <h2>1. De Iris dataset</h2> \n",
    "</div>"
   ]
  },
  {
   "cell_type": "markdown",
   "metadata": {},
   "source": [
    "De Iris dataset werd in 1936 door de Brit Ronald Fischer gepubliceerd in 'The use of multiple measurements in taxonomic problems'. [3][4]<br> \n",
    "De dataset beteft drie soorten irissen (*Iris setosa*, *Iris virginica* en *Iris versicolor*), waarvan je er nu een zal bekijken: de *Iris virginica*."
   ]
  },
  {
   "cell_type": "markdown",
   "metadata": {},
   "source": [
    "<img src=\"../.images/IntroductieMachineLearning/Iris_virginica.jpg\" alt=\"Drawing\" style=\"width: 203px;\"/>\n",
    "<center>Figuur 1: <em>Iris virginica</em>. <br>No machine-readable author provided. Dlanglois assumed (based on copyright claims). CC BY-SA 3.0, via Wikimedia Commons.</center>"
   ]
  },
  {
   "cell_type": "markdown",
   "metadata": {},
   "source": [
    "De dataset die je zal bekijken, is als volgt opgebouwd: van elke bloem is de lengte van een kelkblad en de lengte van een bloemblad gegeven in millimeter. <br>Elk datapunt komt dus overeen met twee waarden. Men spreekt van *bivariate* gegevens.<br><br>De data zijn opgeslagen in een *csv-bestand*. Een csv-bestand is een bestand waarin de data gescheiden zijn door komma's. "
   ]
  },
  {
   "cell_type": "markdown",
   "metadata": {},
   "source": [
    "<img src=\"../.images/IntroductieMachineLearning/csv.JPG\" alt=\"Drawing\" style=\"width: 400px;\"/>\n",
    "<center>Figuur 2: Gedaante van een csv-bestand.</center>"
   ]
  },
  {
   "cell_type": "markdown",
   "metadata": {},
   "source": [
    "<div style='color: #690027;' markdown=\"1\">\n",
    "    <h3>1.1 Inlezen van de data van de <em>Iris virginica</em></h3> \n",
    "</div>"
   ]
  },
  {
   "cell_type": "markdown",
   "metadata": {},
   "source": [
    "Lees met de module pandas het csv-bestand dat de dataset bevat, in."
   ]
  },
  {
   "cell_type": "code",
   "execution_count": null,
   "metadata": {},
   "outputs": [],
   "source": [
    "virginica = pd.read_csv(\"../.data/IntroductieMachineLearning/virginica.dat\")    # in te lezen tabel heeft hoofding"
   ]
  },
  {
   "cell_type": "markdown",
   "metadata": {},
   "source": [
    "<div style='color: #690027;' markdown=\"1\">\n",
    "    <h3>1.2 Tonen van de gegevens van de <em>Iris virginica</em></h3> \n",
    "</div>"
   ]
  },
  {
   "cell_type": "markdown",
   "metadata": {},
   "source": [
    "Voer de volgende instructie uit."
   ]
  },
  {
   "cell_type": "code",
   "execution_count": null,
   "metadata": {},
   "outputs": [],
   "source": [
    "virginica"
   ]
  },
  {
   "cell_type": "markdown",
   "metadata": {},
   "source": [
    "### Opdracht 1.2.1\n",
    "Hoeveel bloemen zitten er in de dataset?\n",
    "<br><br>Antwoord:"
   ]
  },
  {
   "cell_type": "markdown",
   "metadata": {},
   "source": [
    "Bepaal het kortste en het langste kelkblad door de volgende instructie uit te voeren."
   ]
  },
  {
   "cell_type": "code",
   "execution_count": null,
   "metadata": {},
   "outputs": [],
   "source": [
    "min(virginica[\"lengte kelkblad\"]), max(virginica[\"lengte kelkblad\"])"
   ]
  },
  {
   "cell_type": "markdown",
   "metadata": {},
   "source": [
    "### Opdracht 1.2.2\n",
    "Welk type heeft het object dat net werd afgedrukt?<br><br>\n",
    "Antwoord:"
   ]
  },
  {
   "cell_type": "markdown",
   "metadata": {},
   "source": [
    "### Opdracht 1.2.3\n",
    "Bepaal het kortste en het langste bloemblad."
   ]
  },
  {
   "cell_type": "code",
   "execution_count": null,
   "metadata": {},
   "outputs": [],
   "source": []
  },
  {
   "cell_type": "markdown",
   "metadata": {},
   "source": [
    "### Opdracht 1.2.4\n",
    "Voer de instructie uit en beantwoord de volgende vragen:\n",
    "- hoeveel gegevenskolommen telt de tabel?\n",
    "- welk type hebben de getallen in de gegevenskolommen? \n",
    "\n",
    "Antwoorden:"
   ]
  },
  {
   "cell_type": "code",
   "execution_count": null,
   "metadata": {},
   "outputs": [],
   "source": [
    "virginica.info()"
   ]
  },
  {
   "cell_type": "markdown",
   "metadata": {},
   "source": [
    "<div style='color: #690027;' markdown=\"1\">\n",
    "    <h3>1.3 De data weergeven in een puntenwolk</h3> \n",
    "</div>"
   ]
  },
  {
   "cell_type": "markdown",
   "metadata": {},
   "source": [
    "Met de functie `scatter()` van de module Matplotlib kan je een grafiek met een puntenwolk genereren.<br>\n",
    "Voer het script uit."
   ]
  },
  {
   "cell_type": "code",
   "execution_count": null,
   "metadata": {},
   "outputs": [],
   "source": [
    "x1 = virginica[\"lengte kelkblad\"]       # naam kolom als index gebruiken\n",
    "y1 = virginica[\"lengte bloemblad\"]\n",
    "\n",
    "plt.scatter(x1, y1, color=\"purple\", marker=\"o\")\n",
    "\n",
    "plt.title(\"Iris virginica\")\n",
    "plt.xlabel(\"lengte kelkblad (mm)\")\n",
    "plt.ylabel(\"lengte bloemblad (mm)\")\n",
    "plt.xlim(4, 8)\n",
    "plt.ylim(4, 8)\n",
    "\n",
    "plt.show()"
   ]
  },
  {
   "cell_type": "markdown",
   "metadata": {},
   "source": [
    "### Opdracht 1.3.1\n",
    "Pas het bereik op de x-as en de y-as aan en kijk welk effect dat heeft op de puntenwolk. <bR>Gebruik daarvoor het hieronder gekopieerde script. "
   ]
  },
  {
   "cell_type": "code",
   "execution_count": null,
   "metadata": {},
   "outputs": [],
   "source": [
    "x1 = virginica[\"lengte kelkblad\"]       # naam kolom als index gebruiken\n",
    "y1 = virginica[\"lengte bloemblad\"]\n",
    "\n",
    "plt.scatter(x1, y1, color=\"purple\", marker=\"o\")\n",
    "\n",
    "plt.title(\"Iris virginica\")\n",
    "plt.xlabel(\"lengte kelkblad (mm)\")\n",
    "plt.ylabel(\"lengte bloemblad (mm)\")\n",
    "plt.xlim(4.9, 8)\n",
    "plt.ylim(4.5, 6.9)\n",
    "\n",
    "plt.show()"
   ]
  },
  {
   "cell_type": "markdown",
   "metadata": {},
   "source": [
    "### Opdracht 1.3.2\n",
    "Welke bewering is juist? Meerdere juiste beweringen zijn mogelijk.<br>\n",
    "- A. Het bereik van de x-as en de y-as hebben geen invloed op de puntenwolk. \n",
    "- B. Een groot bereik van de x-as en de y-as tonen een grote puntenwolk.\n",
    "- C. Het bereik van de x-as en de y-as beïnvloeden hoe je de mate van samenhang tussen de lengte van een kelkblad en een bloemblad inschat. \n",
    "- D. Een groot bereik van de x-as en de y-as tonen een kleine puntenwolk.\n",
    "\n",
    "\n",
    "Antwoord:"
   ]
  },
  {
   "cell_type": "markdown",
   "metadata": {},
   "source": [
    "De puntenwolk ziet er *ellipsvormig* uit.<br> Men spreekt dan van *lineaire samenhang*: je zou dan een rechte kunnen vinden die vrij goed bij de data past. Hoe sterker de samenhang tussen de punten, hoe beter de rechte bij de data zal passen. "
   ]
  },
  {
   "cell_type": "markdown",
   "metadata": {},
   "source": [
    "In hoeverre er samenhang is tussen de x- en y- coördinaat van de gegeven punten, kan bekeken worden a.d.h.v. de *correlatiecoëfficiënt R*."
   ]
  },
  {
   "cell_type": "markdown",
   "metadata": {},
   "source": [
    "<div style='color: #690027;' markdown=\"1\">\n",
    "    <h3>1.4 De correlatiecoëfficiënt</h3> \n",
    "</div>"
   ]
  },
  {
   "cell_type": "markdown",
   "metadata": {},
   "source": [
    "De correlatiecoëfficiënt R ligt steeds tussen -1 en 1. Hoe dichter R bij 0 ligt, hoe slechter de samenhang. <br>\n",
    "Bij een positieve R spreekt men van een positieve samenhang, bij een negatieve R van een negatieve samenhang. <br>"
   ]
  },
  {
   "cell_type": "code",
   "execution_count": null,
   "metadata": {},
   "outputs": [],
   "source": [
    "print(\"Correlatiecoëfficiënt R =\", np.corrcoef(x1, y1)[0,1])"
   ]
  },
  {
   "cell_type": "markdown",
   "metadata": {},
   "source": [
    "Dit wijst op een *positieve sterke lineaire samenhang*. "
   ]
  },
  {
   "cell_type": "markdown",
   "metadata": {},
   "source": [
    "### Opdracht 1.4.1\n",
    "Welke bewering is juist?<br>\n",
    "- A. Hoe langer het kelkblad, hoe korter het bloemblad.\n",
    "- B. Hoe langer het kelkblad, hoe langer het bloemblad.\n",
    "\n",
    "Antwoord:"
   ]
  },
  {
   "cell_type": "markdown",
   "metadata": {},
   "source": [
    "Rechtstreeks op een figuur schatten hoe sterk de lineaire samenhang is, is niet zo eenvoudig."
   ]
  },
  {
   "cell_type": "markdown",
   "metadata": {},
   "source": [
    "<div class=\"alert alert-box alert-info\">\n",
    "Het is niet vanzelfsprekend om de correlatie tussen gegevens in te schatten louter afgaand op de puntenwolk. Een betere houvast is de correlatiecoëfficiënt. \n",
    "</div>"
   ]
  },
  {
   "cell_type": "markdown",
   "metadata": {},
   "source": [
    "<div style='color: #690027;' markdown=\"1\">\n",
    "    <h2>2. Belang van standaardiseren</h2> \n",
    "</div>"
   ]
  },
  {
   "cell_type": "markdown",
   "metadata": {},
   "source": [
    "In wat volgt zul je drie puntenwolken met elkaar vergelijken en inschatten welke data de beste correlatie vertonen.<br><br>\n",
    "Lotte, Robbe en Kato krijgen elk een aantal bloemblaadjes waarvan ze de lengte en de breedte moeten opmeten in millimeter. <br>\n",
    "Ze lijsten hun meetresultaten op in respectievelijk tabel1, tabel2 en tabel3.<br>\n",
    "Vervolgens representeren ze de bivariate gegevens met een puntenwolk. "
   ]
  },
  {
   "cell_type": "markdown",
   "metadata": {},
   "source": [
    "<div style='color: #690027;' markdown=\"1\">\n",
    "    <h3>2.1 Inlezen van de data</h3> \n",
    "</div>"
   ]
  },
  {
   "cell_type": "markdown",
   "metadata": {},
   "source": [
    "Lees met de module pandas de datasets in."
   ]
  },
  {
   "cell_type": "code",
   "execution_count": null,
   "metadata": {},
   "outputs": [],
   "source": [
    "tabel1 = pd.read_csv(\"../.data/IntroductieMachineLearning/datastandaard1.dat\", header=None)  # in te lezen tabel heeft geen hoofding\n",
    "tabel2 = pd.read_csv(\"../.data/IntroductieMachineLearning/datastandaard2.dat\", header=None)  # in te lezen tabel heeft geen hoofding\n",
    "tabel3 = pd.read_csv(\"../.data/IntroductieMachineLearning/datastandaard3.dat\", header=None)  # in te lezen tabel heeft geen hoofding"
   ]
  },
  {
   "cell_type": "markdown",
   "metadata": {},
   "source": [
    "<div style='color: #690027;' markdown=\"1\">\n",
    "    <h3>2.2 Tonen van de ingelezen data</h2> \n",
    "</div>"
   ]
  },
  {
   "cell_type": "markdown",
   "metadata": {},
   "source": [
    "### Opdracht 2.2.1\n",
    "Kijk de gegevens  van de drie tabellen in. "
   ]
  },
  {
   "cell_type": "code",
   "execution_count": null,
   "metadata": {},
   "outputs": [],
   "source": []
  },
  {
   "cell_type": "code",
   "execution_count": null,
   "metadata": {},
   "outputs": [],
   "source": []
  },
  {
   "cell_type": "code",
   "execution_count": null,
   "metadata": {},
   "outputs": [],
   "source": []
  },
  {
   "cell_type": "markdown",
   "metadata": {},
   "source": [
    "### Opdracht 2.2.2\n",
    "Geef de juiste instructie in om info te verkrijgen over de tweede tabel. <br>\n",
    "- Wat zijn de namen van de kolommen?\n",
    "- Hoeveel bloemblaadjes heeft Robbe opgemeten?\n",
    "\n",
    "Antwoord:"
   ]
  },
  {
   "cell_type": "code",
   "execution_count": null,
   "metadata": {},
   "outputs": [],
   "source": []
  },
  {
   "cell_type": "markdown",
   "metadata": {},
   "source": [
    "<div style='color: #690027;' markdown=\"1\">\n",
    "    <h3>2.3 De data weergeven in puntenwolk</h3> \n",
    "</div>"
   ]
  },
  {
   "cell_type": "code",
   "execution_count": null,
   "metadata": {},
   "outputs": [],
   "source": [
    "# tabel1\n",
    "x1 = tabel1[0]\n",
    "y1 = tabel1[1]\n",
    "\n",
    "plt.scatter(x1, y1, color=\"red\", marker=\"o\")\n",
    "\n",
    "plt.title(\"Tabel1 Lotte\")\n",
    "plt.xlabel(\"breedte bloemblad (mm)\")\n",
    "plt.ylabel(\"lengte bloemblad (mm)\")\n",
    "plt.xlim(0, 45)\n",
    "plt.ylim(0, 45)\n",
    "\n",
    "plt.show()"
   ]
  },
  {
   "cell_type": "code",
   "execution_count": null,
   "metadata": {},
   "outputs": [],
   "source": [
    "# tabel2\n",
    "x2 = tabel2[0]\n",
    "y2 = tabel2[1]\n",
    "\n",
    "plt.scatter(x2, y2, color=\"yellow\", marker=\">\")   \n",
    "\n",
    "plt.title(\"Tabel2 Robbe\")\n",
    "plt.xlabel(\"breedte bloemblad (mm)\")\n",
    "plt.ylabel(\"lengte bloemblad (mm)\")\n",
    "plt.xlim(0, 45)\n",
    "plt.ylim(0, 45)\n",
    "\n",
    "plt.show()"
   ]
  },
  {
   "cell_type": "code",
   "execution_count": null,
   "metadata": {},
   "outputs": [],
   "source": [
    "# tabel3\n",
    "x3 = tabel3[0]\n",
    "y3 = tabel3[1]\n",
    "\n",
    "plt.scatter(x3, y3, color=\"lightblue\", marker=\"<\")    \n",
    "\n",
    "plt.title(\"Tabel 3 Kato\")\n",
    "plt.xlabel(\"breedte bloemblad (mm)\")\n",
    "plt.ylabel(\"lengte bloemblad (mm)\")\n",
    "plt.xlim(0, 45)\n",
    "plt.ylim(0, 45)\n",
    "\n",
    "plt.show()"
   ]
  },
  {
   "cell_type": "markdown",
   "metadata": {},
   "source": [
    "Bij welke tabel is er de beste samenhang?"
   ]
  },
  {
   "cell_type": "markdown",
   "metadata": {},
   "source": [
    "Op het eerste gezicht bij tabel ......."
   ]
  },
  {
   "cell_type": "markdown",
   "metadata": {},
   "source": [
    "<div style='color: #690027;' markdown=\"1\">\n",
    "    <h3>2.4 Correlatie</h3> \n",
    "</div>"
   ]
  },
  {
   "cell_type": "markdown",
   "metadata": {},
   "source": [
    "Vergelijk de correlatiecoëfficiënten van de drie tabellen. Vul eerst de instructies in de code-cel aan."
   ]
  },
  {
   "cell_type": "code",
   "execution_count": null,
   "metadata": {},
   "outputs": [],
   "source": [
    "print(\"R van de eerste tabel =\",                  )\n",
    "print(\"R van de tweede\n",
    "print(\"R van de derde "
   ]
  },
  {
   "cell_type": "markdown",
   "metadata": {},
   "source": [
    "<div style='color: #690027;' markdown=\"1\">\n",
    "    <h3>2.5 Standaardiseren</h3> \n",
    "</div>"
   ]
  },
  {
   "cell_type": "markdown",
   "metadata": {},
   "source": [
    "De gegevens kunnen maar vergeleken worden als ze gestandaardiseerd zijn. Je berekent daarvoor de *Z-score* van de gegevens: je trekt het gemiddelde af en je deelt vervolgens door de standaardafwijking. "
   ]
  },
  {
   "cell_type": "code",
   "execution_count": null,
   "metadata": {},
   "outputs": [],
   "source": [
    "x1 = (x1-np.mean(x1))/np.std(x1)\n",
    "y1 = (y1-np.mean(y1))/np.std(y1)\n",
    "x2 = (x2-np.mean(x2))/np.std(x2)\n",
    "y2 = (y2-np.mean(y2))/np.std(y2)\n",
    "x3 = (x3-np.mean(x3))/np.std(x3)\n",
    "y3 = (y3-np.mean(y3))/np.std(y3)"
   ]
  },
  {
   "cell_type": "markdown",
   "metadata": {},
   "source": [
    "Je kunt nu de puntenwolken tekenen die corresponderen met deze aangepaste gegevens."
   ]
  },
  {
   "cell_type": "code",
   "execution_count": null,
   "metadata": {},
   "outputs": [],
   "source": [
    "# gestandaardiseerde puntenwolk\n",
    "plt.scatter(x1, y1, color=\"red\", marker=\"o\")      \n",
    "plt.scatter(x2, y2, color=\"yellow\", marker=\">\")\n",
    "plt.scatter(x3, y3, color=\"lightblue\", marker=\"<\")\n",
    "\n",
    "plt.title(\"Gestandaardiseerd\")\n",
    "plt.xlabel(\"breedte bloemblad (mm)\")\n",
    "plt.ylabel(\"lengte bloemblad (mm)\")\n",
    "plt.xlim(-2, 2)\n",
    "plt.ylim(-2, 2)\n",
    "\n",
    "plt.show()"
   ]
  },
  {
   "cell_type": "markdown",
   "metadata": {},
   "source": [
    "De correlatie is nagenoeg dezelfde voor alle drie de tabellen. Na standaardisatie vallen de punten quasi samen.<br>"
   ]
  },
  {
   "cell_type": "markdown",
   "metadata": {},
   "source": [
    "Meer uitleg over deze begrippen kan je vinden in de cursus 'Correlatie: exploratieve methoden: werktekst voor de leerling'. [1] "
   ]
  },
  {
   "cell_type": "markdown",
   "metadata": {},
   "source": [
    "<div class=\"alert alert-box alert-info\">\n",
    "De correlatie van meerdere datasets met elkaar vergelijken, gaat het best als je de gegevens eerst hebt gestandaardiseerd. Het standaardiseren heeft trouwens geen effect op de waarde van de correlatiecoëfficiënt.<br>De correlatie tussen <b>bivariate gegevens</b> bv. kan men visueel inschatten door de overeenkomstige <b>puntenwolk</b> te bekijken. De vorm hiervan is echter maar betrouwbaar als de gegevens gestandaardiseerd zijn. <br>\n",
    "<b>Standaardiseren</b> van variabelen houdt in dat men de variabelen op zo'n manier herschaalt dat men variabelen van bv. een verschillende grootteorde of in een verschillende eenheid met elkaar kan vergelijken of in verband brengen. \n",
    "</div>"
   ]
  },
  {
   "cell_type": "markdown",
   "metadata": {},
   "source": [
    "<div class=\"alert alert-box alert-info\">\n",
    "Na standaardisatie liggen de meeste waarden tussen 0 en 1, wat voordelig is voor het rekenen door de computer.<br>\n",
    "Rekenen met vrij grote getallen leidt al snel tot nog grotere getallen en tot numerieke instabiliteit, dat is een bijkomende reden waarom de data worden gestandaardiseerd. <br>Ook zijn sommige algoritmes uit Machinaal Leren pas bruikbaar als de data gestandaardiseerd zijn, omdat die algoritmes zo opgesteld zijn.\n",
    "</div>"
   ]
  },
  {
   "cell_type": "markdown",
   "metadata": {},
   "source": [
    "<div>\n",
    "    <h2>Referentielijst</h2> \n",
    "</div>"
   ]
  },
  {
   "cell_type": "markdown",
   "metadata": {},
   "source": [
    "[1] Callaert, H., Bekaert, H., Goethals, C., Provoost, L., & Vancaudenberg, M. (2012). Correlatie: exploratieve methoden: werktekst voor de leerling.<br> &nbsp; &nbsp; &nbsp; &nbsp; *Statistiek voor het secundair onderwijs.* Universiteit Hasselt. Geraadpleegd op 15 april 2019 via <br> &nbsp; &nbsp; &nbsp; &nbsp; https://www.uhasselt.be/documents/uhasselt@school/lesmateriaal/statistiek/Lesmateriaal/LEERLING%20Correlatie_02.pdf.<br>\n",
    "[2] Callaert, H.,& Bogaerts, S. (2004). Statistische Intelligentie: de samenhang ontdekken: exploratie van bivariaat cijfermateriaal. Universiteit Hasselt. <br> &nbsp; &nbsp; &nbsp; &nbsp; Geraadpleegd op 15 april 2019 via https://docplayer.nl/32671814-Statistische-intelligentie.html.<br>\n",
    "[3] Dua, D., & Karra Taniskidou, E. (2017). UCI Machine Learning Repository [http://archive.ics.uci.edu/ml]. <br> &nbsp; &nbsp; &nbsp; &nbsp; Irvine, CA: University of California, School of Information and Computer Science.<br>\n",
    "[4] Fisher, R. A. (1936). The use of multiple measurements in taxonomic problems. *Annals of Eugenics*. 7(2), 179–188. <br> &nbsp; &nbsp; &nbsp; &nbsp; https://doi.org/10.1111/j.1469-1809.1936.tb02137.x."
   ]
  },
  {
   "cell_type": "markdown",
   "metadata": {},
   "source": [
    "<img src=\"../.images/cclic.png\" alt=\"Banner\" align=\"left\" style=\"width:80px;\"/><br><br>\n",
    "Notebook KIKS, zie <a href=\"http://www.aiopschool.be\">ai op school</a>, van F. wyffels & N. Gesquière is in licentie gegeven volgens een <a href=\"http://creativecommons.org/licenses/by-nc-sa/4.0/\">Creative Commons Naamsvermelding-NietCommercieel-GelijkDelen 4.0 Internationaal-licentie</a>."
   ]
  }
 ],
 "metadata": {
  "kernelspec": {
   "display_name": "Python 3",
   "language": "python",
   "name": "python3"
  },
  "language_info": {
   "codemirror_mode": {
    "name": "ipython",
    "version": 3
   },
   "file_extension": ".py",
   "mimetype": "text/x-python",
   "name": "python",
   "nbconvert_exporter": "python",
   "pygments_lexer": "ipython3",
   "version": "3.6.4"
  }
 },
 "nbformat": 4,
 "nbformat_minor": 2
}
