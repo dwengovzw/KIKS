{
 "cells": [
  {
   "cell_type": "markdown",
   "metadata": {},
   "source": [
    "<img src=\"../.images/logosnb.png\" alt=\"Banner\" style=\"width:1100px;\"/>"
   ]
  },
  {
   "cell_type": "markdown",
   "metadata": {},
   "source": [
    "<div style='color: #690027;' markdown=\"1\">\n",
    "    <h1>REGRESSIE MET DATA VAN DE MORTERATSCHGLETSJER</h1> \n",
    "</div>"
   ]
  },
  {
   "cell_type": "markdown",
   "metadata": {},
   "source": [
    "<div class=\"alert alert-box alert-success\">\n",
    "In deze notebook leer je een puntenwolk maken van data uit een <em>csv-bestand</em>. Je leert ook hoe je met de ingebouwde functies in de Python-module scikit-learn de regressielijn kunt bepalen.\n",
    "</div>"
   ]
  },
  {
   "cell_type": "markdown",
   "metadata": {},
   "source": [
    "Sinds de industriële revolutie is de concentratie broeikasgassen in de atmosfeer stelselmatig toegenomen. Sinds 1880 is de gemiddelde globale temperatuur ongeveer met 0,85 °C gestegen. Deze opwarming gaat gepaard met een opwarming van de oceanen, een stijging van het zeeniveau met 20 cm, het meer voorkomen van extreme weersomstandigheden en een afname van 40 % van het Arctische zee-ijs. Ook het gletsjerijs smelt, bijna overal ter wereld.<br><br>\n",
    "Het smeltwater afkomstig van gebergtegletsjers zal in belangrijke mate bepalen hoeveel het zeeniveau in de toekomst zal stijgen. Mogelijke scenario's spreken van een stijging tot 30 cm door het afsmelten van de gebergtegletsjers. <br>\n",
    "Bovendien hebben gletsjers een impact op lokale watervoorraden en zijn ze belangrijk voor het toerisme.<br>\n",
    "De snelheid waarmee het volume van een gletsjer afneemt o.i.v. de globale temperatuurstijging verschilt van gletsjer tot gletsjer. Lokale factoren spelen hierin immers een rol: bv. de oriëntatie van de gletsjer, de mate waarin de gletsjer in de schaduw ligt ... [1]. "
   ]
  },
  {
   "cell_type": "markdown",
   "metadata": {},
   "source": [
    "De 6 km lange Morteratschgletsjer bevindt zich in Zwitserland en ligt een groot deel van het jaar in de schaduw van de omringende bergtoppen [1]. "
   ]
  },
  {
   "cell_type": "markdown",
   "metadata": {},
   "source": [
    "<img src=\"../.images/IntroductiePython/Morteratsch2018_lvt.JPG\" alt=\"Banner\" style=\"width:600px;\"/>\n",
    "<center> Foto: Morteratsch 2018, &copy; Lander Van Tricht.</center>"
   ]
  },
  {
   "cell_type": "markdown",
   "metadata": {},
   "source": [
    "Lander Van Tricht (VUB) verschafte ons data van zijn onderzoek naar hoe de Morteratschgletsjer evolueert. Sinds 1880 werd geregistreerd hoeveel meter de gletsjer jaarlijks terugtrekt [2]. "
   ]
  },
  {
   "cell_type": "markdown",
   "metadata": {},
   "source": [
    "### De nodige modules importeren"
   ]
  },
  {
   "cell_type": "code",
   "execution_count": 1,
   "metadata": {},
   "outputs": [],
   "source": [
    "import pandas as pd\n",
    "\n",
    "import matplotlib.pyplot as plt\n",
    "import numpy as np\n",
    "\n",
    "from sklearn.linear_model import LinearRegression\n",
    "from sklearn.metrics import r2_score\n",
    "from sklearn.metrics import mean_squared_error"
   ]
  },
  {
   "cell_type": "markdown",
   "metadata": {},
   "source": [
    "<div style='color: #690027;' markdown=\"1\">\n",
    "    <h2>1. Inlezen van de data</h2> \n",
    "</div>"
   ]
  },
  {
   "cell_type": "code",
   "execution_count": 2,
   "metadata": {},
   "outputs": [],
   "source": [
    "morteratsch = pd.read_csv(\"../.data/IntroductieMachineLearning/Morteratsch.dat\")"
   ]
  },
  {
   "cell_type": "code",
   "execution_count": 3,
   "metadata": {},
   "outputs": [
    {
     "data": {
      "text/html": [
       "<div>\n",
       "<style scoped>\n",
       "    .dataframe tbody tr th:only-of-type {\n",
       "        vertical-align: middle;\n",
       "    }\n",
       "\n",
       "    .dataframe tbody tr th {\n",
       "        vertical-align: top;\n",
       "    }\n",
       "\n",
       "    .dataframe thead th {\n",
       "        text-align: right;\n",
       "    }\n",
       "</style>\n",
       "<table border=\"1\" class=\"dataframe\">\n",
       "  <thead>\n",
       "    <tr style=\"text-align: right;\">\n",
       "      <th></th>\n",
       "      <th>gletsjer</th>\n",
       "      <th>jaartal</th>\n",
       "      <th>terugtrekking (m)</th>\n",
       "    </tr>\n",
       "  </thead>\n",
       "  <tbody>\n",
       "    <tr>\n",
       "      <th>0</th>\n",
       "      <td>MORTERATSCH</td>\n",
       "      <td>1880</td>\n",
       "      <td>100</td>\n",
       "    </tr>\n",
       "    <tr>\n",
       "      <th>1</th>\n",
       "      <td>MORTERATSCH</td>\n",
       "      <td>1881</td>\n",
       "      <td>41</td>\n",
       "    </tr>\n",
       "    <tr>\n",
       "      <th>2</th>\n",
       "      <td>MORTERATSCH</td>\n",
       "      <td>1883</td>\n",
       "      <td>16</td>\n",
       "    </tr>\n",
       "    <tr>\n",
       "      <th>3</th>\n",
       "      <td>MORTERATSCH</td>\n",
       "      <td>1885</td>\n",
       "      <td>24</td>\n",
       "    </tr>\n",
       "    <tr>\n",
       "      <th>4</th>\n",
       "      <td>MORTERATSCH</td>\n",
       "      <td>1886</td>\n",
       "      <td>12</td>\n",
       "    </tr>\n",
       "  </tbody>\n",
       "</table>\n",
       "</div>"
      ],
      "text/plain": [
       "      gletsjer  jaartal  terugtrekking (m)\n",
       "0  MORTERATSCH     1880                100\n",
       "1  MORTERATSCH     1881                 41\n",
       "2  MORTERATSCH     1883                 16\n",
       "3  MORTERATSCH     1885                 24\n",
       "4  MORTERATSCH     1886                 12"
      ]
     },
     "execution_count": 3,
     "metadata": {},
     "output_type": "execute_result"
    }
   ],
   "source": [
    "morteratsch.head()       # begin van tabel"
   ]
  },
  {
   "cell_type": "code",
   "execution_count": 4,
   "metadata": {},
   "outputs": [
    {
     "data": {
      "text/html": [
       "<div>\n",
       "<style scoped>\n",
       "    .dataframe tbody tr th:only-of-type {\n",
       "        vertical-align: middle;\n",
       "    }\n",
       "\n",
       "    .dataframe tbody tr th {\n",
       "        vertical-align: top;\n",
       "    }\n",
       "\n",
       "    .dataframe thead th {\n",
       "        text-align: right;\n",
       "    }\n",
       "</style>\n",
       "<table border=\"1\" class=\"dataframe\">\n",
       "  <thead>\n",
       "    <tr style=\"text-align: right;\">\n",
       "      <th></th>\n",
       "      <th>gletsjer</th>\n",
       "      <th>jaartal</th>\n",
       "      <th>terugtrekking (m)</th>\n",
       "    </tr>\n",
       "  </thead>\n",
       "  <tbody>\n",
       "    <tr>\n",
       "      <th>126</th>\n",
       "      <td>MORTERATSCH</td>\n",
       "      <td>2014</td>\n",
       "      <td>22</td>\n",
       "    </tr>\n",
       "    <tr>\n",
       "      <th>127</th>\n",
       "      <td>MORTERATSCH</td>\n",
       "      <td>2015</td>\n",
       "      <td>164</td>\n",
       "    </tr>\n",
       "    <tr>\n",
       "      <th>128</th>\n",
       "      <td>MORTERATSCH</td>\n",
       "      <td>2016</td>\n",
       "      <td>70</td>\n",
       "    </tr>\n",
       "    <tr>\n",
       "      <th>129</th>\n",
       "      <td>MORTERATSCH</td>\n",
       "      <td>2017</td>\n",
       "      <td>70</td>\n",
       "    </tr>\n",
       "    <tr>\n",
       "      <th>130</th>\n",
       "      <td>MORTERATSCH</td>\n",
       "      <td>2018</td>\n",
       "      <td>135</td>\n",
       "    </tr>\n",
       "  </tbody>\n",
       "</table>\n",
       "</div>"
      ],
      "text/plain": [
       "        gletsjer  jaartal  terugtrekking (m)\n",
       "126  MORTERATSCH     2014                 22\n",
       "127  MORTERATSCH     2015                164\n",
       "128  MORTERATSCH     2016                 70\n",
       "129  MORTERATSCH     2017                 70\n",
       "130  MORTERATSCH     2018                135"
      ]
     },
     "execution_count": 4,
     "metadata": {},
     "output_type": "execute_result"
    }
   ],
   "source": [
    "morteratsch.tail()"
   ]
  },
  {
   "cell_type": "code",
   "execution_count": 5,
   "metadata": {},
   "outputs": [],
   "source": [
    "# tabel met 131 rijen en 3 kolommen\n",
    "# eerste kolom bevat naam van de gletsjer\n",
    "# tweede kolom komt overeen met jaartal van de meting, derde met terugtrekking van de gletsjer in meter\n",
    "# je werkt met tweede en derde kolom van de tabel"
   ]
  },
  {
   "cell_type": "code",
   "execution_count": 6,
   "metadata": {},
   "outputs": [],
   "source": [
    "x = morteratsch[\"jaartal\"]    # hoofding van kolom \"jaar\" speelt rol van index\n",
    "y = morteratsch[\"terugtrekking (m)\"]"
   ]
  },
  {
   "cell_type": "code",
   "execution_count": 7,
   "metadata": {},
   "outputs": [
    {
     "name": "stdout",
     "output_type": "stream",
     "text": [
      "[1880 1881 1883 1885 1886 1887 1888 1889 1890 1891 1892 1893 1895 1897\n",
      " 1898 1899 1900 1901 1902 1903 1904 1905 1906 1907 1908 1909 1910 1911\n",
      " 1912 1913 1916 1917 1918 1919 1920 1921 1922 1923 1924 1925 1926 1927\n",
      " 1928 1929 1930 1931 1932 1933 1934 1935 1936 1937 1938 1939 1940 1941\n",
      " 1942 1943 1944 1945 1946 1947 1948 1949 1950 1951 1953 1954 1955 1956\n",
      " 1957 1958 1959 1960 1961 1962 1963 1964 1965 1966 1967 1968 1969 1970\n",
      " 1971 1972 1973 1974 1975 1976 1977 1978 1979 1981 1982 1983 1984 1985\n",
      " 1986 1987 1988 1989 1990 1991 1992 1993 1994 1995 1996 1997 1998 1999\n",
      " 2000 2001 2002 2003 2004 2005 2006 2007 2008 2009 2010 2011 2012 2013\n",
      " 2014 2015 2016 2017 2018]\n",
      "[100  41  16  24  12  20  38  14  18  18  10  24  12  37  12  -2   5   9\n",
      "   8   6   6   0   3   7  20  30   9  20  -5  10  12   6  10   5  16   6\n",
      "   9  10  12   6   9   9   8  11  11  12  15   4  15  14   7  12  26  34\n",
      "  42  22  22  20  34  22  20  48  12  19  20  26  48  36  16  20  31  46\n",
      "  39  35  33  45  38  44  38  41  31   5   8  24   4  12  12  14  16  27\n",
      "   5   5  23  56   2  10   5  -8   6   9  -2   7  11   5   6  24  12  24\n",
      "  26  11   7  39  30  26  30  77 -10  22  33  19  35  33  51  45  82  22\n",
      "  22 164  70  70 135]\n"
     ]
    }
   ],
   "source": [
    "# data omzetten naar geschikt formaat voor machine learning\n",
    "x = np.array(x)\n",
    "y = np.array(y)\n",
    "print(x)\n",
    "print(y)"
   ]
  },
  {
   "cell_type": "markdown",
   "metadata": {},
   "source": [
    "<div style='color: #690027;' markdown=\"1\">\n",
    "    <h2>2. Data weergeven in puntenwolk</h2> \n",
    "</div>"
   ]
  },
  {
   "cell_type": "code",
   "execution_count": 8,
   "metadata": {},
   "outputs": [
    {
     "data": {
      "image/png": "[encoded data removed]",
      "text/plain": [
       "<matplotlib.figure.Figure at 0x18de8dfa278>"
      ]
     },
     "metadata": {},
     "output_type": "display_data"
    }
   ],
   "source": [
    "plt.figure(figsize=(15,12))    # om een grotere grafiek te krijgen, zodat punten meer verspreid\n",
    "\n",
    "plt.scatter(x, y, color=\"blue\", marker=\"o\")\n",
    "\n",
    "plt.xlim(1870, 2070)\n",
    "plt.ylim(-20, 250)\n",
    "plt.title(\"Terugtrekking gletsjer Morteratsch\")\n",
    "plt.xlabel(\"jaartal\")\n",
    "plt.ylabel(\"terugtrekking in m\")\n",
    "\n",
    "plt.show()"
   ]
  },
  {
   "cell_type": "markdown",
   "metadata": {},
   "source": [
    "De data van de laatste jaren wijkt af van de trend. De gletsjer is veel meer teruggetrokken dan in de jaren ervoor. <br>\n",
    "In 1880 was de gletsjer ook fel teruggetrokken. Is dat toen ook enkele jaren op rij zo geweest?"
   ]
  },
  {
   "cell_type": "markdown",
   "metadata": {},
   "source": [
    "Antwoord:"
   ]
  },
  {
   "cell_type": "markdown",
   "metadata": {},
   "source": [
    "<div style='color: #690027;' markdown=\"1\">\n",
    "    <h2>3. Samenhang tussen jaartal en terugtrekking?</h2> \n",
    "</div>"
   ]
  },
  {
   "cell_type": "code",
   "execution_count": 9,
   "metadata": {},
   "outputs": [
    {
     "data": {
      "text/plain": [
       "0.30264286815987407"
      ]
     },
     "execution_count": 9,
     "metadata": {},
     "output_type": "execute_result"
    }
   ],
   "source": [
    "# in hoeverre is er een verband tussen jaartal en terugtrekking van de gletsjer? \n",
    "# correlatiecoëfficiënt bepalen (ligt tussen -1 en 1, hoe dichter bij 0, hoe slechter de samenhang)\n",
    "np.corrcoef(x, y)[0,1]"
   ]
  },
  {
   "cell_type": "markdown",
   "metadata": {},
   "source": [
    "Wat is juist: zwakke/matige/sterke positieve/negatieve samenhang?\n",
    "\n",
    "Antwoord:"
   ]
  },
  {
   "cell_type": "markdown",
   "metadata": {},
   "source": [
    "<div class=\"alert alert-block alert-warning\"> \n",
    "Meer uitleg over de correlatiecoëfficiënt vind je in de notebook 'Standaardiseren'.\n",
    "</div>"
   ]
  },
  {
   "cell_type": "markdown",
   "metadata": {},
   "source": [
    "<div style='color: #690027;' markdown=\"1\">\n",
    "    <h2>4. Onderzoek naar trend terugtrekking van de gletsjer met training- en testdata</h2> \n",
    "</div>"
   ]
  },
  {
   "cell_type": "markdown",
   "metadata": {},
   "source": [
    "<div style='color: #690027;' markdown=\"1\">\n",
    "    <h3>4.1 Trainingdata en testdata</h3> \n",
    "</div>"
   ]
  },
  {
   "cell_type": "markdown",
   "metadata": {},
   "source": [
    "We splitsen de data op in trainingdata en testdata.<br> *De trainingdata worden gebruikt om een wiskundig model op te stellen. <br>Met de testdata wordt nagegaan of het model goed omgaat met nieuwe data.* Omdat tijd hier een rol speelt, worden de laatste data als testdata gebruikt. Men wil immers nagaan of het model generaliseert naar de toekomst toe. "
   ]
  },
  {
   "cell_type": "code",
   "execution_count": 10,
   "metadata": {},
   "outputs": [
    {
     "name": "stdout",
     "output_type": "stream",
     "text": [
      "[1880 1881 1883 1885 1886 1887 1888 1889 1890 1891 1892 1893 1895 1897\n",
      " 1898 1899 1900 1901 1902 1903 1904 1905 1906 1907 1908 1909 1910 1911\n",
      " 1912 1913 1916 1917 1918 1919 1920 1921 1922 1923 1924 1925 1926 1927\n",
      " 1928 1929 1930 1931 1932 1933 1934 1935 1936 1937 1938 1939 1940 1941\n",
      " 1942 1943 1944 1945 1946 1947 1948 1949 1950 1951 1953 1954 1955 1956\n",
      " 1957 1958 1959 1960 1961 1962 1963 1964 1965 1966 1967 1968 1969 1970\n",
      " 1971 1972 1973 1974 1975 1976 1977 1978 1979 1981 1982 1983 1984 1985\n",
      " 1986 1987 1988]\n",
      "[100  41  16  24  12  20  38  14  18  18  10  24  12  37  12  -2   5   9\n",
      "   8   6   6   0   3   7  20  30   9  20  -5  10  12   6  10   5  16   6\n",
      "   9  10  12   6   9   9   8  11  11  12  15   4  15  14   7  12  26  34\n",
      "  42  22  22  20  34  22  20  48  12  19  20  26  48  36  16  20  31  46\n",
      "  39  35  33  45  38  44  38  41  31   5   8  24   4  12  12  14  16  27\n",
      "   5   5  23  56   2  10   5  -8   6   9  -2]\n",
      "[1989 1990 1991 1992 1993 1994 1995 1996 1997 1998 1999 2000 2001 2002\n",
      " 2003 2004 2005 2006 2007 2008 2009 2010 2011 2012 2013 2014 2015 2016\n",
      " 2017 2018]\n",
      "[  7  11   5   6  24  12  24  26  11   7  39  30  26  30  77 -10  22  33\n",
      "  19  35  33  51  45  82  22  22 164  70  70 135]\n"
     ]
    }
   ],
   "source": [
    "# De data voorbereiden\n",
    "\n",
    "# trainingdata\n",
    "x_train = x[:101]\n",
    "y_train = y[:101]\n",
    "print(x_train)\n",
    "print(y_train)\n",
    "\n",
    "# testdata\n",
    "x_test = x[101:]\n",
    "y_test = y[101:]\n",
    "print(x_test)\n",
    "print(y_test)"
   ]
  },
  {
   "cell_type": "markdown",
   "metadata": {},
   "source": [
    "<div style='color: #690027;' markdown=\"1\">\n",
    "    <h3>4.2 Standaardiseren</h3> \n",
    "</div>"
   ]
  },
  {
   "cell_type": "markdown",
   "metadata": {},
   "source": [
    "De data worden als volgt **gestandaardiseerd**: <br> Van elk gegeven uit de trainingdata wordt het gemiddelde afgetrokken en vervolgens wordt het resultaat gedeeld door de standaardafwijking. Men berekent m.a.w. van alle trainingdata de Z-score. <br>\n",
    "De testdata wordt op dezelfde manier gestandaardiseerd, dus ook met het gemiddelde en de standaardafwijking van de trainingdata."
   ]
  },
  {
   "cell_type": "markdown",
   "metadata": {},
   "source": [
    "<div class=\"alert alert-block alert-warning\"> \n",
    "Meer uitleg over standaardiseren vind je in de notebook 'Standaardiseren'.\n",
    "</div>"
   ]
  },
  {
   "cell_type": "code",
   "execution_count": 11,
   "metadata": {},
   "outputs": [],
   "source": [
    "# gemiddelde en standaardafwijking van de trainingdata bepalen\n",
    "x_train_gem = np.mean(x_train)\n",
    "x_train_std = np.std(x_train)\n",
    "y_train_gem = np.mean(y_train)\n",
    "y_train_std = np.std(y_train)"
   ]
  },
  {
   "cell_type": "code",
   "execution_count": 12,
   "metadata": {},
   "outputs": [],
   "source": [
    "# gemiddelde en standaardafwijking van de trainingdata bepalen\n",
    "x_train_gem = np.mean(x_train)\n",
    "x_train_std = np.std(x_train)\n",
    "y_train_gem = np.mean(y_train)\n",
    "y_train_std = np.std(y_train)\n",
    "\n",
    "# trainingdata standaardiseren\n",
    "x_train = (x_train - x_train_gem) / x_train_std\n",
    "y_train = (y_train - y_train_gem) / y_train_std\n",
    "\n",
    "# testdata standaardiseren om te kunnen gebruiken in het model\n",
    "x_test = (x_test - x_train_gem) / x_train_std\n",
    "y_test = (y_test - y_train_gem) / y_train_std"
   ]
  },
  {
   "cell_type": "markdown",
   "metadata": {},
   "source": [
    "<div style='color: #690027;' markdown=\"1\">\n",
    "    <h3>4.3 Regressielijn bepalen</h3> \n",
    "</div>"
   ]
  },
  {
   "cell_type": "code",
   "execution_count": 13,
   "metadata": {},
   "outputs": [],
   "source": [
    "# gewenste formaat\n",
    "X_train = x_train[:, np.newaxis]   \n",
    "X_test = x_test[:, np.newaxis]"
   ]
  },
  {
   "cell_type": "code",
   "execution_count": 15,
   "metadata": {},
   "outputs": [
    {
     "name": "stdout",
     "output_type": "stream",
     "text": [
      "Gemiddelde kwadratische afwijking voor de regressielijn m.b.t. de trainingdata: 1.00\n"
     ]
    }
   ],
   "source": [
    "# lineaire regressie\n",
    "regressielijn = LinearRegression()\n",
    "regressielijn.fit(X_train,y_train)\n",
    "\n",
    "print(\"Gemiddelde kwadratische afwijking voor de regressielijn m.b.t. de trainingdata: %.2f\" % mean_squared_error(y_train, regressielijn.predict(X_train)))\n",
    "\n",
    "plt.show()"
   ]
  },
  {
   "cell_type": "markdown",
   "metadata": {},
   "source": [
    "<div style='color: #690027;' markdown=\"1\">\n",
    "    <h3>4.4 Regressielijn plotten</h3> \n",
    "</div>"
   ]
  },
  {
   "cell_type": "code",
   "execution_count": 17,
   "metadata": {},
   "outputs": [
    {
     "name": "stdout",
     "output_type": "stream",
     "text": [
      "Gemiddelde kwadratische afwijking voor de regressielijn m.b.t. de testdata: 6.88\n"
     ]
    },
    {
     "data": {
      "image/png": "[encoded data removed]",
      "text/plain": [
       "<matplotlib.figure.Figure at 0x18de929aa20>"
      ]
     },
     "metadata": {},
     "output_type": "display_data"
    }
   ],
   "source": [
    "plt.figure(figsize=(15,12))\n",
    "\n",
    "# trainingdata\n",
    "plt.scatter(X_train, y_train, color=\"blue\", marker=\"o\")\n",
    "plt.plot(X_train, regressielijn.predict(X_train), color=\"green\")\n",
    "# testdata\n",
    "plt.scatter(X_test, y_test, color=\"orchid\", marker=\"o\")\n",
    "plt.plot(X_test, regressielijn.predict(X_test), color=\"lightgreen\")\n",
    "\n",
    "plt.xlim(x_train.min()-0.5, x_test.max()+2)\n",
    "plt.ylim(y_train.min()-0.5, y_train.max()+4)\n",
    "plt.title(\"Terugtrekking gletsjer Morteratsch (gestandaardiseerd)\")\n",
    "plt.xlabel(\"jaartal\")\n",
    "plt.ylabel(\"terugtrekking\")\n",
    "\n",
    "print(\"Gemiddelde kwadratische afwijking voor de regressielijn m.b.t. de testdata: %.2f\" % mean_squared_error(y_test, regressielijn.predict(X_test)))\n",
    "\n",
    "plt.show()"
   ]
  },
  {
   "cell_type": "code",
   "execution_count": 19,
   "metadata": {},
   "outputs": [
    {
     "name": "stdout",
     "output_type": "stream",
     "text": [
      "De vergelijking van de rechte: y = 0.028168491778529245 x + -1.3221773044404021e-17\n"
     ]
    }
   ],
   "source": [
    "# vergelijking van de rechte\n",
    "print(\"De vergelijking van de rechte: y =\", regressielijn.coef_[0], \"x +\", regressielijn.intercept_)"
   ]
  },
  {
   "cell_type": "code",
   "execution_count": 24,
   "metadata": {},
   "outputs": [
    {
     "name": "stdout",
     "output_type": "stream",
     "text": [
      "De vergelijking van de rechte: y = 0.014349795072014991 x + -9.140862265674642\n"
     ]
    }
   ],
   "source": [
    "# vergelijking van de rechte zonder standaardisatie\n",
    "print(\"De vergelijking van de rechte: y =\", \n",
    "      regressielijn.coef_[0] * y_train_std / x_train_std, \"x +\", \n",
    "      regressielijn.intercept_ * y_train_std + y_train_gem - regressielijn.coef_[0] * x_train_gem * y_train_std / x_train_std)"
   ]
  },
  {
   "cell_type": "markdown",
   "metadata": {},
   "source": [
    "<div>\n",
    "    <h2>Referentielijst</h2> \n",
    "</div>"
   ]
  },
  {
   "cell_type": "markdown",
   "metadata": {},
   "source": [
    "[1] Zekollari, H., Fürst, J. J., & Huybrechts, P. (2014). Modelling the evolution of Vadret da Morteratsch, Switzerland, since the little ice age and into the future.<br>&nbsp; &nbsp; &nbsp; &nbsp; *Journal of Glaciology*.60, 244. doi:10.3189/2014JoG14J053.<br>\n",
    "[2] Van Tricht, L. (2019). Via e-mail. "
   ]
  },
  {
   "cell_type": "markdown",
   "metadata": {},
   "source": [
    "<img src=\"../.images/cclic.png\" alt=\"Banner\" align=\"left\" style=\"width:100px;\"/><br><br>\n",
    "Notebook KIKS, zie <a href=\"http://www.aiopschool.be\">AI op School</a>, van F. wyffels & N. Gesquière is in licentie gegeven volgens een <a href=\"http://creativecommons.org/licenses/by-nc-sa/4.0/\">Creative Commons Naamsvermelding-NietCommercieel-GelijkDelen 4.0 Internationaal-licentie</a>. "
   ]
  }
 ],
 "metadata": {
  "kernelspec": {
   "display_name": "Python 3",
   "language": "python",
   "name": "python3"
  },
  "language_info": {
   "codemirror_mode": {
    "name": "ipython",
    "version": 3
   },
   "file_extension": ".py",
   "mimetype": "text/x-python",
   "name": "python",
   "nbconvert_exporter": "python",
   "pygments_lexer": "ipython3",
   "version": "3.6.4"
  }
 },
 "nbformat": 4,
 "nbformat_minor": 2
}
