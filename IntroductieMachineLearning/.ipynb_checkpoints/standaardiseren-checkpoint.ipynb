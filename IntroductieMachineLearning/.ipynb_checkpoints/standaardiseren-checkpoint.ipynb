{
 "cells": [
  {
   "cell_type": "markdown",
   "metadata": {},
   "source": [
    "<img src=\"../.images/logosnb.png\" alt=\"Banner\" style=\"width: 800px;\"/>"
   ]
  },
  {
   "cell_type": "markdown",
   "metadata": {},
   "source": [
    "<div style='color: #690027;' markdown=\"1\">\n",
    "    <h1>STANDAARDISEREN</h1> \n",
    "</div>"
   ]
  },
  {
   "cell_type": "markdown",
   "metadata": {},
   "source": [
    "<div class=\"alert alert-box alert-success\">\n",
    "In deze notebook BLABLABLA.\n",
    "</div>"
   ]
  },
  {
   "cell_type": "markdown",
   "metadata": {},
   "source": [
    "Bron: <br>https://www.uhasselt.be/documents/uhasselt@school/lesmateriaal/statistiek/Lesmateriaal/LEERLING%20Correlatie_02.pdf <br>\n",
    "https://docplayer.nl/32671814-Statistische-intelligentie.html "
   ]
  },
  {
   "cell_type": "markdown",
   "metadata": {},
   "source": [
    "### De nodige modules importeren"
   ]
  },
  {
   "cell_type": "code",
   "execution_count": null,
   "metadata": {},
   "outputs": [],
   "source": [
    "import pandas as pd\n",
    "import matplotlib.pyplot as plt\n",
    "import numpy as np"
   ]
  },
  {
   "cell_type": "markdown",
   "metadata": {},
   "source": [
    "<div style='color: #690027;' markdown=\"1\">\n",
    "    <h2>1. Inlezen van de data</h2> \n",
    "</div>"
   ]
  },
  {
   "cell_type": "markdown",
   "metadata": {},
   "source": [
    "Lees met de module `pandas` de datasets in."
   ]
  },
  {
   "cell_type": "code",
   "execution_count": null,
   "metadata": {},
   "outputs": [],
   "source": [
    "tabel1 = pd.read_csv(\"../.data/IntroductieMachineLearning/datastandaard1.dat\", header=None)  # in te lezen tabel heeft geen hoofding\n",
    "tabel2 = pd.read_csv(\"../.data/IntroductieMachineLearning/datastandaard2.dat\", header=None)  # in te lezen tabel heeft geen hoofding\n",
    "tabel3 = pd.read_csv(\"../.data/IntroductieMachineLearning/datastandaard3.dat\", header=None)  # in te lezen tabel heeft geen hoofding"
   ]
  },
  {
   "cell_type": "markdown",
   "metadata": {},
   "source": [
    "<div style='color: #690027;' markdown=\"1\">\n",
    "    <h2>2. Tonen van de ingelezen data</h2> \n",
    "</div>"
   ]
  },
  {
   "cell_type": "markdown",
   "metadata": {},
   "source": [
    "Kijk de gegevens in. "
   ]
  },
  {
   "cell_type": "code",
   "execution_count": null,
   "metadata": {},
   "outputs": [],
   "source": [
    "tabel1[:]"
   ]
  },
  {
   "cell_type": "code",
   "execution_count": null,
   "metadata": {},
   "outputs": [],
   "source": [
    "tabel2[:]"
   ]
  },
  {
   "cell_type": "code",
   "execution_count": null,
   "metadata": {},
   "outputs": [],
   "source": [
    "tabel3[:]"
   ]
  },
  {
   "cell_type": "markdown",
   "metadata": {},
   "source": [
    "<div style='color: #690027;' markdown=\"1\">\n",
    "    <h2>3. De data weergeven in puntenwolk</h2> \n",
    "</div>"
   ]
  },
  {
   "cell_type": "code",
   "execution_count": null,
   "metadata": {},
   "outputs": [],
   "source": [
    "# tabel1\n",
    "x1 = tabel1[0]\n",
    "y1 = tabel1[1]\n",
    "\n",
    "plt.scatter(x1, y1, color=\"red\", marker=\"o\")\n",
    "\n",
    "plt.title(\"Tabel1 Lotte\")\n",
    "plt.xlabel(\"breedte bloemblad (mm)\")\n",
    "plt.ylabel(\"lengte bloemblad (mm)\")\n",
    "plt.xlim(0, 45)\n",
    "plt.ylim(0, 45)\n",
    "\n",
    "plt.show()"
   ]
  },
  {
   "cell_type": "code",
   "execution_count": null,
   "metadata": {},
   "outputs": [],
   "source": [
    "# tabel2\n",
    "x2 = tabel2[0]\n",
    "y2 = tabel2[1]\n",
    "\n",
    "plt.scatter(x2, y2, color=\"yellow\", marker=\">\")   \n",
    "\n",
    "plt.title(\"Tabel2 Robbe\")\n",
    "plt.xlabel(\"breedte bloemblad (mm)\")\n",
    "plt.ylabel(\"lengte bloemblad (mm)\")\n",
    "plt.xlim(0, 45)\n",
    "plt.ylim(0, 45)\n",
    "\n",
    "plt.show()"
   ]
  },
  {
   "cell_type": "code",
   "execution_count": null,
   "metadata": {},
   "outputs": [],
   "source": [
    "# tabel3\n",
    "x3 = tabel3[0]\n",
    "y3 = tabel3[1]\n",
    "\n",
    "plt.scatter(x3, y3, color=\"lightblue\", marker=\"<\")    \n",
    "\n",
    "plt.title(\"Tabel 3 Kato\")\n",
    "plt.xlabel(\"breedte bloemblad (mm)\")\n",
    "plt.ylabel(\"lengte bloemblad (mm)\")\n",
    "plt.xlim(0, 45)\n",
    "plt.ylim(0, 45)\n",
    "\n",
    "plt.show()"
   ]
  },
  {
   "cell_type": "markdown",
   "metadata": {},
   "source": [
    "Bij welke tabel is er de beste samenhang?"
   ]
  },
  {
   "cell_type": "markdown",
   "metadata": {},
   "source": [
    "Op het eerste zicht bij tabel 3."
   ]
  },
  {
   "cell_type": "markdown",
   "metadata": {},
   "source": [
    "<div style='color: #690027;' markdown=\"1\">\n",
    "    <h2>4. Correlatie</h2> \n",
    "</div>"
   ]
  },
  {
   "cell_type": "markdown",
   "metadata": {},
   "source": [
    "Vergelijk de correlatiecoëfficiënten van de drie tabellen."
   ]
  },
  {
   "cell_type": "code",
   "execution_count": null,
   "metadata": {},
   "outputs": [],
   "source": [
    "print(\"R van de eerste tabel =\", np.corrcoef(x1, y1)[0,1])\n",
    "print(\"R van de tweede tabel =\", np.corrcoef(x2, y2)[0,1])\n",
    "print(\"R van de derde tabel =\", np.corrcoef(x3, y3)[0,1])"
   ]
  },
  {
   "cell_type": "markdown",
   "metadata": {},
   "source": [
    "<div style='color: #690027;' markdown=\"1\">\n",
    "    <h2>5. Standaardiseren</h2> \n",
    "</div>"
   ]
  },
  {
   "cell_type": "markdown",
   "metadata": {},
   "source": [
    "De gegevens kunnen maar vergeleken worden als ze gestandaardiseerd zijn. "
   ]
  },
  {
   "cell_type": "code",
   "execution_count": null,
   "metadata": {},
   "outputs": [],
   "source": [
    "x1 = (x1-np.mean(x1))/np.std(x1)\n",
    "y1 = (y1-np.mean(y1))/np.std(y1)\n",
    "x2 = (x2-np.mean(x2))/np.std(x2)\n",
    "y2 = (y2-np.mean(y2))/np.std(y2)\n",
    "x3 = (x3-np.mean(x3))/np.std(x3)\n",
    "y3 = (y3-np.mean(y3))/np.std(y3)"
   ]
  },
  {
   "cell_type": "code",
   "execution_count": null,
   "metadata": {},
   "outputs": [],
   "source": [
    "# gestandaardiseerde puntenwolk\n",
    "plt.scatter(x1, y1, color=\"red\", marker=\"o\")      # zon zijn eerste 25\n",
    "plt.scatter(x2, y2, color=\"yellow\", marker=\">\")\n",
    "plt.scatter(x3, y3, color=\"lightblue\", marker=\"<\")\n",
    "\n",
    "plt.title(\"Gestandaardiseerd\")\n",
    "plt.xlabel(\"breedte bloemblad (mm)\")\n",
    "plt.ylabel(\"lengte bloemblad (mm)\")\n",
    "plt.xlim(-2, 2)\n",
    "plt.ylim(-2, 2)\n",
    "\n",
    "plt.show()"
   ]
  },
  {
   "cell_type": "markdown",
   "metadata": {},
   "source": [
    "De correlatie is nagenoeg dezelfde voor alle drie de tabellen. Na standaardisatie vallen de punten quasi samen.<br>"
   ]
  },
  {
   "cell_type": "markdown",
   "metadata": {},
   "source": [
    "<div class=\"alert alert-box alert-info\">\n",
    "Correlatie kan je pas inschatten als je de gegevens eerst hebt gestandaardiseerd. De meeste waarden liggen dan ook tussen 0 en 1, wat beter is om de computer mee te laten rekenen.  \n",
    "</div>"
   ]
  },
  {
   "cell_type": "markdown",
   "metadata": {},
   "source": [
    "<img src=\"../.images/cclic.png\" alt=\"Banner\" align=\"left\" style=\"width:80px;\"/><br><br>\n",
    "Notebook KIKS, zie <a href=\"http://www.aiopschool.be\">ai op school</a>, van F. wyffels & N. Gesquière is in licentie gegeven volgens een <a href=\"http://creativecommons.org/licenses/by-nc-sa/4.0/\">Creative Commons Naamsvermelding-NietCommercieel-GelijkDelen 4.0 Internationaal-licentie</a>."
   ]
  }
 ],
 "metadata": {
  "kernelspec": {
   "display_name": "Python 3",
   "language": "python",
   "name": "python3"
  },
  "language_info": {
   "codemirror_mode": {
    "name": "ipython",
    "version": 3
   },
   "file_extension": ".py",
   "mimetype": "text/x-python",
   "name": "python",
   "nbconvert_exporter": "python",
   "pygments_lexer": "ipython3",
   "version": "3.6.4"
  }
 },
 "nbformat": 4,
 "nbformat_minor": 2
}
