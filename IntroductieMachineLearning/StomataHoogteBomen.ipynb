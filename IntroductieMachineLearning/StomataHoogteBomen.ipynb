{
 "cells": [
  {
   "cell_type": "markdown",
   "metadata": {},
   "source": [
    "# KIKS\n",
    "Sint-Bavohumaniora, KA Etterbeek, UGent, Plantentuin Meise, Accenture"
   ]
  },
  {
   "cell_type": "markdown",
   "metadata": {},
   "source": [
    "# Hoogte bomen - grootte en densiteit stomata - Amazonewoud"
   ]
  },
  {
   "cell_type": "markdown",
   "metadata": {},
   "source": [
    "Bron: Camargo, Miguel Angelo Branco, & Marenco, Ricardo Antonio. (2011). Density, size and distribution of stomata in 35 rainforest tree species in Central Amazonia. Acta Amazonica, 41(2), 205-212. https://dx.doi.org/10.1590/S0044-59672011000200004 en via e-mail."
   ]
  },
  {
   "cell_type": "markdown",
   "metadata": {},
   "source": [
    "Paleoklimatologen hebben aangetoond dat er een verband is tussen het aantal en de grootte van stomata op bladeren en het CO<sub>2</sub>-gehalte in de atmosfeer toen deze planten groeiden.<br>\n",
    "Vandaag de dag wordt er wereldwijd door wetenschappers onderzoek gedaan naar de huidmondjes op bladeren van nu. <br> Bij sommige planten ontdekte men verschillen in de stomata van bladeren ontsproten in lente tegenover die in de zomer. Bij andere planten stelde men verschillen vast tussen bladeren in de kruin van een plant en de beschaduwde bladeren onderaan in de plant.<br>\n",
    "Vast staat dat het aantal en de grootte van de huidmondjes onderhevig is aan omgevingsfactoren.<br> <br>\n",
    "Onderzoekers uit Brazilië vroegen zich het volgende af:<br>\n",
    "**Is er een verband tussen het aantal huidmondjes op bladeren in de kruin van een boom en de hoogte van de boom?**<br>\n",
    "Om dit te onderzoeken gebruikten ze data verzameld in het Amazonewoud."
   ]
  },
  {
   "cell_type": "markdown",
   "metadata": {},
   "source": [
    "## De nodige modules importeren"
   ]
  },
  {
   "cell_type": "code",
   "execution_count": 1,
   "metadata": {},
   "outputs": [],
   "source": [
    "import pandas as pd\n",
    "\n",
    "import matplotlib.pyplot as plt\n",
    "import numpy as np\n",
    "\n",
    "from sklearn.linear_model import LinearRegression\n",
    "from sklearn.preprocessing import PolynomialFeatures\n",
    "from sklearn.metrics import r2_score\n",
    "from sklearn.metrics import mean_squared_error"
   ]
  },
  {
   "cell_type": "markdown",
   "metadata": {},
   "source": [
    "## 1. Inlezen van de data"
   ]
  },
  {
   "cell_type": "code",
   "execution_count": 2,
   "metadata": {},
   "outputs": [],
   "source": [
    "amazone = pd.read_csv(\"amazone.dat\", header=None)  # in te lezen tabel heeft geen hoofding"
   ]
  },
  {
   "cell_type": "markdown",
   "metadata": {},
   "source": [
    "## 2. Tonen van de ingelezen data"
   ]
  },
  {
   "cell_type": "code",
   "execution_count": 3,
   "metadata": {},
   "outputs": [
    {
     "name": "stdout",
     "output_type": "stream",
     "text": [
      "                                              0       1      2      3\n",
      "0   Anisophyllea manausensis Pires & W. A. Rodr  271.10  17.72  24.19\n",
      "1                           Antonia ovata Pohl.  287.93  17.18  16.85\n",
      "2                    Astronium le-cointei Ducke  652.11  12.56  25.80\n",
      "3                        Couratari tauari Berg.  234.70  15.73  16.66\n",
      "4                  Duroia kotchubaeiodissteyerm  219.74  16.78  23.41\n",
      "5                     Ecclinusa guianensis Eyma  316.56  10.70  30.05\n",
      "6    Eschweileira bracteosa (poepp. Beng) Miers  657.54  13.47  23.78\n",
      "7     Eschweilera apiculata (miers) a. c. smith  442.01  14.29  29.64\n",
      "8      Eschweilera coriacea (DC.) Mart. ex Berg  411.20  12.45  23.15\n",
      "9          Eschweilera parviflora (Aubl.) Miers  500.10   8.25  25.35\n",
      "10                Ferdinandusa ellipttica Pohl.  204.59  23.10  27.50\n",
      "11                      Geissospermum argenteum  477.60  18.80  22.09\n",
      "12                    Inga umbratica poepp endl  395.70  14.58  19.40\n",
      "13              Jacaranda copaia (Aubl.) D. Don  389.81  18.43  29.70\n",
      "14                        Lecythis prancei moni  280.64   9.33  31.28\n",
      "15                 Licania adolphoduckei Prance  458.01  10.63  20.63\n",
      "16         Licaria chrysophylla (Meissn.) Kost.  314.11  10.92  23.66\n",
      "17                     Licaria rodriguesii Kurz  367.08  10.11  19.22\n",
      "18           Matayba arborescens (Aubl.) Raldlk  540.51  13.88  25.39\n",
      "19                  Minquartia guianensis Aubl.  489.16   8.92  32.39\n",
      "20                      Myrcia magnoliifolia DC  405.96  20.88  26.37\n",
      "21                      Neea altissima P.et. E.  110.29  18.67  17.87\n",
      "22                 Neea oppositifolia R. et. P.  150.06  21.17  24.55\n",
      "23                     Ouratea discophora Ducke  285.64  21.18  20.02\n",
      "24                   Pouteria guianensis Aubl.   569.38  10.18  35.96\n",
      "25           Pouteria jariensis Pires Tod. Penn  284.57  17.50  24.86\n",
      "26             Pouteria reticulada (Engl.) Eyma  277.83  20.67  25.20\n",
      "27                Pouteria retinervis Tid. Penn  212.16  23.57  27.63\n",
      "28               Protium crassipetalum Cuatrec.  580.93   8.97  22.31\n",
      "29              Protium Decandrum (Aubl.) Marsh  588.50   8.46  22.80\n",
      "30                         Protium Klugii Macbr  589.35  11.04  18.87\n",
      "31                 Qualea acuminata spruce Warm  846.13  15.39  33.04\n",
      "32             Rinorea paniculata (Mart) O. ktz  175.43  20.58  19.49\n",
      "33                        Scleronema micranthum  526.20  17.06  31.60\n",
      "34                     Swartzia ingifolia Ducke  543.88  12.41  27.79\n"
     ]
    }
   ],
   "source": [
    "print(amazone)"
   ]
  },
  {
   "cell_type": "code",
   "execution_count": 4,
   "metadata": {},
   "outputs": [],
   "source": [
    "# deze tabel: matrix met 35 rijen en 4 kolommen\n",
    "# [:,0] betekent: alles van de 0de kolom\n",
    "# eerste kolom: naam plant, tweede kolom: densiteit stomata, derde kolom: lengte stomata, vierde kolom: hoogte boom\n",
    "# shape komt ongeveer overeen met aantal rijen en kolommen in een matrix, waarbij 1 niet wordt vermeld"
   ]
  },
  {
   "cell_type": "markdown",
   "metadata": {},
   "source": [
    "Het is mogelijk enkel het begin of enkel het laatste deel van de tabel te tonen."
   ]
  },
  {
   "cell_type": "code",
   "execution_count": 5,
   "metadata": {},
   "outputs": [
    {
     "data": {
      "text/html": [
       "<div>\n",
       "<style scoped>\n",
       "    .dataframe tbody tr th:only-of-type {\n",
       "        vertical-align: middle;\n",
       "    }\n",
       "\n",
       "    .dataframe tbody tr th {\n",
       "        vertical-align: top;\n",
       "    }\n",
       "\n",
       "    .dataframe thead th {\n",
       "        text-align: right;\n",
       "    }\n",
       "</style>\n",
       "<table border=\"1\" class=\"dataframe\">\n",
       "  <thead>\n",
       "    <tr style=\"text-align: right;\">\n",
       "      <th></th>\n",
       "      <th>0</th>\n",
       "      <th>1</th>\n",
       "      <th>2</th>\n",
       "      <th>3</th>\n",
       "    </tr>\n",
       "  </thead>\n",
       "  <tbody>\n",
       "    <tr>\n",
       "      <th>0</th>\n",
       "      <td>Anisophyllea manausensis Pires &amp; W. A. Rodr</td>\n",
       "      <td>271.10</td>\n",
       "      <td>17.72</td>\n",
       "      <td>24.19</td>\n",
       "    </tr>\n",
       "    <tr>\n",
       "      <th>1</th>\n",
       "      <td>Antonia ovata Pohl.</td>\n",
       "      <td>287.93</td>\n",
       "      <td>17.18</td>\n",
       "      <td>16.85</td>\n",
       "    </tr>\n",
       "    <tr>\n",
       "      <th>2</th>\n",
       "      <td>Astronium le-cointei Ducke</td>\n",
       "      <td>652.11</td>\n",
       "      <td>12.56</td>\n",
       "      <td>25.80</td>\n",
       "    </tr>\n",
       "    <tr>\n",
       "      <th>3</th>\n",
       "      <td>Couratari tauari Berg.</td>\n",
       "      <td>234.70</td>\n",
       "      <td>15.73</td>\n",
       "      <td>16.66</td>\n",
       "    </tr>\n",
       "    <tr>\n",
       "      <th>4</th>\n",
       "      <td>Duroia kotchubaeiodissteyerm</td>\n",
       "      <td>219.74</td>\n",
       "      <td>16.78</td>\n",
       "      <td>23.41</td>\n",
       "    </tr>\n",
       "  </tbody>\n",
       "</table>\n",
       "</div>"
      ],
      "text/plain": [
       "                                             0       1      2      3\n",
       "0  Anisophyllea manausensis Pires & W. A. Rodr  271.10  17.72  24.19\n",
       "1                          Antonia ovata Pohl.  287.93  17.18  16.85\n",
       "2                   Astronium le-cointei Ducke  652.11  12.56  25.80\n",
       "3                       Couratari tauari Berg.  234.70  15.73  16.66\n",
       "4                 Duroia kotchubaeiodissteyerm  219.74  16.78  23.41"
      ]
     },
     "execution_count": 5,
     "metadata": {},
     "output_type": "execute_result"
    }
   ],
   "source": [
    "amazone.head()"
   ]
  },
  {
   "cell_type": "code",
   "execution_count": 6,
   "metadata": {},
   "outputs": [
    {
     "data": {
      "text/html": [
       "<div>\n",
       "<style scoped>\n",
       "    .dataframe tbody tr th:only-of-type {\n",
       "        vertical-align: middle;\n",
       "    }\n",
       "\n",
       "    .dataframe tbody tr th {\n",
       "        vertical-align: top;\n",
       "    }\n",
       "\n",
       "    .dataframe thead th {\n",
       "        text-align: right;\n",
       "    }\n",
       "</style>\n",
       "<table border=\"1\" class=\"dataframe\">\n",
       "  <thead>\n",
       "    <tr style=\"text-align: right;\">\n",
       "      <th></th>\n",
       "      <th>0</th>\n",
       "      <th>1</th>\n",
       "      <th>2</th>\n",
       "      <th>3</th>\n",
       "    </tr>\n",
       "  </thead>\n",
       "  <tbody>\n",
       "    <tr>\n",
       "      <th>30</th>\n",
       "      <td>Protium Klugii Macbr</td>\n",
       "      <td>589.35</td>\n",
       "      <td>11.04</td>\n",
       "      <td>18.87</td>\n",
       "    </tr>\n",
       "    <tr>\n",
       "      <th>31</th>\n",
       "      <td>Qualea acuminata spruce Warm</td>\n",
       "      <td>846.13</td>\n",
       "      <td>15.39</td>\n",
       "      <td>33.04</td>\n",
       "    </tr>\n",
       "    <tr>\n",
       "      <th>32</th>\n",
       "      <td>Rinorea paniculata (Mart) O. ktz</td>\n",
       "      <td>175.43</td>\n",
       "      <td>20.58</td>\n",
       "      <td>19.49</td>\n",
       "    </tr>\n",
       "    <tr>\n",
       "      <th>33</th>\n",
       "      <td>Scleronema micranthum</td>\n",
       "      <td>526.20</td>\n",
       "      <td>17.06</td>\n",
       "      <td>31.60</td>\n",
       "    </tr>\n",
       "    <tr>\n",
       "      <th>34</th>\n",
       "      <td>Swartzia ingifolia Ducke</td>\n",
       "      <td>543.88</td>\n",
       "      <td>12.41</td>\n",
       "      <td>27.79</td>\n",
       "    </tr>\n",
       "  </tbody>\n",
       "</table>\n",
       "</div>"
      ],
      "text/plain": [
       "                                   0       1      2      3\n",
       "30              Protium Klugii Macbr  589.35  11.04  18.87\n",
       "31      Qualea acuminata spruce Warm  846.13  15.39  33.04\n",
       "32  Rinorea paniculata (Mart) O. ktz  175.43  20.58  19.49\n",
       "33             Scleronema micranthum  526.20  17.06  31.60\n",
       "34          Swartzia ingifolia Ducke  543.88  12.41  27.79"
      ]
     },
     "execution_count": 6,
     "metadata": {},
     "output_type": "execute_result"
    }
   ],
   "source": [
    "amazone.tail()"
   ]
  },
  {
   "cell_type": "markdown",
   "metadata": {},
   "source": [
    "## 3. Sorteren"
   ]
  },
  {
   "cell_type": "code",
   "execution_count": 7,
   "metadata": {},
   "outputs": [],
   "source": [
    "# sorteren op hoogte van de bomen\n",
    "amazone.sort_values(3, inplace=True)    "
   ]
  },
  {
   "cell_type": "markdown",
   "metadata": {},
   "source": [
    "Door het gebruik van `inplace` wordt de ordening in `amazone` vastgelegd."
   ]
  },
  {
   "cell_type": "markdown",
   "metadata": {},
   "source": [
    "## 4. De data weergeven in puntenwolk "
   ]
  },
  {
   "cell_type": "markdown",
   "metadata": {},
   "source": [
    "Beschouw elk kenmerk."
   ]
  },
  {
   "cell_type": "code",
   "execution_count": 8,
   "metadata": {},
   "outputs": [
    {
     "name": "stdout",
     "output_type": "stream",
     "text": [
      "[16.66 16.85 17.87 18.87 19.22 19.4  19.49 20.02 20.63 22.09 22.31 22.8\n",
      " 23.15 23.41 23.66 23.78 24.19 24.55 24.86 25.2  25.35 25.39 25.8  26.37\n",
      " 27.5  27.63 27.79 29.64 29.7  30.05 31.28 31.6  32.39 33.04 35.96]\n",
      "35\n",
      "(35,)\n"
     ]
    }
   ],
   "source": [
    "x = amazone.iloc[:,3].values    # hoogte boom\n",
    "print(x)\n",
    "print(len(x))\n",
    "print(x.shape)"
   ]
  },
  {
   "cell_type": "markdown",
   "metadata": {},
   "source": [
    "De bomen staat gesorteerd van klein naar groot!"
   ]
  },
  {
   "cell_type": "code",
   "execution_count": 9,
   "metadata": {},
   "outputs": [
    {
     "name": "stdout",
     "output_type": "stream",
     "text": [
      "[234.7  287.93 110.29 589.35 367.08 395.7  175.43 285.64 458.01 477.6\n",
      " 580.93 588.5  411.2  219.74 314.11 657.54 271.1  150.06 284.57 277.83\n",
      " 500.1  540.51 652.11 405.96 204.59 212.16 543.88 442.01 389.81 316.56\n",
      " 280.64 526.2  489.16 846.13 569.38]\n",
      "(35,)\n"
     ]
    }
   ],
   "source": [
    "y1 = amazone.iloc[:,1].values    # densiteit huidmondjes\n",
    "print(y1)\n",
    "print(y1.shape)"
   ]
  },
  {
   "cell_type": "code",
   "execution_count": 10,
   "metadata": {},
   "outputs": [
    {
     "name": "stdout",
     "output_type": "stream",
     "text": [
      "[15.73 17.18 18.67 11.04 10.11 14.58 20.58 21.18 10.63 18.8   8.97  8.46\n",
      " 12.45 16.78 10.92 13.47 17.72 21.17 17.5  20.67  8.25 13.88 12.56 20.88\n",
      " 23.1  23.57 12.41 14.29 18.43 10.7   9.33 17.06  8.92 15.39 10.18]\n",
      "(35,)\n"
     ]
    }
   ],
   "source": [
    "y2 = amazone.iloc[:,2].values    # grootte huidmondjes\n",
    "print(y2)\n",
    "print(y2.shape)"
   ]
  },
  {
   "cell_type": "markdown",
   "metadata": {},
   "source": [
    "Beschouw telkens twee kenmerken uit de tabel. Misschien bestaat er een verband tussen."
   ]
  },
  {
   "cell_type": "markdown",
   "metadata": {},
   "source": [
    "### Drie puntenwolken"
   ]
  },
  {
   "cell_type": "markdown",
   "metadata": {},
   "source": [
    "Er is een gekende corrleatie tussen het aantal huidmondjes en de grootte ervan. Is dat hier ook te zien?"
   ]
  },
  {
   "cell_type": "code",
   "execution_count": 43,
   "metadata": {},
   "outputs": [
    {
     "data": {
      "image/png": "[encoded data removed]",
      "text/plain": [
       "<matplotlib.figure.Figure at 0x283535489e8>"
      ]
     },
     "metadata": {},
     "output_type": "display_data"
    }
   ],
   "source": [
    "# lengte t.o.v.densiteit\n",
    "plt.scatter(y2, y1, color=\"black\", marker=\"o\")\n",
    "plt.title(\"bomen Amazonewoud\")\n",
    "plt.xlabel(\"stomatale densiteit per mm²\")\n",
    "plt.ylabel(\"lengte stoma in micron\")\n",
    "plt.show()"
   ]
  },
  {
   "cell_type": "code",
   "execution_count": 12,
   "metadata": {},
   "outputs": [
    {
     "data": {
      "text/plain": [
       "-0.5473323361748897"
      ]
     },
     "execution_count": 12,
     "metadata": {},
     "output_type": "execute_result"
    }
   ],
   "source": [
    "# verband tussen de lengte en de densiteit van de stomata?\n",
    "# correlatiecoefficiênt R bepalen (ligt tussen -1 en 1, hoe dichter bij 0, hoe slechter de samenhang)\n",
    "np.corrcoef(y2, y1)[0,1]"
   ]
  },
  {
   "cell_type": "markdown",
   "metadata": {},
   "source": [
    "Matige samenhang!"
   ]
  },
  {
   "cell_type": "code",
   "execution_count": 14,
   "metadata": {},
   "outputs": [
    {
     "data": {
      "image/png": "[encoded data removed]",
      "text/plain": [
       "<matplotlib.figure.Figure at 0x28352cf0390>"
      ]
     },
     "metadata": {},
     "output_type": "display_data"
    }
   ],
   "source": [
    "# densiteit t.o.v. hoogte\n",
    "plt.scatter(x, y1, color=\"green\", marker=\"o\")\n",
    "plt.title(\"bomen Amazonewoud\")\n",
    "plt.xlabel(\"hoogte boom im m\")\n",
    "plt.ylabel(\"stomatale densiteit per mm²\")\n",
    "plt.show()"
   ]
  },
  {
   "cell_type": "code",
   "execution_count": 17,
   "metadata": {},
   "outputs": [
    {
     "data": {
      "text/plain": [
       "0.3469699169562766"
      ]
     },
     "execution_count": 17,
     "metadata": {},
     "output_type": "execute_result"
    }
   ],
   "source": [
    "# in hoeverre is er een verband tussen de hoogte van de boom en de densiteit van de stomata? \n",
    "np.corrcoef(x, y1)[0,1]"
   ]
  },
  {
   "cell_type": "markdown",
   "metadata": {},
   "source": [
    "Zwakke samenhang!"
   ]
  },
  {
   "cell_type": "code",
   "execution_count": 16,
   "metadata": {},
   "outputs": [
    {
     "data": {
      "image/png": "[encoded data removed]",
      "text/plain": [
       "<matplotlib.figure.Figure at 0x2835320a2b0>"
      ]
     },
     "metadata": {},
     "output_type": "display_data"
    }
   ],
   "source": [
    "# lente t.o.v. hoogte\n",
    "plt.scatter(x, y2, color=\"purple\", marker=\"o\")\n",
    "plt.title(\"bomen Amazonewoud\")\n",
    "plt.xlabel(\"hoogte boom im m\")\n",
    "plt.ylabel(\"lengte stoma in micron\")    # micron = micrometer\n",
    "plt.show()"
   ]
  },
  {
   "cell_type": "code",
   "execution_count": 18,
   "metadata": {},
   "outputs": [
    {
     "data": {
      "text/plain": [
       "-0.13106168762905604"
      ]
     },
     "execution_count": 18,
     "metadata": {},
     "output_type": "execute_result"
    }
   ],
   "source": [
    "# in hoeverre is er een verband tussen de hoogte van de boom en de grootte van de stomata? \n",
    "np.corrcoef(x, y2)[0,1]"
   ]
  },
  {
   "cell_type": "markdown",
   "metadata": {},
   "source": [
    "Heel, heel zwakke samenhang!"
   ]
  },
  {
   "cell_type": "markdown",
   "metadata": {},
   "source": [
    "## 5. Onderzoeksvraag: is er samenhang tussen lengte stomata en hoogte boom?\n",
    "### Regressielijn?"
   ]
  },
  {
   "cell_type": "markdown",
   "metadata": {},
   "source": [
    "## 5.1 Methode uit de wiskundeles (dezelfde methode als de Braziliaanse onderzoekers)"
   ]
  },
  {
   "cell_type": "markdown",
   "metadata": {},
   "source": [
    "*Rekenen met vrij grote getallen leidt al snel tot nog grotere getallen en tot numerieke instabiliteit, dat is een van de redenen waarom de data worden gestandaardiseerd. Standaardiseren van variabelen houdt in dat men de variabelen op zo'n manier herschaalt dat men variabelen van bv. een verschillende grootteorde of in een verschillende eenheid met elkaar kan vergelijken of in verband brengen.  De correlatie tussen bivariate gegevens bv. kan men visueel inschatten door de overeenkomstige puntenwolk te bekijken, de vorm hiervan is echter maar betrouwbaar als de gegevens gestandaardiseeerd zijn. *<br><br>\n",
    "De data worden als volgt **gestandaardiseerd**: van elke gegeven wordt het gemiddelde afgetrokken en vervolgens wordt het resultaat gedeeld door de standaardafwijking. <br>Men berekent m.a.w. van alle data de Z-score. Zo komen de meeste gegevens terecht tussen -1 en 1. <br>\n",
    "<br>"
   ]
  },
  {
   "cell_type": "code",
   "execution_count": 38,
   "metadata": {},
   "outputs": [],
   "source": [
    "x = np.array(amazone.iloc[:, 3])\n",
    "y1 = amazone.iloc[:,1]\n",
    "\n",
    "# gemiddelde en standaardafwijking van data\n",
    "x_gem = np.mean(x)\n",
    "x_std = np.std(x)\n",
    "y1_gem = np.mean(y1)\n",
    "y1_std = np.std(y1)\n",
    "\n",
    "# data standaardiseren\n",
    "x = (x - x_gem)/x_std\n",
    "y1 = (y1 - y1_gem)/y1_std\n",
    "\n",
    "# juiste formaat voor regressie in Python\n",
    "X= x[:, np.newaxis]  "
   ]
  },
  {
   "cell_type": "code",
   "execution_count": 26,
   "metadata": {},
   "outputs": [
    {
     "name": "stdout",
     "output_type": "stream",
     "text": [
      "R² voor de rechte: 0.120\n",
      "Gemiddelde kwadratische afwijking voor de rechte: 0.88\n"
     ]
    }
   ],
   "source": [
    "# lineaire regressie\n",
    "rechte = LinearRegression()\n",
    "rechte.fit(X, y1)\n",
    "\n",
    "# metrics\n",
    "print(\"R² voor de rechte: %.3f\" % r2_score(y1, rechte.predict(X)))\n",
    "print(\"Gemiddelde kwadratische afwijking voor de rechte: %.2f\"% mean_squared_error(y1, rechte.predict(X)))"
   ]
  },
  {
   "cell_type": "code",
   "execution_count": 25,
   "metadata": {},
   "outputs": [
    {
     "data": {
      "text/plain": [
       "0.12038812327264548"
      ]
     },
     "execution_count": 25,
     "metadata": {},
     "output_type": "execute_result"
    }
   ],
   "source": [
    "np.corrcoef(x, y1)[0,1]**2       # R²"
   ]
  },
  {
   "cell_type": "code",
   "execution_count": 30,
   "metadata": {},
   "outputs": [
    {
     "data": {
      "image/png": "[encoded data removed]",
      "text/plain": [
       "<matplotlib.figure.Figure at 0x283532708d0>"
      ]
     },
     "metadata": {},
     "output_type": "display_data"
    }
   ],
   "source": [
    "# grafische voorstelling\n",
    "plt.figure(figsize=(10, 8))\n",
    "\n",
    "plt.xlim(x.min()-0.5, x.max()+0.5)\n",
    "plt.ylim(y1.min()-0.5, y1.max()+0.5)\n",
    "plt.title(\"Amazonewoud\")\n",
    "plt.xlabel(\"hoogte boom (gestandaardiseerd)\")\n",
    "plt.ylabel(\"stomatale densiteit in mm²(gestandaardiseerd)\")\n",
    "\n",
    "plt.scatter(X, y1, color=\"green\", marker=\"o\")\n",
    "plt.plot(X, rechte.predict(X), color=\"lightgreen\")\n",
    "\n",
    "plt.show()"
   ]
  },
  {
   "cell_type": "code",
   "execution_count": 33,
   "metadata": {},
   "outputs": [
    {
     "name": "stdout",
     "output_type": "stream",
     "text": [
      "De vergelijking van de rechte: y = 12.068440527266908 x + 102.14484005910538\n"
     ]
    }
   ],
   "source": [
    "# vergelijking van de rechte zonder standaardisatie\n",
    "print(\"De vergelijking van de rechte: y =\", \n",
    "      rechte.coef_[0]*y1_std/x_std, \"x +\", rechte.intercept_ * y1_std + y1_gem - rechte.coef_[0] * x_gem *y1_std/x_std)"
   ]
  },
  {
   "cell_type": "markdown",
   "metadata": {},
   "source": [
    "R² en deze vergelijking komen overeen met de resultaten van de Braziliaanse onderzoekers (zij werkten met Excel)."
   ]
  },
  {
   "cell_type": "markdown",
   "metadata": {},
   "source": [
    "## 5.2 Methode uit Machinaal Leren (met trainingdata en testdata)"
   ]
  },
  {
   "cell_type": "markdown",
   "metadata": {},
   "source": [
    "We splitsen de data op in trainingdata en testdata.<br> *De trainingdata worden gebruikt om een wiskundig model op te stellen. <br>Met de testdata wordt nagegaan of het model goed omgaat met nieuwe data.*"
   ]
  },
  {
   "cell_type": "code",
   "execution_count": 35,
   "metadata": {},
   "outputs": [],
   "source": [
    "# data voorbereiden"
   ]
  },
  {
   "cell_type": "code",
   "execution_count": 53,
   "metadata": {},
   "outputs": [
    {
     "name": "stdout",
     "output_type": "stream",
     "text": [
      "[16.66 16.85 17.87 18.87 19.22 19.4  19.49 20.02 20.63 22.09 22.31 22.8\n",
      " 23.15 23.41 23.66 23.78 24.19 24.55 24.86 25.2  25.35 25.39 25.8  26.37\n",
      " 27.5  27.63 27.79 29.64 29.7 ]\n",
      "3     234.70\n",
      "1     287.93\n",
      "21    110.29\n",
      "30    589.35\n",
      "17    367.08\n",
      "12    395.70\n",
      "32    175.43\n",
      "23    285.64\n",
      "15    458.01\n",
      "11    477.60\n",
      "28    580.93\n",
      "29    588.50\n",
      "8     411.20\n",
      "4     219.74\n",
      "16    314.11\n",
      "6     657.54\n",
      "0     271.10\n",
      "22    150.06\n",
      "25    284.57\n",
      "26    277.83\n",
      "9     500.10\n",
      "18    540.51\n",
      "2     652.11\n",
      "20    405.96\n",
      "10    204.59\n",
      "27    212.16\n",
      "34    543.88\n",
      "7     442.01\n",
      "13    389.81\n",
      "Name: 1, dtype: float64\n",
      "[30.05 31.28 31.6  32.39 33.04 35.96]\n",
      "5     316.56\n",
      "14    280.64\n",
      "33    526.20\n",
      "19    489.16\n",
      "31    846.13\n",
      "24    569.38\n",
      "Name: 1, dtype: float64\n"
     ]
    }
   ],
   "source": [
    "# trainingdata\n",
    "x_train = np.array(amazone.iloc[0:29,3])\n",
    "y1_train = amazone.iloc[0:29,1]\n",
    "print(x_train)\n",
    "print(y1_train)\n",
    "\n",
    "# testdata\n",
    "x_test = np.array(amazone.iloc[29:,3])\n",
    "y1_test = amazone.iloc[29:,1]\n",
    "print(x_test)\n",
    "print(y1_test)"
   ]
  },
  {
   "cell_type": "markdown",
   "metadata": {},
   "source": [
    "De training- en testdata worden als volgt **gestandaardiseerd**: van elke gegeven uit de trainingdata wordt het gemiddelde van de trainingdata afgetrokken en vervolgens wordt het resultaat gedeeld door de standaardafwijking van de trainingdata. <br> \n",
    "De volledige dataset wordt op dezelfde manier gestandaardiseerd. Men doet dus net hetzelfde met de testdata: men gebruikt er ook het gemiddelde en de standaardafwijking van de **trainingdata**. <br>\n",
    "<br>\n",
    "*Sommige algoritmes uit Machine Learning zijn pas bruikbaar als de data gestandaardiseerd zijn, omdat die algoritmes zo opgesteld zijn.*<br>"
   ]
  },
  {
   "cell_type": "code",
   "execution_count": 54,
   "metadata": {},
   "outputs": [
    {
     "name": "stdout",
     "output_type": "stream",
     "text": [
      "[[-1.83827008]\n",
      " [-1.78525046]\n",
      " [-1.50061882]\n",
      " [-1.22156819]\n",
      " [-1.12390047]\n",
      " [-1.07367136]\n",
      " [-1.0485568 ]\n",
      " [-0.90065997]\n",
      " [-0.73043908]\n",
      " [-0.32302516]\n",
      " [-0.26163402]\n",
      " [-0.12489921]\n",
      " [-0.02723149]\n",
      " [ 0.04532167]\n",
      " [ 0.11508433]\n",
      " [ 0.1485704 ]\n",
      " [ 0.26298116]\n",
      " [ 0.36343939]\n",
      " [ 0.44994509]\n",
      " [ 0.5448223 ]\n",
      " [ 0.58667989]\n",
      " [ 0.59784192]\n",
      " [ 0.71225268]\n",
      " [ 0.87131154]\n",
      " [ 1.18663875]\n",
      " [ 1.22291533]\n",
      " [ 1.26756343]\n",
      " [ 1.7838071 ]\n",
      " [ 1.80055014]]\n",
      "3    -0.941325\n",
      "1    -0.597164\n",
      "21   -1.745703\n",
      "30    1.351680\n",
      "17   -0.085417\n",
      "12    0.099627\n",
      "32   -1.324538\n",
      "23   -0.611970\n",
      "15    0.502495\n",
      "11    0.629155\n",
      "28    1.297240\n",
      "29    1.346184\n",
      "8     0.199843\n",
      "4    -1.038050\n",
      "16   -0.427896\n",
      "6     1.792565\n",
      "0    -0.705979\n",
      "22   -1.488569\n",
      "25   -0.618888\n",
      "26   -0.662466\n",
      "9     0.774630\n",
      "18    1.035903\n",
      "2     1.757457\n",
      "20    0.165964\n",
      "10   -1.136003\n",
      "27   -1.087058\n",
      "34    1.057691\n",
      "7     0.399047\n",
      "13    0.061545\n",
      "Name: 1, dtype: float64\n",
      "(29, 1) (29,)\n",
      "[[1.89821786]\n",
      " [2.24145013]\n",
      " [2.33074633]\n",
      " [2.55119633]\n",
      " [2.73257924]\n",
      " [3.54740708]]\n",
      "5    -0.412056\n",
      "14   -0.644298\n",
      "33    0.943381\n",
      "19    0.703897\n",
      "31    3.011902\n",
      "24    1.222563\n",
      "Name: 1, dtype: float64\n",
      "(6, 1) (6,)\n"
     ]
    }
   ],
   "source": [
    "# standaardiseren\n",
    "\n",
    "# gemiddelde en standaardawijking van de trainingdata bepalen\n",
    "x_train_gem = np.mean(x_train)\n",
    "x_train_std = np.std(x_train)\n",
    "y1_train_gem = np.mean(y1_train)\n",
    "y1_train_std = np.std(y1_train)\n",
    "\n",
    "# trainingdata standaardiseren\n",
    "x_train = (x_train - x_train_gem)/x_train_std\n",
    "y1_train = (y1_train - y1_train_gem)/y1_train_std\n",
    "\n",
    "# juiste formaat\n",
    "X_train = x_train[:, np.newaxis]\n",
    "print(X_train)\n",
    "print(y1_train)\n",
    "print(X_train.shape, y1_train.shape)\n",
    "\n",
    "# testdata standaardiseren\n",
    "x_test = (x_test - x_train_gem)/x_train_std\n",
    "y1_test = (y1_test - y1_train_gem)/y1_train_std\n",
    "\n",
    "# juiste formaat\n",
    "X_test = x_test[:, np.newaxis]\n",
    "print(X_test)\n",
    "print(y1_test)\n",
    "print(X_test.shape, y1_test.shape)"
   ]
  },
  {
   "cell_type": "code",
   "execution_count": 55,
   "metadata": {},
   "outputs": [
    {
     "name": "stdout",
     "output_type": "stream",
     "text": [
      "R² voor de rechte m.b.t. de trainingdata: 0.034\n",
      "Gemiddelde kwadratische afwijking voor de rechte m.b.t. de trainingdata: 0.97\n",
      "Gemiddelde kwadratische afwijking voor de rechte m.b.t. de testdata: 1.44\n"
     ]
    }
   ],
   "source": [
    "# lineaire regressie\n",
    "rechte = LinearRegression()\n",
    "rechte.fit(X_train, y1_train)\n",
    "\n",
    "# metrics\n",
    "print(\"R² voor de rechte m.b.t. de trainingdata: %.3f\" % r2_score(y1_train, rechte.predict(X_train)))\n",
    "print(\"Gemiddelde kwadratische afwijking voor de rechte m.b.t. de trainingdata: %.2f\"% mean_squared_error(y1_train, rechte.predict(X_train)))\n",
    "\n",
    "# testdata (generalisatie)\n",
    "print(\"Gemiddelde kwadratische afwijking voor de rechte m.b.t. de testdata: %.2f\"% mean_squared_error(y1_test, rechte.predict(X_test)))"
   ]
  },
  {
   "cell_type": "code",
   "execution_count": 56,
   "metadata": {},
   "outputs": [
    {
     "name": "stdout",
     "output_type": "stream",
     "text": [
      "rico: 0.185\n",
      "y-intercept: 0.000\n"
     ]
    },
    {
     "data": {
      "image/png": "[encoded data removed]",
      "text/plain": [
       "<matplotlib.figure.Figure at 0x2835311a898>"
      ]
     },
     "metadata": {},
     "output_type": "display_data"
    }
   ],
   "source": [
    "# grafische voorstelling\n",
    "plt.figure(figsize=(10, 8))\n",
    "\n",
    "plt.xlim(x_train.min()-0.5, x_train.max()+2)\n",
    "plt.ylim(y1_train.min()-0.5, y1_train.max()+2)\n",
    "plt.title(\"Amazonewoud\")\n",
    "plt.xlabel(\"hoogte boom (gestandaardiseerd)\")\n",
    "plt.ylabel(\"stomatale densiteit in mm²(gestandaardiseerd)\")\n",
    "\n",
    "plt.scatter(X_train, y1_train, color=\"green\", marker=\"o\")\n",
    "plt.plot(X_train, rechte.predict(X_train), color=\"red\")\n",
    "\n",
    "# testdata\n",
    "plt.scatter(X_test, y1_test, color=\"blue\", marker=\"o\")\n",
    "\n",
    "# controle vergelijking rechte \n",
    "print(\"rico: %.3f\" % rechte.coef_[0])\n",
    "print(\"y-intercept: %.3f\" % rechte.intercept_)\n",
    "x_nieuw = np.linspace(-2, 4, 40)\n",
    "x_nieuw = (x_nieuw - x_train_gem)/x_train_std\n",
    "y_rechte = rechte.coef_[0]* x_nieuw + rechte.intercept_\n",
    "plt.plot(x_nieuw, y_rechte, color=\"yellow\", linestyle=\"dashed\")\n",
    "\n",
    "plt.show()"
   ]
  },
  {
   "cell_type": "markdown",
   "metadata": {},
   "source": [
    "Interpretatie: \n",
    "Gemiddelde kwadratische afwijking voor de rechte m.b.t. de trainingdata is 0.97.\n",
    "Gemiddelde kwadratische afwijking voor de rechte m.b.t. de testdata is 1.44. Deze fout is groter, dus niet zo'n goede generalisatie.<br>\n",
    "Merk op dat een bepaald punt allicht beschouwd kan worden als uitschieter. Bekijk eens wat de generalisatie is zonder dit punt."
   ]
  },
  {
   "cell_type": "code",
   "execution_count": 57,
   "metadata": {},
   "outputs": [
    {
     "name": "stdout",
     "output_type": "stream",
     "text": [
      "De vergelijking van de rechte: y = 0.1851998164535916 x + 4.581947075007938e-16\n"
     ]
    }
   ],
   "source": [
    "# vergelijking van de rechte\n",
    "print(\"De vergelijking van de rechte: y =\", rechte.coef_[0], \"x +\",rechte.intercept_)"
   ]
  },
  {
   "cell_type": "code",
   "execution_count": 58,
   "metadata": {},
   "outputs": [
    {
     "name": "stdout",
     "output_type": "stream",
     "text": [
      "De vergelijking van de rechte: y = 7.993161533203209 x + 194.46932267396758\n"
     ]
    }
   ],
   "source": [
    "# vergelijking van de rechte zonder standaardisatie\n",
    "print(\"De vergelijking van de rechte: y =\", \n",
    "      rechte.coef_[0]*y1_train_std/x_train_std, \"x +\",\n",
    "      rechte.intercept_ * y1_train_std + y1_train_gem - rechte.coef_[0] * x_train_gem *y1_train_std/x_train_std)"
   ]
  },
  {
   "cell_type": "markdown",
   "metadata": {},
   "source": [
    "## Zonder de uitschieter"
   ]
  },
  {
   "cell_type": "code",
   "execution_count": 63,
   "metadata": {},
   "outputs": [
    {
     "name": "stdout",
     "output_type": "stream",
     "text": [
      "[1.89821786 2.24145013 2.33074633 2.55119633 3.54740708]\n",
      "[[1.89821786]\n",
      " [2.24145013]\n",
      " [2.33074633]\n",
      " [2.55119633]\n",
      " [3.54740708]]\n",
      "[-0.41205571 -0.644298    0.94338062  0.70389692  1.22256274]\n",
      "(5, 1) (5,)\n"
     ]
    }
   ],
   "source": [
    "# testdata zonder uitschieter\n",
    "x_2_test = np.delete(x_test,4)\n",
    "y1_2_test = np.array(y1_test)\n",
    "y1_2_test = np.delete(y1_2_test,4)\n",
    "X_2_test = x_2_test[:, np.newaxis]\n",
    "print(x_2_test)\n",
    "print(X_2_test)\n",
    "print(y1_2_test)\n",
    "print(X_2_test.shape, y1_2_test.shape)"
   ]
  },
  {
   "cell_type": "code",
   "execution_count": 64,
   "metadata": {},
   "outputs": [
    {
     "name": "stdout",
     "output_type": "stream",
     "text": [
      "Gemiddelde kwadratische afwijking voor de rechte m.b.t. de testdata: 0.47\n"
     ]
    }
   ],
   "source": [
    "print(\"Gemiddelde kwadratische afwijking voor de rechte m.b.t. de testdata: %.2f\"% mean_squared_error(y1_2_test, rechte.predict(X_2_test)))"
   ]
  },
  {
   "cell_type": "markdown",
   "metadata": {},
   "source": [
    "Dat is al heel wat beter."
   ]
  }
 ],
 "metadata": {
  "kernelspec": {
   "display_name": "Python 3",
   "language": "python",
   "name": "python3"
  },
  "language_info": {
   "codemirror_mode": {
    "name": "ipython",
    "version": 3
   },
   "file_extension": ".py",
   "mimetype": "text/x-python",
   "name": "python",
   "nbconvert_exporter": "python",
   "pygments_lexer": "ipython3",
   "version": "3.6.4"
  }
 },
 "nbformat": 4,
 "nbformat_minor": 2
}
