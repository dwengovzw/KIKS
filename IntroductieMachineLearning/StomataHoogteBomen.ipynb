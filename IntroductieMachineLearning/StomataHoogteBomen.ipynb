{
 "cells": [
  {
   "cell_type": "markdown",
   "metadata": {},
   "source": [
    "<img src=\"../.images/logosnb.png\" alt=\"Banner\" style=\"width:800px;\"/>"
   ]
  },
  {
   "cell_type": "markdown",
   "metadata": {},
   "source": [
    "<div style='color: #690027;' markdown=\"1\">\n",
    "    <h1>HOOGTE BOMEN EN AFMETINGEN STOMATA IN HET AMAZONEWOUD</h1> \n",
    "</div>"
   ]
  },
  {
   "cell_type": "markdown",
   "metadata": {},
   "source": [
    "<div class=\"alert alert-box alert-success\">\n",
    "Onderzoekers uit Brazilië onderzochten met lineaire regressie of er een verband is tussen het aantal huidmondjes op bladeren in de kruin van een boom en de hoogte van de boom. In deze notebook ga je met hun data aan de slag en pas je er zelf lineaire regressie op toe. Je kan tot slot jouw resultaten vergelijken met die van de wetenschappers. \n",
    "</div>"
   ]
  },
  {
   "cell_type": "markdown",
   "metadata": {},
   "source": [
    "<div class=\"alert alert-block alert-warning\">\n",
    "In de notebook 'Regressie met de Iris virginica' vind je meer uitleg over lineaire regressie.\n",
    "</div>"
   ]
  },
  {
   "cell_type": "markdown",
   "metadata": {},
   "source": [
    "Paleoklimatologen hebben aangetoond dat er een verband is tussen het aantal en de grootte van stomata op bladeren en het CO<sub>2</sub>-gehalte in de atmosfeer toen deze planten groeiden.<br>\n",
    "Vandaag de dag wordt er wereldwijd door wetenschappers onderzoek gedaan naar de huidmondjes op bladeren van nu. <br> Bij sommige planten ontdekte men verschillen in de stomata van bladeren ontsproten in lente tegenover die in de zomer. Bij andere planten stelde men verschillen vast tussen bladeren in de kruin van een plant en de beschaduwde bladeren onderaan in de plant.<br>\n",
    "Vast staat dat het aantal en de grootte van de huidmondjes onderhevig is aan omgevingsfactoren.<br> <br>\n",
    "De onderzoekers Camargo en Marenco uit Brazilië vroegen zich het volgende af:<br>\n",
    "**Is er een verband tussen het aantal huidmondjes op bladeren in de kruin van een boom en de hoogte van de boom?**<br>\n",
    "Om dit te onderzoeken gebruikten ze data verzameld in het Amazonewoud [1]."
   ]
  },
  {
   "cell_type": "markdown",
   "metadata": {},
   "source": [
    "### Nodige modules importeren"
   ]
  },
  {
   "cell_type": "code",
   "execution_count": null,
   "metadata": {},
   "outputs": [],
   "source": [
    "import pandas as pd\n",
    "\n",
    "import matplotlib.pyplot as plt\n",
    "import numpy as np\n",
    "\n",
    "from sklearn.linear_model import LinearRegression\n",
    "from sklearn.metrics import r2_score\n",
    "from sklearn.metrics import mean_squared_error"
   ]
  },
  {
   "cell_type": "markdown",
   "metadata": {},
   "source": [
    "<div style='color: #690027;' markdown=\"1\">\n",
    "    <h2>1. Inlezen van de data</h2> \n",
    "</div>"
   ]
  },
  {
   "cell_type": "code",
   "execution_count": null,
   "metadata": {},
   "outputs": [],
   "source": [
    "amazone = pd.read_csv(\"../.data/IntroductieMachineLearning/amazone.dat\")  "
   ]
  },
  {
   "cell_type": "markdown",
   "metadata": {},
   "source": [
    "<div style='color: #690027;' markdown=\"1\">\n",
    "    <h2>2. Tonen van de ingelezen data</h2> \n",
    "</div>"
   ]
  },
  {
   "cell_type": "code",
   "execution_count": null,
   "metadata": {},
   "outputs": [],
   "source": [
    "# dataset weergeven in tabel\n",
    "amazone"
   ]
  },
  {
   "cell_type": "markdown",
   "metadata": {},
   "source": [
    "<div style='color: #690027;' markdown=\"1\">\n",
    "    <h2>3. De samenhang tussen de data nagaan via de correlatiecoëfficiënt</h2> \n",
    "</div>"
   ]
  },
  {
   "cell_type": "markdown",
   "metadata": {},
   "source": [
    "Meer uitleg over de correlatiecoëfficiënt vind je in de notebook 'Standaardiseren'."
   ]
  },
  {
   "cell_type": "markdown",
   "metadata": {},
   "source": [
    "Beschouw elk kenmerk."
   ]
  },
  {
   "cell_type": "code",
   "execution_count": null,
   "metadata": {},
   "outputs": [],
   "source": [
    "x1 = amazone[\"stomatale dichtheid\"] \n",
    "x2 = amazone[\"lengte stomata\"]\n",
    "x3 = amazone[\"hoogte boom\"]    "
   ]
  },
  {
   "cell_type": "markdown",
   "metadata": {},
   "source": [
    "Bepaal de correlatiecoëfficiënt R voor twee kenmerken uit de tabel. Is er een sterke, matige of zwakke samenhang tussen de kenmerken?"
   ]
  },
  {
   "cell_type": "code",
   "execution_count": null,
   "metadata": {},
   "outputs": [],
   "source": [
    "# in hoeverre is er verband tussen lengte en dichtheid van de stomata?\n",
    "# correlatiecoefficiênt R bepalen (ligt tussen -1 en 1, hoe dichter bij 0, hoe slechter de samenhang)\n",
    "np.corrcoef(x2, x1)[0,1]"
   ]
  },
  {
   "cell_type": "markdown",
   "metadata": {},
   "source": [
    "Matige samenhang!"
   ]
  },
  {
   "cell_type": "markdown",
   "metadata": {},
   "source": [
    "<div class=\"alert alert-box alert-success\">\n",
    "Er is een gekend verband tussen de dichtheid van de huidmondjes en de grootte ervan. Het verband is echter niet lineair maar kan het best weergegeven worden door een kromme.  \n",
    "</div>"
   ]
  },
  {
   "cell_type": "code",
   "execution_count": null,
   "metadata": {},
   "outputs": [],
   "source": [
    "# in hoeverre is er verband tussen hoogte van boom en dichtheid van stomata? \n",
    "np.corrcoef(x3, x1)[0,1]"
   ]
  },
  {
   "cell_type": "markdown",
   "metadata": {},
   "source": [
    "Er is een zwakke samenhang tussen de hoogte van boom en de stomatale dichtheid!"
   ]
  },
  {
   "cell_type": "code",
   "execution_count": null,
   "metadata": {},
   "outputs": [],
   "source": [
    "# in hoeverre is er verband tussen hoogte van boom en lengte van stomata? \n",
    "np.corrcoef(x3, x2)[0,1]"
   ]
  },
  {
   "cell_type": "markdown",
   "metadata": {},
   "source": [
    "Heel, heel zwakke samenhang!"
   ]
  },
  {
   "cell_type": "markdown",
   "metadata": {},
   "source": [
    "<div style='color: #690027;' markdown=\"1\">\n",
    "    <h2>4. Regressielijn voor verband stomatale dichtheid en hoogte boom</h2> \n",
    "</div>"
   ]
  },
  {
   "cell_type": "markdown",
   "metadata": {},
   "source": [
    "Camargo en Marenco bepaalden met Excel de regressielijn die de, weliswaar zwakke, samenhang tussen de stomatale dichtheid en de hoogte van de boom visualiseert. Ze hanteerden de rechte die de stomatale dichtheid uitzet in functie van de hoogte van de boom. Gebruikmakend van de gegeven data kan je dit zelf met de ingebouwde algoritmes van de Python-module scikit-learn doen en je resultaat met dat van hen vergelijken.<br>\n",
    "Nadien doe je nog eens hetzelfde maar dan volgens de methode die gehanteerd wordt door computerwetenschappers."
   ]
  },
  {
   "cell_type": "markdown",
   "metadata": {},
   "source": [
    "Je zal hier werken met de data opgeslagen in x1 en x3 (x1 bevat de stomatale dichtheden en x3 de hoogtes van de bomen). Bij de grafische voorstelling komt x3 op de y-as en x1 op de x-as."
   ]
  },
  {
   "cell_type": "markdown",
   "metadata": {},
   "source": [
    "Voor beide methodes geldt dat de data worden gestandaardiseerd. Meer uitleg over het belang van standaardiseren vind je in de notebook 'Standaardiseren'."
   ]
  },
  {
   "cell_type": "markdown",
   "metadata": {},
   "source": [
    "We zullen voor beide methodes werken met NumPy arrays om alle functionaliteiten van NumPy te kunnen gebruiken."
   ]
  },
  {
   "cell_type": "markdown",
   "metadata": {},
   "source": [
    "<div style='color: #690027;' markdown=\"1\">\n",
    "    <h3>4.1 Methode van de Braziliaanse onderzoekers (dezelfde methode als in de wiskundeles)</h3> \n",
    "</div>"
   ]
  },
  {
   "cell_type": "code",
   "execution_count": null,
   "metadata": {},
   "outputs": [],
   "source": [
    "x1 = np.array(x1) \n",
    "x3 = np.array(x3) \n",
    "print(x1, x3)"
   ]
  },
  {
   "cell_type": "markdown",
   "metadata": {},
   "source": [
    "Om vanuit de gestandaardiseerde variabelen te kunnen terugkeren naar de oorspronkelijke sla je het gemiddelde en de standaardafwijking van de variabelen op, zodat je er verder in de notebook gebruik kunt van maken."
   ]
  },
  {
   "cell_type": "code",
   "execution_count": null,
   "metadata": {},
   "outputs": [],
   "source": [
    "# gemiddelde en standaardafwijking van de variabelen opslaan voor gebruik verder in de notebook\n",
    "x1_gem = np.mean(x1)\n",
    "x1_std = np.std(x1)\n",
    "x3_gem = np.mean(x3)\n",
    "x3_std = np.std(x3)"
   ]
  },
  {
   "cell_type": "markdown",
   "metadata": {},
   "source": [
    "De methode werkt als volgt: eerst de data standaardiseren, dan de data omzetten naar het gewenste formaat, de regressielijn bepalen en samen met de puntenwolk weergeven op een grafiek."
   ]
  },
  {
   "cell_type": "code",
   "execution_count": null,
   "metadata": {},
   "outputs": [],
   "source": [
    "# data standaardiseren\n",
    "x1 = (x1 - np.mean(x1)) / np.std(x1)   # stomatale dichtheid\n",
    "x3 = (x3 - np.mean(x3)) / np.std(x3)   # hoogte boom\n",
    "\n",
    "# gewenste formaat en standaardnotatie voor regressie met scikit-learn\n",
    "X = x3[:, np.newaxis]    # x3 fungeert als input\n",
    "y= x1                    # x1 fungeert als output"
   ]
  },
  {
   "cell_type": "code",
   "execution_count": null,
   "metadata": {},
   "outputs": [],
   "source": [
    "# lineaire regressie\n",
    "rechte = LinearRegression()\n",
    "rechte.fit(X, y)\n",
    "\n",
    "# metrics\n",
    "print(\"R² voor de rechte: %.3f\" % r2_score(x1, rechte.predict(X)))\n",
    "print(\"Gemiddelde kwadratische afwijking voor de rechte: %.2f\"% mean_squared_error(x1, rechte.predict(X)))"
   ]
  },
  {
   "cell_type": "markdown",
   "metadata": {},
   "source": [
    "### Grafiek"
   ]
  },
  {
   "cell_type": "code",
   "execution_count": null,
   "metadata": {},
   "outputs": [],
   "source": [
    "# grafische voorstelling\n",
    "plt.figure(figsize=(10, 8))\n",
    "\n",
    "plt.xlim(x3.min()-0.5, x3.max()+0.5)\n",
    "plt.ylim(x1.min()-0.5, x1.max()+0.5)\n",
    "plt.title(\"Amazonewoud\")\n",
    "plt.xlabel(\"hoogte boom (gestandaardiseerd)\")\n",
    "plt.ylabel(\"stomatale dichtheid in mm² (gestandaardiseerd)\")\n",
    "\n",
    "plt.scatter(x3, x1, color=\"blue\", marker=\"o\")\n",
    "plt.plot(x3, rechte.predict(X), color=\"green\")\n",
    "\n",
    "plt.show()"
   ]
  },
  {
   "cell_type": "code",
   "execution_count": null,
   "metadata": {},
   "outputs": [],
   "source": [
    "# vergelijking van de rechte met gestandaardiseerde variabelen\n",
    "print(\"De vergelijking van de rechte: y =\", rechte.coef_[0], \"x +\", rechte.intercept_)"
   ]
  },
  {
   "cell_type": "markdown",
   "metadata": {},
   "source": [
    "### Resultaat vergelijken met dat van de wetenschappers"
   ]
  },
  {
   "cell_type": "markdown",
   "metadata": {},
   "source": [
    "Vergelijk de vergelijking van de regressielijn met die van de wetenschappers. Je zal daarvoor vanuit de gestandaardiseerde variabelen moeten terugkeren naar de oorspronkelijke. Let erop dat je daarvoor het oorspronkelijke gemiddelde en de oorspronkelijke standaardafwijking gebruikt. "
   ]
  },
  {
   "cell_type": "code",
   "execution_count": null,
   "metadata": {},
   "outputs": [],
   "source": [
    "# vergelijking van de rechte zonder standaardisatie\n",
    "print(\"De vergelijking van de rechte: y =\", \n",
    "      rechte.coef_[0]*x1_std/x3_std, \"x +\", rechte.intercept_ * x1_std + x1_gem - rechte.coef_[0] * x3_gem  *x1_std/x3_std)"
   ]
  },
  {
   "cell_type": "markdown",
   "metadata": {},
   "source": [
    "Deze vergelijking komt overeen met de resultaten van de Braziliaanse onderzoekers. Ook R² komt overeen (R² is onafhankelijk van de standaardisatie)."
   ]
  },
  {
   "cell_type": "markdown",
   "metadata": {},
   "source": [
    "<div style='color: #690027;' markdown=\"1\">\n",
    "    <h3>4.2 Methode uit machinaal leren (met trainingdata en testdata)</h3> \n",
    "</div>"
   ]
  },
  {
   "cell_type": "markdown",
   "metadata": {},
   "source": [
    "<div class=\"alert alert-box alert-info\">\n",
    "Binnen machinaal leren gaat men als volgt te werk: de data worden opgesplitst in trainingdata en testdata.<br> *De trainingdata worden gebruikt om een wiskundig model op te stellen. <br>Met de testdata wordt nagegaan of het model goed presteert op nieuwe data.*<br>\n",
    "Om te kijken hoe goed het model presteert wordt de gemiddelde kwadratische afwijking berekend.\n",
    "</div>"
   ]
  },
  {
   "cell_type": "code",
   "execution_count": null,
   "metadata": {},
   "outputs": [],
   "source": [
    "# oorspronkelijke data\n",
    "x1 = amazone[\"stomatale dichtheid\"]   \n",
    "x3 = amazone[\"hoogte boom\"] \n",
    "x1 = np.array(x1) \n",
    "x3 = np.array(x3) \n",
    "\n",
    "# trainingdata\n",
    "x_train = x3[0:29]\n",
    "y_train = x1[0:29]\n",
    "\n",
    "# testdata\n",
    "x_test = x3[29:]\n",
    "y_test = x1[29:]"
   ]
  },
  {
   "cell_type": "markdown",
   "metadata": {},
   "source": [
    "De training- en testdata worden als volgt **gestandaardiseerd**: van elke gegeven uit de trainingdata wordt het gemiddelde van de trainingdata afgetrokken en vervolgens wordt het resultaat gedeeld door de standaardafwijking van de trainingdata. <br> \n",
    "De volledige dataset wordt op dezelfde manier gestandaardiseerd. Men doet dus net hetzelfde met de testdata: men gebruikt er ook het gemiddelde en de standaardafwijking van de **trainingdata**. "
   ]
  },
  {
   "cell_type": "code",
   "execution_count": null,
   "metadata": {},
   "outputs": [],
   "source": [
    "# standaardiseren\n",
    "\n",
    "# gemiddelde en standaardawijking van de trainingdata bepalen\n",
    "x_train_gem = np.mean(x_train)\n",
    "x_train_std = np.std(x_train)\n",
    "y_train_gem = np.mean(y_train)\n",
    "y_train_std = np.std(y_train)\n",
    "\n",
    "# trainingdata standaardiseren\n",
    "x_train = (x_train - x_train_gem) / x_train_std\n",
    "y_train = (y_train - y_train_gem) / y_train_std\n",
    "\n",
    "# gewenste formaat\n",
    "X_train = x_train[:, np.newaxis]\n",
    "\n",
    "# testdata standaardiseren\n",
    "x_test = (x_test - x_train_gem) / x_train_std\n",
    "y_test = (y_test - y_train_gem) / y_train_std\n",
    "\n",
    "# gewenste formaat\n",
    "X_test = x_test[:, np.newaxis]"
   ]
  },
  {
   "cell_type": "code",
   "execution_count": null,
   "metadata": {},
   "outputs": [],
   "source": [
    "# lineaire regressie\n",
    "rechte = LinearRegression()\n",
    "rechte.fit(X_train, y_train)     # regressielijn bepalen a.h.v. de trainingdata\n",
    "\n",
    "# gemiddelde kwadratische afwijking t.o.v. de trainingdata\n",
    "print(\"Gemiddelde kwadratische afwijking voor de rechte m.b.t. de trainingdata: %.2f\"% mean_squared_error(y_train, rechte.predict(X_train)))\n",
    "\n",
    "# gemiddelde kwadratische afwijking t.o.v. de testdata (generalisatie)\n",
    "print(\"Gemiddelde kwadratische afwijking voor de rechte m.b.t. de testdata: %.2f\"% mean_squared_error(y_test, rechte.predict(X_test)))"
   ]
  },
  {
   "cell_type": "markdown",
   "metadata": {},
   "source": [
    "### Grafiek"
   ]
  },
  {
   "cell_type": "code",
   "execution_count": null,
   "metadata": {},
   "outputs": [],
   "source": [
    "# bereik inschatten\n",
    "x_train.min(), x_train.max(), x_test.min(), x_test.max(), y_train.min(), y_train.max(), y_test.min(), y_test.max()"
   ]
  },
  {
   "cell_type": "code",
   "execution_count": null,
   "metadata": {},
   "outputs": [],
   "source": [
    "# grafische voorstelling\n",
    "plt.figure(figsize=(10, 8))\n",
    "\n",
    "plt.xlim(x_train.min()-2, x_train.max()+2)\n",
    "plt.ylim(y_train.min()-2, y_test.max()+2)\n",
    "plt.title(\"Amazonewoud\")\n",
    "plt.xlabel(\"hoogte boom (gestandaardiseerd)\")\n",
    "plt.ylabel(\"stomatale dichtheid in mm² (gestandaardiseerd)\")\n",
    "\n",
    "plt.scatter(X_train, y_train, color=\"green\", marker=\"o\")\n",
    "plt.plot(X_train, rechte.predict(X_train), color=\"red\")\n",
    "\n",
    "# testdata\n",
    "plt.scatter(X_test, y_test, color=\"blue\", marker=\"o\")\n",
    "\n",
    "# controle vergelijking rechte \n",
    "print(\"rico: %.3f\" % rechte.coef_[0])\n",
    "print(\"y-intercept: %.3f\" % rechte.intercept_)\n",
    "x_nieuw = np.linspace(-3, 4, 40)\n",
    "y_rechte = rechte.coef_[0]* x_nieuw + rechte.intercept_\n",
    "plt.plot(x_nieuw, y_rechte, color=\"yellow\", linestyle=\"dashed\")\n",
    "\n",
    "plt.show()"
   ]
  },
  {
   "cell_type": "markdown",
   "metadata": {},
   "source": [
    "Interpretatie: \n",
    "Gemiddelde kwadratische afwijking voor de rechte m.b.t. de trainingdata is 0,93.\n",
    "Gemiddelde kwadratische afwijking voor de rechte m.b.t. de testdata is 2,78. Deze fout is groter, dus niet zo'n goede generalisatie.<br>"
   ]
  },
  {
   "cell_type": "code",
   "execution_count": null,
   "metadata": {},
   "outputs": [],
   "source": [
    "# vergelijking van de rechte\n",
    "print(\"De vergelijking van de rechte: y =\", rechte.coef_[0], \"x +\",rechte.intercept_)"
   ]
  },
  {
   "cell_type": "code",
   "execution_count": null,
   "metadata": {},
   "outputs": [],
   "source": [
    "# vergelijking van de rechte zonder standaardisatie\n",
    "print(\"De vergelijking van de rechte: y =\", \n",
    "      rechte.coef_[0]*y_train_std/x_train_std, \"x +\",\n",
    "      rechte.intercept_ * y_train_std + y_train_gem - rechte.coef_[0] * x_train_gem *y_train_std/x_train_std)"
   ]
  },
  {
   "cell_type": "markdown",
   "metadata": {},
   "source": [
    "## Uitschieter"
   ]
  },
  {
   "cell_type": "markdown",
   "metadata": {},
   "source": [
    "Merk op dat een bepaald punt van de testset allicht beschouwd kan worden als uitschieter. Bekijk eens wat de generalisatie is zonder dit punt. "
   ]
  },
  {
   "cell_type": "code",
   "execution_count": null,
   "metadata": {},
   "outputs": [],
   "source": [
    "# index uitschieter in de testset bepalen \n",
    "print(x_test, y_test)"
   ]
  },
  {
   "cell_type": "markdown",
   "metadata": {},
   "source": [
    "De uitschieter staat op de derde positie in de lijst en heeft dus index 2."
   ]
  },
  {
   "cell_type": "code",
   "execution_count": null,
   "metadata": {},
   "outputs": [],
   "source": [
    "# testdata zonder uitschieter\n",
    "x_2_test = np.delete(x_test, 2)\n",
    "y_2_test = np.delete(y_test, 2)\n",
    "print(x_2_test)\n",
    "print(y_2_test)\n",
    "\n",
    "# gewenste formaat\n",
    "X_2_test = x_2_test[:, np.newaxis]"
   ]
  },
  {
   "cell_type": "code",
   "execution_count": null,
   "metadata": {},
   "outputs": [],
   "source": [
    "print(\"Gemiddelde kwadratische afwijking voor de rechte m.b.t. de testdata: %.2f\"% mean_squared_error(y_2_test, rechte.predict(X_2_test)))"
   ]
  },
  {
   "cell_type": "markdown",
   "metadata": {},
   "source": [
    "Dat is al heel wat beter."
   ]
  },
  {
   "cell_type": "markdown",
   "metadata": {},
   "source": [
    "<div style='color: #690027;' markdown=\"1\">\n",
    "    <h2>5. Opdracht: bepaal de regressielijn voor verband stomatale dichtheid en lengte</h2> \n",
    "</div>"
   ]
  },
  {
   "cell_type": "markdown",
   "metadata": {},
   "source": [
    "Eerder in deze notebook berekende je de correlatiecoëfficiënt van de lengte van de stomata en de stomatale dichtheid. De lineaire samenhang tussen deze kenmerken is matig. "
   ]
  },
  {
   "cell_type": "code",
   "execution_count": null,
   "metadata": {},
   "outputs": [],
   "source": [
    "x1 = amazone[\"stomatale dichtheid\"]\n",
    "x2 = amazone[\"lengte stomata\"]\n",
    "np.corrcoef(x2, x1)[0,1]"
   ]
  },
  {
   "cell_type": "markdown",
   "metadata": {},
   "source": [
    "Omdat de correlatiecoëfficiënt negatief is, is de regressielijn dalend."
   ]
  },
  {
   "cell_type": "code",
   "execution_count": null,
   "metadata": {},
   "outputs": [],
   "source": [
    "# puntenwolk\n",
    "plt.figure(figsize=(10, 8))\n",
    "\n",
    "plt.xlim(0, 1000)\n",
    "plt.ylim(0, 50)\n",
    "plt.title(\"Amazonewoud\")\n",
    "plt.xlabel(\"stomatale dichtheid in mm²\")\n",
    "plt.ylabel(\"lengte stomata in micron\")\n",
    "\n",
    "plt.scatter(x1, x2, color=\"blue\", marker=\"o\")\n",
    "\n",
    "plt.show()"
   ]
  },
  {
   "cell_type": "markdown",
   "metadata": {},
   "source": [
    "Bepaal nu zelf de regressielijn en geef je resultaat weer op de grafiek. "
   ]
  },
  {
   "cell_type": "code",
   "execution_count": null,
   "metadata": {},
   "outputs": [],
   "source": []
  },
  {
   "cell_type": "markdown",
   "metadata": {},
   "source": [
    "<div class=\"alert alert-block alert-warning\">\n",
    "In de notebook 'Zeeniveau' leer je hoe je naast een rechte een kromme vindt die het beste past bij een gegeven puntenwolk. Je leert er ook over underfitting en overfitting.   \n",
    "</div>"
   ]
  },
  {
   "cell_type": "markdown",
   "metadata": {},
   "source": [
    "<div>\n",
    "    <h2>Referentielijst</h2> \n",
    "</div>"
   ]
  },
  {
   "cell_type": "markdown",
   "metadata": {},
   "source": [
    "[1] Camargo, Miguel Angelo Branco, & Marenco, Ricardo Antonio. (2011). Density, size and distribution of stomata in 35 rainforest tree species in Central Amazonia. Acta Amazonica, 41(2), 205-212. https://dx.doi.org/10.1590/S0044-59672011000200004 en via e-mail.<br>"
   ]
  },
  {
   "cell_type": "markdown",
   "metadata": {},
   "source": [
    "<img src=\"../.images/cclic.png\" alt=\"Banner\" align=\"left\" style=\"width:80px;\"/><br><br>\n",
    "Notebook KIKS, zie <a href=\"http://www.aiopschool.be\">ai op school</a>, van F. wyffels & N. Gesquière is in licentie gegeven volgens een <a href=\"http://creativecommons.org/licenses/by-nc-sa/4.0/\">Creative Commons Naamsvermelding-NietCommercieel-GelijkDelen 4.0 Internationaal-licentie</a>."
   ]
  }
 ],
 "metadata": {
  "kernelspec": {
   "display_name": "Python 3",
   "language": "python",
   "name": "python3"
  },
  "language_info": {
   "codemirror_mode": {
    "name": "ipython",
    "version": 3
   },
   "file_extension": ".py",
   "mimetype": "text/x-python",
   "name": "python",
   "nbconvert_exporter": "python",
   "pygments_lexer": "ipython3",
   "version": "3.6.4"
  }
 },
 "nbformat": 4,
 "nbformat_minor": 2
}
