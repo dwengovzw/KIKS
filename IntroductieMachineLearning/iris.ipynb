{
 "cells": [
  {
   "cell_type": "markdown",
   "metadata": {},
   "source": [
    "<img src=\"../.images/logosnb.png\" alt=\"Banner\" style=\"width: 1100px;\"/>"
   ]
  },
  {
   "cell_type": "markdown",
   "metadata": {},
   "source": [
    "<div style='color: #690027;' markdown=\"1\">\n",
    "    <h1>OPDRACHT BIJ CLASSIFICATIE MET DE IRIS DATASET</h1> \n",
    "</div>"
   ]
  },
  {
   "cell_type": "markdown",
   "metadata": {},
   "source": [
    "<div class=\"alert alert-box alert-success\">\n",
    "In de notebook 'Classificatie met de Iris dataset' leerde je hoe een <em>machinaal leren</em>-systeem erin slaagt twee klassen van punten <b>lineair van elkaar te scheiden</b>. Het Perceptron-algoritme vertrekt daarbij van een willekeurig gekozen rechte. Het algoritme past de coëfficiënten in de vergelijking van de rechte stap voor stap aan, gebaseerd op de gelabelde data, tot uiteindelijk een rechte bekomen wordt die de twee klassen van elkaar scheidt.<br><br>  \n",
    "</div>"
   ]
  },
  {
   "cell_type": "markdown",
   "metadata": {},
   "source": [
    "<div class=\"alert alert-box alert-success\">  \n",
    "In deze notebook doe je hetzelfde maar je maakt voor elke soort iris gebruik van de volledige dataset i.p.v. je te beperken tot 4 monsters.    \n",
    "</div>"
   ]
  },
  {
   "cell_type": "markdown",
   "metadata": {},
   "source": [
    "De Iris dataset werd in 1936 door de Brit Ronald Fischer gepubliceerd in 'The use of multiple measurements in taxonomic problems' [1][2].<br> \n",
    "De dataset betreft drie soorten irissen (*Iris setosa*, *Iris virginica* en *Iris versicolor*).\n",
    "Fischer kon de soorten van elkaar onderscheiden afgaande op vier kenmerken: de lengte en de breedte van de kelkbladen en de kroonbladen."
   ]
  },
  {
   "cell_type": "markdown",
   "metadata": {},
   "source": [
    "<table><tr>\n",
    "<td><img src=\"../.images/IntroductieMachineLearning/Kosaciec_szczecinkowaty_Iris_setosa.jpg\" alt=\"Drawing\" style=\"width: 200px;\"/></td>\n",
    "<td><img src=\"../.images/IntroductieMachineLearning/Iris_versicolor_3.jpg\" alt=\"Drawing\" style=\"width: 220px;\"/></td>\n",
    "<td><img src=\"../.images/IntroductieMachineLearning/Iris_virginica.jpg\" alt=\"Drawing\" style=\"width: 203px;\"/></td>\n",
    "</tr></table>\n",
    "\n",
    "<table><tr>\n",
    "    <td><em>Iris setosa</em> [3]</td>\n",
    "<td> &nbsp;&nbsp;&nbsp;&nbsp;&nbsp;&nbsp;&nbsp;&nbsp;&nbsp;&nbsp;&nbsp;&nbsp;&nbsp;&nbsp;&nbsp;&nbsp;&nbsp;&nbsp;&nbsp;&nbsp; &nbsp;&nbsp;&nbsp;&nbsp;&nbsp;&nbsp;&nbsp;</td>\n",
    "    <td><em>Iris versicolor</em> [4]</td>\n",
    "<td>&nbsp;&nbsp;&nbsp;&nbsp;&nbsp;&nbsp;&nbsp;&nbsp;&nbsp;&nbsp;&nbsp;&nbsp;&nbsp;&nbsp;&nbsp;&nbsp;&nbsp;&nbsp;&nbsp;&nbsp; &nbsp;&nbsp;&nbsp;&nbsp;&nbsp;&nbsp;&nbsp;</td>\n",
    "    <td><em>Iris virginica</em> [5]</td>\n",
    "</tr></table>\n",
    "<br>\n",
    "<center>Figuur 1: <em>Iris setosa</em> door Radomil Binek [CC BY-SA 3.0 (https://creativecommons.org/licenses/by-sa/3.0)], via Wikimedia Commons;<br> <em>Iris versicolor</em>. No machine-readable author provided. Dlanglois assumed (based on copyright claims). CC BY-SA 3.0, via Wikimedia Commons;<br> <em>Iris virginica</em> door Frank Mayfield. [CC BY-SA 2.0 (https://creativecommons.org/licenses/by-sa/2.0)], via Wikimedia Commons.</center>"
   ]
  },
  {
   "cell_type": "markdown",
   "metadata": {},
   "source": [
    "De Iris dataset is een *multivariate dataset*, d.w.z. een dataset met meerdere variabelen, die van elke soort 50 monsters bevat. Van elk monster werden de lengte en de breedte van een kroonblad en een kelkblad opgemeten in centimeter. "
   ]
  },
  {
   "cell_type": "markdown",
   "metadata": {},
   "source": [
    "<img src=\"../.images/IntroductieMachineLearning/kelkblad_kroonblad.jpg\" alt=\"Drawing\" style=\"width: 350px;\"/> "
   ]
  },
  {
   "cell_type": "markdown",
   "metadata": {},
   "source": [
    "### De nodige modules importeren"
   ]
  },
  {
   "cell_type": "code",
   "execution_count": null,
   "metadata": {},
   "outputs": [],
   "source": [
    "import numpy as np\n",
    "import matplotlib.pyplot as plt\n",
    "import pandas as pd\n",
    "\n",
    "from matplotlib import animation\n",
    "from IPython.display import HTML"
   ]
  },
  {
   "cell_type": "markdown",
   "metadata": {},
   "source": [
    "<div style='color: #690027;' markdown=\"1\">\n",
    "    <h2>Inlezen van de data</h2> \n",
    "</div>"
   ]
  },
  {
   "cell_type": "markdown",
   "metadata": {},
   "source": [
    "Lees met de module `pandas` de Iris dataset in."
   ]
  },
  {
   "cell_type": "code",
   "execution_count": null,
   "metadata": {},
   "outputs": [],
   "source": [
    "# dataset inlezen\n",
    "# in te lezen tabel heeft hoofding\n",
    "iris = pd.read_csv(\"../.data/IntroductieMachineLearning/irisHoofding.dat\", header=\"infer\") "
   ]
  },
  {
   "cell_type": "markdown",
   "metadata": {},
   "source": [
    "<div style='color: #690027;' markdown=\"1\">\n",
    "    <h2>Onderzoek</h2> \n",
    "</div>"
   ]
  },
  {
   "cell_type": "markdown",
   "metadata": {},
   "source": [
    "<div style='color: #690027;' markdown=\"1\">\n",
    "    <h3>De data weergeven in puntenwolk</h3> \n",
    "</div>"
   ]
  },
  {
   "cell_type": "markdown",
   "metadata": {},
   "source": [
    "<div style='color: #690027;' markdown=\"1\">\n",
    "    <h2>Classificatie</h2> \n",
    "</div>"
   ]
  },
  {
   "cell_type": "markdown",
   "metadata": {},
   "source": [
    "<div style='color: #690027;' markdown=\"1\">\n",
    "    <h3>Het Perceptron</h3> \n",
    "</div>"
   ]
  },
  {
   "cell_type": "markdown",
   "metadata": {},
   "source": [
    "De code is hieronder gekopieerd, klaar om aan te passen.<br>\n",
    "Veel succes!"
   ]
  },
  {
   "cell_type": "code",
   "execution_count": null,
   "metadata": {},
   "outputs": [],
   "source": [
    "font = {'family': 'serif',\n",
    "        'color':  'black',\n",
    "        'weight': 'normal',\n",
    "        'size': 16,\n",
    "        }\n",
    "\n",
    "def grafiek(coeff_x1, coeff_x3, cte):\n",
    "        \"\"\"Plot scheidingsrechte ('decision boundary') en geeft vergelijking ervan.\"\"\"\n",
    "        # lengte kroonlad t.o.v. lengte kelkblad\n",
    "        plt.scatter(x1[:4], x3[:4], color=\"green\", marker=\"o\", label=\"setosa\")      # setosa zijn eerste 4 (label 0)\n",
    "        plt.scatter(x1[4:], x3[4:], color=\"blue\", marker=\"x\", label=\"versicolor\")   # versicolor zijn de volgende 4 (label 1)\n",
    "        x = np.linspace(-1.5, 1.5, 10)\n",
    "        y_r = -coeff_x1/coeff_x3 * x - cte/coeff_x3\n",
    "        print(\"De grens is een rechte met vgl.\", coeff_x1, \"* x1 +\", coeff_x3, \"* x3 +\", cte, \"= 0\")\n",
    "        plt.plot(x, y_r, color=\"black\")\n",
    "        \n",
    "        plt.title(\"Scheiden vqn twee soorten irissen\", fontdict=font)\n",
    "        plt.xlabel(\"lengte kelkblad (cm)\", fontdict=font)\n",
    "        plt.ylabel(\"lengte bloemblad (cm)\", fontdict=font)\n",
    "        plt.legend(loc=\"lower right\")\n",
    "       \n",
    "        plt.show()\n",
    "        \n",
    "\n",
    "class Perceptron(object):\n",
    "    \"\"\"Perceptron classifier.\"\"\" \n",
    "    \n",
    "    def __init__(self, eta=0.01, n_iter=50, random_state=1):\n",
    "        \"\"\"self heeft drie parameters: leersnelheid, aantal pogingen, willekeurigheid.\"\"\"\n",
    "        self.eta = eta\n",
    "        self.n_iter = n_iter\n",
    "        self.random_state = random_state\n",
    "    \n",
    "    def fit(self, X, y):\n",
    "        \"\"\"Fit training data.\"\"\"\n",
    "        rgen = np.random.RandomState(self.random_state)\n",
    "        # kolommatrix van de gewichten ('weights')\n",
    "        # willekeurig gegenereerd uit normale verdeling met gemiddelde 0 en standaardafwijking 0.01\n",
    "        # aantal gewichten is aantal kenmerken in X plus 1 (+1 voor de bias)\n",
    "        self.w_ = rgen.normal(loc=0.0, scale=0.01, size=X.shape[1]+1)     # gewichtenmatrix die 3 gewichten bevat \n",
    "        print(\"Initiële willekeurige gewichten:\", self.w_)\n",
    "        self.errors_ = []    # foutenlijst\n",
    "       \n",
    "        # plot grafiek met scheidingsrechte\n",
    "        # grafiek(self.w_[0], self.w_[1], self.w_[2])\n",
    "        rechten = np.array([self.w_])\n",
    "        print(rechten)\n",
    "        # gewichten punt per punt aanpassen, gebaseerd op feedback van de verschillende pogingen        \n",
    "        for _ in range(self.n_iter):\n",
    "            print(\"epoch =\", _)\n",
    "            errors = 0\n",
    "            teller = 0\n",
    "            \n",
    "            for x, label in zip(X, y):            # x is datapunt (monster) uit matrix X, y overeenkomstig label\n",
    "                print(\"teller =\", teller)         # tel punten, het zijn er acht\n",
    "                print(\"punt:\", x, \"\\tlabel:\", label)\n",
    "                gegiste_klasse = self.predict(x)\n",
    "                print(\"gegiste klasse =\", gegiste_klasse)\n",
    "                # aanpassing nagaan voor dit punt\n",
    "                update = self.eta * (label - gegiste_klasse)     # als update = 0, juiste klasse, geen aanpassing nodig\n",
    "                print(\"update=\", update)\n",
    "                # grafiek en gewichten eventueel aanpassen na dit punt\n",
    "                if update !=0:\n",
    "                    self.w_[0:2] += update *x\n",
    "                    self.w_[2] += update\n",
    "                    errors += update\n",
    "                    print(\"gewichten =\", self.w_)\n",
    "                    # grafiek(self.w_[0], self.w_[1], self.w_[2])     # voorlopige 'decision boundary'\n",
    "                    rechten = np.append(rechten, [self.w_], axis =0)\n",
    "                    print(rechten)\n",
    "                teller += 1\n",
    "            self.errors_.append(errors)           # na alle punten, totale fout toevoegen aan foutenlijst\n",
    "            print(\"foutenlijst =\", self.errors_)          \n",
    "        return self, rechten        # geeft gewichtenmatrix en errorlijst terug\n",
    "    \n",
    "    def net_input(self, x):      # punt invullen in de voorlopige scheidingsrechte\n",
    "        \"\"\"Berekenen van z = lineaire combinatie van de  inputs inclusief bias en de weights voor elke gegeven punt.\"\"\"\n",
    "        return np.dot(x, self.w_[0:2]) + self.w_[2]\n",
    "    \n",
    "    def predict(self, x):\n",
    "        \"\"\"Gist klasse.\"\"\"\n",
    "        print(\"punt ingevuld in vergelijking rechte:\", self.net_input(x))\n",
    "        klasse = np.where(self.net_input(x) >=0, 1, 0)\n",
    "        return klasse\n",
    "    "
   ]
  },
  {
   "cell_type": "code",
   "execution_count": null,
   "metadata": {
    "scrolled": false
   },
   "outputs": [],
   "source": [
    "# Perceptron, leersnelheid 0.001 en 12 pogingen\n",
    "ppn = Perceptron(eta=0.001, n_iter=12)\n",
    "gewichtenlijst = ppn.fit(X,y)[1]\n",
    "print(\"Gewichtenlijst =\", gewichtenlijst)"
   ]
  },
  {
   "cell_type": "code",
   "execution_count": null,
   "metadata": {},
   "outputs": [],
   "source": [
    "# animatie \n",
    "xcoord = np.linspace(-1.5, 1.5, 10)\n",
    "ycoord = []\n",
    "for w in gewichtenlijst:\n",
    "    y_r = -w[0]/w[1] * xcoord - w[2]/w[1]\n",
    "    ycoord.append(y_r)\n",
    "    \n",
    "ycoord = np.array(ycoord)    \n",
    "fig, ax = plt.subplots()\n",
    "line, = ax.plot(xcoord, ycoord[0], color=\"black\")\n",
    "\n",
    "plt.scatter(x1[:4], x3[:4], color=\"green\", marker=\"o\", label=\"setosa\")      # setosa zijn eerste 4 (label 0)\n",
    "plt.scatter(x1[4:], x3[4:], color=\"blue\", marker=\"x\", label=\"versicolor\")   # versicolor zijn de volgende 4 (label 1)\n",
    "plt.title(\"Scheiden van twee soorten irissen\", fontdict=font)\n",
    "plt.xlabel(\"lengte kelkblad (cm)\", fontdict=font)\n",
    "plt.ylabel(\"lengte kroonblad (cm)\", fontdict=font)\n",
    "plt.legend(loc=\"lower right\")\n",
    "plt.savefig(\"eerstelijn.png\", dpi=300)\n",
    "def animate(i):\n",
    "    line.set_ydata(ycoord[i])  # update the data\n",
    "    return line,\n",
    "\n",
    "ax.axis([-2,2,-5, 5])\n",
    "plt.close()\n",
    "ani = animation.FuncAnimation(\n",
    "    fig, animate,  interval=1000, blit=True, save_count=10, frames=len(ycoord))\n",
    "    \n",
    "HTML(ani.to_jshtml())"
   ]
  },
  {
   "cell_type": "markdown",
   "metadata": {},
   "source": [
    "<div>\n",
    "    <h2>Referentielijst</h2> \n",
    "</div>"
   ]
  },
  {
   "cell_type": "markdown",
   "metadata": {},
   "source": [
    "[1] Dua, D., & Karra Taniskidou, E. (2017). UCI Machine Learning Repository [http://archive.ics.uci.edu/ml]. <br> &nbsp; &nbsp; &nbsp; &nbsp; Irvine, CA: University of California, School of Information and Computer Science.<br>\n",
    "[2] Fisher, R. A. (1936). The use of multiple measurements in taxonomic problems. *Annals of Eugenics*. 7(2), 179–188. <br> &nbsp; &nbsp; &nbsp; &nbsp; https://doi.org/10.1111/j.1469-1809.1936.tb02137.x.<br>\n",
    "[3] Radomil Binek [CC BY-SA 3.0 (https://creativecommons.org/licenses/by-sa/3.0)], via Wikimedia Commons.<br>\n",
    "[4] Danielle Langlois. No machine-readable author provided. Dlanglois assumed (based on copyright claims).<br> &nbsp; &nbsp; &nbsp; &nbsp; [CC BY-SA 3.0 (http://creativecommons.org/licenses/by-sa/3.0/)], via Wikimedia Commons.<br>\n",
    "[5] Frank Mayfield [CC BY-SA 2.0 (https://creativecommons.org/licenses/by-sa/2.0)] via Wikimedia Commons.<br>"
   ]
  },
  {
   "cell_type": "markdown",
   "metadata": {},
   "source": [
    "<img src=\"../.images/cclic.png\" alt=\"Banner\" align=\"left\" style=\"width:100px;\"/><br><br>\n",
    "Notebook KIKS, zie <a href=\"http://www.aiopschool.be\">AI op School</a>, van F. wyffels & N. Gesquière is in licentie gegeven volgens een <a href=\"http://creativecommons.org/licenses/by-nc-sa/4.0/\">Creative Commons Naamsvermelding-NietCommercieel-GelijkDelen 4.0 Internationaal-licentie</a>."
   ]
  }
 ],
 "metadata": {
  "kernelspec": {
   "display_name": "Python 3",
   "language": "python",
   "name": "python3"
  },
  "language_info": {
   "codemirror_mode": {
    "name": "ipython",
    "version": 3
   },
   "file_extension": ".py",
   "mimetype": "text/x-python",
   "name": "python",
   "nbconvert_exporter": "python",
   "pygments_lexer": "ipython3",
   "version": "3.7.4"
  }
 },
 "nbformat": 4,
 "nbformat_minor": 2
}
