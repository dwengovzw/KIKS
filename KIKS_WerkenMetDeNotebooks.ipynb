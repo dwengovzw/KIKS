{
 "cells": [
  {
   "cell_type": "markdown",
   "metadata": {},
   "source": [
    "<img src=\".images/logosnb.png\" alt=\"Banner\" style=\"width:800px;\"/>"
   ]
  },
  {
   "cell_type": "markdown",
   "metadata": {},
   "source": [
    "<div style='color: #690027;' markdown=\"1\">\n",
    "    <h1>KIKS: DE NOTEBOOKS</h1> \n",
    "</div>"
   ]
  },
  {
   "cell_type": "markdown",
   "metadata": {},
   "source": [
    "<div class=\"alert alert-box alert-success\">\n",
    "In deze notebook wordt uit de doeken gedaan hoe je <em>praktisch</em> met de notebooks van KIKS aan de slag gaat.<br>\n",
    "Ook de <em>volgorde</em> waarin de notebooks best doorlopen worden, vind je hier terug. \n",
    "</div>"
   ]
  },
  {
   "cell_type": "markdown",
   "metadata": {},
   "source": [
    "<div style='color: #690027;' markdown=\"1\">\n",
    "    <h2>1. Jupyter notebook</h2> \n",
    "</div>"
   ]
  },
  {
   "cell_type": "markdown",
   "metadata": {},
   "source": [
    "Jupyter Notebook is een open source webapplicatie waarin je *notebooks* kan creëren.<br> \n",
    "Notebooks zijn **digitale documenten** die zowel uitvoerbare code bevatten als tekst, afbeeldingen, filmpjes en hyperlinks.\n",
    "Het is dus mogelijk om via de notebooks nieuwe begrippen aan te brengen, opdrachten te formuleren, foto's te tonen, aanwezige code uit te voeren en zelf code op te stellen."
   ]
  },
  {
   "cell_type": "markdown",
   "metadata": {},
   "source": [
    "De notebooks van KIKS zijn onderverdeeld in drie categorieën: \n",
    "-  basisprincipes van programmeren en beeldverwerking;\n",
    "-  principes van machinaal leren;\n",
    "-  fundamenten van diepe neurale netwerken.\n",
    "\n",
    "De code die in de KIKS-notebooks gehanteerd wordt, is *Python 3*."
   ]
  },
  {
   "cell_type": "markdown",
   "metadata": {},
   "source": [
    "De Jupyter notebooks van KIKS worden aangeboden via een webserver, toegankelijk via een **webbrowser**.<br>\n",
    "Op je computer moet geen extra software worden geïnstalleerd om met de online notebooks aan de slag te gaan. Als je computer beschikt over een browser, dan kan je de notebooks doorlopen én eventuele code uitvoeren.  "
   ]
  },
  {
   "cell_type": "markdown",
   "metadata": {},
   "source": [
    "<div class=\"alert alert-block alert-info\"> \n",
    "Python is een zeer toegankelijke programmeertaal, die vaak ook zeer intuïtief is in gebruik. Bovendien is Python zo populair dat er heel wat modules voorhanden zijn die men vrij kan gebruiken. In een module zitten heel wat functies vervat die ervaren informatici reeds voor jou hebben geprogrammeerd. \n",
    "</div>"
   ]
  },
  {
   "cell_type": "markdown",
   "metadata": {},
   "source": [
    "In de notebooks worden **groene, blauwe en gele kaders** gebruikt. De groene vertellen wat de notebook behandelt en leggen linken naar de leerinhouden van het KIKS-project. De blauwe kaders vatten begrippen samen i.v.m. computerwetenschappen. De gele kaders geven tips."
   ]
  },
  {
   "cell_type": "markdown",
   "metadata": {},
   "source": [
    "<div style='color: #690027;' markdown=\"1\">\n",
    "    <h2>2. Een notebook doorlopen</h2> \n",
    "</div>"
   ]
  },
  {
   "cell_type": "markdown",
   "metadata": {},
   "source": [
    "In de notebooks vind je twee soorten cellen terug: een *Markdown-cel* en een *code-cel*.\n",
    "-  Een **Markdown-cel** komt overeen met een vak, waarin je tekst kan schrijven maar ook hyperlinks en afbeeldingen kunt invoegen.\n",
    "-  Een **code-cel** dient om code in te geven. Je herkent een code-cel omdat ze altijd grijs is en voorafgegaan wordt door `Ìn [ ]`. Bij het uitvoeren van de code, verschijnt er een \\* tussen de `[ ]`. Eens de code is uitgevoerd, staat er een getal tussen de `[ ]`."
   ]
  },
  {
   "cell_type": "markdown",
   "metadata": {},
   "source": [
    "<span style=\"color:#1E64C8\"><em>Deze tekst en alles wat hierboven staat, staat in Markdown-cellen.</em></span>"
   ]
  },
  {
   "cell_type": "code",
   "execution_count": null,
   "metadata": {},
   "outputs": [],
   "source": [
    "# deze tekst staat in een code-cel"
   ]
  },
  {
   "cell_type": "markdown",
   "metadata": {},
   "source": [
    "Om bv. tekst te lay-outen wordt Markdown of html-code gebruikt. Dat is ook zo om een afbeelding in te voeren.<br>\n",
    "Wiskundige formules invoeren in een Markdown-cel gebeurt met de veelgebruikte LaTeX-code tussen $ \\$\\$ $.<br>"
   ]
  },
  {
   "cell_type": "markdown",
   "metadata": {},
   "source": [
    "### Opdracht 2.1"
   ]
  },
  {
   "cell_type": "markdown",
   "metadata": {},
   "source": [
    "<div>\n",
    "Dubbelklik eens <span style=\"color:#1E64C8\"> **hier**.</span> De achterliggende instructies van deze markdown-cel worden zichtbaar, evenals de contour van de cel.<br>  Je zou deze cel nu kunnen bewerken.\n",
    "Keer terug naar de meer leesbare weergave door op **Ctrl + Enter** te drukken of op 'Run' in het menu.\n",
    "    </div>"
   ]
  },
  {
   "cell_type": "markdown",
   "metadata": {},
   "source": [
    "<div class=\"alert alert-block alert-warning\">\n",
    "Soms wordt in de notebook gevraagd om een antwoord te formuleren bij een opdracht. Dat gebeurt steeds in een Markdown-cel. <br>Je dubbelklikt dan op de cel en voert het antwoord in. Met 'Ctrl + Enter' of 'Run' voer je tot slot de cel uit om terug te keren naar de meer leesbare weergave.\n",
    "</div>"
   ]
  },
  {
   "cell_type": "markdown",
   "metadata": {},
   "source": [
    "<div>\n",
    "<img src=\".images/knipcopypasteknop.JPG\" alt=\"Banner\" align=\"left\" style=\"width:100px;\"/> &nbsp; of 'Insert' uit de menubalk kan je gebruiken om cellen te verwijderen, toe te voegen, te kopiëren, te knippen en te plakken.\n",
    "</div>"
   ]
  },
  {
   "cell_type": "markdown",
   "metadata": {},
   "source": [
    "### Opdracht 2.2"
   ]
  },
  {
   "cell_type": "markdown",
   "metadata": {},
   "source": [
    "<span style=\"color:#1E64C8\">**Klik** deze Markdown-cel aan.</span> <br>\n",
    "**Voeg een cel in** door in het menu bovenaan te kiezen voor: Insert > Insert Cell Below.<br>\n",
    "Er verschijnt hieronder een code-cel."
   ]
  },
  {
   "cell_type": "markdown",
   "metadata": {},
   "source": [
    "De aangemaakte cel is automatisch een code-cel. Verander die cel in een Markdown-cel door erin te klikken en in het menu te kiezen voor <img src=\".images/markdownknop.JPG\" alt=\"Banner\" align=\"right\" style=\"width:100px;\"/> "
   ]
  },
  {
   "cell_type": "markdown",
   "metadata": {},
   "source": [
    "Je kan ook een cel toevoegen door een cel aan te klikken; vooraan verschijnt dan een blauwe rand. Als je dan op de A-toets duwt, verschijnt een code-cel boven de aangeklikte cel. Als je op de B-toets duwt, verschijnt er een onder.    "
   ]
  },
  {
   "cell_type": "markdown",
   "metadata": {},
   "source": [
    "<div style='color: #690027;' markdown=\"1\">\n",
    "    <h2>3. Code in een notebook</h2> \n",
    "</div>"
   ]
  },
  {
   "cell_type": "markdown",
   "metadata": {},
   "source": [
    "De KIKS-notebooks zijn zo opgebouwd dat bij het begin van een notebook doorgaans *eerst de nodige modules* worden geïmporteerd. Dat houdt de notebooks overzichtelijk."
   ]
  },
  {
   "cell_type": "markdown",
   "metadata": {},
   "source": [
    "Interessant om te weten is dat in een notebook alle code samenhoort. De notebook onthoudt als het ware welke code reeds werd uitgevoerd, ongeacht in welke volgorde die werd ingetikt in de notebook. *Het is het tijdstip van uitvoeren dat de sequentie van het uiteindelijke script bepaalt.*"
   ]
  },
  {
   "cell_type": "markdown",
   "metadata": {},
   "source": [
    "We stimuleren dat er bij het invoeren van code, aandacht wordt besteed aan een leesbare programmeerstijl en de nodige  commentaar."
   ]
  },
  {
   "cell_type": "markdown",
   "metadata": {},
   "source": [
    "### Hieronder volgt een oplijsting van sneltoetsen en elementen uit het menu die je veel zult gebruiken."
   ]
  },
  {
   "cell_type": "markdown",
   "metadata": {},
   "source": [
    "#### Om code uit te voeren:\n",
    "-   Ctrl + Enter  &nbsp;&nbsp;&emsp;*hierbij blijf je nog steeds in dezelfde cel*; \n",
    "-   Shift + Enter  &emsp;*hierbij ga je naar de volgende cel*;\n",
    "-   Run            &nbsp;&nbsp;&nbsp;&nbsp;&nbsp;&nbsp;&emsp;&emsp;&emsp;*hierbij ga je naar de volgende cel*. \n",
    "\n",
    "#### Om de inhoud van een cel aan te passen:\n",
    "-  dubbelklik op de cel;\n",
    "-  pas de inhoud van de cel aan.\n",
    "\n",
    "#### Om het 'runnen' van een code-cel te onderbreken:\n",
    "-  kies in het menu voor: Kernel > Interrupt.\n",
    "\n",
    "#### Om opnieuw te beginnen:\n",
    "-  kies in het menu voor: Kernel > Restart & Clear Output."
   ]
  },
  {
   "cell_type": "markdown",
   "metadata": {},
   "source": [
    "<div class=\"alert alert-block alert-warning\"> \n",
    "In deze notebook zie je verschillende grijze vakken staan. Dat zijn code-cellen die Python-code bevatten. <br>\n",
    "<b>Om de code uit te voeren, klik je op zo'n grijze cel en voer je die uit met de Run-knop bovenaan in het menu. <img src=\".images/runknop.JPG\" alt=\"Banner\" align=\"right\" style=\"width:60px;\"/></b><br> Je kan de code in zo'n cel ook aanpassen en opnieuw uitvoeren. \n",
    "</div>"
   ]
  },
  {
   "cell_type": "markdown",
   "metadata": {},
   "source": [
    "### Opdracht 3.1\n",
    "Oefen dit even in!"
   ]
  },
  {
   "cell_type": "markdown",
   "metadata": {},
   "source": [
    "- Klik in de code-cel hieronder en doe 'Ctrl + Enter' om de code-cel uit te voeren.<br> Let op het \\*-symbool en het getal die zullen verschijnen tussen de `[ ]`."
   ]
  },
  {
   "cell_type": "code",
   "execution_count": null,
   "metadata": {},
   "outputs": [],
   "source": [
    "print(\"Welkom bij KIKS!\")"
   ]
  },
  {
   "cell_type": "markdown",
   "metadata": {},
   "source": [
    "-  Vervang `Welkom bij KIKS!` door je voornaam en voer de code-cel opnieuw uit.\n",
    "-  Klik opnieuw de cel aan en maak erboven een nieuwe cel aan door op de A-toets te duwen.  \n",
    "-  Verander de cel in een Markdown-cel.\n",
    "-  Verwijder deze nieuwe cel door de cel aan te klikken en op het schaartje in de menubalk te duwen. <img src=\".images/knipknop.JPG\" alt=\"Banner\" align=\"left\" style=\"width:40px;\"/>"
   ]
  },
  {
   "cell_type": "markdown",
   "metadata": {},
   "source": [
    "<div class=\"alert alert-block alert-warning\">\n",
    "In de notebooks wordt regelmatig gevraagd om bestaande code aan te passen. We raden aan om de bestaande code dan te kopiëren in een nieuwe code-cel en daarin de aanpassingen te doen. Anders riskeer je dat je nodige code hebt verwijderd en niet meer weet wat er oorspronkelijk stond.\n",
    "</div>"
   ]
  },
  {
   "cell_type": "markdown",
   "metadata": {},
   "source": [
    "<div style='color: #690027;' markdown=\"1\">\n",
    "    <h2>4. Een notebook bewaren</h2> \n",
    "</div>"
   ]
  },
  {
   "cell_type": "markdown",
   "metadata": {},
   "source": [
    "Eens je op de webserver bent ingelogd, kan je een notebook op de server ongeveer anderhalf uur gebruiken . <br>\n",
    "Je kan de notebook afprinten net zoals je bv. een webpagina afprint. Het is aangeraden om een schaal van bv. 85 % te kiezen.<br>\n",
    "Je kan de notebook ook downloaden en opslaan op je computer. Als je de opgeslagen notebook vanop je computer wilt openen en doorlopen, dan kan je bv. de Jupyter notebook applicatie binnen Anaconda gebruiken.  "
   ]
  },
  {
   "cell_type": "markdown",
   "metadata": {},
   "source": [
    "<div style='color: #690027;' markdown=\"1\">\n",
    "    <h2>5. Een KIKS-sessie afsluiten</h2> \n",
    "</div>"
   ]
  },
  {
   "cell_type": "markdown",
   "metadata": {},
   "source": [
    "Als je klaar bent met een notebook op de server, sluit je het tabblad van die notebook. <br>Vervolgens ga je naar het 'Home'-tabblad, waar je in het menu 'Running' bij de specifieke notebook 'Shutdown' aanklikt. <br> Als je je KIKS-sessie wilt afsluiten, dan beeïndig je al je geopende notebooks op die manier en tot slot log je uit.<br>\n",
    "De server wordt zo op een efficiënte manier gebruikt."
   ]
  },
  {
   "cell_type": "markdown",
   "metadata": {},
   "source": [
    "<div style='color: #690027;' markdown=\"1\">\n",
    "    <h2>6. De volgorde van de KIKS-notebooks</h2> \n",
    "</div>"
   ]
  },
  {
   "cell_type": "markdown",
   "metadata": {},
   "source": [
    "Bij het werken met de notebooks van KIKS respecteer je het best deze volgorde:\n",
    "\n",
    "### Introductie Python\n",
    "> Aan de slag <br>\n",
    "    Rekenen <br>\n",
    "    Datastructuur <br>\n",
    "    Structuren <br>\n",
    "    Datastructuur NumPy <br>\n",
    "    Functies <br>\n",
    "    Klassen <br>\n",
    "    Grafieken <br>\n",
    "    CO$_{2}$  <br>\n",
    "    Keelingcurve <br>\n",
    "    Verband tussen CO$_{2}$ en temperatuur <br>\n",
    "    Smeltende gletsjer: Morteratsch <br>\n",
    "    Smeltende gletsjer: Silvretta <br>\n",
    "    Tensoren <br>\n",
    "    Matrices en afbeeldingen in grijswaarden <br>\n",
    "    Tensoren en RGB \n",
    "\n",
    "### Introductie Machine Learning\n",
    "> Standaardiseren <br>\n",
    "    Regressie met de Morteratschgletsjer <br>\n",
    "    Regressie met de Silvrettagletsjer <br>\n",
    "    Classificatie met de Iris-dataset <br>\n",
    "    Regressie met data over de *Iris virginica* <br>\n",
    "    Hoogte bomen en afmetingen stomata in het Amazonewoud <br>\n",
    "    Stomata op bezonde en beschaduwde bladeren \n",
    "    \n",
    "### Introductie Deep Learning\n",
    "> Detectie van stomata in een afbeelding<br>\n",
    "    Convolutie <br>\n",
    "    Convolutie: de bewerking <br>\n",
    "    ReLU <br>\n",
    "    Gradient descent <br>\n",
    "    Fundamenten van een diep neuraal netwerk voor beeldherkenning <br>\n",
    "    Overfitting <br>\n",
    "    Stomatadetectie \n",
    "     "
   ]
  },
  {
   "cell_type": "markdown",
   "metadata": {},
   "source": [
    "<img src=\".images/cclic.png\" alt=\"Banner\" align=\"left\" style=\"width:80px;\"/><br><br>\n",
    "Notebook KIKS, zie <a href=\"http://www.aiopschool.be\">ai op school</a>, van F. wyffels, N. Gesquière & C. Boitsios is in licentie gegeven volgens een <a href=\"http://creativecommons.org/licenses/by-nc-sa/4.0/\">Creative Commons Naamsvermelding-NietCommercieel-GelijkDelen 4.0 Internationaal-licentie</a>. "
   ]
  }
 ],
 "metadata": {
  "anaconda-cloud": {},
  "kernelspec": {
   "display_name": "Python 3",
   "language": "python",
   "name": "python3"
  },
  "language_info": {
   "codemirror_mode": {
    "name": "ipython",
    "version": 3
   },
   "file_extension": ".py",
   "mimetype": "text/x-python",
   "name": "python",
   "nbconvert_exporter": "python",
   "pygments_lexer": "ipython3",
   "version": "3.6.4"
  }
 },
 "nbformat": 4,
 "nbformat_minor": 1
}
