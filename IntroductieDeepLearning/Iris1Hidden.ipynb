{
 "cells": [
  {
   "cell_type": "markdown",
   "metadata": {},
   "source": [
    "<img src=\"../.images/logosnb.png\" alt=\"Banner\" style=\"width: 1100px;\"/>"
   ]
  },
  {
   "cell_type": "markdown",
   "metadata": {},
   "source": [
    "<div style='color: #690027;' markdown=\"1\">\n",
    "    <h1>CLASSIFICATIE VAN DE IRIS DATASET MET EEN HIDDEN LAYER </h1> \n",
    "</div>"
   ]
  },
  {
   "cell_type": "markdown",
   "metadata": {},
   "source": [
    "<div class=\"alert alert-box alert-success\">\n",
    "De classificatie in drie klassen gebeurt op basis van twee kenmerken.\n",
    "</div>"
   ]
  },
  {
   "cell_type": "markdown",
   "metadata": {},
   "source": [
    "Deze notebook bevat een concreet voorbeeld van een neuraal netwerk. Het netwerk wordt opgebouwd met de functionaliteiten van de Python-module Keras. \n",
    "\n",
    "Het voorbeeld betreft een classificatieprobleem, nl. het classificeren van drie soorten irissen. Van elke iris worden 4 kenmerken gegeven: de lengte en breedte van een kelkblad en de lengte en breedte van een kroonblad, opgemeten in centimeter. Er zijn 3 categorieën: <em>iris setosa</em>, <em>iris versicolor</em> en <em>iris virginica</em>. \n",
    "\n",
    "Om het netwerk te trainen, wordt gebruik gemaakt van de Iris dataset [1][2]. Deze dataset bestaat uit 150 monsters.  "
   ]
  },
  {
   "cell_type": "markdown",
   "metadata": {},
   "source": [
    "<table><tr>\n",
    "<td><img src=\"../.images/IntroductieMachineLearning/Kosaciec_szczecinkowaty_Iris_setosa.jpg\" alt=\"Drawing\" style=\"width: 200px;\"/></td>\n",
    "<td><img src=\"../.images/IntroductieMachineLearning/Iris_versicolor_3.jpg\" alt=\"Drawing\" style=\"width: 220px;\"/></td>\n",
    "<td><img src=\"../.images/IntroductieMachineLearning/Iris_virginica.jpg\" alt=\"Drawing\" style=\"width: 203px;\"/></td>\n",
    "</tr></table>\n",
    "\n",
    "<table><tr>\n",
    "    <td><em>Iris setosa</em> [3]</td>\n",
    "<td> &nbsp;&nbsp;&nbsp;&nbsp;&nbsp;&nbsp;&nbsp;&nbsp;&nbsp;&nbsp;&nbsp;&nbsp;&nbsp;&nbsp;&nbsp;&nbsp;&nbsp;&nbsp;&nbsp;&nbsp; &nbsp;&nbsp;&nbsp;&nbsp;&nbsp;&nbsp;&nbsp;</td>\n",
    "    <td><em>Iris versicolor</em> [4]</td>\n",
    "<td>&nbsp;&nbsp;&nbsp;&nbsp;&nbsp;&nbsp;&nbsp;&nbsp;&nbsp;&nbsp;&nbsp;&nbsp;&nbsp;&nbsp;&nbsp;&nbsp;&nbsp;&nbsp;&nbsp;&nbsp; &nbsp;&nbsp;&nbsp;&nbsp;&nbsp;&nbsp;&nbsp;</td>\n",
    "    <td><em>Iris virginica</em> [5]</td>\n",
    "</tr></table>\n",
    "<br>\n",
    "<center>Figuur 1: <em>Iris setosa</em> door Radomil Binek [CC BY-SA 3.0 (https://creativecommons.org/licenses/by-sa/3.0)], via Wikimedia Commons;<br> <em>Iris versicolor</em>. No machine-readable author provided. Dlanglois assumed (based on copyright claims). CC BY-SA 3.0, via Wikimedia Commons. <br> <em>Iris virginica</em>  door Frank Mayfield [CC BY-SA 2.0 (https://creativecommons.org/licenses/by-sa/2.0)], via Wikimedia Commons.</center>"
   ]
  },
  {
   "cell_type": "markdown",
   "metadata": {},
   "source": [
    "### De nodige modules importeren"
   ]
  },
  {
   "cell_type": "code",
   "execution_count": null,
   "metadata": {
    "scrolled": true
   },
   "outputs": [],
   "source": [
    "import numpy as np \n",
    "import pandas as pd\n",
    "import matplotlib.pyplot as plt\n",
    "\n",
    "from sklearn.preprocessing import StandardScaler        # om data te standaardiseren\n",
    "from sklearn.utils import shuffle                       # om data onderling te kunnen wisselen\n",
    "\n",
    "# import keras\n",
    "from keras import models\n",
    "from keras import layers\n",
    "from keras.utils import to_categorical"
   ]
  },
  {
   "cell_type": "markdown",
   "metadata": {},
   "source": [
    "<div style='color: #690027;' markdown=\"1\">\n",
    "    <h2>1. Inlezen van de data</h2> \n",
    "</div>"
   ]
  },
  {
   "cell_type": "code",
   "execution_count": null,
   "metadata": {},
   "outputs": [],
   "source": [
    "iris = pd.read_csv(\"../.data/IntroductieDeepLearning/iris.dat\", header=None)  # in te lezen tabel heeft geen hoofding"
   ]
  },
  {
   "cell_type": "markdown",
   "metadata": {},
   "source": [
    "<div style='color: #690027;' markdown=\"1\">\n",
    "    <h2>2. Tonen van de ingelezen data</h2> \n",
    "</div>"
   ]
  },
  {
   "cell_type": "code",
   "execution_count": null,
   "metadata": {},
   "outputs": [],
   "source": [
    "iris"
   ]
  },
  {
   "cell_type": "markdown",
   "metadata": {},
   "source": [
    "Deze tabel komt overeen met een matrix met 150 rijen en 5 kolommen: <br>\n",
    "150 monsters, 4 kenmerken (x1, x2, x3, x4) en 1 label (y) <br><br>\n",
    "De kenmerken:<br>\n",
    "- eerste kolom: lengte kelkblad \n",
    "- tweede kolom: breedte kelkblad\n",
    "- derde kolom: lengte kroonblad \n",
    "- vierde kolom: breedte kroonblad<br><br>\n",
    "\n",
    "Het label:<br>\n",
    "- laatste kolom: de naam van de soort "
   ]
  },
  {
   "cell_type": "code",
   "execution_count": null,
   "metadata": {},
   "outputs": [],
   "source": [
    "# omzetten naar NumPy array\n",
    "iris = np.array(iris)"
   ]
  },
  {
   "cell_type": "markdown",
   "metadata": {},
   "source": [
    "Je zal een classificatie van de drie soorten irissen doen op basis van de lengte en de breedte van het kelkblad."
   ]
  },
  {
   "cell_type": "code",
   "execution_count": null,
   "metadata": {},
   "outputs": [],
   "source": [
    "X = iris[:, 0:2]    # kenmerken in eerste en tweede kolom\n",
    "y= iris[:, 4]         "
   ]
  },
  {
   "cell_type": "code",
   "execution_count": null,
   "metadata": {},
   "outputs": [],
   "source": [
    "print(X,y)"
   ]
  },
  {
   "cell_type": "code",
   "execution_count": null,
   "metadata": {},
   "outputs": [],
   "source": [
    "# data voorbereiden\n",
    "# data in X standaardiseren\n",
    "scaler = StandardScaler()\n",
    "X = scaler.fit_transform(X)"
   ]
  },
  {
   "cell_type": "code",
   "execution_count": null,
   "metadata": {},
   "outputs": [],
   "source": [
    "print(X)"
   ]
  },
  {
   "cell_type": "code",
   "execution_count": null,
   "metadata": {},
   "outputs": [],
   "source": [
    "print(np.min(X), np.max(X))"
   ]
  },
  {
   "cell_type": "code",
   "execution_count": null,
   "metadata": {},
   "outputs": [],
   "source": [
    "# labels numeriek weergeven\n",
    "y[y == 'Iris-setosa'] = 0\n",
    "y[y == 'Iris-versicolor'] = 1\n",
    "y[y == 'Iris-virginica'] = 2"
   ]
  },
  {
   "cell_type": "code",
   "execution_count": null,
   "metadata": {},
   "outputs": [],
   "source": [
    "print(y)"
   ]
  },
  {
   "cell_type": "code",
   "execution_count": null,
   "metadata": {},
   "outputs": [],
   "source": [
    "# data shufflen\n",
    "X, y = shuffle(X, y)"
   ]
  },
  {
   "cell_type": "code",
   "execution_count": null,
   "metadata": {},
   "outputs": [],
   "source": [
    "print(X, y)"
   ]
  },
  {
   "cell_type": "code",
   "execution_count": null,
   "metadata": {},
   "outputs": [],
   "source": [
    "# data opsplitsen in traindata, validatiedata en testdata\n",
    "X_train = X[0:100, :]      # 100 trainsamples\n",
    "X_val = X[100:120, :]      # 20 validatiesamples\n",
    "X_test = X[120:, :]        # 30 testsamples\n",
    "y_train = y[0:100]\n",
    "y_val= y[100:120]\n",
    "y_test= y[120:] "
   ]
  },
  {
   "cell_type": "code",
   "execution_count": null,
   "metadata": {},
   "outputs": [],
   "source": [
    "X_train.shape                      # 100 samples"
   ]
  },
  {
   "cell_type": "code",
   "execution_count": null,
   "metadata": {},
   "outputs": [],
   "source": [
    "# data visualiseren\n",
    "\n",
    "font = {'family': 'serif',\n",
    "        'color':  'black',\n",
    "        'weight': 'normal',\n",
    "        'size': 14,\n",
    "        }\n",
    "color = [\"green\", \"blue\", \"yellow\"]\n",
    "soort = [\"setosa\", \"versicolor\", \"virginica\"]\n",
    "\n",
    "plt.figure(figsize=(8, 6))\n",
    "\n",
    "for target in range(3):\n",
    "    X_plot = X[y == target]\n",
    "    plt.scatter(X_plot[:, 0], X_plot[:, 1], marker='o', color=color[target], label=soort[target])\n",
    "plt.title(\"Iris dataset\", fontdict=font)\n",
    "plt.xlabel(\"lengte kelkblad\", fontdict=font)\n",
    "plt.ylabel(\"breedte kelkblad\", fontdict=font)\n",
    "plt.legend(loc=\"lower right\")\n",
    "\n",
    "plt.show()"
   ]
  },
  {
   "cell_type": "markdown",
   "metadata": {},
   "source": [
    "<div style='color: #690027;' markdown=\"1\">\n",
    "    <h2>3. Architectuur van het netwerk</h2> \n",
    "</div>"
   ]
  },
  {
   "cell_type": "code",
   "execution_count": null,
   "metadata": {},
   "outputs": [],
   "source": [
    "# architectuur netwerk     https://keras.io/getting-started/sequential-model-guide/\n",
    "\n",
    "# 'Sequential model' is model dat bestaat uit aaneengeschakelde lagen\n",
    "# netwerk met dense layers, 'dense layers'  betekent 'fully connected'\n",
    "# (feed forward netwerk met) 1 hidden layer\n",
    "\n",
    "# model moet weten welke vorm van input het kan verwachten, m.a.w. wat dimensie is van de inputpunten\n",
    "# daarom wordt dit aan eerste laag van Sequential model meegegeven\n",
    "# enkel aan de eerste want volgende lagen krijgen dat automatisch door voltrekken wiskundige bewerkingen \n",
    "# loss-functie moet geminimaliseerd worden m.b.v. optimizer\n",
    "# met metrics ga je performantie van model na\n",
    "\n",
    "network = models.Sequential()\n",
    "\n",
    "network.add(layers.Dense(10, input_dim=2, activation=\"relu\"))  # hidden layer  10 neuronen, activatie ReLU\n",
    "network.add(layers.Dense(3, activation=\"softmax\"))             # output layer  3 outputneuronen, activatie softmax\n",
    "network.compile(optimizer=\"sgd\",\n",
    "                loss=\"categorical_crossentropy\",\n",
    "                metrics=[\"accuracy\"])                          # optimizer, loss en metrics kiezen"
   ]
  },
  {
   "cell_type": "code",
   "execution_count": null,
   "metadata": {},
   "outputs": [],
   "source": [
    "# one hot encoding\n",
    "y_train = to_categorical(y_train)\n",
    "y_val = to_categorical(y_val)\n",
    "y_test = to_categorical(y_test)"
   ]
  },
  {
   "cell_type": "code",
   "execution_count": null,
   "metadata": {},
   "outputs": [],
   "source": [
    "print(y_train[0])"
   ]
  },
  {
   "cell_type": "markdown",
   "metadata": {},
   "source": [
    "<div style='color: #690027;' markdown=\"1\">\n",
    "    <h2>4. Trainen van het netwerk</h2> \n",
    "</div>"
   ]
  },
  {
   "cell_type": "code",
   "execution_count": null,
   "metadata": {},
   "outputs": [],
   "source": [
    "# trainen met de methode fit() van network, m.a.w. de kenmerken en de labels op elkaar afstemmen\n",
    "# 50 epochs\n",
    "# steeds 10 datapunten per keer gebruiken om de kost te minimaliseren\n",
    "# merk op dat na elke epoch de loss en accuracy vermeld worden\n",
    "history = network.fit(X_train, y_train, epochs=50, batch_size=10, validation_data=(X_val,y_val))"
   ]
  },
  {
   "cell_type": "markdown",
   "metadata": {},
   "source": [
    "<div style='color: #690027;' markdown=\"1\">\n",
    "    <h2>5. Prestatie van het netwerk</h2> \n",
    "</div>"
   ]
  },
  {
   "cell_type": "code",
   "execution_count": null,
   "metadata": {},
   "outputs": [],
   "source": [
    "loss = history.history[\"loss\"]\n",
    "epochs = range (1 , len(loss) +1)\n",
    "acc = history.history[\"accuracy\"]\n",
    "val_acc = history.history[\"val_accuracy\"]\n",
    "val_loss = history.history[\"val_loss\"]"
   ]
  },
  {
   "cell_type": "code",
   "execution_count": null,
   "metadata": {},
   "outputs": [],
   "source": [
    "font = {'family': 'serif',\n",
    "        'color':  'black',\n",
    "        'weight': 'normal',\n",
    "        'size': 14,\n",
    "        }\n",
    "plt.figure(figsize=(16,8))\n",
    "\n",
    "plt.subplot(1,2,1)\n",
    "plt.plot(epochs, loss, color=\"blue\", label=\"train\", linewidth=2)\n",
    "plt.plot(epochs, val_loss, color=\"lightblue\", label=\"val\", linewidth=2)\n",
    "plt.xticks(np.arange(0, 51, step=5))             \n",
    "plt.title(\"Loss op training- en validatieset\", fontdict=font)\n",
    "plt.xlabel(\"epoch\", fontdict=font)\n",
    "plt.ylabel(\"loss\", fontdict=font)\n",
    "plt.legend(loc=\"lower left\")\n",
    "\n",
    "plt.subplot(1,2,2)\n",
    "plt.plot(epochs, acc, color=\"green\", label=\"train\", linewidth=2)\n",
    "plt.plot(epochs, val_acc, color=\"lime\", label=\"val\", linewidth=2)\n",
    "plt.xticks(np.arange(0, 51, step=5)) \n",
    "plt.title(\"Accuracy op training- en validatieset\", fontdict=font)\n",
    "plt.xlabel(\"epoch\", fontdict=font)\n",
    "plt.ylabel(\"acc\", fontdict=font)\n",
    "plt.legend(loc=\"lower right\")\n",
    "\n",
    "plt.show()"
   ]
  },
  {
   "cell_type": "code",
   "execution_count": null,
   "metadata": {},
   "outputs": [],
   "source": [
    "test_loss, test_acc = network.evaluate(X_test, y_test)\n",
    "print('test_acc:', test_acc)"
   ]
  },
  {
   "cell_type": "code",
   "execution_count": null,
   "metadata": {},
   "outputs": [],
   "source": [
    "punt = np.array([[-0.5, 3]])\n",
    "voorspelling = network.predict(punt)\n",
    "print(voorspelling)\n",
    "voorspelling.shape"
   ]
  },
  {
   "cell_type": "markdown",
   "metadata": {},
   "source": [
    "<div style='color: #690027;' markdown=\"1\">\n",
    "    <h2>6. Decision boundary</h2> \n",
    "</div>"
   ]
  },
  {
   "cell_type": "markdown",
   "metadata": {},
   "source": [
    "Eerst wat voorbereidend werk. <br>\n",
    "Je wilt dat uit de 'voorspelling' volgt dat de 'voorspelde klasse' gegeven wordt, voor het voorbeeld de klasse met cijfer 2."
   ]
  },
  {
   "cell_type": "code",
   "execution_count": null,
   "metadata": {},
   "outputs": [],
   "source": [
    "voorspelling = voorspelling[0]\n",
    "print(voorspelling)"
   ]
  },
  {
   "cell_type": "code",
   "execution_count": null,
   "metadata": {},
   "outputs": [],
   "source": [
    "max = np.max(voorspelling)\n",
    "print(max)\n",
    "voorspeldeklasse = np.where(voorspelling == max)\n",
    "print(voorspeldeklasse)"
   ]
  },
  {
   "cell_type": "code",
   "execution_count": null,
   "metadata": {},
   "outputs": [],
   "source": [
    "voorspeldeklasse = voorspeldeklasse[0]      \n",
    "print(voorspeldeklasse)"
   ]
  },
  {
   "cell_type": "code",
   "execution_count": null,
   "metadata": {
    "scrolled": true
   },
   "outputs": [],
   "source": [
    "# decision boundary\n",
    "font = {'family': 'serif',\n",
    "        'color':  'black',\n",
    "        'weight': 'normal',\n",
    "        'size': 14,\n",
    "        }\n",
    "color = [\"green\", \"blue\", \"yellow\"]\n",
    "soort = [\"setosa\", \"versicolor\", \"virginica\"]\n",
    "                  \n",
    "plt.figure(figsize=(8, 6))\n",
    "\n",
    "for target in range(3):\n",
    "    X_plot = X[y == target]\n",
    "    plt.scatter(X_plot[:, 0], X_plot[:, 1], marker='o', color=color[target], label=soort[target])\n",
    "plt.title(\"Classificatie Iris dataset\", fontdict=font)\n",
    "plt.xlabel(\"lengte kelkblad\", fontdict=font)\n",
    "plt.ylabel(\"breedte kelkblad\", fontdict=font)\n",
    "\n",
    "plt.legend(loc=\"lower right\")\n",
    "\n",
    "as1 = np.linspace(-2, 3, 40)\n",
    "as2 = np.linspace(-3, 4, 40)\n",
    "\n",
    "# resolutie\n",
    "xx1 = np.arange(as1.min()-1, as1.max()+1, 0.2)\n",
    "xx2 = np.arange(as2.min()-1, as2.max()+1, 0.2)                     \n",
    "\n",
    "for a in xx1:\n",
    "    for b in xx2:\n",
    "        P = np.array([[a, b]])\n",
    "        voorspelling = network.predict(P)[0]\n",
    "        max = np.max(voorspelling)\n",
    "        voorspeldeklasse = np.where(voorspelling == max)[0]\n",
    "       \n",
    "        if voorspeldeklasse == 0:\n",
    "            kleur = \"lightgreen\"\n",
    "        else:\n",
    "            if voorspeldeklasse == 1:\n",
    "                kleur = \"lightblue\"\n",
    "            else: \n",
    "                kleur = \"pink\"\n",
    "        plt.plot(a, b, marker='.', color=kleur)\n",
    "\n",
    "plt.show()"
   ]
  },
  {
   "cell_type": "markdown",
   "metadata": {},
   "source": [
    "<div>\n",
    "    <h2>Referentielijst</h2> \n",
    "</div>"
   ]
  },
  {
   "cell_type": "markdown",
   "metadata": {},
   "source": [
    "[1] Dua, D., & Karra Taniskidou, E. (2017). UCI Machine Learning Repository [http://archive.ics.uci.edu/ml]. <br> &nbsp; &nbsp; &nbsp; &nbsp; Irvine, CA: University of California, School of Information and Computer Science.<br>\n",
    "[2] Fisher, R. A. (1936). The use of multiple measurements in taxonomic problems. *Annals of Eugenics*. 7(2), 179–188. <br> &nbsp; &nbsp; &nbsp; &nbsp; https://doi.org/10.1111/j.1469-1809.1936.tb02137.x.<br>\n",
    "[3] Radomil Binek. [CC BY-SA 3.0 (https://creativecommons.org/licenses/by-sa/3.0)], via Wikimedia Commons.<br>\n",
    "[4] Danielle Langlois. No machine-readable author provided. Dlanglois assumed (based on copyright claims).<br> &nbsp; &nbsp; &nbsp; &nbsp;  [CC BY-SA 3.0 (http://creativecommons.org/licenses/by-sa/3.0/)],\n",
    "via Wikimedia Commons.<br>\n",
    "[5] Frank Mayfield. [CC BY-SA 2.0 (https://creativecommons.org/licenses/by-sa/2.0)], via Wikimedia Commons."
   ]
  },
  {
   "cell_type": "markdown",
   "metadata": {},
   "source": [
    "<img src=\"../.images/cclic.png\" alt=\"Banner\" align=\"left\" style=\"width:100px;\"/><br><br>\n",
    "Notebook KIKS, zie <a href=\"http://www.aiopschool.be\">AI op School</a>, van F. wyffels & N. Gesquière is in licentie gegeven volgens een <a href=\"http://creativecommons.org/licenses/by-nc-sa/4.0/\">Creative Commons Naamsvermelding-NietCommercieel-GelijkDelen 4.0 Internationaal-licentie</a>. "
   ]
  }
 ],
 "metadata": {
  "kernelspec": {
   "display_name": "Python 3",
   "language": "python",
   "name": "python3"
  },
  "language_info": {
   "codemirror_mode": {
    "name": "ipython",
    "version": 3
   },
   "file_extension": ".py",
   "mimetype": "text/x-python",
   "name": "python",
   "nbconvert_exporter": "python",
   "pygments_lexer": "ipython3",
   "version": "3.7.4"
  }
 },
 "nbformat": 4,
 "nbformat_minor": 2
}
