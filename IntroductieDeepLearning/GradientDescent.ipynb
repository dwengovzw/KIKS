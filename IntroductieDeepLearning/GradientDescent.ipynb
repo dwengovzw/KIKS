{
 "cells": [
  {
   "cell_type": "markdown",
   "metadata": {},
   "source": [
    "<img src=\"../.images/logosnb.png\" alt=\"Banner\" style=\"width: 1100px;\"/>"
   ]
  },
  {
   "cell_type": "markdown",
   "metadata": {},
   "source": [
    "<div style='color: #690027;' markdown=\"1\">\n",
    "    <h1>GRADIENT DESCENT</h1> \n",
    "</div>"
   ]
  },
  {
   "cell_type": "markdown",
   "metadata": {},
   "source": [
    "<div class=\"alert alert-box alert-success\">\n",
    "In deze notebook bekijk je een voorbeeld van een functie die afhankelijk is van slechts één variabele. Deze functie is een tweedegraadsfunctie en heeft één minimum. We laten punten op de grafiek van de functie naar het minimum bewegen m.b.v. afgeleiden.\n",
    "</div>"
   ]
  },
  {
   "cell_type": "markdown",
   "metadata": {},
   "source": [
    "<div class=\"alert alert-box alert-info\">\n",
    "De <b><em>loss function</em></b> is een functie van de <b><em>weights</em></b>. De <em>weights</em> worden door het ML-model zo aangepast dat de <em>loss function</em> haar minimale waarde bereikt. Men doet dat aan de hand van de steilte van de raaklijnen aan de grafiek van de <em>loss function</em>, m.a.w. door gebruik te maken van afgeleiden.\n",
    "Deze methode heet <b><em>gradient descent</em></b>.\n",
    "</div>"
   ]
  },
  {
   "cell_type": "markdown",
   "metadata": {},
   "source": [
    "### Nodige modules importeren"
   ]
  },
  {
   "cell_type": "markdown",
   "metadata": {},
   "source": [
    "Om vergelijkingen op te lossen, coördinaten te berekenen, nulwaarden te bepalen en stelsels op te lossen ga je de module SymPy gebruiken. <br>"
   ]
  },
  {
   "cell_type": "code",
   "execution_count": null,
   "metadata": {},
   "outputs": [],
   "source": [
    "import numpy as np\n",
    "import matplotlib.pyplot as plt\n",
    "from sympy import Symbol"
   ]
  },
  {
   "cell_type": "markdown",
   "metadata": {},
   "source": [
    "<div style='color: #690027;' markdown=\"1\">\n",
    "    <h2>1. Grafiek van een parabool</h2> \n",
    "</div>"
   ]
  },
  {
   "cell_type": "markdown",
   "metadata": {},
   "source": [
    "<div class=\"alert alert-block alert-warning\"> \n",
    "Je leerde reeds in de notebook 'Grafieken' hoe je met de module Matplotlib een grafiek kunt tekenen.\n",
    "</div>"
   ]
  },
  {
   "cell_type": "code",
   "execution_count": null,
   "metadata": {},
   "outputs": [],
   "source": [
    "# GRAFIEK VAN PARABOOL MET GEGEVEN VERGELIJKING\n",
    "\n",
    "# kies de x-coördinaten van de punten die geplot worden\n",
    "x = np.linspace(-9.5, 9.5, 50)\n",
    "# vergelijking van de parabool: y = 3x² + 2x + 5\n",
    "# bereken voor elke x-coördinaat de y-waarde\n",
    "y = 3 * x**2 + 2 * x + 5\n",
    "\n",
    "# parabool plotten  \n",
    "# bereik en ijk assen\n",
    "plt.axis(xmin=-10, xmax=10, ymin=-5, ymax=100)  \n",
    "plt.xticks(np.arange(-10, 11, step=5))\n",
    "plt.yticks(np.arange(-5, 100, step=10))\n",
    "# plot parabool\n",
    "plt.plot(x, y, color=\"blue\", linewidth=1.0, linestyle=\"solid\")  \n",
    "     \n",
    "# tekenvenster openen\n",
    "plt.show()"
   ]
  },
  {
   "cell_type": "markdown",
   "metadata": {},
   "source": [
    "<div style='color: #690027;' markdown=\"1\">\n",
    "    <h2>2. Punt op de parabool plotten</h2> \n",
    "</div>"
   ]
  },
  {
   "cell_type": "code",
   "execution_count": null,
   "metadata": {},
   "outputs": [],
   "source": [
    "# PARABOOL PLOTTEN MET WILLEKEURIG PUNT EROP\n",
    "\n",
    "# GRAFIEK VAN PARABOOL MET GEGEVEN VERGELIJKING\n",
    "\n",
    "# kies de x-coördinaten van de punten die geplot worden\n",
    "x = np.linspace(-9.5, 9.5, 50)\n",
    "# vergelijking van de parabool: y = 3x² + 2x + 5\n",
    "# bereken voor elke x-coördinaat de y-waarde\n",
    "y = 3 * x**2 + 2 * x + 5      # verband tussen x en y voor concrete waarden van x\n",
    "\n",
    "# parabool plotten  \n",
    "# bereik en ijk assen\n",
    "plt.axis(xmin=-10, xmax=10, ymin=-5, ymax=100)  \n",
    "plt.xticks(np.arange(-10, 11, step=5))\n",
    "plt.yticks(np.arange(-5, 100, step=10))\n",
    "# plot parabool\n",
    "plt.plot(x, y, color=\"blue\", linewidth=1.0, linestyle=\"solid\")  \n",
    "     \n",
    "# punt P op de parabool, P(-5, ...)\n",
    "# x en y behandelen als symbolen en niet als variabelen\n",
    "x = Symbol(\"x\")\n",
    "y = Symbol(\"y\")\n",
    "y = 3 * x**2 + 2 * x + 5      # symbolische vergelijking van parabool\n",
    "x_P = -5 \n",
    "y_P = y.subs(x, -5)           # y_P berekenen door in symbolische vergelijking x te vervangen door -5\n",
    "plt.plot(x_P, y_P, color=\"purple\", marker=\"o\")  # plot punt P op parabool \n",
    "\n",
    "# tekenvenster openen\n",
    "plt.show()"
   ]
  },
  {
   "cell_type": "markdown",
   "metadata": {},
   "source": [
    "<div style='color: #690027;' markdown=\"1\">\n",
    "    <h2>3. Afgeleiden</h2> \n",
    "</div>"
   ]
  },
  {
   "cell_type": "markdown",
   "metadata": {},
   "source": [
    "De *afgeleide in een punt* van een parabool is de richtingscoëfficiënt van de raaklijn in dat punt aan de parabool. <br>\n",
    "Waar de parabool stijgt, is de raaklijn een stijgende rechte en is de richtingscoëfficiënt van de raaklijn positief. Waar de parabool daalt, is ze negatief. <br>\n",
    "In een top van de parabool is de raaklijn horizontaal en de afgeleide 0. <br>\n",
    "Hoe steiler de raaklijn, hoe groter de richtingscoëfficiënt van de raaklijn in absolute waarde, dus hoe groter de afgeleide in absolute waarde."
   ]
  },
  {
   "cell_type": "markdown",
   "metadata": {},
   "source": [
    "<div style='color: #690027;' markdown=\"1\">\n",
    "    <h2>4. Punt laten bewegen naar het laagste punt op de parabool</h2> \n",
    "</div>"
   ]
  },
  {
   "cell_type": "markdown",
   "metadata": {},
   "source": [
    "De bedoeling is dat het punt P op de parabool beweegt naar het laagste punt. De x-waarde zal dus met bepaalde hoeveelheden moeten worden aangepast, zodat P effectief nadert tot de top van de parabool. Eens dicht bij de top moet men er alert voor zijn dat men niet voorbij de top gaat.<br><br>\n",
    "De raaklijn in P speelt ook een rol. Als P ver verwijderd is van de top, is die raaklijn steil. Als P dicht bij de top ligt, is die raaklijn niet steil meer.<br>\n",
    "Hoe steiler de raaklijn, hoe groter de rico van de raaklijn in absolute waarde, dus hoe groter de afgeleide in absolute waarde. <br><br>\n",
    "Als je de stappen zodanig kiest dat ze evenredig zijn met de rico van de raaklijn, zal je voor een punt P ver van de top (waar de raaklijn steiler is) relatief grote stappen nemen, en voor een punt P dicht bij de top (waar de raaklijn niet steil meer is) kleine stappen nemen. Net wat je wilt!<br>Je kiest daarvoor een evenredigheidsfactor $\\eta$, gelegen tussen 0 en 1 ($\\eta$ is de Griekse letter *èta*). <br>\n",
    "De rico van de raaklijn in P is negatief, dus moet je de rico van de x-waarde aftrekken, zodat P naar rechts beweegt. "
   ]
  },
  {
   "cell_type": "markdown",
   "metadata": {},
   "source": [
    "### Eerste poging"
   ]
  },
  {
   "cell_type": "code",
   "execution_count": null,
   "metadata": {},
   "outputs": [],
   "source": [
    "# punt op parabool laten bewegen naar top, evenredig met rico van raaklijn\n",
    "\n",
    "# GRAFIEK VAN PARABOOL MET GEGEVEN VERGELIJKING\n",
    "\n",
    "# kies de x-coördinaten van de punten die geplot worden\n",
    "x = np.linspace(-9.5, 9.5, 50)\n",
    "# vergelijking van de parabool: y = 3x² + 2x + 5\n",
    "# bereken voor elke x-coördinaat de y-waarde\n",
    "y = 3 * x**2 + 2 * x + 5      # verband tussen x en y voor concrete waarden van x\n",
    "\n",
    "# parabool plotten  \n",
    "# bereik en ijk assen\n",
    "plt.axis(xmin=-10, xmax=10, ymin=-5, ymax=100)  \n",
    "plt.xticks(np.arange(-10, 11, step=5))\n",
    "plt.yticks(np.arange(-5, 100, step=10))\n",
    "# plot parabool\n",
    "plt.plot(x, y, color=\"blue\", linewidth=1.0, linestyle=\"solid\")    \n",
    "\n",
    "# punt P op de parabool, P(-5, ...)\n",
    "# x en y behandelen als symbolen en niet als variabelen\n",
    "x = Symbol(\"x\")\n",
    "y = Symbol(\"y\")\n",
    "y = 3 * x**2 + 2 * x + 5      # symbolische vergelijking van parabool\n",
    "Dy = 6 * x + 2            # afgeleide functie geeft voor elke waarde van x rico raaklijn in dat punt\n",
    "x_P = -5 \n",
    "y_P = y.subs(x, -5)\n",
    "print(x_P, y_P)\n",
    "plt.plot(x_P, y_P, color=\"purple\", marker=\"o\")    # plot punt P op parabool\n",
    "\n",
    "# punt verplaatst zich op parabool\n",
    "eta = 0.3                         # evenredigheidsfactor\n",
    "for c in [\"lightgreen\", \"lightblue\", \"grey\", \"pink\", \"orange\", \"yellow\"]:\n",
    "    x_P = x_P - eta * Dy.subs(x, x_P)\n",
    "    y_P = y.subs(x, x_P)\n",
    "    print(x_P, y_P)\n",
    "    plt.plot(x_P, y_P, color=c, marker=\"o\")      # kijken om kleuren te laten veranderen\n",
    "\n",
    "# tekenvenster openen\n",
    "plt.show()"
   ]
  },
  {
   "cell_type": "markdown",
   "metadata": {},
   "source": [
    "Het gele punt is al vrij dicht bij de top, maar er is toch nog een stukje te gaan!"
   ]
  },
  {
   "cell_type": "markdown",
   "metadata": {},
   "source": [
    "### Opdracht 4.1\n",
    "- Pas de evenredigheidsfactor `eta` aan naar 0.1 en 0.5. \n",
    "- Kies zelf eens een waarde voor de evenredigheidsfactor `eta`. "
   ]
  },
  {
   "cell_type": "markdown",
   "metadata": {},
   "source": [
    "### Uitdaging 4.2\n",
    "- Probeer ook eens een heel kleine waarde. Je kan hiervoor het gekopieerde script hieronder gebruiken."
   ]
  },
  {
   "cell_type": "code",
   "execution_count": null,
   "metadata": {},
   "outputs": [],
   "source": [
    "# punt op parabool laten bewegen naar top, evenredig met rico van raaklijn\n",
    "\n",
    "# GRAFIEK VAN PARABOOL MET GEGEVEN VERGELIJKING\n",
    "\n",
    "# kies de x-coördinaten van de punten die geplot worden\n",
    "x = np.linspace(-9.5, 9.5, 50)\n",
    "# vergelijking van de parabool: y = 3x² + 2x + 5\n",
    "# bereken voor elke x-coördinaat de y-waarde\n",
    "y = 3 * x**2 + 2 * x + 5      # verband tussen x en y voor concrete waarden van x\n",
    "\n",
    "# parabool plotten  \n",
    "# bereik en ijk assen\n",
    "plt.axis(xmin=-10, xmax=10, ymin=-5, ymax=100)  \n",
    "plt.xticks(np.arange(-10, 11, step=5))\n",
    "plt.yticks(np.arange(-5, 100, step=10))\n",
    "# plot parabool\n",
    "plt.plot(x, y, color=\"blue\", linewidth=1.0, linestyle=\"solid\")    \n",
    "\n",
    "# punt P op de parabool, P(-5, ...)\n",
    "# x en y behandelen als symbolen en niet als variabelen\n",
    "x = Symbol(\"x\")\n",
    "y = Symbol(\"y\")\n",
    "y = 3 * x**2 + 2 * x + 5      # symbolische vergelijking van parabool\n",
    "Dy = 6 * x + 2            # afgeleide functie geeft voor elke waarde van x rico raaklijn in dat punt\n",
    "x_P = -5 \n",
    "y_P = y.subs(x, -5)\n",
    "print(x_P, y_P)\n",
    "plt.plot(x_P, y_P, color=\"purple\", marker=\"o\")    # plot punt P op parabool\n",
    "\n",
    "# punt verplaatst zich op parabool\n",
    "eta = 0.3                         # evenredigheidsfactor\n",
    "for c in [\"lightgreen\", \"lightblue\", \"grey\", \"pink\", \"orange\", \"yellow\",\"lightgreen\", \"lightblue\", \"grey\", \"pink\", \"orange\", \"yellow\", \"lightgreen\", \"lightblue\", \"grey\", \"pink\", \"orange\", \"yellow\"]:\n",
    "    x_P = x_P - eta * Dy.subs(x, x_P)\n",
    "    y_P = y.subs(x, x_P)\n",
    "    print(x_P, y_P)\n",
    "    plt.plot(x_P, y_P, color=c, marker=\"o\")      # kijken om kleuren te laten veranderen\n",
    "\n",
    "# tekenvenster openen\n",
    "plt.show()"
   ]
  },
  {
   "cell_type": "markdown",
   "metadata": {},
   "source": [
    "<div class=\"alert alert-box alert-info\">\n",
    "Bij een te grote of een te kleine evenredigheidsfactor wordt het minimum niet gevonden. Het is dus zeer belangrijk om een geschikte waarde voor de evenredigheidsfactor te bepalen. Men noemt deze evenredigheidsfactor de <b><em>learning rate</em></b>.\n",
    "</div>"
   ]
  },
  {
   "cell_type": "markdown",
   "metadata": {},
   "source": [
    "### Tweede poging\n",
    "Het script wordt wat aangepast om helemaal tot aan de top te geraken. "
   ]
  },
  {
   "cell_type": "code",
   "execution_count": null,
   "metadata": {},
   "outputs": [],
   "source": [
    "# punt op parabool laten bewegen naar top, evenredig met rico van raaklijn\n",
    "\n",
    "# GRAFIEK VAN PARABOOL MET GEGEVEN VERGELIJKING\n",
    "\n",
    "# kies de x-coördinaten van de punten die geplot worden\n",
    "x = np.linspace(-9.5, 9.5, 50)\n",
    "# vergelijking van de parabool: y = 3x² + 2x + 5\n",
    "# bereken voor elke x-coördinaat de y-waarde\n",
    "y = 3 * x**2 + 2 * x + 5      # verband tussen x en y voor concrete waarden van x\n",
    "\n",
    "# parabool plotten  \n",
    "# bereik en ijk assen\n",
    "plt.axis(xmin=-10, xmax=10, ymin=-5, ymax=100)  \n",
    "plt.xticks(np.arange(-10, 11, step=5))\n",
    "plt.yticks(np.arange(-5, 100, step=10))\n",
    "# plot parabool\n",
    "plt.plot(x, y, color=\"blue\", linewidth=1.0, linestyle=\"solid\")    \n",
    "\n",
    "# punt P op de parabool, P(-5, ...)\n",
    "# x en y behandelen als symbolen en niet als variabelen\n",
    "x = Symbol(\"x\")\n",
    "y = Symbol(\"y\")\n",
    "y = 3 * x**2 + 2 * x + 5      # symbolische vergelijking van parabool\n",
    "Dy = 6 * x + 2            # afgeleide functie geeft voor elke waarde van x rico raaklijn in dat punt\n",
    "x_P = -5 \n",
    "y_P = y.subs(x, -5)\n",
    "print(x_P, y_P)\n",
    "plt.plot(x_P, y_P, color=\"purple\", marker=\"o\")    # plot punt P op parabool\n",
    "\n",
    "# punt verplaatst zich op parabool\n",
    "eta = 0.3                         # evenredigheidsfactor\n",
    "for i in range(7):                                 # aangepast voor meer stappen\n",
    "    x_P = x_P - eta * Dy.subs(x, x_P)\n",
    "    y_P = y.subs(x, x_P)\n",
    "    print(x_P, y_P)\n",
    "    plt.plot(x_P, y_P, color=\"red\", marker=\"o\")      \n",
    "\n",
    "# tekenvenster openen\n",
    "plt.show()"
   ]
  },
  {
   "cell_type": "markdown",
   "metadata": {},
   "source": [
    "### Opdracht 4.3\n",
    "De top van deze parabool ligt op (-1/3, ...). Je bent er dus bijna.<br>\n",
    "Pas de code aan totdat je dicht in de buurt van (-0.3333...; ...) bent."
   ]
  },
  {
   "cell_type": "markdown",
   "metadata": {},
   "source": [
    "<div style='color: #690027;' markdown=\"1\">\n",
    "    <h2>5. Oefening: Startpunt rechts van de top</h2> \n",
    "</div>"
   ]
  },
  {
   "cell_type": "markdown",
   "metadata": {},
   "source": [
    "Doe nu hetzelfde waarbij je vertrekt van een punt Q(4, ...) rechts van de top van de parabool. Pas daarvoor het script aan."
   ]
  },
  {
   "cell_type": "code",
   "execution_count": null,
   "metadata": {},
   "outputs": [],
   "source": []
  },
  {
   "cell_type": "markdown",
   "metadata": {},
   "source": [
    "<div style='color: #690027;' markdown=\"1\">\n",
    "    <h2>6. Oefening: Vierdegraadsfunctie</h2> \n",
    "</div>"
   ]
  },
  {
   "cell_type": "markdown",
   "metadata": {},
   "source": [
    "Laat met de methode *gradient descent* een gekozen punt naderen tot in het absoluut minimum van de vierdegraadskromme $$k \\leftrightarrow  y = 3 x^{4} - 28 x^{3} + 84 x^{2} - 96x + 70$$.  "
   ]
  },
  {
   "cell_type": "code",
   "execution_count": null,
   "metadata": {},
   "outputs": [],
   "source": []
  },
  {
   "cell_type": "markdown",
   "metadata": {},
   "source": [
    "<img src=\"../.images/cclic.png\" alt=\"Banner\" align=\"left\" style=\"width:100px;\"/><br><br>\n",
    "Notebook KIKS, zie <a href=\"http://www.aiopschool.be\">AI op School</a>, van F. wyffels & N. Gesquière is in licentie gegeven volgens een <a href=\"http://creativecommons.org/licenses/by-nc-sa/4.0/\">Creative Commons Naamsvermelding-NietCommercieel-GelijkDelen 4.0 Internationaal-licentie</a>."
   ]
  }
 ],
 "metadata": {
  "kernelspec": {
   "display_name": "Python 3",
   "language": "python",
   "name": "python3"
  },
  "language_info": {
   "codemirror_mode": {
    "name": "ipython",
    "version": 3
   },
   "file_extension": ".py",
   "mimetype": "text/x-python",
   "name": "python",
   "nbconvert_exporter": "python",
   "pygments_lexer": "ipython3",
   "version": "3.6.4"
  }
 },
 "nbformat": 4,
 "nbformat_minor": 2
}
