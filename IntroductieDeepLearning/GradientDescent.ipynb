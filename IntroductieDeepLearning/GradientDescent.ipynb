{
 "cells": [
  {
   "cell_type": "markdown",
   "metadata": {},
   "source": [
    "De loss-functie is afhankelijk van de *weights*. De *weights* worden door het DL-model zo aangepast dat de loss-functie zijn minimale waarde bereikt. Men doet dat aan de hand van de steilte van de raaklijnen aan de loss-functie, m.a.w. door gebruik te maken van de afgeleiden.\n",
    "Deze methode heet ***gradient descent***. "
   ]
  },
  {
   "cell_type": "markdown",
   "metadata": {},
   "source": [
    "We bekijken een voorbeeld van een loss-functie afhankelijk van maar één *weight*. De loss-functie is een tweedegraadsfunctie met maar één minimum. We laten punten op de loss-functie naar het minimum bewegen m.b.v. afgeleiden."
   ]
  },
  {
   "cell_type": "markdown",
   "metadata": {},
   "source": [
    "<div style='color: #690027;' markdown=\"1\">\n",
    "    <h1>GRADIENT DESCENT</h1> \n",
    "</div>\n"
   ]
  },
  {
   "cell_type": "markdown",
   "metadata": {},
   "source": [
    "<div style='color: #690027;' markdown=\"1\">\n",
    "    <h2>Nodige modules importeren</h2> \n",
    "</div>"
   ]
  },
  {
   "cell_type": "code",
   "execution_count": 1,
   "metadata": {},
   "outputs": [],
   "source": [
    "import numpy as np\n",
    "import matplotlib.pyplot as plt\n",
    "from sympy import Symbol"
   ]
  },
  {
   "cell_type": "markdown",
   "metadata": {},
   "source": [
    "<div style='color: #690027;' markdown=\"1\">\n",
    "    <h2>Grafiek van een parabool</h2> \n",
    "</div>"
   ]
  },
  {
   "cell_type": "code",
   "execution_count": 2,
   "metadata": {},
   "outputs": [
    {
     "data": {
      "image/png": "[encoded data removed]",
      "text/plain": [
       "<matplotlib.figure.Figure at 0x2614af31ac8>"
      ]
     },
     "metadata": {},
     "output_type": "display_data"
    }
   ],
   "source": [
    "# parabool plotten\n",
    "\n",
    "import numpy as np\n",
    "import matplotlib.pyplot as plt\n",
    "\n",
    "# GRAFIEK VAN PARABOOL MET GEGEVEN VERGELIJKING\n",
    "\n",
    "# bepaal de x-coördinaten die we willen plotten\n",
    "x = np.linspace(-9.5, 9.5, 50)\n",
    "\n",
    "# bereik en schaal assen\n",
    "plt.axis(xmin = -10, xmax = 10, ymin = -5, ymax = 100)  \n",
    "plt.xticks(np.arange(-10, 11, step=5))\n",
    "plt.yticks(np.arange(-5, 100, step=10))\n",
    "\n",
    "# plot rooster\n",
    "# plt.grid(True) \n",
    "\n",
    "# bereken nu voor elk x-coordinaat de y-waarde\n",
    "# vergelijking van de eerste rechte: y = 3x² + 2x + 5\n",
    "\n",
    "y1 = 3 * x**2 + 2 * x + 5\n",
    "\n",
    "# punten printen\n",
    "# print(x)\n",
    "# print(y1)\n",
    "\n",
    "# plot parabool  \n",
    "plt.plot(x, y1, color=\"blue\", linewidth=1.0, linestyle=\"solid\")  \n",
    "     \n",
    "# tekenvenster openen\n",
    "plt.show()"
   ]
  },
  {
   "cell_type": "markdown",
   "metadata": {},
   "source": [
    "Om vergelijkingen op te lossen, coördinaten te berekenen, nulwaarden te bepalen, stelsels op te lossen gaan we gebruik maken van de module SymPy. <br>"
   ]
  },
  {
   "cell_type": "markdown",
   "metadata": {},
   "source": [
    "<div style='color: #690027;' markdown=\"1\">\n",
    "    <h2>Willekeurig punt op de parabool</h2> \n",
    "</div>"
   ]
  },
  {
   "cell_type": "code",
   "execution_count": 3,
   "metadata": {},
   "outputs": [
    {
     "data": {
      "image/png": "[encoded data removed]",
      "text/plain": [
       "<matplotlib.figure.Figure at 0x2614def5c88>"
      ]
     },
     "metadata": {},
     "output_type": "display_data"
    }
   ],
   "source": [
    "# parabool plotten met willekeurig punt erop\n",
    "\n",
    "# GRAFIEK VAN PARABOOL MET GEGEVEN VERGELIJKING\n",
    "\n",
    "# bepaal de x-coördinaten die we willen plotten\n",
    "x = np.linspace(-9.5, 9.5, 50)\n",
    "\n",
    "# bereik en schaal assen\n",
    "plt.axis(xmin = -10, xmax = 10, ymin = -5, ymax = 100)  \n",
    "plt.xticks(np.arange(-10, 11, step=5))\n",
    "plt.yticks(np.arange(-5, 100, step=10))\n",
    "\n",
    "# bereken nu voor elk x-coordinaat de y-waarde\n",
    "# vergelijking van de eerste rechte: y = 3x² + 2x + 5\n",
    "\n",
    "y = 3 * x**2 + 2 * x + 5\n",
    "\n",
    "# plot parabool  \n",
    "plt.plot(x, y, color=\"blue\", linewidth=1.0, linestyle=\"solid\")  \n",
    "\n",
    "# punt P op de parabool, P(-5, ...)\n",
    "# x en y behandelen als symbolen en niet als variabelen\n",
    "x = Symbol(\"x\")\n",
    "y = Symbol(\"y\")\n",
    "\n",
    "y = 3 * x**2 + 2 * x + 5\n",
    "\n",
    "x_P = -5 \n",
    "y_P = y.subs(x, -5)\n",
    "\n",
    "# plot punt P op de parabool\n",
    "plt.plot(x_P, y_P, color=\"purple\", marker=\"o\")   \n",
    "\n",
    "# tekenvenster openen\n",
    "plt.show()"
   ]
  },
  {
   "cell_type": "markdown",
   "metadata": {},
   "source": [
    "<div style='color: #690027;' markdown=\"1\">\n",
    "    <h2>Punt laten bewegen naar het minimum op de parabool</h2> \n",
    "</div>"
   ]
  },
  {
   "cell_type": "markdown",
   "metadata": {},
   "source": [
    "We willen het punt P laten bewegen naar het minimum. We zullen de x-waarde dus met bepaalde hoeveelheden moeten verhogen en opletten dat we niet voorbij de top van de parabool zijn. <br><br>\n",
    "De raaklijn in P speelt ook een rol. Als P ver verwijderd is van de top, is die raaklijn steil. Als P dicht bij de top ligt, is die raaklijn niet steil meer.<br>\n",
    "Hoe steiler de raaklijn, hoe groter de rico van de raaklijn in absolute waarde, dus hoe groter de afgeleide in absolute waarde. <br><br>\n",
    "Als we de stappen zodanig kiezen dat ze evenredig zijn met de rico van de raaklijn, zullen we voor een punt P ver van de top (waar de raaklijn steiler is) relatief grote stappen nemen, en voor een punt P dicht bij de top (waar de raaklijn niet steil meer is) kleine stappen nemen. Net wat we willen!<br>\n",
    "De rico van de raaklijn in P is negatief, dus we zullen de rico van de x-waarde aftrekken, zodat P naar rechts beweegt. \n",
    "We kiezen ook een evenredigheidsfactor *eta*, gelegen tussen 0 en 1. "
   ]
  },
  {
   "cell_type": "code",
   "execution_count": 4,
   "metadata": {},
   "outputs": [
    {
     "name": "stdout",
     "output_type": "stream",
     "text": [
      "-2.20000000000000 15.1200000000000\n",
      "-1.08000000000000 6.33920000000000\n",
      "-0.632000000000000 4.93427200000000\n",
      "-0.452800000000000 4.70948352000000\n",
      "-0.381120000000000 4.67351736320000\n",
      "-0.352448000000000 4.66776277811200\n"
     ]
    },
    {
     "data": {
      "image/png": "[encoded data removed]",
      "text/plain": [
       "<matplotlib.figure.Figure at 0x2614edaf470>"
      ]
     },
     "metadata": {},
     "output_type": "display_data"
    }
   ],
   "source": [
    "# punt op parabool laten bewegen naar het minimum, evenredig met de rico van de raaklijn\n",
    "\n",
    "# GRAFIEK VAN PARABOOL MET GEGEVEN VERGELIJKING\n",
    "\n",
    "# bepaal de x-coördinaten die we willen plotten\n",
    "x = np.linspace(-9.5, 9.5, 50)\n",
    "\n",
    "# bereik en schaal assen\n",
    "plt.axis(xmin = -10, xmax = 10, ymin = -5, ymax = 100)  \n",
    "plt.xticks(np.arange(-10, 11, step=5))\n",
    "plt.yticks(np.arange(-5, 100, step=10))\n",
    "\n",
    "# bereken nu voor elk x-coordinaat de y-waarde\n",
    "# vergelijking van de eerste rechte: y = 3x² + 2x + 5\n",
    "\n",
    "y = 3 * x**2 + 2 * x + 5\n",
    "\n",
    "# plot parabool  \n",
    "plt.plot(x, y, color=\"blue\", linewidth=1.0, linestyle=\"solid\")  \n",
    "\n",
    "# punt P op de parabool, P(-5, ...)\n",
    "# x en y behandelen als symbolen en niet als variabelen\n",
    "x = Symbol(\"x\")\n",
    "y = Symbol(\"y\")\n",
    "\n",
    "y = 3 * x**2 + 2 * x + 5\n",
    "Dy = 6 * x + 2            # afgeleide functie bepaalt voor elke waarde van x de rico van de raaklijn in dat punt\n",
    "\n",
    "x_P = -5 \n",
    "y_P = y.subs(x, -5)\n",
    "\n",
    "# plot punt P op de parabool\n",
    "plt.plot(x_P, y_P, color=\"purple\", marker=\"o\")   \n",
    "\n",
    "eta = 0.1\n",
    "for i in range(6):\n",
    "    x_P = x_P - eta * Dy.subs(x, x_P)\n",
    "    y_P = y.subs(x, x_P)\n",
    "    print(x_P, y_P)\n",
    "    plt.plot(x_P, y_P, color=\"red\", marker=\"o\")      # kijken om kleuren te laten veranderen\n",
    "\n",
    "# tekenvenster openen\n",
    "plt.show()"
   ]
  },
  {
   "cell_type": "markdown",
   "metadata": {},
   "source": [
    "Nog een klein stukje te gaan!"
   ]
  },
  {
   "cell_type": "code",
   "execution_count": 8,
   "metadata": {},
   "outputs": [
    {
     "name": "stdout",
     "output_type": "stream",
     "text": [
      "-2.20000000000000 15.1200000000000\n",
      "-1.08000000000000 6.33920000000000\n",
      "-0.632000000000000 4.93427200000000\n",
      "-0.452800000000000 4.70948352000000\n",
      "-0.381120000000000 4.67351736320000\n",
      "-0.352448000000000 4.66776277811200\n",
      "-0.340979200000000 4.66684204449792\n",
      "-0.336391680000000 4.66669472711967\n",
      "-0.334556672000000 4.66667115633915\n",
      "-0.333822668800000 4.66666738501426\n"
     ]
    },
    {
     "data": {
      "image/png": "[encoded data removed]",
      "text/plain": [
       "<matplotlib.figure.Figure at 0x26151061550>"
      ]
     },
     "metadata": {},
     "output_type": "display_data"
    }
   ],
   "source": [
    "# punt op parabool laten bewegen naar het minimum, evenredig met de rico van de raaklijn\n",
    "\n",
    "# GRAFIEK VAN PARABOOL MET GEGEVEN VERGELIJKING\n",
    "\n",
    "# bepaal de x-coördinaten die we willen plotten\n",
    "x = np.linspace(-9.5, 9.5, 50)\n",
    "\n",
    "# bereik en schaal assen\n",
    "plt.axis(xmin = -10, xmax = 10, ymin = -5, ymax = 100)  \n",
    "plt.xticks(np.arange(-10, 11, step=5))\n",
    "plt.yticks(np.arange(-5, 100, step=10))\n",
    "\n",
    "# bereken nu voor elk x-coordinaat de y-waarde\n",
    "# vergelijking van de eerste rechte: y = 3x² + 2x + 5\n",
    "\n",
    "y = 3 * x**2 + 2 * x + 5\n",
    "\n",
    "# plot parabool  \n",
    "plt.plot(x, y, color=\"blue\", linewidth=1.0, linestyle=\"solid\")  \n",
    "\n",
    "# punt P op de parabool, P(-5, ...)\n",
    "# x en y behandelen als symbolen en niet als variabelen\n",
    "x = Symbol(\"x\")\n",
    "y = Symbol(\"y\")\n",
    "\n",
    "y = 3 * x**2 + 2 * x + 5\n",
    "Dy = 6 * x + 2             # afgeleide functie bepaalt voor elke waarde van x de rico van de raaklijn in dat punt\n",
    "\n",
    "x_P = -5 \n",
    "y_P = y.subs(x, -5)\n",
    "\n",
    "# plot punt P op de parabool\n",
    "plt.plot(x_P, y_P, color=\"purple\", marker=\"o\")   \n",
    "\n",
    "eta = 0.1\n",
    "for i in range(10):                                 # meer stappen\n",
    "    x_P = x_P - eta * Dy.subs(x, x_P)\n",
    "    y_P = y.subs(x, x_P)\n",
    "    print(x_P, y_P)\n",
    "    plt.plot(x_P, y_P, color=\"red\", marker=\"o\")      # kijken om kleuren te laten veranderen\n",
    "\n",
    "# tekenvenster openen\n",
    "plt.show()"
   ]
  },
  {
   "cell_type": "markdown",
   "metadata": {},
   "source": [
    "<div style='color: #690027;' markdown=\"1\">\n",
    "    <h2>Doe nu hetzelfde voor een punt rechts van de top.</h2> \n",
    "</div>"
   ]
  },
  {
   "cell_type": "code",
   "execution_count": 9,
   "metadata": {},
   "outputs": [
    {
     "name": "stdout",
     "output_type": "stream",
     "text": [
      "1.40000000000000 13.6800000000000\n",
      "0.360000000000000 6.10880000000000\n",
      "-0.0559999999999999 4.89740800000000\n",
      "-0.222400000000000 4.70358528000000\n",
      "-0.288960000000000 4.67257364480000\n",
      "-0.315584000000000 4.66761178316800\n",
      "-0.326233600000000 4.66681788530688\n",
      "-0.330493440000000 4.66669086164910\n",
      "-0.332197376000000 4.66667053786386\n",
      "-0.332878950400000 4.66666728605822\n"
     ]
    },
    {
     "data": {
      "image/png": "[encoded data removed]",
      "text/plain": [
       "<matplotlib.figure.Figure at 0x2614ef92c88>"
      ]
     },
     "metadata": {},
     "output_type": "display_data"
    }
   ],
   "source": [
    "# punt op parabool laten bewegen naar het minimum, evenredig met de rico van de raaklijn\n",
    "\n",
    "# GRAFIEK VAN PARABOOL MET GEGEVEN VERGELIJKING\n",
    "\n",
    "# bepaal de x-coördinaten die we willen plotten\n",
    "x = np.linspace(-9.5, 9.5, 50)\n",
    "\n",
    "# bereik en schaal assen\n",
    "plt.axis(xmin = -10, xmax = 10, ymin = -5, ymax = 100)  \n",
    "plt.xticks(np.arange(-10, 11, step=5))\n",
    "plt.yticks(np.arange(-5, 100, step=10))\n",
    "\n",
    "# bereken nu voor elk x-coordinaat de y-waarde\n",
    "# vergelijking van de eerste rechte: y = 3x² + 2x + 5\n",
    "\n",
    "y = 3 * x**2 + 2 * x + 5\n",
    "\n",
    "# plot parabool  \n",
    "plt.plot(x, y, color=\"blue\", linewidth=1.0, linestyle=\"solid\")  \n",
    "\n",
    "# punt P op de parabool, Q(4, ...)\n",
    "# x en y behandelen als symbolen en niet als variabelen\n",
    "x = Symbol(\"x\")\n",
    "y = Symbol(\"y\")\n",
    "\n",
    "y = 3 * x**2 + 2 * x + 5\n",
    "Dy = 6 * x + 2            # afgeleide functie bepaalt voor elke waarde van x de rico van de raaklijn in dat punt\n",
    "\n",
    "x_Q = 4\n",
    "y_Q = y.subs(x, 4)\n",
    "\n",
    "# plot punt P op de parabool\n",
    "plt.plot(x_Q, y_Q, color=\"green\", marker=\"o\") \n",
    "\n",
    "eta = 0.1\n",
    "for i in range(10):\n",
    "    x_Q = x_Q - eta * Dy.subs(x, x_Q)\n",
    "    y_Q = y.subs(x, x_Q)\n",
    "    print(x_Q, y_Q)\n",
    "    plt.plot(x_Q, y_Q, color=\"red\", marker=\"o\")      # kijken om kleuren te laten veranderen\n",
    "\n",
    "# tekenvenster openen\n",
    "plt.show()"
   ]
  }
 ],
 "metadata": {
  "kernelspec": {
   "display_name": "Python 3",
   "language": "python",
   "name": "python3"
  },
  "language_info": {
   "codemirror_mode": {
    "name": "ipython",
    "version": 3
   },
   "file_extension": ".py",
   "mimetype": "text/x-python",
   "name": "python",
   "nbconvert_exporter": "python",
   "pygments_lexer": "ipython3",
   "version": "3.6.4"
  }
 },
 "nbformat": 4,
 "nbformat_minor": 2
}
