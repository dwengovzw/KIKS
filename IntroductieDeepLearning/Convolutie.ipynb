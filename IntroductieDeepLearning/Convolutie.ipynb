{
 "cells": [
  {
   "cell_type": "markdown",
   "metadata": {},
   "source": [
    "<img src=\"../.images/logosnb.png\" alt=\"Banner\" style=\"width: 1100px;\"/>"
   ]
  },
  {
   "cell_type": "markdown",
   "metadata": {},
   "source": [
    "<div style='color: #690027;' markdown=\"1\">\n",
    "    <h1>CONVOLUTIES</h1> \n",
    "</div>"
   ]
  },
  {
   "cell_type": "markdown",
   "metadata": {},
   "source": [
    "<div class=\"alert alert-box alert-success\">\n",
    "Met convoluties kan je op zoek gaan naar verschillende kenmerken in een afbeelding. Je kan er bv. randen mee detecteren, ruis in een beeld mee verminderen of het contrast in een beeld verzachten. Convoluties worden toegepast in de zogenaamde convolutionele netwerken.\n",
    "</div>"
   ]
  },
  {
   "cell_type": "markdown",
   "metadata": {},
   "source": [
    "<div class=\"alert alert-box alert-info\">\n",
    "De <b>convolutie</b> is een wiskundige bewerking die enkel gebruikmaakt van <b>optellen en vermenigvuldigen</b>. Het komt erop neer dat men aan een pixel een bepaald gewicht geeft en men daaraan gewogen waarden van de omliggende pixels aan toevoegt. In de notebook 'Convolutie: de bewerking' staat meer uitleg over de bewerking zelf. <br>\n",
    "Bij een convolutie laat men een <b>filter</b> over een <b>afbeelding</b> 'glijden'. Zowel de afbeelding als de filter zijn matrices of tensoren. De elementen van de filter en de elementen van de matrix van de afbeelding worden elementgewijs vermenigvuldigd en erna worden deze producten opgeteld.\n",
    "</div>"
   ]
  },
  {
   "cell_type": "markdown",
   "metadata": {},
   "source": [
    "<img src=\"../.images/IntroductieDeepLearning/Sobelfilter.gif\" alt=\"Banner\" style=\"width: 430px;\"/>\n",
    "<center>Figuur 1: Convolutie. De filter glijdt over de afbeelding.<br>Gif van Rob Robinson, MLNotebook, https://mlnotebook.github.io/post/CNN1/ [1].</center>"
   ]
  },
  {
   "cell_type": "markdown",
   "metadata": {},
   "source": [
    "## Importeren van de nodige modules"
   ]
  },
  {
   "cell_type": "markdown",
   "metadata": {},
   "source": [
    "De module SciPy bevat een toolbox signal voor digitale beeldverwerking, de toolbox bevat bv. functies waarmee je beelden kunt filteren. "
   ]
  },
  {
   "cell_type": "code",
   "execution_count": null,
   "metadata": {},
   "outputs": [],
   "source": [
    "import numpy as np\n",
    "import matplotlib.pyplot as plt\n",
    "import scipy.signal"
   ]
  },
  {
   "cell_type": "markdown",
   "metadata": {},
   "source": [
    "## Gebruikte foto's"
   ]
  },
  {
   "cell_type": "markdown",
   "metadata": {},
   "source": [
    "In deze notebook worden de volgende foto's gebruikt:\n",
    "-  een foto van het 'witte huis' van Sint-Bavo [2];\n",
    "-  een foto van de gang van het Koninklijk Atheneum van Etterbeek [3];\n",
    "-  een foto van bamboe (Bron: Sean McGrath from Saint John, NB, Canada [CC BY 2.0 (https://creativecommons.org/licenses/by/2.0)], via Wikimedia Commons [4]);\n",
    "-  een microfoto uit de dataset van KIKS van een blad van een koffieplant waarop huidmondjes te zien zijn.\n",
    "\n",
    "Je vindt de bestanden van deze foto's in de map met afbeeldingen voor het onderdeel IntroductieDeepLearning:\n",
    "-  ../.images/IntroductieDeepLearning/wittehuis.npy\n",
    "-  ../.images/IntroductieDeepLearning/gangKAE.npy\n",
    "- ../.images/IntroductieDeepLearning/bamboe.npy\n",
    "-  ../.images/IntroductieDeepLearning/koffieplant.npy"
   ]
  },
  {
   "cell_type": "markdown",
   "metadata": {},
   "source": [
    "<div style='color: #690027;' markdown=\"1\">\n",
    "    <h1>1. Foto's inladen</h1> \n",
    "</div>"
   ]
  },
  {
   "cell_type": "markdown",
   "metadata": {},
   "source": [
    "Bekijk enkele gegevens van de foto van 'het witte huis' van Sint-Bavohumaniora. Voer daarvoor de volgende code-cel uit."
   ]
  },
  {
   "cell_type": "code",
   "execution_count": null,
   "metadata": {},
   "outputs": [],
   "source": [
    "wittehuis =  np.load(\"../.images/IntroductieDeepLearning/wittehuis.npy\")     # foto inladen\n",
    "print(wittehuis)\n",
    "print(wittehuis.shape)\n",
    "print(np.min(wittehuis), np.max(wittehuis))"
   ]
  },
  {
   "cell_type": "markdown",
   "metadata": {},
   "source": [
    "Het ingeladen bestand is een matrix. De beschouwde foto is dus een foto in grijswaarden. Bekijk de foto."
   ]
  },
  {
   "cell_type": "code",
   "execution_count": null,
   "metadata": {},
   "outputs": [],
   "source": [
    "plt.imshow(wittehuis, vmin=0, vmax=255, cmap=\"gray\")"
   ]
  },
  {
   "cell_type": "markdown",
   "metadata": {},
   "source": [
    "Toon de foto wat groter."
   ]
  },
  {
   "cell_type": "code",
   "execution_count": null,
   "metadata": {},
   "outputs": [],
   "source": [
    "plt.figure(figsize=(12,16))       # verhouding respecteren\n",
    "plt.imshow(wittehuis, vmin=0, vmax=255, cmap=\"gray\")"
   ]
  },
  {
   "cell_type": "markdown",
   "metadata": {},
   "source": [
    "### Opdracht 1.1: gang KAE\n",
    "Doe nu hetzelfde voor de gang in het Koninklijk Atheneum van Etterbeek."
   ]
  },
  {
   "cell_type": "code",
   "execution_count": null,
   "metadata": {},
   "outputs": [],
   "source": []
  },
  {
   "cell_type": "code",
   "execution_count": null,
   "metadata": {},
   "outputs": [],
   "source": []
  },
  {
   "cell_type": "markdown",
   "metadata": {},
   "source": [
    "In wat volgt, ga je verschillende filters leren kennen en bekijken wat hun impact is op de foto's.<br>\n",
    "Je zal filters gebruiken met dimensie 3x3."
   ]
  },
  {
   "cell_type": "markdown",
   "metadata": {},
   "source": [
    "<div style='color: #690027;' markdown=\"1\">\n",
    "    <h1>2. Randen detecteren</h1> \n",
    "</div>"
   ]
  },
  {
   "cell_type": "markdown",
   "metadata": {},
   "source": [
    "<div class=\"alert alert-box alert-info\">\n",
    "Randdetectie zoekt in de afbeelding naar pixels waar de kleur drastisch verandert.\n",
    "</div>\n"
   ]
  },
  {
   "cell_type": "markdown",
   "metadata": {},
   "source": [
    "Om *randen* te detecteren kun je bijvoorbeeld de filter $\\begin{bmatrix} -1 & -1 & -1 \\\\ -1 & 8 & -1 \\\\ -1 & -1 & -1   \\end{bmatrix} $ gebruiken."
   ]
  },
  {
   "cell_type": "markdown",
   "metadata": {},
   "source": [
    "Om Python de convolutie te laten uitvoeren van deze gekozen filter op een gegeven afbeelding, gebruik je de functie *convolve2d()*.<br>\n",
    "De '2d' verwijst naar de matrices die je gebruikt, matrices zijn 2D-tensoren. Zowel de filter als de afbeelding hier zijn matrices."
   ]
  },
  {
   "cell_type": "markdown",
   "metadata": {},
   "source": [
    "### Voorbeeld: witte huis\n",
    "Probeer deze filter uit op de foto van het 'witte huis' van Sint-Bavo. Voer daarvoor de volgende code-cellen uit."
   ]
  },
  {
   "cell_type": "code",
   "execution_count": null,
   "metadata": {},
   "outputs": [],
   "source": [
    "# filter om randen te detecteren\n",
    "rand_filter = np.array([[-1,-1,-1],[-1,8,-1],[-1,-1,-1]])      "
   ]
  },
  {
   "cell_type": "code",
   "execution_count": null,
   "metadata": {},
   "outputs": [],
   "source": [
    "print(rand_filter)"
   ]
  },
  {
   "cell_type": "code",
   "execution_count": null,
   "metadata": {},
   "outputs": [],
   "source": [
    "wittehuis_randen = scipy.signal.convolve2d(wittehuis, rand_filter)  # convolutie uitvoeren met rand_filter op foto wittehuis\n",
    "\n",
    "# resultaat van convolutie tonen \n",
    "plt.figure(figsize=(12,16))\n",
    "plt.imshow(wittehuis_randen, vmin=0, vmax=255, cmap=\"gray\")         "
   ]
  },
  {
   "cell_type": "markdown",
   "metadata": {},
   "source": [
    "### Opdracht 2.1: gang \n",
    "Probeer de filter uit op de foto van de gang in het Koninklijk Atheneum van Etterbeek."
   ]
  },
  {
   "cell_type": "code",
   "execution_count": null,
   "metadata": {},
   "outputs": [],
   "source": []
  },
  {
   "cell_type": "markdown",
   "metadata": {},
   "source": [
    "### Opdracht 2.2: huidmondjes\n",
    "Doe hetzelfde voor de microfoto van de koffieplant."
   ]
  },
  {
   "cell_type": "code",
   "execution_count": null,
   "metadata": {},
   "outputs": [],
   "source": []
  },
  {
   "cell_type": "markdown",
   "metadata": {},
   "source": [
    "<div style='color: #690027;' markdown=\"1\">\n",
    "    <h1>3. Verticale en horizontale lijnen detecteren</h1> \n",
    "</div>"
   ]
  },
  {
   "cell_type": "markdown",
   "metadata": {},
   "source": [
    "Om *verticale lijnen* te detecteren gebruik je bijvoorbeeld de filter $\\begin{bmatrix} -1 & 0 & 1 \\\\ -1 & 0 & 1 \\\\ -1 & 0 & 1   \\end{bmatrix} $. "
   ]
  },
  {
   "cell_type": "code",
   "execution_count": null,
   "metadata": {},
   "outputs": [],
   "source": [
    "# filter om verticale lijnen te detecteren\n",
    "vertic_filter = np.array([[-1,0,1],[-1,0,1],[-1,0,1]])"
   ]
  },
  {
   "cell_type": "markdown",
   "metadata": {},
   "source": [
    "### Voorbeeld: bamboe"
   ]
  },
  {
   "cell_type": "markdown",
   "metadata": {},
   "source": [
    "Bekijk de foto van de bamboe."
   ]
  },
  {
   "cell_type": "code",
   "execution_count": null,
   "metadata": {},
   "outputs": [],
   "source": [
    "bamboe =  np.load(\"../.images/IntroductieDeepLearning/bamboe.npy\")\n",
    "print(bamboe.shape)\n",
    "plt.imshow(bamboe, vmin=0, vmax=255, cmap=\"gray\")"
   ]
  },
  {
   "cell_type": "markdown",
   "metadata": {},
   "source": [
    "Op deze foto zijn heel wat verticale lijnen te zien. Test uit of de filter goed gekozen is door de volgende code-cel uit te voeren."
   ]
  },
  {
   "cell_type": "code",
   "execution_count": null,
   "metadata": {},
   "outputs": [],
   "source": [
    "bamboe_vertic = scipy.signal.convolve2d(bamboe, vertic_filter)\n",
    "\n",
    "plt.figure(figsize=(12,18))\n",
    "plt.subplot(1,2,1)                                        # plot met meerdere afbeeldingen\n",
    "plt.imshow(bamboe, vmin=0, vmax=255, cmap=\"gray\")\n",
    "plt.subplot(1,2,2)\n",
    "plt.imshow(bamboe_vertic, vmin=0, vmax=255, cmap=\"gray\")"
   ]
  },
  {
   "cell_type": "markdown",
   "metadata": {},
   "source": [
    "### Opdracht 3.1: witte huis\n",
    "Detecteer nu de verticale lijnen op de foto van het 'witte huis' van Sint-Bavo."
   ]
  },
  {
   "cell_type": "code",
   "execution_count": null,
   "metadata": {},
   "outputs": [],
   "source": []
  },
  {
   "cell_type": "markdown",
   "metadata": {},
   "source": [
    "### Opdracht 3.2: horizontale lijnen detecteren\n",
    "-  Welke filter zal er *horizontale* lijnen detecteren? Geef de filter in in de volgende code-cel.\n",
    "-  Test de filter uit op het 'witte huis' van Sint-Bavo."
   ]
  },
  {
   "cell_type": "code",
   "execution_count": null,
   "metadata": {},
   "outputs": [],
   "source": []
  },
  {
   "cell_type": "code",
   "execution_count": null,
   "metadata": {},
   "outputs": [],
   "source": []
  },
  {
   "cell_type": "markdown",
   "metadata": {},
   "source": [
    "<div style='color: #690027;' markdown=\"1\">\n",
    "    <h1>4. Schuine lijnen detecteren</h1> \n",
    "</div>"
   ]
  },
  {
   "cell_type": "markdown",
   "metadata": {},
   "source": [
    "Je krijgt twee voorbeelden van filters die schuine lijnen detecteren, elk in een andere richting (van linksboven naar rechtsonder, of van rechtsboven naar linksonder).<br>\n",
    "De filters zijn $\\begin{bmatrix} -5 & 0 & 0 \\\\ 0 & 0 & 0 \\\\ 0 & 0 & 5   \\end{bmatrix}$ en $\\begin{bmatrix} 0 & 0 & -5 \\\\ 0 & 0 & 0 \\\\ 5 & 0 & 0   \\end{bmatrix}$."
   ]
  },
  {
   "cell_type": "code",
   "execution_count": null,
   "metadata": {},
   "outputs": [],
   "source": [
    "# filter om schuine lijnen te detecteren\n",
    "schuin_filter = np.array([[-5,0,0],[0,0,0],[0,0,5]]) "
   ]
  },
  {
   "cell_type": "code",
   "execution_count": null,
   "metadata": {},
   "outputs": [],
   "source": [
    "# filter om schuine lijnen te detecteren\n",
    "schuin_filter2 = np.array([[0,0,-5],[0,0,0],[5,0,0]]) "
   ]
  },
  {
   "cell_type": "markdown",
   "metadata": {},
   "source": [
    "### Opdracht 4.1: gang\n",
    "Onderzoek op de foto van de gang van het KAE in welke richting deze filters schuine lijnen detecteren. <br>\n",
    "Vul eerst de code-cel aan en voer ze dan uit."
   ]
  },
  {
   "cell_type": "code",
   "execution_count": null,
   "metadata": {},
   "outputs": [],
   "source": [
    "gang_schuin = ...........\n",
    "gang_schuin2 = ...........\n",
    "\n",
    "plt.figure(figsize=(18,30))\n",
    "plt.subplot(...........)\n",
    "plt.imshow(..........., vmin=0, vmax=255, cmap=\"gray\")\n",
    "plt.subplot(...........)\n",
    "plt.imshow(..........., vmin=0, vmax=255, cmap=\"gray\")"
   ]
  },
  {
   "cell_type": "markdown",
   "metadata": {},
   "source": [
    "### Opdracht 4.2: huidmondjes\n",
    "Pas een van deze filters toe op de microfoto van de koffieplant. "
   ]
  },
  {
   "cell_type": "code",
   "execution_count": null,
   "metadata": {},
   "outputs": [],
   "source": []
  },
  {
   "cell_type": "markdown",
   "metadata": {},
   "source": [
    "<div style='color: #690027;' markdown=\"1\">\n",
    "    <h1>5. Foto verzachten of verscherpen</h1> \n",
    "</div>"
   ]
  },
  {
   "cell_type": "markdown",
   "metadata": {},
   "source": [
    "Je kan met een filter een foto zachter maken of verscherpen. "
   ]
  },
  {
   "cell_type": "code",
   "execution_count": null,
   "metadata": {},
   "outputs": [],
   "source": [
    "# filter om foto te verzachten\n",
    "smooth_filter = np.array([[1, 1, 1], [1, 5, 1], [1, 1, 1]]) / 13"
   ]
  },
  {
   "cell_type": "markdown",
   "metadata": {},
   "source": [
    "### Voorbeeld\n",
    "Verzacht de foto van de bamboe door de volgende code-cel uit te voeren."
   ]
  },
  {
   "cell_type": "code",
   "execution_count": null,
   "metadata": {},
   "outputs": [],
   "source": [
    "bamboe_zacht = scipy.signal.convolve2d(bamboe, smooth_filter)\n",
    "\n",
    "plt.figure(figsize=(18,24))\n",
    "plt.subplot(1,2,1)\n",
    "plt.imshow(bamboe, vmin=0, vmax=255, cmap=\"gray\")\n",
    "plt.subplot(1,2,2)\n",
    "plt.imshow(bamboe_zacht, vmin=0, vmax=255, cmap=\"gray\")"
   ]
  },
  {
   "cell_type": "markdown",
   "metadata": {},
   "source": [
    "### Voorbeeld van twee convoluties die opeenvolgend worden toegepast\n",
    "In het volgende voorbeeld wordt de randdetectie toegepast op de verzachte foto van de bamboe. Voer de code-cel uit."
   ]
  },
  {
   "cell_type": "code",
   "execution_count": null,
   "metadata": {},
   "outputs": [],
   "source": [
    "bamboe_zacht_randen = scipy.signal.convolve2d(bamboe_zacht, rand_filter)\n",
    "plt.figure(figsize=(9,12))\n",
    "plt.imshow(bamboe_zacht_randen, vmin=0, vmax=255, cmap=\"gray\")"
   ]
  },
  {
   "cell_type": "markdown",
   "metadata": {},
   "source": [
    "### Opdracht 5.1\n",
    "Bekijk het verschil in resultaat als je de randdetectie uitvoert op de foto van de bamboe zelf, of pas na het verzachten.<br>\n",
    "Zorg dat beide resultaten naast elkaar worden getoond."
   ]
  },
  {
   "cell_type": "code",
   "execution_count": null,
   "metadata": {},
   "outputs": [],
   "source": []
  },
  {
   "cell_type": "markdown",
   "metadata": {},
   "source": [
    "### Opdracht 5.2: verscherpen\n",
    "Om een foto te verscherpen, kan je de volgende filter gebruiken: $\\begin{bmatrix} 0 & -1 & 0 \\\\ -1 & 5 & -1 \\\\ 0 & -1 & 0   \\end{bmatrix}$.<br> Geef deze filter in in Python met de juiste instructie."
   ]
  },
  {
   "cell_type": "code",
   "execution_count": null,
   "metadata": {},
   "outputs": [],
   "source": []
  },
  {
   "cell_type": "markdown",
   "metadata": {},
   "source": [
    "### Opdracht 5.3: bamboe\n",
    "Verscherp de foto van de bamboe."
   ]
  },
  {
   "cell_type": "code",
   "execution_count": null,
   "metadata": {},
   "outputs": [],
   "source": []
  },
  {
   "cell_type": "markdown",
   "metadata": {},
   "source": [
    "### Opdracht 5.4: huidmondjes\n",
    "Verscherp de microfoto van de koffieplant."
   ]
  },
  {
   "cell_type": "code",
   "execution_count": null,
   "metadata": {},
   "outputs": [],
   "source": []
  },
  {
   "cell_type": "markdown",
   "metadata": {},
   "source": [
    "<div style='color: #690027;' markdown=\"1\">\n",
    "    <h1>6. Enkele filters om uit te testen</h1> \n",
    "</div>"
   ]
  },
  {
   "cell_type": "code",
   "execution_count": null,
   "metadata": {},
   "outputs": [],
   "source": [
    "filter1 = np.array([[-2, -1, 0], [-1, 1, 1], [0, 1, 2]])            # emboss\n",
    "filter2 = np.array([[1, 1, 1], [1, 1, 1], [1, 1, 1]]) / 9           # gemiddelde\n",
    "filter3 = np.array([[1, 2, 1], [2, 4, 2], [1, 2, 1]]) / 16          # Gaussian blur\n",
    "filter4 = np.array([[-1, -2, -1], [-2, 12, -2], [-1, -2, -1]])      # verschil tussen origineel en Gaussian blur\n",
    "filter5 = np.array([[-1, 0, 1], [-2, 0, 2], [-1, 0, 1]])            # Sobel filter randdetectie\n",
    "filter6 = np.array([[1, 2, 1], [0, 0, 0], [-1, -2, -1]])            # tweede Sobel filter randdetectie\n",
    "filter7 = np.array([[-1, -2, -1], [-2, 12, -2], [-1, -2, -1]])      # randdetectie \n",
    "filter8 = np.array([[1, 1, 1], [-1, -2, 1], [-1, -1, 1]])           # schuine lijnen met hoek van 45°\n",
    "filter9 = np.array([[-3, -3, 5], [-3, 0, 5], [-3, -3, 5]])          # schuine lijnen\n",
    "filter10 = np.array([[1, 0, -1], [0, 0, 0], [-1, 0, 1]])            # randdetectie "
   ]
  },
  {
   "cell_type": "code",
   "execution_count": null,
   "metadata": {},
   "outputs": [],
   "source": []
  },
  {
   "cell_type": "markdown",
   "metadata": {},
   "source": [
    "<div class=\"alert alert-box alert-success\">\n",
    "Convoluties worden toegepast in de convolutionele netwerken. Dit zijn diepe neurale netwerken die uitermate geschikt zijn voor beeldherkenning. In de verschillende layers van het neurale netwerk gaat men op zoek naar kenmerken die steeds complexer worden. In de eerste layer gaat men bv. op zoek naar randen, in een diepere layer naar een ovaal. Om die kenmerken te detecteren gebruikt men filters die men over het beeld laat glijden.\n",
    "</div>"
   ]
  },
  {
   "cell_type": "markdown",
   "metadata": {},
   "source": [
    "<div>\n",
    "    <h2>Referentielijst</h2> \n",
    "</div>"
   ]
  },
  {
   "cell_type": "markdown",
   "metadata": {},
   "source": [
    "[1] Afbeelding van Rob Robinson, MLNotebook. Geraadpleegd op 19 mei 2019 via https://mlnotebook.github.io.<br>\n",
    "[2] Foto Hotel van Eersel van Joostvandeputte [Public domain]. Geraadpleegd op 15 mei 2019 via https://commons.wikimedia.org.<br>\n",
    "[3] Foto KA Etterbeek. Facebookpost van 24 januari 2019. Geraadpleegd op 19 mei 2019 via https://www.facebook.com/AtheneumEtterbeek.<br> \n",
    "[4] Foto van Sean McGrath from Saint John, NB, Canada [CC BY 2.0 (https://creativecommons.org/licenses/by/2.0)], via Wikimedia Commons.<br> &nbsp; &nbsp; &nbsp; &nbsp;  Geraadpleegd op 19 mei 2019 via https://nl.wikipedia.org/wiki/Bestand:Bamboo_(1466706101).jpg."
   ]
  },
  {
   "cell_type": "markdown",
   "metadata": {},
   "source": [
    "<img src=\"../.images/cclic.png\" alt=\"Banner\" align=\"left\" style=\"width:100px;\"/><br><br>\n",
    "Notebook KIKS, zie <a href=\"http://www.aiopschool.be\">AI op School</a>, van F. wyffels & N. Gesquière is in licentie gegeven volgens een <a href=\"http://creativecommons.org/licenses/by-nc-sa/4.0/\">Creative Commons Naamsvermelding-NietCommercieel-GelijkDelen 4.0 Internationaal-licentie</a>. "
   ]
  }
 ],
 "metadata": {
  "kernelspec": {
   "display_name": "Python 3",
   "language": "python",
   "name": "python3"
  },
  "language_info": {
   "codemirror_mode": {
    "name": "ipython",
    "version": 3
   },
   "file_extension": ".py",
   "mimetype": "text/x-python",
   "name": "python",
   "nbconvert_exporter": "python",
   "pygments_lexer": "ipython3",
   "version": "3.6.4"
  }
 },
 "nbformat": 4,
 "nbformat_minor": 2
}
