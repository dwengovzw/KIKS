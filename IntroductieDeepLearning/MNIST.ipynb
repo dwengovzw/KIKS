{
 "cells": [
  {
   "cell_type": "markdown",
   "metadata": {},
   "source": [
    "<img src=\"../.images/logosnb2.png\" alt=\"Banner\" style=\"width:1100px;\"/>"
   ]
  },
  {
   "cell_type": "markdown",
   "metadata": {},
   "source": [
    "<div style='color: #690027;' markdown=\"1\">\n",
    "    <h1>CLASSIFICATIE MET KERAS VAN DE MNIST DATASET</h1> \n",
    "</div>"
   ]
  },
  {
   "cell_type": "markdown",
   "metadata": {},
   "source": [
    "<div class=\"alert alert-box alert-success\">\n",
    "Deze notebook bevat een <em>concreet voorbeeld van een neuraal netwerk</em> dat wordt opgebouwd met de functionaliteiten van de Python-module <em>Keras</em>. <br>\n",
    "Het voorbeeld betreft een <em>classificatieprobleem</em>, nl. het classificeren van grijswaardenafbeeldingen van handgeschreven cijfers. \n",
    "</div>"
   ]
  },
  {
   "cell_type": "markdown",
   "metadata": {},
   "source": [
    "De afbeeldingen worden aangeboden in een formaat van 28x28 pixels; er zijn 10 klassen met labels 0 t.e.m. 9. \n",
    "\n",
    "Om het netwerk te trainen wordt gebruikgemaakt van de MNIST dataset. Deze dataset bestaat uit 60 000 afbeeldingen om het netwerk te trainen en  10 000 afbeeldingen om het netwerk te testen. <br>\n",
    "Deze afbeeldingen werden verzameld door het National Institute of Standards and Technology (de NIST in het letterwoord MNIST) in de jaren 80. "
   ]
  },
  {
   "cell_type": "markdown",
   "metadata": {},
   "source": [
    "### Nodige modules importeren"
   ]
  },
  {
   "cell_type": "markdown",
   "metadata": {},
   "source": [
    "In deze notebook bouw je een *sequential model* op met Keras.<br>Dat is een model dat bestaat uit *aaneengeschakelde lagen*. \n",
    "Je zal werken met een input layer, een output layer en ertussen één hidden layer.<br>\n",
    "Je zal dus dat model en de lagen moeten kunnen aanmaken."
   ]
  },
  {
   "cell_type": "code",
   "execution_count": null,
   "metadata": {
    "scrolled": true
   },
   "outputs": [],
   "source": [
    "import numpy as np\n",
    "import matplotlib.pyplot as plt\n",
    "\n",
    "from keras import models\n",
    "from keras import layers\n",
    "from keras.utils import to_categorical         # om klassen op andere manier te kunnen weergeven\n",
    "from keras.datasets import mnist"
   ]
  },
  {
   "cell_type": "markdown",
   "metadata": {},
   "source": [
    "<div style='color: #690027;' markdown=\"1\">\n",
    "    <h2>1. Inlezen van de data</h2> \n",
    "</div>"
   ]
  },
  {
   "cell_type": "markdown",
   "metadata": {},
   "source": [
    "De MNIST data bestaan uit een koppel. Bovendien is elk van beide elementen van het koppel is zelf een koppel.  \n",
    "\n",
    "De data zijn als volgt opgebouwd:\n",
    "-  (trainingdata, overeenkomstige categorieën) in het eerste element;\n",
    "-  (testdata, overeenkomstige categorieën) in het tweede element.\n",
    "\n",
    "Je laadt de dataset in met de instructie `mnist.load_data()`. <br>`load_data()` is een functie van `mnist`. <br>Ondertussen benoem je vier variabelen die elk verwijzen naar een bepaalde soort data in de dataset.  "
   ]
  },
  {
   "cell_type": "code",
   "execution_count": null,
   "metadata": {},
   "outputs": [],
   "source": [
    "(train_images, train_labels), (test_images, test_labels) = mnist.load_data()      # elementen van tuples krijgen juiste naam"
   ]
  },
  {
   "cell_type": "markdown",
   "metadata": {},
   "source": [
    "### Opdracht 1.1\n",
    "-  Hoeveel elementen bevat het object waarnaar `train_images` verwijst?\n",
    "-  Hoeveel elementen bevat het object waarnaar `test_labels` verwijst?"
   ]
  },
  {
   "cell_type": "markdown",
   "metadata": {},
   "source": [
    "Controleer je antwoord m.b.v. de volgende code-cel."
   ]
  },
  {
   "cell_type": "code",
   "execution_count": null,
   "metadata": {},
   "outputs": [],
   "source": [
    "print(len(train_images))         # aantal punten in trainingset\n",
    "print(len(train_labels))         # aantal labels in trainingset\n",
    "print(len(test_images))          # aantal punten in testset\n",
    "print(len(test_labels))          # aantal labels in testset"
   ]
  },
  {
   "cell_type": "markdown",
   "metadata": {},
   "source": [
    "### Opdracht 1.2\n",
    "Wat betekent de uitvoer van de volgende code-cellen?"
   ]
  },
  {
   "cell_type": "code",
   "execution_count": null,
   "metadata": {},
   "outputs": [],
   "source": [
    "train_images.shape                   "
   ]
  },
  {
   "cell_type": "code",
   "execution_count": null,
   "metadata": {},
   "outputs": [],
   "source": [
    "train_labels.shape"
   ]
  },
  {
   "cell_type": "markdown",
   "metadata": {},
   "source": [
    "Antwoord:"
   ]
  },
  {
   "cell_type": "markdown",
   "metadata": {},
   "source": [
    "<div style='color: #690027;' markdown=\"1\">\n",
    "    <h2>2. Bekijken van de data</h2> \n",
    "</div>"
   ]
  },
  {
   "cell_type": "code",
   "execution_count": null,
   "metadata": {},
   "outputs": [],
   "source": [
    "beeld1 = train_images[4]\n",
    "beeld2 = train_images[100]\n",
    "label1 = train_labels[4]\n",
    "label2 = train_labels[100]"
   ]
  },
  {
   "cell_type": "code",
   "execution_count": null,
   "metadata": {},
   "outputs": [],
   "source": [
    "# labels\n",
    "print(label1, label2)\n",
    "\n",
    "# beelden\n",
    "plt.figure()\n",
    "\n",
    "plt.subplot(1,2,1)\n",
    "plt.imshow(beeld1, cmap=\"gray\")\n",
    "plt.subplot(1,2,2)\n",
    "plt.imshow(beeld2, cmap=\"gray\")\n",
    "\n",
    "plt.show()"
   ]
  },
  {
   "cell_type": "code",
   "execution_count": null,
   "metadata": {},
   "outputs": [],
   "source": [
    "print(beeld1.shape)\n",
    "print(beeld1)"
   ]
  },
  {
   "cell_type": "markdown",
   "metadata": {},
   "source": [
    "### Opdracht 2.1\n",
    "Vraag het grootste en kleinste getal in deze matrix op en het type van de getallen."
   ]
  },
  {
   "cell_type": "code",
   "execution_count": null,
   "metadata": {},
   "outputs": [],
   "source": [
    "beeld1.dtype"
   ]
  },
  {
   "cell_type": "code",
   "execution_count": null,
   "metadata": {},
   "outputs": [],
   "source": [
    "print(np.min(beeld1), np.max(beeld1))"
   ]
  },
  {
   "cell_type": "markdown",
   "metadata": {},
   "source": [
    "Antwoord:"
   ]
  },
  {
   "cell_type": "markdown",
   "metadata": {},
   "source": [
    "<div style='color: #690027;' markdown=\"1\">\n",
    "    <h2>3. Opbouwen van het neuraal netwerk</h2> \n",
    "</div>"
   ]
  },
  {
   "cell_type": "markdown",
   "metadata": {},
   "source": [
    "<div style='color: #690027;' markdown=\"1\">\n",
    "    <h3>3.1 Architectuur van het neuraal netwerk</h3> \n",
    "</div>"
   ]
  },
  {
   "cell_type": "markdown",
   "metadata": {},
   "source": [
    "Je model voor het netwerk is een *Sequential model* dat bestaat uit aaneengeschakelde lagen: een *input layer*, een *output layer* en ertussen één *hidden layer*. <br>\n",
    "Je gebruikt *dense layers*. Dat betekent dat het *fully connected* layers zijn: de neuronen in een bepaalde laag zijn verbonden met alle neuronen in de vorige laag.<br>\n",
    "In elke laag moet je een keuze maken voor het aantal output neuronen van die laag. <br>\n",
    "Voor de uitvoerlaag ligt dat vast: aangezien er tien klassen zijn, moet het model voor elke klasse weergeven hoe zeker het is van die bepaalde klasse. Je hebt daar dus 10 neuronen. <br> Voor de verborgen laag kan je wat experimenteren met het aantal neuronen en de performanties van het netwerk vergelijken. <br>\n",
    "\n",
    "Het model moet de *input* krijgen in de vorm van een tensor die bestaat uit *vectoren*. Bovendien moet het model weten hoeveel elementen elk datapunt, dus elke vector, in die tensor bevat. Dat wordt met de eerste laag meegegeven met de parameter `input_dim`.<br>\n",
    "Met de volgende lagen moet dat niet meegegeven worden, aangezien het aantal elementen dan automatisch vastligt door de wiskundige bewerkingen die zullen gebeuren.\n",
    "\n",
    "In de hidden layer en in de output layer wordt er na de lineaire transformaties, bepaald door de *weights* gekozen door het netwerk, ook nog een activatiefunctie toegepast. Welke *activatiefunctie* dat is, moet jij vastleggen. In de meeste moderne netwerken wordt er gekozen voor 'ReLU'. De activatiefunctie in de output layer wordt eigenlijk bepaald door het soort probleem. Aangezien je hier een classificatieprobleem hebt met meer dan twee klassen, is de activatiefunctie de 'Softmax activatiefunctie'.\n",
    "\n",
    "Om de architectuur te voltooien moet je nog een *loss*-functie en een *optimizer* kiezen. Met de loss-functie wordt bekeken hoeveel het model afwijkt van de labels. De totale fout hierop zal geminimaliseerd worden m.b.v. de optimizer. Tot slot kies je nog een *metrics* waarmee je de *performantie* van het model kunt nagaan. Hier kies je voor 'accuracy', het percentage datapunten dat aan de juiste categorie wordt toegekend. "
   ]
  },
  {
   "cell_type": "code",
   "execution_count": null,
   "metadata": {},
   "outputs": [],
   "source": [
    "# architectuur netwerk    \n",
    "network = models.Sequential()                                             #'Sequential model' bestaat uit aaneengeschakelde lagen\n",
    "network.add(layers.Dense(15, activation='relu', input_dim= 28 * 28))      # hidden layer: 15 neuronen, activatiefunctie\n",
    "network.add(layers.Dense(10, activation='softmax'))                       # output layer: 10 outputneuronen, activatiefunctie\n",
    "network.compile(optimizer='sgd',\n",
    "                loss='categorical_crossentropy',\n",
    "                metrics=['accuracy'])                                     # optimizer, loss en metrics kiezen"
   ]
  },
  {
   "cell_type": "markdown",
   "metadata": {},
   "source": [
    "<div style='color: #690027;' markdown=\"1\">\n",
    "    <h3>3.2 Trainen van het neuraal netwerk</h3> \n",
    "</div>"
   ]
  },
  {
   "cell_type": "markdown",
   "metadata": {},
   "source": [
    "Hiervoor vroeg je `train_images.shape` op. De datapunten zijn dus matrices. Deze datapunten moeten echter aangeboden worden als vectoren. "
   ]
  },
  {
   "cell_type": "markdown",
   "metadata": {},
   "source": [
    "De dimensie van elke vector ligt vast in de architectuur van het netwerk. Elk datapunt moet dus omgevormd worden naar een vector met dimensie 784. \n",
    "\n",
    "De 60 000 28x28-matrices moeten dus omgevormd worden tot vectoren, of m.a.w. je moet de trainingset omvormen van een stapel van 60 000 28x28-matrices naar een stapel van 60 000 vectoren.\n",
    "\n",
    "Bovendien is het beter de waarden van de afbeeldingen te *normaliseren*. "
   ]
  },
  {
   "cell_type": "markdown",
   "metadata": {},
   "source": [
    "<div class=\"alert alert-block alert-warning\"> \n",
    "Meer uitleg over normaliseren vind je in de notebook 'Standaardiseren'.\n",
    "</div>"
   ]
  },
  {
   "cell_type": "code",
   "execution_count": null,
   "metadata": {},
   "outputs": [],
   "source": [
    "# voorbereiden van dataset\n",
    "\n",
    "# trainingset van stapel van 60 000 28x28-matrices naar stapel van 60 000 vectoren\n",
    "train_images = train_images.reshape((60000, 28 * 28))      \n",
    "train_images = train_images.astype('float32') / 255            # elementen herschalen naar interval [0,1] ipv [0,255]\n",
    "\n",
    "# testset van stapel van 10 000 28x28-matrices naar stapel van 10 000 vectoren\n",
    "test_images = test_images.reshape((10000, 28 * 28))\n",
    "test_images = test_images.astype('float32') / 255\n",
    "\n",
    "# labels opslaan in andere gedaante bv. 0 wordt 1000000000, 1 wordt 0100000000, ..., 7 wordt 00000001000 ... \n",
    "# dus een 1 op plaats met index 7 (je begint te tellen vanaf index 0) \n",
    "train_labels = to_categorical(train_labels)\n",
    "test_labels = to_categorical(test_labels)"
   ]
  },
  {
   "cell_type": "code",
   "execution_count": null,
   "metadata": {},
   "outputs": [],
   "source": [
    "# trainen met methode `fit` van network, m.a.w. beelden en  labels op elkaar afstemmen\n",
    "# 5 epochs, dus 5 keer trainingset doorlopen\n",
    "# steeds 128 prenten per keer gebruiken om de optimizer op toe te passen, bv. gemiddelde afgeleide over 128 datapunten\n",
    "history = network.fit(train_images, train_labels, epochs=5, batch_size=128)\n",
    "\n",
    "loss = history.history[\"loss\"]      # gedurende training telkens na elke epoch waarde loss-functie opslaan in lijst\n",
    "acc = history.history[\"acc\"]        # gedurende training telkens na elke epoch waarde loss-functie opslaan in lijst\n",
    "epochs = range (1 , len(loss) +1)   # epochs nummeren van 1 tot aantal epochs "
   ]
  },
  {
   "cell_type": "code",
   "execution_count": null,
   "metadata": {},
   "outputs": [],
   "source": [
    "print(\"loss =\", loss)\n",
    "print(\"acc =\", acc)\n",
    "print(\"epochs =\", epochs)"
   ]
  },
  {
   "cell_type": "markdown",
   "metadata": {},
   "source": [
    "Zie je dat de loss daalt en de accuracy stijgt?"
   ]
  },
  {
   "cell_type": "code",
   "execution_count": null,
   "metadata": {},
   "outputs": [],
   "source": [
    "plt.figure()\n",
    "\n",
    "plt.plot(epochs, acc, \"o\", color=\"blue\")\n",
    "plt.plot(epochs, loss, \"o\", color=\"green\")\n",
    "\n",
    "plt.show()"
   ]
  },
  {
   "cell_type": "markdown",
   "metadata": {},
   "source": [
    "De nauwkeurigheid van het netwerk is na de training behoorlijk op de trainingset. De fout is wel nog groot."
   ]
  },
  {
   "cell_type": "markdown",
   "metadata": {},
   "source": [
    "<div style='color: #690027;' markdown=\"1\">\n",
    "    <h3>3.3 Prestatie van het model</h3> \n",
    "</div>"
   ]
  },
  {
   "cell_type": "markdown",
   "metadata": {},
   "source": [
    "Om te weten hoe goed het model is, moet je weten hoe goed het presteert op de testdata.<br> Het is niet omdat het model goed presteert op de trainingdata dat het ook goed presteert op ongeziene data. Je gaat dus na hoe de loss en accuracy is op de testdata. "
   ]
  },
  {
   "cell_type": "code",
   "execution_count": null,
   "metadata": {},
   "outputs": [],
   "source": [
    "test_loss, test_acc = network.evaluate(test_images, test_labels)"
   ]
  },
  {
   "cell_type": "code",
   "execution_count": null,
   "metadata": {},
   "outputs": [],
   "source": [
    "print('test_acc:', test_acc)"
   ]
  },
  {
   "cell_type": "markdown",
   "metadata": {},
   "source": [
    "De nauwkeurigheid op de testset is zelfs nog beter dan op de trainingset. Dat betekent dat het model goed generaliseert. "
   ]
  },
  {
   "cell_type": "markdown",
   "metadata": {},
   "source": [
    "Door de volgende code-cel uit te voeren, test je het model op een datapunt uit de trainingdata (herneem `beeld1` van in het begin van de notebook). Eerst wordt ervoor gezorgd dat je werkt met het juiste formaat."
   ]
  },
  {
   "cell_type": "code",
   "execution_count": null,
   "metadata": {},
   "outputs": [],
   "source": [
    "# datapunt voorbereiden\n",
    "voorbeeld = train_images[4].reshape((1, 28 * 28))\n",
    "# testen\n",
    "network.predict(voorbeeld)"
   ]
  },
  {
   "cell_type": "markdown",
   "metadata": {},
   "source": [
    "Wat je hier krijgt is een array waarin staat hoe zeker het model is dat het aangeboden datapunt een 0, een 1, een 2, enz. is, in die volgorde. Die zekerheden worden uitgedrukt in procent."
   ]
  },
  {
   "cell_type": "markdown",
   "metadata": {},
   "source": [
    "Vul in en verwijder wat niet past:\n",
    "\n",
    "Het model is het meest zeker dat het een .... is. <br>\n",
    "Die zekerheid is .... <br>\n",
    "Correct/Foutief geclassificeerd!"
   ]
  },
  {
   "cell_type": "markdown",
   "metadata": {},
   "source": [
    "<div style='color: #690027;' markdown=\"1\">\n",
    "    <h3>3.4 Model testen op ongeziene data</h3> \n",
    "</div>"
   ]
  },
  {
   "cell_type": "markdown",
   "metadata": {},
   "source": [
    "Kan het model ook cijfers herkennen die we zelf schreven? Probeer het uit."
   ]
  },
  {
   "cell_type": "code",
   "execution_count": null,
   "metadata": {},
   "outputs": [],
   "source": [
    "zeven = np.loadtxt(\"../.data/IntroductieDeepLearning/zeven.dat\")\n",
    "vier = np.loadtxt(\"../.data/IntroductieDeepLearning/vier.dat\")\n",
    "twee = np.loadtxt(\"../.data/IntroductieDeepLearning/twee.dat\")"
   ]
  },
  {
   "cell_type": "code",
   "execution_count": null,
   "metadata": {},
   "outputs": [],
   "source": [
    "plt.figure()\n",
    "\n",
    "plt.subplot(1,3,1)\n",
    "plt.imshow(zeven, cmap=\"gray\")\n",
    "plt.subplot(1,3,2)\n",
    "plt.imshow(vier, cmap=\"gray\")\n",
    "plt.subplot(1,3,3)\n",
    "plt.imshow(twee, cmap=\"gray\")\n",
    "\n",
    "plt.show()"
   ]
  },
  {
   "cell_type": "markdown",
   "metadata": {},
   "source": [
    "Gelijken deze cijfers voldoende op die van de dataset?\n",
    "Waarom is dat van belang?"
   ]
  },
  {
   "cell_type": "markdown",
   "metadata": {},
   "source": [
    "Antwoord:"
   ]
  },
  {
   "cell_type": "code",
   "execution_count": null,
   "metadata": {},
   "outputs": [],
   "source": [
    "print(zeven.shape, twee.shape, vier.shape)"
   ]
  },
  {
   "cell_type": "code",
   "execution_count": null,
   "metadata": {},
   "outputs": [],
   "source": [
    "print(zeven)\n",
    "print(zeven.dtype)"
   ]
  },
  {
   "cell_type": "markdown",
   "metadata": {},
   "source": [
    "De datapunten hebben de vorm van matrices."
   ]
  },
  {
   "cell_type": "markdown",
   "metadata": {},
   "source": [
    "Bekijk hoe het model presteert op deze cijfers."
   ]
  },
  {
   "cell_type": "code",
   "execution_count": null,
   "metadata": {},
   "outputs": [],
   "source": [
    "# data voorbereiden\n",
    "zeven = zeven.reshape((1, 28 * 28))              # omvormen naar tensor die 1 vector bevat\n",
    "vier = vier.reshape((1, 28 * 28))\n",
    "twee = twee.reshape((1, 28 * 28))\n",
    "# print(nieuw formaat)\n",
    "print(zeven.shape, twee.shape, vier.shape)"
   ]
  },
  {
   "cell_type": "code",
   "execution_count": null,
   "metadata": {
    "scrolled": true
   },
   "outputs": [],
   "source": [
    "network.predict(zeven)"
   ]
  },
  {
   "cell_type": "code",
   "execution_count": null,
   "metadata": {},
   "outputs": [],
   "source": [
    "network.predict(vier)"
   ]
  },
  {
   "cell_type": "code",
   "execution_count": null,
   "metadata": {},
   "outputs": [],
   "source": [
    "network.predict(twee)"
   ]
  },
  {
   "cell_type": "markdown",
   "metadata": {},
   "source": [
    "Hoe presteert het model op deze zelfgeschreven cijfers?"
   ]
  },
  {
   "cell_type": "markdown",
   "metadata": {},
   "source": [
    "Antwoord:"
   ]
  },
  {
   "cell_type": "markdown",
   "metadata": {},
   "source": [
    "### Opdracht 3.1\n",
    "Schrijf zelf enkele cijfers en test uit of het model jouw handschrift leest!<br>\n",
    "Je maakt hiervoor zel een notebook aan met Jupyter Notebook binnen Anaconda of in Google Colaboratory of in Microsoft Azure Notebooks."
   ]
  },
  {
   "cell_type": "markdown",
   "metadata": {},
   "source": [
    "Besluit:"
   ]
  },
  {
   "cell_type": "markdown",
   "metadata": {},
   "source": [
    "<div class=\"alert alert-block alert-warning\">\n",
    "In de notebook 'Van jpg naar dat of npy' lees je meer over hoe je je afbeeldingen naar het gewenste formaat omvormt.\n",
    "</div>"
   ]
  },
  {
   "cell_type": "markdown",
   "metadata": {},
   "source": [
    "<div style='color: #690027;' markdown=\"1\">\n",
    "    <h2>4. Op zoek naar een beter model</h2> \n",
    "</div>"
   ]
  },
  {
   "cell_type": "markdown",
   "metadata": {},
   "source": [
    "### Opdracht 4.1\n",
    "Pas het aantal neuronen en het aantal epochs in de netwerk-architectuur aan om de prestaties van het netwerk te verbeteren. \n",
    "\n",
    "Wie haalt de beste nauwkeurigheid?"
   ]
  },
  {
   "cell_type": "markdown",
   "metadata": {},
   "source": [
    "De beste nauwkeurigheid die je model haalt is ........ voor de trainingset en .... voor de testset."
   ]
  },
  {
   "cell_type": "markdown",
   "metadata": {},
   "source": [
    "### Opdracht 4.2\n",
    "Test je model uit op je eigen cijfers.<br>\n",
    "Je maakt hiervoor zelf een notebook aan met Jupyter Notebook binnen Anaconda of in Google Colaboratory of in Microsoft Azure Notebooks."
   ]
  },
  {
   "cell_type": "markdown",
   "metadata": {},
   "source": [
    "Tip: vermijd *overfitting*."
   ]
  },
  {
   "cell_type": "markdown",
   "metadata": {},
   "source": [
    "<div class=\"alert alert-box alert-info\">\n",
    "Het verschil tussen de <em>training accuracy</em> en de <em>test accuracy</em> is belangrijk. Als de training accuracy groter is dan de test accuracy, dan spreekt men van <em>overfitting</em>: het feit dat het model slechter gaat presteren op nieuwe data dan op de trainingdata.\n",
    "</div>"
   ]
  },
  {
   "cell_type": "markdown",
   "metadata": {},
   "source": [
    "<div>\n",
    "    <h2>Referentielijst</h2> \n",
    "</div>"
   ]
  },
  {
   "cell_type": "markdown",
   "metadata": {},
   "source": [
    "[1] Chollet, F. (2018). *Deep learning with Python*. Manning publications.<br>\n",
    "[2] Getting started with the Keras Sequential model. Geraadpleegd op 25 september 2019 via https://keras.io/getting-started/sequential-model-guide/."
   ]
  },
  {
   "cell_type": "markdown",
   "metadata": {},
   "source": [
    "<img src=\"../.images/cclic.png\" alt=\"Banner\" align=\"left\" style=\"width:100px;\"/><br><br>\n",
    "Notebook KIKS, zie <a href=\"http://www.aiopschool.be\">AI op School</a>, van F. wyffels & N. Gesquière is in licentie gegeven volgens een <a href=\"http://creativecommons.org/licenses/by-nc-sa/4.0/\">Creative Commons Naamsvermelding-NietCommercieel-GelijkDelen 4.0 Internationaal-licentie</a>. "
   ]
  }
 ],
 "metadata": {
  "kernelspec": {
   "display_name": "Python 3",
   "language": "python",
   "name": "python3"
  },
  "language_info": {
   "codemirror_mode": {
    "name": "ipython",
    "version": 3
   },
   "file_extension": ".py",
   "mimetype": "text/x-python",
   "name": "python",
   "nbconvert_exporter": "python",
   "pygments_lexer": "ipython3",
   "version": "3.6.4"
  }
 },
 "nbformat": 4,
 "nbformat_minor": 2
}
