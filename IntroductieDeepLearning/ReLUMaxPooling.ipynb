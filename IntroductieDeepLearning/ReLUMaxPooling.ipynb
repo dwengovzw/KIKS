{
 "cells": [
  {
   "cell_type": "markdown",
   "metadata": {},
   "source": [
    "<img src=\"../.images/logosnb2.png\" alt=\"Banner\" style=\"width:1100px;\"/>"
   ]
  },
  {
   "cell_type": "markdown",
   "metadata": {},
   "source": [
    "<div style='color: #690027;' markdown=\"1\">\n",
    "    <h1>RELU EN MAX POOLING</h1> \n",
    "</div>"
   ]
  },
  {
   "cell_type": "markdown",
   "metadata": {},
   "source": [
    "<div class=\"alert alert-box alert-success\">\n",
    "Het convolutioneel neuraal netwerk van KIKS past convoluties toe op een foto. Nadien wordt de bekomen tensor onderworpen aan de niet-lineaire activatiefunctie <em>ReLU</em> en een <em>max pooling-operatie</em>. \n",
    "</div>"
   ]
  },
  {
   "cell_type": "markdown",
   "metadata": {},
   "source": [
    "Via convolutie gaat men op zoek naar verschillende kenmerken in een afbeelding. Men kan er bv. randen mee detecteren, ruis in een beeld mee verminderen of het contrast in een beeld verzachten.<br>\n",
    "De kenmerken die het minst leiden tot een juiste classificatie worden verzwakt door na de convolutie een niet-lineaire activatiefunctie ReLU toe te passen; ReLU zal alle negatieve waarden op nul zal zetten. Tot slot past men ook nog een max pooling-operatie toe, die net de kenmerken die het meest leiden tot een juist classificatie zal versterken. Dan gaat men van elk venster van 2 op 2 pixels enkel de grootste waarde, dus de helderste pixel, behouden. De afbeelding wordt zo vier keer kleiner, wat ook de nodige rekenkracht verkleint.  "
   ]
  },
  {
   "cell_type": "markdown",
   "metadata": {},
   "source": [
    "### Nodige modules importeren"
   ]
  },
  {
   "cell_type": "code",
   "execution_count": null,
   "metadata": {},
   "outputs": [],
   "source": [
    "import numpy as np\n",
    "import matplotlib.pyplot as plt\n",
    "import scipy.signal\n",
    "from keras.datasets import mnist"
   ]
  },
  {
   "cell_type": "markdown",
   "metadata": {},
   "source": [
    "<div style='color: #690027;' markdown=\"1\">\n",
    "    <h2>1. Inlezen van data</h2> \n",
    "</div>"
   ]
  },
  {
   "cell_type": "code",
   "execution_count": null,
   "metadata": {
    "scrolled": true
   },
   "outputs": [],
   "source": [
    "# MNIST dataset inladen\n",
    "(x_train, y_train), (x_test, y_test) = mnist.load_data()"
   ]
  },
  {
   "cell_type": "code",
   "execution_count": null,
   "metadata": {
    "scrolled": true
   },
   "outputs": [],
   "source": [
    "# een afbeelding uit de MNIST trainingset\n",
    "plt.imshow(x_train[11], cmap=\"gray\", vmin=0, vmax=255)\n",
    "print(x_train[11])\n",
    "print(\"Het label van deze afbeelding is: \", y_train[11])"
   ]
  },
  {
   "cell_type": "code",
   "execution_count": null,
   "metadata": {
    "scrolled": true
   },
   "outputs": [],
   "source": [
    "# een afbeelding uit de MNIST trainingset\n",
    "plt.imshow(x_train[12], cmap=\"gray\")\n",
    "print(x_train[12])\n",
    "print(\"Het label van deze afbeelding is: \", y_train[12])"
   ]
  },
  {
   "cell_type": "code",
   "execution_count": null,
   "metadata": {},
   "outputs": [],
   "source": [
    "# verderwerken met tweede afbeelding uit MNIST trainingset\n",
    "drie = x_train[12]\n",
    "print(drie.shape)"
   ]
  },
  {
   "cell_type": "markdown",
   "metadata": {},
   "source": [
    "<div style='color: #690027;' markdown=\"1\">\n",
    "    <h2>2. ReLU en max pooling definiëren</h2> \n",
    "</div>"
   ]
  },
  {
   "cell_type": "markdown",
   "metadata": {},
   "source": [
    "<img src=\"../.images/IntroductieDeepLearning/relu.png\" alt=\"Banner\" style=\"width:300px;\"/>"
   ]
  },
  {
   "cell_type": "code",
   "execution_count": null,
   "metadata": {},
   "outputs": [],
   "source": [
    "def relu(tensor):\n",
    "    \"\"\"RelU(x) = max(0,x).\"\"\"\n",
    "    return np.maximum(0, tensor)"
   ]
  },
  {
   "cell_type": "markdown",
   "metadata": {},
   "source": [
    "<img src=\"../.images/IntroductieDeepLearning/maxpool.png\" alt=\"Banner\" style=\"width:300px;\"/>"
   ]
  },
  {
   "cell_type": "code",
   "execution_count": null,
   "metadata": {},
   "outputs": [],
   "source": [
    "def maxpool(tensor):\n",
    "    \"\"\"Neemt van elk vak van 2x2 de grootste waarde.\"\"\"\n",
    "    mp = np.zeros((tensor.shape[0]//2, tensor.shape[1]//2))    # NumPy array van gewenste grootte, opgevuld met nullen\n",
    "    # NumPy array opvullen\n",
    "    for i in range(0, tensor.shape[0]-1, 2):                   # stappen van 2\n",
    "        for j in range(0, tensor.shape[1]-1, 2):\n",
    "            max = np.max([tensor[i][j], tensor[i][j+1], tensor[i+1][j], tensor[i+1][j+1]])\n",
    "            k = i // 2              # // gebruiken om int te bekomen\n",
    "            l = j // 2\n",
    "            mp[k][l] = max\n",
    "    return mp"
   ]
  },
  {
   "cell_type": "markdown",
   "metadata": {},
   "source": [
    "<div style='color: #690027;' markdown=\"1\">\n",
    "    <h2>3. ReLU en max pooling toepassen op gefilterde afbeelding</h2> \n",
    "</div>"
   ]
  },
  {
   "cell_type": "markdown",
   "metadata": {},
   "source": [
    "<div style='color: #690027;' markdown=\"1\">\n",
    "    <h3>3.1 Filter toepassen op afbeelding</h3> \n",
    "</div>"
   ]
  },
  {
   "cell_type": "code",
   "execution_count": null,
   "metadata": {},
   "outputs": [],
   "source": [
    "# filter\n",
    "rand_kernel = np.array([[-1,-1,-1],[-1,8,-1],[-1,-1,-1]])\n",
    "# sobel_kernel = np.array([[1,2,1],[0,0,0],[-1,-2,-1]])\n",
    "# edge_kernel = np.array([[-1, -2, -1], [-2, 12, -2], [-1, -2, -1]]) \n",
    "# smooth_kernel = np.array([[1, 1, 1], [1, 5, 1], [1, 1, 1]]) / 13"
   ]
  },
  {
   "cell_type": "code",
   "execution_count": null,
   "metadata": {
    "scrolled": true
   },
   "outputs": [],
   "source": [
    "# convolutie uitvoeren\n",
    "drie_rand = scipy.signal.convolve2d(drie, rand_kernel, mode=\"valid\")   # met valid laat je toe dat afbeelding iets kleiner wordt"
   ]
  },
  {
   "cell_type": "code",
   "execution_count": null,
   "metadata": {},
   "outputs": [],
   "source": [
    "plt.imshow(drie_rand, cmap=\"gray\")\n",
    "print(drie_rand.shape)"
   ]
  },
  {
   "cell_type": "markdown",
   "metadata": {},
   "source": [
    "De gefilterde afbeelding is iets kleiner dan de oospronkelijke afbeelding."
   ]
  },
  {
   "cell_type": "code",
   "execution_count": null,
   "metadata": {},
   "outputs": [],
   "source": [
    "print(np.min(drie), np.max(drie))\n",
    "print(np.min(drie_rand), np.max(drie_rand))"
   ]
  },
  {
   "cell_type": "markdown",
   "metadata": {},
   "source": [
    "De oorspronkelijke afbeelding heeft pixelwaarden van 0 t.e.m. 255.<br>\n",
    "De gefilterde afbeelding heeft grotere pixelwaarden en ook negatieve pixelwaarden."
   ]
  },
  {
   "cell_type": "markdown",
   "metadata": {},
   "source": [
    "<div style='color: #690027;' markdown=\"1\">\n",
    "    <h3>3.2 ReLU toepassen op gefilterde afbeelding</h3> \n",
    "</div>"
   ]
  },
  {
   "cell_type": "code",
   "execution_count": null,
   "metadata": {},
   "outputs": [],
   "source": [
    "# ReLU toepassen op de gefilterde afbeelding\n",
    "drie_rand_ReLU = relu(drie_rand)\n",
    "plt.imshow(drie_rand_ReLU , cmap=\"gray\")\n",
    "print(drie_rand_ReLU.shape)"
   ]
  },
  {
   "cell_type": "markdown",
   "metadata": {},
   "source": [
    "<div style='color: #690027;' markdown=\"1\">\n",
    "    <h3>3.3 Max pooling toepassen op resultaat van ReLU</h3> \n",
    "</div>"
   ]
  },
  {
   "cell_type": "code",
   "execution_count": null,
   "metadata": {},
   "outputs": [],
   "source": [
    "drie_rand_ReLU_maxpool = maxpool(drie_rand_ReLU)\n",
    "plt.imshow(drie_rand_ReLU_maxpool, cmap=\"gray\")\n",
    "print(drie_rand_ReLU_maxpool.shape)"
   ]
  },
  {
   "cell_type": "markdown",
   "metadata": {},
   "source": [
    "### Opdracht 2.1\n",
    "Probeer eens een andere filter uit en bekijk het resultaat."
   ]
  },
  {
   "cell_type": "markdown",
   "metadata": {},
   "source": [
    "<div style='color: #690027;' markdown=\"1\">\n",
    "    <h2>3. ReLU en max pooling toepassen op gefilterde foto uit de KIKS dataset</h2> \n",
    "</div>"
   ]
  },
  {
   "cell_type": "code",
   "execution_count": null,
   "metadata": {},
   "outputs": [],
   "source": [
    "# foto uit de KIKS-dataset\n",
    "testfoto = np.load(\"../.images/IntroductieDeepLearning/Pseudozanguebariae.npy\")\n",
    "# testfoto2 = np.load(\"../.images/IntroductieDeepLearning/Eugenioides.npy\")"
   ]
  },
  {
   "cell_type": "code",
   "execution_count": null,
   "metadata": {},
   "outputs": [],
   "source": [
    "plt.figure(figsize=(12,8))\n",
    "plt.imshow(testfoto, cmap=\"gray\", vmin=0, vmax=255)\n",
    "testfoto.shape"
   ]
  },
  {
   "cell_type": "markdown",
   "metadata": {},
   "source": [
    "Om een foto te verscherpen, kan je de volgende filter gebruiken: $\\begin{bmatrix} 0 & -1 & 0 \\\\ -1 & 5 & -1 \\\\ 0 & -1 & 0   \\end{bmatrix}$.<br> Geef deze filter in in Python met de juiste instructie."
   ]
  },
  {
   "cell_type": "code",
   "execution_count": null,
   "metadata": {},
   "outputs": [],
   "source": [
    "scherp_kernel = np.array([[0,-1,0],[-1,5,-1],[0,-1,0]])"
   ]
  },
  {
   "cell_type": "code",
   "execution_count": null,
   "metadata": {},
   "outputs": [],
   "source": [
    "plt.figure(figsize=(12,8))\n",
    "testfoto_scherp = scipy.signal.convolve2d(testfoto, scherp_kernel, mode=\"valid\")\n",
    "plt.imshow(testfoto_scherp, cmap=\"gray\", vmin=0, vmax=255)"
   ]
  },
  {
   "cell_type": "code",
   "execution_count": null,
   "metadata": {},
   "outputs": [],
   "source": [
    "plt.figure(figsize=(12,8))\n",
    "testfoto_scherp_ReLU = relu(testfoto_scherp)\n",
    "plt.imshow(testfoto_scherp_ReLU, cmap=\"gray\",  vmin=0, vmax=255)"
   ]
  },
  {
   "cell_type": "markdown",
   "metadata": {},
   "source": [
    "De kenmerken die minder van belang zijn om de huidmondjes te herkennen, zijn verzwakt."
   ]
  },
  {
   "cell_type": "code",
   "execution_count": null,
   "metadata": {},
   "outputs": [],
   "source": [
    "plt.figure(figsize=(12,8))\n",
    "testfoto_scherp_ReLU_maxpool = maxpool(testfoto_scherp_ReLU)\n",
    "plt.imshow(testfoto_scherp_ReLU_maxpool, cmap=\"gray\",  vmin=0, vmax=255)"
   ]
  },
  {
   "cell_type": "code",
   "execution_count": null,
   "metadata": {},
   "outputs": [],
   "source": [
    "testfoto_scherp_ReLU_maxpool.shape"
   ]
  },
  {
   "cell_type": "markdown",
   "metadata": {},
   "source": [
    "Je merkt dat de kwaliteit van de foto's nog steeds vrij goed is na de max pooling. <br>\n",
    "De kenmerken die van belang zijn om de huidmondjes te herkennen, zijn versterkt; de andere kenmerken zijn weggelaten.\n",
    "Bijkomend voordeel: het aantal pixels is gedeeld door vier; rekenen met kleinere afbeeldingen vergt minder rekenkracht. "
   ]
  },
  {
   "cell_type": "markdown",
   "metadata": {},
   "source": [
    "### Opdracht 3.1\n",
    "Probeer eens een andere filter uit en bekijk het resultaat."
   ]
  },
  {
   "cell_type": "markdown",
   "metadata": {},
   "source": [
    "<div style='color: #690027;' markdown=\"1\">\n",
    "    <h2>4. ReLU en max pooling toepassen op gefilterde foto van bamboe</h2> \n",
    "</div>"
   ]
  },
  {
   "cell_type": "code",
   "execution_count": null,
   "metadata": {},
   "outputs": [],
   "source": [
    "# foto inladen\n",
    "bamboe =  np.load(\"../.images/IntroductieDeepLearning/bamboe.npy\")\n",
    "print(bamboe.shape)\n",
    "plt.imshow(bamboe, cmap=\"gray\")"
   ]
  },
  {
   "cell_type": "code",
   "execution_count": null,
   "metadata": {},
   "outputs": [],
   "source": [
    "# filter om verticale lijnen te detecteren\n",
    "vertic_filter = np.array([[-1,0,1],[-1,0,1],[-1,0,1]])"
   ]
  },
  {
   "cell_type": "code",
   "execution_count": null,
   "metadata": {
    "scrolled": true
   },
   "outputs": [],
   "source": [
    "bamboe_vertic = scipy.signal.convolve2d(bamboe, vertic_filter, mode=\"valid\")\n",
    "\n",
    "plt.figure(figsize=(12,18))\n",
    "plt.subplot(1,2,1)                                        # plot met meerdere afbeeldingen\n",
    "plt.imshow(bamboe, cmap=\"gray\")\n",
    "plt.subplot(1,2,2)\n",
    "plt.imshow(bamboe_vertic, cmap=\"gray\")\n",
    "\n",
    "plt.show()"
   ]
  },
  {
   "cell_type": "code",
   "execution_count": null,
   "metadata": {},
   "outputs": [],
   "source": [
    "# ReLU toepassen op gefilterde foto\n",
    "bamboe_vertic_relu = relu(bamboe_vertic)\n",
    "\n",
    "plt.figure(figsize=(12,18))\n",
    "plt.subplot(1,2,1)                                        # plot met meerdere afbeeldingen\n",
    "plt.imshow(bamboe_vertic, cmap=\"gray\")\n",
    "plt.subplot(1,2,2)\n",
    "plt.imshow(bamboe_vertic_relu, cmap=\"gray\")\n",
    "\n",
    "plt.show()"
   ]
  },
  {
   "cell_type": "code",
   "execution_count": null,
   "metadata": {},
   "outputs": [],
   "source": [
    "# max pooling toepassen op resultaat van ReLU\n",
    "bamboe_vertic_relu_maxpool = maxpool(bamboe_vertic_relu)\n",
    "\n",
    "plt.figure(figsize=(12,18))\n",
    "plt.subplot(1,2,1)                                        # plot met meerdere afbeeldingen\n",
    "plt.imshow(bamboe_vertic_relu, cmap=\"gray\")\n",
    "plt.subplot(1,2,2)\n",
    "plt.imshow(bamboe_vertic_relu_maxpool, cmap=\"gray\")\n",
    "\n",
    "plt.show()"
   ]
  },
  {
   "cell_type": "code",
   "execution_count": null,
   "metadata": {},
   "outputs": [],
   "source": [
    "print(np.min(bamboe), np.max(bamboe), bamboe.shape)\n",
    "print(np.min(bamboe_vertic), np.max(bamboe_vertic), bamboe_vertic.shape)\n",
    "print(np.min(bamboe_vertic_relu), np.max(bamboe_vertic_relu), bamboe_vertic_relu.shape)\n",
    "print(np.min(bamboe_vertic_relu_maxpool), np.max(bamboe_vertic_relu_maxpool), bamboe_vertic_relu_maxpool.shape)"
   ]
  },
  {
   "cell_type": "code",
   "execution_count": null,
   "metadata": {},
   "outputs": [],
   "source": [
    "# histogram met verdeling van de pixelwaarden\n",
    "plt.figure(figsize=(12,18))\n",
    "\n",
    "plt.subplot(2,2,1)                                        # plot met meerdere afbeeldingen\n",
    "plt.hist(bamboe.ravel(), bins=11) \n",
    "plt.subplot(2,2,2)\n",
    "plt.hist(bamboe_vertic.ravel(), bins=11)                  # kleuren verdelen over 11 intervallen\n",
    "plt.subplot(2,2,3)\n",
    "plt.hist(bamboe_vertic_relu.ravel(), bins=11)\n",
    "plt.subplot(2,2,4)\n",
    "plt.hist(bamboe_vertic_relu_maxpool.ravel(), bins=11)\n",
    "\n",
    "plt.show()"
   ]
  },
  {
   "cell_type": "markdown",
   "metadata": {},
   "source": [
    "### Extra uitleg over werking vertic_filter"
   ]
  },
  {
   "cell_type": "code",
   "execution_count": null,
   "metadata": {},
   "outputs": [],
   "source": [
    "vier = np.array([[0, 0, 1, 1, 0, 0, 0, 1, 1, 0, 0], \n",
    "                 [0, 0, 1, 1, 0, 0, 0, 1, 1, 0, 0],\n",
    "                 [0, 0, 1, 1, 0, 0, 0, 1, 1, 0, 0], \n",
    "                 [0, 0, 1, 1, 0, 0, 0, 1, 1, 0, 0],\n",
    "                 [0, 0, 1, 1, 1, 1, 1, 1, 1, 0, 0], \n",
    "                 [0, 0, 1, 1, 1, 1, 1, 1, 1, 0, 0], \n",
    "                 [0, 0, 0, 0, 0, 0, 0, 1, 1, 0, 0], \n",
    "                 [0, 0, 0, 0, 0, 0, 0, 1, 1, 0, 0], \n",
    "                 [0, 0, 0, 0, 0, 0, 0, 1, 1, 0, 0], \n",
    "                 [0, 0, 0, 0, 0, 0, 0, 1, 1, 0, 0]])\n",
    "plt.imshow(vier, cmap=\"gray\")"
   ]
  },
  {
   "cell_type": "code",
   "execution_count": null,
   "metadata": {},
   "outputs": [],
   "source": [
    "vertic_filter = np.array([[-1,0,1],[-1,0,1],[-1,0,1]])"
   ]
  },
  {
   "cell_type": "markdown",
   "metadata": {},
   "source": [
    "Reken zelf manueel het resultaat uit van de convolutie en vergelijk met het resultaat van de code hieronder."
   ]
  },
  {
   "cell_type": "code",
   "execution_count": null,
   "metadata": {},
   "outputs": [],
   "source": [
    "# filter toepassen op de afbeelding\n",
    "vier_vertic = scipy.signal.convolve2d(vier, vertic_filter, mode=\"valid\")\n",
    "print(vier_vertic)\n",
    "plt.imshow(vier_vertic, cmap=\"gray\")"
   ]
  },
  {
   "cell_type": "markdown",
   "metadata": {},
   "source": [
    "Merk op dat de grootste waarden in het resultaat overeenkomen met de verticale lijnen. Dat zijn de lichtste pixels in het resultaat."
   ]
  },
  {
   "cell_type": "markdown",
   "metadata": {},
   "source": [
    "<img src=\"../.images/cclic.png\" alt=\"Banner\" align=\"left\" style=\"width:80px;\"/><br><br>\n",
    "Notebook KIKS, zie <a href=\"http://www.aiopschool.be\">AI Op School</a>, van F. wyffels & N. Gesquière is in licentie gegeven volgens een <a href=\"http://creativecommons.org/licenses/by-nc-sa/4.0/\">Creative Commons Naamsvermelding-NietCommercieel-GelijkDelen 4.0 Internationaal-licentie</a>. "
   ]
  }
 ],
 "metadata": {
  "kernelspec": {
   "display_name": "Python 3",
   "language": "python",
   "name": "python3"
  },
  "language_info": {
   "codemirror_mode": {
    "name": "ipython",
    "version": 3
   },
   "file_extension": ".py",
   "mimetype": "text/x-python",
   "name": "python",
   "nbconvert_exporter": "python",
   "pygments_lexer": "ipython3",
   "version": "3.7.4"
  }
 },
 "nbformat": 4,
 "nbformat_minor": 2
}
