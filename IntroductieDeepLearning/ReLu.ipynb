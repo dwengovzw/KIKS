{
 "cells": [
  {
   "cell_type": "markdown",
   "metadata": {},
   "source": [
    "<img src=\"../.images/logosnb.png\" alt=\"Banner\" style=\"width:800px;\"/>"
   ]
  },
  {
   "cell_type": "markdown",
   "metadata": {},
   "source": [
    "<div style='color: #690027;' markdown=\"1\">\n",
    "    <h1>ReLU</h1> \n",
    "</div>"
   ]
  },
  {
   "cell_type": "markdown",
   "metadata": {},
   "source": [
    "<div class=\"alert alert-box alert-success\">\n",
    "Om een neuraal netwerk op te bouwen, heeft men een <b>activatiefunctie</b> nodig. ReLu is een veelgebruikte activiatiefunctie. \n",
    "</div>"
   ]
  },
  {
   "cell_type": "markdown",
   "metadata": {},
   "source": [
    "In het volgende voorbeeld beschouwt men blauwe en groene punten in het vlak. Van elk punt is de coördinaat en de kleur gegeven."
   ]
  },
  {
   "cell_type": "markdown",
   "metadata": {},
   "source": [
    "### De nodige modules importeren"
   ]
  },
  {
   "cell_type": "code",
   "execution_count": 1,
   "metadata": {},
   "outputs": [],
   "source": [
    "import pandas as pd\n",
    "\n",
    "import matplotlib.pyplot as plt\n",
    "import numpy as np"
   ]
  },
  {
   "cell_type": "markdown",
   "metadata": {},
   "source": [
    "<div style='color: #690027;' markdown=\"1\">\n",
    "    <h2>1. Inlezen van de data</h2> \n",
    "</div>"
   ]
  },
  {
   "cell_type": "markdown",
   "metadata": {},
   "source": [
    "Lees met de module `pandas` de dataset in."
   ]
  },
  {
   "cell_type": "code",
   "execution_count": 2,
   "metadata": {},
   "outputs": [],
   "source": [
    "punten = pd.read_csv(\"../.data/IntroductieDeepLearning/data.dat\", header=None)  # in te lezen tabel heeft een hoofding"
   ]
  },
  {
   "cell_type": "markdown",
   "metadata": {},
   "source": [
    "<div style='color: #690027;' markdown=\"1\">\n",
    "    <h2>2. Tonen van de ingelezen data</h2> \n",
    "</div>"
   ]
  },
  {
   "cell_type": "markdown",
   "metadata": {},
   "source": [
    "Bekijk de data door de instructie `punten` uit te voeren. De dataset bestaat uit de x- en y-coördinaat van de punten en de kleur van elk punt. <br>\n",
    "De x- en y-coördinaat zijn kenmerken, de kleur is een label. <br> Omdat er twee soorten labels zijn, zegt men dat de punten verdeeld zijn over twee klassen."
   ]
  },
  {
   "cell_type": "code",
   "execution_count": 3,
   "metadata": {},
   "outputs": [
    {
     "data": {
      "text/html": [
       "<div>\n",
       "<style scoped>\n",
       "    .dataframe tbody tr th:only-of-type {\n",
       "        vertical-align: middle;\n",
       "    }\n",
       "\n",
       "    .dataframe tbody tr th {\n",
       "        vertical-align: top;\n",
       "    }\n",
       "\n",
       "    .dataframe thead th {\n",
       "        text-align: right;\n",
       "    }\n",
       "</style>\n",
       "<table border=\"1\" class=\"dataframe\">\n",
       "  <thead>\n",
       "    <tr style=\"text-align: right;\">\n",
       "      <th></th>\n",
       "      <th>0</th>\n",
       "      <th>1</th>\n",
       "      <th>2</th>\n",
       "    </tr>\n",
       "  </thead>\n",
       "  <tbody>\n",
       "    <tr>\n",
       "      <th>0</th>\n",
       "      <td>0.74</td>\n",
       "      <td>8.55</td>\n",
       "      <td>blauw</td>\n",
       "    </tr>\n",
       "    <tr>\n",
       "      <th>1</th>\n",
       "      <td>-0.61</td>\n",
       "      <td>8.37</td>\n",
       "      <td>blauw</td>\n",
       "    </tr>\n",
       "    <tr>\n",
       "      <th>2</th>\n",
       "      <td>-1.82</td>\n",
       "      <td>11.30</td>\n",
       "      <td>blauw</td>\n",
       "    </tr>\n",
       "    <tr>\n",
       "      <th>3</th>\n",
       "      <td>-1.48</td>\n",
       "      <td>10.20</td>\n",
       "      <td>blauw</td>\n",
       "    </tr>\n",
       "    <tr>\n",
       "      <th>4</th>\n",
       "      <td>2.00</td>\n",
       "      <td>12.00</td>\n",
       "      <td>blauw</td>\n",
       "    </tr>\n",
       "    <tr>\n",
       "      <th>5</th>\n",
       "      <td>1.35</td>\n",
       "      <td>9.83</td>\n",
       "      <td>blauw</td>\n",
       "    </tr>\n",
       "    <tr>\n",
       "      <th>6</th>\n",
       "      <td>-3.48</td>\n",
       "      <td>11.09</td>\n",
       "      <td>groen</td>\n",
       "    </tr>\n",
       "    <tr>\n",
       "      <th>7</th>\n",
       "      <td>-3.21</td>\n",
       "      <td>9.29</td>\n",
       "      <td>groen</td>\n",
       "    </tr>\n",
       "    <tr>\n",
       "      <th>8</th>\n",
       "      <td>-2.90</td>\n",
       "      <td>7.41</td>\n",
       "      <td>groen</td>\n",
       "    </tr>\n",
       "    <tr>\n",
       "      <th>9</th>\n",
       "      <td>-2.29</td>\n",
       "      <td>4.23</td>\n",
       "      <td>groen</td>\n",
       "    </tr>\n",
       "    <tr>\n",
       "      <th>10</th>\n",
       "      <td>-1.35</td>\n",
       "      <td>0.81</td>\n",
       "      <td>groen</td>\n",
       "    </tr>\n",
       "    <tr>\n",
       "      <th>11</th>\n",
       "      <td>0.22</td>\n",
       "      <td>-0.95</td>\n",
       "      <td>groen</td>\n",
       "    </tr>\n",
       "    <tr>\n",
       "      <th>12</th>\n",
       "      <td>2.10</td>\n",
       "      <td>3.43</td>\n",
       "      <td>groen</td>\n",
       "    </tr>\n",
       "    <tr>\n",
       "      <th>13</th>\n",
       "      <td>2.39</td>\n",
       "      <td>4.69</td>\n",
       "      <td>groen</td>\n",
       "    </tr>\n",
       "    <tr>\n",
       "      <th>14</th>\n",
       "      <td>3.39</td>\n",
       "      <td>10.50</td>\n",
       "      <td>groen</td>\n",
       "    </tr>\n",
       "  </tbody>\n",
       "</table>\n",
       "</div>"
      ],
      "text/plain": [
       "       0      1       2\n",
       "0   0.74   8.55  blauw \n",
       "1  -0.61   8.37  blauw \n",
       "2  -1.82  11.30  blauw \n",
       "3  -1.48  10.20  blauw \n",
       "4   2.00  12.00  blauw \n",
       "5   1.35   9.83  blauw \n",
       "6  -3.48  11.09   groen\n",
       "7  -3.21   9.29   groen\n",
       "8  -2.90   7.41   groen\n",
       "9  -2.29   4.23   groen\n",
       "10 -1.35   0.81   groen\n",
       "11  0.22  -0.95   groen\n",
       "12  2.10   3.43   groen\n",
       "13  2.39   4.69   groen\n",
       "14  3.39  10.50   groen"
      ]
     },
     "execution_count": 3,
     "metadata": {},
     "output_type": "execute_result"
    }
   ],
   "source": [
    "punten"
   ]
  },
  {
   "cell_type": "markdown",
   "metadata": {},
   "source": [
    "Deze tabel is een tabel met 15 rijen en 3 kolommen: er zijn immers 15 punten, 2 kenmerken (x1, x2) en 1 label (y). <br><br>\n",
    "De kenmerken:\n",
    "- eerste kolom: x-coördinaat; \n",
    "- tweede kolom: y-coördinaat.\n",
    "\n",
    "Het label:\n",
    "- derde kolom: kleur."
   ]
  },
  {
   "cell_type": "markdown",
   "metadata": {},
   "source": [
    "<div style='color: #690027;' markdown=\"1\">\n",
    "    <h2>3. Onderzoeken of de punten van elkaar kunnen gescheiden worden</h2> \n",
    "</div>"
   ]
  },
  {
   "cell_type": "markdown",
   "metadata": {},
   "source": [
    "<div style='color: #690027;' markdown=\"1\">\n",
    "    <h3>3.1 Visualiseren van de data</h3> \n",
    "</div>"
   ]
  },
  {
   "cell_type": "markdown",
   "metadata": {},
   "source": [
    "Om de data te visulaliseren, heb je de x- en y-coördinaat van de punten nodig."
   ]
  },
  {
   "cell_type": "code",
   "execution_count": 4,
   "metadata": {},
   "outputs": [
    {
     "name": "stdout",
     "output_type": "stream",
     "text": [
      "[[ 0.74  8.55]\n",
      " [-0.61  8.37]\n",
      " [-1.82 11.3 ]\n",
      " [-1.48 10.2 ]\n",
      " [ 2.   12.  ]\n",
      " [ 1.35  9.83]\n",
      " [-3.48 11.09]\n",
      " [-3.21  9.29]\n",
      " [-2.9   7.41]\n",
      " [-2.29  4.23]\n",
      " [-1.35  0.81]\n",
      " [ 0.22 -0.95]\n",
      " [ 2.1   3.43]\n",
      " [ 2.39  4.69]\n",
      " [ 3.39 10.5 ]]\n"
     ]
    }
   ],
   "source": [
    "# coördinaten van de punten\n",
    "X = punten.iloc[:, [0, 1]].values \n",
    "X.shape        \n",
    "print(X)"
   ]
  },
  {
   "cell_type": "code",
   "execution_count": null,
   "metadata": {},
   "outputs": [],
   "source": [
    "print(X[:, 0])    # eerste kolom van X: x-coördinaat\n",
    "print(X[:, 1])    # tweede kolom van X: y-coördinaat"
   ]
  },
  {
   "cell_type": "markdown",
   "metadata": {},
   "source": [
    "<div style='color: #690027;' markdown=\"1\">\n",
    "    <h3>3.2 De data weergeven in puntenwolk</h3> \n",
    "</div>"
   ]
  },
  {
   "cell_type": "code",
   "execution_count": 5,
   "metadata": {},
   "outputs": [],
   "source": [
    "x1 = X[:, 0]                # kenmerk: x-coördinaat\n",
    "x2 = X[:, 1]                # kenmerk: y-coördinaat\n",
    "# print(type(x1))\n",
    "# print(x1.min(), x1.max())\n",
    "# print(x2.min(), x2.max())"
   ]
  },
  {
   "cell_type": "code",
   "execution_count": 6,
   "metadata": {},
   "outputs": [
    {
     "data": {
      "image/png": "[encoded data removed]",
      "text/plain": [
       "<matplotlib.figure.Figure at 0x1acdc5afac8>"
      ]
     },
     "metadata": {},
     "output_type": "display_data"
    }
   ],
   "source": [
    "plt.figure()     \n",
    "\n",
    "plt.scatter(x1[:6], x2[:6], color=\"blue\", marker=\"x\")    \n",
    "plt.scatter(x1[6:], x2[6:], color=\"green\", marker=\"<\") \n",
    "\n",
    "plt.show()"
   ]
  },
  {
   "cell_type": "markdown",
   "metadata": {},
   "source": [
    "Het is duidelijk dat deze punten **niet lineair scheidbaar** zijn. Het is onmogelijk één rechte te vinden, die de groene punten scheidt van de blauwe.<br>\n",
    "Met een kromme zou het wel gaan. "
   ]
  },
  {
   "cell_type": "markdown",
   "metadata": {},
   "source": [
    "<div style='color: #690027;' markdown=\"1\">\n",
    "    <h2>4. Classificatie</h2> \n",
    "</div>"
   ]
  },
  {
   "cell_type": "markdown",
   "metadata": {},
   "source": [
    "<div style='color: #690027;' markdown=\"1\">\n",
    "    <h3>4.1 Een scheiding</h3> \n",
    "</div>"
   ]
  },
  {
   "cell_type": "markdown",
   "metadata": {},
   "source": [
    "Zoals uit het volgende script blijkt, kunnen er wel twee rechten gevonden worden, die gebruikt kunnen worden om een scheiding te realiseren."
   ]
  },
  {
   "cell_type": "code",
   "execution_count": 7,
   "metadata": {},
   "outputs": [
    {
     "data": {
      "image/png": "[encoded data removed]",
      "text/plain": [
       "<matplotlib.figure.Figure at 0x1acdc6e4438>"
      ]
     },
     "metadata": {},
     "output_type": "display_data"
    }
   ],
   "source": [
    "# scheiding ('decision boundary')\n",
    "# scheidingslijnen worden bepaald door punten op betreffende rechten\n",
    "x_1 = np.linspace(-3, 1, 10)   # lijnstuk op domein [-3, 1]\n",
    "x_2 = np.linspace(1, 3, 10)    # lijnstuk op domein [1, 3]\n",
    "y_r_1 = 7 * x_2 - 6\n",
    "y_r_2 = -3 * x_1 + 4\n",
    "\n",
    "plt.figure()    \n",
    "\n",
    "# data\n",
    "plt.scatter(x1[:6], x2[:6], color=\"blue\", marker=\"x\")    \n",
    "plt.scatter(x1[6:], x2[6:], color=\"green\", marker=\"<\") \n",
    "# scheidingslijnen\n",
    "plt.plot(x_2, y_r_1, color=\"red\")\n",
    "plt.plot(x_1, y_r_2, color=\"red\")\n",
    "\n",
    "plt.show()"
   ]
  },
  {
   "cell_type": "markdown",
   "metadata": {},
   "source": [
    "<div style='color: #690027;' markdown=\"1\">\n",
    "    <h3>4.2 Twee gebieden</h3> \n",
    "</div>"
   ]
  },
  {
   "cell_type": "code",
   "execution_count": 8,
   "metadata": {},
   "outputs": [
    {
     "data": {
      "image/png": "[encoded data removed]",
      "text/plain": [
       "<matplotlib.figure.Figure at 0x1acdc6e4898>"
      ]
     },
     "metadata": {},
     "output_type": "display_data"
    }
   ],
   "source": [
    "x_1 = np.linspace(-3.5, 1, 10)\n",
    "x_2 = np.linspace(1, 3, 10)\n",
    "y_r_1 = 7 * x_2 - 6\n",
    "y_r_2 = -3 * x_1 + 4\n",
    "# gekleurde gebieden, resolution = 0.2\n",
    "xx1 = np.arange(x1.min()-1, x1.max()+1, 0.2)\n",
    "xx2 = np.arange(x2.min()-1, x2.max()+2, 0.2) \n",
    "\n",
    "plt.figure()  \n",
    "\n",
    "# data \n",
    "plt.scatter(x1[:6], x2[:6], color=\"blue\", marker=\"x\")    \n",
    "plt.scatter(x1[6:], x2[6:], color=\"green\", marker=\"<\") \n",
    "# scheidingslijnen\n",
    "plt.plot(x_2, y_r_1, color=\"red\")\n",
    "plt.plot(x_1, y_r_2, color=\"red\")\n",
    "# gekleurde gebieden, resolution = 0.2                  \n",
    "for a in xx1:\n",
    "    for b in xx2:\n",
    "        if (7 * a - b - 6 <= 0) and (-3 * a - b + 4 <= 0):\n",
    "            kleur = \"lightblue\"\n",
    "        else:\n",
    "            kleur = \"lightgreen\"\n",
    "        plt.plot(a, b, marker='.', color=kleur)\n",
    "        \n",
    "plt.show()"
   ]
  },
  {
   "cell_type": "markdown",
   "metadata": {},
   "source": [
    "<div style='color: #690027;' markdown=\"1\">\n",
    "    <h3>4.3 ReLU</h3> \n",
    "</div>"
   ]
  },
  {
   "cell_type": "markdown",
   "metadata": {},
   "source": [
    "Hieronder wordt de code aangepast, zodat gebruik wordt gemaakt van de ReLu-functie. Zo wordt het duidelijk dat met ReLu een gebied kan worden opgedeeld in verschillende gebieden.<br>\n",
    "\n",
    "De functie die bepaalt tot welke klasse een punt behoort, heet $\\phi$."
   ]
  },
  {
   "cell_type": "code",
   "execution_count": 9,
   "metadata": {},
   "outputs": [
    {
     "data": {
      "image/png": "[encoded data removed]",
      "text/plain": [
       "<matplotlib.figure.Figure at 0x1acdc95a128>"
      ]
     },
     "metadata": {},
     "output_type": "display_data"
    }
   ],
   "source": [
    "def relu(x):\n",
    "    \"\"\"ReLU(x) = max(x,0). \"\"\"\n",
    "    return np.maximum(x,0)\n",
    "\n",
    "def phi(x, y):\n",
    "    \"\"\"Activatiefunctie.\"\"\"\n",
    "    som = relu(7 * x - y - 6) + relu(-3 * x - y + 4)\n",
    "    return som\n",
    "\n",
    "\n",
    "x_1 = np.linspace(-3.5, 1, 10)\n",
    "x_2 = np.linspace(1, 3, 10)\n",
    "y_r_1 = 7 * x_2 - 6\n",
    "y_r_2 = -3 * x_1 + 4\n",
    "xx1 = np.arange(x1.min()-1, x1.max()+1, 0.1)\n",
    "xx2 = np.arange(x2.min()-1, x2.max()+2, 0.5) \n",
    "\n",
    "plt.figure()\n",
    "\n",
    "# data en scheidingslijnen\n",
    "plt.scatter(x1[:6], x2[:6], color=\"blue\", marker=\"x\")    \n",
    "plt.scatter(x1[6:], x2[6:], color=\"green\", marker=\"<\") \n",
    "plt.plot(x_2, y_r_1, color=\"red\")\n",
    "plt.plot(x_1, y_r_2, color=\"red\")\n",
    "# gekleurde gebieden\n",
    "for a in xx1:\n",
    "    for b in xx2:\n",
    "        if phi(a, b) == 0:\n",
    "            kleur = \"lightblue\"\n",
    "        else:\n",
    "            kleur = \"lightgreen\"\n",
    "        plt.plot(a, b, marker='.', color=kleur)\n",
    "        \n",
    "plt.show()"
   ]
  },
  {
   "cell_type": "markdown",
   "metadata": {},
   "source": [
    "<div style='color: #690027;' markdown=\"1\">\n",
    "    <h2>5. Classificatie met ML</h2> \n",
    "</div>"
   ]
  },
  {
   "cell_type": "markdown",
   "metadata": {},
   "source": [
    "<div style='color: #690027;' markdown=\"1\">\n",
    "    <h3>5.1 Geannoteerde data</h3> \n",
    "</div>"
   ]
  },
  {
   "cell_type": "markdown",
   "metadata": {},
   "source": [
    "Kan het AI-systeem een soortgelijke scheiding vinden? <br>\n",
    "Het AI-systeem zal machinaal leren uit de **gelabelde** punten.<br> \n",
    "Lees de labels in."
   ]
  },
  {
   "cell_type": "code",
   "execution_count": 10,
   "metadata": {},
   "outputs": [],
   "source": [
    "y = punten.iloc[:, 2].values         # labels: laatste kolom van de oorspronkelijke tabel\n",
    "y = np.where(y == \"blauw\", 1, 0)     # labels numeriek maken, blauw:1, groen:0"
   ]
  },
  {
   "cell_type": "markdown",
   "metadata": {},
   "source": [
    "<div style='color: #690027;' markdown=\"1\">\n",
    "    <h3>5.2 Met 2 layers</h3> \n",
    "</div>"
   ]
  },
  {
   "cell_type": "markdown",
   "metadata": {},
   "source": [
    "Als twee klassen lineair scheidbaar zijn, kan men een rechte vinden die beide klassen scheidt. Man kan de vergelijking van de scheidingslijn zodanig opschrijven (in de vorm ax+by+c=0) dat voor elk punt (x1, y1) in de ene klasse ax1+by1+c >= 0 en voor elk punt (x1, y1) in de andere klasse ax1 +by1=c < 0. <br> \n",
    "Zolang dit niet voldaan is, moeten de coëfficiënten worden aangepast.<br>\n",
    "De trainingset met bijhorende labels wordt enkele keren doorlopen. Voor elk punt worden de coëfficiënten aangepast indien nodig."
   ]
  },
  {
   "cell_type": "code",
   "execution_count": 13,
   "metadata": {},
   "outputs": [],
   "source": [
    "def grafiek(cte, coeff_x1, coeff_x2):\n",
    "        \"\"\"Plot scheidingsrechte ('decision boundary') en geeft vergelijking ervan.\"\"\"\n",
    "        \n",
    "def relu(tensor):\n",
    "    \"\"\"Relu(x) = max(0,x).\"\"\"\n",
    "    return np.maximum(0,tensor)\n",
    "\n",
    "class Neuraalnetwerk:\n",
    "    \"\"\"Neuraal netwerk met drie lagen, twee neuronen per laag.\"\"\" \n",
    "    \n",
    "    def __init__(self, learningrate, inputnodes, hiddennodes, outputnodes):\n",
    "        \"\"\"self heeft drie parameters: leersnelheid, aantal inputneuronen, aantal outputneuronen.\"\"\"\n",
    "        self.eta = learningrate\n",
    "        self.inodes = inputnodes\n",
    "        self.hnodes = hiddennodes\n",
    "        self.onodes = outputnodes\n",
    "        \n",
    "        self.wih = (np.random.rand(self.hnodes, self.inodes) - 0.5)\n",
    "        self.who = (np.random.rand(self.onodes, self.hnodes) - 0.5)\n",
    "        self.activation_function = relu\n",
    "        # self.activation_function = lambda x: scipy.special.expit(x)\n",
    "\n",
    "    def train(self, X, y):\n",
    "        \"\"\"Fit training data.\"\"\"\n",
    "        inputs = np.array(X, ndmin=2).T\n",
    "        targets = np.array(y).T\n",
    "        hidden_inputs = np.dot(self.wih, inputs)\n",
    "        hidden_outputs = self.activation_function(hidden_inputs)\n",
    "        final_inputs = np.dot(self.who, hidden_outputs)\n",
    "        final_outputs = self.activation_function(final_inputs)\n",
    "        output_errors = targets - final_outputs\n",
    "        hidden_errors = np.dot(self.who.T, output_errors)\n",
    "        self.who += self.eta *np.dot((output_errors * final_outputs * (1.0 - final_outputs)), np.transpose(hidden_outputs))\n",
    "        self.wih += self.eta *np.dot((hidden_errors * hidden_outputs * (1.0 - hidden_outputs)), np.transpose(inputs))\n",
    "        \n",
    "    def query(self, inputs_list):\n",
    "        \"\"\"converteert inputs tot 2D array, berekent signalen\"\"\"\n",
    "        inputs = np.array(inputs_list, ndim=2).T\n",
    "        hidden_inputs = np.dot(self.wih, inputs)\n",
    "        hidden_outputs = self.activation_function(hidden_inputs)\n",
    "        final_inputs = np.dot(self.who, hidden_outputs)\n",
    "        final_outputs = self.activation_function(final_inputs)  \n",
    "        return final_outputs"
   ]
  },
  {
   "cell_type": "markdown",
   "metadata": {},
   "source": [
    "Maak een object van de klasse `Neuraalnetwerk`."
   ]
  },
  {
   "cell_type": "code",
   "execution_count": 14,
   "metadata": {},
   "outputs": [],
   "source": [
    "# neuraal netwerk, leersnelheid = 0.3, telkens twee input-, output- en hidden neuronen\n",
    "nn = Neuraalnetwerk(0.3, 2, 2, 2)"
   ]
  },
  {
   "cell_type": "code",
   "execution_count": 15,
   "metadata": {},
   "outputs": [],
   "source": [
    "nn.train(X, y)"
   ]
  },
  {
   "cell_type": "markdown",
   "metadata": {},
   "source": [
    "Gelukt!"
   ]
  }
 ],
 "metadata": {
  "kernelspec": {
   "display_name": "Python 3",
   "language": "python",
   "name": "python3"
  },
  "language_info": {
   "codemirror_mode": {
    "name": "ipython",
    "version": 3
   },
   "file_extension": ".py",
   "mimetype": "text/x-python",
   "name": "python",
   "nbconvert_exporter": "python",
   "pygments_lexer": "ipython3",
   "version": "3.6.4"
  }
 },
 "nbformat": 4,
 "nbformat_minor": 2
}
