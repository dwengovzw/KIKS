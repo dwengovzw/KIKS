{
 "cells": [
  {
   "cell_type": "markdown",
   "metadata": {},
   "source": [
    "<img src=\"../.images/logosnb.png\" alt=\"Banner\" style=\"width:1100px;\"/>"
   ]
  },
  {
   "cell_type": "markdown",
   "metadata": {},
   "source": [
    "<div style='color: #690027;' markdown=\"1\">\n",
    "    <h1>RELU</h1> \n",
    "</div>"
   ]
  },
  {
   "cell_type": "markdown",
   "metadata": {},
   "source": [
    "<div class=\"alert alert-box alert-success\">\n",
    "Om een neuraal netwerk op te bouwen, heeft men een of meerdere <b>activatiefuncties</b> nodig. ReLU is een veelgebruikte activatiefunctie. Het is een niet-lineaire functie die het mogelijk maakt klassen die niet lineair scheidbaar zijn, toch te scheiden.\n",
    "</div>"
   ]
  },
  {
   "cell_type": "markdown",
   "metadata": {},
   "source": [
    "### De nodige modules importeren"
   ]
  },
  {
   "cell_type": "code",
   "execution_count": null,
   "metadata": {},
   "outputs": [],
   "source": [
    "import pandas as pd\n",
    "\n",
    "import matplotlib.pyplot as plt\n",
    "import numpy as np"
   ]
  },
  {
   "cell_type": "markdown",
   "metadata": {},
   "source": [
    "Je gaat aan de slag met 15 gegeven punten in het vlak. Sommige punten zijn blauw, andere zijn groen. Van elk punt is de coördinaat en de kleur gegeven.<br>\n",
    "De punten zijn vertegenwoordigers van twee klassen.<br>\n",
    "Het is de bedoeling dat de groene en blauwe punten van elkaar gescheiden worden. "
   ]
  },
  {
   "cell_type": "markdown",
   "metadata": {},
   "source": [
    "<div style='color: #690027;' markdown=\"1\">\n",
    "    <h2>1. Inlezen van de data</h2> \n",
    "</div>"
   ]
  },
  {
   "cell_type": "markdown",
   "metadata": {},
   "source": [
    "Lees met de module `pandas` de dataset in."
   ]
  },
  {
   "cell_type": "code",
   "execution_count": null,
   "metadata": {},
   "outputs": [],
   "source": [
    "punten = pd.read_csv(\"../.data/IntroductieDeepLearning/data.dat\", header=None)  # in te lezen tabel heeft geen hoofding"
   ]
  },
  {
   "cell_type": "markdown",
   "metadata": {},
   "source": [
    "<div style='color: #690027;' markdown=\"1\">\n",
    "    <h2>2. Tonen van de ingelezen data</h2> \n",
    "</div>"
   ]
  },
  {
   "cell_type": "markdown",
   "metadata": {},
   "source": [
    "Bekijk de data door de instructie `punten` uit te voeren. De dataset bestaat uit de x- en y-coördinaat van de punten en de kleur van elk punt. <br>\n",
    "De x- en y-coördinaat zijn kenmerken, de kleur is een label. <br> Omdat er twee soorten labels zijn, zegt men dat de punten verdeeld zijn over **twee klassen**."
   ]
  },
  {
   "cell_type": "code",
   "execution_count": null,
   "metadata": {},
   "outputs": [],
   "source": [
    "punten"
   ]
  },
  {
   "cell_type": "markdown",
   "metadata": {},
   "source": [
    "Deze tabel is een tabel met 15 rijen en 3 kolommen: er zijn immers 15 punten, 2 kenmerken en 1 label. <br><br>\n",
    "De kenmerken:\n",
    "- eerste kolom: x-coördinaat; \n",
    "- tweede kolom: y-coördinaat.\n",
    "\n",
    "Het label:\n",
    "- derde kolom: kleur."
   ]
  },
  {
   "cell_type": "markdown",
   "metadata": {},
   "source": [
    "<div class=\"alert alert-box alert-info\">\n",
    "In machinaal leren worden twee kenmerken weergegeven met x1 en x2 en het label met y.\n",
    "</div>"
   ]
  },
  {
   "cell_type": "markdown",
   "metadata": {},
   "source": [
    "<div style='color: #690027;' markdown=\"1\">\n",
    "    <h2>3. Onderzoeken of de punten van elkaar gescheiden kunnen worden</h2> \n",
    "</div>"
   ]
  },
  {
   "cell_type": "markdown",
   "metadata": {},
   "source": [
    "<div style='color: #690027;' markdown=\"1\">\n",
    "    <h3>3.1 Visualiseren van de data</h3> \n",
    "</div>"
   ]
  },
  {
   "cell_type": "markdown",
   "metadata": {},
   "source": [
    "Om de data te visualiseren, heb je de x- en y-coördinaat, dus de kenmerken x1 en x2, van de punten nodig."
   ]
  },
  {
   "cell_type": "code",
   "execution_count": null,
   "metadata": {
    "scrolled": false
   },
   "outputs": [],
   "source": [
    "x1 = punten[0]            # x-coördinaat staat in kolom met index 0\n",
    "x2 = punten[1]            # y-coördinaat staat in kolom met index 1\n",
    "x1 = np.array(x1)         # formaat aanpassen\n",
    "x2 = np.array(x2)\n",
    "X = np.stack((x1, x2), axis = 1)    # juiste formaat, axis=1 zet x1 en x2 als kolommen"
   ]
  },
  {
   "cell_type": "code",
   "execution_count": null,
   "metadata": {},
   "outputs": [],
   "source": [
    "# eens bekijken\n",
    "print(x1)\n",
    "print(x2)\n",
    "print(X)\n",
    "print(X.shape)"
   ]
  },
  {
   "cell_type": "markdown",
   "metadata": {},
   "source": [
    "<div style='color: #690027;' markdown=\"1\">\n",
    "    <h3>3.2 De data weergeven in puntenwolk</h3> \n",
    "</div>"
   ]
  },
  {
   "cell_type": "code",
   "execution_count": null,
   "metadata": {},
   "outputs": [],
   "source": [
    "plt.figure()     \n",
    "\n",
    "plt.scatter(x1[:6], x2[:6], color=\"blue\", marker=\"x\")    \n",
    "plt.scatter(x1[6:], x2[6:], color=\"green\", marker=\"<\") \n",
    "\n",
    "plt.show()"
   ]
  },
  {
   "cell_type": "markdown",
   "metadata": {},
   "source": [
    "Het is duidelijk dat deze punten **niet lineair scheidbaar** zijn: het is onmogelijk één rechte te vinden, die de groene punten scheidt van de blauwe.<br>\n",
    "Met twee halfrechten of één kromme gaat het wel. "
   ]
  },
  {
   "cell_type": "markdown",
   "metadata": {},
   "source": [
    "Je kan bv. twee halfrechten construeren die beide door $(1,1)$ gaan; de linkse halfrechte gaat door $(-2,10)$ en de rechtse door $(2,8)$. Deze rechten hebben respectievelijk als vergelijking $y=-3x+4$ en $y=7x-6$."
   ]
  },
  {
   "cell_type": "markdown",
   "metadata": {},
   "source": [
    "<div style='color: #690027;' markdown=\"1\">\n",
    "    <h2>4. Classificatie</h2> \n",
    "</div>"
   ]
  },
  {
   "cell_type": "markdown",
   "metadata": {},
   "source": [
    "<div style='color: #690027;' markdown=\"1\">\n",
    "    <h3>4.1 Decision boundary</h3> \n",
    "</div>"
   ]
  },
  {
   "cell_type": "markdown",
   "metadata": {},
   "source": [
    "Zoals uit het volgende script blijkt, kan men wel een scheiding realiseren met twee halfrechten."
   ]
  },
  {
   "cell_type": "markdown",
   "metadata": {},
   "source": [
    "Om te weten voor welke x-waarden we de scheidingsrechten het best laten tekenen, bekijken we het bereik op de x-as."
   ]
  },
  {
   "cell_type": "code",
   "execution_count": null,
   "metadata": {},
   "outputs": [],
   "source": [
    "# bereik x-as\n",
    "print(x1.min(), x1.max())"
   ]
  },
  {
   "cell_type": "code",
   "execution_count": null,
   "metadata": {},
   "outputs": [],
   "source": [
    "# scheiding ('decision boundary')\n",
    "# scheidingslijnen worden bepaald door punten op betreffende rechten\n",
    "x_1 = np.linspace(-3, 1, 10)   # lijnstuk op domein [-3, 1]\n",
    "x_2 = np.linspace(1, 3, 10)    # lijnstuk op domein [1, 3]\n",
    "y_r_1 = 7 * x_2 - 6            # vergelijking stijgende rechte\n",
    "y_r_2 = -3 * x_1 + 4           # vergelijking dalende rechte\n",
    "\n",
    "plt.figure()    \n",
    "\n",
    "# puntenwolk data \n",
    "plt.scatter(x1[:6], x2[:6], color=\"blue\", marker=\"x\")    \n",
    "plt.scatter(x1[6:], x2[6:], color=\"green\", marker=\"<\") \n",
    "# scheidingslijnen plotten\n",
    "plt.plot(x_2, y_r_1, color=\"black\")\n",
    "plt.plot(x_1, y_r_2, color=\"black\")\n",
    "\n",
    "plt.show()"
   ]
  },
  {
   "cell_type": "markdown",
   "metadata": {},
   "source": [
    "<div class=\"alert alert-box alert-info\">\n",
    "De zwarte grens noemt men de <em>decision boundary</em>.\n",
    "</div>"
   ]
  },
  {
   "cell_type": "markdown",
   "metadata": {},
   "source": [
    "<div style='color: #690027;' markdown=\"1\">\n",
    "    <h3>4.2 Visualiseren van de twee klassen</h3> \n",
    "</div>"
   ]
  },
  {
   "cell_type": "markdown",
   "metadata": {},
   "source": [
    "Door de *decision boundary* ontstaan twee gebieden. Die gebieden kunnen met twee verschillende kleuren gevisualiseerd worden."
   ]
  },
  {
   "cell_type": "code",
   "execution_count": null,
   "metadata": {},
   "outputs": [],
   "source": [
    "x_1 = np.linspace(-3.5, 1, 10)\n",
    "x_2 = np.linspace(1, 3.5, 10)\n",
    "y_r_1 = 7 * x_2 - 6\n",
    "y_r_2 = -3 * x_1 + 4\n",
    "# raster binnen het grafiekscherm met resolutie = 0.2\n",
    "xx1 = np.arange(x1.min()-1, x1.max()+1, 0.2)\n",
    "xx2 = np.arange(x2.min()-1, x2.max()+2, 0.2) \n",
    "\n",
    "plt.figure()  \n",
    "\n",
    "# puntenwolk data \n",
    "plt.scatter(x1[:6], x2[:6], color=\"blue\", marker=\"x\")    \n",
    "plt.scatter(x1[6:], x2[6:], color=\"green\", marker=\"<\") \n",
    "# scheidingslijnen plotten\n",
    "plt.plot(x_2, y_r_1, color=\"black\")\n",
    "plt.plot(x_1, y_r_2, color=\"black\")\n",
    "# gekleurde gebieden: elk punt (a,b) krijgt kleur toegewezen                 \n",
    "for a in xx1:\n",
    "    for b in xx2:\n",
    "        if (7 * a - b - 6 <= 0) and (-3 * a - b + 4 <= 0):\n",
    "            kleur = \"lightblue\"\n",
    "        else:\n",
    "            kleur = \"lightgreen\"\n",
    "        plt.plot(a, b, marker='.', color=kleur)\n",
    "        \n",
    "plt.show()"
   ]
  },
  {
   "cell_type": "markdown",
   "metadata": {},
   "source": [
    "De punten in het lichtblauwe gebied behoren tot de ene klasse en de punten in het lichtgroene gebied tot de andere klasse."
   ]
  },
  {
   "cell_type": "markdown",
   "metadata": {},
   "source": [
    "<div style='color: #690027;' markdown=\"1\">\n",
    "    <h2>5. Classificatie met ReLU</h2> \n",
    "</div>"
   ]
  },
  {
   "cell_type": "markdown",
   "metadata": {},
   "source": [
    "<div style='color: #690027;' markdown=\"1\">\n",
    "    <h3>5.1 ReLU</h3> \n",
    "</div>"
   ]
  },
  {
   "cell_type": "markdown",
   "metadata": {},
   "source": [
    "De ReLU-functie is een *niet-lineaire functie*. Deze functie heeft een *meervoudig voorschrift*.\n",
    "$$ReLU(x) = max(0,x)$$\n",
    "of dus\n",
    "$$ReLU: \\begin{cases} x \\longmapsto 0 \\;,  \\; x < 0 \\\\ \n",
    "        x \\longmapsto x \\;,  \\; x \\geq 0 \\end{cases}  $$    \n",
    "        \n",
    "ReLU staat voor *rectified linear unit*."
   ]
  },
  {
   "cell_type": "markdown",
   "metadata": {},
   "source": [
    "De grafiek van de ReLU-functie:"
   ]
  },
  {
   "cell_type": "markdown",
   "metadata": {},
   "source": [
    "<img src=\"../.images/IntroductieDeepLearning/relu.png\" alt=\"Banner\" style=\"width:300px;\"/>"
   ]
  },
  {
   "cell_type": "markdown",
   "metadata": {},
   "source": [
    "ReLU zet dus alle negatieve waarden op nul."
   ]
  },
  {
   "cell_type": "markdown",
   "metadata": {},
   "source": [
    "<div style='color: #690027;' markdown=\"1\">\n",
    "    <h3>5.2 Niet lineair scheidbare data scheiden met behulp van ReLU</h3> \n",
    "</div>"
   ]
  },
  {
   "cell_type": "markdown",
   "metadata": {},
   "source": [
    "Hieronder wordt de code aangepast naar code die gebruikmaakt van de ReLU-functie. Zo wordt het duidelijk dat met ReLU data die niet lineair scheidbaar zijn, toch kunnen worden opgedeeld in verschillende gebieden.<br> \n",
    "Het lichtblauwe gebied krijgt label '0' en het lichtgroene gebied krijgt label '1'.<br>\n",
    "De Heavisidefunctie wordt gebruikt om te bepalen tot welke klasse een punt behoort."
   ]
  },
  {
   "cell_type": "markdown",
   "metadata": {},
   "source": [
    "<img src=\"../.images/IntroductieDeepLearning/schemanb.png\" alt=\"Banner\" style=\"width:300px;\"/>"
   ]
  },
  {
   "cell_type": "markdown",
   "metadata": {},
   "source": [
    "Uitleg: <br>\n",
    "y = 7 x - 6 is de vergelijking van de stijgende rechte, m.a.w. 7 x - y - 6  = 0  en in het blauwe gebied is 7 x - y - 6 steeds <= 0;\n",
    "y = -3 x + 4  is de vergelijking van de dalende rechte, m.a.w. -3 x - y + 4 = 0  en in het blauwe gebied is  -3 x - y + 4 steeds <= 0\n",
    "\n",
    "Dit betekent voor de gegeven punten (invoer) als je die invult in deze vergelijkingen van de scheidingslijnen: <br>\n",
    "z1 = 7 x1 - x2 - 6    en in het blauwe gebied is dit steeds <= 0;<br>\n",
    "z2 = -3 x1 - x2 + 4   en in het blauwe gebied is dit steeds <= 0.<br>\n",
    "Dus in het blauwe gebied zijn z1 en z2 beide <= 0, in groene gebied niet.\n",
    "\n",
    "Laat dan de activatiefunctie ReLU inwerken:<br>\n",
    "h1 = relu(z1) en in het blauwe gebied is dit zeker 0; <br>\n",
    "h2 = relu(z2) en in het blauwe gebied is dit zeker 0. <br> \n",
    "h1 en h2 zijn de neuronen van de hidden layer.\n",
    "Dus in het blauwe gebied zijn h1 en h2 beide 0, maar in het groene gebied niet.\n",
    "\n",
    "Dat betekent dat als men die neuronen h1 en h2 optelt dat de som voor het blauwe gebied steeds 0 is en voor het groene gebied juist niet."
   ]
  },
  {
   "cell_type": "markdown",
   "metadata": {},
   "source": [
    "Het model heeft drie *lagen*: een invoer- en uitvoerlaag en één verborgen laag (*input layer, output layer, hidden layer*)."
   ]
  },
  {
   "cell_type": "code",
   "execution_count": null,
   "metadata": {},
   "outputs": [],
   "source": [
    "def relu(x):\n",
    "    \"\"\"ReLU(x) = max(x,0). \"\"\"\n",
    "    return np.maximum(x,0)\n",
    "\n",
    "def hidden(x, y):\n",
    "    \"\"\"Neuronen van hidden layer.\"\"\"\n",
    "    h1 = relu(7 * x - y - 6)\n",
    "    h2 = relu(-3 * x - y + 4)\n",
    "    return h1, h2\n",
    "\n",
    "def output(x, y):\n",
    "    \"\"\"Classificatie.\"\"\"\n",
    "    klasse = np.heaviside(sum(hidden(x, y)), 0)                    \n",
    "    return klasse\n",
    "\n",
    "# decision boundary\n",
    "x_1 = np.linspace(-3.5, 1, 10)\n",
    "x_2 = np.linspace(1, 3, 10)\n",
    "y_r_1 = 7 * x_2 - 6\n",
    "y_r_2 = -3 * x_1 + 4\n",
    "\n",
    "# raster met resolutie 0.2\n",
    "xx1 = np.arange(x1.min()-1, x1.max()+1, 0.2)\n",
    "xx2 = np.arange(x2.min()-1, x2.max()+4, 0.2) \n",
    "\n",
    "\n",
    "plt.figure()\n",
    "\n",
    "# puntenwolk data\n",
    "plt.scatter(x1[:6], x2[:6], color=\"blue\", marker=\"x\")    \n",
    "plt.scatter(x1[6:], x2[6:], color=\"green\", marker=\"<\") \n",
    "# scheidingslijnen\n",
    "plt.plot(x_2, y_r_1, color=\"black\")\n",
    "plt.plot(x_1, y_r_2, color=\"black\")\n",
    "# gebieden inkleuren\n",
    "for a in xx1:\n",
    "    for b in xx2:\n",
    "        if output(a, b) == 0:\n",
    "            kleur = \"lightblue\"\n",
    "        else:\n",
    "            kleur = \"lightgreen\"\n",
    "        plt.plot(a, b, marker='.', color=kleur)\n",
    "\n",
    "plt.show()"
   ]
  },
  {
   "cell_type": "markdown",
   "metadata": {},
   "source": [
    "<div style='color: #690027;' markdown=\"1\">\n",
    "    <h3>5.3 Werking ReLU: van niet lineair scheidbaar naar lineair scheidbaar</h3> \n",
    "</div>"
   ]
  },
  {
   "cell_type": "code",
   "execution_count": null,
   "metadata": {},
   "outputs": [],
   "source": [
    "plt.figure()\n",
    "   \n",
    "plt.scatter(x1[:6], x2[:6], color=\"blue\", marker=\"x\")    \n",
    "plt.scatter(x1[6:], x2[6:], color=\"green\", marker=\"<\") \n",
    "\n",
    "plt.show()"
   ]
  },
  {
   "cell_type": "markdown",
   "metadata": {},
   "source": [
    "De punten zijn **niet lineair scheidbaar**."
   ]
  },
  {
   "cell_type": "code",
   "execution_count": null,
   "metadata": {},
   "outputs": [],
   "source": [
    "def relu(tensor):\n",
    "    \"\"\"Relu(x) = max(0,x).\"\"\"\n",
    "    return np.maximum(0,tensor)\n",
    "\n",
    "# y = 7 * x - 6 vgl stijgende rechte   7 * x - y - 6  = 0    in blauwe gebied is dit steeds <= 0\n",
    "# y = -3 * x + 4  vgl dalende rechte   -3 * x - y + 4 = 0   in blauwe gebied is dit steeds <= 0\n",
    "\n",
    "# gegeven punten (invoer) invullen in vergelijkingen van scheidingslijnen \n",
    "z1 = 7* x1 - x2  - 6    # in blauwe gebied is dit steeds <= 0\n",
    "z2 = -3 *x1 - x2 + 4    # in blauwe gebied is dit steeds <= 0\n",
    "\n",
    "# activatiefunctie ReLU laten inwerken\n",
    "h1 = relu(z1)       # neuron hidden layer; in blauwe gebied is dit zeker 0 \n",
    "h2 = relu(z2)       # neuron hidden layer; in blauwe gebied is dit zeker 0 \n",
    "# in blauwe gebied zijn h1 en h2 beide 0 maar in het groene gebied niet\n",
    "\n",
    "print(h1)\n",
    "print(h2)"
   ]
  },
  {
   "cell_type": "code",
   "execution_count": null,
   "metadata": {},
   "outputs": [],
   "source": [
    "plt.figure(figsize=(16,5))\n",
    "\n",
    "plt.subplot(1,2,1)                                        # plot met meerdere afbeeldingen\n",
    "plt.scatter(x1[:6], h1[:6], color=\"blue\", marker=\"x\")    \n",
    "plt.scatter(x1[6:], h1[6:], color=\"green\", marker=\"<\") \n",
    "plt.title(\"Punten invoeren in vgl. stijgende rechte\\nen ReLU laten inwerken op resultaat\")\n",
    "plt.xlabel(\"x1\")\n",
    "plt.ylabel(\"h1\")\n",
    "\n",
    "plt.subplot(1,2,2)\n",
    "plt.scatter(x1[:6], h2[:6], color=\"blue\", marker=\"x\")    \n",
    "plt.scatter(x1[6:], h2[6:], color=\"green\", marker=\"<\") \n",
    "plt.title(\"Punten invoeren in vgl. dalende rechte\\nen ReLU laten inwerken op resultaat\")\n",
    "plt.xlabel(\"x1\")\n",
    "plt.ylabel(\"h2\")\n",
    "\n",
    "plt.show()"
   ]
  },
  {
   "cell_type": "code",
   "execution_count": null,
   "metadata": {},
   "outputs": [],
   "source": [
    "# naar uitvoerlaag; neuronen die als invoer binnenkomen in de uitvoerlaag, worden opgeteld\n",
    "# in het blauwe gebied is die som 0 en in het groene niet\n",
    "n_uitvoer = h1 + h2   # hierop heavisidefunctie (drempelwaarde 0) toepassen levert klassen 0 en 1, n_uitvoer = z'\n",
    "print(n_uitvoer)"
   ]
  },
  {
   "cell_type": "code",
   "execution_count": null,
   "metadata": {},
   "outputs": [],
   "source": [
    "plt.figure()\n",
    "\n",
    "plt.scatter(x1[:6], n_uitvoer[:6], color=\"blue\", marker=\"x\")    \n",
    "plt.scatter(x1[6:], n_uitvoer[6:], color=\"green\", marker=\"<\") \n",
    "\n",
    "plt.show()"
   ]
  },
  {
   "cell_type": "markdown",
   "metadata": {},
   "source": [
    "Deze punten zijn wel lineair scheidbaar en kunnen dus toegekend worden aan een klasse."
   ]
  },
  {
   "cell_type": "code",
   "execution_count": null,
   "metadata": {},
   "outputs": [],
   "source": [
    "# hierop activatiefunctie laten inwerken: heavisidefunctie (drempelwaarde 0) toepassen levert klassen 0 en 1\n",
    "klasse = np.heaviside(n_uitvoer,0)\n",
    "print(klasse)"
   ]
  },
  {
   "cell_type": "markdown",
   "metadata": {},
   "source": [
    "De eerste 6 punten zijn de blauwe punten; ze worden dus inderdaad ingedeeld bij klasse 0. De andere punten zijn de groene punten en ze worden ingedeeld bij klasse 1."
   ]
  },
  {
   "cell_type": "markdown",
   "metadata": {},
   "source": [
    "<div style='color: #690027;' markdown=\"1\">\n",
    "    <h3>5.4 Gelaagd model</h3> \n",
    "</div>"
   ]
  },
  {
   "cell_type": "markdown",
   "metadata": {},
   "source": [
    "Dit is de opbouw van een neuraal netwerk met een gelaagd model. Het model heeft drie *lagen*: een invoer- en uitvoerlaag en één verborgen laag (*input layer, output layer, hidden layer*). \n",
    "\n",
    "Het model wordt bepaald door het aantal neuronen, de gewichten (*weights*), de biassen (de extra toegevoegde gewichten) en de activatiefuncties.  \n",
    "\n",
    "In het model zijn er verbindingen tussen de twee neuronen van de invoerlaag en de twee neuronen van de verborgen laag. Deze verbindingen hebben een gewicht bepaald door de coëfficiënten van de vergelijkingen van de scheidingslijnen. Er is daar ook een *bias* bepaald door de constante termen in deze vergelijkingen. De activatiefunctie daar is ReLU.<br>\n",
    "Er zijn ook verbindingen tussen de twee neuronen van de verborgen laag en het neuron van de uitvoerlaag. De gewichten van deze verbindingen zijn 1. De neuronen die ingevoerd worden in de uitvoerlaag, worden immers opgeteld. Tot slot kent het model een klasse toe aan de data met behulp van de Heavisidefunctie.<br>\n",
    "\n",
    "Om de code die volgt te begrijpen, zet men de stap naar een matrixnotatie."
   ]
  },
  {
   "cell_type": "markdown",
   "metadata": {},
   "source": [
    "$ W = \\begin{bmatrix} -6 & 4 \\\\ 7 & -3 \\\\ -1 & -1 \\end{bmatrix}$; -6 en 4 zijn de biassen.<br>\n",
    "$ W' = \\begin{bmatrix} 0 \\\\ 1  \\\\  1 \\end{bmatrix} $; 0 is de bias. <br>\n",
    "$ X = \\begin{bmatrix} 1 \\\\ x1  \\\\  x2 \\end{bmatrix} $\n",
    "\n",
    "Van invoerlaag naar verborgen laag: $ W^{T} \\cdot X_{i} $. Het resultaat is een matrix Z.<br>\n",
    "Op de matrix Z wordt de activatiefunctie ReLU toegepast en aan het resultaat wordt een extra rij toegevoegd, men bekomt zo de matrix H van de verborgen laag.<br>\n",
    "Van verborgen laag naar uitvoerlaag: $ W'^{T} \\cdot H $ gevolgd door de Heavisidefunctie. \n",
    "\n",
    "Dit kan ook als volgt genoteerd worden:\n",
    "\n",
    "$ W_{ih} = \\begin{bmatrix} 7 & -3 \\\\ -1 & -1 \\end{bmatrix}$ en\n",
    "$ B_{ih}  = \\begin{bmatrix} -6 & 4 \\end{bmatrix} $ <br>\n",
    "$ W_{ho} = \\begin{bmatrix} 1  \\\\  1 \\end{bmatrix} $ <br>\n",
    "$ X_{i} = \\begin{bmatrix} x1  \\\\  x2 \\end{bmatrix} $\n",
    "\n",
    "Van invoerlaag naar verborgen laag: $ W_{ih}^{T}.\\cdot X_{i} + B_{ih}^{T} $ gevolgd door ReLU. Het resultaat is een matrix X_{h}.<br>\n",
    "Van verborgen laag naar uitvoerlaag: $ W_{ho}^{T}.\\cdot X_{h} $ gevolgd door de Heavisidefunctie. "
   ]
  },
  {
   "cell_type": "markdown",
   "metadata": {},
   "source": [
    "Het model is een *feed forward* model en is *fully connected*."
   ]
  },
  {
   "cell_type": "code",
   "execution_count": null,
   "metadata": {},
   "outputs": [],
   "source": [
    "def relu(tensor):\n",
    "    \"\"\"Relu(x) = max(0,x).\"\"\"\n",
    "    return np.maximum(0,tensor)\n",
    "\n",
    "def output(x):\n",
    "    \"\"\"Classificatie.\"\"\"\n",
    "    klasse = np.heaviside(x,0)\n",
    "    return klasse\n",
    "\n",
    "class Model:\n",
    "    \"\"\"Model met drie lagen, twee neuronen per laag.\"\"\" \n",
    "    \n",
    "    def __init__(self):\n",
    "        \"\"\"self heeft twee parameters: aantal inputneuronen, aantal outputneuronen.\"\"\"\n",
    "        \n",
    "        self.wih = np.array([[7, -3], [-3,-1]])    # weights tussen input layer en hidden layer\n",
    "        self.biasih = np.array([[-6, 4]])          # bias tussen input layer en hidden layer\n",
    "        self.who = np.array([[1], [1]])            # weights tussen hidden layer en output layer\n",
    "        self.activation_functionh = relu   \n",
    "        self.activation_functiono = output\n",
    "       \n",
    "    def predict(self, kenmerken):\n",
    "        \"\"\"Fit data.\"\"\"\n",
    "        inputs = kenmerken.T                   # kenmerken is matrix met x1 en x2 onder elkaar\n",
    "        hidden_inputs = np.dot(self.wih.T, inputs) + self.biasih.T    # lineaire combinatie inputs met betreffende weights\n",
    "        hidden_outputs = self.activation_functionh(hidden_inputs) # relu is activatiefunctie in hidden layer\n",
    "        final_inputs = np.dot(self.who.T, hidden_outputs)           # lineaire combinatie output hidden layer met betreffende weights\n",
    "        final_outputs = self.activation_functiono(final_inputs)   # classificatie met output\n",
    "        return final_outputs"
   ]
  },
  {
   "cell_type": "markdown",
   "metadata": {},
   "source": [
    "Een model van de klasse `Model` aanmaken."
   ]
  },
  {
   "cell_type": "code",
   "execution_count": null,
   "metadata": {},
   "outputs": [],
   "source": [
    "model = Model()      # model construeren via constructor"
   ]
  },
  {
   "cell_type": "code",
   "execution_count": null,
   "metadata": {},
   "outputs": [],
   "source": [
    "# uittesten van het model\n",
    "print(\"Geef coördinaat van een punt.\")\n",
    "co_x = float(input(\"x-coördinaat is: \"))\n",
    "co_y = float(input(\"y-coördinaat is: \"))\n",
    "X = np.array([[co_x, co_y]])\n",
    "print(X)\n",
    "model.predict(X)"
   ]
  },
  {
   "cell_type": "markdown",
   "metadata": {},
   "source": [
    "<div style='color: #690027;' markdown=\"1\">\n",
    "    <h3>5.5 Klassen visualiseren</h3> \n",
    "</div>"
   ]
  },
  {
   "cell_type": "code",
   "execution_count": null,
   "metadata": {},
   "outputs": [],
   "source": [
    "# raster maken met resolutie 0.2\n",
    "x_1 = np.linspace(-3.5, 1, 10)\n",
    "x_2 = np.linspace(1, 3, 10)\n",
    "xx1 = np.arange(x1.min()-1, x1.max()+1, 0.2)\n",
    "xx2 = np.arange(x2.min()-1, x2.max()+4, 0.2)  \n",
    "\n",
    "\n",
    "plt.figure()\n",
    "\n",
    "# datapunten\n",
    "plt.scatter(x1[:6], x2[:6], color=\"blue\", marker=\"x\")    \n",
    "plt.scatter(x1[6:], x2[6:], color=\"green\", marker=\"<\") \n",
    "\n",
    "# aan elk punt in raster juiste kleur toekennen\n",
    "for a in xx1:\n",
    "    for b in xx2:\n",
    "        X = np.array([[a, b]])          # matrix met 1 rij\n",
    "        if model.predict(X) == 0:\n",
    "            kleur = \"lightblue\"\n",
    "        else:\n",
    "            kleur = \"lightgreen\"\n",
    "        plt.plot(a, b, marker='.', color=kleur)\n",
    "\n",
    "plt.show()"
   ]
  },
  {
   "cell_type": "markdown",
   "metadata": {},
   "source": [
    "<div class=\"alert alert-box alert-info\">\n",
    "De data bestaan uit punten met twee <b>kenmerken</b> en een overeenkomstig <b>label</b>. Het label kan twee waarden aannemen; er zijn twee <b>klassen</b>. Een grens tussen de klassen is een <b>decision boundary</b>. <br>\n",
    "Het model is een neuraal netwerk met een <b>invoerlaag</b>, een <b>verborgen laag</b> met activatiefunctie ReLU en een <b>uitvoerlaag</b> met activatiefunctie Heaviside. <br>\n",
    "    \n",
    "De klassen zijn niet lineair scheidbaar, maar kunnen toch van elkaar gescheiden worden m.b.v. de <b>niet-lineaire functie ReLU</b>.  \n",
    "</div>"
   ]
  },
  {
   "cell_type": "markdown",
   "metadata": {},
   "source": [
    "<img src=\"../.images/cclic.png\" alt=\"Banner\" align=\"left\" style=\"width:80px;\"/><br><br>\n",
    "Notebook KIKS, zie <a href=\"http://www.aiopschool.be\">AI Op school</a>, van F. wyffels & N. Gesquière is in licentie gegeven volgens een <a href=\"http://creativecommons.org/licenses/by-nc-sa/4.0/\">Creative Commons Naamsvermelding-NietCommercieel-GelijkDelen 4.0 Internationaal-licentie</a>."
   ]
  }
 ],
 "metadata": {
  "kernelspec": {
   "display_name": "Python 3",
   "language": "python",
   "name": "python3"
  },
  "language_info": {
   "codemirror_mode": {
    "name": "ipython",
    "version": 3
   },
   "file_extension": ".py",
   "mimetype": "text/x-python",
   "name": "python",
   "nbconvert_exporter": "python",
   "pygments_lexer": "ipython3",
   "version": "3.8.3"
  }
 },
 "nbformat": 4,
 "nbformat_minor": 2
}
