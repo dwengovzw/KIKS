{
 "cells": [
  {
   "cell_type": "markdown",
   "metadata": {},
   "source": [
    "# KIKS\n",
    "Sint-Bavohumaniora, KA Etterbeek, UGent, Plantentuin Meise, Accenture"
   ]
  },
  {
   "cell_type": "markdown",
   "metadata": {},
   "source": [
    "# ReLU"
   ]
  },
  {
   "cell_type": "markdown",
   "metadata": {},
   "source": [
    "Om een neuraal netwerk op te bouwen, heeft men een **activatiefunctie** nodig. ReLu is een veelgebruikte activiatiefunctie. "
   ]
  },
  {
   "cell_type": "markdown",
   "metadata": {},
   "source": [
    "In het volgende voorbeeld beschouwt men blauwe en groene punten in het vlak. Van elk punt is de coördinaat en de kleur gegeven."
   ]
  },
  {
   "cell_type": "markdown",
   "metadata": {},
   "source": [
    "## De nodige modules importeren"
   ]
  },
  {
   "cell_type": "code",
   "execution_count": 1,
   "metadata": {},
   "outputs": [],
   "source": [
    "import pandas as pd\n",
    "\n",
    "import matplotlib.pyplot as plt\n",
    "import numpy as np"
   ]
  },
  {
   "cell_type": "markdown",
   "metadata": {},
   "source": [
    "## 1. Inlezen van de data"
   ]
  },
  {
   "cell_type": "markdown",
   "metadata": {},
   "source": [
    "Lees met de module `pandas` de dataset in."
   ]
  },
  {
   "cell_type": "code",
   "execution_count": 2,
   "metadata": {},
   "outputs": [],
   "source": [
    "punten = pd.read_csv(\"data.dat\", header=None)  # in te lezen tabel heeft een hoofding"
   ]
  },
  {
   "cell_type": "markdown",
   "metadata": {},
   "source": [
    "## 2. Tonen van de ingelezen data"
   ]
  },
  {
   "cell_type": "markdown",
   "metadata": {},
   "source": [
    "Bekijk de data. De dataset bestaat uit de x- en y-coördinaat van de punten - deze coördinaten worden beschouwd als kenmerken - en de kleur van elk punt, een label. <br> Omdat er twee soorten labels zijn, zegt men dat de punten verdeeld zijn over twee klassen."
   ]
  },
  {
   "cell_type": "code",
   "execution_count": 19,
   "metadata": {},
   "outputs": [
    {
     "data": {
      "text/html": [
       "<div>\n",
       "<style scoped>\n",
       "    .dataframe tbody tr th:only-of-type {\n",
       "        vertical-align: middle;\n",
       "    }\n",
       "\n",
       "    .dataframe tbody tr th {\n",
       "        vertical-align: top;\n",
       "    }\n",
       "\n",
       "    .dataframe thead th {\n",
       "        text-align: right;\n",
       "    }\n",
       "</style>\n",
       "<table border=\"1\" class=\"dataframe\">\n",
       "  <thead>\n",
       "    <tr style=\"text-align: right;\">\n",
       "      <th></th>\n",
       "      <th>0</th>\n",
       "      <th>1</th>\n",
       "      <th>2</th>\n",
       "    </tr>\n",
       "  </thead>\n",
       "  <tbody>\n",
       "    <tr>\n",
       "      <th>0</th>\n",
       "      <td>0.74</td>\n",
       "      <td>8.55</td>\n",
       "      <td>blauw</td>\n",
       "    </tr>\n",
       "    <tr>\n",
       "      <th>1</th>\n",
       "      <td>-0.61</td>\n",
       "      <td>8.37</td>\n",
       "      <td>blauw</td>\n",
       "    </tr>\n",
       "    <tr>\n",
       "      <th>2</th>\n",
       "      <td>-1.82</td>\n",
       "      <td>11.30</td>\n",
       "      <td>blauw</td>\n",
       "    </tr>\n",
       "    <tr>\n",
       "      <th>3</th>\n",
       "      <td>-1.48</td>\n",
       "      <td>10.20</td>\n",
       "      <td>blauw</td>\n",
       "    </tr>\n",
       "    <tr>\n",
       "      <th>4</th>\n",
       "      <td>2.00</td>\n",
       "      <td>12.00</td>\n",
       "      <td>blauw</td>\n",
       "    </tr>\n",
       "    <tr>\n",
       "      <th>5</th>\n",
       "      <td>1.35</td>\n",
       "      <td>9.83</td>\n",
       "      <td>blauw</td>\n",
       "    </tr>\n",
       "    <tr>\n",
       "      <th>6</th>\n",
       "      <td>-3.48</td>\n",
       "      <td>11.09</td>\n",
       "      <td>groen</td>\n",
       "    </tr>\n",
       "    <tr>\n",
       "      <th>7</th>\n",
       "      <td>-3.21</td>\n",
       "      <td>9.29</td>\n",
       "      <td>groen</td>\n",
       "    </tr>\n",
       "    <tr>\n",
       "      <th>8</th>\n",
       "      <td>-2.90</td>\n",
       "      <td>7.41</td>\n",
       "      <td>groen</td>\n",
       "    </tr>\n",
       "    <tr>\n",
       "      <th>9</th>\n",
       "      <td>-2.29</td>\n",
       "      <td>4.23</td>\n",
       "      <td>groen</td>\n",
       "    </tr>\n",
       "    <tr>\n",
       "      <th>10</th>\n",
       "      <td>-1.35</td>\n",
       "      <td>0.81</td>\n",
       "      <td>groen</td>\n",
       "    </tr>\n",
       "    <tr>\n",
       "      <th>11</th>\n",
       "      <td>0.22</td>\n",
       "      <td>-0.95</td>\n",
       "      <td>groen</td>\n",
       "    </tr>\n",
       "    <tr>\n",
       "      <th>12</th>\n",
       "      <td>2.10</td>\n",
       "      <td>3.43</td>\n",
       "      <td>groen</td>\n",
       "    </tr>\n",
       "    <tr>\n",
       "      <th>13</th>\n",
       "      <td>2.39</td>\n",
       "      <td>4.69</td>\n",
       "      <td>groen</td>\n",
       "    </tr>\n",
       "    <tr>\n",
       "      <th>14</th>\n",
       "      <td>3.39</td>\n",
       "      <td>10.50</td>\n",
       "      <td>groen</td>\n",
       "    </tr>\n",
       "  </tbody>\n",
       "</table>\n",
       "</div>"
      ],
      "text/plain": [
       "       0      1       2\n",
       "0   0.74   8.55  blauw \n",
       "1  -0.61   8.37  blauw \n",
       "2  -1.82  11.30  blauw \n",
       "3  -1.48  10.20  blauw \n",
       "4   2.00  12.00  blauw \n",
       "5   1.35   9.83  blauw \n",
       "6  -3.48  11.09   groen\n",
       "7  -3.21   9.29   groen\n",
       "8  -2.90   7.41   groen\n",
       "9  -2.29   4.23   groen\n",
       "10 -1.35   0.81   groen\n",
       "11  0.22  -0.95   groen\n",
       "12  2.10   3.43   groen\n",
       "13  2.39   4.69   groen\n",
       "14  3.39  10.50   groen"
      ]
     },
     "execution_count": 19,
     "metadata": {},
     "output_type": "execute_result"
    }
   ],
   "source": [
    "punten[:]"
   ]
  },
  {
   "cell_type": "markdown",
   "metadata": {},
   "source": [
    "Deze tabel komt overeen met een matrix met 15 rijen en 3 kolommen: <br>\n",
    "15 punten, 2 kenmerken (x1, x2) en 1 label (y) <br><br>\n",
    "De kenmerken:<br>\n",
    "- eerste kolom: x-coördinaat \n",
    "- tweede kolom: y-coördinaat<br><br>\n",
    "\n",
    "Het label:<br>\n",
    "- derde kolom: kleur"
   ]
  },
  {
   "cell_type": "markdown",
   "metadata": {},
   "source": [
    "## 3. Onderzoek of de punten van elkaar kunnen gescheiden worden"
   ]
  },
  {
   "cell_type": "markdown",
   "metadata": {},
   "source": [
    "## 3.1 Visualiseren van de data: coördinaten nodig"
   ]
  },
  {
   "cell_type": "code",
   "execution_count": 4,
   "metadata": {},
   "outputs": [
    {
     "data": {
      "text/plain": [
       "(15, 2)"
      ]
     },
     "execution_count": 4,
     "metadata": {},
     "output_type": "execute_result"
    }
   ],
   "source": [
    "# coördinaten van de punten\n",
    "X = punten.iloc[:, [0, 1]].values  \n",
    "X.shape        "
   ]
  },
  {
   "cell_type": "code",
   "execution_count": 5,
   "metadata": {},
   "outputs": [
    {
     "name": "stdout",
     "output_type": "stream",
     "text": [
      "[ 0.74 -0.61 -1.82 -1.48  2.    1.35 -3.48 -3.21 -2.9  -2.29 -1.35  0.22\n",
      "  2.1   2.39  3.39]\n",
      "[ 8.55  8.37 11.3  10.2  12.    9.83 11.09  9.29  7.41  4.23  0.81 -0.95\n",
      "  3.43  4.69 10.5 ]\n"
     ]
    }
   ],
   "source": [
    "print(X[:, 0])    # eerste kolom van X: x-coördinaat\n",
    "print(X[:, 1])    # tweede kolom van X: y-coördinaat"
   ]
  },
  {
   "cell_type": "markdown",
   "metadata": {},
   "source": [
    "## 3.2 De data weergeven in puntenwolk"
   ]
  },
  {
   "cell_type": "code",
   "execution_count": 6,
   "metadata": {},
   "outputs": [
    {
     "name": "stdout",
     "output_type": "stream",
     "text": [
      "-3.48 3.39\n",
      "-0.95 12.0\n"
     ]
    }
   ],
   "source": [
    "x1 = X[:, 0]  # kenmerk: x-coördinaat\n",
    "x2 = X[:, 1]  # kenmerk: y-coördinaat\n",
    "print(x1.min(), x1.max())\n",
    "print(x2.min(), x2.max())"
   ]
  },
  {
   "cell_type": "code",
   "execution_count": 7,
   "metadata": {},
   "outputs": [
    {
     "data": {
      "image/png": "[encoded data removed]",
      "text/plain": [
       "<matplotlib.figure.Figure at 0x22bbeb52518>"
      ]
     },
     "metadata": {},
     "output_type": "display_data"
    }
   ],
   "source": [
    "plt.scatter(x1[:6], x2[:6], color=\"blue\", marker=\"x\")    \n",
    "plt.scatter(x1[6:], x2[6:], color=\"green\", marker=\"<\") \n",
    "\n",
    "plt.show()"
   ]
  },
  {
   "cell_type": "markdown",
   "metadata": {},
   "source": [
    "Het is duidelijk dat deze punten **niet lineair scheidbaar** zijn. Het is onmogelijk één rechte te vinden, die de groene punten afscheidt van de blauwe."
   ]
  },
  {
   "cell_type": "markdown",
   "metadata": {},
   "source": [
    "Met een kromme zou het wel gaan. "
   ]
  },
  {
   "cell_type": "markdown",
   "metadata": {},
   "source": [
    "## 4. Classificatie"
   ]
  },
  {
   "cell_type": "markdown",
   "metadata": {},
   "source": [
    "## 4.1 Een scheiding"
   ]
  },
  {
   "cell_type": "markdown",
   "metadata": {},
   "source": [
    "Zoals uit het volgende script blijkt, kunnen er wel twee rechten gevonden worden die gebruikt kunnen worden om een scheiding te realiseren."
   ]
  },
  {
   "cell_type": "code",
   "execution_count": 15,
   "metadata": {},
   "outputs": [
    {
     "data": {
      "image/png": "[encoded data removed]",
      "text/plain": [
       "<matplotlib.figure.Figure at 0x22bc8ffc7b8>"
      ]
     },
     "metadata": {},
     "output_type": "display_data"
    }
   ],
   "source": [
    "# scheiding ('decision boundary')\n",
    "plt.scatter(x1[:6], x2[:6], color=\"blue\", marker=\"x\")    \n",
    "plt.scatter(x1[6:], x2[6:], color=\"green\", marker=\"<\") \n",
    "\n",
    "x_1 = np.linspace(-3, 1, 10)\n",
    "x_2 = np.linspace(1, 3, 10)\n",
    "y_r_1 = 7 * x_2 - 6\n",
    "y_r_2 = -3 * x_1 + 4\n",
    "plt.plot(x_2, y_r_1, color=\"red\")\n",
    "plt.plot(x_1, y_r_2, color=\"red\")\n",
    "\n",
    "plt.show()"
   ]
  },
  {
   "cell_type": "markdown",
   "metadata": {},
   "source": [
    "## 4.2 Twee gebieden"
   ]
  },
  {
   "cell_type": "code",
   "execution_count": 36,
   "metadata": {},
   "outputs": [
    {
     "data": {
      "image/png": "[encoded data removed]",
      "text/plain": [
       "<matplotlib.figure.Figure at 0x22bd6c416a0>"
      ]
     },
     "metadata": {},
     "output_type": "display_data"
    }
   ],
   "source": [
    "plt.scatter(x1[:6], x2[:6], color=\"blue\", marker=\"x\")    \n",
    "plt.scatter(x1[6:], x2[6:], color=\"green\", marker=\"<\") \n",
    "\n",
    "x_1 = np.linspace(-3.5, 1, 10)\n",
    "x_2 = np.linspace(1, 3, 10)\n",
    "y_r_1 = 7 * x_2 - 6\n",
    "y_r_2 = -3 * x_1 + 4\n",
    "plt.plot(x_2, y_r_1, color=\"red\")\n",
    "plt.plot(x_1, y_r_2, color=\"red\")\n",
    "\n",
    "\n",
    "# resolution = 0.2\n",
    "xx1 = np.arange(x1.min()-1, x1.max()+1, 0.1)\n",
    "xx2 = np.arange(x2.min()-1, x2.max()+2, 0.5)                     \n",
    "\n",
    "for a in xx1:\n",
    "    for b in xx2:\n",
    "        if (7 * a - b - 6 <= 0) and (-3 * a - b + 4 <= 0):\n",
    "            kleur = \"lightblue\"\n",
    "        else:\n",
    "            kleur = \"lightgreen\"\n",
    "        plt.plot(a, b, marker='.', color=kleur)"
   ]
  },
  {
   "cell_type": "markdown",
   "metadata": {},
   "source": [
    "## 4.3 ReLU"
   ]
  },
  {
   "cell_type": "code",
   "execution_count": 35,
   "metadata": {},
   "outputs": [
    {
     "data": {
      "image/png": "[encoded data removed]",
      "text/plain": [
       "<matplotlib.figure.Figure at 0x22bd295e080>"
      ]
     },
     "metadata": {},
     "output_type": "display_data"
    }
   ],
   "source": [
    "def ReLU(x):\n",
    "    \"\"\"ReLU(x) = max(x,0). \"\"\"\n",
    "    ReLU = 0\n",
    "    if x > 0:\n",
    "        ReLU = x\n",
    "    return ReLU\n",
    "\n",
    "def fi(x, y):\n",
    "    som = ReLU(7 * x - y - 6) + ReLU(-3 * x - y + 4)\n",
    "    return som\n",
    "\n",
    "\n",
    "plt.scatter(x1[:6], x2[:6], color=\"blue\", marker=\"x\")    \n",
    "plt.scatter(x1[6:], x2[6:], color=\"green\", marker=\"<\") \n",
    "\n",
    "x_1 = np.linspace(-3.5, 1, 10)\n",
    "x_2 = np.linspace(1, 3, 10)\n",
    "y_r_1 = 7 * x_2 - 6\n",
    "y_r_2 = -3 * x_1 + 4\n",
    "plt.plot(x_2, y_r_1, color=\"red\")\n",
    "plt.plot(x_1, y_r_2, color=\"red\")\n",
    "\n",
    "\n",
    "# resolution = 0.2\n",
    "xx1 = np.arange(x1.min()-1, x1.max()+1, 0.1)\n",
    "xx2 = np.arange(x2.min()-1, x2.max()+2, 0.5)                     \n",
    "\n",
    "for a in xx1:\n",
    "    for b in xx2:\n",
    "        if fi(a, b) == 0:\n",
    "            kleur = \"lightblue\"\n",
    "        else:\n",
    "            kleur = \"lightgreen\"\n",
    "        plt.plot(a, b, marker='.', color=kleur)"
   ]
  },
  {
   "cell_type": "markdown",
   "metadata": {},
   "source": [
    "# 5. Classificatie met ML"
   ]
  },
  {
   "cell_type": "markdown",
   "metadata": {},
   "source": [
    "## 5.1 Geannoteerde data"
   ]
  },
  {
   "cell_type": "markdown",
   "metadata": {},
   "source": [
    "Kan het AI-systeem een soortgelijke scheiding vinden? <br>\n",
    "Het AI-systeem zal machinaal leren uit de **gelabelde** punten.<br> \n",
    "Lees de labels in."
   ]
  },
  {
   "cell_type": "code",
   "execution_count": 37,
   "metadata": {},
   "outputs": [],
   "source": [
    "y = punten.iloc[:, 2].values         # labels: laatste kolom van de oorspronkelijke tabel\n",
    "y = np.where(y == \"blauw\", 1, 0)     # labels numeriek maken, blauw:1, groen:0"
   ]
  },
  {
   "cell_type": "markdown",
   "metadata": {},
   "source": [
    "## 5.2 Met 2 layers"
   ]
  },
  {
   "cell_type": "markdown",
   "metadata": {},
   "source": [
    "Als twee klassen lineair scheidbaar zijn, kan men een rechte vinden die beide klassen scheidt. Man kan de vergelijking van de scheidingslijn zodanig opschrijven (in de vorm ax+by+c=0) dat voor elk punt (x1, y1) in de ene klasse ax1+by1+c >= 0 en voor elk punt (x1, y1) in de andere klasse ax1 +by1=c < 0. <br> \n",
    "Zolang dit niet voldaan is, moeten de coëfficiënten worden aangepast.<br>\n",
    "De trainingset met bijhorende labels wordt enkele keren doorlopen. Voor elk punt worden de coëfficiënten aangepast indien nodig."
   ]
  },
  {
   "cell_type": "code",
   "execution_count": 48,
   "metadata": {},
   "outputs": [],
   "source": [
    "def grafiek(cte, coeff_x1, coeff_x2):\n",
    "        \"\"\"Plot scheidingsrechte ('decision boundary') en geeft vergelijking ervan.\"\"\"\n",
    "        \n",
    "def ReLU(x):\n",
    "    \"\"\"ReLU(x) = max(x,0). \"\"\"\n",
    "    b = np.empty()\n",
    "    for a in x:    \n",
    "        ReLU = 0\n",
    "        if a > 0:\n",
    "            ReLU = a\n",
    "        b.append(RelU)    \n",
    "    return b\n",
    "\n",
    "class Neuraalnetwerk:\n",
    "    \"\"\"Neuraal netwerk met drie lagen, twee neuronen per laag.\"\"\" \n",
    "    \n",
    "    def __init__(self, learningrate, inputnodes, hiddennodes, outputnodes):\n",
    "        \"\"\"self heeft drie parameters: leersnelheid, aantal inputneuronen, aantal outputneuronen.\"\"\"\n",
    "        self.eta = learningrate\n",
    "        self.inodes = inputnodes\n",
    "        self.hnodes = hiddennodes\n",
    "        self.onodes = outputnodes\n",
    "        \n",
    "        self.wih = (np.random.rand(self.hnodes, self.inodes) - 0.5)\n",
    "        self.who = (np.random.rand(self.onodes, self.hnodes) - 0.5)\n",
    "        self.activation_function = ReLU\n",
    "        # self.activation_function = lambda x: scipy.special.expit(x)\n",
    "\n",
    "    def train(self, X, y):\n",
    "        \"\"\"Fit training data.\"\"\"\n",
    "        inputs = np.array(X, ndmin=2).T\n",
    "        targets = np.array(y).T\n",
    "        hidden_inputs = np.dot(self.wih, inputs)\n",
    "        hidden_outputs = self.activation_function(hidden_inputs)\n",
    "        final_inputs = np.dot(self.who, hidden_outputs)\n",
    "        final_outputs = self.activation_function(final_inputs)\n",
    "        output_errors = targets - final_outputs\n",
    "        hidden_errors = np.dot(self.who.T, output_errors)\n",
    "        self.who += self.lr *np.dot((output_errors * final_outputs * (1.0 - final_outputs)), np.transpose(hidden_outputs))\n",
    "        self.wih += self.lr *np.dot((hidden_errors * hidden_outputs * (1.0 - hidden_outputs)), np.transpose(inputs))\n",
    "        \n",
    "    def query(self, inputs_list):\n",
    "        \"\"\"converteert inputs tot 2D array, berekent signalen\"\"\"\n",
    "        inputs = np.array(inputs_list, ndim=2).T\n",
    "        hidden_inputs = np.dot(self.wih, inputs)\n",
    "        hidden_outputs = self.activation_function(hidden_inputs)\n",
    "        final_inputs = np.dot(self.who, hidden_outputs)\n",
    "        final_outputs = self.activation_function(final_inputs)  \n",
    "        return final_outputs"
   ]
  },
  {
   "cell_type": "markdown",
   "metadata": {},
   "source": [
    "Maak een object van de klasse `Neuraalnetwerk`."
   ]
  },
  {
   "cell_type": "code",
   "execution_count": 49,
   "metadata": {},
   "outputs": [],
   "source": [
    "# neuraal netwerk, leersnelheid = 0.3, telkens twee input-, output- en hidden neuronen\n",
    "nn = Neuraalnetwerk(0.3, 2, 2, 2)"
   ]
  },
  {
   "cell_type": "code",
   "execution_count": 50,
   "metadata": {},
   "outputs": [
    {
     "ename": "TypeError",
     "evalue": "Required argument 'shape' (pos 1) not found",
     "output_type": "error",
     "traceback": [
      "\u001b[1;31m---------------------------------------------------------------------------\u001b[0m",
      "\u001b[1;31mTypeError\u001b[0m                                 Traceback (most recent call last)",
      "\u001b[1;32m<ipython-input-50-fdf8a4b19d57>\u001b[0m in \u001b[0;36m<module>\u001b[1;34m()\u001b[0m\n\u001b[1;32m----> 1\u001b[1;33m \u001b[0mnn\u001b[0m\u001b[1;33m.\u001b[0m\u001b[0mtrain\u001b[0m\u001b[1;33m(\u001b[0m\u001b[0mX\u001b[0m\u001b[1;33m,\u001b[0m \u001b[0my\u001b[0m\u001b[1;33m)\u001b[0m\u001b[1;33m\u001b[0m\u001b[0m\n\u001b[0m",
      "\u001b[1;32m<ipython-input-48-5407ec949926>\u001b[0m in \u001b[0;36mtrain\u001b[1;34m(self, X, y)\u001b[0m\n\u001b[0;32m     32\u001b[0m         \u001b[0mtargets\u001b[0m \u001b[1;33m=\u001b[0m \u001b[0mnp\u001b[0m\u001b[1;33m.\u001b[0m\u001b[0marray\u001b[0m\u001b[1;33m(\u001b[0m\u001b[0my\u001b[0m\u001b[1;33m)\u001b[0m\u001b[1;33m.\u001b[0m\u001b[0mT\u001b[0m\u001b[1;33m\u001b[0m\u001b[0m\n\u001b[0;32m     33\u001b[0m         \u001b[0mhidden_inputs\u001b[0m \u001b[1;33m=\u001b[0m \u001b[0mnp\u001b[0m\u001b[1;33m.\u001b[0m\u001b[0mdot\u001b[0m\u001b[1;33m(\u001b[0m\u001b[0mself\u001b[0m\u001b[1;33m.\u001b[0m\u001b[0mwih\u001b[0m\u001b[1;33m,\u001b[0m \u001b[0minputs\u001b[0m\u001b[1;33m)\u001b[0m\u001b[1;33m\u001b[0m\u001b[0m\n\u001b[1;32m---> 34\u001b[1;33m         \u001b[0mhidden_outputs\u001b[0m \u001b[1;33m=\u001b[0m \u001b[0mself\u001b[0m\u001b[1;33m.\u001b[0m\u001b[0mactivation_function\u001b[0m\u001b[1;33m(\u001b[0m\u001b[0mhidden_inputs\u001b[0m\u001b[1;33m)\u001b[0m\u001b[1;33m\u001b[0m\u001b[0m\n\u001b[0m\u001b[0;32m     35\u001b[0m         \u001b[0mfinal_inputs\u001b[0m \u001b[1;33m=\u001b[0m \u001b[0mnp\u001b[0m\u001b[1;33m.\u001b[0m\u001b[0mdot\u001b[0m\u001b[1;33m(\u001b[0m\u001b[0mself\u001b[0m\u001b[1;33m.\u001b[0m\u001b[0mwho\u001b[0m\u001b[1;33m,\u001b[0m \u001b[0mhidden_outputs\u001b[0m\u001b[1;33m)\u001b[0m\u001b[1;33m\u001b[0m\u001b[0m\n\u001b[0;32m     36\u001b[0m         \u001b[0mfinal_outputs\u001b[0m \u001b[1;33m=\u001b[0m \u001b[0mself\u001b[0m\u001b[1;33m.\u001b[0m\u001b[0mactivation_function\u001b[0m\u001b[1;33m(\u001b[0m\u001b[0mfinal_inputs\u001b[0m\u001b[1;33m)\u001b[0m\u001b[1;33m\u001b[0m\u001b[0m\n",
      "\u001b[1;32m<ipython-input-48-5407ec949926>\u001b[0m in \u001b[0;36mReLU\u001b[1;34m(x)\u001b[0m\n\u001b[0;32m      4\u001b[0m \u001b[1;32mdef\u001b[0m \u001b[0mReLU\u001b[0m\u001b[1;33m(\u001b[0m\u001b[0mx\u001b[0m\u001b[1;33m)\u001b[0m\u001b[1;33m:\u001b[0m\u001b[1;33m\u001b[0m\u001b[0m\n\u001b[0;32m      5\u001b[0m     \u001b[1;34m\"\"\"ReLU(x) = max(x,0). \"\"\"\u001b[0m\u001b[1;33m\u001b[0m\u001b[0m\n\u001b[1;32m----> 6\u001b[1;33m     \u001b[0mb\u001b[0m \u001b[1;33m=\u001b[0m \u001b[0mnp\u001b[0m\u001b[1;33m.\u001b[0m\u001b[0mempty\u001b[0m\u001b[1;33m(\u001b[0m\u001b[1;33m)\u001b[0m\u001b[1;33m\u001b[0m\u001b[0m\n\u001b[0m\u001b[0;32m      7\u001b[0m     \u001b[1;32mfor\u001b[0m \u001b[0ma\u001b[0m \u001b[1;32min\u001b[0m \u001b[0mx\u001b[0m\u001b[1;33m:\u001b[0m\u001b[1;33m\u001b[0m\u001b[0m\n\u001b[0;32m      8\u001b[0m         \u001b[0mReLU\u001b[0m \u001b[1;33m=\u001b[0m \u001b[1;36m0\u001b[0m\u001b[1;33m\u001b[0m\u001b[0m\n",
      "\u001b[1;31mTypeError\u001b[0m: Required argument 'shape' (pos 1) not found"
     ]
    }
   ],
   "source": [
    "nn.train(X, y)"
   ]
  },
  {
   "cell_type": "markdown",
   "metadata": {},
   "source": [
    "Gelukt!"
   ]
  }
 ],
 "metadata": {
  "kernelspec": {
   "display_name": "Python 3",
   "language": "python",
   "name": "python3"
  },
  "language_info": {
   "codemirror_mode": {
    "name": "ipython",
    "version": 3
   },
   "file_extension": ".py",
   "mimetype": "text/x-python",
   "name": "python",
   "nbconvert_exporter": "python",
   "pygments_lexer": "ipython3",
   "version": "3.6.4"
  }
 },
 "nbformat": 4,
 "nbformat_minor": 2
}
