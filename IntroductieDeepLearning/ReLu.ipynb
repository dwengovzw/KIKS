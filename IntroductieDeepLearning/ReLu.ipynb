{
 "cells": [
  {
   "cell_type": "markdown",
   "metadata": {},
   "source": [
    "<img src=\"../.images/logosnb.png\" alt=\"Banner\" style=\"width:800px;\"/>"
   ]
  },
  {
   "cell_type": "markdown",
   "metadata": {},
   "source": [
    "<div style='color: #690027;' markdown=\"1\">\n",
    "    <h1>RELU</h1> \n",
    "</div>"
   ]
  },
  {
   "cell_type": "markdown",
   "metadata": {},
   "source": [
    "<div class=\"alert alert-box alert-success\">\n",
    "Om een neuraal netwerk op te bouwen, heeft men een <b>activatiefunctie</b> nodig. ReLu is een veelgebruikte activiatiefunctie. \n",
    "</div>"
   ]
  },
  {
   "cell_type": "markdown",
   "metadata": {},
   "source": [
    "In het volgende voorbeeld beschouwt men blauwe en groene punten in het vlak. Van elk punt is de coördinaat en de kleur gegeven."
   ]
  },
  {
   "cell_type": "markdown",
   "metadata": {},
   "source": [
    "### De nodige modules importeren"
   ]
  },
  {
   "cell_type": "code",
   "execution_count": null,
   "metadata": {},
   "outputs": [],
   "source": [
    "import pandas as pd\n",
    "\n",
    "import matplotlib.pyplot as plt\n",
    "import numpy as np"
   ]
  },
  {
   "cell_type": "markdown",
   "metadata": {},
   "source": [
    "<div style='color: #690027;' markdown=\"1\">\n",
    "    <h2>1. Inlezen van de data</h2> \n",
    "</div>"
   ]
  },
  {
   "cell_type": "markdown",
   "metadata": {},
   "source": [
    "Lees met de module `pandas` de dataset in."
   ]
  },
  {
   "cell_type": "code",
   "execution_count": null,
   "metadata": {},
   "outputs": [],
   "source": [
    "punten = pd.read_csv(\"../.data/IntroductieDeepLearning/data.dat\", header=None)  # in te lezen tabel heeft een hoofding"
   ]
  },
  {
   "cell_type": "markdown",
   "metadata": {},
   "source": [
    "<div style='color: #690027;' markdown=\"1\">\n",
    "    <h2>2. Tonen van de ingelezen data</h2> \n",
    "</div>"
   ]
  },
  {
   "cell_type": "markdown",
   "metadata": {},
   "source": [
    "Bekijk de data door de instructie `punten` uit te voeren. De dataset bestaat uit de x- en y-coördinaat van de punten en de kleur van elk punt. <br>\n",
    "De x- en y-coördinaat zijn kenmerken, de kleur is een label. <br> Omdat er twee soorten labels zijn, zegt men dat de punten verdeeld zijn over twee klassen."
   ]
  },
  {
   "cell_type": "code",
   "execution_count": null,
   "metadata": {},
   "outputs": [],
   "source": [
    "punten"
   ]
  },
  {
   "cell_type": "markdown",
   "metadata": {},
   "source": [
    "Deze tabel is een tabel met 15 rijen en 3 kolommen: er zijn immers 15 punten, 2 kenmerken (x1, x2) en 1 label (y). <br><br>\n",
    "De kenmerken:\n",
    "- eerste kolom: x-coördinaat; \n",
    "- tweede kolom: y-coördinaat.\n",
    "\n",
    "Het label:\n",
    "- derde kolom: kleur."
   ]
  },
  {
   "cell_type": "markdown",
   "metadata": {},
   "source": [
    "<div style='color: #690027;' markdown=\"1\">\n",
    "    <h2>3. Onderzoeken of de punten van elkaar kunnen gescheiden worden</h2> \n",
    "</div>"
   ]
  },
  {
   "cell_type": "markdown",
   "metadata": {},
   "source": [
    "<div style='color: #690027;' markdown=\"1\">\n",
    "    <h3>3.1 Visualiseren van de data</h3> \n",
    "</div>"
   ]
  },
  {
   "cell_type": "markdown",
   "metadata": {},
   "source": [
    "Om de data te visulaliseren, heb je de x- en y-coördinaat van de punten nodig."
   ]
  },
  {
   "cell_type": "code",
   "execution_count": null,
   "metadata": {},
   "outputs": [],
   "source": [
    "# coördinaten van de punten\n",
    "X = punten.iloc[:, [0, 1]].values \n",
    "X.shape        \n",
    "print(X)"
   ]
  },
  {
   "cell_type": "code",
   "execution_count": null,
   "metadata": {},
   "outputs": [],
   "source": [
    "print(X[:, 0])    # eerste kolom van X: x-coördinaat\n",
    "print(X[:, 1])    # tweede kolom van X: y-coördinaat"
   ]
  },
  {
   "cell_type": "markdown",
   "metadata": {},
   "source": [
    "<div style='color: #690027;' markdown=\"1\">\n",
    "    <h3>3.2 De data weergeven in puntenwolk</h3> \n",
    "</div>"
   ]
  },
  {
   "cell_type": "code",
   "execution_count": null,
   "metadata": {},
   "outputs": [],
   "source": [
    "x1 = X[:, 0]                # kenmerk: x-coördinaat\n",
    "x2 = X[:, 1]                # kenmerk: y-coördinaat\n",
    "# print(type(x1))\n",
    "# print(x1.min(), x1.max())\n",
    "# print(x2.min(), x2.max())"
   ]
  },
  {
   "cell_type": "code",
   "execution_count": null,
   "metadata": {},
   "outputs": [],
   "source": [
    "plt.figure()     \n",
    "\n",
    "plt.scatter(x1[:6], x2[:6], color=\"blue\", marker=\"x\")    \n",
    "plt.scatter(x1[6:], x2[6:], color=\"green\", marker=\"<\") \n",
    "\n",
    "plt.show()"
   ]
  },
  {
   "cell_type": "markdown",
   "metadata": {},
   "source": [
    "Het is duidelijk dat deze punten **niet lineair scheidbaar** zijn. Het is onmogelijk één rechte te vinden, die de groene punten scheidt van de blauwe.<br>\n",
    "Met een kromme zou het wel gaan. "
   ]
  },
  {
   "cell_type": "markdown",
   "metadata": {},
   "source": [
    "<div style='color: #690027;' markdown=\"1\">\n",
    "    <h2>4. Classificatie</h2> \n",
    "</div>"
   ]
  },
  {
   "cell_type": "markdown",
   "metadata": {},
   "source": [
    "<div style='color: #690027;' markdown=\"1\">\n",
    "    <h3>4.1 Een scheiding</h3> \n",
    "</div>"
   ]
  },
  {
   "cell_type": "markdown",
   "metadata": {},
   "source": [
    "Zoals uit het volgende script blijkt, kunnen er wel twee rechten gevonden worden, die gebruikt kunnen worden om een scheiding te realiseren."
   ]
  },
  {
   "cell_type": "code",
   "execution_count": null,
   "metadata": {},
   "outputs": [],
   "source": [
    "# scheiding ('decision boundary')\n",
    "# scheidingslijnen worden bepaald door punten op betreffende rechten\n",
    "x_1 = np.linspace(-3, 1, 10)   # lijnstuk op domein [-3, 1]\n",
    "x_2 = np.linspace(1, 3, 10)    # lijnstuk op domein [1, 3]\n",
    "y_r_1 = 7 * x_2 - 6\n",
    "y_r_2 = -3 * x_1 + 4\n",
    "\n",
    "plt.figure()    \n",
    "\n",
    "# data\n",
    "plt.scatter(x1[:6], x2[:6], color=\"blue\", marker=\"x\")    \n",
    "plt.scatter(x1[6:], x2[6:], color=\"green\", marker=\"<\") \n",
    "# scheidingslijnen\n",
    "plt.plot(x_2, y_r_1, color=\"red\")\n",
    "plt.plot(x_1, y_r_2, color=\"red\")\n",
    "\n",
    "plt.show()"
   ]
  },
  {
   "cell_type": "markdown",
   "metadata": {},
   "source": [
    "<div style='color: #690027;' markdown=\"1\">\n",
    "    <h3>4.2 Twee gebieden</h3> \n",
    "</div>"
   ]
  },
  {
   "cell_type": "code",
   "execution_count": null,
   "metadata": {},
   "outputs": [],
   "source": [
    "x_1 = np.linspace(-3.5, 1, 10)\n",
    "x_2 = np.linspace(1, 3, 10)\n",
    "y_r_1 = 7 * x_2 - 6\n",
    "y_r_2 = -3 * x_1 + 4\n",
    "# gekleurde gebieden, resolution = 0.2\n",
    "xx1 = np.arange(x1.min()-1, x1.max()+1, 0.2)\n",
    "xx2 = np.arange(x2.min()-1, x2.max()+2, 0.2) \n",
    "\n",
    "plt.figure()  \n",
    "\n",
    "# data \n",
    "plt.scatter(x1[:6], x2[:6], color=\"blue\", marker=\"x\")    \n",
    "plt.scatter(x1[6:], x2[6:], color=\"green\", marker=\"<\") \n",
    "# scheidingslijnen\n",
    "plt.plot(x_2, y_r_1, color=\"red\")\n",
    "plt.plot(x_1, y_r_2, color=\"red\")\n",
    "# gekleurde gebieden, resolution = 0.2                  \n",
    "for a in xx1:\n",
    "    for b in xx2:\n",
    "        if (7 * a - b - 6 <= 0) and (-3 * a - b + 4 <= 0):\n",
    "            kleur = \"lightblue\"\n",
    "        else:\n",
    "            kleur = \"lightgreen\"\n",
    "        plt.plot(a, b, marker='.', color=kleur)\n",
    "        \n",
    "plt.show()"
   ]
  },
  {
   "cell_type": "markdown",
   "metadata": {},
   "source": [
    "<div style='color: #690027;' markdown=\"1\">\n",
    "    <h3>4.3 ReLU</h3> \n",
    "</div>"
   ]
  },
  {
   "cell_type": "markdown",
   "metadata": {},
   "source": [
    "De ReLU-functie is een niet-lineaire functie. Deze functie heeft een meervoudig voorschrift.\n",
    "$$ReLU(x) = max(0,x)$$\n",
    "of dus\n",
    "$$ReLU: \\begin{cases} x \\longmapsto 0 \\;,  \\; x < 0 \\\\ \n",
    "        x \\longmapsto x \\;,  \\; x \\geq 0 \\end{cases}  $$    "
   ]
  },
  {
   "cell_type": "markdown",
   "metadata": {},
   "source": [
    "<img src=\"../.images/IntroductieDeepLearning/relu.png\" alt=\"Banner\" style=\"width:300px;\"/>"
   ]
  },
  {
   "cell_type": "markdown",
   "metadata": {},
   "source": [
    "Hieronder wordt de code aangepast naar code die gebruikmaakt van de ReLU-functie. Zo wordt het duidelijk dat met ReLU data die niet lineair scheidbaar zijn toch kunnen worden opgedeeld in verschillende gebieden.<br> \n",
    "Het lichtblauwe gebied krijgt label '0' en het lichtgroene gebied krijgt label '1'.<br>\n",
    "De functie die bepaalt tot welke klasse een punt behoort, heet $\\phi$."
   ]
  },
  {
   "cell_type": "code",
   "execution_count": null,
   "metadata": {},
   "outputs": [],
   "source": [
    "def relu(x):\n",
    "    \"\"\"ReLU(x) = max(x,0). \"\"\"\n",
    "    return np.maximum(x,0)\n",
    "\n",
    "def som(x, y):\n",
    "    \"\"\"Verbinding naar output layer.\"\"\"\n",
    "    som = relu(7 * x - y - 6) + relu(-3 * x - y + 4)\n",
    "    return som\n",
    "\n",
    "def phi(x, y):\n",
    "    \"\"\"Classificatie.\"\"\"\n",
    "    if som(x, y) == 0:\n",
    "        phi = 0\n",
    "    else:\n",
    "        phi = 1\n",
    "    return phi\n",
    "\n",
    "\n",
    "plt.figure()\n",
    "\n",
    "plt.scatter(x1[:6], x2[:6], color=\"blue\", marker=\"x\")    \n",
    "plt.scatter(x1[6:], x2[6:], color=\"green\", marker=\"<\") \n",
    "\n",
    "x_1 = np.linspace(-3.5, 1, 10)\n",
    "x_2 = np.linspace(1, 3, 10)\n",
    "y_r_1 = 7 * x_2 - 6\n",
    "y_r_2 = -3 * x_1 + 4\n",
    "plt.plot(x_2, y_r_1, color=\"red\")\n",
    "plt.plot(x_1, y_r_2, color=\"red\")\n",
    "\n",
    "\n",
    "# resolution = 0.2\n",
    "xx1 = np.arange(x1.min()-1, x1.max()+1, 0.2)\n",
    "xx2 = np.arange(x2.min()-1, x2.max()+4, 0.2)    \n",
    "\n",
    "for a in xx1:\n",
    "    for b in xx2:\n",
    "        if phi(a, b) == 0:\n",
    "            kleur = \"lightblue\"\n",
    "        else:\n",
    "            kleur = \"lightgreen\"\n",
    "        plt.plot(a, b, marker='.', color=kleur)\n",
    "\n",
    "plt.show()"
   ]
  },
  {
   "cell_type": "markdown",
   "metadata": {},
   "source": [
    "De code kan ook aangepast worden naar een deep learning model met drie lagen, dus met een invoer- en uitvoerlaag en één verborgen laag."
   ]
  },
  {
   "cell_type": "code",
   "execution_count": null,
   "metadata": {},
   "outputs": [],
   "source": [
    "def relu(tensor):\n",
    "    \"\"\"Relu(x) = max(0,x).\"\"\"\n",
    "    return np.maximum(0,tensor)\n",
    "\n",
    "def phi(x):\n",
    "    \"\"\"Classificatie.\"\"\"\n",
    "    if x == 0:\n",
    "        phi = 0\n",
    "    else:\n",
    "        phi = 1\n",
    "    return phi\n",
    "\n",
    "class Model:\n",
    "    \"\"\"Model met drie lagen, twee neuronen per laag.\"\"\" \n",
    "    \n",
    "    def __init__(self, inputnodes, hiddennodes, outputnodes):\n",
    "        \"\"\"self heeft drie parameters: leersnelheid, aantal inputneuronen, aantal outputneuronen.\"\"\"\n",
    "        #self.inodes = inputnodes\n",
    "        #self.hnodes = hiddennodes\n",
    "        #self.onodes = outputnodes\n",
    "        \n",
    "        self.wih = np.array([[7, -1], [-3,-1]])    # weights tussen input en hidden layer\n",
    "        self.biash = np.array([[-6],[4]])            # bias tussen input en hidden layer\n",
    "        self.who = np.array([1,1])               # weights tussen hidden layer en output\n",
    "        self.activation_functionh = relu   \n",
    "        self.activation_functiono = phi\n",
    "       \n",
    "    def predict(self, kenmerken):\n",
    "        \"\"\"Fit training data.\"\"\"\n",
    "        inputs = np.array(kenmerken, ndmin=2).T     # w1 en x2 onder elkaar , inputs heeft dimensie  2x15\n",
    "        # targets = np.array(labels).T                # targets heeft dimensie 1x15\n",
    "        hidden_inputs = np.dot(self.wih, inputs) + self.biash    # lineaire combinatie inputs met betreffende weights\n",
    "        hidden_outputs = self.activation_functionh(hidden_inputs)      # relu is activatiefunctie in hidden layer\n",
    "        final_inputs = np.dot(self.who, hidden_outputs)  # lineaire combinatie output hidden layer met betreffende weights\n",
    "        final_outputs = self.activation_functiono(final_inputs)\n",
    "        return final_outputs"
   ]
  },
  {
   "cell_type": "code",
   "execution_count": null,
   "metadata": {},
   "outputs": [],
   "source": [
    "model = Model(2, 2, 2)"
   ]
  },
  {
   "cell_type": "code",
   "execution_count": null,
   "metadata": {},
   "outputs": [],
   "source": [
    "# uittesten\n",
    "print(\"Geef coördinaat van een punt.\")\n",
    "co_x = float(input(\"x-coördinaat is: \"))\n",
    "co_y = float(input(\"y-coördinaat is: \"))\n",
    "X = np.array([co_x, co_y])\n",
    "model.predict(X)"
   ]
  },
  {
   "cell_type": "code",
   "execution_count": null,
   "metadata": {},
   "outputs": [],
   "source": [
    "plt.figure()\n",
    "\n",
    "# datapunten\n",
    "plt.scatter(x1[:6], x2[:6], color=\"blue\", marker=\"x\")    \n",
    "plt.scatter(x1[6:], x2[6:], color=\"green\", marker=\"<\") \n",
    "\n",
    "# raster maken met resolutie 0.2\n",
    "x_1 = np.linspace(-3.5, 1, 10)\n",
    "x_2 = np.linspace(1, 3, 10)\n",
    "xx1 = np.arange(x1.min()-1, x1.max()+1, 0.2)\n",
    "xx2 = np.arange(x2.min()-1, x2.max()+4, 0.2)                     \n",
    "\n",
    "# aan elk punt in raster juiste kleur toekennen\n",
    "for a in xx1:\n",
    "    for b in xx2:\n",
    "        X = np.array([a, b])\n",
    "        if model.predict(X) == 0:\n",
    "            kleur = \"lightblue\"\n",
    "        else:\n",
    "            kleur = \"lightgreen\"\n",
    "        plt.plot(a, b, marker='.', color=kleur)\n",
    "\n",
    "plt.show()"
   ]
  }
 ],
 "metadata": {
  "kernelspec": {
   "display_name": "Python 3",
   "language": "python",
   "name": "python3"
  },
  "language_info": {
   "codemirror_mode": {
    "name": "ipython",
    "version": 3
   },
   "file_extension": ".py",
   "mimetype": "text/x-python",
   "name": "python",
   "nbconvert_exporter": "python",
   "pygments_lexer": "ipython3",
   "version": "3.6.4"
  }
 },
 "nbformat": 4,
 "nbformat_minor": 2
}
