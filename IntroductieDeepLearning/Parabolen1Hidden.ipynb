{
 "cells": [
  {
   "cell_type": "markdown",
   "metadata": {},
   "source": [
    "<img src=\"../.images/logosnb.png\" alt=\"Banner\" style=\"width:1100px;\"/>"
   ]
  },
  {
   "cell_type": "markdown",
   "metadata": {},
   "source": [
    "<div style='color: #690027;' markdown=\"1\">\n",
    "    <h1>BINAIRE CLASSIFICATIE MET NEURAAL NETWERK MET EEN VERBORGEN LAAG</h1> \n",
    "</div>"
   ]
  },
  {
   "cell_type": "markdown",
   "metadata": {},
   "source": [
    "<div class=\"alert alert-box alert-success\">\n",
    "In deze notebook bouw je een neuraal netwerk op met de functionaliteiten van de Python-module Keras. Het probleem is er een van <b>binaire classificatie</b>: gevens onderverdelen in twee klassen. De klassen zijn niet lineair scheidbaar.<br> \n",
    "In het netwerk gebruik je <b>activatiefuncties</b>, namelijk de ReLU- en de sigmoïde-functie. Het zijn niet-lineaire functies. ReLU is een veelgebruikte activatiefunctie, die het mogelijk maakt klassen die niet lineair scheidbaar zijn, toch te scheiden.\n",
    "</div>"
   ]
  },
  {
   "cell_type": "markdown",
   "metadata": {},
   "source": [
    "### De nodige modules importeren"
   ]
  },
  {
   "cell_type": "markdown",
   "metadata": {},
   "source": [
    "In deze notebook bouw je een *'Sequential model'* op met Keras. Dat is een model dat bestaat uit *aaneengeschakelde lagen*. \n",
    "Je zal werken met een input layer, een output layer en ertussen één hidden layer.<br>\n",
    "Je zal dus het model en de lagen moeten kunnen aanmaken."
   ]
  },
  {
   "cell_type": "code",
   "execution_count": null,
   "metadata": {},
   "outputs": [],
   "source": [
    "import pandas as pd\n",
    "\n",
    "import matplotlib.pyplot as plt\n",
    "import numpy as np\n",
    "\n",
    "from keras import models\n",
    "from keras import layers\n",
    "from keras import optimizers\n",
    "\n",
    "from sklearn.utils import shuffle    # om data onderling te kunnen wisselen "
   ]
  },
  {
   "cell_type": "markdown",
   "metadata": {},
   "source": [
    "Je gaat aan de slag met 60 gegeven punten in het vlak. Sommige punten zijn blauw, andere zijn groen. De punten vertegenwoordigen twee klassen. <br> Van elk punt is de coördinaat en de kleur gegeven.<br>\n",
    "Het is de bedoeling dat de groene en blauwe punten van elkaar gescheiden worden. "
   ]
  },
  {
   "cell_type": "markdown",
   "metadata": {},
   "source": [
    "<div style='color: #690027;' markdown=\"1\">\n",
    "    <h2>1. Inlezen van de data</h2> \n",
    "</div>"
   ]
  },
  {
   "cell_type": "markdown",
   "metadata": {},
   "source": [
    "Lees met de module `pandas` de dataset in."
   ]
  },
  {
   "cell_type": "code",
   "execution_count": null,
   "metadata": {},
   "outputs": [],
   "source": [
    "punten = pd.read_csv(\"../.data/IntroductieDeepLearning/parabolen.dat\")  # in te lezen tabel heeft geen hoofding"
   ]
  },
  {
   "cell_type": "markdown",
   "metadata": {},
   "source": [
    "<div style='color: #690027;' markdown=\"1\">\n",
    "    <h2>2. Tonen van de ingelezen data</h2> \n",
    "</div>"
   ]
  },
  {
   "cell_type": "markdown",
   "metadata": {},
   "source": [
    "Bekijk de data door de instructie `punten` uit te voeren. De dataset bestaat uit de x- en y-coördinaat van de punten en de kleur van elk punt. <br>\n",
    "De x- en y-coördinaat zijn kenmerken, de kleur is een label. <br> Omdat er twee soorten labels zijn, zegt men dat de punten verdeeld zijn over **twee klassen**."
   ]
  },
  {
   "cell_type": "code",
   "execution_count": null,
   "metadata": {},
   "outputs": [],
   "source": [
    "punten"
   ]
  },
  {
   "cell_type": "markdown",
   "metadata": {},
   "source": [
    "Deze tabel is een tabel met 60 rijen en 3 kolommen: er zijn immers 60 punten, 2 kenmerken en 1 label. <br><br>\n",
    "De kenmerken:\n",
    "- eerste kolom: x-coördinaat; \n",
    "- tweede kolom: y-coördinaat.\n",
    "\n",
    "Het label:\n",
    "- derde kolom: kleur."
   ]
  },
  {
   "cell_type": "markdown",
   "metadata": {},
   "source": [
    "<div class=\"alert alert-box alert-info\">\n",
    "In machinaal leren worden twee kenmerken doorgaans weergegeven met x1 en x2 en het label met y.\n",
    "</div>"
   ]
  },
  {
   "cell_type": "markdown",
   "metadata": {},
   "source": [
    "<div style='color: #690027;' markdown=\"1\">\n",
    "    <h2>3. Onderzoeken of de punten van elkaar gescheiden kunnen worden</h2> \n",
    "</div>"
   ]
  },
  {
   "cell_type": "markdown",
   "metadata": {},
   "source": [
    "Of punten scheidbaar zijn, zie je het best op een grafiek. "
   ]
  },
  {
   "cell_type": "markdown",
   "metadata": {},
   "source": [
    "Om de data te visualiseren, heb je de x- en y-coördinaat, dus de kenmerken x1 en x2, van de punten nodig.<br>\n",
    "Daarnaast moet je ook rekening houden met de kleur."
   ]
  },
  {
   "cell_type": "markdown",
   "metadata": {},
   "source": [
    "<div style='color: #690027;' markdown=\"1\">\n",
    "    <h3>3.1 De data voorbereiden</h3> \n",
    "</div>"
   ]
  },
  {
   "cell_type": "code",
   "execution_count": null,
   "metadata": {
    "scrolled": true
   },
   "outputs": [],
   "source": [
    "x1 = punten[\"x\"]\n",
    "x2 = punten[\"y\"]\n",
    "y = punten[\"kleur\"]"
   ]
  },
  {
   "cell_type": "code",
   "execution_count": null,
   "metadata": {},
   "outputs": [],
   "source": [
    "# data in juiste formaat\n",
    "x1 = np.array(x1)\n",
    "x2 = np.array(x2)"
   ]
  },
  {
   "cell_type": "code",
   "execution_count": null,
   "metadata": {},
   "outputs": [],
   "source": [
    "# labels numeriek weergeven\n",
    "y[y == 'blauw'] = 0\n",
    "y[y == 'groen'] = 1"
   ]
  },
  {
   "cell_type": "code",
   "execution_count": null,
   "metadata": {},
   "outputs": [],
   "source": [
    "print(y)"
   ]
  },
  {
   "cell_type": "code",
   "execution_count": null,
   "metadata": {},
   "outputs": [],
   "source": [
    "# te onthouden voor de testset\n",
    "mean1 = np.mean(x1)\n",
    "std1 = np.std(x1)\n",
    "mean2 = np.mean(x2)\n",
    "std2 = np.std(x2)"
   ]
  },
  {
   "cell_type": "code",
   "execution_count": null,
   "metadata": {
    "scrolled": false
   },
   "outputs": [],
   "source": [
    "# datapunten standaardiseren\n",
    "x1 = (x1 - np.mean(x1))/np.std(x1)\n",
    "x2 = (x2 - np.mean(x2))/np.std(x2)\n",
    "\n",
    "X = np.stack((x1, x2), axis=1)    # juiste formaat, axis=1 zet x1 en x2 als kolommen\n"
   ]
  },
  {
   "cell_type": "markdown",
   "metadata": {},
   "source": [
    "<div style='color: #690027;' markdown=\"1\">\n",
    "    <h3>3.2 De data weergeven in gestandaardiseerde puntenwolk</h3> \n",
    "</div>"
   ]
  },
  {
   "cell_type": "code",
   "execution_count": null,
   "metadata": {},
   "outputs": [],
   "source": [
    "plt.figure()     \n",
    "\n",
    "plt.scatter(x1[:30], x2[:30], color=\"blue\", marker=\"x\")    \n",
    "plt.scatter(x1[30:], x2[30:], color=\"green\", marker=\"<\") \n",
    "\n",
    "plt.show()"
   ]
  },
  {
   "cell_type": "markdown",
   "metadata": {},
   "source": [
    "De punten zijn niet lineair scheidbaar maar wel scheidbaar door een kromme."
   ]
  },
  {
   "cell_type": "code",
   "execution_count": null,
   "metadata": {},
   "outputs": [],
   "source": [
    "X, y = shuffle(X, y)                 # kenmerken en klassen blijven samen"
   ]
  },
  {
   "cell_type": "markdown",
   "metadata": {},
   "source": [
    "<div style='color: #690027;' markdown=\"1\">\n",
    "    <h2>4. Opbouw van een neuraal netwerk</h2> \n",
    "</div>"
   ]
  },
  {
   "cell_type": "markdown",
   "metadata": {},
   "source": [
    "<div style='color: #690027;' markdown=\"1\">\n",
    "    <h3>4.1 De data voorbereiden</h3> \n",
    "</div>"
   ]
  },
  {
   "cell_type": "markdown",
   "metadata": {},
   "source": [
    "Je gaat dus eerst na of de data wel in het juiste formaat staat. Voor de labels is dat alvast niet het geval. Het zijn woorden i.p.v. 0 en 1. <br>\n",
    "Je vroeg eerder al de vorm van de tensor X op met `X.shape`. De uitvoer was (15,2). Dat betekent dat X een tensor is met 15 vectoren van dimensie 2. "
   ]
  },
  {
   "cell_type": "code",
   "execution_count": null,
   "metadata": {},
   "outputs": [],
   "source": [
    "# splitsen in training en validatiedata\n",
    "# te nemen uit geshuffelde data\n",
    "x1 = X[:, 0]            \n",
    "x2 = X[:, 1]            \n",
    "\n",
    "x1_val = np.append(x1[0:5],x1[30:35])\n",
    "x2_val = np.append(x2[0:5],x2[30:35]) \n",
    "X_val = np.stack((x1_val, x2_val), axis=1)    # juiste formaat, axis=1 zet x1 en x2 als kolommen\n",
    "x1_train = np.append(x1[5:30], x1[35:]) \n",
    "x2_train = np.append(x2[5:30], x2[35:]) \n",
    "X_train = np.stack((x1_train, x2_train), axis=1)                "
   ]
  },
  {
   "cell_type": "code",
   "execution_count": null,
   "metadata": {},
   "outputs": [],
   "source": [
    "X_train.shape"
   ]
  },
  {
   "cell_type": "code",
   "execution_count": null,
   "metadata": {},
   "outputs": [],
   "source": [
    "X_val.shape"
   ]
  },
  {
   "cell_type": "code",
   "execution_count": null,
   "metadata": {},
   "outputs": [],
   "source": [
    "y_val =  np.append(y[0:5], y[30:35])\n",
    "y_train = np.append(y[5:30], y[35:]) "
   ]
  },
  {
   "cell_type": "code",
   "execution_count": null,
   "metadata": {},
   "outputs": [],
   "source": [
    "# tarining- en validatieset tonen\n",
    "plt.scatter(X_train[:,0],X_train[:,1])\n",
    "plt.scatter(X_val[:,0],X_val[:,1])"
   ]
  },
  {
   "cell_type": "markdown",
   "metadata": {},
   "source": [
    "<div style='color: #690027;' markdown=\"1\">\n",
    "    <h3>4.2 Architectuur van het neuraal netwerk</h3> \n",
    "</div>"
   ]
  },
  {
   "cell_type": "markdown",
   "metadata": {},
   "source": [
    "Je model voor het netwerk is een ***Sequential model*** dat bestaat uit aaneengeschakelde lagen: een *input layer*, een *output layer* en ertussen één *hidden layer*. <br>\n",
    "Je gebruikt *dense layers* . Dit betekent dat het *fully connected* layers zijn: de neuronen in een bepaalde laag zijn verbonden met alle neuronen in de vorige laag.<br>\n",
    "In elke laag moet je een keuze maken voor het **aantal outputneuronen** van die laag. <br>\n",
    "Voor de uitvoerlaag ligt dat vast: er zijn **twee categorieën** zijn, gelabeld 0 en 1, en het model  moet elke datapunt toekennen aan een categorie. Het model moet dus de waarde 0 of 1 geven als uitvoer. Je hebt daar dus 1 uitvoerneuron. <br> Voor de verborgen laag kan je wat experimenteren met het aantal neuronen en de performanties van het netwerk vergelijken. <br>\n",
    "\n",
    "Het model moet de *input* krijgen in de vorm van een tensor die bestaat uit *vectoren*. Bovendien moet het model weten hoeveel elementen elk datapunt, dus elke vector, in die tensor bevat. Dit wordt met de eerste laag meegegeven met de parameter `input_dim`.<br>\n",
    "Met de volgende lagen moet dat niet meegegeven worden, aangezien het aantal elementen dan automatisch vastligt door de wiskundige bewerkingen die zullen gebeuren.\n",
    "\n",
    "In de hidden layer en in de output layer wordt er na de lineaire transformaties, bepaald door de *weights* gekozen door het netwerk, ook nog een activatiefunctie toegepast. Welke *activatiefunctie* dat is, moet jij vastleggen. In dit netwerk voor binaire classificatie kies je voor **ReLU**. De activatiefunctie in de output layer wordt bepaald door het soort probleem. Aangezien je hier een classificatieprobleem hebt met meer dan twee klassen, is de activatiefunctie de **sigmoïde-functie**.\n",
    "\n",
    "Om de architectuur te voltooien moet je nog een *loss*-functie en een *optimizer* kiezen. Met de loss-functie wordt bekeken hoeveel het model afwijkt van de labels. Voor dit probleem van binaire classificatie kies je voor **binary cross-entropy** en **gradient descent**. De totale fout hierop zal geminimaliseerd worden m.b.v. de optimizer. Tot slot kies je nog een *metrics* waarmee je de *performantie* van het model kunt nagaan. Hier kies je voor 'accuracy', het percentage datapunten dat aan de juiste categorie wordt toegekend. "
   ]
  },
  {
   "cell_type": "code",
   "execution_count": null,
   "metadata": {},
   "outputs": [],
   "source": [
    "# architectuur netwerk\n",
    "network = models.Sequential()\n",
    "network.add(layers.Dense(20, activation=\"relu\", input_dim=2))    # hidden layer: 20 neuronen, activatie ReLU       \n",
    "network.add(layers.Dense(1, activation=\"sigmoid\"))               # output layer: 1 output neuron, activatie sigmoïde       \n",
    "sgd = optimizers.SGD(lr=0.08)                                    # lr kiezen\n",
    "network.compile(optimizer=sgd,\n",
    "                loss=\"binary_crossentropy\",\n",
    "                metrics=[\"accuracy\"])                            # optimizer, loss en metrics kiezen"
   ]
  },
  {
   "cell_type": "markdown",
   "metadata": {},
   "source": [
    "<div style='color: #690027;' markdown=\"1\">\n",
    "    <h3>4.3 Trainen van het neuraal netwerk</h3> \n",
    "</div>"
   ]
  },
  {
   "cell_type": "code",
   "execution_count": null,
   "metadata": {},
   "outputs": [],
   "source": [
    "# trainen van het netwerk met methode `fit`, m.a.w. punten en labels op elkaar afstemmen\n",
    "# 40 epochs\n",
    "history = network.fit(X_train, y_train, epochs=40, validation_data=(X_val,y_val), batch_size=len(y_train))"
   ]
  },
  {
   "cell_type": "code",
   "execution_count": null,
   "metadata": {},
   "outputs": [],
   "source": [
    "loss = history.history[\"loss\"]\n",
    "epochs = range (1 , len(loss) +1)\n",
    "accuracy = history.history[\"accuracy\"]\n",
    "val_acc = history.history[\"val_accuracy\"]\n",
    "val_loss = history.history[\"val_loss\"]"
   ]
  },
  {
   "cell_type": "markdown",
   "metadata": {},
   "source": [
    "<div style='color: #690027;' markdown=\"1\">\n",
    "    <h3>4.4 Prestatie van het model</h3> \n",
    "</div>"
   ]
  },
  {
   "cell_type": "code",
   "execution_count": null,
   "metadata": {},
   "outputs": [],
   "source": [
    "font = {'family': 'serif',\n",
    "        'color':  'black',\n",
    "        'weight': 'normal',\n",
    "        'size': 14,\n",
    "        }\n",
    "plt.figure(figsize=(16,8))\n",
    "\n",
    "plt.subplot(1,2,1)\n",
    "plt.plot(epochs, loss, color=\"blue\", label=\"train\", linewidth=2)\n",
    "plt.plot(epochs, val_loss, color=\"lightblue\", label=\"val\", linewidth=2)\n",
    "plt.xticks(np.arange(0, 45, step=5))             \n",
    "plt.title(\"Loss op training- en validatieset\", fontdict=font)\n",
    "plt.xlabel(\"epoch\", fontdict=font)\n",
    "plt.ylabel(\"loss\", fontdict=font)\n",
    "plt.legend(loc=\"lower left\")\n",
    "\n",
    "plt.subplot(1,2,2)\n",
    "plt.plot(epochs, accuracy, color=\"green\", label=\"train\", linewidth=2)\n",
    "plt.plot(epochs, val_acc, color=\"lime\", label=\"val\", linewidth=2)\n",
    "plt.xticks(np.arange(0, 45, step=5)) \n",
    "\n",
    "plt.xlabel(\"epoch\", fontdict=font)\n",
    "plt.ylabel(\"acc\", fontdict=font)\n",
    "\n",
    "plt.title(\"Accuracy op training- en validatieset\", fontdict=font)\n",
    "plt.legend(loc=\"lower right\")\n",
    "\n",
    "plt.show()"
   ]
  },
  {
   "cell_type": "markdown",
   "metadata": {},
   "source": [
    "Wat merk je op?<br>\n",
    "Het model underfits / is optimaal / overfits."
   ]
  },
  {
   "cell_type": "markdown",
   "metadata": {},
   "source": [
    "<div style='color: #690027;' markdown=\"1\">\n",
    "    <h3>4.5 Testen van het model</h3> \n",
    "</div>"
   ]
  },
  {
   "cell_type": "markdown",
   "metadata": {},
   "source": [
    "Test het model uit op de testset.<br>\n",
    "Daarvoor moet eerst de data worden voorbereid, ze moet op dezelfde manier worden gestandaardiseerd."
   ]
  },
  {
   "cell_type": "code",
   "execution_count": null,
   "metadata": {},
   "outputs": [],
   "source": [
    "# testset inladen\n",
    "testset = pd.read_csv(\"../.data/IntroductieDeepLearning/testsetparabolen.dat\") "
   ]
  },
  {
   "cell_type": "code",
   "execution_count": null,
   "metadata": {},
   "outputs": [],
   "source": [
    "# data voorbereiden\n",
    "x1_test = testset[\"x\"]\n",
    "x2_test = testset[\"y\"]\n",
    "x1_test = np.array(x1_test)\n",
    "x2_test = np.array(x2_test)\n",
    "\n",
    "y_test = testset[\"kleur\"]\n",
    "y_test[y_test == 'blauw'] = 0\n",
    "y_test[y_test == 'groen'] = 1\n",
    "\n",
    "x1_test = (x1_test - mean1) / std1 \n",
    "x2_test = (x2_test - mean2) / std2\n",
    "X_test = np.stack((x1_test, x2_test), axis=1)"
   ]
  },
  {
   "cell_type": "markdown",
   "metadata": {},
   "source": [
    "Het formaat van de `testpunten` is zoals gewenst.<br>\n",
    "Gebruik je de methode `predict()`, dan geeft het model hoe zeker het is dat `testpunt` tot klasse '1' behoort.<br>\n",
    "Met de methode `predict_classes()` geeft het model de klasse dat het beslist heeft. "
   ]
  },
  {
   "cell_type": "code",
   "execution_count": null,
   "metadata": {},
   "outputs": [],
   "source": [
    "# alle testpunten\n",
    "predictions = network.predict_classes(X_test)\n",
    "for i in range(4):\n",
    "    print('%s => %d (expected %d)' % (X_test[i].tolist(), predictions[i], y_test[i]))"
   ]
  },
  {
   "cell_type": "markdown",
   "metadata": {},
   "source": [
    "<div style='color: #690027;' markdown=\"1\">\n",
    "    <h2>5. Decision boundary</h2> \n",
    "</div>"
   ]
  },
  {
   "cell_type": "code",
   "execution_count": null,
   "metadata": {},
   "outputs": [],
   "source": [
    "# decision boundary\n",
    "font = {'family': 'serif',\n",
    "        'color':  'black',\n",
    "        'weight': 'normal',\n",
    "        'size': 14,\n",
    "        }\n",
    "color = [\"blue\", \"green\"]\n",
    "soort = [\"parabool 1\", \"parabool 2\"]\n",
    "                 \n",
    "\n",
    "plt.figure(figsize=(8, 6))\n",
    "\n",
    "for target in range(2):\n",
    "    X_plot = X[y == target]\n",
    "    plt.scatter(X_plot[:, 0], X_plot[:, 1], marker='o', color=color[target], label=soort[target])\n",
    "plt.title(\"Classificatie punten twee parabolen\", fontdict=font)\n",
    "plt.xlabel(\"x-coördinaat\", fontdict=font)\n",
    "plt.ylabel(\"y-coördinaat\", fontdict=font)\n",
    "# plt.axis('equal')\n",
    "plt.legend(loc=\"upper right\")\n",
    "\n",
    "as1 = np.linspace(-2, 2, 40)\n",
    "as2 = np.linspace(-2, 5, 40)\n",
    "\n",
    "# resolutie\n",
    "xx1 = np.arange(as1.min()-1, as1.max()+1, 0.1)\n",
    "xx2 = np.arange(as2.min()-1, as2.max()+1, 0.1)                     \n",
    "\n",
    "for a in xx1:\n",
    "    for b in xx2:\n",
    "        P = np.array([[a, b]])\n",
    "        voorspeldeklasse = network.predict_classes(P) \n",
    "        if voorspeldeklasse == 0:\n",
    "            kleur = \"lightblue\"\n",
    "        else:\n",
    "            kleur = \"lightgreen\"\n",
    "        plt.plot(a, b, marker='.', color=kleur)\n",
    "\n",
    "plt.show()"
   ]
  },
  {
   "cell_type": "markdown",
   "metadata": {},
   "source": [
    "<div style='color: #690027;' markdown=\"1\">\n",
    "    <h2>6. Model verbeteren</h2> \n",
    "</div>"
   ]
  },
  {
   "cell_type": "markdown",
   "metadata": {},
   "source": [
    "Maak de notebook leeg: **Kernel > Restart & Clear Output**<br>\n",
    "Train opnieuw met 100 epochs, en erna eens met 400 epochs.<br>\n",
    "Experimenteer eventueel met een grotere of kleinere learning rate.<br><br>\n",
    "Slaag je erin een goed presterend model te vinden dat niet overfit?"
   ]
  },
  {
   "cell_type": "markdown",
   "metadata": {},
   "source": [
    "<div class=\"alert alert-box alert-info\">\n",
    "De data bestaan uit punten met twee <b>kenmerken</b> en een overeenkomstig <b>label</b>. Het label kan twee waarden aannemen; er zijn twee <b>klassen</b>. Een grens tussen de klassen is een <b>decision boundary</b>. <br>\n",
    "Het model is een neuraal netwerk met een <b>invoerlaag</b>, een <b>verborgen laag</b> met activatiefunctie ReLU en een <b>uitvoerlaag</b> met activatiefunctie de sigmoïde-functie. <br>\n",
    "    \n",
    "De klassen zijn niet lineair scheidbaar, maar kunnen toch van elkaar gescheiden worden dankzij de <b>niet-lineaire functie ReLU</b>.  \n",
    "</div>"
   ]
  },
  {
   "cell_type": "markdown",
   "metadata": {},
   "source": [
    "<img src=\"../.images/cclic.png\" alt=\"Banner\" align=\"left\" style=\"width:80px;\"/><br><br>\n",
    "Notebook KIKS, zie <a href=\"http://www.aiopschool.be\">AI Op School</a>, van F. wyffels & N. Gesquière is in licentie gegeven volgens een <a href=\"http://creativecommons.org/licenses/by-nc-sa/4.0/\">Creative Commons Naamsvermelding-NietCommercieel-GelijkDelen 4.0 Internationaal-licentie</a>."
   ]
  }
 ],
 "metadata": {
  "kernelspec": {
   "display_name": "Python 3",
   "language": "python",
   "name": "python3"
  },
  "language_info": {
   "codemirror_mode": {
    "name": "ipython",
    "version": 3
   },
   "file_extension": ".py",
   "mimetype": "text/x-python",
   "name": "python",
   "nbconvert_exporter": "python",
   "pygments_lexer": "ipython3",
   "version": "3.7.4"
  }
 },
 "nbformat": 4,
 "nbformat_minor": 2
}
