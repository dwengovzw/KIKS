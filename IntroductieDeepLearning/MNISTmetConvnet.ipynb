{
 "cells": [
  {
   "cell_type": "markdown",
   "metadata": {
    "colab_type": "text",
    "id": "fuTi2-xwH25l"
   },
   "source": [
    "<img src=\"logosnb2.png\" alt=\"Banner\" style=\"width:1100px;\"/>"
   ]
  },
  {
   "cell_type": "markdown",
   "metadata": {
    "colab_type": "text",
    "id": "TZRtv11LH25o"
   },
   "source": [
    "<div style='color: #690027;' markdown=\"1\">\n",
    "    <h1>CLASSIFICATIE VAN DE MNIST DATASET MET EEN CONVOLUTIONEEL NEURAAL NETWERK</h1> \n",
    "</div>"
   ]
  },
  {
   "cell_type": "markdown",
   "metadata": {
    "colab_type": "text",
    "id": "z7D97c0fH25q"
   },
   "source": [
    "<div class=\"alert alert-box alert-success\">\n",
    "Deze notebook bevat een <em>concreet voorbeeld van een convolutioneel neuraal netwerk</em> dat wordt opgebouwd met de functionaliteiten van de Python-module <em>Keras</em>. <br>\n",
    "Het voorbeeld betreft een probleem van <em>multiklassenclassificatie</em>, nl. het classificeren van grijswaardenafbeeldingen van handgeschreven cijfers. \n",
    "</div>"
   ]
  },
  {
   "cell_type": "markdown",
   "metadata": {
    "colab_type": "text",
    "id": "Q6-eSAL-H25r"
   },
   "source": [
    "De afbeeldingen worden aangeboden in een formaat van 28x28 pixels; er zijn 10 \n",
    "klassen, nl. klassen met labels 0 t.e.m. 9. \n",
    "\n",
    "Om het netwerk te trainen wordt gebruikgemaakt van de MNIST dataset. Deze dataset bestaat uit 60 000 afbeeldingen om het netwerk te trainen en  10 000 afbeeldingen om het netwerk te testen. <br>\n",
    "Deze afbeeldingen werden verzameld door het National Institute of Standards and Technology (de NIST in het letterwoord MNIST) in de jaren 80. "
   ]
  },
  {
   "cell_type": "markdown",
   "metadata": {
    "colab_type": "text",
    "id": "SSk62nk8H25t"
   },
   "source": [
    "### Nodige modules importeren"
   ]
  },
  {
   "cell_type": "markdown",
   "metadata": {
    "colab_type": "text",
    "id": "ENz4TfpQH25u"
   },
   "source": [
    "In deze notebook bouw je net als in de andere MNIST-notebooks een *Sequential model* op met Keras. <br> \n",
    "Dat is een model dat bestaat uit *aaneengeschakelde lagen*. \n",
    "Je zal werken met een neuraal netwerk dat eerst enkele *convolutionele layers*, afgewisseld met een *max pooling*-operatie, bevat en tot slot een *feedforward* netwerk.<br>\n",
    "Volgens de regels van de kunst werk je met trainingdata, validatidata en testdata. "
   ]
  },
  {
   "cell_type": "code",
   "execution_count": null,
   "metadata": {
    "colab": {},
    "colab_type": "code",
    "id": "hdLOEy3BH25w",
    "scrolled": true
   },
   "outputs": [],
   "source": [
    "import numpy as np\n",
    "import matplotlib.pyplot as plt\n",
    "\n",
    "# import keras\n",
    "from keras import models\n",
    "from keras import layers\n",
    "from keras.utils import to_categorical\n",
    "\n",
    "from keras.datasets import mnist"
   ]
  },
  {
   "cell_type": "markdown",
   "metadata": {
    "colab_type": "text",
    "id": "Z65EMGYdH251"
   },
   "source": [
    "<div style='color: #690027;' markdown=\"1\">\n",
    "    <h2>1. Inlezen van de data</h2> \n",
    "</div>"
   ]
  },
  {
   "cell_type": "markdown",
   "metadata": {
    "colab_type": "text",
    "id": "fA0wQbA5H252"
   },
   "source": [
    "De MNIST data bestaan uit een koppel. Bovendien is elk van beide elementen van het koppel zelf een koppel.  \n",
    "\n",
    "De data zijn als volgt opgebouwd:\n",
    "-  (trainingdata, overeenkomstige labels) in het eerste element;\n",
    "-  (testdata, overeenkomstige labels) in het tweede element.\n",
    "\n",
    "De data bestaan dus uit vier soorten data.\n",
    "\n",
    "Je laadt de dataset in met de instructie `mnist.load_data()`.<br>\n",
    "`load_data()` is een functie van de module `mnist`. <br>Ondertussen benoem je vier variabelen die elk verwijzen naar een bepaalde soort data in de dataset.  "
   ]
  },
  {
   "cell_type": "code",
   "execution_count": null,
   "metadata": {
    "colab": {},
    "colab_type": "code",
    "id": "ebtNs5AeH254"
   },
   "outputs": [],
   "source": [
    "(train_images, train_labels), (test_images, test_labels) = mnist.load_data()      # elementen van tuples krijgen juiste naam"
   ]
  },
  {
   "cell_type": "code",
   "execution_count": null,
   "metadata": {},
   "outputs": [],
   "source": [
    "train_images[4].shape"
   ]
  },
  {
   "cell_type": "markdown",
   "metadata": {
    "colab_type": "text",
    "id": "UpT89HLoGsZP"
   },
   "source": [
    "De trainingdata worden opgesplitst in effectieve trainingdata en valideringsdata. Deze validatieset zal gebruikt worden om de prestatie van het netwerk te monitoren tijdens het trainen. Zo kan men sneller overfitting gaan opsporen."
   ]
  },
  {
   "cell_type": "code",
   "execution_count": null,
   "metadata": {
    "colab": {},
    "colab_type": "code",
    "id": "jD8Gxg5Euwx-"
   },
   "outputs": [],
   "source": [
    "validation_images = train_images[0:5000]\n",
    "validation_labels = train_labels[0:5000]\n",
    "train_images =  train_images[5000:]\n",
    "train_labels = train_labels[5000:]"
   ]
  },
  {
   "cell_type": "markdown",
   "metadata": {
    "colab_type": "text",
    "id": "4mngXkAcH26h"
   },
   "source": [
    "<div style='color: #690027;' markdown=\"1\">\n",
    "    <h2>3. Opbouwen van het neuraal netwerk</h2> \n",
    "</div>"
   ]
  },
  {
   "cell_type": "markdown",
   "metadata": {
    "colab_type": "text",
    "id": "YNffGJetH26i"
   },
   "source": [
    "<div style='color: #690027;' markdown=\"1\">\n",
    "    <h3>3.1 Architectuur van het neuraal netwerk</h3> \n",
    "</div>"
   ]
  },
  {
   "cell_type": "code",
   "execution_count": null,
   "metadata": {
    "colab": {},
    "colab_type": "code",
    "id": "nwDq673ZH26l"
   },
   "outputs": [],
   "source": [
    "# architectuur netwerk     https://keras.io/getting-started/sequential-model-guide/\n",
    "\n",
    "# 'Sequential model' is model dat bestaat uit aaneengeschakelde lagen\n",
    "# Hier eerst enkele lagen die samen convolutioneel netwerk vormen, \n",
    "# afgewisseld met Max Pooling die de resolutie van de afbeeldingen vermindert (minder rekenkracht nodig).\n",
    "# Convolutioneel netwerk wordt gevolgd door netwerk met dense layers:\n",
    "# (feed forward netwerk met) 1 hidden layer;\n",
    "# 'dense layers'  betekent 'fully connected', \n",
    "# d.w.z. dat neuronen in bepaalde laag met alle neuronen in vorige laag zijn verbonden.\n",
    "# Bij de eerste convolutionele layer moet je input_shape opgeven ipv input_dim (input_dim wordt niet ondersteund). \n",
    "# Deze input_shape is de dimensie van één ingevoerd datapunt, dus hier 1 MNIST afbeelding.\n",
    "# Een convolutionele layer verwacht een 3D-tensor voor een afbeelding, zoals voor een RGB-afbeelding.\n",
    "# Model moet weten welke vorm van input het kan verwachten, m.a.w. dimensie van de inputpunten,\n",
    "# daarom wordt dit aan eerste laag van Sequential model meegegeven;\n",
    "# enkel aan de eerste want volgende lagen krijgen dat automatisch, door uitvoeren wiskundige bewerkingen. \n",
    "# Loss-functie moet geminimaliseerd worden m.b.v. optimizer;\n",
    "# met metrics ga je performantie van model na.\n",
    "\n",
    "# architectuur netwerk\n",
    "network = models.Sequential()\n",
    "network.add(layers.Conv2D(32, (3,3), activation=\"relu\", input_shape=(28,28,1))) # eerste convolutionele laag met activatie ReLU\n",
    "network.add(layers.MaxPooling2D((2,2)))                         # max pooling operatie\n",
    "network.add(layers.Conv2D(64, (3,3), activation=\"relu\"))        # tweede convolutionele laag met activatie ReLU\n",
    "network.add(layers.MaxPooling2D((2,2)))                         # max pooling operatie\n",
    "network.add(layers.Conv2D(64, (3,3), activation=\"relu\"))        # derde convolutionele laag met activatie ReLU\n",
    "network.add(layers.Flatten())                                   # nodig om output aan dense layers te kunnen geven\n",
    "network.add(layers.Dense(64, activation=\"relu\"))                # hidden layer  64 neuronen, activatie ReLU\n",
    "network.add(layers.Dense(10, activation=\"softmax\"))             # output layer  10 outputneuronen, activatie softmax\n",
    "network.compile(optimizer=\"sgd\",\n",
    "                loss=\"categorical_crossentropy\",\n",
    "                metrics=[\"accuracy\"])                           # optimizer, loss en metrics kiezen"
   ]
  },
  {
   "cell_type": "markdown",
   "metadata": {
    "colab_type": "text",
    "id": "DdfxhYw2H26o"
   },
   "source": [
    "<div style='color: #690027;' markdown=\"1\">\n",
    "    <h3>3.2 Trainen van het neuraal netwerk</h3> \n",
    "</div>"
   ]
  },
  {
   "cell_type": "markdown",
   "metadata": {
    "colab_type": "text",
    "id": "qA0BGn7iH26p"
   },
   "source": [
    "Hiervoor vroeg je `train_images.shape` op. De datapunten zijn dus matrices. Deze datapunten moeten echter aangeboden worden als vectoren. "
   ]
  },
  {
   "cell_type": "markdown",
   "metadata": {
    "colab_type": "text",
    "id": "YztIk6A0H26q"
   },
   "source": [
    "De dimensie van elke vector ligt vast in de architectuur van het model. Elk datapunt moet dus omgevormd worden naar een vector met dimensie 784. \n",
    "\n",
    "De 60 000 28x28-matrices moeten dus omgevormd worden tot vectoren, of m.a.w. je moet de trainingset omvormen van een stapel van 60 000 28x28-matrices naar een stapel van 60 000 vectoren.\n",
    "\n",
    "Bovendien is het beter de waarden van de afbeeldingen te *normaliseren*. "
   ]
  },
  {
   "cell_type": "markdown",
   "metadata": {
    "colab_type": "text",
    "id": "4v9SHhxjH26r"
   },
   "source": [
    "<div class=\"alert alert-block alert-warning\"> \n",
    "Meer uitleg over normaliseren vind je in de notebook 'Standaardiseren'.\n",
    "</div>"
   ]
  },
  {
   "cell_type": "code",
   "execution_count": null,
   "metadata": {
    "colab": {},
    "colab_type": "code",
    "id": "16-ZshwxH26s"
   },
   "outputs": [],
   "source": [
    "# trainen van netwerk\n",
    "\n",
    "# merk op dat de input_shape van hidden layer vastligt in de architectuur\n",
    "# de 60000 28x28-matrices moeten dus omgevormd worden tot een vector met lengte 28 * 28  dus lengte 784\n",
    "# trainingset omvormen van stapel van 60000 28x28-matrices naar stapel van 60000 vectoren\n",
    "\n",
    "train_images = train_images.reshape((55000, 28, 28, 1))      \n",
    "train_images = train_images.astype('float32') / 255      # data normaliseren: herschalen naar interval [0,1] ipv [0,255]\n",
    "validation_images = validation_images.reshape((5000, 28, 28, 1))      \n",
    "validation_images = validation_images.astype('float32') / 255  \n",
    "# testset van stapel van 10000 28x28-matrices omvormen naar stapel van 10000 vectoren\n",
    "test_images = test_images.reshape((10000, 28, 28, 1))\n",
    "test_images = test_images.astype('float32') / 255"
   ]
  },
  {
   "cell_type": "code",
   "execution_count": null,
   "metadata": {
    "colab": {},
    "colab_type": "code",
    "id": "A63a49SQvH5L"
   },
   "outputs": [],
   "source": [
    "# one hot encoding\n",
    "# labels opslaan in andere gedaante bv. 0 wordt 1000000000, 1 wordt 0100000000, ..., 7 wordt 00000001000 ... \n",
    "# dus voor 7 een 1 op plaats met index 7 ( je begint te tellen vanaf 0) en voor de rest nullen \n",
    "train_labels = to_categorical(train_labels)\n",
    "test_labels = to_categorical(test_labels)\n",
    "validation_labels = to_categorical(validation_labels)"
   ]
  },
  {
   "cell_type": "code",
   "execution_count": null,
   "metadata": {
    "colab": {},
    "colab_type": "code",
    "id": "kSKaNFBhH26v"
   },
   "outputs": [],
   "source": [
    "# trainen met de methode fit van network, m.a.w. de prenten en de labels op elkaar afstemmen\n",
    "# 5 epochs, dus 5 keer de trainingset doorlopen\n",
    "# batch_size = 64: bij elke epoch worden 64 trainingsafbeeldingen willekeurig uit de trainingset gekozen\n",
    "# steeds 64 prenten per keer gebruiken om de optimizer op toe te passen, dus gemiddelde aanpassing over de 64 punten\n",
    "# merk op dat na elke epoch de loss en accuracy vermeld worden, nl. na elke bach\n",
    "history = network.fit(train_images, train_labels, epochs=5, batch_size=64, validation_data=(validation_images, validation_labels))\n",
    "loss = history.history[\"loss\"]\n",
    "epochs = range (1 , len(loss) +1)\n",
    "acc = history.history[\"accuracy\"]\n",
    "val_acc = history.history[\"val_accuracy\"]\n",
    "val_loss = history.history[\"val_loss\"]"
   ]
  },
  {
   "cell_type": "markdown",
   "metadata": {
    "colab_type": "text",
    "id": "6wFdHesWH263"
   },
   "source": [
    "Zie je dat de loss daalt en de accuracy stijgt?"
   ]
  },
  {
   "cell_type": "code",
   "execution_count": null,
   "metadata": {
    "colab": {},
    "colab_type": "code",
    "id": "B1E4ootfH264"
   },
   "outputs": [],
   "source": [
    "font = {'family': 'serif',\n",
    "        'color':  'black',\n",
    "        'weight': 'normal',\n",
    "        'size': 16,\n",
    "        }\n",
    "plt.figure(figsize=(12,6))\n",
    "\n",
    "plt.subplot(1,2,1)\n",
    "plt.plot(epochs, loss, \"o\", color=\"blue\", label=\"train\")\n",
    "plt.plot(epochs, val_loss, \"o\", color=\"lightblue\", label=\"val\")\n",
    "plt.xticks(np.arange(0, 6, step=1))             \n",
    "plt.title(\"Loss op training- en validatieset\", fontdict=font)\n",
    "plt.xlabel(\"epoch\", fontdict=font)\n",
    "plt.ylabel(\"loss\", fontdict=font)\n",
    "plt.legend(loc=\"lower left\")\n",
    "\n",
    "plt.subplot(1,2,2)\n",
    "plt.plot(epochs, acc, \"o\", color=\"green\", label=\"train\")\n",
    "plt.plot(epochs, val_acc, \"o\", color=\"lime\", label=\"val\")\n",
    "plt.xticks(np.arange(0, 6, step=1)) \n",
    "plt.xlabel(\"epoch\", fontdict=font)\n",
    "plt.ylabel(\"acc\", fontdict=font)\n",
    "plt.title(\"Accuracy op training- en validatieset\", fontdict=font)\n",
    "plt.legend(loc=\"lower right\")\n",
    "\n",
    "plt.show()"
   ]
  },
  {
   "cell_type": "markdown",
   "metadata": {
    "colab_type": "text",
    "id": "kyZLE4w_H267"
   },
   "source": [
    "De nauwkeurigheid van het netwerk is na de training behoorlijk. De fout is wel nog groot."
   ]
  },
  {
   "cell_type": "markdown",
   "metadata": {
    "colab_type": "text",
    "id": "9p0qVfZoH268"
   },
   "source": [
    "<div style='color: #690027;' markdown=\"1\">\n",
    "    <h3>3.3 Werking van het model</h3> \n",
    "</div>"
   ]
  },
  {
   "cell_type": "markdown",
   "metadata": {
    "colab_type": "text",
    "id": "ggYSPWcJH27F"
   },
   "source": [
    "Door de volgende code-cel uit te voeren, neem je twee datapunten uit de trainingset. Eerst wordt ervoor gezorgd dat je werkt met het juiste formaat."
   ]
  },
  {
   "cell_type": "code",
   "execution_count": null,
   "metadata": {
    "colab": {},
    "colab_type": "code",
    "id": "y21vjqHHH27G",
    "scrolled": true
   },
   "outputs": [],
   "source": [
    "voorbeeld1 = train_images[4]\n",
    "voorbeeld2 = train_images[100]\n",
    "# labels\n",
    "print(train_labels[4], train_labels[100]) "
   ]
  },
  {
   "cell_type": "markdown",
   "metadata": {
    "colab_type": "text",
    "id": "ggYSPWcJH27F"
   },
   "source": [
    "Je zorgt ervoor dat je met het juiste formaat werkt."
   ]
  },
  {
   "cell_type": "code",
   "execution_count": null,
   "metadata": {
    "colab": {},
    "colab_type": "code",
    "id": "y21vjqHHH27G"
   },
   "outputs": [],
   "source": [
    "# datapunten voorbereiden\n",
    "# normalisatie is reeds gebeurd\n",
    "voorbeeld1 = voorbeeld1.reshape((1, 28, 28, 1)) \n",
    "voorbeeld2 = voorbeeld2.reshape((1, 28, 28, 1)) "
   ]
  },
  {
   "cell_type": "markdown",
   "metadata": {
    "colab_type": "text",
    "id": "Olx-XYCTQMoD"
   },
   "source": [
    "De methode `predict()` geeft een array terug waarin staat hoe zeker het model is dat het aangeboden datapunt een 0, een 1, een 2, enz. is, in die volgorde. Die zekerheden worden uitgedrukt in procent."
   ]
  },
  {
   "cell_type": "code",
   "execution_count": null,
   "metadata": {
    "colab": {},
    "colab_type": "code",
    "id": "y21vjqHHH27G"
   },
   "outputs": [],
   "source": [
    "# testen\n",
    "network.predict(voorbeeld1)"
   ]
  },
  {
   "cell_type": "code",
   "execution_count": null,
   "metadata": {
    "colab": {},
    "colab_type": "code",
    "id": "y21vjqHHH27G"
   },
   "outputs": [],
   "source": [
    "# testen\n",
    "network.predict(voorbeeld2)"
   ]
  },
  {
   "cell_type": "markdown",
   "metadata": {
    "colab_type": "text",
    "id": "8N-aWC1qH27J"
   },
   "source": [
    "Vul in en verwijder wat niet past:\n",
    "\n",
    "Het model is het meest zeker dat het een .... is. <br>\n",
    "Die zekerheid is .... <br>\n",
    "Correct/Foutief geclassificeerd!"
   ]
  },
  {
   "cell_type": "markdown",
   "metadata": {
    "colab_type": "text",
    "id": "9p0qVfZoH268"
   },
   "source": [
    "<div style='color: #690027;' markdown=\"1\">\n",
    "    <h3>3.3 Prestatie van het model</h3> \n",
    "</div>"
   ]
  },
  {
   "cell_type": "markdown",
   "metadata": {
    "colab_type": "text",
    "id": "EZ0MKdxxH269"
   },
   "source": [
    "Het is niet omdat het model goed presteert op de trainingdata dat het ook goed presteert op ongeziene data. Je gaat dus na hoe de loss en accuracy zijn op de testdata. "
   ]
  },
  {
   "cell_type": "code",
   "execution_count": null,
   "metadata": {},
   "outputs": [],
   "source": [
    "test_loss, test_acc = network.evaluate(test_images, test_labels)"
   ]
  },
  {
   "cell_type": "code",
   "execution_count": null,
   "metadata": {
    "colab": {},
    "colab_type": "code",
    "id": "LEgqHxXuH27B",
    "scrolled": true
   },
   "outputs": [],
   "source": [
    "print('test_loss:', test_loss)\n",
    "print('test_acc:', test_acc)"
   ]
  },
  {
   "cell_type": "markdown",
   "metadata": {
    "colab_type": "text",
    "id": "cA1TzDmyH27D"
   },
   "source": [
    "Vergelijk de nauwkeurigheid op de testset met die op de trainingset. Generaliseert het model goed?"
   ]
  },
  {
   "cell_type": "markdown",
   "metadata": {
    "colab_type": "text",
    "id": "c6BMlIorH27J"
   },
   "source": [
    "<div style='color: #690027;' markdown=\"1\">\n",
    "    <h3>3.4 Model testen op eigen data</h3> \n",
    "</div>"
   ]
  },
  {
   "cell_type": "markdown",
   "metadata": {
    "colab_type": "text",
    "id": "yZiWIs6UH27K"
   },
   "source": [
    "Kan het model ook cijfers herkennen die we zelf schreven? Probeer het uit.\n",
    "Upload eerst de nodige files."
   ]
  },
  {
   "cell_type": "code",
   "execution_count": null,
   "metadata": {
    "colab": {},
    "colab_type": "code",
    "id": "CbTJ5tuNH27L"
   },
   "outputs": [],
   "source": [
    "# drie afbeeldingen van handgeschreven cijfers\n",
    "# 28 op 28 pixels, wit op donkere achtergrond\n",
    "# genormaliseerd\n",
    "zeven = np.loadtxt(\"../.images/IntroductieDeepLearning/zeven.dat\")       # ´loadtxt´ voor dat-file, ´load´ voor npy-file\n",
    "vier = np.loadtxt(\"../.images/IntroductieDeepLearning/vier.dat\")       \n",
    "twee = np.loadtxt(\"../.images/IntroductieDeepLearning/twee.dat\")"
   ]
  },
  {
   "cell_type": "code",
   "execution_count": null,
   "metadata": {},
   "outputs": [],
   "source": [
    "print(zeven)"
   ]
  },
  {
   "cell_type": "code",
   "execution_count": null,
   "metadata": {},
   "outputs": [],
   "source": [
    "print(np.min(zeven), np.max(zeven))"
   ]
  },
  {
   "cell_type": "code",
   "execution_count": null,
   "metadata": {
    "colab": {},
    "colab_type": "code",
    "id": "avODjfCnH27O"
   },
   "outputs": [],
   "source": [
    "plt.figure()\n",
    "\n",
    "plt.subplot(1,3,1)\n",
    "plt.imshow(zeven, cmap=\"gray\")\n",
    "plt.subplot(1,3,2)\n",
    "plt.imshow(vier, cmap=\"gray\")\n",
    "plt.subplot(1,3,3)\n",
    "plt.imshow(twee, cmap=\"gray\")\n",
    "\n",
    "plt.show()"
   ]
  },
  {
   "cell_type": "markdown",
   "metadata": {
    "colab_type": "text",
    "id": "i-fY52mGRHnc"
   },
   "source": [
    "Gelijken deze cijfers voldoende op die van de dataset?\n",
    "Waarom is dat van belang?"
   ]
  },
  {
   "cell_type": "markdown",
   "metadata": {
    "colab_type": "text",
    "id": "r08ffYbdRWB8"
   },
   "source": [
    "Antwoord:"
   ]
  },
  {
   "cell_type": "markdown",
   "metadata": {
    "colab_type": "text",
    "id": "vlz7HA0oH27Y"
   },
   "source": [
    "De datapunten hebben de vorm van matrices."
   ]
  },
  {
   "cell_type": "markdown",
   "metadata": {
    "colab_type": "text",
    "id": "eWA4CcZ9Rb1B"
   },
   "source": [
    "Bekijk hoe het model presteert op deze cijfers."
   ]
  },
  {
   "cell_type": "code",
   "execution_count": null,
   "metadata": {
    "colab": {},
    "colab_type": "code",
    "id": "WnCty1CzH27Z"
   },
   "outputs": [],
   "source": [
    "# data voorbereiden, reeds genormaliseerd\n",
    "zeven = zeven.reshape((1, 28, 28, 1))              # omvormen naar tensor die 1 vector bevat\n",
    "vier = vier.reshape((1, 28, 28, 1))\n",
    "twee = twee.reshape((1, 28, 28, 1))"
   ]
  },
  {
   "cell_type": "code",
   "execution_count": null,
   "metadata": {
    "colab": {},
    "colab_type": "code",
    "id": "S8ZBV0sfH27c",
    "scrolled": true
   },
   "outputs": [],
   "source": [
    "network.predict(zeven)"
   ]
  },
  {
   "cell_type": "code",
   "execution_count": null,
   "metadata": {
    "colab": {},
    "colab_type": "code",
    "id": "CscT6cRMH27g"
   },
   "outputs": [],
   "source": [
    "network.predict(vier)"
   ]
  },
  {
   "cell_type": "code",
   "execution_count": null,
   "metadata": {
    "colab": {},
    "colab_type": "code",
    "id": "heIUs8EKH27i"
   },
   "outputs": [],
   "source": [
    "network.predict(twee)"
   ]
  },
  {
   "cell_type": "markdown",
   "metadata": {
    "colab_type": "text",
    "id": "cMooSF5fH27l"
   },
   "source": [
    "Hoe presteert het model op deze zelfgeschreven cijfers?<br>\n",
    "Antwoord:"
   ]
  },
  {
   "cell_type": "markdown",
   "metadata": {
    "colab_type": "text",
    "id": "6cmCva41H27m"
   },
   "source": [
    "### Opdracht 3.1\n",
    "Schrijf zelf enkele cijfers en test uit of het model jouw handschrift leest!"
   ]
  },
  {
   "cell_type": "code",
   "execution_count": null,
   "metadata": {
    "colab": {},
    "colab_type": "code",
    "id": "qwkbex1KH27n"
   },
   "outputs": [],
   "source": []
  },
  {
   "cell_type": "markdown",
   "metadata": {
    "colab_type": "text",
    "id": "0jb9i6_KTNgM"
   },
   "source": [
    "Besluit: "
   ]
  },
  {
   "cell_type": "markdown",
   "metadata": {
    "colab_type": "text",
    "id": "8n8Q4hLlS-9I"
   },
   "source": [
    "<div style='color: #690027;' markdown=\"1\">\n",
    "    <h2>4. Op zoek naar een beter model</h2> \n",
    "</div>"
   ]
  },
  {
   "cell_type": "markdown",
   "metadata": {
    "colab_type": "text",
    "id": "59xkegNESV-j"
   },
   "source": [
    "### Opdracht 4.1\n",
    "Pas het aantal neuronen en het aantal epochs in de netwerk-architectuur aan om de prestaties van het netwerk te verbeteren. \n",
    "\n",
    "Wie haalt de beste nauwkeurigheid?"
   ]
  },
  {
   "cell_type": "markdown",
   "metadata": {
    "colab_type": "text",
    "id": "A3nP0DLOT-1Y"
   },
   "source": [
    "Tip: Het verschil tussen de training accuracy en de test accuracy is belangrijk. Als de training accuracy groter is dan de test accuracy, dan spreekt men van *overfitting*: het feit dat het model slechter gaat presteren op nieuwe data dan op de trainingdata."
   ]
  },
  {
   "cell_type": "code",
   "execution_count": null,
   "metadata": {
    "colab": {},
    "colab_type": "code",
    "id": "H705Wea3TRki"
   },
   "outputs": [],
   "source": []
  },
  {
   "cell_type": "markdown",
   "metadata": {
    "colab_type": "text",
    "id": "crc3gdj6Su6H"
   },
   "source": [
    "### Opdracht 4.2\n",
    "Test je model uit op je eigen cijfers."
   ]
  },
  {
   "cell_type": "code",
   "execution_count": null,
   "metadata": {
    "colab": {},
    "colab_type": "code",
    "id": "YZgHsA5xTSra"
   },
   "outputs": [],
   "source": []
  },
  {
   "cell_type": "markdown",
   "metadata": {
    "colab_type": "text",
    "id": "j8Xy53teToRW"
   },
   "source": [
    "<div style='color: #690027;' markdown=\"1\">\n",
    "    <h2>5. Evaluatie</h2> \n",
    "</div>"
   ]
  },
  {
   "cell_type": "markdown",
   "metadata": {
    "colab_type": "text",
    "id": "YO8Vr6nmTWwS"
   },
   "source": [
    "De beste nauwkeurigheid die mijn model haalt is ........ voor de trainingset, .... voor de validatieset en .... voor de testset."
   ]
  },
  {
   "cell_type": "markdown",
   "metadata": {
    "colab_type": "text",
    "id": "PFDfLgd9Tvcs"
   },
   "source": [
    "Wat vind je van deze opdracht?"
   ]
  },
  {
   "cell_type": "markdown",
   "metadata": {
    "colab_type": "text",
    "id": "4iGmXz6tT0TA"
   },
   "source": [
    "............."
   ]
  },
  {
   "cell_type": "markdown",
   "metadata": {
    "colab_type": "text",
    "id": "nK1hoS7lTGkr"
   },
   "source": [
    "<div>\n",
    "    <h2>Referentielijst</h2> \n",
    "</div>"
   ]
  },
  {
   "cell_type": "markdown",
   "metadata": {
    "colab_type": "text",
    "id": "9s5FpqrLH27r"
   },
   "source": [
    "[1] Chollet, F. (2018). *Deep learning with Python*. Manning publications co.<br>\n",
    "[2] Getting started with the Keras Sequential model. Geraadpleegd op 25 september 2019 via https://keras.io/getting-started/sequential-model-guide/."
   ]
  },
  {
   "cell_type": "markdown",
   "metadata": {
    "colab_type": "text",
    "id": "jXgXcxqbH27r"
   },
   "source": [
    "<img src=\"../.images/cclic.png\" alt=\"Banner\" align=\"left\" style=\"width:100px;\"/><br><br>\n",
    "Notebook KIKS, zie <a href=\"http://www.aiopschool.be\">AI op School</a>, van F. wyffels & N. Gesquière is in licentie gegeven volgens een <a href=\"http://creativecommons.org/licenses/by-nc-sa/4.0/\">Creative Commons Naamsvermelding-NietCommercieel-GelijkDelen 4.0 Internationaal-licentie</a>. "
   ]
  }
 ],
 "metadata": {
  "colab": {
   "collapsed_sections": [],
   "name": "MNIST_CONV.ipynb",
   "private_outputs": true,
   "provenance": []
  },
  "kernelspec": {
   "display_name": "Python 3",
   "language": "python",
   "name": "python3"
  },
  "language_info": {
   "codemirror_mode": {
    "name": "ipython",
    "version": 3
   },
   "file_extension": ".py",
   "mimetype": "text/x-python",
   "name": "python",
   "nbconvert_exporter": "python",
   "pygments_lexer": "ipython3",
   "version": "3.7.4"
  }
 },
 "nbformat": 4,
 "nbformat_minor": 1
}
