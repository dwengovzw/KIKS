{
 "cells": [
  {
   "cell_type": "markdown",
   "metadata": {},
   "source": [
    "<img src=\"../.images/logosnb.png\" alt=\"Banner\" style=\"width: 1100px;\"/>"
   ]
  },
  {
   "cell_type": "markdown",
   "metadata": {},
   "source": [
    "<div style='color: #690027;' markdown=\"1\">\n",
    "    <h1>CONVOLUTIE: DE BEWERKING</h1> \n",
    "</div>"
   ]
  },
  {
   "cell_type": "markdown",
   "metadata": {},
   "source": [
    "<div class=\"alert alert-box alert-success\">\n",
    "Bij een convolutie laat men een filter over een afbeelding 'glijden'. De convolutie is een wiskundige bewerking: de elementen van de filter en de elementen van de matrix van de afbeelding worden elementgewijs vermenigvuldigd en erna worden deze producten opgeteld.<br>\n",
    "In deze notebook wordt uitgelegd hoe dat precies in zijn werk gaat.\n",
    "</div>"
   ]
  },
  {
   "cell_type": "markdown",
   "metadata": {},
   "source": [
    "## Importeren van de nodige modules"
   ]
  },
  {
   "cell_type": "code",
   "execution_count": null,
   "metadata": {},
   "outputs": [],
   "source": [
    "import numpy as np\n",
    "import matplotlib.pyplot as plt\n",
    "import scipy.signal"
   ]
  },
  {
   "cell_type": "markdown",
   "metadata": {},
   "source": [
    "<div style='color: #690027;' markdown=\"1\">\n",
    "    <h1>1. De filter</h1> \n",
    "</div>"
   ]
  },
  {
   "cell_type": "markdown",
   "metadata": {},
   "source": [
    "Je kan een convolutie toepassen op een afbeelding in grijswaarden of op een in kleur.<br> \n",
    "Bij een afbeelding in grijswaarden wordt de afbeelding gerepresenteerd door een matrix en de filter ook. In deze notebook gebruiken we 3x3-matrices voor de filter.<br>\n",
    "Bij een afbeelding in kleur wordt de afbeelding gerepresenteerd door een 3D-tensor en de filter ook. In deze notebook gebruiken we 3x3x3-tensoren voor de filter. <br>\n",
    "Doorgaans zullen we ons wel beperken tot afbeelden in grijswaarden."
   ]
  },
  {
   "cell_type": "markdown",
   "metadata": {},
   "source": [
    "### Voorbeeld\n",
    "Beschouw een Sobelfilter voor randdetectie:  $\\begin{bmatrix} 1 & 2 & 1 \\\\ 0 & 0 & 0 \\\\ -1 & -2 & -1   \\end{bmatrix}$. <br> "
   ]
  },
  {
   "cell_type": "markdown",
   "metadata": {},
   "source": [
    "Voer de filter in in Python om de convolutie te kunnen uitvoeren:"
   ]
  },
  {
   "cell_type": "code",
   "execution_count": null,
   "metadata": {},
   "outputs": [],
   "source": [
    "filter = np.array([[1, 2, 1], [0, 0, 0], [-1, -2, -1]]) "
   ]
  },
  {
   "cell_type": "markdown",
   "metadata": {},
   "source": [
    "Voor convolutie heb je ook een afbeelding nodig:"
   ]
  },
  {
   "cell_type": "code",
   "execution_count": null,
   "metadata": {},
   "outputs": [],
   "source": [
    "afbeelding =  np.array([[0, 0, 75, 80, 80], [0, 75, 80, 80, 80], [0, 75, 80, 80, 80], [0, 70, 75, 80, 80], [0, 0, 0, 0, 0]]) \n",
    "print(afbeelding)\n",
    "plt.imshow(afbeelding, vmin=0, vmax=255, cmap=\"gray\")"
   ]
  },
  {
   "cell_type": "code",
   "execution_count": null,
   "metadata": {},
   "outputs": [],
   "source": [
    "afbeelding_gefilterd = scipy.signal.convolve2d(afbeelding, filter, \"valid\")\n",
    "print(afbeelding_gefilterd)"
   ]
  },
  {
   "cell_type": "code",
   "execution_count": null,
   "metadata": {},
   "outputs": [],
   "source": [
    "plt.imshow(afbeelding_gefilterd, vmin=0, vmax=255, cmap=\"gray\")"
   ]
  },
  {
   "cell_type": "markdown",
   "metadata": {},
   "source": [
    "In de figuur hieronder zie je de filter over de afbeelding glijden. Maar voor je dat kunt doen, moet je eerst **de rijen en de kolommen 'flippen'**. <br><br>\n",
    "Neem $\\begin{bmatrix} 1 & 2 & 1 \\\\ 0 & 0 & 0 \\\\ -1 & -2 & -1   \\end{bmatrix}$.\n",
    "Je verwisselt de eerste en de derde rij en vervolgens verwissel je de eerste en de derde kolom.<br><br>\n",
    "Je bekomt de matrix: $\\begin{bmatrix} -1 & -2 & -1 \\\\ 0 & 0 & 0 \\\\ 1 & 2 & 1   \\end{bmatrix}$.\n",
    "Je ziet de matrix van de afbeelding en de matrix van de filter in onderstaande figuur. "
   ]
  },
  {
   "cell_type": "markdown",
   "metadata": {},
   "source": [
    "<img src=\"../.images/IntroductieDeepLearning/Sobelfilter.gif\" alt=\"Banner\" style=\"width: 600px;\"/>\n",
    "<center>Figuur 1: Convolutie. De filter glijdt over de afbeelding.<br>Gif van Rob Robinson, MLNotebook, https://mlnotebook.github.io/post/CNN1/ [1].</center>"
   ]
  },
  {
   "cell_type": "markdown",
   "metadata": {},
   "source": [
    "<div style='color: #690027;' markdown=\"1\">\n",
    "    <h1>2. De bewerking</h1> \n",
    "</div>"
   ]
  },
  {
   "cell_type": "markdown",
   "metadata": {},
   "source": [
    "Er rest je niets anders dan de overeenkomstige elementen van de matrix en de filter op elke positie met elkaar te vermenigvuldigen en erna alle producten op te tellen. <br>\n",
    "Bv. in de eerste positie: 0.(-1) + 0.(-2) + 75.(-1) + 0.0 + 75.0 + 80.0 + 0.1 + 75.2 + 80.1 = 155.<br>"
   ]
  },
  {
   "cell_type": "markdown",
   "metadata": {},
   "source": [
    "<img src=\"../.images/IntroductieDeepLearning/convber1.png\" alt=\"Banner\" style=\"width: 800px;\"/>\n",
    "<img src=\"../.images/IntroductieDeepLearning/convber2bis.png\" alt=\"Banner\" style=\"width: 800px;\"/>\n",
    "<br>\n",
    "<center>Figuur 1: Convolutie. De filter glijdt over de afbeelding.</center>"
   ]
  },
  {
   "cell_type": "markdown",
   "metadata": {},
   "source": [
    "### Opdracht 2.1\n",
    "Controleer nu zelf de andere 8 getallen."
   ]
  },
  {
   "cell_type": "markdown",
   "metadata": {},
   "source": [
    "<div class=\"alert alert-box alert-info\">\n",
    "Het resultaat van de convolutie is een matrix die kleiner is dan de matrix van de afbeelding. Je gaat van een matrix van 5x5 naar een resultaat van 3x3.<br>\n",
    "</div>"
   ]
  },
  {
   "cell_type": "markdown",
   "metadata": {},
   "source": [
    "<div class=\"alert alert-box alert-success\">\n",
    "Er bestaan technieken om de grootte van de matrix te behouden na convolutie. We zullen er in deze notebook niet verder op ingaan omdat in het neuraal netwerk van KIKS deze technieken niet worden toegepast. De waarde van de laatste parameter van de functie convolve2d() staat op \"valid\", wat betekent dat de grootte van de matrix niet behouden moet blijven. \n",
    "</div>"
   ]
  },
  {
   "cell_type": "markdown",
   "metadata": {},
   "source": [
    "<div style='color: #690027;' markdown=\"1\">\n",
    "    <h1>3. Oefening</h1> \n",
    "</div>"
   ]
  },
  {
   "cell_type": "markdown",
   "metadata": {},
   "source": [
    "Beschouw een filter om schuine lijnen met een hoek van 45° te detecteren:  $\\begin{bmatrix} -1 & -1 & 2 \\\\ -1 & 2 & -1 \\\\ 2 & -1 & -1\\end{bmatrix}$. <br> "
   ]
  },
  {
   "cell_type": "markdown",
   "metadata": {},
   "source": [
    "-  Geef de filter in in Python.\n",
    "-  Laad het bestand *prent.npy* in dat je vindt in de volgende map:  ../.images/IntroductieDeepLearning\n",
    "-  Pas de filter toe op op deze afbeelding met de juiste instructie in Python en bekijk de *afbeelding* van het resultaat.\n",
    "-  Laad het bestand *boom.npy* in dat je vindt in de volgende map:  ../.images/IntroductieDeepLearning\n",
    "-  Pas de filter toe op deze afbeelding met de juiste instructie in Python en bekijk de *waarden in de matrix* van het resultaat. \n",
    "-  Reken enkele van deze waarden zelf na."
   ]
  },
  {
   "cell_type": "markdown",
   "metadata": {},
   "source": [
    "<div style='color: #690027;' markdown=\"1\">\n",
    "    <h1>4. Convolutie op een foto in kleur</h1> \n",
    "</div>"
   ]
  },
  {
   "cell_type": "markdown",
   "metadata": {},
   "source": [
    "Zoek op op het internet hoe dat in zijn werk gaat."
   ]
  },
  {
   "cell_type": "markdown",
   "metadata": {},
   "source": [
    "<div>\n",
    "    <h2>Referentielijst</h2> \n",
    "</div>"
   ]
  },
  {
   "cell_type": "markdown",
   "metadata": {},
   "source": [
    "[1] Afbeelding van Rob Robinson, MLNotebook. Geraadpleegd op 19 mei 2019 via https://mlnotebook.github.io."
   ]
  },
  {
   "cell_type": "markdown",
   "metadata": {},
   "source": [
    "<img src=\"../.images/cclic.png\" alt=\"Banner\" align=\"left\" style=\"width:100px;\"/><br><br>\n",
    "Notebook KIKS, zie <a href=\"http://www.aiopschool.be\">AI op School</a>, van F. wyffels & N. Gesquière is in licentie gegeven volgens een <a href=\"http://creativecommons.org/licenses/by-nc-sa/4.0/\">Creative Commons Naamsvermelding-NietCommercieel-GelijkDelen 4.0 Internationaal-licentie</a>. "
   ]
  }
 ],
 "metadata": {
  "kernelspec": {
   "display_name": "Python 3",
   "language": "python",
   "name": "python3"
  },
  "language_info": {
   "codemirror_mode": {
    "name": "ipython",
    "version": 3
   },
   "file_extension": ".py",
   "mimetype": "text/x-python",
   "name": "python",
   "nbconvert_exporter": "python",
   "pygments_lexer": "ipython3",
   "version": "3.6.4"
  }
 },
 "nbformat": 4,
 "nbformat_minor": 2
}
