{
 "cells": [
  {
   "cell_type": "markdown",
   "metadata": {},
   "source": [
    "<img src=\"../.images/logosnb.png\" alt=\"Banner\" style=\"width:800px;\"/>"
   ]
  },
  {
   "cell_type": "markdown",
   "metadata": {},
   "source": [
    "<div style='color: #690027;' markdown=\"1\">\n",
    "    <h1>MULTIKLASSENCLASSIFICATIE VOOR 2 KLASSEN MET NEURAAL NETWERK MET TWEE VERBORGEN LAGEN</h1> \n",
    "</div>"
   ]
  },
  {
   "cell_type": "markdown",
   "metadata": {},
   "source": [
    "<div class=\"alert alert-box alert-success\">\n",
    "In deze notebook bouw je een neuraal netwerk op met de functionaliteiten van de Python-module Keras. Het probleem is er een van <b>multiklassenclassificatie</b>: gevens onderverdelen in twee klassen, die niet lineair scheidbaar zijn.<br> \n",
    "In het netwerk gebruik je <b>activatiefuncties</b>, zoals de ReLU- en de sigmoïde-functie. <br>\n",
    "Je zal gebruik maken van <b>twee verborgen lagen</b>.\n",
    "</div>"
   ]
  },
  {
   "cell_type": "markdown",
   "metadata": {},
   "source": [
    "### De nodige modules importeren"
   ]
  },
  {
   "cell_type": "markdown",
   "metadata": {},
   "source": [
    "In deze notebook bouw je een *Sequential model* op met Keras. Dat is een model dat bestaat uit *aaneengeschakelde lagen*. \n",
    "Je zal werken met een input layer, een output layer en ertussen **twee hidden layers**.<br>\n",
    "Je zal dus het model en de lagen moeten kunnen aanmaken."
   ]
  },
  {
   "cell_type": "code",
   "execution_count": 1,
   "metadata": {},
   "outputs": [
    {
     "name": "stderr",
     "output_type": "stream",
     "text": [
      "Using TensorFlow backend.\n"
     ]
    }
   ],
   "source": [
    "import pandas as pd\n",
    "\n",
    "import matplotlib.pyplot as plt\n",
    "import numpy as np\n",
    "\n",
    "from keras import models\n",
    "from keras import layers\n",
    "from keras import optimizers\n",
    "from keras.utils import to_categorical"
   ]
  },
  {
   "cell_type": "markdown",
   "metadata": {},
   "source": [
    "Je gaat aan de slag met 60 gegeven punten in het vlak. Sommige punten zijn blauw, andere zijn groen. De punten vertegenwoordigen twee klassen. <br> Van elk punt is de coördinaat en de kleur gegeven.<br>\n",
    "Het is de bedoeling dat de groene en blauwe punten van elkaar gescheiden worden. "
   ]
  },
  {
   "cell_type": "markdown",
   "metadata": {},
   "source": [
    "<div style='color: #690027;' markdown=\"1\">\n",
    "    <h2>1. Inlezen van de data</h2> \n",
    "</div>"
   ]
  },
  {
   "cell_type": "markdown",
   "metadata": {},
   "source": [
    "Lees met de module `pandas` de dataset in."
   ]
  },
  {
   "cell_type": "code",
   "execution_count": 2,
   "metadata": {},
   "outputs": [],
   "source": [
    "punten = pd.read_csv(\"parabolen.dat\")  # in te lezen tabel heeft geen hoofding"
   ]
  },
  {
   "cell_type": "markdown",
   "metadata": {},
   "source": [
    "<div style='color: #690027;' markdown=\"1\">\n",
    "    <h2>2. Tonen van de ingelezen data</h2> \n",
    "</div>"
   ]
  },
  {
   "cell_type": "markdown",
   "metadata": {},
   "source": [
    "Bekijk de data door de instructie `punten` uit te voeren. De dataset bestaat uit de x- en y-coördinaat van de punten en de kleur van elk punt. <br>\n",
    "De x- en y-coördinaat zijn kenmerken, de kleur is een label. <br> Omdat er twee soorten labels zijn, zegt men dat de punten verdeeld zijn over **twee klassen**."
   ]
  },
  {
   "cell_type": "code",
   "execution_count": 3,
   "metadata": {},
   "outputs": [
    {
     "data": {
      "text/html": [
       "<div>\n",
       "<style scoped>\n",
       "    .dataframe tbody tr th:only-of-type {\n",
       "        vertical-align: middle;\n",
       "    }\n",
       "\n",
       "    .dataframe tbody tr th {\n",
       "        vertical-align: top;\n",
       "    }\n",
       "\n",
       "    .dataframe thead th {\n",
       "        text-align: right;\n",
       "    }\n",
       "</style>\n",
       "<table border=\"1\" class=\"dataframe\">\n",
       "  <thead>\n",
       "    <tr style=\"text-align: right;\">\n",
       "      <th></th>\n",
       "      <th>x</th>\n",
       "      <th>y</th>\n",
       "      <th>kleur</th>\n",
       "    </tr>\n",
       "  </thead>\n",
       "  <tbody>\n",
       "    <tr>\n",
       "      <td>0</td>\n",
       "      <td>-20</td>\n",
       "      <td>900</td>\n",
       "      <td>blauw</td>\n",
       "    </tr>\n",
       "    <tr>\n",
       "      <td>1</td>\n",
       "      <td>-18</td>\n",
       "      <td>824</td>\n",
       "      <td>blauw</td>\n",
       "    </tr>\n",
       "    <tr>\n",
       "      <td>2</td>\n",
       "      <td>-16</td>\n",
       "      <td>756</td>\n",
       "      <td>blauw</td>\n",
       "    </tr>\n",
       "    <tr>\n",
       "      <td>3</td>\n",
       "      <td>-14</td>\n",
       "      <td>696</td>\n",
       "      <td>blauw</td>\n",
       "    </tr>\n",
       "    <tr>\n",
       "      <td>4</td>\n",
       "      <td>-12</td>\n",
       "      <td>644</td>\n",
       "      <td>blauw</td>\n",
       "    </tr>\n",
       "    <tr>\n",
       "      <td>5</td>\n",
       "      <td>-10</td>\n",
       "      <td>600</td>\n",
       "      <td>blauw</td>\n",
       "    </tr>\n",
       "    <tr>\n",
       "      <td>6</td>\n",
       "      <td>-8</td>\n",
       "      <td>564</td>\n",
       "      <td>blauw</td>\n",
       "    </tr>\n",
       "    <tr>\n",
       "      <td>7</td>\n",
       "      <td>-6</td>\n",
       "      <td>536</td>\n",
       "      <td>blauw</td>\n",
       "    </tr>\n",
       "    <tr>\n",
       "      <td>8</td>\n",
       "      <td>-4</td>\n",
       "      <td>516</td>\n",
       "      <td>blauw</td>\n",
       "    </tr>\n",
       "    <tr>\n",
       "      <td>9</td>\n",
       "      <td>-2</td>\n",
       "      <td>504</td>\n",
       "      <td>blauw</td>\n",
       "    </tr>\n",
       "    <tr>\n",
       "      <td>10</td>\n",
       "      <td>0</td>\n",
       "      <td>500</td>\n",
       "      <td>blauw</td>\n",
       "    </tr>\n",
       "    <tr>\n",
       "      <td>11</td>\n",
       "      <td>2</td>\n",
       "      <td>504</td>\n",
       "      <td>blauw</td>\n",
       "    </tr>\n",
       "    <tr>\n",
       "      <td>12</td>\n",
       "      <td>4</td>\n",
       "      <td>516</td>\n",
       "      <td>blauw</td>\n",
       "    </tr>\n",
       "    <tr>\n",
       "      <td>13</td>\n",
       "      <td>6</td>\n",
       "      <td>536</td>\n",
       "      <td>blauw</td>\n",
       "    </tr>\n",
       "    <tr>\n",
       "      <td>14</td>\n",
       "      <td>8</td>\n",
       "      <td>564</td>\n",
       "      <td>blauw</td>\n",
       "    </tr>\n",
       "    <tr>\n",
       "      <td>15</td>\n",
       "      <td>10</td>\n",
       "      <td>600</td>\n",
       "      <td>blauw</td>\n",
       "    </tr>\n",
       "    <tr>\n",
       "      <td>16</td>\n",
       "      <td>12</td>\n",
       "      <td>644</td>\n",
       "      <td>blauw</td>\n",
       "    </tr>\n",
       "    <tr>\n",
       "      <td>17</td>\n",
       "      <td>14</td>\n",
       "      <td>696</td>\n",
       "      <td>blauw</td>\n",
       "    </tr>\n",
       "    <tr>\n",
       "      <td>18</td>\n",
       "      <td>16</td>\n",
       "      <td>756</td>\n",
       "      <td>blauw</td>\n",
       "    </tr>\n",
       "    <tr>\n",
       "      <td>19</td>\n",
       "      <td>18</td>\n",
       "      <td>824</td>\n",
       "      <td>blauw</td>\n",
       "    </tr>\n",
       "    <tr>\n",
       "      <td>20</td>\n",
       "      <td>20</td>\n",
       "      <td>900</td>\n",
       "      <td>blauw</td>\n",
       "    </tr>\n",
       "    <tr>\n",
       "      <td>21</td>\n",
       "      <td>22</td>\n",
       "      <td>984</td>\n",
       "      <td>blauw</td>\n",
       "    </tr>\n",
       "    <tr>\n",
       "      <td>22</td>\n",
       "      <td>24</td>\n",
       "      <td>1076</td>\n",
       "      <td>blauw</td>\n",
       "    </tr>\n",
       "    <tr>\n",
       "      <td>23</td>\n",
       "      <td>26</td>\n",
       "      <td>1176</td>\n",
       "      <td>blauw</td>\n",
       "    </tr>\n",
       "    <tr>\n",
       "      <td>24</td>\n",
       "      <td>28</td>\n",
       "      <td>1284</td>\n",
       "      <td>blauw</td>\n",
       "    </tr>\n",
       "    <tr>\n",
       "      <td>25</td>\n",
       "      <td>30</td>\n",
       "      <td>1400</td>\n",
       "      <td>blauw</td>\n",
       "    </tr>\n",
       "    <tr>\n",
       "      <td>26</td>\n",
       "      <td>32</td>\n",
       "      <td>1524</td>\n",
       "      <td>blauw</td>\n",
       "    </tr>\n",
       "    <tr>\n",
       "      <td>27</td>\n",
       "      <td>34</td>\n",
       "      <td>1656</td>\n",
       "      <td>blauw</td>\n",
       "    </tr>\n",
       "    <tr>\n",
       "      <td>28</td>\n",
       "      <td>36</td>\n",
       "      <td>1796</td>\n",
       "      <td>blauw</td>\n",
       "    </tr>\n",
       "    <tr>\n",
       "      <td>29</td>\n",
       "      <td>38</td>\n",
       "      <td>1944</td>\n",
       "      <td>blauw</td>\n",
       "    </tr>\n",
       "    <tr>\n",
       "      <td>30</td>\n",
       "      <td>-30</td>\n",
       "      <td>700</td>\n",
       "      <td>groen</td>\n",
       "    </tr>\n",
       "    <tr>\n",
       "      <td>31</td>\n",
       "      <td>-27</td>\n",
       "      <td>529</td>\n",
       "      <td>groen</td>\n",
       "    </tr>\n",
       "    <tr>\n",
       "      <td>32</td>\n",
       "      <td>-24</td>\n",
       "      <td>376</td>\n",
       "      <td>groen</td>\n",
       "    </tr>\n",
       "    <tr>\n",
       "      <td>33</td>\n",
       "      <td>-21</td>\n",
       "      <td>241</td>\n",
       "      <td>groen</td>\n",
       "    </tr>\n",
       "    <tr>\n",
       "      <td>34</td>\n",
       "      <td>-18</td>\n",
       "      <td>124</td>\n",
       "      <td>groen</td>\n",
       "    </tr>\n",
       "    <tr>\n",
       "      <td>35</td>\n",
       "      <td>-15</td>\n",
       "      <td>25</td>\n",
       "      <td>groen</td>\n",
       "    </tr>\n",
       "    <tr>\n",
       "      <td>36</td>\n",
       "      <td>-12</td>\n",
       "      <td>-56</td>\n",
       "      <td>groen</td>\n",
       "    </tr>\n",
       "    <tr>\n",
       "      <td>37</td>\n",
       "      <td>-9</td>\n",
       "      <td>-119</td>\n",
       "      <td>groen</td>\n",
       "    </tr>\n",
       "    <tr>\n",
       "      <td>38</td>\n",
       "      <td>-6</td>\n",
       "      <td>-164</td>\n",
       "      <td>groen</td>\n",
       "    </tr>\n",
       "    <tr>\n",
       "      <td>39</td>\n",
       "      <td>-3</td>\n",
       "      <td>-191</td>\n",
       "      <td>groen</td>\n",
       "    </tr>\n",
       "    <tr>\n",
       "      <td>40</td>\n",
       "      <td>0</td>\n",
       "      <td>-200</td>\n",
       "      <td>groen</td>\n",
       "    </tr>\n",
       "    <tr>\n",
       "      <td>41</td>\n",
       "      <td>3</td>\n",
       "      <td>-191</td>\n",
       "      <td>groen</td>\n",
       "    </tr>\n",
       "    <tr>\n",
       "      <td>42</td>\n",
       "      <td>6</td>\n",
       "      <td>-164</td>\n",
       "      <td>groen</td>\n",
       "    </tr>\n",
       "    <tr>\n",
       "      <td>43</td>\n",
       "      <td>9</td>\n",
       "      <td>-119</td>\n",
       "      <td>groen</td>\n",
       "    </tr>\n",
       "    <tr>\n",
       "      <td>44</td>\n",
       "      <td>12</td>\n",
       "      <td>-56</td>\n",
       "      <td>groen</td>\n",
       "    </tr>\n",
       "    <tr>\n",
       "      <td>45</td>\n",
       "      <td>15</td>\n",
       "      <td>25</td>\n",
       "      <td>groen</td>\n",
       "    </tr>\n",
       "    <tr>\n",
       "      <td>46</td>\n",
       "      <td>18</td>\n",
       "      <td>124</td>\n",
       "      <td>groen</td>\n",
       "    </tr>\n",
       "    <tr>\n",
       "      <td>47</td>\n",
       "      <td>21</td>\n",
       "      <td>241</td>\n",
       "      <td>groen</td>\n",
       "    </tr>\n",
       "    <tr>\n",
       "      <td>48</td>\n",
       "      <td>24</td>\n",
       "      <td>376</td>\n",
       "      <td>groen</td>\n",
       "    </tr>\n",
       "    <tr>\n",
       "      <td>49</td>\n",
       "      <td>27</td>\n",
       "      <td>529</td>\n",
       "      <td>groen</td>\n",
       "    </tr>\n",
       "    <tr>\n",
       "      <td>50</td>\n",
       "      <td>30</td>\n",
       "      <td>700</td>\n",
       "      <td>groen</td>\n",
       "    </tr>\n",
       "    <tr>\n",
       "      <td>51</td>\n",
       "      <td>33</td>\n",
       "      <td>889</td>\n",
       "      <td>groen</td>\n",
       "    </tr>\n",
       "    <tr>\n",
       "      <td>52</td>\n",
       "      <td>36</td>\n",
       "      <td>1096</td>\n",
       "      <td>groen</td>\n",
       "    </tr>\n",
       "    <tr>\n",
       "      <td>53</td>\n",
       "      <td>39</td>\n",
       "      <td>1321</td>\n",
       "      <td>groen</td>\n",
       "    </tr>\n",
       "    <tr>\n",
       "      <td>54</td>\n",
       "      <td>42</td>\n",
       "      <td>1564</td>\n",
       "      <td>groen</td>\n",
       "    </tr>\n",
       "    <tr>\n",
       "      <td>55</td>\n",
       "      <td>45</td>\n",
       "      <td>1825</td>\n",
       "      <td>groen</td>\n",
       "    </tr>\n",
       "    <tr>\n",
       "      <td>56</td>\n",
       "      <td>48</td>\n",
       "      <td>2104</td>\n",
       "      <td>groen</td>\n",
       "    </tr>\n",
       "    <tr>\n",
       "      <td>57</td>\n",
       "      <td>51</td>\n",
       "      <td>2401</td>\n",
       "      <td>groen</td>\n",
       "    </tr>\n",
       "    <tr>\n",
       "      <td>58</td>\n",
       "      <td>54</td>\n",
       "      <td>2716</td>\n",
       "      <td>groen</td>\n",
       "    </tr>\n",
       "    <tr>\n",
       "      <td>59</td>\n",
       "      <td>57</td>\n",
       "      <td>3049</td>\n",
       "      <td>groen</td>\n",
       "    </tr>\n",
       "  </tbody>\n",
       "</table>\n",
       "</div>"
      ],
      "text/plain": [
       "     x     y  kleur\n",
       "0  -20   900  blauw\n",
       "1  -18   824  blauw\n",
       "2  -16   756  blauw\n",
       "3  -14   696  blauw\n",
       "4  -12   644  blauw\n",
       "5  -10   600  blauw\n",
       "6   -8   564  blauw\n",
       "7   -6   536  blauw\n",
       "8   -4   516  blauw\n",
       "9   -2   504  blauw\n",
       "10   0   500  blauw\n",
       "11   2   504  blauw\n",
       "12   4   516  blauw\n",
       "13   6   536  blauw\n",
       "14   8   564  blauw\n",
       "15  10   600  blauw\n",
       "16  12   644  blauw\n",
       "17  14   696  blauw\n",
       "18  16   756  blauw\n",
       "19  18   824  blauw\n",
       "20  20   900  blauw\n",
       "21  22   984  blauw\n",
       "22  24  1076  blauw\n",
       "23  26  1176  blauw\n",
       "24  28  1284  blauw\n",
       "25  30  1400  blauw\n",
       "26  32  1524  blauw\n",
       "27  34  1656  blauw\n",
       "28  36  1796  blauw\n",
       "29  38  1944  blauw\n",
       "30 -30   700  groen\n",
       "31 -27   529  groen\n",
       "32 -24   376  groen\n",
       "33 -21   241  groen\n",
       "34 -18   124  groen\n",
       "35 -15    25  groen\n",
       "36 -12   -56  groen\n",
       "37  -9  -119  groen\n",
       "38  -6  -164  groen\n",
       "39  -3  -191  groen\n",
       "40   0  -200  groen\n",
       "41   3  -191  groen\n",
       "42   6  -164  groen\n",
       "43   9  -119  groen\n",
       "44  12   -56  groen\n",
       "45  15    25  groen\n",
       "46  18   124  groen\n",
       "47  21   241  groen\n",
       "48  24   376  groen\n",
       "49  27   529  groen\n",
       "50  30   700  groen\n",
       "51  33   889  groen\n",
       "52  36  1096  groen\n",
       "53  39  1321  groen\n",
       "54  42  1564  groen\n",
       "55  45  1825  groen\n",
       "56  48  2104  groen\n",
       "57  51  2401  groen\n",
       "58  54  2716  groen\n",
       "59  57  3049  groen"
      ]
     },
     "execution_count": 3,
     "metadata": {},
     "output_type": "execute_result"
    }
   ],
   "source": [
    "punten"
   ]
  },
  {
   "cell_type": "markdown",
   "metadata": {},
   "source": [
    "Deze tabel is een tabel met 60 rijen en 3 kolommen: er zijn immers 60 punten, 2 kenmerken en 1 label. <br><br>\n",
    "De kenmerken:\n",
    "- eerste kolom: x-coördinaat; \n",
    "- tweede kolom: y-coördinaat.\n",
    "\n",
    "Het label:\n",
    "- derde kolom: kleur.\n",
    "\n"
   ]
  },
  {
   "cell_type": "markdown",
   "metadata": {},
   "source": [
    "<div class=\"alert alert-box alert-info\">\n",
    "In machinaal leren worden twee kenmerken doorgaans weergegeven met x1 en x2 en het label met y.\n",
    "</div>"
   ]
  },
  {
   "cell_type": "markdown",
   "metadata": {},
   "source": [
    "<div style='color: #690027;' markdown=\"1\">\n",
    "    <h2>3. Onderzoeken of de punten van elkaar gescheiden kunnen worden</h2> \n",
    "</div>"
   ]
  },
  {
   "cell_type": "markdown",
   "metadata": {},
   "source": [
    "Of punten scheidbaar zijn, zie je het best op een grafiek. "
   ]
  },
  {
   "cell_type": "markdown",
   "metadata": {},
   "source": [
    "Om de data te visualiseren, heb je de x- en y-coördinaat, dus de kenmerken x1 en x2, van de punten nodig.<br>\n",
    "Daarnaast moet je ook rekening houden met de kleur."
   ]
  },
  {
   "cell_type": "markdown",
   "metadata": {},
   "source": [
    "<div style='color: #690027;' markdown=\"1\">\n",
    "    <h3>3.1 Verschillende soorten data opslaan in verschillende NumPy arrrays</h3> \n",
    "</div>"
   ]
  },
  {
   "cell_type": "code",
   "execution_count": 4,
   "metadata": {},
   "outputs": [
    {
     "name": "stderr",
     "output_type": "stream",
     "text": [
      "C:\\Users\\Administrator\\Anaconda3\\lib\\site-packages\\ipykernel_launcher.py:9: SettingWithCopyWarning: \n",
      "A value is trying to be set on a copy of a slice from a DataFrame\n",
      "\n",
      "See the caveats in the documentation: http://pandas.pydata.org/pandas-docs/stable/user_guide/indexing.html#returning-a-view-versus-a-copy\n",
      "  if __name__ == '__main__':\n",
      "C:\\Users\\Administrator\\Anaconda3\\lib\\site-packages\\ipykernel_launcher.py:10: SettingWithCopyWarning: \n",
      "A value is trying to be set on a copy of a slice from a DataFrame\n",
      "\n",
      "See the caveats in the documentation: http://pandas.pydata.org/pandas-docs/stable/user_guide/indexing.html#returning-a-view-versus-a-copy\n",
      "  # Remove the CWD from sys.path while we load stuff.\n"
     ]
    }
   ],
   "source": [
    "x1 = punten[\"x\"]\n",
    "x2 = punten[\"y\"]\n",
    "y = punten[\"kleur\"]\n",
    "\n",
    "x1 = np.array(x1)\n",
    "x2 = np.array(x2)\n",
    "\n",
    "# labels numeriek weergeven\n",
    "y[y == 'blauw'] = 0\n",
    "y[y == 'groen'] = 1\n",
    "\n",
    "# te onthouden voor testset\n",
    "mean1 = np.mean(x1)\n",
    "mean2 = np.mean(x2)\n",
    "std1 = np.std(x1)\n",
    "std2 = np.std(x2)\n",
    "\n",
    "# datapunten standaardiseren\n",
    "x1 = (x1 - np.mean(x1))/np.std(x1)\n",
    "x2 = (x2 - np.mean(x2))/np.std(x2)\n",
    "X = np.stack((x1, x2), axis=1)"
   ]
  },
  {
   "cell_type": "code",
   "execution_count": 5,
   "metadata": {},
   "outputs": [
    {
     "name": "stdout",
     "output_type": "stream",
     "text": [
      "0     0\n",
      "1     0\n",
      "2     0\n",
      "3     0\n",
      "4     0\n",
      "5     0\n",
      "6     0\n",
      "7     0\n",
      "8     0\n",
      "9     0\n",
      "10    0\n",
      "11    0\n",
      "12    0\n",
      "13    0\n",
      "14    0\n",
      "15    0\n",
      "16    0\n",
      "17    0\n",
      "18    0\n",
      "19    0\n",
      "20    0\n",
      "21    0\n",
      "22    0\n",
      "23    0\n",
      "24    0\n",
      "25    0\n",
      "26    0\n",
      "27    0\n",
      "28    0\n",
      "29    0\n",
      "30    1\n",
      "31    1\n",
      "32    1\n",
      "33    1\n",
      "34    1\n",
      "35    1\n",
      "36    1\n",
      "37    1\n",
      "38    1\n",
      "39    1\n",
      "40    1\n",
      "41    1\n",
      "42    1\n",
      "43    1\n",
      "44    1\n",
      "45    1\n",
      "46    1\n",
      "47    1\n",
      "48    1\n",
      "49    1\n",
      "50    1\n",
      "51    1\n",
      "52    1\n",
      "53    1\n",
      "54    1\n",
      "55    1\n",
      "56    1\n",
      "57    1\n",
      "58    1\n",
      "59    1\n",
      "Name: kleur, dtype: object\n",
      "[[-1.40882898  0.18156057]\n",
      " [-1.31866392  0.07656169]\n",
      " [-1.22849887 -0.01738468]\n",
      " [-1.13833381 -0.10027854]\n",
      " [-1.04816876 -0.17211988]\n",
      " [-0.9580037  -0.23290871]\n",
      " [-0.86783865 -0.28264502]\n",
      " [-0.7776736  -0.32132882]\n",
      " [-0.68750854 -0.3489601 ]\n",
      " [-0.59734349 -0.36553887]\n",
      " [-0.50717843 -0.37106513]\n",
      " [-0.41701338 -0.36553887]\n",
      " [-0.32684832 -0.3489601 ]\n",
      " [-0.23668327 -0.32132882]\n",
      " [-0.14651821 -0.28264502]\n",
      " [-0.05635316 -0.23290871]\n",
      " [ 0.0338119  -0.17211988]\n",
      " [ 0.12397695 -0.10027854]\n",
      " [ 0.214142   -0.01738468]\n",
      " [ 0.30430706  0.07656169]\n",
      " [ 0.39447211  0.18156057]\n",
      " [ 0.48463717  0.29761196]\n",
      " [ 0.57480222  0.42471588]\n",
      " [ 0.66496728  0.5628723 ]\n",
      " [ 0.75513233  0.71208124]\n",
      " [ 0.84529739  0.87234269]\n",
      " [ 0.93546244  1.04365666]\n",
      " [ 1.02562749  1.22602314]\n",
      " [ 1.11579255  1.41944213]\n",
      " [ 1.2059576   1.62391364]\n",
      " [-1.85965425 -0.09475228]\n",
      " [-1.72440667 -0.33099977]\n",
      " [-1.58915909 -0.5423791 ]\n",
      " [-1.4539115  -0.72889027]\n",
      " [-1.31866392 -0.89053329]\n",
      " [-1.18341634 -1.02730815]\n",
      " [-1.04816876 -1.13921485]\n",
      " [-0.91292118 -1.2262534 ]\n",
      " [-0.7776736  -1.28842379]\n",
      " [-0.64242601 -1.32572602]\n",
      " [-0.50717843 -1.3381601 ]\n",
      " [-0.37193085 -1.32572602]\n",
      " [-0.23668327 -1.28842379]\n",
      " [-0.10143569 -1.2262534 ]\n",
      " [ 0.0338119  -1.13921485]\n",
      " [ 0.16905948 -1.02730815]\n",
      " [ 0.30430706 -0.89053329]\n",
      " [ 0.43955464 -0.72889027]\n",
      " [ 0.57480222 -0.5423791 ]\n",
      " [ 0.7100498  -0.33099977]\n",
      " [ 0.84529739 -0.09475228]\n",
      " [ 0.98054497  0.16636336]\n",
      " [ 1.11579255  0.45234716]\n",
      " [ 1.25104013  0.76319912]\n",
      " [ 1.38628771  1.09891923]\n",
      " [ 1.52153529  1.4595075 ]\n",
      " [ 1.65678288  1.84496392]\n",
      " [ 1.79203046  2.2552885 ]\n",
      " [ 1.92727804  2.69048124]\n",
      " [ 2.06252562  3.15054213]]\n"
     ]
    }
   ],
   "source": [
    "print(y)\n",
    "print(X)"
   ]
  },
  {
   "cell_type": "markdown",
   "metadata": {},
   "source": [
    "<div style='color: #690027;' markdown=\"1\">\n",
    "    <h3>3.2 De data weergeven in puntenwolk</h3> \n",
    "</div>"
   ]
  },
  {
   "cell_type": "code",
   "execution_count": 6,
   "metadata": {},
   "outputs": [
    {
     "data": {
      "image/png": "[encoded data removed]",
      "text/plain": [
       "<Figure size 432x288 with 1 Axes>"
      ]
     },
     "metadata": {
      "needs_background": "light"
     },
     "output_type": "display_data"
    }
   ],
   "source": [
    "plt.figure()     \n",
    "\n",
    "plt.scatter(x1[:30], x2[:30], color=\"blue\", marker=\"x\")    \n",
    "plt.scatter(x1[30:], x2[30:], color=\"green\", marker=\"<\") \n",
    "#plt.savefig(\"tweeparabolen.jpg\", dpi=300)\n",
    "\n",
    "plt.show()"
   ]
  },
  {
   "cell_type": "markdown",
   "metadata": {},
   "source": [
    "De punten zijn niet lineair scheidbaar maar wel scheidbaar door een kromme."
   ]
  },
  {
   "cell_type": "markdown",
   "metadata": {},
   "source": [
    "<div style='color: #690027;' markdown=\"1\">\n",
    "    <h2>4. Opbouw van een neuraal netwerk</h2> \n",
    "</div>"
   ]
  },
  {
   "cell_type": "markdown",
   "metadata": {},
   "source": [
    "<div style='color: #690027;' markdown=\"1\">\n",
    "    <h3>4.1 Data opsplitsen</h3> \n",
    "</div>"
   ]
  },
  {
   "cell_type": "code",
   "execution_count": 7,
   "metadata": {},
   "outputs": [],
   "source": [
    "# data verdelen in training- en validatiedata\n",
    "x1_val = np.append(x1[10:15],x1[40:45])\n",
    "x2_val = np.append(x2[10:15],x2[40:45]) \n",
    "X_val = np.stack((x1_val, x2_val), axis=1)    # juiste formaat, axis=1 zet x1 en x2 als kolommen\n",
    "x1_train = np.append(np.append(x1[0:10], x1[15:40]), x1[45:])\n",
    "x2_train = np.append(np.append(x2[0:10], x2[15:40]), x2[45:])\n",
    "X_train = np.stack((x1_train, x2_train), axis=1)  \n",
    "\n",
    "y_val =  np.append(y[0:5], y[30:35])\n",
    "y_train = np.append(y[5:30], y[35:])\n",
    "y_val = to_categorical(y_val)\n",
    "y_train = to_categorical(y_train)\n",
    "\n",
    "# data voorbereiden\n",
    "# labels numeriek weergeven\n",
    "# y[y == 'blauw'] = 0 # FOUT\n",
    "# y[y == 'groen'] = 1 # FOUT\n",
    "# print(y)\n",
    "# print(len(y))\n",
    "#print(type(y))\n",
    "# y = np.append(np.zeros((30,1)),np.ones((30,1)))\n",
    "# y_val =  utils.to_categorical(np.append(y[0:5], y[30:35]))\n",
    "# y_train = utils.to_categorical(np.append(y[5:30], y[35:]))\n"
   ]
  },
  {
   "cell_type": "code",
   "execution_count": 8,
   "metadata": {},
   "outputs": [
    {
     "name": "stdout",
     "output_type": "stream",
     "text": [
      "[[1. 0.]\n",
      " [1. 0.]\n",
      " [1. 0.]\n",
      " [1. 0.]\n",
      " [1. 0.]\n",
      " [0. 1.]\n",
      " [0. 1.]\n",
      " [0. 1.]\n",
      " [0. 1.]\n",
      " [0. 1.]]\n"
     ]
    }
   ],
   "source": [
    "print(y_val)"
   ]
  },
  {
   "cell_type": "code",
   "execution_count": 9,
   "metadata": {},
   "outputs": [
    {
     "data": {
      "text/plain": [
       "<matplotlib.collections.PathCollection at 0x249794882c8>"
      ]
     },
     "execution_count": 9,
     "metadata": {},
     "output_type": "execute_result"
    },
    {
     "data": {
      "image/png": "[encoded data removed]",
      "text/plain": [
       "<Figure size 432x288 with 1 Axes>"
      ]
     },
     "metadata": {
      "needs_background": "light"
     },
     "output_type": "display_data"
    }
   ],
   "source": [
    "# plt.scatter(X_train[:,0],X_train[:,1])\n",
    "# plt.scatter(X_val[:,0],X_val[:,1])\n",
    "# plt.savefig(\"parabolen_validzelfgekozen.jpg\", dpi=300)\n",
    "plt.scatter(x1_train, x2_train)\n",
    "plt.scatter(x1_val, x2_val)\n"
   ]
  },
  {
   "cell_type": "markdown",
   "metadata": {},
   "source": [
    "<div style='color: #690027;' markdown=\"1\">\n",
    "    <h3>4.2 Architectuur van het neuraal netwerk</h3> \n",
    "</div>"
   ]
  },
  {
   "cell_type": "code",
   "execution_count": 10,
   "metadata": {},
   "outputs": [],
   "source": [
    "# architectuur netwerk\n",
    "network = models.Sequential()\n",
    "network.add(layers.Dense(8, activation=\"relu\", input_dim=2))    # eerste hidden layer: 8 neuronen, activatie ReLU       \n",
    "# network.add(layers.Dropout(0.8))\n",
    "network.add(layers.Dense(4, activation=\"relu\"))                 # tweede hidden layer: 4 neuronen, activatiefunctie ReLU      \n",
    "network.add(layers.Dense(2, activation=\"softmax\"))              # output layer: 1 output neuron, activatiefunctie\n",
    "# sgd = optimizers.SGD(lr=0.1, decay=1e-6, momentum=0.9, nesterov=True)\n",
    "sgd = optimizers.SGD(lr=0.1)\n",
    "network.compile(optimizer=sgd,\n",
    "                loss=\"categorical_crossentropy\",\n",
    "                metrics=[\"accuracy\"])                            # optimizer, loss en metrics kiezen"
   ]
  },
  {
   "cell_type": "markdown",
   "metadata": {},
   "source": [
    "<div style='color: #690027;' markdown=\"1\">\n",
    "    <h3>4.3 Trainen van het neuraal netwerk</h3> \n",
    "</div>"
   ]
  },
  {
   "cell_type": "code",
   "execution_count": 11,
   "metadata": {},
   "outputs": [
    {
     "name": "stdout",
     "output_type": "stream",
     "text": [
      "Train on 50 samples, validate on 10 samples\n",
      "Epoch 1/40\n",
      "50/50 [==============================] - 0s 4ms/step - loss: 0.6600 - accuracy: 0.5800 - val_loss: 0.6463 - val_accuracy: 0.5000\n",
      "Epoch 2/40\n",
      "50/50 [==============================] - 0s 260us/step - loss: 0.6581 - accuracy: 0.5800 - val_loss: 0.6445 - val_accuracy: 0.5000\n",
      "Epoch 3/40\n",
      "50/50 [==============================] - 0s 300us/step - loss: 0.6563 - accuracy: 0.6000 - val_loss: 0.6429 - val_accuracy: 0.7000\n",
      "Epoch 4/40\n",
      "50/50 [==============================] - 0s 240us/step - loss: 0.6551 - accuracy: 0.6400 - val_loss: 0.6396 - val_accuracy: 0.7000\n",
      "Epoch 5/40\n",
      "50/50 [==============================] - 0s 300us/step - loss: 0.6535 - accuracy: 0.6200 - val_loss: 0.6368 - val_accuracy: 0.9000\n",
      "Epoch 6/40\n",
      "50/50 [==============================] - 0s 360us/step - loss: 0.6532 - accuracy: 0.6800 - val_loss: 0.6334 - val_accuracy: 0.7000\n",
      "Epoch 7/40\n",
      "50/50 [==============================] - 0s 300us/step - loss: 0.6501 - accuracy: 0.6400 - val_loss: 0.6316 - val_accuracy: 0.9000\n",
      "Epoch 8/40\n",
      "50/50 [==============================] - 0s 260us/step - loss: 0.6488 - accuracy: 0.6800 - val_loss: 0.6291 - val_accuracy: 0.9000\n",
      "Epoch 9/40\n",
      "50/50 [==============================] - 0s 280us/step - loss: 0.6469 - accuracy: 0.6600 - val_loss: 0.6268 - val_accuracy: 1.0000\n",
      "Epoch 10/40\n",
      "50/50 [==============================] - 0s 260us/step - loss: 0.6453 - accuracy: 0.7000 - val_loss: 0.6236 - val_accuracy: 1.0000\n",
      "Epoch 11/40\n",
      "50/50 [==============================] - 0s 280us/step - loss: 0.6439 - accuracy: 0.7600 - val_loss: 0.6228 - val_accuracy: 1.0000\n",
      "Epoch 12/40\n",
      "50/50 [==============================] - 0s 300us/step - loss: 0.6444 - accuracy: 0.7200 - val_loss: 0.6229 - val_accuracy: 1.0000\n",
      "Epoch 13/40\n",
      "50/50 [==============================] - 0s 320us/step - loss: 0.6399 - accuracy: 0.8000 - val_loss: 0.6187 - val_accuracy: 1.0000\n",
      "Epoch 14/40\n",
      "50/50 [==============================] - 0s 260us/step - loss: 0.6390 - accuracy: 0.7800 - val_loss: 0.6140 - val_accuracy: 1.0000\n",
      "Epoch 15/40\n",
      "50/50 [==============================] - 0s 320us/step - loss: 0.6382 - accuracy: 0.8000 - val_loss: 0.6079 - val_accuracy: 1.0000\n",
      "Epoch 16/40\n",
      "50/50 [==============================] - 0s 240us/step - loss: 0.6342 - accuracy: 0.7600 - val_loss: 0.6050 - val_accuracy: 1.0000\n",
      "Epoch 17/40\n",
      "50/50 [==============================] - 0s 300us/step - loss: 0.6331 - accuracy: 0.7800 - val_loss: 0.6057 - val_accuracy: 1.0000\n",
      "Epoch 18/40\n",
      "50/50 [==============================] - 0s 260us/step - loss: 0.6309 - accuracy: 0.7600 - val_loss: 0.6033 - val_accuracy: 0.9000\n",
      "Epoch 19/40\n",
      "50/50 [==============================] - 0s 320us/step - loss: 0.6291 - accuracy: 0.7000 - val_loss: 0.5974 - val_accuracy: 0.8000\n",
      "Epoch 20/40\n",
      "50/50 [==============================] - 0s 320us/step - loss: 0.6254 - accuracy: 0.6600 - val_loss: 0.5959 - val_accuracy: 1.0000\n",
      "Epoch 21/40\n",
      "50/50 [==============================] - 0s 340us/step - loss: 0.6222 - accuracy: 0.7400 - val_loss: 0.5944 - val_accuracy: 1.0000\n",
      "Epoch 22/40\n",
      "50/50 [==============================] - 0s 260us/step - loss: 0.6206 - accuracy: 0.8000 - val_loss: 0.5913 - val_accuracy: 1.0000\n",
      "Epoch 23/40\n",
      "50/50 [==============================] - 0s 340us/step - loss: 0.6173 - accuracy: 0.7200 - val_loss: 0.5884 - val_accuracy: 1.0000\n",
      "Epoch 24/40\n",
      "50/50 [==============================] - 0s 300us/step - loss: 0.6143 - accuracy: 0.8200 - val_loss: 0.5854 - val_accuracy: 1.0000\n",
      "Epoch 25/40\n",
      "50/50 [==============================] - 0s 280us/step - loss: 0.6118 - accuracy: 0.8400 - val_loss: 0.5820 - val_accuracy: 1.0000\n",
      "Epoch 26/40\n",
      "50/50 [==============================] - 0s 320us/step - loss: 0.6117 - accuracy: 0.8200 - val_loss: 0.5840 - val_accuracy: 1.0000\n",
      "Epoch 27/40\n",
      "50/50 [==============================] - 0s 260us/step - loss: 0.6058 - accuracy: 0.8800 - val_loss: 0.5816 - val_accuracy: 1.0000\n",
      "Epoch 28/40\n",
      "50/50 [==============================] - 0s 380us/step - loss: 0.6019 - accuracy: 0.9000 - val_loss: 0.5768 - val_accuracy: 1.0000\n",
      "Epoch 29/40\n",
      "50/50 [==============================] - 0s 280us/step - loss: 0.5979 - accuracy: 0.8800 - val_loss: 0.5720 - val_accuracy: 1.0000\n",
      "Epoch 30/40\n",
      "50/50 [==============================] - 0s 380us/step - loss: 0.5946 - accuracy: 0.8800 - val_loss: 0.5656 - val_accuracy: 1.0000\n",
      "Epoch 31/40\n",
      "50/50 [==============================] - 0s 280us/step - loss: 0.5899 - accuracy: 0.8800 - val_loss: 0.5630 - val_accuracy: 1.0000\n",
      "Epoch 32/40\n",
      "50/50 [==============================] - 0s 300us/step - loss: 0.5850 - accuracy: 0.9000 - val_loss: 0.5576 - val_accuracy: 1.0000\n",
      "Epoch 33/40\n",
      "50/50 [==============================] - 0s 260us/step - loss: 0.5799 - accuracy: 0.8800 - val_loss: 0.5541 - val_accuracy: 1.0000\n",
      "Epoch 34/40\n",
      "50/50 [==============================] - 0s 360us/step - loss: 0.5756 - accuracy: 0.9000 - val_loss: 0.5485 - val_accuracy: 1.0000\n",
      "Epoch 35/40\n",
      "50/50 [==============================] - 0s 360us/step - loss: 0.5733 - accuracy: 0.9000 - val_loss: 0.5406 - val_accuracy: 1.0000\n",
      "Epoch 36/40\n",
      "50/50 [==============================] - 0s 300us/step - loss: 0.5647 - accuracy: 0.9800 - val_loss: 0.5390 - val_accuracy: 1.0000\n",
      "Epoch 37/40\n",
      "50/50 [==============================] - 0s 280us/step - loss: 0.5598 - accuracy: 0.9800 - val_loss: 0.5345 - val_accuracy: 1.0000\n",
      "Epoch 38/40\n",
      "50/50 [==============================] - 0s 260us/step - loss: 0.5548 - accuracy: 0.9800 - val_loss: 0.5282 - val_accuracy: 1.0000\n",
      "Epoch 39/40\n",
      "50/50 [==============================] - 0s 500us/step - loss: 0.5484 - accuracy: 0.9200 - val_loss: 0.5177 - val_accuracy: 1.0000\n",
      "Epoch 40/40\n",
      "50/50 [==============================] - 0s 280us/step - loss: 0.5417 - accuracy: 0.9800 - val_loss: 0.5114 - val_accuracy: 1.0000\n"
     ]
    }
   ],
   "source": [
    "# trainen van het netwerk met methode `fit`, m.a.w. punten en labels op elkaar afstemmen\n",
    "# 40 epochs\n",
    "history = network.fit(X_train, y_train, epochs=40, validation_data=(X_val,y_val))"
   ]
  },
  {
   "cell_type": "code",
   "execution_count": 12,
   "metadata": {},
   "outputs": [],
   "source": [
    "loss = history.history[\"loss\"]\n",
    "epochs = range (1 , len(loss) +1)\n",
    "accuracy = history.history[\"accuracy\"]\n",
    "val_acc = history.history[\"val_accuracy\"]\n",
    "val_loss = history.history[\"val_loss\"]"
   ]
  },
  {
   "cell_type": "markdown",
   "metadata": {},
   "source": [
    "<div style='color: #690027;' markdown=\"1\">\n",
    "    <h3>4.4 Prestatie van het model</h3> \n",
    "</div>"
   ]
  },
  {
   "cell_type": "code",
   "execution_count": 22,
   "metadata": {},
   "outputs": [
    {
     "data": {
      "image/png": "[encoded data removed]",
      "text/plain": [
       "<Figure size 1152x576 with 2 Axes>"
      ]
     },
     "metadata": {
      "needs_background": "light"
     },
     "output_type": "display_data"
    }
   ],
   "source": [
    "font = {'family': 'serif',\n",
    "        'color':  'black',\n",
    "        'weight': 'normal',\n",
    "        'size': 14,\n",
    "        }\n",
    "plt.figure(figsize=(16,8))\n",
    "\n",
    "plt.subplot(1,2,1)\n",
    "plt.plot(epochs, loss, color=\"blue\", label=\"train\", linewidth=2)\n",
    "plt.plot(epochs, val_loss, color=\"lightblue\", label=\"val\", linewidth=2)\n",
    "plt.xticks(np.arange(0, 41, step=10))             \n",
    "plt.title(\"Loss op training- en validatieset\", fontdict=font)\n",
    "plt.xlabel(\"epoch\", fontdict=font)\n",
    "plt.ylabel(\"loss\", fontdict=font)\n",
    "plt.legend(loc=\"lower left\")\n",
    "\n",
    "plt.subplot(1,2,2)\n",
    "plt.plot(epochs, accuracy, color=\"green\", label=\"train\", linewidth=2)\n",
    "plt.plot(epochs, val_acc, color=\"lime\", label=\"val\", linewidth=2)\n",
    "plt.xticks(np.arange(0, 41, step=10)) \n",
    "\n",
    "plt.xlabel(\"epoch\", fontdict=font)\n",
    "plt.ylabel(\"acc\", fontdict=font)\n",
    "\n",
    "plt.title(\"Accuracy op training- en validatieset\", fontdict=font)\n",
    "plt.legend(loc=\"lower right\")\n",
    "\n",
    "plt.savefig(\"parabolen_Multiklassen_2layers_40epochs_30aug2020.jpg\", dpi=300)\n",
    "plt.show()"
   ]
  },
  {
   "cell_type": "markdown",
   "metadata": {},
   "source": [
    "Wat merk je op?<br>\n",
    "Het model underfits / is optimaal / overfits."
   ]
  },
  {
   "cell_type": "markdown",
   "metadata": {},
   "source": [
    "<div style='color: #690027;' markdown=\"1\">\n",
    "    <h3>4.5 Testen van het model</h3> \n",
    "</div>"
   ]
  },
  {
   "cell_type": "markdown",
   "metadata": {},
   "source": [
    "Test het model uit op de testset.<br>\n",
    "Daarvoor moet eerst de data worden voorbereid, ze moet op dezelfde manier worden gestandaardiseerd."
   ]
  },
  {
   "cell_type": "code",
   "execution_count": 14,
   "metadata": {},
   "outputs": [],
   "source": [
    "# testset inladen\n",
    "testset = pd.read_csv(\"testsetparabolen.dat\") "
   ]
  },
  {
   "cell_type": "code",
   "execution_count": 15,
   "metadata": {},
   "outputs": [
    {
     "name": "stdout",
     "output_type": "stream",
     "text": [
      "    x     y  kleur\n",
      "0   1   501  blauw\n",
      "1  25  1125  blauw\n",
      "2 -20   200  groen\n",
      "3  58  3164  groen\n"
     ]
    }
   ],
   "source": [
    "print(testset)"
   ]
  },
  {
   "cell_type": "code",
   "execution_count": 16,
   "metadata": {
    "scrolled": false
   },
   "outputs": [
    {
     "name": "stderr",
     "output_type": "stream",
     "text": [
      "C:\\Users\\Administrator\\Anaconda3\\lib\\site-packages\\ipykernel_launcher.py:8: SettingWithCopyWarning: \n",
      "A value is trying to be set on a copy of a slice from a DataFrame\n",
      "\n",
      "See the caveats in the documentation: http://pandas.pydata.org/pandas-docs/stable/user_guide/indexing.html#returning-a-view-versus-a-copy\n",
      "  \n",
      "C:\\Users\\Administrator\\Anaconda3\\lib\\site-packages\\ipykernel_launcher.py:9: SettingWithCopyWarning: \n",
      "A value is trying to be set on a copy of a slice from a DataFrame\n",
      "\n",
      "See the caveats in the documentation: http://pandas.pydata.org/pandas-docs/stable/user_guide/indexing.html#returning-a-view-versus-a-copy\n",
      "  if __name__ == '__main__':\n"
     ]
    }
   ],
   "source": [
    "# data voorbereiden\n",
    "x1_test = testset[\"x\"]\n",
    "x2_test = testset[\"y\"]\n",
    "x1_test = np.array(x1_test)\n",
    "x2_test = np.array(x2_test)\n",
    "\n",
    "y_test = testset[\"kleur\"]\n",
    "y_test[y_test == 'blauw'] = 0\n",
    "y_test[y_test == 'groen'] = 1\n",
    "\n",
    "x1_test = (x1_test - mean1) / std1 \n",
    "x2_test = (x2_test - mean2) / std2\n",
    "X_test = np.stack((x1_test, x2_test), axis=1)"
   ]
  },
  {
   "cell_type": "code",
   "execution_count": 17,
   "metadata": {},
   "outputs": [],
   "source": [
    "# y_test = to_categorical(y_test)"
   ]
  },
  {
   "cell_type": "code",
   "execution_count": 18,
   "metadata": {},
   "outputs": [
    {
     "name": "stdout",
     "output_type": "stream",
     "text": [
      "[[-0.4620959  -0.36968357]\n",
      " [ 0.61988475  0.49241252]\n",
      " [-1.40882898 -0.7855344 ]\n",
      " [ 2.10760815  3.30942202]]\n"
     ]
    }
   ],
   "source": [
    "print(X_test)"
   ]
  },
  {
   "cell_type": "code",
   "execution_count": 19,
   "metadata": {},
   "outputs": [
    {
     "name": "stdout",
     "output_type": "stream",
     "text": [
      "[-0.4620959043360658, -0.36968356622272563] => 0 (expected 0)\n",
      "[0.6198847497191127, 0.4924125234302701] => 0 (expected 0)\n",
      "[-1.408828976634347, -0.785534404340597] => 1 (expected 1)\n",
      "[2.107608149044983, 3.3094220215111325] => 1 (expected 1)\n"
     ]
    }
   ],
   "source": [
    "# alle testpunten\n",
    "predictions = network.predict_classes(X_test)\n",
    "for i in range(4):\n",
    "    print('%s => %d (expected %d)' % (X_test[i].tolist(), predictions[i], y_test[i]))"
   ]
  },
  {
   "cell_type": "code",
   "execution_count": 20,
   "metadata": {},
   "outputs": [
    {
     "name": "stdout",
     "output_type": "stream",
     "text": [
      "4/4 [==============================] - 0s 751us/step\n",
      "0.5994269847869873 1.0\n"
     ]
    }
   ],
   "source": [
    "test_loss, test_acc = network.evaluate(X_test, to_categorical(y_test))\n",
    "print(test_loss, test_acc)"
   ]
  },
  {
   "cell_type": "markdown",
   "metadata": {},
   "source": [
    "<div style='color: #690027;' markdown=\"1\">\n",
    "    <h2>5. Decision boundary</h2> \n",
    "</div>"
   ]
  },
  {
   "cell_type": "code",
   "execution_count": 23,
   "metadata": {},
   "outputs": [
    {
     "data": {
      "image/png": "[encoded data removed]",
      "text/plain": [
       "<Figure size 576x432 with 1 Axes>"
      ]
     },
     "metadata": {
      "needs_background": "light"
     },
     "output_type": "display_data"
    }
   ],
   "source": [
    "# decision boundary\n",
    "font = {'family': 'serif',\n",
    "        'color':  'black',\n",
    "        'weight': 'normal',\n",
    "        'size': 14,\n",
    "        }\n",
    "color = [\"blue\", \"green\"]\n",
    "soort = [\"parabool 1\", \"parabool 2\"]\n",
    "                 \n",
    "\n",
    "plt.figure(figsize=(8, 6))\n",
    "\n",
    "for target in range(2):\n",
    "    X_plot = X[y == target]\n",
    "    plt.scatter(X_plot[:, 0], X_plot[:, 1], marker='o', color=color[target], label=soort[target])\n",
    "plt.title(\"Classificatie punten twee parabolen\", fontdict=font)\n",
    "plt.xlabel(\"x-coördinaat\", fontdict=font)\n",
    "plt.ylabel(\"y-coördinaat\", fontdict=font)\n",
    "plt.legend(loc=\"upper right\")\n",
    "\n",
    "x1 = np.linspace(-2, 2, 40)\n",
    "x2 = np.linspace(-2, 5, 40)\n",
    "\n",
    "# resolutie\n",
    "xx1 = np.arange(x1.min()-1, x1.max()+1, 0.1)\n",
    "xx2 = np.arange(x2.min()-1, x2.max()+1, 0.1)                     \n",
    "\n",
    "for a in xx1:\n",
    "    for b in xx2:\n",
    "        P = np.array([[a, b]])\n",
    "        voorspeldeklasse = network.predict_classes(P) \n",
    "        if voorspeldeklasse == 0:\n",
    "            kleur = \"lightblue\"\n",
    "        else:\n",
    "            kleur = \"lightgreen\"\n",
    "        plt.plot(a, b, marker='.', color=kleur)\n",
    "plt.savefig(\"DB_parabolen_Multiklassen_2layers_40epochs_30aug2020.jpg\", dpi=300)\n",
    "plt.show()"
   ]
  },
  {
   "cell_type": "markdown",
   "metadata": {},
   "source": [
    "<div class=\"alert alert-box alert-info\">\n",
    "De data bestaan uit punten met twee <b>kenmerken</b> en een overeenkomstig <b>label</b>. Het label kan twee waarden aannemen; er zijn twee <b>klassen</b>. Een grens tussen de klassen is een <b>decision boundary</b>. <br>\n",
    "Het model is een neuraal netwerk met een <b>invoerlaag</b>, twee <b>verborgenen lagen</b> met activatiefunctie ReLU en een <b>uitvoerlaag</b> met activatiefunctie de sigmoïde-functie. <br>\n",
    "    \n",
    "De klassen zijn niet lineair scheidbaar, maar kunnen toch van elkaar gescheiden worden m.b.v. de <b>niet-lineaire functie ReLU</b>.  \n",
    "</div>"
   ]
  },
  {
   "cell_type": "markdown",
   "metadata": {},
   "source": [
    "<img src=\"../.images/cclic.png\" alt=\"Banner\" align=\"left\" style=\"width:80px;\"/><br><br>\n",
    "Notebook KIKS, zie <a href=\"http://www.aiopschool.be\">AI Op School</a>, van F. wyffels & N. Gesquière is in licentie gegeven volgens een <a href=\"http://creativecommons.org/licenses/by-nc-sa/4.0/\">Creative Commons Naamsvermelding-NietCommercieel-GelijkDelen 4.0 Internationaal-licentie</a>."
   ]
  }
 ],
 "metadata": {
  "kernelspec": {
   "display_name": "Python 3",
   "language": "python",
   "name": "python3"
  },
  "language_info": {
   "codemirror_mode": {
    "name": "ipython",
    "version": 3
   },
   "file_extension": ".py",
   "mimetype": "text/x-python",
   "name": "python",
   "nbconvert_exporter": "python",
   "pygments_lexer": "ipython3",
   "version": "3.7.4"
  }
 },
 "nbformat": 4,
 "nbformat_minor": 2
}
