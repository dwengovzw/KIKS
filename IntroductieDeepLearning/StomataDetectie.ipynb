{
 "cells": [
  {
   "cell_type": "markdown",
   "metadata": {},
   "source": [
    "<div style='color: #690027;' markdown=\"1\">\n",
    "    <h1>Detectie van stomata</h1> \n",
    "</div>\n",
    "\n",
    "Voer onderstaande codecel uit om van de methodes in deze notebook gebruik te kunnen maken."
   ]
  },
  {
   "cell_type": "code",
   "execution_count": null,
   "metadata": {},
   "outputs": [],
   "source": [
    "import imp\n",
    "with open('../.scripts/diep_neuraal_netwerk.py', 'rb') as fp:\n",
    "    diep_neuraal_netwerk = imp.load_module('.scripts', fp, '../.scripts/diep_neuraal_netwerk.py', ('.py', 'rb', imp.PY_SOURCE))\n",
    "diep_neuraal_netwerk.laad_referentie_model()"
   ]
  },
  {
   "cell_type": "markdown",
   "metadata": {},
   "source": [
    "Het ingeladen model is in staat om een afbeelding te classificeren als 'stoma' of 'geen stoma'. Hoe dit gebeurt kan je vinden in [notebook 1](BasisDiepNeuraalNetwerk.ipynb) en [notebook 2](Overfitting.ipynb)."
   ]
  },
  {
   "cell_type": "markdown",
   "metadata": {},
   "source": [
    "<div style='color: #690027;' markdown=\"1\">\n",
    "    <h2>Stomata detectie in een volledige afbeelding</h2> \n",
    "</div>\n",
    "\n",
    "Momenteel kan het getrainde model een classificatie maken tussen 2 klassen (\"wel een stoma\" of \"geen stoma\") wanneer het een afbeelding van 120 pixels op 120 pixels krijgt als invoer. We willen echter dat alle stomata in een grote afbeelding (1600px op 1200px) gevonden kunnen worden met ons model. Om dit te verwezelijken maken we gebruik van een <b>sliding window</b>. Dit is een vierkantje van 120px op 120px dat uit de grote afbeelding wordt geknipt en als invoer van het getrainde model wordt gebruikt. Voor dit vierkantje zal het model dan een voorspelling geven waarna het vierkantje naar rechts opschuift met 10 pixels. Wanneer het vierkantje de volledige breedte van de afbeelding heeft doorlopen zal het opnieuw naar de linkerkant verspringen maar dan 10 pixels lager dan de vorige keer. Dit proces herhaald zich tot de volledige afbeelding verwerkt werd met telkens sprongen van 10 pixels. Volgende afbeelding geeft een illustratie.\n",
    "\n",
    "<img src=\"../.images/IntroductieDeepLearning/sliding_window.gif\" width=\"300\"/>\n",
    "\n",
    "Voor elke vierkantje uit de grote afbeelding zal er op deze manier een voorspelling gemaakt worden. Vaak zullen er meerdere vierkantjes rond de effectieve stoma een positieve uitvoer geven (\"wel een stoma\") omdat er slechts met 5 pixels wordt opgeschoven en dus niet veel verschil in de vierkantjes zit. Om deze vele positieve voorspellingen samen te voegen wordt er gebruik gemaakt van <b>clustering</b>. Clustering zal punten die bij elkaar liggen als 1 cluster beschouwen en het middelpunt van deze clusters zijn dan de gevonden stomata. Volgende afbeelding geeft een voorbeeld van clustering waarbij de kleuren de verschillende clusters voorstellen en de grote punten de centers van de clusters.\n",
    "\n",
    "<img src=\"../.images/IntroductieDeepLearning/clustering.jpg\" width=\"400\"/>\n",
    "\n",
    "Bij de detectie speelt de <b>drempelwaarde</b> ook een belangrijke rol. Als we bijvoorbeeld 0.5 als drempelwaarde nemen zal alle uitvoer groter dan 0.5 als \"wel een stoma\" beschouwd worden en alle uitvoer kleiner dan 0.5 als \"geen stoma\". \n",
    "\n",
    "Een belangrijke afweging die je moet maken bij het kiezen van de drempelwaarde is de verhouding tussen <b>precision</b> en <b>recall</b>. \n",
    "\n",
    "<ul>\n",
    "    <li>Precision: het percentage van de gevonden stomata dat ook daadwerkelijk stoma zijn.</li>\n",
    "    <li>Recall: het percentage van de totale aanwezige stomata op een afbeelding die gevonden werden.</li>\n",
    "</ul>\n",
    "\n",
    "Het is duidelijk dat een lage drempelwaarde zal zorgen voor een lage precision maar een hoge recall, en andersom, een hoge drempelwaarde zal zorgen voor een hoge precision maar lage recall.\n",
    "\n",
    "Volgende codecel zal voor 3 afbeeldingen de stomata detecteren met het gekozen netwerk. Je kan de drempelwaarde (thr) aanpassen en het resultaat interpreteren."
   ]
  },
  {
   "cell_type": "code",
   "execution_count": null,
   "metadata": {},
   "outputs": [],
   "source": [
    "diep_neuraal_netwerk.vind_stomata()"
   ]
  },
  {
   "cell_type": "markdown",
   "metadata": {},
   "source": [
    "<div style='color: #690027;' markdown=\"1\">\n",
    "    <h2>Extra</h2> \n",
    "</div>\n",
    "\n",
    "Het is ook mogelijk het netwerk te misleiden. Zo kan je zien dat het netwerk niet echt leert wat een stoma is maar gewoon patronen leert herkennen. Voer volgende codecel uit om te zien hoe goed het model doet met de foto van een kat (de ogen lijken op stomata)."
   ]
  },
  {
   "cell_type": "code",
   "execution_count": null,
   "metadata": {},
   "outputs": [],
   "source": [
    "diep_neuraal_netwerk.misleid_netwerk()"
   ]
  }
 ],
 "metadata": {
  "kernelspec": {
   "display_name": "Python 3",
   "language": "python",
   "name": "python3"
  },
  "language_info": {
   "codemirror_mode": {
    "name": "ipython",
    "version": 3
   },
   "file_extension": ".py",
   "mimetype": "text/x-python",
   "name": "python",
   "nbconvert_exporter": "python",
   "pygments_lexer": "ipython3",
   "version": "3.6.7"
  }
 },
 "nbformat": 4,
 "nbformat_minor": 2
}
