{
 "cells": [
  {
   "cell_type": "markdown",
   "metadata": {},
   "source": [
    "<img src=\"../.images/logosnb.png\" alt=\"Banner\" style=\"width:800px;\"/>"
   ]
  },
  {
   "cell_type": "markdown",
   "metadata": {},
   "source": [
    "<div style='color: #690027;' markdown=\"1\">\n",
    "    <h1>BINAIRE CLASSIFICATIE MET NEURAAL NETWERK MET EEN HIDDEN LAYER EN MET VERBETERDE SGD</h1> \n",
    "</div>"
   ]
  },
  {
   "cell_type": "markdown",
   "metadata": {},
   "source": [
    "<div class=\"alert alert-box alert-success\">\n",
    "In deze notebook bouw je een neuraal netwerk op met de functionaliteiten van de Python-module Keras. Het probleem is er een van <b>binaire classificatie</b>: gevens onderverdelen in twee klassen.<br> \n",
    "Net zoals in de andere notebooks met de parabolen is de optimalizatiefunctie <em>stochastic gradient descent</em>. Maar de prestaties ervan zijn verbeterd door het toevoegen van <em><b>momentum</b></em>. Momentum zorgt ervoor dat het algoritme minder snel vast komt te zitten in een lokaal minimum. \n",
    "</div>"
   ]
  },
  {
   "cell_type": "markdown",
   "metadata": {},
   "source": [
    "Voor meer uitleg over momentum verwijzen we naar de literatuur, bv. Deep Learning with Python van François Chollet [1]. "
   ]
  },
  {
   "cell_type": "markdown",
   "metadata": {},
   "source": [
    "### De nodige modules importeren"
   ]
  },
  {
   "cell_type": "markdown",
   "metadata": {},
   "source": [
    "In deze notebook bouw je een *sequential model* op met Keras. Dat is een model dat bestaat uit *aaneengeschakelde lagen*. \n",
    "Je zal werken met een input layer, een output layer en ertussen één hidden layer.<br>\n",
    "Je zal dus het model en de lagen moeten kunnen aanmaken."
   ]
  },
  {
   "cell_type": "code",
   "execution_count": null,
   "metadata": {},
   "outputs": [],
   "source": [
    "import pandas as pd\n",
    "\n",
    "import matplotlib.pyplot as plt\n",
    "import numpy as np\n",
    "\n",
    "from keras import models\n",
    "from keras import layers\n",
    "from keras import optimizers"
   ]
  },
  {
   "cell_type": "markdown",
   "metadata": {},
   "source": [
    "Je gaat aan de slag met 60 gegeven punten in het vlak. Sommige punten zijn blauw, andere zijn groen. De punten vertegenwoordigen twee klassen. <br> Van elk punt is de coördinaat en de kleur gegeven.<br>\n",
    "Het is de bedoeling dat de groene en blauwe punten van elkaar gescheiden worden. "
   ]
  },
  {
   "cell_type": "markdown",
   "metadata": {},
   "source": [
    "<div style='color: #690027;' markdown=\"1\">\n",
    "    <h2>1. Inlezen van de data</h2> \n",
    "</div>"
   ]
  },
  {
   "cell_type": "markdown",
   "metadata": {},
   "source": [
    "Lees met de module `pandas` de dataset in."
   ]
  },
  {
   "cell_type": "code",
   "execution_count": null,
   "metadata": {},
   "outputs": [],
   "source": [
    "punten = pd.read_csv(\"../.data/IntroductieDeepLearning/parabolen.dat\")  # in te lezen tabel heeft geen hoofding"
   ]
  },
  {
   "cell_type": "markdown",
   "metadata": {},
   "source": [
    "<div style='color: #690027;' markdown=\"1\">\n",
    "    <h2>2. Tonen van de ingelezen data</h2> \n",
    "</div>"
   ]
  },
  {
   "cell_type": "markdown",
   "metadata": {},
   "source": [
    "Bekijk de data door de instructie `punten` uit te voeren. De dataset bestaat uit de x- en y-coördinaat van de punten en de kleur van elk punt. <br>\n",
    "De x- en y-coördinaat zijn kenmerken, de kleur is een label. <br> Omdat er twee soorten labels zijn, zegt men dat de punten verdeeld zijn over **twee klassen**."
   ]
  },
  {
   "cell_type": "code",
   "execution_count": null,
   "metadata": {},
   "outputs": [],
   "source": [
    "punten"
   ]
  },
  {
   "cell_type": "markdown",
   "metadata": {},
   "source": [
    "Deze tabel is een tabel met 60 rijen en 3 kolommen: er zijn immers 60 punten, 2 kenmerken en 1 label. <br><br>\n",
    "De kenmerken:\n",
    "- eerste kolom: x-coördinaat; \n",
    "- tweede kolom: y-coördinaat.\n",
    "\n",
    "Het label:\n",
    "- derde kolom: kleur."
   ]
  },
  {
   "cell_type": "markdown",
   "metadata": {},
   "source": [
    "<div class=\"alert alert-box alert-info\">\n",
    "In machinaal leren worden twee kenmerken doorgaans weergegeven met x1 en x2 en het label met y.\n",
    "</div>"
   ]
  },
  {
   "cell_type": "markdown",
   "metadata": {},
   "source": [
    "<div style='color: #690027;' markdown=\"1\">\n",
    "    <h2>3. Onderzoeken of de punten van elkaar gescheiden kunnen worden</h2> \n",
    "</div>"
   ]
  },
  {
   "cell_type": "markdown",
   "metadata": {},
   "source": [
    "Of punten scheidbaar zijn, zie je het best op een grafiek. "
   ]
  },
  {
   "cell_type": "markdown",
   "metadata": {},
   "source": [
    "Om de data te visualiseren, heb je de x- en y-coördinaat, dus de kenmerken x1 en x2, van de punten nodig.<br>\n",
    "Daarnaast moet je ook rekening houden met de kleur."
   ]
  },
  {
   "cell_type": "markdown",
   "metadata": {},
   "source": [
    "<div style='color: #690027;' markdown=\"1\">\n",
    "    <h3>3.1 Verschillende soorten data opslaan in verschillende NumPy arrrays</h3> \n",
    "</div>"
   ]
  },
  {
   "cell_type": "code",
   "execution_count": null,
   "metadata": {},
   "outputs": [],
   "source": [
    "# pandas-tabel omzetten naar NumPy array\n",
    "punten = np.array(punten)\n",
    "\n",
    "# kenmerken en labels apart\n",
    "X = punten[:,0:2]      # kenmerken staan in eerste twee kolommen\n",
    "y = punten[:,2]        # kleur staat in laatste kolom\n",
    "\n",
    "# coördinaten apart bekijken\n",
    "x1 = X[:, 0]            # x-coördinaat staat in kolom met index 0\n",
    "x2 = X[:, 1]            # y-coördinaat staat in kolom met index 1\n",
    "# datapunten standaardiseren\n",
    "x1 = (x1 - np.mean(x1))/np.std(x1)\n",
    "x2 = (x2 - np.mean(x2))/np.std(x2)\n",
    "X = np.stack((x1, x2), axis = 1)    # juiste formaat, axis=1 zet x1 en x2 als kolommen"
   ]
  },
  {
   "cell_type": "markdown",
   "metadata": {},
   "source": [
    "<div style='color: #690027;' markdown=\"1\">\n",
    "    <h3>3.2 De data weergeven in puntenwolk</h3> \n",
    "</div>"
   ]
  },
  {
   "cell_type": "code",
   "execution_count": null,
   "metadata": {},
   "outputs": [],
   "source": [
    "plt.figure()     \n",
    "\n",
    "plt.scatter(x1[:30], x2[:30], color=\"blue\", marker=\"x\")    \n",
    "plt.scatter(x1[30:], x2[30:], color=\"green\", marker=\"<\") \n",
    "\n",
    "plt.show()"
   ]
  },
  {
   "cell_type": "markdown",
   "metadata": {},
   "source": [
    "De punten zijn niet lineair scheidbaar maar wel scheidbaar door een kromme."
   ]
  },
  {
   "cell_type": "markdown",
   "metadata": {},
   "source": [
    "<div style='color: #690027;' markdown=\"1\">\n",
    "    <h2>4. Opbouw van een neuraal netwerk</h2> \n",
    "</div>"
   ]
  },
  {
   "cell_type": "markdown",
   "metadata": {},
   "source": [
    "<div style='color: #690027;' markdown=\"1\">\n",
    "    <h3>4.1 Architectuur van het neuraal netwerk</h3> \n",
    "</div>"
   ]
  },
  {
   "cell_type": "code",
   "execution_count": null,
   "metadata": {},
   "outputs": [],
   "source": [
    "# splitsen in training en validatiedata\n",
    "x1_val = np.append(x1[10:15],x1[40:45])\n",
    "x2_val = np.append(x2[10:15],x2[40:45]) \n",
    "X_val = np.stack((x1_val, x2_val), axis=1)    # juiste formaat, axis=1 zet x1 en x2 als kolommen\n",
    "x1_train = np.append(np.append(x1[0:10], x1[15:40]), x1[45:])\n",
    "x2_train = np.append(np.append(x2[0:10], x2[15:40]), x2[45:])\n",
    "X_train = np.stack((x1_train, x2_train), axis=1)  \n",
    "\n",
    "# labels numeriek weergeven\n",
    "y[y == \"blauw\"] = 0 \n",
    "y[y == \"groen\"] = 1 \n",
    "print(y)\n",
    "# y = np.array(y)\n",
    "# y = np.append(np.zeros((30,1)),np.ones((30,1)))\n",
    "# y_val =  utils.to_categorical(np.append(y[0:5], y[30:35]))\n",
    "# y_train = utils.to_categorical(np.append(y[5:30], y[35:]))\n",
    "y_val =  np.append(y[10:15], y[40:45])\n",
    "y_train = np.append(np.append(y[0:10], y[15:40]), y[45:])"
   ]
  },
  {
   "cell_type": "code",
   "execution_count": null,
   "metadata": {},
   "outputs": [],
   "source": [
    "print(y_val)\n",
    "print(y_train)"
   ]
  },
  {
   "cell_type": "code",
   "execution_count": null,
   "metadata": {},
   "outputs": [],
   "source": [
    "plt.scatter(X_train[:,0],X_train[:,1])\n",
    "plt.scatter(X_val[:,0],X_val[:,1])"
   ]
  },
  {
   "cell_type": "code",
   "execution_count": null,
   "metadata": {},
   "outputs": [],
   "source": [
    "# architectuur netwerk\n",
    "network = models.Sequential()\n",
    "network.add(layers.Dense(8, activation=\"relu\", input_dim=2))    # hidden layer: 8 neuronen, activatie ReLU      \n",
    "network.add(layers.Dense(4, activation=\"relu\"))                 # hidden layer: 4 neuronen, activatie RelU      \n",
    "network.add(layers.Dense(1, activation='sigmoid'))              # output layer: 1 output neuron, activatie sigmoïde\n",
    "sgd = optimizers.SGD(lr=0.1, decay=1e-6, momentum=0.9, nesterov=True)  # optimizer: SGD,met momentum voor betere prestatie  \n",
    "network.compile(optimizer=sgd,\n",
    "                loss=\"binary_crossentropy\",\n",
    "                metrics=[\"accuracy\"])                            # optimizer, loss en metrics kiezen"
   ]
  },
  {
   "cell_type": "markdown",
   "metadata": {},
   "source": [
    "<div style='color: #690027;' markdown=\"1\">\n",
    "    <h3>4.2 Trainen van het neuraal netwerk</h3> \n",
    "</div>"
   ]
  },
  {
   "cell_type": "code",
   "execution_count": null,
   "metadata": {},
   "outputs": [],
   "source": [
    "# trainen van het netwerk met methode `fit`, m.a.w. beelden en labels op elkaar afstemmen\n",
    "# 40 epochs\n",
    "history = network.fit(X_train, y_train, epochs=40, validation_data=(X_val,y_val))   # batch_size is standaardinstelling, nl. 32\n",
    "loss = history.history[\"loss\"]\n",
    "epochs = range (1 , len(loss) +1)\n",
    "acc = history.history[\"accuracy\"]\n",
    "val_acc = history.history[\"val_accuracy\"]\n",
    "val_loss = history.history[\"val_loss\"]"
   ]
  },
  {
   "cell_type": "markdown",
   "metadata": {},
   "source": [
    "<div style='color: #690027;' markdown=\"1\">\n",
    "    <h3>4.3 Prestatie van het model</h3> \n",
    "</div>"
   ]
  },
  {
   "cell_type": "code",
   "execution_count": null,
   "metadata": {},
   "outputs": [],
   "source": [
    "font = {'family': 'serif',\n",
    "        'color':  'black',\n",
    "        'weight': 'normal',\n",
    "        'size': 14,\n",
    "        }\n",
    "plt.figure(figsize=(16,8))\n",
    "\n",
    "plt.subplot(1,2,1)\n",
    "plt.plot(epochs, loss, color=\"blue\", label=\"train\", linewidth=2)\n",
    "plt.plot(epochs, val_loss, color=\"lightblue\", label=\"val\", linewidth=2)\n",
    "plt.xticks(np.arange(0, 41, step=10))             \n",
    "plt.title(\"Loss op training- en validatieset\", fontdict=font)\n",
    "plt.xlabel(\"epoch\", fontdict=font)\n",
    "plt.ylabel(\"loss\", fontdict=font)\n",
    "plt.legend(loc=\"lower left\")\n",
    "\n",
    "plt.subplot(1,2,2)\n",
    "plt.plot(epochs, acc, color=\"green\", label=\"train\", linewidth=2)\n",
    "plt.plot(epochs, val_acc, color=\"lime\", label=\"val\", linewidth=2)\n",
    "plt.xticks(np.arange(0, 41, step=10)) \n",
    "\n",
    "plt.xlabel(\"epoch\", fontdict=font)\n",
    "plt.ylabel(\"acc\", fontdict=font)\n",
    "\n",
    "plt.title(\"Accuracy op training- en validatieset\", fontdict=font)\n",
    "plt.legend(loc=\"lower right\")\n",
    "\n",
    "\n",
    "plt.show()"
   ]
  },
  {
   "cell_type": "markdown",
   "metadata": {},
   "source": [
    "<div style='color: #690027;' markdown=\"1\">\n",
    "    <h2>5. Decision boundary</h2> \n",
    "</div>"
   ]
  },
  {
   "cell_type": "code",
   "execution_count": null,
   "metadata": {},
   "outputs": [],
   "source": [
    "# decision boundary\n",
    "font = {'family': 'serif',\n",
    "        'color':  'black',\n",
    "        'weight': 'normal',\n",
    "        'size': 14,\n",
    "        }\n",
    "color = [\"blue\", \"green\"]\n",
    "soort = [\"parabool 1\", \"parabool 2\"]\n",
    "                 \n",
    "\n",
    "plt.figure(figsize=(8, 6))\n",
    "\n",
    "for target in range(2):\n",
    "    X_plot = X[y == target]\n",
    "    plt.scatter(X_plot[:, 0], X_plot[:, 1], marker='o', color=color[target], label=soort[target])\n",
    "plt.title(\"Classificatie punten twee parabolen\", fontdict=font)\n",
    "plt.xlabel(\"x-coördinaat\", fontdict=font)\n",
    "plt.ylabel(\"y-coördinaat\", fontdict=font)\n",
    "plt.legend(loc=\"upper right\")\n",
    "\n",
    "as1 = np.linspace(-2, 2, 40)\n",
    "as2 = np.linspace(-2, 5, 40)\n",
    "\n",
    "# resolutie\n",
    "xx1 = np.arange(as1.min()-1, as1.max()+1, 0.1)\n",
    "xx2 = np.arange(as2.min()-1, as2.max()+1, 0.1)                     \n",
    "\n",
    "for a in xx1:\n",
    "    for b in xx2:\n",
    "        P = np.array([[a, b]])\n",
    "        voorspeldeklasse= network.predict_classes(P) \n",
    "        if voorspeldeklasse == 0:\n",
    "            kleur = \"lightblue\"\n",
    "        else:\n",
    "            kleur = \"lightgreen\"\n",
    "        plt.plot(a, b, marker='.', color=kleur)\n",
    "\n",
    "plt.show()"
   ]
  },
  {
   "cell_type": "markdown",
   "metadata": {},
   "source": [
    "<div class=\"alert alert-box alert-info\">\n",
    "De data bestaan uit punten met twee <b>kenmerken</b> en een overeenkomstig <b>label</b>. Het label kan twee waarden aannemen; er zijn twee <b>klassen</b>. Een grens tussen de klassen is een <b>decision boundary</b>. <br>\n",
    "Het model is een neuraal netwerk met een invoerlaag, een verborgen laag met activatiefunctie <b>ReLU</b> en een uitvoerlaag met activatiefunctie de <b>sigmoïde</b>-functie. De kostenfunctie is <b>binary cross-entropy</b> en de optimalisatiefunctie is <b>stochastic gradient descent met momentum</b>. <br>\n",
    "</div>"
   ]
  },
  {
   "cell_type": "markdown",
   "metadata": {},
   "source": [
    "<div>\n",
    "    <h2>Referentielijst</h2> \n",
    "</div>"
   ]
  },
  {
   "cell_type": "markdown",
   "metadata": {},
   "source": [
    "[1] Chollet, F. (2018). *Deep Learning with Python*. Manning Publications Co."
   ]
  },
  {
   "cell_type": "markdown",
   "metadata": {},
   "source": [
    "<img src=\"../.images/cclic.png\" alt=\"Banner\" align=\"left\" style=\"width:80px;\"/><br><br>\n",
    "Notebook KIKS, zie <a href=\"http://www.aiopschool.be\">AI Op School</a>, van F. wyffels & N. Gesquière is in licentie gegeven volgens een <a href=\"http://creativecommons.org/licenses/by-nc-sa/4.0/\">Creative Commons Naamsvermelding-NietCommercieel-GelijkDelen 4.0 Internationaal-licentie</a>."
   ]
  }
 ],
 "metadata": {
  "kernelspec": {
   "display_name": "Python 3",
   "language": "python",
   "name": "python3"
  },
  "language_info": {
   "codemirror_mode": {
    "name": "ipython",
    "version": 3
   },
   "file_extension": ".py",
   "mimetype": "text/x-python",
   "name": "python",
   "nbconvert_exporter": "python",
   "pygments_lexer": "ipython3",
   "version": "3.7.4"
  }
 },
 "nbformat": 4,
 "nbformat_minor": 2
}
