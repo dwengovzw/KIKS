{
 "cells": [
  {
   "cell_type": "markdown",
   "metadata": {},
   "source": [
    "<img src=\"../.images/logosnb.png\" alt=\"Banner\" style=\"width: 1100px;\"/>"
   ]
  },
  {
   "cell_type": "markdown",
   "metadata": {},
   "source": [
    "<div style='color: #690027;' markdown=\"1\">\n",
    "    <h1>GRAFIEKEN</h1> \n",
    "</div>"
   ]
  },
  {
   "cell_type": "markdown",
   "metadata": {},
   "source": [
    "<div class=\"alert alert-box alert-success\">\n",
    "In deze notebook zal je grafieken tekenen. Naast de module NumPy, ontworpen om wetenschappelijke berekeningen te doen met Python, zal je een tweede module Matplotlib nodig hebben.<br>\n",
    "Van deze module Matplotlib zal je de interface pyplot gebruiken. De functies van deze interface laten toe om grafieken te creëren en om grafieken te personaliseren, zoals bv. een rooster toevoegen, een bepaald deel van een assenstelsel laten zien, kleuren toevoegen… \n",
    "</div>"
   ]
  },
  {
   "cell_type": "markdown",
   "metadata": {},
   "source": [
    "<div class=\"alert alert-box alert-info\">\n",
    "Binnen machinaal leren onderscheidt men twee soorten problemen: <b>regressie</b> en <b>classificatie</b>. Het resultaat van de regressie of de classificatie kan men visualiseren met een grafiek.<br>\n",
    "Om een goed <em>deep learning</em>-model op te stellen, moet men steeds opletten voor <b>overfitting</b>. Zo'n <em>deep learning</em>-model leert a.d.h.v. trainingdata. Eens het model klaar is, moet het in staat zijn vrij accurate conclusies te trekken over nieuwe data. Bij overfitting presteert het model zeer goed op de data waarmee het getraind is, maar heeft het niet gegeneraliseerd: het presteert minder goed op nieuwe data. Overfitting opsporen gaat het gemakkelijkst met een grafiek. \n",
    "</div>"
   ]
  },
  {
   "cell_type": "markdown",
   "metadata": {},
   "source": [
    "### Nodige modules importeren"
   ]
  },
  {
   "cell_type": "code",
   "execution_count": null,
   "metadata": {},
   "outputs": [],
   "source": [
    "import numpy as np\n",
    "import matplotlib.pyplot as plt"
   ]
  },
  {
   "cell_type": "markdown",
   "metadata": {},
   "source": [
    "<div style='color: #690027;' markdown=\"1\">\n",
    "    <h2>1. Puntenwolk</h2> \n",
    "</div>"
   ]
  },
  {
   "cell_type": "markdown",
   "metadata": {},
   "source": [
    "Beschouw de koppels (0,3), (1,24), (2,12), (3,48), (4,6). <br>\n",
    "Dit zijn bivariate gegevens: gegevens met een x-coördinaat en een corresponderende y-coördinaat.<br>\n",
    "Om deze punten uit te zetten in een grafiek, maak je een Numpy array van de x-coördinaten en ook een van de y-coördinaten.<br>\n",
    "Bij het plotten zal Matplotlib de x'n en y's met dezelfde indices aan elkaar koppelen. <br><br>\n",
    "Voer de volgende code-cel uit.<br>\n",
    "*Misschien moet je meerdere keren 'Run' aanklikken voordat de grafiek verschijnt.*"
   ]
  },
  {
   "cell_type": "code",
   "execution_count": null,
   "metadata": {},
   "outputs": [],
   "source": [
    "# PUNTENWOLK\n",
    "\n",
    "plt.figure()                             # creëer figuur\n",
    "\n",
    "# koppels (O,3), (1,24), (2,12), (3,48), (4,6) ingeven m.b.v. Numpy arrays\n",
    "x = np.array([0, 1, 2, 3, 4])            # NumPy-lijst met x-coördinaten          \n",
    "y = np.array([3, 24, 12, 48, 6])         # NumPy-lijst met corresponderende y-coördinaten, volgorde is van belang \n",
    "\n",
    "# plot punten  \n",
    "plt.scatter(x, y, color=\"green\", marker=\".\")  \n",
    "      \n",
    "# tekenvenster openen\n",
    "plt.show()"
   ]
  },
  {
   "cell_type": "markdown",
   "metadata": {},
   "source": [
    "Zo'n grafiek noemt men een puntenwolk. "
   ]
  },
  {
   "cell_type": "markdown",
   "metadata": {},
   "source": [
    "<div class=\"alert alert-box alert-info\">\n",
    "Merk op dat het script opgedeeld is in drie stukken. Het probleem is opgebroken in kleinere deelproblemen, die beter beheersbaar zijn. Dit wordt <b>decompositie</b> genoemd. \n",
    "</div>"
   ]
  },
  {
   "cell_type": "markdown",
   "metadata": {},
   "source": [
    "Je kan het bereik en de ijk van de assen aanpassen.<br> Je kan ook de grootte van de grafiek aanpassen. <br>Daartoe moeten er wel instructies toegevoegd worden aan de code, bv. `figsize=(9,5)`."
   ]
  },
  {
   "cell_type": "code",
   "execution_count": null,
   "metadata": {},
   "outputs": [],
   "source": [
    "# PUNTENWOLK\n",
    "\n",
    "# koppels (O,3), (1,24), (2,12), (3,48), (4,6) ingeven m.b.v. Numpy arrays\n",
    "x = np.array([0, 1, 2, 3, 4])            # NumPy-lijst met x-coördinaten          \n",
    "y = np.array([3, 24, 12, 48, 6])         # NumPy-lijst met corresponderende y-coördinaten, volgorde is van belang\n",
    "\n",
    "plt.figure(figsize=(9,5))                             # creëer figuur\n",
    "\n",
    "# bereik en ijk assen\n",
    "plt.axis(xmin=-1, xmax=7, ymin=-10, ymax=70)  \n",
    "# plt.xticks(np.arange(-2, 8, step=2))             # ............\n",
    "# plt.yticks(np.arange(-10, 71, step=5))           # ............\n",
    "\n",
    "# .....\n",
    "plt.grid(True) \n",
    "\n",
    "# plot punten  \n",
    "plt.scatter(x, y, color=\"blue\", marker=\"o\")  \n",
    "\n",
    "# tekenvenster openen\n",
    "plt.show()"
   ]
  },
  {
   "cell_type": "markdown",
   "metadata": {},
   "source": [
    "### Opdracht 1.1 \n",
    "-  De instructies i.v.m. 'ticks' staan als commentaar. Maak deze instructies actief en voer de cel opnieuw uit. Zie je wat de 'ticks' zijn?\n",
    "-  Vul de commentaar in de vorige code-cel aan."
   ]
  },
  {
   "cell_type": "code",
   "execution_count": null,
   "metadata": {},
   "outputs": [],
   "source": [
    "# PUNTENWOLK\n",
    "\n",
    "# koppels (O,3), (1,24), (2,12), (3,48), (4,6) ingeven m.b.v. Numpy arrays\n",
    "x = np.array([0, 1, 2, 3, 4])            # NumPy-lijst met x-coördinaten          \n",
    "y = np.array([3, 24, 12, 48, 6])         # NumPy-lijst met corresponderende y-coördinaten, volgorde is van belang\n",
    "\n",
    "plt.figure(figsize=(9,5))                             # creëer figuur\n",
    "\n",
    "# bereik en ijk assen\n",
    "plt.axis(xmin=-1, xmax=7, ymin=-10, ymax=70)  \n",
    "plt.xticks(np.arange(-2, 8, step=2))             # ............\n",
    "plt.yticks(np.arange(-10, 71, step=5))           # ............\n",
    "\n",
    "# .....\n",
    "plt.grid(True) \n",
    "\n",
    "# plot punten  \n",
    "plt.scatter(x, y, color=\"blue\", marker=\"o\")  \n",
    "\n",
    "# tekenvenster openen\n",
    "plt.show()"
   ]
  },
  {
   "cell_type": "markdown",
   "metadata": {},
   "source": [
    "<div style='color: #690027;' markdown=\"1\">\n",
    "    <h2>2. Grafiek van een parabool met gegeven vergelijking</h2> \n",
    "</div>"
   ]
  },
  {
   "cell_type": "markdown",
   "metadata": {},
   "source": [
    "Beschouw de parabool met vergelijking $y=-3x^2+5$.<br>\n",
    "Om de grafiek van deze parabool te kunnen plotten, heeft Matplotlib x-coördinaten nodig. <br>Matplotlib zal zelf de corresponderende y-coördinaten berekenen, gebruikmakend van de vergelijking van de parabool. "
   ]
  },
  {
   "cell_type": "markdown",
   "metadata": {},
   "source": [
    "Voer de volgende code-cel uit en vul erna de commentaar aan. "
   ]
  },
  {
   "cell_type": "code",
   "execution_count": null,
   "metadata": {
    "scrolled": true
   },
   "outputs": [],
   "source": [
    "# kies de x-coördinaten van de punten die geplot worden\n",
    "x = np.linspace(-10, 10, 11)                      # linspace() levert Numpy-lijst van x-coördinaten\n",
    "\n",
    "# vergelijking van de parabool: y = -3 x² + 5\n",
    "y = -3 * x**2 + 5                                 # levert .............\n",
    "\n",
    "# coördinaten printen\n",
    "print(\"x= \", x)\n",
    "print(\"y= \", y)"
   ]
  },
  {
   "cell_type": "markdown",
   "metadata": {},
   "source": [
    "De nodige lijsten zijn voorhanden!<br>\n",
    "Nu rest je enkel nog toe te passen wat je leerde in puntje 1. Puntenwolk. <br>"
   ]
  },
  {
   "cell_type": "code",
   "execution_count": null,
   "metadata": {},
   "outputs": [],
   "source": [
    "# GRAFIEK VAN PARABOOL MET GEGEVEN VERGELIJKING\n",
    "\n",
    "# kies de x-coördinaten van de punten die geplot worden\n",
    "x = np.linspace(-10, 10, 11)                      # linspace() levert Numpy-lijst van x-coördinaten\n",
    "\n",
    "# vergelijking van de parabool: y = -3 x² + 5\n",
    "y = -3 * x**2 + 5                                 # levert .............\n",
    "\n",
    "plt.figure()                                      # ...................\n",
    "\n",
    "# bereik en ijk assen\n",
    "plt.axis(xmin=-10, xmax=10, ymin=-30, ymax=10)  \n",
    "# plt.xticks(np.arange(-10, 11, step=1))\n",
    "# plt.yticks(np.arange(-30, 11, step=5))\n",
    "\n",
    "# plot rooster\n",
    "plt.grid(True)\n",
    "\n",
    "# plot parabool \n",
    "plt.scatter(x, y, color=\"blue\", marker=\".\")          \n",
    "\n",
    "# tekenvenster openen\n",
    "plt.show()"
   ]
  },
  {
   "cell_type": "markdown",
   "metadata": {},
   "source": [
    "Het is is duidelijk dat niet alle punten binnen het bereik van de grafiek passen."
   ]
  },
  {
   "cell_type": "markdown",
   "metadata": {},
   "source": [
    "### Opdracht 2.1 \n",
    "*Gebruik de gekopieerde code-cel hieronder om deze opdracht uit te voeren.*\n",
    "-  Pas het bereik, de labels en de ijk van de assen aan.\n",
    "-  Verwijder het rooster."
   ]
  },
  {
   "cell_type": "code",
   "execution_count": null,
   "metadata": {},
   "outputs": [],
   "source": [
    "# GRAFIEK VAN PARABOOL MET GEGEVEN VERGELIJKING\n",
    "\n",
    "# kies de x-coördinaten van de punten die geplot worden\n",
    "x = np.linspace(-10, 10, 11)                      # linspace() levert Numpy-lijst van x-coördinaten\n",
    "\n",
    "# vergelijking van de parabool: y = -3 x² + 5\n",
    "y = -3 * x**2 + 5                                 # levert .............\n",
    "\n",
    "plt.figure()                                     # ...................\n",
    "\n",
    "# bereik en ijk assen\n",
    "plt.axis(xmin=-10, xmax=10, ymin=-30, ymax=10)  \n",
    "# plt.xticks(np.arange(-10, 11, step=1))\n",
    "# plt.yticks(np.arange(-30, 11, step=5))\n",
    "\n",
    "# plot rooster\n",
    "plt.grid(True)\n",
    "\n",
    "# plot parabool \n",
    "plt.scatter(x, y, color=\"blue\", marker=\".\")          \n",
    "\n",
    "# tekenvenster openen\n",
    "plt.show()"
   ]
  },
  {
   "cell_type": "markdown",
   "metadata": {},
   "source": [
    "### Opdracht 2.2\n",
    "Een parabool wordt weergegeven door een kromme. De punten moeten nog verbonden worden.<br>\n",
    "Daartoe gebruik je de Matplotlib-functie `plot()` i.p.v. `scatter()`.<br>\n",
    "\n",
    "-  Pas de code aan en voer ze uit.\n",
    "-  De kromme is nog te hoekig. Zorg ervoor dat de code meer punten genereert. Dat doe je door meer x-coördinaten te voorzien binnen hetzelfde bereik. Nu worden er 11 punten gegenereerd. Maak er 30 van en voer de code opnieuw uit."
   ]
  },
  {
   "cell_type": "code",
   "execution_count": null,
   "metadata": {},
   "outputs": [],
   "source": []
  },
  {
   "cell_type": "markdown",
   "metadata": {},
   "source": [
    "<div style='color: #690027;' markdown=\"1\">\n",
    "    <h2>3. Grafiek van twee rechten met gegeven vergelijking</h2> \n",
    "</div>"
   ]
  },
  {
   "cell_type": "markdown",
   "metadata": {},
   "source": [
    "Bestudeer de code aandachtig en voer het script uit. <br>\n",
    "*Misschien moet je meerdere keren 'Run' aanklikken voordat de grafiek verschijnt.*"
   ]
  },
  {
   "cell_type": "code",
   "execution_count": null,
   "metadata": {},
   "outputs": [],
   "source": [
    "# GRAFIEK VAN TWEE RECHTEN MET GEGEVEN VERGELIJKING\n",
    "\n",
    "# kies de x-coördinaten van de punten die geplot worden\n",
    "x = np.linspace(-9.5, 9.5, 20)\n",
    "\n",
    "# vergelijking van de eerste rechte: y = -3x + 5\n",
    "# vergelijking van de tweede rechte: y = 2x + 16\n",
    "y1 = -3 * x + 5                # y-coördinaten voor eerste rechte\n",
    "y2 = 2 * x + 16                # y-coördinaten voor tweede rechte\n",
    "\n",
    "# coördinaten printen\n",
    "print(x)\n",
    "print(y1)\n",
    "print(y2)\n",
    "\n",
    "\n",
    "plt.figure()                                     \n",
    "\n",
    "# bereik en ijk assen\n",
    "plt.axis(xmin=-10, xmax=10, ymin=-30, ymax=40)  \n",
    "plt.xticks(np.arange(-10, 11, step=1))\n",
    "plt.yticks(np.arange(-30, 45, step=5))\n",
    "\n",
    "# plot rooster\n",
    "plt.grid(True) \n",
    "\n",
    "# plot beide rechten  \n",
    "plt.plot(x, y1, color=\"blue\", linewidth=1.0, linestyle=\"solid\", marker=\".\")  \n",
    "plt.plot(x, y2, color=\"red\", linewidth=4.0, linestyle=\"dashed\")        \n",
    "\n",
    "# tekenvenster openen\n",
    "plt.show()"
   ]
  },
  {
   "cell_type": "markdown",
   "metadata": {},
   "source": [
    "**Merk op dat de x-as en y-as niet worden getekend.**"
   ]
  },
  {
   "cell_type": "markdown",
   "metadata": {},
   "source": [
    "### Opdracht 1.1\n",
    "*Gebruik het gekopieerde script hieronder om deze opdracht uit te voeren.*\n",
    "Beantwoord de volgende vragen:\n",
    "\n",
    "-  Welk type heeft de variabele x? \n",
    "-  Welk type heeft de variabele y1? \n",
    "-  Verander de waarden van de parameters in `plt.yticks(np.arange(-30, 45, step=5))`. Wat gebeurt er?\n",
    "-  Pas in de code `np.linspace(-9.5, 9.5, 20)` het getal 20 aan naar 10. Wat gebeurt er dan?\n",
    "-  Pas in de code `\"solid\"` aan naar `\"none\"` en `\".\"` naar `\"o\"`. Wat gebeurt er dan?"
   ]
  },
  {
   "cell_type": "markdown",
   "metadata": {},
   "source": [
    "Antwoord:"
   ]
  },
  {
   "cell_type": "code",
   "execution_count": null,
   "metadata": {},
   "outputs": [],
   "source": [
    "# GRAFIEK VAN TWEE RECHTEN MET GEGEVEN VERGELIJKING\n",
    "\n",
    "# kies de x-coördinaten van de punten die geplot worden\n",
    "x = np.linspace(-9.5, 9.5, 20)\n",
    "\n",
    "# vergelijking van de eerste rechte: y = -3x + 5\n",
    "# vergelijking van de tweede rechte: y = 2x + 16\n",
    "y1 = -3 * x + 5                # y-coördinaten voor eerste rechte\n",
    "y2 = 2 * x + 16                # y-coördinaten voor tweede rechte\n",
    "\n",
    "# coördinaten printen\n",
    "print(x)\n",
    "print(y1)\n",
    "print(y2)\n",
    "\n",
    "\n",
    "plt.figure()                                    \n",
    "\n",
    "# bereik en ijk assen\n",
    "plt.axis(xmin=-10, xmax=10, ymin=-30, ymax=40)  \n",
    "plt.xticks(np.arange(-10, 11, step=1))\n",
    "plt.yticks(np.arange(-30, 45, step=5))\n",
    "\n",
    "# plot rooster\n",
    "plt.grid(True) \n",
    "\n",
    "# plot beide rechten  \n",
    "plt.plot(x, y1, color=\"blue\", linewidth=1.0, linestyle=\"solid\", marker=\".\")  \n",
    "plt.plot(x, y2, color=\"red\", linewidth=4.0, linestyle=\"dashed\")        \n",
    "\n",
    "# tekenvenster openen\n",
    "plt.show()"
   ]
  },
  {
   "cell_type": "markdown",
   "metadata": {},
   "source": [
    "### Opdracht 1.2\n",
    "Maak aanpassingen in dit script - *kopieer het vorige script eerst hieronder in de nieuwe code-cel* - zodat:\n",
    "-  het rooster verdwijnt; \n",
    "-  de x-as van -6 tot 6 wordt getoond;\n",
    "-  de puntjes op de dalende rechte er niet meer staan;\n",
    "-  de stijgende rechte geen rode stippellijn meer is maar een lichtgroene, gestippelde lijn;\n",
    "-  de twee rechten even dik worden getekend."
   ]
  },
  {
   "cell_type": "code",
   "execution_count": null,
   "metadata": {},
   "outputs": [],
   "source": []
  },
  {
   "cell_type": "markdown",
   "metadata": {},
   "source": [
    "<div style='color: #690027;' markdown=\"1\">\n",
    "    <h2>4. Oefeningen</h2> \n",
    "</div>"
   ]
  },
  {
   "cell_type": "markdown",
   "metadata": {},
   "source": [
    "### Opdracht 4.1\n",
    "Schrijf een Python-script dat bij uitvoer de rechte y = –2x + 4 in het paars tekent. <br>Hierbij moet het assenstelsel zo getekend worden dat zowel de x-as als de y-as van –5 t.e.m. 10 worden getoond. <br>Er wordt ook een rooster getoond. <br>"
   ]
  },
  {
   "cell_type": "code",
   "execution_count": null,
   "metadata": {},
   "outputs": [],
   "source": []
  },
  {
   "cell_type": "markdown",
   "metadata": {},
   "source": [
    "### Uitdaging 4.2\n",
    "Voorzie de grafiek van een titel, bv. ‘Grafiek van een rechte’ en zorg ervoor dat de x- en y-as worden getoond.<br>\n",
    "(Tip: Al wat je nodig hebt, is reeds voorzien in matplotlib.pyplot, er is geen nieuwe import nodig. <br>Ga voor de nodige instructies eens kijken op https://python-graph-gallery.com/4-add-title-and-axis-label/  en  https://matplotlib.org/2.0.0/api/_as_gen/matplotlib.axes.Axes.axvline.html.)"
   ]
  },
  {
   "cell_type": "markdown",
   "metadata": {},
   "source": [
    "### Oefening 4.3\n",
    "Gegeven: de parabool $p \\leftrightarrow y=2x^2-2x-3$   en de rechte   $ a \\leftrightarrow y = 2x+27$  <br>\n",
    "Gevraagd: Schrijf een Python-script dat…\n",
    "-  de parabool en de rechte toont in een goedgekozen venster; \n",
    "-  de parabool voorstelt met een vloeiende lijn;\n",
    "-  ook de x-as en y-as toont. "
   ]
  },
  {
   "cell_type": "code",
   "execution_count": null,
   "metadata": {},
   "outputs": [],
   "source": []
  },
  {
   "cell_type": "markdown",
   "metadata": {},
   "source": [
    "### Oefening 4.4: Vind de bug\n",
    "De volgende oefening werd ontleend aan \"Exploratory computing with Python\" door Mark Bakker [1].<br>\n",
    "In het volgende script zit een fout. Verbeter en test uit!"
   ]
  },
  {
   "cell_type": "code",
   "execution_count": null,
   "metadata": {},
   "outputs": [],
   "source": [
    "import numpy as np\n",
    "import matplotlib.pyplot as plt\n",
    "\n",
    "y = (xvalues + 2) * (xvalues - 1) * (xvalues - 2)\n",
    "xvalues = linspace(-3, 3, 100)\n",
    "plt.plot(xvalues, y, linestyle=\"dashed\", color=\"red\")\n",
    "plt.plot([-2, 1, 2], [0, 0, 0], color=\"blue\", marker=\"o\", markersize=10)\n",
    "plt.xlabel(\"x-as\")\n",
    "plt.ylabel(\"y-as\")\n",
    "plt.title(\"Mooie figuur!\")"
   ]
  },
  {
   "cell_type": "markdown",
   "metadata": {},
   "source": [
    "<div class=\"alert alert-box alert-info\">\n",
    "<b>Debuggen</b> is het opsporen en verbeteren van fouten in code.\n",
    "</div>"
   ]
  },
  {
   "cell_type": "markdown",
   "metadata": {},
   "source": [
    "<div class=\"alert alert-block alert-warning\"> \n",
    "In de notebook 'CO$_{2}$' leer je hoe je een puntenwolk tekent die hoort bij de data geleverd door een csv-bestand.\n",
    "</div>"
   ]
  },
  {
   "cell_type": "markdown",
   "metadata": {},
   "source": [
    "<div>\n",
    "    <h2>Referentielijst</h2> \n",
    "</div>"
   ]
  },
  {
   "cell_type": "markdown",
   "metadata": {},
   "source": [
    "[1] Bakker, M. (2018) Exploratory computing with Python. Technische Universiteit Delft. <br> &nbsp; &nbsp; &nbsp; &nbsp; geraadpleegd op 14 april 2019 via https://mbakker7.github.io/exploratory_computing_with_python/. Gepubliceerd onder CC BY licentie."
   ]
  },
  {
   "cell_type": "markdown",
   "metadata": {},
   "source": [
    "<img src=\"../.images/cclic.png\" alt=\"Banner\" align=\"left\" style=\"width:100px;\"/><br><br>\n",
    "Notebook KIKS, zie <a href=\"http://www.aiopschool.be\">AI op School</a>, van F. wyffels & N. Gesquière is in licentie gegeven volgens een <a href=\"http://creativecommons.org/licenses/by-nc-sa/4.0/\">Creative Commons Naamsvermelding-NietCommercieel-GelijkDelen 4.0 Internationaal-licentie</a>. "
   ]
  }
 ],
 "metadata": {
  "kernelspec": {
   "display_name": "Python 3",
   "language": "python",
   "name": "python3"
  },
  "language_info": {
   "codemirror_mode": {
    "name": "ipython",
    "version": 3
   },
   "file_extension": ".py",
   "mimetype": "text/x-python",
   "name": "python",
   "nbconvert_exporter": "python",
   "pygments_lexer": "ipython3",
   "version": "3.6.4"
  }
 },
 "nbformat": 4,
 "nbformat_minor": 2
}
