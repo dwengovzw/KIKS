{
 "cells": [
  {
   "cell_type": "markdown",
   "metadata": {},
   "source": [
    "<img src=\"../.images/logosnb.png\" alt=\"Banner\" style=\"width:800px;\"/>"
   ]
  },
  {
   "cell_type": "markdown",
   "metadata": {},
   "source": [
    "<div style='color: #690027;' markdown=\"1\">\n",
    "    <h1>SMELTENDE GLETSJERS: DE MORTERATSCHGLETSJER</h1> \n",
    "</div>"
   ]
  },
  {
   "cell_type": "markdown",
   "metadata": {},
   "source": [
    "<div class=\"alert alert-box alert-success\">\n",
    "In deze notebook leer je een puntenwolk maken van data uit een <em>csv-bestand</em>. Je leert ook hoe je met de ingebouwde functies in de Python-module scikit-learn de regressielijn kunt bepalen.\n",
    "</div>"
   ]
  },
  {
   "cell_type": "markdown",
   "metadata": {},
   "source": [
    "Sinds de industriële revolutie is de concentratie broeikasgassen in de atmosfeer stelselmatig toegenomen. Sinds 1880 is de gemiddelde globale temperatuur ongeveer met 0,85 °C gestegen. Deze opwarming gaat gepaard met een opwarming van de oceanen, een stijging van het zeeniveau met 20 cm, het meer voorkomen van extreme weersomstandigheden en een afname van 40 % van het Arctische zee-ijs. Ook het gletsjerijs smelt, bijna overal ter wereld.<br><br>\n",
    "Het smeltwater afkomstig van gebergtegletsjers zal in belangrijke mate bepalen hoeveel het zeeniveau in de toekomst zal stijgen. Mogelijke scenario's spreken van een stijging tot 30 cm door het afsmelten van de gebergtegletsjers. <br>\n",
    "Bovendien hebben gletsjers een impact op lokale watervoorraden en zijn ze belangrijk voor het toerisme.<br>\n",
    "De snelheid waarmee het volume van een gletsjer afneemt o.i.v. de globale temperatuurstijging verschilt van gletsjer tot gletsjer. Lokale factoren spelen hierin immers een rol: bv. de oriëntatie van de gletsjer, de mate waarin de gletsjer in de schaduw ligt...[1]. "
   ]
  },
  {
   "cell_type": "markdown",
   "metadata": {},
   "source": [
    "De 6 km lange Morteratschgletsjer bevindt zich in Zwitserland en ligt een groot deel van het jaar in de schaduw van de omringende bergtoppen [1]. "
   ]
  },
  {
   "cell_type": "markdown",
   "metadata": {},
   "source": [
    "Dr. Lander Van Tricht verschafte ons data van zijn onderzoek naar hoe de Morteratschgletsjer evolueert. Sinds 1880 werd geregistreerd hoeveel meter de gletsjer jaarlijks terugtrekt [2]. "
   ]
  },
  {
   "cell_type": "markdown",
   "metadata": {},
   "source": [
    "### De nodige modules importeren"
   ]
  },
  {
   "cell_type": "code",
   "execution_count": 12,
   "metadata": {},
   "outputs": [],
   "source": [
    "import pandas as pd\n",
    "\n",
    "import matplotlib.pyplot as plt\n",
    "import numpy as np\n",
    "\n",
    "from sklearn.linear_model import LinearRegression"
   ]
  },
  {
   "cell_type": "markdown",
   "metadata": {},
   "source": [
    "<div style='color: #690027;' markdown=\"1\">\n",
    "    <h2>1. Inlezen van de data</h2> \n",
    "</div>"
   ]
  },
  {
   "cell_type": "code",
   "execution_count": 2,
   "metadata": {},
   "outputs": [],
   "source": [
    "morteratsch = pd.read_csv(\"../.data/IntroductiePython/Morteratsch.dat\")"
   ]
  },
  {
   "cell_type": "code",
   "execution_count": 3,
   "metadata": {},
   "outputs": [
    {
     "data": {
      "text/html": [
       "<div>\n",
       "<style scoped>\n",
       "    .dataframe tbody tr th:only-of-type {\n",
       "        vertical-align: middle;\n",
       "    }\n",
       "\n",
       "    .dataframe tbody tr th {\n",
       "        vertical-align: top;\n",
       "    }\n",
       "\n",
       "    .dataframe thead th {\n",
       "        text-align: right;\n",
       "    }\n",
       "</style>\n",
       "<table border=\"1\" class=\"dataframe\">\n",
       "  <thead>\n",
       "    <tr style=\"text-align: right;\">\n",
       "      <th></th>\n",
       "      <th>gletsjer</th>\n",
       "      <th>jaartal</th>\n",
       "      <th>terugtrekking (m)</th>\n",
       "    </tr>\n",
       "  </thead>\n",
       "  <tbody>\n",
       "    <tr>\n",
       "      <th>0</th>\n",
       "      <td>MORTERATSCH</td>\n",
       "      <td>1880</td>\n",
       "      <td>100</td>\n",
       "    </tr>\n",
       "    <tr>\n",
       "      <th>1</th>\n",
       "      <td>MORTERATSCH</td>\n",
       "      <td>1881</td>\n",
       "      <td>41</td>\n",
       "    </tr>\n",
       "    <tr>\n",
       "      <th>2</th>\n",
       "      <td>MORTERATSCH</td>\n",
       "      <td>1883</td>\n",
       "      <td>16</td>\n",
       "    </tr>\n",
       "    <tr>\n",
       "      <th>3</th>\n",
       "      <td>MORTERATSCH</td>\n",
       "      <td>1885</td>\n",
       "      <td>24</td>\n",
       "    </tr>\n",
       "    <tr>\n",
       "      <th>4</th>\n",
       "      <td>MORTERATSCH</td>\n",
       "      <td>1886</td>\n",
       "      <td>12</td>\n",
       "    </tr>\n",
       "  </tbody>\n",
       "</table>\n",
       "</div>"
      ],
      "text/plain": [
       "      gletsjer  jaartal  terugtrekking (m)\n",
       "0  MORTERATSCH     1880                100\n",
       "1  MORTERATSCH     1881                 41\n",
       "2  MORTERATSCH     1883                 16\n",
       "3  MORTERATSCH     1885                 24\n",
       "4  MORTERATSCH     1886                 12"
      ]
     },
     "execution_count": 3,
     "metadata": {},
     "output_type": "execute_result"
    }
   ],
   "source": [
    "morteratsch.head()"
   ]
  },
  {
   "cell_type": "code",
   "execution_count": 4,
   "metadata": {},
   "outputs": [
    {
     "data": {
      "text/html": [
       "<div>\n",
       "<style scoped>\n",
       "    .dataframe tbody tr th:only-of-type {\n",
       "        vertical-align: middle;\n",
       "    }\n",
       "\n",
       "    .dataframe tbody tr th {\n",
       "        vertical-align: top;\n",
       "    }\n",
       "\n",
       "    .dataframe thead th {\n",
       "        text-align: right;\n",
       "    }\n",
       "</style>\n",
       "<table border=\"1\" class=\"dataframe\">\n",
       "  <thead>\n",
       "    <tr style=\"text-align: right;\">\n",
       "      <th></th>\n",
       "      <th>gletsjer</th>\n",
       "      <th>jaartal</th>\n",
       "      <th>terugtrekking (m)</th>\n",
       "    </tr>\n",
       "  </thead>\n",
       "  <tbody>\n",
       "    <tr>\n",
       "      <th>126</th>\n",
       "      <td>MORTERATSCH</td>\n",
       "      <td>2014</td>\n",
       "      <td>22</td>\n",
       "    </tr>\n",
       "    <tr>\n",
       "      <th>127</th>\n",
       "      <td>MORTERATSCH</td>\n",
       "      <td>2015</td>\n",
       "      <td>164</td>\n",
       "    </tr>\n",
       "    <tr>\n",
       "      <th>128</th>\n",
       "      <td>MORTERATSCH</td>\n",
       "      <td>2016</td>\n",
       "      <td>70</td>\n",
       "    </tr>\n",
       "    <tr>\n",
       "      <th>129</th>\n",
       "      <td>MORTERATSCH</td>\n",
       "      <td>2017</td>\n",
       "      <td>70</td>\n",
       "    </tr>\n",
       "    <tr>\n",
       "      <th>130</th>\n",
       "      <td>MORTERATSCH</td>\n",
       "      <td>2018</td>\n",
       "      <td>135</td>\n",
       "    </tr>\n",
       "  </tbody>\n",
       "</table>\n",
       "</div>"
      ],
      "text/plain": [
       "        gletsjer  jaartal  terugtrekking (m)\n",
       "126  MORTERATSCH     2014                 22\n",
       "127  MORTERATSCH     2015                164\n",
       "128  MORTERATSCH     2016                 70\n",
       "129  MORTERATSCH     2017                 70\n",
       "130  MORTERATSCH     2018                135"
      ]
     },
     "execution_count": 4,
     "metadata": {},
     "output_type": "execute_result"
    }
   ],
   "source": [
    "morteratsch.tail()"
   ]
  },
  {
   "cell_type": "code",
   "execution_count": 5,
   "metadata": {},
   "outputs": [],
   "source": [
    "# tabel met 131 rijen en 3 kolommen\n",
    "# eerste kolom bevat naam van de gletsjer\n",
    "# tweede kolom komt overeen met jaartal van de meting, derde met terugtrekking van de gletsjer in meter\n",
    "# we werken met tweede en derde kolom van de tabel"
   ]
  },
  {
   "cell_type": "code",
   "execution_count": 6,
   "metadata": {},
   "outputs": [],
   "source": [
    "x = morteratsch[\"jaartal\"]    # hoofding van kolom  is een sleutel. \"jaartal\" is zo'n sleutel (speelt rol van index)\n",
    "y = morteratsch[\"terugtrekking (m)\"]"
   ]
  },
  {
   "cell_type": "code",
   "execution_count": 7,
   "metadata": {},
   "outputs": [
    {
     "name": "stdout",
     "output_type": "stream",
     "text": [
      "[1880 1881 1883 1885 1886 1887 1888 1889 1890 1891 1892 1893 1895 1897\n",
      " 1898 1899 1900 1901 1902 1903 1904 1905 1906 1907 1908 1909 1910 1911\n",
      " 1912 1913 1916 1917 1918 1919 1920 1921 1922 1923 1924 1925 1926 1927\n",
      " 1928 1929 1930 1931 1932 1933 1934 1935 1936 1937 1938 1939 1940 1941\n",
      " 1942 1943 1944 1945 1946 1947 1948 1949 1950 1951 1953 1954 1955 1956\n",
      " 1957 1958 1959 1960 1961 1962 1963 1964 1965 1966 1967 1968 1969 1970\n",
      " 1971 1972 1973 1974 1975 1976 1977 1978 1979 1981 1982 1983 1984 1985\n",
      " 1986 1987 1988 1989 1990 1991 1992 1993 1994 1995 1996 1997 1998 1999\n",
      " 2000 2001 2002 2003 2004 2005 2006 2007 2008 2009 2010 2011 2012 2013\n",
      " 2014 2015 2016 2017 2018]\n",
      "[100  41  16  24  12  20  38  14  18  18  10  24  12  37  12  -2   5   9\n",
      "   8   6   6   0   3   7  20  30   9  20  -5  10  12   6  10   5  16   6\n",
      "   9  10  12   6   9   9   8  11  11  12  15   4  15  14   7  12  26  34\n",
      "  42  22  22  20  34  22  20  48  12  19  20  26  48  36  16  20  31  46\n",
      "  39  35  33  45  38  44  38  41  31   5   8  24   4  12  12  14  16  27\n",
      "   5   5  23  56   2  10   5  -8   6   9  -2   7  11   5   6  24  12  24\n",
      "  26  11   7  39  30  26  30  77 -10  22  33  19  35  33  51  45  82  22\n",
      "  22 164  70  70 135]\n"
     ]
    }
   ],
   "source": [
    "# data omzetten naar geschikt formaat om mee te rekenen\n",
    "x = np.array(x)\n",
    "y = np.array(y)\n",
    "print(x)\n",
    "print(y)"
   ]
  },
  {
   "cell_type": "markdown",
   "metadata": {},
   "source": [
    "<div style='color: #690027;' markdown=\"1\">\n",
    "    <h2>2. Data weergeven in puntenwolk</h2> \n",
    "</div>"
   ]
  },
  {
   "cell_type": "code",
   "execution_count": 10,
   "metadata": {},
   "outputs": [
    {
     "data": {
      "image/png": "[encoded data removed]",
      "text/plain": [
       "<matplotlib.figure.Figure at 0x1eb85ab4b00>"
      ]
     },
     "metadata": {},
     "output_type": "display_data"
    }
   ],
   "source": [
    "plt.figure(figsize=(15,12))    # om een grotere grafiek te krijgen, zodat punten meer verspreid\n",
    "\n",
    "plt.xlim(1870, 2070)\n",
    "plt.ylim(-20, 250)\n",
    "\n",
    "plt.scatter(x, y, color=\"blue\", marker=\".\")\n",
    "\n",
    "plt.title(\"Terugtrekking gletsjer Morteratsch\")\n",
    "plt.xlabel(\"jaartal\")\n",
    "plt.ylabel(\"terugtrekking in m\")\n",
    "\n",
    "plt.show()"
   ]
  },
  {
   "cell_type": "markdown",
   "metadata": {},
   "source": [
    "<div style='color: #690027;' markdown=\"1\">\n",
    "    <h2>3. Opdracht: totale terugtrekking</h2> \n",
    "</div>"
   ]
  },
  {
   "cell_type": "markdown",
   "metadata": {},
   "source": [
    "Bereken m.b.v. een Python-script hoeveel meter de Morteratschgletsjer al is afgenomen in lengte sinds 1880."
   ]
  },
  {
   "cell_type": "code",
   "execution_count": null,
   "metadata": {},
   "outputs": [],
   "source": []
  },
  {
   "cell_type": "markdown",
   "metadata": {},
   "source": [
    "Bereken m.b.v. een Python-script hoeveel meter de Morteratsch-gletsjer al is afgenomen in lengte sinds 2000."
   ]
  },
  {
   "cell_type": "code",
   "execution_count": null,
   "metadata": {},
   "outputs": [],
   "source": []
  },
  {
   "cell_type": "markdown",
   "metadata": {},
   "source": [
    "<div class=\"alert alert-block alert-warning\"> \n",
    "Je vindt inspiratie in de notebook 'Structuren'.\n",
    "</div>"
   ]
  },
  {
   "cell_type": "markdown",
   "metadata": {},
   "source": [
    "<div style='color: #690027;' markdown=\"1\">\n",
    "    <h2>4. Bepalen van de trend</h2> \n",
    "</div>"
   ]
  },
  {
   "cell_type": "markdown",
   "metadata": {},
   "source": [
    "Om de trendlijn te bepalen, maak je gebruik van de ingebouwde functies van de module scikit-learn."
   ]
  },
  {
   "cell_type": "code",
   "execution_count": 15,
   "metadata": {},
   "outputs": [
    {
     "data": {
      "image/png": "[encoded data removed]",
      "text/plain": [
       "<matplotlib.figure.Figure at 0x1eb87c07f60>"
      ]
     },
     "metadata": {},
     "output_type": "display_data"
    }
   ],
   "source": [
    "# gewenste formaat\n",
    "X= x[:, np.newaxis] \n",
    "\n",
    "# regressie\n",
    "regressielijn = LinearRegression()    # aanmaken van regressielijn-object\n",
    "regressielijn.fit(X,y)                # regressielijn bepalen die bij data past \n",
    "\n",
    "# grafiek\n",
    "plt.figure(figsize=(15,12)) \n",
    "\n",
    "plt.xlim(1870, 2070)\n",
    "plt.ylim(-20, 250)\n",
    "\n",
    "plt.scatter(x, y, color=\"blue\", marker=\".\")\n",
    "plt.plot(x, regressielijn.predict(X), color=\"green\")\n",
    "\n",
    "plt.title(\"Terugtrekking gletsjer Morteratsch\")\n",
    "plt.xlabel(\"jaartal\")\n",
    "plt.ylabel(\"terugtrekking in m\")\n",
    "\n",
    "plt.show()"
   ]
  },
  {
   "cell_type": "markdown",
   "metadata": {},
   "source": [
    "<div style='color: #690027;' markdown=\"1\">\n",
    "    <h2>5. Bepalen van de trend over twee periodes</h2> \n",
    "</div>"
   ]
  },
  {
   "cell_type": "markdown",
   "metadata": {},
   "source": [
    "Splits de periode op: een eerste periode tot 1990 en een tweede peiode van 1990 tot nu."
   ]
  },
  {
   "cell_type": "code",
   "execution_count": 18,
   "metadata": {},
   "outputs": [
    {
     "data": {
      "text/plain": [
       "(array([103], dtype=int64),)"
      ]
     },
     "execution_count": 18,
     "metadata": {},
     "output_type": "execute_result"
    }
   ],
   "source": [
    "# index bepalen van 1991\n",
    "np.where(x==1991)"
   ]
  },
  {
   "cell_type": "code",
   "execution_count": 19,
   "metadata": {},
   "outputs": [],
   "source": [
    "# array's bepalen\n",
    "x1 = x[:103]\n",
    "y1 = y[:103]\n",
    "x2 = x[103:]\n",
    "y2 = y[103:]"
   ]
  },
  {
   "cell_type": "code",
   "execution_count": 20,
   "metadata": {},
   "outputs": [
    {
     "data": {
      "image/png": "[encoded data removed]",
      "text/plain": [
       "<matplotlib.figure.Figure at 0x1eb882f3d30>"
      ]
     },
     "metadata": {},
     "output_type": "display_data"
    }
   ],
   "source": [
    "# gewenste formaat\n",
    "X1 = x1[:, np.newaxis] \n",
    "X2 = x2[:, np.newaxis]  \n",
    "\n",
    "# regressie\n",
    "regressielijn1 = LinearRegression()\n",
    "regressielijn1.fit(X1,y1)\n",
    "regressielijn2 = LinearRegression()\n",
    "regressielijn2.fit(X2,y2)\n",
    "\n",
    "# grafiek\n",
    "plt.figure(figsize=(15,12))    \n",
    "plt.xlim(1870, 2070)\n",
    "plt.ylim(-20, 250)\n",
    "plt.scatter(x, y, color=\"blue\", marker=\".\")\n",
    "plt.plot(x1, regressielijn1.predict(X1), color=\"green\")\n",
    "plt.plot(x2, regressielijn2.predict(X2), color=\"green\")\n",
    "plt.title(\"Terugtrekking gletsjer Morteratsch\")\n",
    "plt.xlabel(\"jaartal\")\n",
    "plt.ylabel(\"terugtrekking in m\")\n",
    "plt.show()"
   ]
  },
  {
   "cell_type": "markdown",
   "metadata": {},
   "source": [
    "<div>\n",
    "    <h2>Referentielijst</h2> \n",
    "</div>"
   ]
  },
  {
   "cell_type": "markdown",
   "metadata": {},
   "source": [
    "[1] Zekollari, H., Fürst, J. J., & Huybrechts, P. (2014). Modelling the evolution of Vadret da Morteratsch, Switzerland, since the little ice age and into the future.<br>&nbsp; &nbsp; &nbsp; &nbsp; *Journal of Glaciology*.60, 244. doi:10.3189/2014JoG14J053.<br>\n",
    "[2] Van Tricht, L. (2019). Via e-mail. "
   ]
  },
  {
   "cell_type": "markdown",
   "metadata": {},
   "source": [
    "<img src=\"../.images/cclic.png\" alt=\"Banner\" align=\"left\" style=\"width:80px;\"/><br><br>\n",
    "Notebook KIKS, zie <a href=\"http://www.aiopschool.be\">ai op school</a>, van F. wyffels & N. Gesquière is in licentie gegeven volgens een <a href=\"http://creativecommons.org/licenses/by-nc-sa/4.0/\">Creative Commons Naamsvermelding-NietCommercieel-GelijkDelen 4.0 Internationaal-licentie</a>. "
   ]
  }
 ],
 "metadata": {
  "kernelspec": {
   "display_name": "Python 3",
   "language": "python",
   "name": "python3"
  },
  "language_info": {
   "codemirror_mode": {
    "name": "ipython",
    "version": 3
   },
   "file_extension": ".py",
   "mimetype": "text/x-python",
   "name": "python",
   "nbconvert_exporter": "python",
   "pygments_lexer": "ipython3",
   "version": "3.6.4"
  }
 },
 "nbformat": 4,
 "nbformat_minor": 2
}
