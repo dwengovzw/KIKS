{
 "cells": [
  {
   "cell_type": "markdown",
   "metadata": {},
   "source": [
    "<img src=\"../.images/KIKSteam2.png\" alt=\"Banner\" style=\"width: 800px;\"/>"
   ]
  },
  {
   "cell_type": "markdown",
   "metadata": {},
   "source": [
    "<div style='color: #690027;' markdown=\"1\">\n",
    "    <h1>DATATYPE</h1> \n",
    "</div>"
   ]
  },
  {
   "cell_type": "markdown",
   "metadata": {},
   "source": [
    "<div class=\"alert alert-box alert-success\">\n",
    "Python is een object-georiënteerde taal. Alles is er een object: elk getal, elk stuk tekst... Elk object heeft een bepaald <b>datatype</b>, bv. <em>int</em> en <em>string</em>. \n",
    "</div>"
   ]
  },
  {
   "cell_type": "markdown",
   "metadata": {},
   "source": [
    "<div style='color: #690027;' markdown=\"1\">\n",
    "    <h2>1. String en int</h2> \n",
    "</div>"
   ]
  },
  {
   "cell_type": "markdown",
   "metadata": {},
   "source": [
    "Met *string* en *int* maakte je reeds kennis in de notebook \"Aan de slag!\"."
   ]
  },
  {
   "cell_type": "markdown",
   "metadata": {},
   "source": [
    "<div class=\"alert alert-box alert-info\">\n",
    "Het datatype <b>string</b> verwijst naar tekst.<br>\n",
    "Het datatype <b>int</b> verwijst naar een geheel getal.\n",
    "</div>"
   ]
  },
  {
   "cell_type": "code",
   "execution_count": null,
   "metadata": {},
   "outputs": [],
   "source": [
    "bloem = \"iris\""
   ]
  },
  {
   "cell_type": "markdown",
   "metadata": {},
   "source": [
    "`bloem` is een variabele die refereert naar het object `\"iris\"`. Men zegt zowel dat `\"iris\"` als de variabele `bloem` van het dataype *string* zijn. <br>"
   ]
  },
  {
   "cell_type": "code",
   "execution_count": null,
   "metadata": {},
   "outputs": [],
   "source": [
    "getal = -3"
   ]
  },
  {
   "cell_type": "markdown",
   "metadata": {},
   "source": [
    "`getal` is een variabele die refereert naar het object `-3`. Men zegt zowel dat `-3` als de variabele `getal` van het dataype *int* zijn. <br>"
   ]
  },
  {
   "cell_type": "markdown",
   "metadata": {},
   "source": [
    "<div class=\"alert alert-box alert-info\">\n",
    "Een variabele heeft dus hetzelfde datatype als het object waarnaar het refereert.\n",
    "</div>"
   ]
  },
  {
   "cell_type": "code",
   "execution_count": null,
   "metadata": {},
   "outputs": [],
   "source": [
    "aantal = 25\n",
    "print(\"Op de bladafdruk van de koffieplant tellen we\" + str(aantal) + \"huidmondjes.\")"
   ]
  },
  {
   "cell_type": "markdown",
   "metadata": {},
   "source": [
    "<div style='color: #690027;' markdown=\"1\">\n",
    "    <h2>2. Float en uint</h2> \n",
    "</div>"
   ]
  },
  {
   "cell_type": "markdown",
   "metadata": {},
   "source": [
    "<div style='color: #690027;' markdown=\"1\">\n",
    "    <h2>3. Boolean</h2> \n",
    "</div>"
   ]
  },
  {
   "cell_type": "markdown",
   "metadata": {},
   "source": [
    "<div style='color: #690027;' markdown=\"1\">\n",
    "    <h2>4. Lijsten</h2> \n",
    "</div>"
   ]
  },
  {
   "cell_type": "code",
   "execution_count": null,
   "metadata": {},
   "outputs": [],
   "source": [
    "monocotyl = [\"prei\", \"orchidee\", \"iris\", \"ananasboom\"]\n",
    "dicotyl = [\"notelaar\", \"madeliefje\", \"roos\", \"tomatenplant\"]"
   ]
  },
  {
   "cell_type": "markdown",
   "metadata": {},
   "source": [
    "`monocotyl`en `dicotyl`is een object van het datatype **list**. Het zijn dus *lijsten*. <br>Beide lijsten bevatten vier *elementen*. De elementen van beide lijsten zijn van het datatype `string`. "
   ]
  },
  {
   "cell_type": "markdown",
   "metadata": {},
   "source": [
    "Voer het volgende script uit. <br>Kijk goed wat de methodes `sort()`,  `remove()`, `append()` en `pop()` en de functie `len()` doen."
   ]
  },
  {
   "cell_type": "code",
   "execution_count": null,
   "metadata": {},
   "outputs": [],
   "source": [
    "getallen = [3, 7, 1, 13, 2, 4, 5, 11, 15]       # lijst van getallen\n",
    "\n",
    "# deze lijst sorteren van klein naar groot\n",
    "getallen.sort()\n",
    "print(getallen)\n",
    "\n",
    "# deze lijst omvormen tot een lijst van 7 priemgetallen\n",
    "# 1, 4 en 15 zijn geen priemgetallen\n",
    "# er zijn maar 6 priemgetallen over, voeg er nog een toe\n",
    "getallen.remove(1)\n",
    "getallen.remove(4)\n",
    "getallen.pop() \n",
    "getallen.append(17)\n",
    "print(getallen)\n",
    "\n",
    "# tellen hoeveel elementen in de lijst priemgetallen\n",
    "print(len(getallen))"
   ]
  },
  {
   "cell_type": "markdown",
   "metadata": {},
   "source": [
    "`sort()` kan je ook gebruiken om een lijst van woorden *alfabetisch* te rangschikken. "
   ]
  },
  {
   "cell_type": "markdown",
   "metadata": {},
   "source": [
    "### Opdracht\n",
    "Vervolledig het volgende script:\n",
    "-  sorteer de lijst wiskundigen alfabetisch; \n",
    "-  verwijder \"Galois\"; \n",
    "-  voeg er twee wiskundige vrouwen aan toe; \n",
    "-  laat de lijst wiskundigen uitprinten;\n",
    "-  bepaal erna het aantal personen in de lijst wiskundigen en laat dat aantal afdrukken."
   ]
  },
  {
   "cell_type": "code",
   "execution_count": null,
   "metadata": {},
   "outputs": [],
   "source": [
    "wiskundigen = [\"Fermat\", \"Gauss\", \"Euler\", \"Fibonacci\", \"Galois\"]\n",
    "wiskundige_vrouwen = [\"Noether\", \"Nightingale\", \"Lovelace\"]"
   ]
  },
  {
   "cell_type": "code",
   "execution_count": null,
   "metadata": {},
   "outputs": [],
   "source": []
  },
  {
   "cell_type": "markdown",
   "metadata": {},
   "source": [
    "<div style='color: #690027;' markdown=\"1\">\n",
    "    <h2>5. np array</h2> \n",
    "</div>"
   ]
  },
  {
   "cell_type": "code",
   "execution_count": null,
   "metadata": {},
   "outputs": [],
   "source": []
  },
  {
   "cell_type": "markdown",
   "metadata": {},
   "source": [
    "<div style='color: #690027;' markdown=\"1\">\n",
    "    <h2>6. Tuple</h2> \n",
    "</div>"
   ]
  },
  {
   "cell_type": "markdown",
   "metadata": {},
   "source": [
    "<div style='color: #690027;' markdown=\"1\">\n",
    "    <h2>7. Dictionary</h2> \n",
    "</div>"
   ]
  },
  {
   "cell_type": "code",
   "execution_count": null,
   "metadata": {},
   "outputs": [],
   "source": []
  }
 ],
 "metadata": {
  "kernelspec": {
   "display_name": "Python 3",
   "language": "python",
   "name": "python3"
  },
  "language_info": {
   "codemirror_mode": {
    "name": "ipython",
    "version": 3
   },
   "file_extension": ".py",
   "mimetype": "text/x-python",
   "name": "python",
   "nbconvert_exporter": "python",
   "pygments_lexer": "ipython3",
   "version": "3.6.4"
  }
 },
 "nbformat": 4,
 "nbformat_minor": 2
}
