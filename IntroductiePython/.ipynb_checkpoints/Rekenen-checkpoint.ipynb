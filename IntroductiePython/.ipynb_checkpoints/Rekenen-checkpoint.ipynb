{
 "cells": [
  {
   "cell_type": "markdown",
   "metadata": {},
   "source": [
    "<img src=\"../.images/logosnb.png\" alt=\"Banner\" style=\"width: 800px;\"/>"
   ]
  },
  {
   "cell_type": "markdown",
   "metadata": {},
   "source": [
    "<div style='color: #690027;' markdown=\"1\">\n",
    "    <h1>REKENEN</h1> \n",
    "</div>"
   ]
  },
  {
   "cell_type": "markdown",
   "metadata": {},
   "source": [
    "<div class=\"alert alert-box alert-success\">\n",
    "In Python kan je ook rekenen. Je moet daarvoor wel de operatoren gebruiken die daartoe in Python zijn voorzien. <br>\n",
    "Soms zal het ook nodig zijn een module te importeren, die meer mogelijkheden biedt dan de standaardoperatoren.\n",
    "</div>"
   ]
  },
  {
   "cell_type": "markdown",
   "metadata": {},
   "source": [
    "<div style='color: #690027;' markdown=\"1\">\n",
    "    <h2>1. Rekenkundige operatoren</h2> \n",
    "</div>"
   ]
  },
  {
   "cell_type": "markdown",
   "metadata": {},
   "source": [
    "|                                | <p align=\"center\"> Wiskunde                        | <p align=\"right\"> Python         |                |\n",
    "| ---                            | ---                      | ---                    | ---                                          |\n",
    "|<p align=\"left\"> plus          | <p align=\"center\"> +     |  +   |                                                  |\n",
    "| <p align=\"left\">min           | <p align=\"center\"> -     |  -   |                                                  |\n",
    "|<p align=\"left\"> maal          | <p align=\"center\"> .     |  *   | <p align=\"left\"> kan ook toegepast worden op string|\n",
    "| <p align=\"left\">gedeeld door  | <p align=\"center\"> /     |  /   |                                                  |\n",
    "| <p align=\"left\">gehele deling |                          | //   | <p align=\"left\"> geeft geheel getal na deling afgerond naar beneden|\n",
    "| <p align=\"left\">modulo        | <p align=\"center\"> mod   | %    | <p align=\"left\"> geeft rest na gehele deling |\n",
    "| <p align=\"left\">macht         | <p align=\"center\"> $a^b$ | a**b | <p align=\"left\">    | \n"
   ]
  },
  {
   "cell_type": "markdown",
   "metadata": {},
   "source": [
    "### Van wiskunde naar Python: oefen even met de operatoren"
   ]
  },
  {
   "cell_type": "markdown",
   "metadata": {},
   "source": [
    "Er wordt telkens een bewerking gegeven in de notatie die je gewoon bent uit de wiskundeles.<br> \n",
    "Bedenk zelf de uitkomst van de bewerking én controleer door de bewerking via een Python-instructie, die je ingeeft in de code-cel, uit te voeren. "
   ]
  },
  {
   "cell_type": "markdown",
   "metadata": {},
   "source": [
    "2 + 7.8 =  "
   ]
  },
  {
   "cell_type": "code",
   "execution_count": null,
   "metadata": {},
   "outputs": [],
   "source": []
  },
  {
   "cell_type": "markdown",
   "metadata": {},
   "source": [
    "(2 + 7) . 8 = "
   ]
  },
  {
   "cell_type": "code",
   "execution_count": null,
   "metadata": {},
   "outputs": [],
   "source": []
  },
  {
   "cell_type": "markdown",
   "metadata": {},
   "source": [
    "$ 2^5 $ = "
   ]
  },
  {
   "cell_type": "code",
   "execution_count": null,
   "metadata": {},
   "outputs": [],
   "source": []
  },
  {
   "cell_type": "markdown",
   "metadata": {},
   "source": [
    "$ -3^2 $ = "
   ]
  },
  {
   "cell_type": "code",
   "execution_count": null,
   "metadata": {},
   "outputs": [],
   "source": []
  },
  {
   "cell_type": "markdown",
   "metadata": {},
   "source": [
    "17 mod 4 = "
   ]
  },
  {
   "cell_type": "code",
   "execution_count": null,
   "metadata": {},
   "outputs": [],
   "source": []
  },
  {
   "cell_type": "markdown",
   "metadata": {},
   "source": [
    "9 / 2 ="
   ]
  },
  {
   "cell_type": "code",
   "execution_count": null,
   "metadata": {},
   "outputs": [],
   "source": []
  },
  {
   "cell_type": "markdown",
   "metadata": {},
   "source": [
    "12 / 3 = "
   ]
  },
  {
   "cell_type": "code",
   "execution_count": null,
   "metadata": {},
   "outputs": [],
   "source": []
  },
  {
   "cell_type": "markdown",
   "metadata": {},
   "source": [
    "<div class=\"alert alert-box alert-info\">\n",
    "Een decimaal getal zoals 4.0 heeft het type <b>float</b>. 4 heeft het type <b>integer</b>.\n",
    "</div>"
   ]
  },
  {
   "cell_type": "markdown",
   "metadata": {},
   "source": [
    "### Verschillende operatoren voor een deling in Python\n",
    "Gedeeld door kan je in Python zowel met de operator `/` als de operator `//` laten uitvoeren.<br> **Wat is nu juist het verschil tussen de operator `/` en de operator  `//`?**"
   ]
  },
  {
   "cell_type": "markdown",
   "metadata": {},
   "source": [
    "Voer telkens de instructie in de code-cel uit en vergelijk de uitvoer van de verschillende instructies."
   ]
  },
  {
   "cell_type": "code",
   "execution_count": null,
   "metadata": {},
   "outputs": [],
   "source": [
    "9.0 / 2.0  "
   ]
  },
  {
   "cell_type": "code",
   "execution_count": null,
   "metadata": {},
   "outputs": [],
   "source": [
    "9.0 / 2"
   ]
  },
  {
   "cell_type": "code",
   "execution_count": null,
   "metadata": {},
   "outputs": [],
   "source": [
    "9 / 2.0"
   ]
  },
  {
   "cell_type": "code",
   "execution_count": null,
   "metadata": {},
   "outputs": [],
   "source": [
    "9 // 2"
   ]
  },
  {
   "cell_type": "code",
   "execution_count": null,
   "metadata": {},
   "outputs": [],
   "source": [
    "9.0 // 2 "
   ]
  },
  {
   "cell_type": "markdown",
   "metadata": {},
   "source": [
    "Begrijp je nu het verschil tussen  `/`  en  `//`  ?"
   ]
  },
  {
   "cell_type": "markdown",
   "metadata": {},
   "source": [
    "<div style='color: #690027;' markdown=\"1\">\n",
    "    <h2>2. De standaardmodule 'Math'</h2> \n",
    "</div>"
   ]
  },
  {
   "cell_type": "markdown",
   "metadata": {},
   "source": [
    "<div class=\"alert alert-block alert-info\"> \n",
    "In een <b>module</b> zitten heel wat functies vervat die ervaren informatici reeds voor jou hebben geprogrammeerd. Zo wordt het gebruik van Python zeer toegankelijk. Om een module te kunnen gebruiken, moet je die eerst <b>importeren</b>.  \n",
    "</div>"
   ]
  },
  {
   "cell_type": "markdown",
   "metadata": {},
   "source": [
    "Het is opvallend dat een bepaalde bewerking hier niet tussen staat: de *vierkantswortel*.\n",
    "Gelukkig kan je wel vierkantswortels berekenen met Python, maar daarvoor moet je de *module* `math` importeren. Je doet dit door de volgende code-cel uit te voeren. "
   ]
  },
  {
   "cell_type": "code",
   "execution_count": null,
   "metadata": {},
   "outputs": [],
   "source": [
    "import math"
   ]
  },
  {
   "cell_type": "markdown",
   "metadata": {},
   "source": [
    "Behalve met vierkantswortels, kan je nu bv. ook met het getal $\\pi$ en met goniometrische functies aan de slag.\n",
    "Test eens uit."
   ]
  },
  {
   "cell_type": "code",
   "execution_count": null,
   "metadata": {},
   "outputs": [],
   "source": [
    "print(math.pi)\n",
    "print(math.sqrt(16))"
   ]
  },
  {
   "cell_type": "markdown",
   "metadata": {},
   "source": [
    "Je kan het ook als volgt doen. "
   ]
  },
  {
   "cell_type": "code",
   "execution_count": null,
   "metadata": {},
   "outputs": [],
   "source": [
    "from math import sqrt, pi, radians, sin\n",
    "\n",
    "print(pi)\n",
    "print(sqrt(2))\n",
    "print(sin(radians(30)))"
   ]
  },
  {
   "cell_type": "markdown",
   "metadata": {},
   "source": [
    "<div style='color: #690027;' markdown=\"1\">\n",
    "    <h2>3. Oefeningen</h2> \n",
    "</div>"
   ]
  },
  {
   "cell_type": "markdown",
   "metadata": {},
   "source": [
    "Los volgende oefeningen op door een instructie te schrijven in de voorziene code-cellen. Voer die dan ook uit!"
   ]
  },
  {
   "cell_type": "markdown",
   "metadata": {},
   "source": [
    "1)\tHoeveel boeketten van € 53 kan men kopen met € 2564? "
   ]
  },
  {
   "cell_type": "code",
   "execution_count": null,
   "metadata": {},
   "outputs": [],
   "source": []
  },
  {
   "cell_type": "markdown",
   "metadata": {},
   "source": [
    "2) Bereken de inhoud van een bol met straal 7 cm. Controleer met je GRM."
   ]
  },
  {
   "cell_type": "code",
   "execution_count": null,
   "metadata": {},
   "outputs": [],
   "source": []
  },
  {
   "cell_type": "markdown",
   "metadata": {},
   "source": [
    "3)\tTina heeft deelgenomen aan een loopwedstrijd van 6 mijl in Washington. Ze legde de afstand af in 62 minuten en 20 seconden. Aan welke snelheid, uitgedrukt in km/h, liep Tina gemiddeld? (1 mijl is gelijk aan 1,61 km.)"
   ]
  },
  {
   "cell_type": "code",
   "execution_count": null,
   "metadata": {},
   "outputs": [],
   "source": []
  },
  {
   "cell_type": "markdown",
   "metadata": {},
   "source": [
    "4)\tDe kleinste eenheid van data is een bit: 0 of 1. Een byte bestaat uit 8 bits. <br>Hoeveel bytes zijn er? Of met andere woorden: hoeveel combinaties kan men maken met 0 en 1 op 8 plaatsen **. . . . . . . .** , zoals 01100100? "
   ]
  },
  {
   "cell_type": "code",
   "execution_count": null,
   "metadata": {},
   "outputs": [],
   "source": []
  },
  {
   "cell_type": "markdown",
   "metadata": {},
   "source": [
    "<div class=\"alert alert-block alert-info\"> \n",
    "Een <b>bit</b> is een informatie-eenheid. De term is afkomstig van <b>binary digit</b>. Het is een eenheid die enkel de waarden 0 en 1 kan aannemen. <br>Acht bits vormen samen een <b>byte</b>. \n",
    "</div>"
   ]
  },
  {
   "cell_type": "markdown",
   "metadata": {},
   "source": [
    "<img src=\"../.images/cclic.png\" alt=\"Banner\" align=\"left\" style=\"width:80px;\"/><br><br>\n",
    "Notebook KIKS, zie <a href=\"http://www.aiopschool.be\">ai op school</a>, van F. wyffels & N. Gesquière is in licentie gegeven volgens een <a href=\"http://creativecommons.org/licenses/by-nc-sa/4.0/\">Creative Commons Naamsvermelding-NietCommercieel-GelijkDelen 4.0 Internationaal-licentie</a>. "
   ]
  }
 ],
 "metadata": {
  "kernelspec": {
   "display_name": "Python 3",
   "language": "python",
   "name": "python3"
  },
  "language_info": {
   "codemirror_mode": {
    "name": "ipython",
    "version": 3
   },
   "file_extension": ".py",
   "mimetype": "text/x-python",
   "name": "python",
   "nbconvert_exporter": "python",
   "pygments_lexer": "ipython3",
   "version": "3.6.4"
  }
 },
 "nbformat": 4,
 "nbformat_minor": 2
}
