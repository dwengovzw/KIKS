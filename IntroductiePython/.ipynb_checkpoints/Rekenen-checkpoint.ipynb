{
 "cells": [
  {
   "cell_type": "markdown",
   "metadata": {},
   "source": [
    "<img src=\"../.images/KIKSteam2.png\" alt=\"Banner\" style=\"width: 800px;\"/>"
   ]
  },
  {
   "cell_type": "markdown",
   "metadata": {},
   "source": [
    "<div style='color: #690027;' markdown=\"1\">\n",
    "    <h1>REKENEN</h1> \n",
    "</div>\n"
   ]
  },
  {
   "cell_type": "markdown",
   "metadata": {},
   "source": [
    "<div style='color: #690027;' markdown=\"1\">\n",
    "    <h2>1. Rekenkundige operatoren</h2> \n",
    "</div>"
   ]
  },
  {
   "cell_type": "markdown",
   "metadata": {},
   "source": [
    "|                                | <p align=\"center\"> Wiskunde                        | <p align=\"right\"> Python         |                |\n",
    "| ---                            | ---                      | ---                    | ---                                          |\n",
    "|<p align=\"left\"> plus          | <p align=\"center\"> +     | <p align=\"center\"> +   |                                                  |\n",
    "| <p align=\"left\"> min           | <p align=\"right\"> -     | <p align=\"center\"> -   |                                                  |\n",
    "| <p align=\"left\"> maal          | <p align=\"center\"> .     | <p align=\"center\"> *   | <p align=\"left\"> kan ook toegepast worden op string|\n",
    "| <p align=\"left\"> gedeeld door  | <p align=\"center\"> /     | <p align=\"center\"> /   |                                                  |\n",
    "| <p align=\"left\"> gehele deling |                          | <p align=\"center\"> //  | <p align=\"left\"> geeft geheel getal na deling afgerond naar beneden|\n",
    "| <p align=\"left\"> modulo        | <p align=\"center\"> mod   | <p align=\"center\"> %   | <p align=\"left\"> geeft rest na gehele deling |\n",
    "| <p align=\"left\"> macht         | <p align=\"center\"> $a^b$ | <p align=\"center\"> a**b| <p align=\"left\">    | \n",
    "\n"
   ]
  },
  {
   "cell_type": "markdown",
   "metadata": {},
   "source": [
    "### Van wiskunde naar Python: oefen even met de operatoren"
   ]
  },
  {
   "cell_type": "markdown",
   "metadata": {},
   "source": [
    "Er wordt telkens een bewerking gegeven in de notatie die je gewoon bent uit de wiskundeles.<br> \n",
    "Vul hieronder deze opgave in het tekstvak in én controleer door de bewerking met een Python-instructie in te geven in de code-cel: "
   ]
  },
  {
   "cell_type": "markdown",
   "metadata": {},
   "source": [
    "2 + 7.8 =  "
   ]
  },
  {
   "cell_type": "code",
   "execution_count": null,
   "metadata": {},
   "outputs": [],
   "source": []
  },
  {
   "cell_type": "markdown",
   "metadata": {},
   "source": [
    "(2 + 7) . 8 = "
   ]
  },
  {
   "cell_type": "code",
   "execution_count": null,
   "metadata": {},
   "outputs": [],
   "source": []
  },
  {
   "cell_type": "markdown",
   "metadata": {},
   "source": [
    "$ 2^5 $ = "
   ]
  },
  {
   "cell_type": "code",
   "execution_count": null,
   "metadata": {},
   "outputs": [],
   "source": []
  },
  {
   "cell_type": "markdown",
   "metadata": {},
   "source": [
    "$ -3^2 $ = "
   ]
  },
  {
   "cell_type": "code",
   "execution_count": null,
   "metadata": {},
   "outputs": [],
   "source": []
  },
  {
   "cell_type": "markdown",
   "metadata": {},
   "source": [
    "17 mod 4 = "
   ]
  },
  {
   "cell_type": "code",
   "execution_count": null,
   "metadata": {},
   "outputs": [],
   "source": []
  },
  {
   "cell_type": "markdown",
   "metadata": {},
   "source": [
    "9 / 2 ="
   ]
  },
  {
   "cell_type": "code",
   "execution_count": null,
   "metadata": {},
   "outputs": [],
   "source": []
  },
  {
   "cell_type": "markdown",
   "metadata": {},
   "source": [
    "12 / 3 = "
   ]
  },
  {
   "cell_type": "code",
   "execution_count": null,
   "metadata": {},
   "outputs": [],
   "source": []
  },
  {
   "cell_type": "markdown",
   "metadata": {},
   "source": [
    "### Wat is nu juist het verschil tussen de operator / en de operator  //?"
   ]
  },
  {
   "cell_type": "markdown",
   "metadata": {},
   "source": [
    "Voer telkens de instructie in de code-cel uit."
   ]
  },
  {
   "cell_type": "code",
   "execution_count": null,
   "metadata": {},
   "outputs": [],
   "source": [
    "9.0 / 2.0  "
   ]
  },
  {
   "cell_type": "code",
   "execution_count": null,
   "metadata": {},
   "outputs": [],
   "source": [
    "9.0 / 2"
   ]
  },
  {
   "cell_type": "code",
   "execution_count": null,
   "metadata": {},
   "outputs": [],
   "source": [
    "9 / 2.0"
   ]
  },
  {
   "cell_type": "code",
   "execution_count": null,
   "metadata": {},
   "outputs": [],
   "source": [
    "9 // 2"
   ]
  },
  {
   "cell_type": "code",
   "execution_count": null,
   "metadata": {},
   "outputs": [],
   "source": [
    "9.0 // 2 "
   ]
  },
  {
   "cell_type": "markdown",
   "metadata": {},
   "source": [
    "Begrijp je nu het verschil tussen  /  en  //  ?"
   ]
  },
  {
   "cell_type": "markdown",
   "metadata": {},
   "source": [
    "<div style='color: #690027;' markdown=\"1\">\n",
    "    <h2>2. De standaardmodule 'Math'</h2> \n",
    "</div>"
   ]
  },
  {
   "cell_type": "markdown",
   "metadata": {},
   "source": [
    "Het is opvallend dat een bepaalde bewerking hier niet tussen staat: de vierkantswortel.\n",
    "Gelukkig kan je wel vierkantswortels berekenen met Python, maar daarvoor moet je de *module math* importeren. \n",
    "Test eens uit."
   ]
  },
  {
   "cell_type": "code",
   "execution_count": null,
   "metadata": {},
   "outputs": [],
   "source": [
    "import math\n",
    "\n",
    "print(math.pi)\n",
    "print(math.sqrt(16))"
   ]
  },
  {
   "cell_type": "markdown",
   "metadata": {},
   "source": [
    "Je kan het ook als volgt doen. "
   ]
  },
  {
   "cell_type": "code",
   "execution_count": null,
   "metadata": {},
   "outputs": [],
   "source": [
    "from math import sqrt, pi, radians, sin\n",
    "\n",
    "print(pi)\n",
    "print(sqrt(2))\n",
    "print(sin(radians(30)))"
   ]
  },
  {
   "cell_type": "markdown",
   "metadata": {},
   "source": [
    "<div style='color: #690027;' markdown=\"1\">\n",
    "    <h2>3. Oefeningen</h2> \n",
    "</div>"
   ]
  },
  {
   "cell_type": "markdown",
   "metadata": {},
   "source": [
    "Los volgende oefeningen op door code te schrijven in deze notebook. Voer die dan ook uit!"
   ]
  },
  {
   "cell_type": "markdown",
   "metadata": {},
   "source": [
    "1) Bereken de inhoud van een bol met straal 7 cm. Controleer met je GRM."
   ]
  },
  {
   "cell_type": "code",
   "execution_count": null,
   "metadata": {},
   "outputs": [],
   "source": []
  },
  {
   "cell_type": "markdown",
   "metadata": {},
   "source": [
    "2)\tTina heeft deelgenomen aan een loopwedstrijd van 6 mijl in Washington. Ze legde de afstand af in 62 minuten en 20 seconden. Aan welke snelheid, uitgedrukt in km/h, liep Tina gemiddeld? (1 mijl is gelijk aan 1,61 km.)"
   ]
  },
  {
   "cell_type": "code",
   "execution_count": null,
   "metadata": {},
   "outputs": [],
   "source": []
  },
  {
   "cell_type": "markdown",
   "metadata": {},
   "source": [
    "3)\tBereken de coördinaat van het punt met abscis 2 op de parabool *p: y = 2x² - 4x + 3*."
   ]
  },
  {
   "cell_type": "code",
   "execution_count": null,
   "metadata": {},
   "outputs": [],
   "source": []
  }
 ],
 "metadata": {
  "kernelspec": {
   "display_name": "Python 3",
   "language": "python",
   "name": "python3"
  },
  "language_info": {
   "codemirror_mode": {
    "name": "ipython",
    "version": 3
   },
   "file_extension": ".py",
   "mimetype": "text/x-python",
   "name": "python",
   "nbconvert_exporter": "python",
   "pygments_lexer": "ipython3",
   "version": "3.6.4"
  }
 },
 "nbformat": 4,
 "nbformat_minor": 2
}
