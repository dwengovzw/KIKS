{
 "cells": [
  {
   "cell_type": "markdown",
   "metadata": {},
   "source": [
    "<img src=\"../.images/KIKSteam2.png\" alt=\"Banner\" style=\"width: 800px;\"/>"
   ]
  },
  {
   "cell_type": "markdown",
   "metadata": {},
   "source": [
    "<div style='color: #690027;' markdown=\"1\">\n",
    "    <h1>GRAFIEKEN</h1> \n",
    "</div>"
   ]
  },
  {
   "cell_type": "markdown",
   "metadata": {},
   "source": [
    "Binnen machinaal leren onderscheidt men twee soorten problemen: regressie en classificatie. Als de data beperkt zijn, kan men het resultaat van de regressie of de classificatie visualiseren met een grafiek.<br>\n",
    "Om een goed *deep learning*-model op te stellen, moet men steeds opletten voor overfitting. Overfitting opsporen gaat het gemakkelijkst met een grafiek. "
   ]
  },
  {
   "cell_type": "markdown",
   "metadata": {},
   "source": [
    "Om grafieken te tekenen zullen we, naast de module NumPy, ontworpen om wetenschappelijke berekeningen te doen met Python, een tweede module Matplotlib nodig hebben.<br>\n",
    "Wij gaan uit deze module Matplotlib gebruikmaken van de interface pyplot. Deze interface laat toe om de grafieken te personaliseren, zoals bv. een rooster toevoegen, een bepaald deel van een assenstelsel tekenen, kleuren toevoegen… "
   ]
  },
  {
   "cell_type": "markdown",
   "metadata": {},
   "source": [
    "<div style='color: #690027;' markdown=\"1\">\n",
    "    <h2>Nodige modules importeren</h2> \n",
    "</div>"
   ]
  },
  {
   "cell_type": "code",
   "execution_count": null,
   "metadata": {},
   "outputs": [],
   "source": [
    "import numpy as np\n",
    "import matplotlib.pyplot as plt"
   ]
  },
  {
   "cell_type": "markdown",
   "metadata": {},
   "source": [
    "<div style='color: #690027;' markdown=\"1\">\n",
    "    <h2>Voorbeeld</h2> \n",
    "</div>"
   ]
  },
  {
   "cell_type": "markdown",
   "metadata": {},
   "source": [
    "Bestudeer de code aandachtig en voer het script uit. <br>\n",
    "*Misschien moet je meerdere keren 'Run' aanklikken voordat de grafiek verschijnt.*"
   ]
  },
  {
   "cell_type": "code",
   "execution_count": null,
   "metadata": {},
   "outputs": [],
   "source": [
    "# GRAFIEK VAN TWEE RECHTEN MET GEGEVEN VERGELIJKING\n",
    "\n",
    "# bepaal de x-coördinaten die we willen plotten\n",
    "x = np.linspace(-9.5, 9.5, 20)\n",
    "# vergelijking van de eerste rechte: y = -3x + 5\n",
    "# vergelijking van de tweede rechte: y = 2x + 16\n",
    "# bereken nu voor elke x-coördinaat de y-waarde\n",
    "y1 = -3 * x + 5\n",
    "y2 = 2 * x + 16\n",
    "# punten printen\n",
    "print(x)\n",
    "print(y1)\n",
    "print(y2)\n",
    "\n",
    "# 2 rechten plotten\n",
    "# bereik en schaal assen\n",
    "plt.axis(xmin = -10, xmax = 10, ymin = -30, ymax = 40)  \n",
    "plt.xticks(np.arange(-10, 11, step=1))\n",
    "plt.yticks(np.arange(-30, 45, step=5))\n",
    "# plot rooster\n",
    "plt.grid(True) \n",
    "# plot beide rechten  \n",
    "plt.plot(x, y1, color=\"blue\", linewidth=1.0, linestyle=\"solid\", marker=\".\")  \n",
    "plt.plot(x, y2, color=\"red\", linewidth=4.0, linestyle=\"dashed\")        \n",
    "\n",
    "# tekenvenster openen\n",
    "plt.show()"
   ]
  },
  {
   "cell_type": "markdown",
   "metadata": {},
   "source": [
    "**Merk op dat de x-as en y-as niet worden getekend.**"
   ]
  },
  {
   "cell_type": "markdown",
   "metadata": {},
   "source": [
    "Beantwoord nu volgende vragen (je kan hiervoor het gekopieerde script hieronder gebruiken):\n",
    "\n",
    "-  Welk datatype heeft de variabele x? \n",
    "-  Verander de waarden van de parameters in plt.yticks(np.arange(-30, 45, step=5)). Wat gebeurt er?\n",
    "-  Pas in de code np.linspace(-9.5, 9.5, 20) het getal 20 aan naar 10. Wat gebeurt er dan?\n",
    "-  Pas in de code \"solid\" aan naar \"none\" en \".\" naar \"o\". Wat gebeurt er dan?"
   ]
  },
  {
   "cell_type": "markdown",
   "metadata": {},
   "source": [
    "Antwoord:"
   ]
  },
  {
   "cell_type": "code",
   "execution_count": null,
   "metadata": {},
   "outputs": [],
   "source": [
    "# GRAFIEK VAN TWEE RECHTEN MET GEGEVEN VERGELIJKING\n",
    "\n",
    "# bepaal de x-coördinaten die we willen plotten\n",
    "x = np.linspace(-9.5, 9.5, 20)\n",
    "# vergelijking van de eerste rechte: y = -3x + 5\n",
    "# vergelijking van de tweede rechte: y = 2x + 16\n",
    "# bereken nu voor elke x-coördinaat de y-waarde\n",
    "y1 = -3 * x + 5\n",
    "y2 = 2 * x + 16\n",
    "# punten printen\n",
    "print(x)\n",
    "print(y1)\n",
    "print(y2)\n",
    "\n",
    "# 2 rechten plotten\n",
    "# bereik en schaal assen\n",
    "plt.axis(xmin = -10, xmax = 10, ymin = -30, ymax = 40)  \n",
    "plt.xticks(np.arange(-10, 11, step=1))\n",
    "plt.yticks(np.arange(-30, 45, step=5))\n",
    "# plot rooster\n",
    "plt.grid(True) \n",
    "# plot beide rechten  \n",
    "plt.plot(x, y1, color=\"blue\", linewidth=1.0, linestyle=\"solid\", marker=\".\")  \n",
    "plt.plot(x, y2, color=\"red\", linewidth=4.0, linestyle=\"dashed\")        \n",
    "\n",
    "# tekenvenster openen\n",
    "plt.show()"
   ]
  },
  {
   "cell_type": "markdown",
   "metadata": {},
   "source": [
    "<div style='color: #690027;' markdown=\"1\">\n",
    "    <h2>Oefening 1</h2> \n",
    "</div>"
   ]
  },
  {
   "cell_type": "markdown",
   "metadata": {},
   "source": [
    "Maak aanpassingen in dit script - *kopieer het vorige script eerst hieronder in de nieuwe code-cel* - zodat:\n",
    "-  het rooster verdwijnt; \n",
    "-  het schermbereik van de x-as tussen -6 en 6 ligt;\n",
    "-  de puntjes op de dalende rechte er niet meer staan;\n",
    "-  de stijgende rechte geen rode stippellijn meer is maar een lichtgroene, gestippelde lijn;\n",
    "-  de twee rechten even dik worden getekend."
   ]
  },
  {
   "cell_type": "code",
   "execution_count": null,
   "metadata": {},
   "outputs": [],
   "source": []
  },
  {
   "cell_type": "markdown",
   "metadata": {},
   "source": [
    "<div style='color: #690027;' markdown=\"1\">\n",
    "    <h2>Oefening 2</h2> \n",
    "</div>"
   ]
  },
  {
   "cell_type": "markdown",
   "metadata": {},
   "source": [
    "### Opdracht\n",
    "Schrijf een Python-script dat bij uitvoer de rechte y = –2x + 4 in het paars tekent. <br>Hierbij moet het assenstelsel zo getekend worden dat zowel het schermbereik van de x-as als van de y-as van –5 t.e.m. 10 lopen. <br>Ook moet er een rooster zichtbaar zijn! <br>\n",
    "### Uitdaging \n",
    "Voorzie de grafiek van een titel, bv. ‘Grafiek van een rechte’ en zorg ervoor dat de x- en y-as worden getekend.<br>\n",
    "(Tip: Al wat je nodig hebt, is reeds voorzien in matplotlib.pyplot, er is geen nieuwe import nodig. <br>Ga voor de nodige instructies eens kijken op https://python-graph-gallery.com/4-add-title-and-axis-label/  en  https://matplotlib.org/2.0.0/api/_as_gen/matplotlib.axes.Axes.axvline.html.)"
   ]
  },
  {
   "cell_type": "code",
   "execution_count": null,
   "metadata": {},
   "outputs": [],
   "source": []
  },
  {
   "cell_type": "markdown",
   "metadata": {},
   "source": [
    "<div style='color: #690027;' markdown=\"1\">\n",
    "    <h2>Oefening 3</h2> \n",
    "</div>"
   ]
  },
  {
   "cell_type": "markdown",
   "metadata": {},
   "source": [
    "Gegeven: de parabool $p \\leftrightarrow y=2x^2-2x-3$   en de rechte   $ a \\leftrightarrow y = 2x+27$  <br>\n",
    "Gevraagd: Schrijf een Python-script dat …\n",
    "-  de parabool en de rechte tekent in een goedgekozen venster; \n",
    "-  de parabool voorstelt met een vloeiende lijn;\n",
    "-  ook de x-as en y-as tekent. "
   ]
  },
  {
   "cell_type": "code",
   "execution_count": null,
   "metadata": {},
   "outputs": [],
   "source": []
  },
  {
   "cell_type": "markdown",
   "metadata": {},
   "source": [
    "<div style='color: #690027;' markdown=\"1\">\n",
    "    <h2>Oefening 4: Vind de bug</h2> \n",
    "</div>"
   ]
  },
  {
   "cell_type": "markdown",
   "metadata": {},
   "source": [
    "(Met dank aan Mark Bakker, Technische Universiteit Delft, https://mbakker7.github.io/exploratory_computing_with_python/.)<br>\n",
    "In het volgende script zit een fout. Verbeter en test uit!"
   ]
  },
  {
   "cell_type": "code",
   "execution_count": null,
   "metadata": {},
   "outputs": [],
   "source": [
    "import numpy as np\n",
    "import matplotlib.pyplot as plt\n",
    "\n",
    "y = (xvalues + 2) * (xvalues - 1) * (xvalues - 2)\n",
    "xvalues = linspace(-3, 3, 100)\n",
    "plt.plot(xvalues, y, linestyle=\"dashed\", color=\"red\")\n",
    "plt.plot([-2, 1, 2], [0, 0, 0], color=\"blue\", marker=\"o\", markersize=10)\n",
    "plt.xlabel(\"x-as\")\n",
    "plt.ylabel(\"y-as\")\n",
    "plt.title(\"Mooie figuur!\")"
   ]
  }
 ],
 "metadata": {
  "kernelspec": {
   "display_name": "Python 3",
   "language": "python",
   "name": "python3"
  },
  "language_info": {
   "codemirror_mode": {
    "name": "ipython",
    "version": 3
   },
   "file_extension": ".py",
   "mimetype": "text/x-python",
   "name": "python",
   "nbconvert_exporter": "python",
   "pygments_lexer": "ipython3",
   "version": "3.6.4"
  }
 },
 "nbformat": 4,
 "nbformat_minor": 2
}
