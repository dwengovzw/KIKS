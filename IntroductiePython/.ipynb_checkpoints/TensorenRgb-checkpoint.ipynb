{
 "cells": [
  {
   "cell_type": "markdown",
   "metadata": {},
   "source": [
    "<img src=\"../.images/logosnb.png\" alt=\"Banner\" style=\"width: 800px;\"/>"
   ]
  },
  {
   "cell_type": "markdown",
   "metadata": {},
   "source": [
    "<div style='color: #690027;' markdown=\"1\">\n",
    "    <h1>TENSOREN EN RGB</h1> \n",
    "</div>"
   ]
  },
  {
   "cell_type": "markdown",
   "metadata": {},
   "source": [
    "<div class=\"alert alert-box alert-success\">\n",
    "Deze notebook onthult hoe digitale beelden zijn opgebouwd en hoe de computer ernaar kijkt.\n",
    "</div>"
   ]
  },
  {
   "cell_type": "markdown",
   "metadata": {},
   "source": [
    "Bronnen:<br> *Image filtering*, http://machinelearninguru.com/computer_vision/basics/convolution/image_convolution_1.html, geraadpleegd op 16/11/2018 <br>\n",
    "*Convolutions*, Utkarsh Sinha, http://aishack.in/tutorials/image-convolution-examples/, geraadpleegd op 16/11/2018<br> *Image Convolution*, Jamie Ludwig,http://web.pdx.edu/~jduh/courses/Archive/geog481w07/Students/Ludwig_ImageConvolution.pdf,  geraadpleegd op 16/11/2018"
   ]
  },
  {
   "cell_type": "markdown",
   "metadata": {},
   "source": [
    "<div style='color: #690027;' markdown=\"1\">\n",
    "    <h2>Nodige modules importeren</h2> \n",
    "</div>"
   ]
  },
  {
   "cell_type": "code",
   "execution_count": 1,
   "metadata": {},
   "outputs": [],
   "source": [
    "# import PIL\n",
    "import numpy as np\n",
    "import matplotlib.pyplot as plt\n",
    "#import scipy.signal\n",
    "#import scipy.ndimage"
   ]
  },
  {
   "cell_type": "markdown",
   "metadata": {},
   "source": [
    "<div class=\"alert alert-box alert-info\">\n",
    "<b>Een digitale afbeelding is dus een rechthoekig rooster van pixels.</b> Men spreekt ook van een rasterafbeelding of een bitmap.<br>\n",
    "Het woord '<b>pixel</b>' komt van picture (Engels voor afbeelding) en element. <br> \n",
    "Het woord '<b>digitaal</b>' komt van 'digitus' (Latijn voor vinger) en verwijst naar het tellen op de vingers. <br>\n",
    "GIF, JPEG, PNG zijn <b>bestandsformaten</b> voor het opslaan van digitale afbeeldingen.<br>\n",
    "</div>"
   ]
  },
  {
   "cell_type": "markdown",
   "metadata": {},
   "source": [
    "<div style='color: #690027;' markdown=\"1\">\n",
    "    <h1>2. Kleur van een pixel</h1> \n",
    "</div>"
   ]
  },
  {
   "cell_type": "markdown",
   "metadata": {},
   "source": [
    "Van de begonia hierboven werd een deel van een bloemblad afgepeld en onder de microscoop gelegd. Met een smartphone werd door de microscoop een foto genomen. Op het bloemblad waren enkele stomata te zien."
   ]
  },
  {
   "cell_type": "markdown",
   "metadata": {},
   "source": [
    "<img src=\"../.images/IntroductiePython/begonia.jpg\" alt=\"Banner\" style=\"width: 300px;\"/>\n",
    "<center>Figuur 2: begonia, huidmondje</center> \n",
    "<center>Foto door Natacha Gesquière, genomen met smartphone door microscoop, Plantentuin UGent </center> "
   ]
  },
  {
   "cell_type": "markdown",
   "metadata": {},
   "source": [
    "*Elke pixel heeft een bepaalde kleur. <br>Bij een zwart-witafbeelding is een pixel zwart of wit. Bij een grijswaarde-afbeelding is dat een grijswaarde. Bij een kleurenafbeelding is dat een kleur.*"
   ]
  },
  {
   "cell_type": "markdown",
   "metadata": {},
   "source": [
    "Vooraleer je aan de slag gaat met een kleurenfoto, leer je eerst de principes a.d.h.v. een foto in grijswaarden."
   ]
  },
  {
   "cell_type": "markdown",
   "metadata": {},
   "source": [
    "<div class=\"alert alert-box alert-info\">\n",
    "Een afbeelding in grijswaarden kan men zo opslaan dat die overeen komt met een matrix, waarvan de elementen natuurlijke getallen tussen 0 en 255 zijn. Deze getallen zijn opgeslagen in een byte. \n",
    "</div>"
   ]
  },
  {
   "cell_type": "markdown",
   "metadata": {},
   "source": [
    "<div class=\"alert alert-block alert-info\"> \n",
    "Een <b>bit</b> is een informatie-eenheid. De term is afkomstig van <b>binary digit</b>. Het is een eenheid die enkel de waarden 0 en 1 kan aannemen. <br>Acht bits vormen samen een <b>byte</b>. Er zijn 256 mogelijke bytes. \n",
    "</div>"
   ]
  },
  {
   "cell_type": "markdown",
   "metadata": {},
   "source": [
    "<div style='color: #690027;' markdown=\"1\">\n",
    "    <h1>1. Kleuren</h1> \n",
    "</div>"
   ]
  },
  {
   "cell_type": "markdown",
   "metadata": {},
   "source": [
    "Electromagnetische golven hebben een breed spectrum van golflengtes, waarbij elke golflengte overeenkomt met een andere kleur. Het licht dat de mens kan zien, zichtbaar licht, beslaat slechts een klein deel van het spectrum. Het zichtbaar licht met de kleinste golflengtes is blauw, dat met de grootste golflengtes is rood."
   ]
  },
  {
   "cell_type": "markdown",
   "metadata": {},
   "source": [
    "<img src=\"../.images/IntroductiePython/spectrum-visible-960x458.jpg\" alt=\"Banner\" style=\"width: 800px;\"/>\n",
    "*Source: Gringer [Public domain], from Wikimedia Commons*"
   ]
  },
  {
   "cell_type": "markdown",
   "metadata": {},
   "source": [
    "Door rood, groen en blauw licht te mengen, kan bijna elke kleur gesimuleerd worden. Kleurenfoto's kunnen dan ook in een **RGB-systeem** worden opgeslagen (RGB = rood, groen, blauw).<br>\n",
    "In dat geval zijn er wel drie matrices nodig: één voor de rode tinten, één voor de groene tinten en één voor de blauwe tinten. Deze drie roosters worden dan gestapeld tot een soort balk van getallen. In de computerwetenschappen spreekt men van een **tensor**. "
   ]
  },
  {
   "cell_type": "markdown",
   "metadata": {},
   "source": [
    "<div style='color: #690027;' markdown=\"1\">\n",
    "    <h3>VOORBEELD</h3> \n",
    "</div>\n",
    "<br>\n",
    "We hernemen de foto met het huidmondje (figuur 2).      "
   ]
  },
  {
   "cell_type": "markdown",
   "metadata": {},
   "source": [
    "<img src=\"../.images/IntroductiePython/begonia.jpg\" alt=\"Banner\" style=\"width: 300px;\"/>\n",
    "<center>figuur 2: begonia met huidmondje</center>"
   ]
  },
  {
   "cell_type": "code",
   "execution_count": null,
   "metadata": {},
   "outputs": [],
   "source": [
    "begonia_RGB = plt.imread(\"begonia.jpg\")\n",
    "plt.imshow(begonia_RGB)"
   ]
  },
  {
   "cell_type": "code",
   "execution_count": null,
   "metadata": {},
   "outputs": [],
   "source": [
    "print(begonia_RGB)   \n",
    "print(begonia_RGB.shape, begonia_RGB.dtype)"
   ]
  },
  {
   "cell_type": "markdown",
   "metadata": {},
   "source": [
    "De dimensie van de tensor is 181x263x3. Dat wil zeggen dat er drie matrices van dimensie 181x263 op elkaar zijn gestapeld."
   ]
  },
  {
   "cell_type": "markdown",
   "metadata": {},
   "source": [
    "De rode matrix is de eerste. We halen er hem eens uit."
   ]
  },
  {
   "cell_type": "code",
   "execution_count": null,
   "metadata": {},
   "outputs": [],
   "source": [
    "begonia_R = begonia_RGB[:,:,0]\n",
    "print(begonia_R)"
   ]
  },
  {
   "cell_type": "code",
   "execution_count": null,
   "metadata": {},
   "outputs": [],
   "source": [
    "plt.imshow(begonia_R, cmap=\"Reds\")"
   ]
  },
  {
   "cell_type": "code",
   "execution_count": null,
   "metadata": {},
   "outputs": [],
   "source": [
    "begonia_G =  begonia_RGB[:,:,1]\n",
    "print(begonia_G)\n",
    "plt.imshow(begonia_G, cmap=\"Greens\")"
   ]
  },
  {
   "cell_type": "code",
   "execution_count": null,
   "metadata": {},
   "outputs": [],
   "source": [
    "begonia_B =  begonia_RGB[:,:,2]\n",
    "print(begonia_B)\n",
    "plt.imshow(begonia_B, cmap=\"Blues\")"
   ]
  },
  {
   "cell_type": "markdown",
   "metadata": {},
   "source": [
    "Hoe is de roze tint opgebouwd? Beschouw één pixel in die kleur."
   ]
  },
  {
   "cell_type": "code",
   "execution_count": null,
   "metadata": {},
   "outputs": [],
   "source": [
    "rozepixels_R = np.array(([230, 230], [230, 230]), dtype=\"uint8\")\n",
    "rozepixels_G = np.array(([125, 125], [125, 125]), dtype=\"uint8\")\n",
    "rozepixels_B = np.array(([156, 156], [156, 156]), dtype=\"uint8\")\n",
    "print(rozepixels_R)\n",
    "print(rozepixels_G)\n",
    "print(rozepixels_B)\n",
    "\n",
    "# matrices stapelen tot een tensor\n",
    "rozepixels = np.dstack([rozepixels_R, rozepixels_G, rozepixels_B])\n",
    "print(rozepixels.shape)\n",
    "print(rozepixels.dtype)\n",
    "\n",
    "plt.figure\n",
    "plt.subplot(1, 4, 1)\n",
    "plt.imshow(rozepixels_R, cmap=\"Reds\")\n",
    "plt.subplot(1, 4, 2)\n",
    "plt.imshow(rozepixels_G, cmap=\"Greens\")\n",
    "plt.subplot(1, 4, 3)\n",
    "plt.imshow(rozepixels_B, cmap=\"Blues\")\n",
    "plt.subplot(1, 4, 4)\n",
    "plt.imshow(rozepixels)"
   ]
  },
  {
   "cell_type": "markdown",
   "metadata": {},
   "source": [
    "<div style='color: #690027;' markdown=\"1\">\n",
    "    <h3>OEFENING</h3> \n",
    "</div>\n",
    "<br>\n",
    "Probeer nu zelf kleuren te mengen, door de waarden in de rode, groene en blauwe matrix aan te passen."
   ]
  },
  {
   "cell_type": "code",
   "execution_count": null,
   "metadata": {},
   "outputs": [],
   "source": []
  },
  {
   "cell_type": "markdown",
   "metadata": {},
   "source": [
    "<div style='color: #690027;' markdown=\"1\">\n",
    "    <h3>OEFENINGEN</h3> \n",
    "</div>"
   ]
  },
  {
   "cell_type": "markdown",
   "metadata": {},
   "source": [
    "### Stomata op bezonde en beschaduwde bladeren"
   ]
  },
  {
   "cell_type": "markdown",
   "metadata": {},
   "source": [
    "In de Plantentuin Meise ging men na of er bij een bepaalde plant meer stomata voorkwamen op de bezonde bladeren in de kruin, dan op de beschaduwde bladeren aan de voet van de plant. <br>\n",
    "Daar zijn ook foto's van.<br><br> Merk je een verschil op in het aantal huidmondjes?"
   ]
  },
  {
   "cell_type": "markdown",
   "metadata": {},
   "source": [
    "<img src=\"../.images/IntroductiePython/schaduwblad.jpg\" alt=\"Banner\" style=\"width: 500px;\"/>\n",
    "<center>figuur: schaduwblad</center> \n",
    "<center>foto door Sofie Meeuws, Plantentuin Meise</center>\n",
    "<img src=\"../.images/IntroductiePython/bezondblad.jpg\" alt=\"Banner\" style=\"width: 500px;\"/>\n",
    "<center>figuur: bezond blad</center> \n",
    "<center>foto door Sofie Meeuws, Plantentuin Meise</center>"
   ]
  },
  {
   "cell_type": "code",
   "execution_count": null,
   "metadata": {},
   "outputs": [],
   "source": [
    "schaduwblad = plt.imread(\"schaduwblad.jpg\")\n",
    "print(schaduwblad)"
   ]
  },
  {
   "cell_type": "code",
   "execution_count": null,
   "metadata": {},
   "outputs": [],
   "source": [
    "plt.imshow(schaduwblad)"
   ]
  },
  {
   "cell_type": "markdown",
   "metadata": {},
   "source": [
    "- Bepaal de dimensie. "
   ]
  },
  {
   "cell_type": "code",
   "execution_count": null,
   "metadata": {},
   "outputs": [],
   "source": []
  },
  {
   "cell_type": "markdown",
   "metadata": {},
   "source": [
    "Antwoord: "
   ]
  },
  {
   "cell_type": "markdown",
   "metadata": {},
   "source": [
    "- Probeer een huidmondje te isoleren.\n",
    "- Toon van de foto enkel de groentinten."
   ]
  },
  {
   "cell_type": "code",
   "execution_count": null,
   "metadata": {},
   "outputs": [],
   "source": []
  },
  {
   "cell_type": "code",
   "execution_count": null,
   "metadata": {},
   "outputs": [],
   "source": []
  },
  {
   "cell_type": "markdown",
   "metadata": {},
   "source": [
    "### Foto's testset KIKS-neuraal netwerk"
   ]
  },
  {
   "cell_type": "markdown",
   "metadata": {},
   "source": [
    "Bekijk nu de dimensie van twee foto's uit de testset van het KIKS-neuraal netwerk.<br>\n",
    "De foto's hebben als naam: Coffea Eugenioides_Bamps 6484_blad2-vlak2.jpg en Coffea pseudozanguebariae_R&M 1944_blad2-vlak3.jpg"
   ]
  },
  {
   "cell_type": "markdown",
   "metadata": {},
   "source": [
    "Zijn het grijswaardefoto's of kleurenfoto's? Hebben de foto's hetzelfde formaat? Hoeveel pixels bevatten ze?"
   ]
  },
  {
   "cell_type": "code",
   "execution_count": null,
   "metadata": {},
   "outputs": [],
   "source": []
  },
  {
   "cell_type": "markdown",
   "metadata": {},
   "source": [
    "Antwoord: "
   ]
  },
  {
   "cell_type": "markdown",
   "metadata": {},
   "source": [
    "Bekijk de foto's."
   ]
  },
  {
   "cell_type": "code",
   "execution_count": null,
   "metadata": {},
   "outputs": [],
   "source": []
  },
  {
   "cell_type": "markdown",
   "metadata": {},
   "source": [
    "<div class=\"alert alert-box alert-info\">\n",
    "Bij een zwart-witafbeelding is een pixel zwart of wit. Bij een grijswaarde-afbeelding is dat een grijswaarde. Bij een kleurenafbeelding is dat een kleur.<br>\n",
    "<b>Grijswaarden worden door de computer voorgesteld door een getal tussen 0 en 255.</b> Hierbij komt 0 overeen met zwart en 255 met wit.<br> \n",
    "Het raster van een digitale grijswaarden-afbeelding is een <b>matrix</b>, een tabel met daarin getallen.<br>\n",
    "<b>Kleurenfoto's worden in een RGB-systeem opgeslagen.</b> In dat geval zijn er drie matrices die samen een <b>tensor</b> vormen. \n",
    "</div>"
   ]
  },
  {
   "cell_type": "markdown",
   "metadata": {},
   "source": [
    "<img src=\"../.images/cclic.png\" alt=\"Banner\" align=\"left\" style=\"width:80px;\"/><br><br>\n",
    "Notebook KIKS, zie <a href=\"http://www.aiopschool.be\">ai op school</a>, van F. wyffels, N. Gesquière is in licentie gegeven volgens een <a href=\"http://creativecommons.org/licenses/by-nc-sa/4.0/\">Creative Commons Naamsvermelding-NietCommercieel-GelijkDelen 4.0 Internationaal-licentie</a>."
   ]
  }
 ],
 "metadata": {
  "kernelspec": {
   "display_name": "Python 3",
   "language": "python",
   "name": "python3"
  },
  "language_info": {
   "codemirror_mode": {
    "name": "ipython",
    "version": 3
   },
   "file_extension": ".py",
   "mimetype": "text/x-python",
   "name": "python",
   "nbconvert_exporter": "python",
   "pygments_lexer": "ipython3",
   "version": "3.6.4"
  }
 },
 "nbformat": 4,
 "nbformat_minor": 2
}
