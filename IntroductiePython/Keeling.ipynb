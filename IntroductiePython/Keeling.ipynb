{
 "cells": [
  {
   "cell_type": "markdown",
   "metadata": {},
   "source": [
    "<img src=\"../.images/logosnb.png\" alt=\"Banner\" style=\"width:1100px;\"/>"
   ]
  },
  {
   "cell_type": "markdown",
   "metadata": {},
   "source": [
    "<div style='color: #690027;' markdown=\"1\">\n",
    "    <h1>Keelingcurve</h1> \n",
    "</div>"
   ]
  },
  {
   "cell_type": "markdown",
   "metadata": {},
   "source": [
    "<div class=\"alert alert-box alert-success\">\n",
    "In deze notebook bekijk je hoe de CO$_{2}$-concentratie op een bepaalde plaats gedurende een dag en gedurende een jaar verloopt.<br>\n",
    "Daarnaast maak je met de data van CO$_{2}$-metingen op Mauna Loa, zelf een grafiek van de Keelingcurve. Je zal daarvoor de datapunten uit een <em>csv-bestand</em> verbinden met een gebroken lijn.\n",
    "</div>"
   ]
  },
  {
   "cell_type": "markdown",
   "metadata": {},
   "source": [
    "De Keelingcurve is een van de belangrijkste krommen in het klimaatonderzoek."
   ]
  },
  {
   "cell_type": "markdown",
   "metadata": {},
   "source": [
    "CO$_{2}$-concentratie wordt uitgedrukt in **ppm**: parts per million."
   ]
  },
  {
   "cell_type": "markdown",
   "metadata": {},
   "source": [
    "### De nodige modules importeren"
   ]
  },
  {
   "cell_type": "markdown",
   "metadata": {},
   "source": [
    "Om van **csv-bestanden** - csv staat voor **comma separated values** -  overzichtelijke tabellen te kunnen maken, maak je gebruik van de module pandas. <br>\n",
    "Om kolommen van deze tabel om te vormen naar een lijst en daarmee te kunnen rekenen, importeer je de module NumPy. <br>\n",
    "Grafische voorstellingen van de gegevens maken, doe je met de interface pyplot van de module Matplotlib. <br><br>\n",
    "Je importeert de nodige modules door de volgende code-cel uit te voeren."
   ]
  },
  {
   "cell_type": "code",
   "execution_count": null,
   "metadata": {},
   "outputs": [],
   "source": [
    "import pandas as pd\n",
    "\n",
    "import matplotlib.pyplot as plt\n",
    "import numpy as np"
   ]
  },
  {
   "cell_type": "markdown",
   "metadata": {},
   "source": [
    "<div style='color: #690027;' markdown=\"1\">\n",
    "    <h2>1. Data van één dag</h2> \n",
    "</div>"
   ]
  },
  {
   "cell_type": "markdown",
   "metadata": {},
   "source": [
    "Je gebruikt data uit 1958 [1], het tweede jaar dat Keeling zijn metingen op Manau Loa deed. "
   ]
  },
  {
   "cell_type": "markdown",
   "metadata": {},
   "source": [
    "Keeling deed metingen om de 10 à 20 minuten.<br>\n",
    "De data zijn gemiddelde waarden over een periode van 10 minuten. Bv. een waarde van het tijdstip 3 is het gemiddelde van 2u55 tot 3u05."
   ]
  },
  {
   "cell_type": "code",
   "execution_count": null,
   "metadata": {},
   "outputs": [],
   "source": [
    "dag = pd.read_csv(\"../.data/IntroductiePython/CO2Keeling30111958.dat\")    # data Scripps\n",
    "dag"
   ]
  },
  {
   "cell_type": "code",
   "execution_count": null,
   "metadata": {},
   "outputs": [],
   "source": [
    "dag.head()"
   ]
  },
  {
   "cell_type": "markdown",
   "metadata": {},
   "source": [
    "In de eerste kolom staat het nummer van de meting, in de tweede kolom het uur en in de laatste kolom de concentratie. "
   ]
  },
  {
   "cell_type": "code",
   "execution_count": null,
   "metadata": {},
   "outputs": [],
   "source": [
    "# lijsten maken van uur en concentratie\n",
    "x_dag = dag[\"uur\"]\n",
    "y_dag = dag[\"CO2\"]"
   ]
  },
  {
   "cell_type": "code",
   "execution_count": null,
   "metadata": {},
   "outputs": [],
   "source": [
    "# NumPy-lijsten maken van uur en concentratie\n",
    "x_dag = np.array(x_dag)\n",
    "y_dag = np.array(y_dag)"
   ]
  },
  {
   "cell_type": "markdown",
   "metadata": {},
   "source": [
    "### Opdracht 1.1 \n",
    "- Geef de data weer in met een lijndiagram. \n",
    "- Wat vertelt deze grafiek? Denk aan je biologielessen."
   ]
  },
  {
   "cell_type": "code",
   "execution_count": null,
   "metadata": {},
   "outputs": [],
   "source": []
  },
  {
   "cell_type": "markdown",
   "metadata": {},
   "source": [
    "<div style='color: #690027;' markdown=\"1\">\n",
    "    <h2>2. Data van één jaar</h2> \n",
    "</div>"
   ]
  },
  {
   "cell_type": "markdown",
   "metadata": {},
   "source": [
    "Je gebruikt data uit 1959 [2], het derde jaar dat Keeling zijn metingen op Manau Loa deed. "
   ]
  },
  {
   "cell_type": "markdown",
   "metadata": {},
   "source": [
    "De metingen gebeurden doorgaans om de week, soms om de twee weken."
   ]
  },
  {
   "cell_type": "code",
   "execution_count": null,
   "metadata": {},
   "outputs": [],
   "source": [
    "jaar = pd.read_csv(\"../.data/IntroductiePython/CO2Keeling1959.dat\")    # data Scripps\n",
    "jaar"
   ]
  },
  {
   "cell_type": "markdown",
   "metadata": {},
   "source": [
    "Bekijk de tabel. Geef een voorbeeld van waar om de week werd gemeten en waar om de twee weken."
   ]
  },
  {
   "cell_type": "code",
   "execution_count": null,
   "metadata": {},
   "outputs": [],
   "source": []
  },
  {
   "cell_type": "markdown",
   "metadata": {},
   "source": [
    "Antwoord:"
   ]
  },
  {
   "cell_type": "markdown",
   "metadata": {},
   "source": [
    "### Opdracht 2.1 \n",
    "- Teken een grafiek (lijndiagram) die de CO$_{2}$-concentratie weergeeft in functie van de dag. \n",
    "Vorm de data eerst om naar het juiste formaat. \n",
    "- Wat vertelt deze grafiek? Denk aan je biologielessen.\n",
    "- Vergelijk het differentiequotiënt over het interval [88,93] met het differentiequotiënt over het interval [145,155]. Waar is het differentiequotiënt het grootst."
   ]
  },
  {
   "cell_type": "code",
   "execution_count": null,
   "metadata": {},
   "outputs": [],
   "source": []
  },
  {
   "cell_type": "markdown",
   "metadata": {},
   "source": [
    "<div style='color: #690027;' markdown=\"1\">\n",
    "    <h2>3. De Keelingcurve</h2> \n",
    "</div>"
   ]
  },
  {
   "cell_type": "markdown",
   "metadata": {},
   "source": [
    "We beschouwen de data vanaf 1958 [2], toen Keeling met zijn metingen begon. "
   ]
  },
  {
   "cell_type": "markdown",
   "metadata": {},
   "source": [
    "Lees het bestand in door de volgende code-cel uit te voeren:"
   ]
  },
  {
   "cell_type": "code",
   "execution_count": null,
   "metadata": {},
   "outputs": [],
   "source": [
    "keeling = pd.read_csv(\"../.data/IntroductiePython/keeling.dat\")    # data Scripps\n",
    "keeling"
   ]
  },
  {
   "cell_type": "markdown",
   "metadata": {},
   "source": [
    "Om deze data uit te zetten in een grafiek, kies je twee variabelen: x voor het jaartal en y voor de CO$_{2}$-concentratie. <br>\n",
    "Je maakt een lijst met de jaartallen en een lijst met de CO$_{2}$-concentraties. Met Pandas gaat dat vrij eenvoudig omdat je de hoofding van de tabel als **sleutel** (*key*) kunt gebruiken."
   ]
  },
  {
   "cell_type": "code",
   "execution_count": null,
   "metadata": {},
   "outputs": [],
   "source": [
    "x_keel = keeling[\"Date.1\"]                 # jaartal\n",
    "y_keel = keeling[\"CO2\"]                    # concentratie"
   ]
  },
  {
   "cell_type": "code",
   "execution_count": null,
   "metadata": {
    "scrolled": false
   },
   "outputs": [],
   "source": [
    "print(x_keel, y_keel)"
   ]
  },
  {
   "cell_type": "code",
   "execution_count": null,
   "metadata": {},
   "outputs": [],
   "source": [
    "x_keel = np.array(x_keel)\n",
    "y_keel = np.array(y_keel)"
   ]
  },
  {
   "cell_type": "markdown",
   "metadata": {},
   "source": [
    "In de data is er een opvallende waarde die meermaals terugkomt: -99.99.<br>\n",
    "Dat zijn eigenlijk **ontbrekende metingen**. Die moet je eruit halen.\n",
    "Pieter Tans [3] verklaart: \"-99.99 betekent immers dat er geen geldige metingen zijn voor dat uur, die dag of die maand. Soms is er een technisch probleem, een orkaan of een vulkaanuitbarsting waarbij de elektriciteit uitgevallen is.\" "
   ]
  },
  {
   "cell_type": "markdown",
   "metadata": {},
   "source": [
    "Om -99.99 te kunnen verwijderen, moet je eerst nagaan op welke plaatsen in de NumPy array deze waarde voorkomt. Je moet immers ook het overeenkomstig jaartal verwijderen uit x_keel."
   ]
  },
  {
   "cell_type": "code",
   "execution_count": null,
   "metadata": {},
   "outputs": [],
   "source": []
  },
  {
   "cell_type": "markdown",
   "metadata": {},
   "source": [
    "De waarden met deze indices moeten verwijderd worden. Ook de overeenkomstige uit x-keel."
   ]
  },
  {
   "cell_type": "markdown",
   "metadata": {},
   "source": [
    "<div class=\"alert alert-block alert-warning\"> \n",
    "Voor de werkwijze kan je eens kijken in de notebook 'Extra datastructuren met NumPy'. \n",
    "</div>"
   ]
  },
  {
   "cell_type": "code",
   "execution_count": null,
   "metadata": {},
   "outputs": [],
   "source": []
  },
  {
   "cell_type": "markdown",
   "metadata": {},
   "source": [
    "Teken de grafiek."
   ]
  },
  {
   "cell_type": "code",
   "execution_count": null,
   "metadata": {},
   "outputs": [],
   "source": []
  },
  {
   "cell_type": "markdown",
   "metadata": {},
   "source": [
    "Let op de vorm. \n",
    "-  Welke trend kun je vaststellen?\n",
    "-  Kun je het zigzaggen verklaren?"
   ]
  },
  {
   "cell_type": "markdown",
   "metadata": {},
   "source": [
    "<div>\n",
    "    <h2>Referentielijst</h2> \n",
    "</div>"
   ]
  },
  {
   "cell_type": "markdown",
   "metadata": {},
   "source": [
    "[1] Walker, S.J., Keeling, R.F., & Piper, S. C. (2016). Reconstruction of the Mauna Loa Carbon Dioxide Record using High Frequency APC Data <br> &nbsp; &nbsp; &nbsp; &nbsp; from 1958 through 2004. *Scripps Institution of Oceanography: 1-17*. La Jolla, California.<br> &nbsp; &nbsp; &nbsp; &nbsp; Geraadpleegd op 5 september 2019 via http://scrippsco2.ucsd.edu/data/atmospheric_co2/mlo<br>\n",
    "[2] Keeling, C.D., Piper, S.C., Bacastow, R.B., Wahlen, M., Whorf, T.P., Heimann, M., & Meijer, H.A. (2001).<br> &nbsp; &nbsp; &nbsp; &nbsp;  Exchanges of atmospheric CO2 and 13CO2 with the terrestrial biosphere and oceans from 1978 to 2000.<br> &nbsp; &nbsp; &nbsp; &nbsp;  *I. Global aspects, SIO Reference Series*. No. 01-06, Scripps Institution of Oceanography, San Diego, 88 pages, 2001.<br> &nbsp; &nbsp; &nbsp; &nbsp; Geraadpleegd op 5 september 2019 via http://scrippsco2.ucsd.edu/data/atmospheric_co2/primary_mlo_co2_record.<br>\n",
    "[3] Tans, P. (2018). Via e-mail."
   ]
  },
  {
   "cell_type": "markdown",
   "metadata": {},
   "source": [
    "<img src=\"../.images/cclic.png\" alt=\"Banner\" align=\"left\" style=\"width:100px;\"/><br><br>\n",
    "Notebook KIKS, zie <a href=\"http://www.aiopschool.be\">AI op School</a>, van F. wyffels & N. Gesquière is in licentie gegeven volgens een <a href=\"http://creativecommons.org/licenses/by-nc-sa/4.0/\">Creative Commons Naamsvermelding-NietCommercieel-GelijkDelen 4.0 Internationaal-licentie</a>. "
   ]
  }
 ],
 "metadata": {
  "kernelspec": {
   "display_name": "Python 3",
   "language": "python",
   "name": "python3"
  },
  "language_info": {
   "codemirror_mode": {
    "name": "ipython",
    "version": 3
   },
   "file_extension": ".py",
   "mimetype": "text/x-python",
   "name": "python",
   "nbconvert_exporter": "python",
   "pygments_lexer": "ipython3",
   "version": "3.6.4"
  }
 },
 "nbformat": 4,
 "nbformat_minor": 2
}
