{
 "cells": [
  {
   "cell_type": "markdown",
   "metadata": {},
   "source": [
    "<img src=\"../.images/logosnb.png\" alt=\"Banner\" style=\"width:800px;\"/>"
   ]
  },
  {
   "cell_type": "markdown",
   "metadata": {},
   "source": [
    "<div style='color: #690027;' markdown=\"1\">\n",
    "    <h1>CO<sub>2</sub></h1> \n",
    "</div>"
   ]
  },
  {
   "cell_type": "markdown",
   "metadata": {},
   "source": [
    "<div class=\"alert alert-box alert-success\">\n",
    "In deze notebook bekijk je het verloop van de CO$_{2}$-concentratie gedurende een dag en gedurende een jaar.<br>\n",
    "Daarnaast maak je met de data van CO$_{2}$-metingen op Mauna Loa, zelf een grafiek van de Keelingcurve. Je zal daarvoor de datapunten uit een <em>csv-bestand</em> verbinden met een gebroken lijn.\n",
    "</div>"
   ]
  },
  {
   "cell_type": "markdown",
   "metadata": {},
   "source": [
    "De Keelingcurve is een van de belangrijkste krommen in het klimaatonderzoek."
   ]
  },
  {
   "cell_type": "markdown",
   "metadata": {},
   "source": [
    "CO$_{2}$-concentratie wordt uitgedrukt in **ppm**: parts per million."
   ]
  },
  {
   "cell_type": "markdown",
   "metadata": {},
   "source": [
    "### De nodige modules importeren"
   ]
  },
  {
   "cell_type": "markdown",
   "metadata": {},
   "source": [
    "Om van **csv-bestanden** - csv staat voor **comma separated values** -  overzichtelijke tabellen te kunnen maken, maak je gebruik van de module pandas. <br>\n",
    "Om kolommen van deze tabel om te vormen naar een lijst en daarmee te kunnen rekenen, importeer je de module NumPy. <br>\n",
    "Grafische voorstellingen van de gegevens maken, doe je met de interface pyplot van de module Matplotlib. <br><br>\n",
    "Je importeert de nodige modules door de volgende code-cel uit te voeren."
   ]
  },
  {
   "cell_type": "code",
   "execution_count": null,
   "metadata": {},
   "outputs": [],
   "source": [
    "import pandas as pd\n",
    "\n",
    "import matplotlib.pyplot as plt\n",
    "import numpy as np"
   ]
  },
  {
   "cell_type": "markdown",
   "metadata": {},
   "source": [
    "<div style='color: #690027;' markdown=\"1\">\n",
    "    <h2>1. Data van één dag</h2> \n",
    "</div>"
   ]
  },
  {
   "cell_type": "markdown",
   "metadata": {},
   "source": [
    "Je gebruikt data uit 1958, het tweede jaar dat Keeling zijn metingen op Manau Loa deed. "
   ]
  },
  {
   "cell_type": "markdown",
   "metadata": {},
   "source": [
    "Keeling deed metingen om de 10 à 20 minuten."
   ]
  },
  {
   "cell_type": "code",
   "execution_count": null,
   "metadata": {},
   "outputs": [],
   "source": [
    "dag = pd.read_csv(\"../.data/IntroductiePython/CO2Keeling30111958.dat\")    # data Scripps\n",
    "dag"
   ]
  },
  {
   "cell_type": "code",
   "execution_count": null,
   "metadata": {},
   "outputs": [],
   "source": [
    "dag.head()"
   ]
  },
  {
   "cell_type": "markdown",
   "metadata": {},
   "source": [
    "In de eerste kolom staat het uur en in de laatste kolom de concentratie. "
   ]
  },
  {
   "cell_type": "code",
   "execution_count": null,
   "metadata": {},
   "outputs": [],
   "source": [
    "x_dag = dag[\"uur\"]\n",
    "y_dag = dag[\"CO2\"]"
   ]
  },
  {
   "cell_type": "code",
   "execution_count": null,
   "metadata": {},
   "outputs": [],
   "source": [
    "x_dag = np.array(x_dag)\n",
    "y_dag = np.array(y_dag)"
   ]
  },
  {
   "cell_type": "code",
   "execution_count": null,
   "metadata": {},
   "outputs": [],
   "source": [
    "plt.figure(figsize=(10,8))    \n",
    "\n",
    "plt.xlim(-1, 25)\n",
    "plt.ylim(310, 320)\n",
    "\n",
    "plt.plot(x_dag, y_dag, color=\"blue\")\n",
    "\n",
    "plt.title(\"Keeling: CO$_{2}$ (30 november 1958)\")\n",
    "plt.xlabel(\"uur\")\n",
    "plt.ylabel(\"CO$_{2}$ (in ppm)\")\n",
    "\n",
    "plt.show()"
   ]
  },
  {
   "cell_type": "markdown",
   "metadata": {},
   "source": [
    "Wat vertelt deze grafiek? Denk aan je biologielessen."
   ]
  },
  {
   "cell_type": "markdown",
   "metadata": {},
   "source": [
    "<div style='color: #690027;' markdown=\"1\">\n",
    "    <h2>2. Data van één jaar</h2> \n",
    "</div>"
   ]
  },
  {
   "cell_type": "markdown",
   "metadata": {},
   "source": [
    "Je gebruikt data uit 1959, het derde jaar dat Keeling zijn metingen op Manau Loa deed. "
   ]
  },
  {
   "cell_type": "markdown",
   "metadata": {},
   "source": [
    "De metingen gebeurden doorgaans om de week, soms om de twee weken."
   ]
  },
  {
   "cell_type": "code",
   "execution_count": null,
   "metadata": {},
   "outputs": [],
   "source": [
    "jaar = pd.read_csv(\"../.data/IntroductiePython/CO2Keeling1959.dat\")    # data Scripps\n",
    "jaar"
   ]
  },
  {
   "cell_type": "markdown",
   "metadata": {},
   "source": [
    "Bekijk de tabel. Geef een voorbeeld van waar om de week werd gemeten en waar om de twee weken."
   ]
  },
  {
   "cell_type": "code",
   "execution_count": null,
   "metadata": {},
   "outputs": [],
   "source": [
    "jaar.head()"
   ]
  },
  {
   "cell_type": "code",
   "execution_count": null,
   "metadata": {},
   "outputs": [],
   "source": [
    "x_jaar = jaar[\"dag\"]\n",
    "y_jaar = jaar[\"CO2\"]"
   ]
  },
  {
   "cell_type": "code",
   "execution_count": null,
   "metadata": {},
   "outputs": [],
   "source": [
    "x_jaar = np.array(x_jaar)\n",
    "y_jaar = np.array(y_jaar)"
   ]
  },
  {
   "cell_type": "code",
   "execution_count": null,
   "metadata": {},
   "outputs": [],
   "source": [
    "# grafiek\n",
    "\n",
    "plt.figure(figsize=(10,8))    \n",
    "\n",
    "plt.xlim(-1, 370)\n",
    "plt.ylim(310, 320)\n",
    "\n",
    "plt.plot(x_jaar, y_jaar, color=\"blue\")\n",
    "\n",
    "plt.title(\"Keeling: CO$_{2}$ (1959)\")\n",
    "plt.xlabel(\"dag\")\n",
    "plt.ylabel(\"CO$_{2}$ (in ppm)\")\n",
    "\n",
    "plt.show()"
   ]
  },
  {
   "cell_type": "markdown",
   "metadata": {},
   "source": [
    "Wat vertelt deze grafiek? Denk aan je biologielessen."
   ]
  },
  {
   "cell_type": "markdown",
   "metadata": {},
   "source": [
    "<div style='color: #690027;' markdown=\"1\">\n",
    "    <h2>3. De Keelingcurve</h2> \n",
    "</div>"
   ]
  },
  {
   "cell_type": "markdown",
   "metadata": {},
   "source": [
    "We beschouwen de data vanaf 1958, toen Keeling met zijn metingen begon. "
   ]
  },
  {
   "cell_type": "markdown",
   "metadata": {},
   "source": [
    "Lees het bestand in door de volgende code-cel uit te voeren:"
   ]
  },
  {
   "cell_type": "code",
   "execution_count": null,
   "metadata": {},
   "outputs": [],
   "source": [
    "keeling = pd.read_csv(\"../.data/IntroductiePython/keeling.dat\")    # data Scripps\n",
    "keeling"
   ]
  },
  {
   "cell_type": "markdown",
   "metadata": {},
   "source": [
    "Om deze data uit te zetten in een grafiek, kies je twee variabelen: x voor het jaartal en y voor de CO$_{2}$-concentratie. <br>\n",
    "Je maakt een lijst met de jaartallen en een lijst met de CO$_{2}$-concentraties. Met Pandas gaat dat vrij eenvoudig omdat je de hoofding van de tabel als **sleutel** (*key*) kunt gebruiken."
   ]
  },
  {
   "cell_type": "code",
   "execution_count": null,
   "metadata": {},
   "outputs": [],
   "source": [
    "x_keel = keeling[\"Date.1\"]\n",
    "y_keel = keeling[\"CO2\"]"
   ]
  },
  {
   "cell_type": "code",
   "execution_count": null,
   "metadata": {
    "scrolled": false
   },
   "outputs": [],
   "source": [
    "print(x_keel, y_keel)"
   ]
  },
  {
   "cell_type": "code",
   "execution_count": null,
   "metadata": {},
   "outputs": [],
   "source": [
    "x_keel = np.array(x_keel)\n",
    "y_keel = np.array(y_keel)"
   ]
  },
  {
   "cell_type": "markdown",
   "metadata": {},
   "source": [
    "In de data is er een opvallende waarde die meermaals terugkomt: -99.99.<br>\n",
    "Dat zijn eigenlijk **ontbrekende metingen**. Die moet je eruit halen.\n",
    "Pieter Tans verklaart: \"-99.99 betekent immers dat er geen geldige metingen zijn voor dat uur, die dag of die maand. Soms is er een technisch probleem, een orkaan of een vulkaanuitbarsting waarbij de elektriciteit uitgevallen is.\" "
   ]
  },
  {
   "cell_type": "markdown",
   "metadata": {},
   "source": [
    "Om -99.99 te kunnen verwijderen, moet je eerst nagaan op welke plaatsen in de NumPy array deze waarde voorkomt. Je moet immers ook het overeenkomstig jaartal verwijderen uit x_keel."
   ]
  },
  {
   "cell_type": "code",
   "execution_count": null,
   "metadata": {},
   "outputs": [],
   "source": [
    "np.where(y_keel == -99.99 )"
   ]
  },
  {
   "cell_type": "markdown",
   "metadata": {},
   "source": [
    "De waarden met deze indices moeten verwijderd worden. Ook de overeenkomstige uit x-keel."
   ]
  },
  {
   "cell_type": "code",
   "execution_count": null,
   "metadata": {},
   "outputs": [],
   "source": [
    "index = np.where(y_keel == -99.99 )\n",
    "print(len(x_keel), len(y_keel))\n",
    "y_keel_aangepast = np.delete(y_keel, index)\n",
    "x_keel_aangepast = np.delete(x_keel, index)\n",
    "print(x_keel_aangepast, y_keel_aangepast)\n",
    "print(len(x_keel_aangepast),len(y_keel_aangepast))"
   ]
  },
  {
   "cell_type": "code",
   "execution_count": null,
   "metadata": {},
   "outputs": [],
   "source": [
    "plt.figure(figsize=(10,8))    \n",
    "plt.xlim(1950, 2025)\n",
    "plt.ylim(250, 450)\n",
    "plt.plot(x_keel_aangepast, y_keel_aangepast, color=\"blue\")\n",
    "plt.title(\"Keelingcurve\")\n",
    "plt.xlabel(\"jaartal\")\n",
    "plt.ylabel(\"CO$_{2}$ (in ppm)\")\n",
    "plt.show()"
   ]
  },
  {
   "cell_type": "markdown",
   "metadata": {},
   "source": [
    "Let op de vorm. \n",
    "-  Welke trend kun je vaststellen?\n",
    "-  Kun je het zigzaggen verklaren?"
   ]
  },
  {
   "cell_type": "markdown",
   "metadata": {},
   "source": [
    "<div>\n",
    "    <h2>Referentielijst</h2> \n",
    "</div>"
   ]
  },
  {
   "cell_type": "markdown",
   "metadata": {},
   "source": [
    "[1] Earth System Research Laboratory, Global Monitoring Division. ESRL/GMD FTP Data Finder.<br> &nbsp; &nbsp; &nbsp; &nbsp; Geraadpleegd op 18 augustus 2019 via https://www.esrl.noaa.gov/gmd/dv/data/?category=Greenhouse%2BGases. <br>\n",
    "[2] Tans, P. (2018). Via e-mail.<br>\n",
    "[3] Pieter Bruegel the Elder [Public domain], via Wikimedia Commons. Geraadpleegd op 4 september 2019 via <br> &nbsp; &nbsp; &nbsp; &nbsp;  https://commons.wikimedia.org/wiki/File:Pieter_Bruegel_the_Elder_-_Hunters_in_the_Snow_(Winter)_-_Google_Art_Project.jpg<br>\n",
    "[4] Ahn, J., Brook, E.J., Mitchell, L.E., Rosen, J.C., McConnell, J.R., Taylor, K.C., Etheridge, D.M., & Rubino, M. (2012).<br> &nbsp; &nbsp; &nbsp; &nbsp; Atmospheric CO$_{2}$ over the last 1000 years: A high‐resolution record from the West Antarctic Ice Sheet (WAIS) Divide ice core.<br> &nbsp; &nbsp; &nbsp; &nbsp; *Global Biochemical Cycles.* Vol. 26. doi: 10.1029/2011GB004247. <br>\n",
    "[5] Mann, M.E. (2002). Little Ice Age.<br>\n",
    "[6] GISS Surface Temperature Analysis. Geraadpleegd op 4 september 2019 via <br> &nbsp; &nbsp; &nbsp; &nbsp; https://data.giss.nasa.gov/gistemp/graphs_v4/customize.html"
   ]
  },
  {
   "cell_type": "markdown",
   "metadata": {},
   "source": [
    "<img src=\"../.images/cclic.png\" alt=\"Banner\" align=\"left\" style=\"width:80px;\"/><br><br>\n",
    "Notebook KIKS, zie <a href=\"http://www.aiopschool.be\">ai op school</a>, van F. wyffels & N. Gesquière is in licentie gegeven volgens een <a href=\"http://creativecommons.org/licenses/by-nc-sa/4.0/\">Creative Commons Naamsvermelding-NietCommercieel-GelijkDelen 4.0 Internationaal-licentie</a>. "
   ]
  }
 ],
 "metadata": {
  "kernelspec": {
   "display_name": "Python 3",
   "language": "python",
   "name": "python3"
  },
  "language_info": {
   "codemirror_mode": {
    "name": "ipython",
    "version": 3
   },
   "file_extension": ".py",
   "mimetype": "text/x-python",
   "name": "python",
   "nbconvert_exporter": "python",
   "pygments_lexer": "ipython3",
   "version": "3.6.4"
  }
 },
 "nbformat": 4,
 "nbformat_minor": 2
}
