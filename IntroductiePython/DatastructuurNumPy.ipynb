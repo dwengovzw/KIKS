{
 "cells": [
  {
   "cell_type": "markdown",
   "metadata": {},
   "source": [
    "<img src=\"../.images/logosnb.png\" alt=\"Banner\" style=\"width:800px;\"/>"
   ]
  },
  {
   "cell_type": "markdown",
   "metadata": {},
   "source": [
    "<div style='color: #690027;' markdown=\"1\">\n",
    "    <h1>EXTRA DATASTRUCTUREN MET NUMPY</h1> \n",
    "</div>"
   ]
  },
  {
   "cell_type": "markdown",
   "metadata": {},
   "source": [
    "<div class=\"alert alert-box alert-success\">\n",
    "De module NumPy laat toe om meer wetenschappelijke berekeningen te doen en om bv. te werken met matrices. <br> Naast int en float kunnen getallen ook een ander type hebben. \n",
    "</div>"
   ]
  },
  {
   "cell_type": "markdown",
   "metadata": {},
   "source": [
    " Importeer eerst de module."
   ]
  },
  {
   "cell_type": "code",
   "execution_count": null,
   "metadata": {},
   "outputs": [],
   "source": [
    "import numpy as np"
   ]
  },
  {
   "cell_type": "markdown",
   "metadata": {},
   "source": [
    "<div style='color: #690027;' markdown=\"1\">\n",
    "    <h2>1. Byte</h2> \n",
    "</div>"
   ]
  },
  {
   "cell_type": "markdown",
   "metadata": {},
   "source": [
    "<div class=\"alert alert-block alert-info\"> \n",
    "Een <b>bit</b> is een informatie-eenheid. De term is afkomstig van <b>binary digit</b>. Het is een eenheid die enkel de waarden 0 en 1 kan aannemen. <br>Acht bits vormen samen een <b>byte</b>. Er zijn 256 mogelijke bytes. \n",
    "</div>"
   ]
  },
  {
   "cell_type": "markdown",
   "metadata": {},
   "source": [
    "Natuurlijke getallen zijn gehele getallen die positief zijn. Het is dus niet nodig om het teken expliciet te vermelden (de + hoef je niet te noteren). <br>\n",
    "Met één byte kan je de natuurlijke getallen van 0 t.e.m. 255 voorstellen. Bv. 77 komt overeen met 01001101."
   ]
  },
  {
   "cell_type": "markdown",
   "metadata": {},
   "source": [
    "<div style='color: #690027;' markdown=\"1\">\n",
    "    <h2>2. NumPy ndarray</h2> \n",
    "</div>"
   ]
  },
  {
   "cell_type": "markdown",
   "metadata": {},
   "source": [
    "Een matrix is een voorbeeld van een *2D-array*. ndarray staat voor n-dimensionale array. <br>Opgelet: je mag dit niet verwarren met de dimensie van een matrix in wiskunde. (Zie notebook 'Tensoren'.)"
   ]
  },
  {
   "cell_type": "markdown",
   "metadata": {},
   "source": [
    "Voer de volgende code-cellen uit."
   ]
  },
  {
   "cell_type": "code",
   "execution_count": null,
   "metadata": {
    "scrolled": false
   },
   "outputs": [],
   "source": [
    "matrix1 = np.array([[1, 2, 0], [3, 4, 5]])   # matrix met 2 rijen en 3 kolommen\n",
    "print(matrix1)"
   ]
  },
  {
   "cell_type": "code",
   "execution_count": null,
   "metadata": {},
   "outputs": [],
   "source": [
    "matrix1.shape                                # geeft aantal rijen en aantal kolommen"
   ]
  },
  {
   "cell_type": "code",
   "execution_count": null,
   "metadata": {},
   "outputs": [],
   "source": [
    "matrix1.dtype                                # geeft type"
   ]
  },
  {
   "cell_type": "markdown",
   "metadata": {},
   "source": [
    "In de module NumPy is er de mogelijkheid om een natuurlijk getal van 0 tot 255 op te slaan met één byte. <br>Om dat te doen moet je het type *uint8 (8 bits-unsigned integer)* gebruiken."
   ]
  },
  {
   "cell_type": "markdown",
   "metadata": {},
   "source": [
    "Voer de volgende code-cel uit om te zien hoe dat werkt."
   ]
  },
  {
   "cell_type": "code",
   "execution_count": null,
   "metadata": {
    "scrolled": false
   },
   "outputs": [],
   "source": [
    "matrix2= np.array([[7, 0, 1], [5, 1, 2]], dtype=\"uint8\")   # type zelf kiezen\n",
    "print(matrix2)"
   ]
  },
  {
   "cell_type": "code",
   "execution_count": null,
   "metadata": {},
   "outputs": [],
   "source": [
    "matrix2.dtype"
   ]
  },
  {
   "cell_type": "code",
   "execution_count": null,
   "metadata": {},
   "outputs": [],
   "source": [
    "matrix3 = matrix1.astype(\"uint8\")             # type wijzigen\n",
    "print(matrix3)"
   ]
  },
  {
   "cell_type": "code",
   "execution_count": null,
   "metadata": {},
   "outputs": [],
   "source": [
    "matrix3.dtype"
   ]
  },
  {
   "cell_type": "markdown",
   "metadata": {},
   "source": [
    "<div class=\"alert alert-box alert-info\">\n",
    "Een matrix is een voorbeeld van een <b>ndarray</b>.<br> Standaard gebruikt NumPy <b>int32</b> voor gehele getallen. Het bereik van int32 is van -2147483648 tot 2147483647.  <br>\n",
    "Je kan het type van de elementen ook zelf bepalen met <span style=\"background-color:whitesmoke; font-family:consolas; font-size:1em;\">dtype</span> of wijzigen met <span style=\"background-color:whitesmoke; font-family:consolas; font-size:1em;\">astype()</span>. <br>\n",
    "Voor een ndarray met natuurlijke getallen van 0 tot 255, kan je kiezen voor het type <b>uint8</b>.<br>\n",
    "Attributen opvragen doe je als volgt: het aantal rijen en kolommen van een matrix met <span style=\"background-color:whitesmoke; font-family:consolas; font-size:1em;\">shape</span> en het type van de elementen van de matrix met <span style=\"background-color:whitesmoke; font-family:consolas; font-size:1em;\">dtype</span>.\n",
    "</div>"
   ]
  },
  {
   "cell_type": "markdown",
   "metadata": {},
   "source": [
    "Meer hierover in de notebook 'Tensoren'."
   ]
  },
  {
   "cell_type": "markdown",
   "metadata": {},
   "source": [
    "<img src=\"../.images/cclic.png\" alt=\"Banner\" align=\"left\" style=\"width:80px;\"/><br><br>\n",
    "Notebook KIKS, zie <a href=\"http://www.aiopschool.be\">ai op school</a>, van F. wyffels & N. Gesquière is in licentie gegeven volgens een <a href=\"http://creativecommons.org/licenses/by-nc-sa/4.0/\">Creative Commons Naamsvermelding-NietCommercieel-GelijkDelen 4.0 Internationaal-licentie</a>. "
   ]
  }
 ],
 "metadata": {
  "kernelspec": {
   "display_name": "Python 3",
   "language": "python",
   "name": "python3"
  },
  "language_info": {
   "codemirror_mode": {
    "name": "ipython",
    "version": 3
   },
   "file_extension": ".py",
   "mimetype": "text/x-python",
   "name": "python",
   "nbconvert_exporter": "python",
   "pygments_lexer": "ipython3",
   "version": "3.6.4"
  }
 },
 "nbformat": 4,
 "nbformat_minor": 2
}
