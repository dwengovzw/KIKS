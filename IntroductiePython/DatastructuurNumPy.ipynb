{
 "cells": [
  {
   "cell_type": "markdown",
   "metadata": {},
   "source": [
    "<img src=\"../.images/logosnb.png\" alt=\"Banner\" style=\"width:1100px;\"/>"
   ]
  },
  {
   "cell_type": "markdown",
   "metadata": {},
   "source": [
    "<div style='color: #690027;' markdown=\"1\">\n",
    "    <h1>EXTRA DATASTRUCTUREN MET NUMPY</h1> \n",
    "</div>"
   ]
  },
  {
   "cell_type": "markdown",
   "metadata": {},
   "source": [
    "<div class=\"alert alert-box alert-success\">\n",
    "De module NumPy laat toe om meer wetenschappelijke berekeningen te doen en om bv. te werken met matrices. <br> Naast <em>int</em> en <em>float</em> kunnen getallen ook een ander type hebben. \n",
    "</div>"
   ]
  },
  {
   "cell_type": "markdown",
   "metadata": {},
   "source": [
    " ### Importeer eerst de module"
   ]
  },
  {
   "cell_type": "code",
   "execution_count": null,
   "metadata": {},
   "outputs": [],
   "source": [
    "import numpy as np"
   ]
  },
  {
   "cell_type": "markdown",
   "metadata": {},
   "source": [
    "<div style='color: #690027;' markdown=\"1\">\n",
    "    <h2>1. Byte</h2> \n",
    "</div>"
   ]
  },
  {
   "cell_type": "markdown",
   "metadata": {},
   "source": [
    "<div class=\"alert alert-block alert-info\"> \n",
    "Een <b>bit</b> is een informatie-eenheid. De term is afkomstig van <b>binary digit</b>. Het is een eenheid die enkel de waarden 0 en 1 kan aannemen. <br>Acht bits vormen samen een <b>byte</b>. Er zijn zo 256 mogelijke combinaties van 0 en 1 die samen een byte vormen.  \n",
    "</div>"
   ]
  },
  {
   "cell_type": "markdown",
   "metadata": {},
   "source": [
    "Natuurlijke getallen zijn gehele getallen die positief zijn. Het is dus niet nodig om het toestandsteken expliciet te vermelden (de + hoef je niet te noteren). <br>\n",
    "De natuurlijke getallen van 0 t.e.m. 255 kan je voorstellen met een byte. 77 bv. komt overeen met 01001101."
   ]
  },
  {
   "cell_type": "markdown",
   "metadata": {},
   "source": [
    "### Opdracht 1.1\n",
    "Leg uit waarom er 256 mogelijke combinaties zijn om een byte te vormen."
   ]
  },
  {
   "cell_type": "markdown",
   "metadata": {},
   "source": [
    "In de module NumPy kan je een natuurlijk getal van 0 tot 255 opslaan met één byte. <br>In dat geval wordt het type `uint8` *(8 bits-unsigned integer)* gebruikt.<br><br>\n",
    "In het volgende puntje 2. NumPy ndarray: matrix vind je daar voorbeelden van."
   ]
  },
  {
   "cell_type": "markdown",
   "metadata": {},
   "source": [
    "<div style='color: #690027;' markdown=\"1\">\n",
    "    <h2>2. NumPy ndarray: matrix</h2> \n",
    "</div>"
   ]
  },
  {
   "cell_type": "markdown",
   "metadata": {},
   "source": [
    "*Een tabel van getallen noemt men in de wiskunde een matrix.*"
   ]
  },
  {
   "cell_type": "markdown",
   "metadata": {},
   "source": [
    "Voorbeeld: De matrix $\\begin{bmatrix} 1 & 2 & 0 \\\\ 3 & 4 & 5 \\end{bmatrix} $ is een $2x3$-matrix. Dat is een matrix met $2$ rijen en $3$ kolommen. <br>\n",
    "In de wiskunde zegt men dat $2x3$ de *dimensie* is van de matrix."
   ]
  },
  {
   "cell_type": "markdown",
   "metadata": {},
   "source": [
    "Een matrix is een voorbeeld van een *2D-array*. "
   ]
  },
  {
   "cell_type": "markdown",
   "metadata": {},
   "source": [
    "Voer de volgende code-cellen uit."
   ]
  },
  {
   "cell_type": "code",
   "execution_count": null,
   "metadata": {
    "scrolled": false
   },
   "outputs": [],
   "source": [
    "matrix1 = np.array([[1, 2, 0], [3, 4, 5]])   # matrix met 2 rijen en 3 kolommen, m.a.w. 2X3-matrix\n",
    "print(matrix1)"
   ]
  },
  {
   "cell_type": "code",
   "execution_count": null,
   "metadata": {},
   "outputs": [],
   "source": [
    "type(matrix1) "
   ]
  },
  {
   "cell_type": "code",
   "execution_count": null,
   "metadata": {},
   "outputs": [],
   "source": [
    "matrix1.ndim"
   ]
  },
  {
   "cell_type": "markdown",
   "metadata": {},
   "source": [
    "`matrix1` is een object dat het type *ndarray* heeft (ndarray staat voor nD-array). Hier gaat het over een 2D-array. <br>Opgelet: je mag dit niet verwarren met de wiskundige dimensie van een matrix (zie notebook 'Tensoren')."
   ]
  },
  {
   "cell_type": "markdown",
   "metadata": {},
   "source": [
    "Naast het kenmerk *ndim*, heeft een object met type *ndarray* nog andere kenmerken, zoals *shape*, *dtype* en *size*.<br> Die kenmerken vraag je als volgt op:"
   ]
  },
  {
   "cell_type": "code",
   "execution_count": null,
   "metadata": {},
   "outputs": [],
   "source": [
    "matrix1.shape                                # geeft aantal rijen en aantal kolommen, nl. wiskundige dimensie"
   ]
  },
  {
   "cell_type": "code",
   "execution_count": null,
   "metadata": {},
   "outputs": [],
   "source": [
    "matrix1.dtype                                # geeft type van elementen van matrix"
   ]
  },
  {
   "cell_type": "code",
   "execution_count": null,
   "metadata": {},
   "outputs": [],
   "source": [
    "matrix1.size                                 # geeft aantal elementen van matrix"
   ]
  },
  {
   "cell_type": "markdown",
   "metadata": {},
   "source": [
    "Je kan zulke objecten ook als argument meegeven aan NumPy-functies zoals `sum()` en `mean()`. <br>\n",
    "Door bv. de volgende code-cel uit te voeren, bereken je de som van alle elementen van `matrix1`. "
   ]
  },
  {
   "cell_type": "code",
   "execution_count": null,
   "metadata": {},
   "outputs": [],
   "source": [
    "np.sum(matrix1)"
   ]
  },
  {
   "cell_type": "markdown",
   "metadata": {},
   "source": [
    "Zoals vermeld in 1. Byte voorziet de module NumPy de mogelijkheid om een natuurlijk getal van 0 tot 255 op te slaan met één byte. <br>Om dat te doen moet je het type `uint8` *(8 bits-unsigned integer)* gebruiken."
   ]
  },
  {
   "cell_type": "markdown",
   "metadata": {},
   "source": [
    "Voer de volgende code-cel uit om te zien hoe dat werkt."
   ]
  },
  {
   "cell_type": "code",
   "execution_count": null,
   "metadata": {
    "scrolled": false
   },
   "outputs": [],
   "source": [
    "matrix2 = np.array([[7, 0, 1], [5, 1, 2]], dtype=\"uint8\")   # type elementen zelf kiezen\n",
    "print(matrix2)"
   ]
  },
  {
   "cell_type": "code",
   "execution_count": null,
   "metadata": {},
   "outputs": [],
   "source": [
    "matrix2.dtype"
   ]
  },
  {
   "cell_type": "code",
   "execution_count": null,
   "metadata": {},
   "outputs": [],
   "source": [
    "matrix3 = matrix1.astype(\"uint8\")             # type elementen wijzigen\n",
    "print(matrix3)"
   ]
  },
  {
   "cell_type": "code",
   "execution_count": null,
   "metadata": {},
   "outputs": [],
   "source": [
    "matrix3.dtype"
   ]
  },
  {
   "cell_type": "markdown",
   "metadata": {},
   "source": [
    "<div class=\"alert alert-box alert-info\">\n",
    "Een matrix is een voorbeeld van een <b>ndarray</b>.<br> Standaard gebruikt NumPy het type <b>int64</b> voor gehele getallen. Het bereik van <span style=\"background-color:whitesmoke; font-family:consolas; font-size:1em;\">int64</span> is van -9223372036854775808 tot 9223372036854775807.  <br>\n",
    "Je kan het type dat de elementen hebben ook zelf bepalen met <span style=\"background-color:whitesmoke; font-family:consolas; font-size:1em;\">dtype</span> of je kan het type wijzigen met <span style=\"background-color:whitesmoke; font-family:consolas; font-size:1em;\">astype()</span>. <br>\n",
    "Voor een ndarray met natuurlijke getallen van 0 tot 255 kan je kiezen voor het type <b>uint8</b>.<br>\n",
    "Attributen opvragen doe je als volgt: het aantal rijen en kolommen van een matrix met <span style=\"background-color:whitesmoke; font-family:consolas; font-size:1em;\">shape</span>, het type dat de elementen van de matrix hebben met <span style=\"background-color:whitesmoke; font-family:consolas; font-size:1em;\">dtype</span> en het aantal elementen van de matrix met <span style=\"background-color:whitesmoke; font-family:consolas; font-size:1em;\">size</span>.\n",
    "Van een <em>ndarray<em> kan je ook de waarde van $n$ opvragen. Je doet dat met <span style=\"background-color:whitesmoke; font-family:consolas; font-size:1em;\">ndim</span>.\n",
    "</div>"
   ]
  },
  {
   "cell_type": "markdown",
   "metadata": {},
   "source": [
    "<div class=\"alert alert-block alert-warning\"> \n",
    "Meer voorbeelden hiervan vind je in de notebook 'Tensoren'.\n",
    "</div>"
   ]
  },
  {
   "cell_type": "markdown",
   "metadata": {},
   "source": [
    "### Opdracht 2.1"
   ]
  },
  {
   "cell_type": "markdown",
   "metadata": {},
   "source": [
    "Beschouw de matrix $\\begin{bmatrix} -1 & 0 & 0 \\\\ 2 & -5 & 12 \\\\ 0 & 4 & -2\\end{bmatrix} $.\n",
    "Men noemt deze een *vierkante matrix* omdat ze evenveel rijen als kolommen heeft.<br>\n",
    "Geef a.d.h.v. NumPy deze vierkante matrix in en vraag het aantal elementen en de (wiskundige) dimensie op. "
   ]
  },
  {
   "cell_type": "code",
   "execution_count": null,
   "metadata": {},
   "outputs": [],
   "source": []
  },
  {
   "cell_type": "markdown",
   "metadata": {},
   "source": [
    "Beschouw de *kolommatrix* $\\begin{bmatrix} -10 \\\\ 2  \\\\ 0 \\end{bmatrix} $. \n",
    "Geef a.d.h.v. NumPy deze kolommatrix in en vraag het aantal elementen en de (wiskundige) dimensie op. "
   ]
  },
  {
   "cell_type": "code",
   "execution_count": null,
   "metadata": {},
   "outputs": [],
   "source": []
  },
  {
   "cell_type": "markdown",
   "metadata": {},
   "source": [
    "Kan je nu ook raden wat een *rijmatrix* is?<br>\n",
    "Geef a.d.h.v. NumPy een rijmatrix in met 6 elementen die het type uint8 hebben. Vraag het aantal elementen en de (wiskundige) dimensie op. "
   ]
  },
  {
   "cell_type": "code",
   "execution_count": null,
   "metadata": {},
   "outputs": [],
   "source": []
  },
  {
   "cell_type": "markdown",
   "metadata": {},
   "source": [
    "### Opdracht 2.2\n",
    "Met de NumPy-functies `sum()` en `mean()` kan je respectievelijk de som en het gemiddelde van alle elementen van een Numpy *ndarray* berekenen.\n",
    "-  Bereken de som van alle elementen van de gegeven vierkante matrix.\n",
    "-  Bereken het gemiddelde van alle elementen van de gegeven kolommatrix. "
   ]
  },
  {
   "cell_type": "code",
   "execution_count": null,
   "metadata": {},
   "outputs": [],
   "source": []
  },
  {
   "cell_type": "markdown",
   "metadata": {},
   "source": [
    "<div class=\"alert alert-box alert-info\">\n",
    "Alle elementen van een NumPy-array optellen doe je met de NumPy-functie <span style=\"background-color:whitesmoke; font-family:consolas; font-size:1em;\">sum()</span>, het gemiddelde ervan berekenen doe je met de NumPy-functie <span style=\"background-color:whitesmoke; font-family:consolas; font-size:1em;\">mean()</span>.\n",
    "</div>"
   ]
  },
  {
   "cell_type": "markdown",
   "metadata": {},
   "source": [
    "<div style='color: #690027;' markdown=\"1\">\n",
    "    <h2>3. Numpy ndarray: NumPy-lijst</h2> \n",
    "</div>"
   ]
  },
  {
   "cell_type": "markdown",
   "metadata": {},
   "source": [
    "In NumPy kan je ook met *lijsten van getallen* werken. "
   ]
  },
  {
   "cell_type": "markdown",
   "metadata": {},
   "source": [
    "Zo'n NumPy-lijst is eigenlijk een rij- of kolommatrix, dus een *1D-array*."
   ]
  },
  {
   "cell_type": "markdown",
   "metadata": {},
   "source": [
    "Voer de volgende code-cellen uit."
   ]
  },
  {
   "cell_type": "code",
   "execution_count": null,
   "metadata": {},
   "outputs": [],
   "source": [
    "lijst1 = np.array([1, 2, 3, 4, 5, 6])\n",
    "print(lijst1)"
   ]
  },
  {
   "cell_type": "code",
   "execution_count": null,
   "metadata": {},
   "outputs": [],
   "source": [
    "lijst1.ndim"
   ]
  },
  {
   "cell_type": "code",
   "execution_count": null,
   "metadata": {},
   "outputs": [],
   "source": [
    "lijst1.dtype"
   ]
  },
  {
   "cell_type": "markdown",
   "metadata": {},
   "source": [
    "### Opdracht 3.1\n",
    "Net zoals bij een gewone lijst, *list*, kan je een element uit een NumPy-lijst opvragen a.d.h.v. zijn index. \n",
    "-  Vraag het eerste element op uit `lijst1`. \n",
    "-  Vraag het laaste element op uit `lijst1`.\n",
    "-  Beperk `lijst1` tot zijn eerste drie elementen. Verwijs met de variabele `hoofd_lijst1` naar de nieuwe NumPy-lijst die die beperking oplevert. "
   ]
  },
  {
   "cell_type": "code",
   "execution_count": null,
   "metadata": {},
   "outputs": [],
   "source": []
  },
  {
   "cell_type": "markdown",
   "metadata": {},
   "source": [
    "<div class=\"alert alert-block alert-warning\"> \n",
    "De betekenis van de index en het beperken van <em>lists</em> vind je in de notebook 'Datastructuur'.\n",
    "</div>"
   ]
  },
  {
   "cell_type": "markdown",
   "metadata": {},
   "source": [
    "Je kan de index opvragen van een element in een NumPy-lijst met de functie `where()` uit de NumPy-module. Door de volgende instructie uit te voeren, vraag je de index op van het element '2' in `lijst1`."
   ]
  },
  {
   "cell_type": "code",
   "execution_count": null,
   "metadata": {},
   "outputs": [],
   "source": [
    "np.where(lijst1 == 2)"
   ]
  },
  {
   "cell_type": "markdown",
   "metadata": {},
   "source": [
    "Welke uitvoer krijg je als je de index opvraagt van een element dat niet in de lijst staat?"
   ]
  },
  {
   "cell_type": "code",
   "execution_count": null,
   "metadata": {},
   "outputs": [],
   "source": [
    "np.where(lijst1 == 4)"
   ]
  },
  {
   "cell_type": "markdown",
   "metadata": {},
   "source": [
    "<div class=\"alert alert-box alert-info\">\n",
    "<span style=\"background-color:whitesmoke; font-family:consolas; font-size:1em;\">==</span> is een <b>logische operator</b>, nl. een vergelijkingsoperator.\n",
    "</div>"
   ]
  },
  {
   "cell_type": "markdown",
   "metadata": {},
   "source": [
    "<div class=\"alert alert-block alert-warning\"> \n",
    " Meer voorbeelden van logische operatoren vind je in de notebook 'Datastructuur'.\n",
    "</div>"
   ]
  },
  {
   "cell_type": "markdown",
   "metadata": {},
   "source": [
    "### Opdracht 3.2\n",
    "Voer de volgende code-cel uit. `lijst2` is een lijst van mogelijke atmosferische CO$_{2}$-concentraties. \n",
    "-  Bepaal vervolgens de indices van het element '409' in `lijst2`.\n",
    "-  Voer de juiste instructie uit om `lijst2` te beperken tot `[409, 407, 408]`? Zorg ervoor dat de variabele `slice_lijst2` refereert aan het resultaat `[409, 407, 408]`."
   ]
  },
  {
   "cell_type": "code",
   "execution_count": null,
   "metadata": {},
   "outputs": [],
   "source": [
    "lijst2 = np.array([410, 408, 409, 407, 408, 409, 409, 410, 408])"
   ]
  },
  {
   "cell_type": "code",
   "execution_count": null,
   "metadata": {},
   "outputs": [],
   "source": []
  },
  {
   "cell_type": "markdown",
   "metadata": {},
   "source": [
    "Antwoord:"
   ]
  },
  {
   "cell_type": "markdown",
   "metadata": {},
   "source": [
    "-  Je kan alle elementen '408' uit `lijst2`verwijderen. Voer daarvoor de volgende code-cel uit.\n",
    "- Vul de commentaar aan."
   ]
  },
  {
   "cell_type": "code",
   "execution_count": null,
   "metadata": {},
   "outputs": [],
   "source": [
    "index = np.where(lijst2 == 408)                 # .........\n",
    "uitgedunde_lijst2 = np.delete(lijst2, index)    # .........\n",
    "print(uitgedunde_lijst2)                "
   ]
  },
  {
   "cell_type": "markdown",
   "metadata": {},
   "source": [
    "Met NumPy kan je ook automatisch lijsten genereren door de NumPy-functie `linsapce()` of `arrange()` te gebruiken. "
   ]
  },
  {
   "cell_type": "code",
   "execution_count": null,
   "metadata": {
    "scrolled": true
   },
   "outputs": [],
   "source": [
    "lijst3 = np.linspace(0, 10, 11)\n",
    "print(lijst3)"
   ]
  },
  {
   "cell_type": "code",
   "execution_count": null,
   "metadata": {
    "scrolled": true
   },
   "outputs": [],
   "source": [
    "lijst4 = np.arange(10)\n",
    "print(lijst4)"
   ]
  },
  {
   "cell_type": "code",
   "execution_count": null,
   "metadata": {},
   "outputs": [],
   "source": [
    "lijst5 = np.arange(-10, 15, step=5)\n",
    "print(lijst5)"
   ]
  },
  {
   "cell_type": "markdown",
   "metadata": {},
   "source": [
    "Probeer hierin bepaalde patronen te herkennen. "
   ]
  },
  {
   "cell_type": "markdown",
   "metadata": {},
   "source": [
    "### Opdracht 3.3\n",
    "Genereer de volgende NumPy-arrays:\n",
    "<p> &nbsp; &nbsp; [2 &nbsp; 4 &nbsp; 6 &nbsp; 8]</p>\n",
    "<p> &nbsp; &nbsp; [-3. &nbsp; 0. &nbsp; 3. &nbsp; 6. &nbsp; 9. &nbsp; 12. &nbsp; 15. &nbsp; 18. &nbsp; 21.]</p>"
   ]
  },
  {
   "cell_type": "code",
   "execution_count": null,
   "metadata": {},
   "outputs": [],
   "source": []
  },
  {
   "cell_type": "markdown",
   "metadata": {},
   "source": [
    "### Opdracht 3.4\n",
    "-  Welk type hebben de elementen van lijst1, lijst2 en lijst3?<br>\n",
    "-  Vraag het aantal elementen van deze lijsten op met de functie `len()`, een functie die ingebouwd is in Python.<br>"
   ]
  },
  {
   "cell_type": "code",
   "execution_count": null,
   "metadata": {},
   "outputs": [],
   "source": []
  },
  {
   "cell_type": "markdown",
   "metadata": {},
   "source": [
    "Antwoord:"
   ]
  },
  {
   "cell_type": "markdown",
   "metadata": {},
   "source": [
    "### Opdracht 3.5\n",
    "Voer de volgende code-cel uit. \n",
    "-  Toon `lijst6` en `lijst7`. \n",
    "-  Bepaal de lengte van beide lijsten.\n",
    "-  Bepaal met Python het element in `lijst7` dat dezelfde index heeft als het element in `lijst6`.\n",
    "- '255' is een element van `lijst6`. Maak een nieuwe NumPy-lijst door enkel de elementen uit `lijst6` te behouden vanaf '255'.  Verwijs met de variabele `staart_lijst6` naar de nieuwe NumPy-lijst die die beperking oplevert. "
   ]
  },
  {
   "cell_type": "code",
   "execution_count": null,
   "metadata": {},
   "outputs": [],
   "source": [
    "lijst6 = np.arange(3,500,step=4)\n",
    "lijst7 = np.linspace(3, 500, 200)"
   ]
  },
  {
   "cell_type": "code",
   "execution_count": null,
   "metadata": {},
   "outputs": [],
   "source": []
  },
  {
   "cell_type": "markdown",
   "metadata": {},
   "source": [
    "### Opdracht 3.6\n",
    "Je kan NumPy-lijsten samenvoegen, maar **niet** door gebruik te maken van de +-operator. Het lukt wel met de NumPy-functie `append()`, waaraan je beide matrices als argumenten meegeeft.<br>\n",
    "Als je de +-operator gebruikt, dan worden de matrices opgeteld (zie notebook 'Tensoren')."
   ]
  },
  {
   "cell_type": "markdown",
   "metadata": {},
   "source": [
    "Beschouw `lijst3` en `lijst4`. Maak een nieuwe lijst waarnaar je verwijst met de variabele `samengevoegde_lijst`, die de samenvoeging is van beide lijsten."
   ]
  },
  {
   "cell_type": "code",
   "execution_count": null,
   "metadata": {},
   "outputs": [],
   "source": []
  },
  {
   "cell_type": "markdown",
   "metadata": {},
   "source": [
    "<div class=\"alert alert-box alert-info\">\n",
    "Een NumPy-lijst is een 1-dimensionale <b>ndarray</b>.<br> Afhankelijk van de manier waarop deze lijst tot stand komt, hebben de elementen een bepaald type.<br>\n",
    "NumPy-lijsten kunnen samengevoegd worden met de NumPy-functie <span style=\"background-color:whitesmoke; font-family:consolas; font-size:1em;\">append()</span>. Indices kunnen opgevraagd worden met de NumPy-functie <span style=\"background-color:whitesmoke; font-family:consolas; font-size:1em;\">where()</span>. Elementen verwijderen kan via de NumPy-functie <span style=\"background-color:whitesmoke; font-family:consolas; font-size:1em;\">delete()</span>.\n",
    "</div>"
   ]
  },
  {
   "cell_type": "markdown",
   "metadata": {},
   "source": [
    "<div class=\"alert alert-block alert-warning\"> \n",
    "Toepassingen op wat je leerde in deze notebook vind je in de notebooks 'CO$_{2}$' en 'De Keelingcurve' en in de notebooks over de smeltende gletsjers. \n",
    "</div>"
   ]
  },
  {
   "cell_type": "markdown",
   "metadata": {},
   "source": [
    "<img src=\"../.images/cclic.png\" alt=\"Banner\" align=\"left\" style=\"width:100px;\"/><br><br>\n",
    "Notebook KIKS, zie <a href=\"http://www.aiopschool.be\">AI op School</a>, van F. wyffels & N. Gesquière is in licentie gegeven volgens een <a href=\"http://creativecommons.org/licenses/by-nc-sa/4.0/\">Creative Commons Naamsvermelding-NietCommercieel-GelijkDelen 4.0 Internationaal-licentie</a>. "
   ]
  }
 ],
 "metadata": {
  "kernelspec": {
   "display_name": "Python 3",
   "language": "python",
   "name": "python3"
  },
  "language_info": {
   "codemirror_mode": {
    "name": "ipython",
    "version": 3
   },
   "file_extension": ".py",
   "mimetype": "text/x-python",
   "name": "python",
   "nbconvert_exporter": "python",
   "pygments_lexer": "ipython3",
   "version": "3.6.4"
  }
 },
 "nbformat": 4,
 "nbformat_minor": 2
}
