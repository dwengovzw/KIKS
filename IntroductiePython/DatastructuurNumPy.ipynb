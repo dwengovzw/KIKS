{
 "cells": [
  {
   "cell_type": "markdown",
   "metadata": {},
   "source": [
    "<img src=\"../.images/logosnb.png\" alt=\"Banner\" style=\"width:800px;\"/>"
   ]
  },
  {
   "cell_type": "markdown",
   "metadata": {},
   "source": [
    "<div style='color: #690027;' markdown=\"1\">\n",
    "    <h1>EXTRA DATASTRUCTUREN MET NUMPY</h1> \n",
    "</div>"
   ]
  },
  {
   "cell_type": "markdown",
   "metadata": {},
   "source": [
    "<div class=\"alert alert-box alert-success\">\n",
    "De module NumPy laat toe om meer wetenschappelijke berekeningen te doen en om bv. te werken met matrices. <br> Naast <em>int</em> en <em>float</em> kunnen getallen ook een ander type hebben. \n",
    "</div>"
   ]
  },
  {
   "cell_type": "markdown",
   "metadata": {},
   "source": [
    " Importeer eerst de module."
   ]
  },
  {
   "cell_type": "code",
   "execution_count": null,
   "metadata": {},
   "outputs": [],
   "source": [
    "import numpy as np"
   ]
  },
  {
   "cell_type": "markdown",
   "metadata": {},
   "source": [
    "<div style='color: #690027;' markdown=\"1\">\n",
    "    <h2>1. Byte</h2> \n",
    "</div>"
   ]
  },
  {
   "cell_type": "markdown",
   "metadata": {},
   "source": [
    "<div class=\"alert alert-block alert-info\"> \n",
    "Een <b>bit</b> is een informatie-eenheid. De term is afkomstig van <b>binary digit</b>. Het is een eenheid die enkel de waarden 0 en 1 kan aannemen. <br>Acht bits vormen samen een <b>byte</b>. Er zijn 256 mogelijke bytes. \n",
    "</div>"
   ]
  },
  {
   "cell_type": "markdown",
   "metadata": {},
   "source": [
    "Natuurlijke getallen zijn gehele getallen die positief zijn. Het is dus niet nodig om het teken expliciet te vermelden (de + hoef je niet te noteren). <br>\n",
    "Met één byte kan je de natuurlijke getallen van 0 t.e.m. 255 voorstellen. 77 bv. komt overeen met 01001101."
   ]
  },
  {
   "cell_type": "markdown",
   "metadata": {},
   "source": [
    "### Opdracht \n",
    "Leg uit waarom er 256 mogelijke bytes zijn."
   ]
  },
  {
   "cell_type": "markdown",
   "metadata": {},
   "source": [
    "<div style='color: #690027;' markdown=\"1\">\n",
    "    <h2>2. NumPy ndarray</h2> \n",
    "</div>"
   ]
  },
  {
   "cell_type": "markdown",
   "metadata": {},
   "source": [
    "<div style='color: #690027;' markdown=\"1\">\n",
    "    <h3>2.1 Matrix</h3> \n",
    "</div>"
   ]
  },
  {
   "cell_type": "markdown",
   "metadata": {},
   "source": [
    "*Een tabel met daarin getallen, noemt men in wiskunde een matrix.*"
   ]
  },
  {
   "cell_type": "markdown",
   "metadata": {},
   "source": [
    "Voorbeeld: De matrix $\\begin{bmatrix} 1 & 2 & 0 \\\\ 3 & 4 & 5 \\end{bmatrix} $ is een 2x3-matrix. Dat is een matrix met 2 rijen en 3 kolommen. <br>\n",
    "In wiskunde zegt men dat 2x3 de *dimensie* is van de matrix."
   ]
  },
  {
   "cell_type": "markdown",
   "metadata": {},
   "source": [
    "Een matrix is een voorbeeld van een *2D-array*. "
   ]
  },
  {
   "cell_type": "markdown",
   "metadata": {},
   "source": [
    "Voer de volgende code-cellen uit."
   ]
  },
  {
   "cell_type": "code",
   "execution_count": null,
   "metadata": {
    "scrolled": false
   },
   "outputs": [],
   "source": [
    "matrix1 = np.array([[1, 2, 0], [3, 4, 5]])   # matrix met 2 rijen en 3 kolommen\n",
    "print(matrix1)"
   ]
  },
  {
   "cell_type": "code",
   "execution_count": null,
   "metadata": {},
   "outputs": [],
   "source": [
    "type(matrix1) "
   ]
  },
  {
   "cell_type": "code",
   "execution_count": null,
   "metadata": {},
   "outputs": [],
   "source": [
    "matrix1.ndim"
   ]
  },
  {
   "cell_type": "markdown",
   "metadata": {},
   "source": [
    "`matrix1` is een object dat het type *ndarray* heeft (ndarray staat voor n-dimensionale array). Hier gaat het over een 2-dimensionale array. <br>Opgelet: je mag dit niet verwarren met de wiskundige dimensie van een matrix (zie notebook 'Tensoren'.)"
   ]
  },
  {
   "cell_type": "code",
   "execution_count": null,
   "metadata": {},
   "outputs": [],
   "source": [
    "matrix1.shape                                # geeft aantal rijen en aantal kolommen van de matrix"
   ]
  },
  {
   "cell_type": "code",
   "execution_count": null,
   "metadata": {},
   "outputs": [],
   "source": [
    "matrix1.dtype                                # geeft type van de elementen van de matrix"
   ]
  },
  {
   "cell_type": "code",
   "execution_count": null,
   "metadata": {},
   "outputs": [],
   "source": [
    "matrix1.size                                 # geeft aantal elementen van de matrix"
   ]
  },
  {
   "cell_type": "markdown",
   "metadata": {},
   "source": [
    "In de module NumPy is er de mogelijkheid om een natuurlijk getal van 0 tot 255 op te slaan met één byte. <br>Om dat te doen moet je het type `uint8` *(8 bits-unsigned integer)* gebruiken."
   ]
  },
  {
   "cell_type": "markdown",
   "metadata": {},
   "source": [
    "Voer de volgende code-cel uit om te zien hoe dat werkt."
   ]
  },
  {
   "cell_type": "code",
   "execution_count": null,
   "metadata": {
    "scrolled": false
   },
   "outputs": [],
   "source": [
    "matrix2 = np.array([[7, 0, 1], [5, 1, 2]], dtype=\"uint8\")   # type zelf kiezen\n",
    "print(matrix2)"
   ]
  },
  {
   "cell_type": "code",
   "execution_count": null,
   "metadata": {},
   "outputs": [],
   "source": [
    "matrix2.dtype"
   ]
  },
  {
   "cell_type": "code",
   "execution_count": null,
   "metadata": {},
   "outputs": [],
   "source": [
    "matrix3 = matrix1.astype(\"uint8\")             # type wijzigen\n",
    "print(matrix3)"
   ]
  },
  {
   "cell_type": "code",
   "execution_count": null,
   "metadata": {},
   "outputs": [],
   "source": [
    "matrix3.dtype"
   ]
  },
  {
   "cell_type": "markdown",
   "metadata": {},
   "source": [
    "<div class=\"alert alert-box alert-info\">\n",
    "Een matrix is een voorbeeld van een <b>ndarray</b>.<br> Standaard gebruikt NumPy het type <b>int32</b> voor gehele getallen. Het bereik van <span style=\"background-color:whitesmoke; font-family:consolas; font-size:1em;\">int32</span> is van -2147483648 tot 2147483647.  <br>\n",
    "Je kan het type dat de elementen hebben ook zelf bepalen met <span style=\"background-color:whitesmoke; font-family:consolas; font-size:1em;\">dtype</span> of je kan het type wijzigen met <span style=\"background-color:whitesmoke; font-family:consolas; font-size:1em;\">astype()</span>. <br>\n",
    "Voor een ndarray met natuurlijke getallen van 0 tot 255, kan je kiezen voor het type <b>uint8</b>.<br>\n",
    "Attributen opvragen doe je als volgt: het aantal rijen en kolommen van een matrix met <span style=\"background-color:whitesmoke; font-family:consolas; font-size:1em;\">shape</span>, het type dat de elementen van de matrix hebben met <span style=\"background-color:whitesmoke; font-family:consolas; font-size:1em;\">dtype</span> en het aantal elementen van de matrix met <span style=\"background-color:whitesmoke; font-family:consolas; font-size:1em;\">size</span>.\n",
    "Van een ndarray kan je ook opvragen hoeveel dimensionaal die is. Je doet dat met <span style=\"background-color:whitesmoke; font-family:consolas; font-size:1em;\">ndim</span>.\n",
    "</div>"
   ]
  },
  {
   "cell_type": "markdown",
   "metadata": {},
   "source": [
    "Meer hierover in de notebook 'Tensoren'."
   ]
  },
  {
   "cell_type": "markdown",
   "metadata": {},
   "source": [
    "### Opdracht 2.1.1"
   ]
  },
  {
   "cell_type": "markdown",
   "metadata": {},
   "source": [
    "Beschouw de matrix $\\begin{bmatrix} -1 & 0 & 0 \\\\ 2 & -5 & 12 \\\\ 0 & 4 & -2\\end{bmatrix} $\n",
    "Men noemt dit een *vierkante matrix* omdat ze evenveel rijen als kolommen heeft.<br>\n",
    "Geef a.d.h.v. NumPy deze vierkante matrix in en vraag het aantal elementen en de (wiskundige) dimensie op. "
   ]
  },
  {
   "cell_type": "code",
   "execution_count": null,
   "metadata": {},
   "outputs": [],
   "source": []
  },
  {
   "cell_type": "markdown",
   "metadata": {},
   "source": [
    "Beschouw de *kolommatrix* $\\begin{bmatrix} -10 \\\\ 2  \\\\ 0 \\end{bmatrix} $\n",
    "Geef a.d.h.v. NumPy deze vierkante matrix in en vraag het aantal elementen en de (wiskundige) dimensie op. "
   ]
  },
  {
   "cell_type": "code",
   "execution_count": null,
   "metadata": {},
   "outputs": [],
   "source": []
  },
  {
   "cell_type": "markdown",
   "metadata": {},
   "source": [
    "Begrijp je nu ook wat een *rijmatrix* is?<br>\n",
    "Geef a.d.h.v. NumPy een rijmatrix in met 6 elementen die het type uint8 hebben. Vraag het aantal elementen en de (wiskundige) dimensie op. "
   ]
  },
  {
   "cell_type": "code",
   "execution_count": null,
   "metadata": {},
   "outputs": [],
   "source": []
  },
  {
   "cell_type": "markdown",
   "metadata": {},
   "source": [
    "<div style='color: #690027;' markdown=\"1\">\n",
    "    <h3>2.2 Lijst</h3> \n",
    "</div>"
   ]
  },
  {
   "cell_type": "markdown",
   "metadata": {},
   "source": [
    "In NumPy kan je ook met lijsten werken. "
   ]
  },
  {
   "cell_type": "markdown",
   "metadata": {},
   "source": [
    "Zo'n NumPy-lijst is een voorbeeld van een *1D-array*, dus een 1-dimensionale array."
   ]
  },
  {
   "cell_type": "markdown",
   "metadata": {},
   "source": [
    "Voer de volgende code-cellen uit."
   ]
  },
  {
   "cell_type": "code",
   "execution_count": null,
   "metadata": {},
   "outputs": [],
   "source": [
    "lijst1 = np.array([1, 2, 3])\n",
    "print(lijst1)"
   ]
  },
  {
   "cell_type": "code",
   "execution_count": null,
   "metadata": {},
   "outputs": [],
   "source": [
    "lijst1.ndim"
   ]
  },
  {
   "cell_type": "code",
   "execution_count": null,
   "metadata": {},
   "outputs": [],
   "source": [
    "lijst1.dtype"
   ]
  },
  {
   "cell_type": "markdown",
   "metadata": {},
   "source": [
    "Met NumPy kan je ook automatisch lijsten genereren. "
   ]
  },
  {
   "cell_type": "code",
   "execution_count": null,
   "metadata": {
    "scrolled": true
   },
   "outputs": [],
   "source": [
    "lijst2 = np.linspace(0, 10, 11)\n",
    "print(lijst2)"
   ]
  },
  {
   "cell_type": "code",
   "execution_count": null,
   "metadata": {
    "scrolled": true
   },
   "outputs": [],
   "source": [
    "lijst3 = np.arange(10)\n",
    "print(lijst3)"
   ]
  },
  {
   "cell_type": "code",
   "execution_count": null,
   "metadata": {},
   "outputs": [],
   "source": [
    "lijst4 = np.arange(-10, 15, step=5)\n",
    "print(lijst4)"
   ]
  },
  {
   "cell_type": "markdown",
   "metadata": {},
   "source": [
    "### Opdracht 2.2.1\n",
    "Welk type hebben de elementen van lijst1, lijst2 en lijst3?<br><br>\n",
    "Antwoord:"
   ]
  },
  {
   "cell_type": "markdown",
   "metadata": {},
   "source": [
    "### Opdracht 2.2.2\n",
    "Genereer de volgende NumPy-arrays:\n",
    "<p> &nbsp; &nbsp; [2 &nbsp; 4 &nbsp; 6 &nbsp; 8]</p>\n",
    "<p> &nbsp; &nbsp; [-3.0 &nbsp; 0.0 &nbsp; 3.0 &nbsp; 6.0 &nbsp; 9.0 &nbsp; 12.0 &nbsp; 15.0 &nbsp; 18.0 &nbsp; 21.0]</p>"
   ]
  },
  {
   "cell_type": "code",
   "execution_count": null,
   "metadata": {},
   "outputs": [],
   "source": []
  },
  {
   "cell_type": "markdown",
   "metadata": {},
   "source": [
    "<div class=\"alert alert-box alert-info\">\n",
    "Een NumPy-lijst is een 1-dimensionale <b>ndarray</b>.<br> Afhankelijk van de manier waarop deze lijst tot stand komt, hebben de elementen een bepaald type.\n",
    "</div>"
   ]
  },
  {
   "cell_type": "markdown",
   "metadata": {},
   "source": [
    "<img src=\"../.images/cclic.png\" alt=\"Banner\" align=\"left\" style=\"width:80px;\"/><br><br>\n",
    "Notebook KIKS, zie <a href=\"http://www.aiopschool.be\">ai op school</a>, van F. wyffels & N. Gesquière is in licentie gegeven volgens een <a href=\"http://creativecommons.org/licenses/by-nc-sa/4.0/\">Creative Commons Naamsvermelding-NietCommercieel-GelijkDelen 4.0 Internationaal-licentie</a>. "
   ]
  }
 ],
 "metadata": {
  "kernelspec": {
   "display_name": "Python 3",
   "language": "python",
   "name": "python3"
  },
  "language_info": {
   "codemirror_mode": {
    "name": "ipython",
    "version": 3
   },
   "file_extension": ".py",
   "mimetype": "text/x-python",
   "name": "python",
   "nbconvert_exporter": "python",
   "pygments_lexer": "ipython3",
   "version": "3.6.4"
  }
 },
 "nbformat": 4,
 "nbformat_minor": 2
}
