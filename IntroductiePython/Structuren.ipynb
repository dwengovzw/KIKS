{
 "cells": [
  {
   "cell_type": "markdown",
   "metadata": {},
   "source": [
    "<img src=\"../.images/logosnb.png\" alt=\"Banner\" style=\"width: 1100px;\"/>"
   ]
  },
  {
   "cell_type": "markdown",
   "metadata": {},
   "source": [
    "<div style='color: #690027;' markdown=\"1\">\n",
    "    <h1>STRUCTUREN</h1> \n",
    "</div>"
   ]
  },
  {
   "cell_type": "markdown",
   "metadata": {},
   "source": [
    "<div class=\"alert alert-box alert-success\">\n",
    "In deze notebook maak je kennis met de herhalingsstructuur en de voorwaardelijke keuze.\n",
    "</div>"
   ]
  },
  {
   "cell_type": "markdown",
   "metadata": {},
   "source": [
    "<div style='color: #690027;' markdown=\"1\">\n",
    "    <h2>1. Herhalingsstructuur</h2> \n",
    "</div>"
   ]
  },
  {
   "cell_type": "markdown",
   "metadata": {},
   "source": [
    "<div style='color: #690027;' markdown=\"1\">\n",
    "    <h3>1.1 For-lus</h3> \n",
    "</div>"
   ]
  },
  {
   "cell_type": "markdown",
   "metadata": {},
   "source": [
    "<div class=\"alert alert-box alert-info\">\n",
    "Soms doorloop je een list of een string. Soms wil je eenzelfde instructie een bepaald aantal keren herhalen. Om te vermijden dat je eenzelfde instructie of algoritme meerdere keren moet ingeven, maak je gebruik van een lus.<br>\n",
    "Zowel met een <b>for-lus</b> als een <b>while-lus</b> kan je herhaling brengen in je script.\n",
    "</div>"
   ]
  },
  {
   "cell_type": "markdown",
   "metadata": {},
   "source": [
    "In het volgende script staan twee lijsten. Een lijst `wiskundigen`, waarin de vrouwen zijn vergeten, en een lijst met vrouwelijke wiskundigen.<br> Het script zal al de wiskundige vrouwen automatisch toevoegen aan de lijst wiskundigen. <br>Voer het Python-script uit. Begrijp je het?"
   ]
  },
  {
   "cell_type": "code",
   "execution_count": null,
   "metadata": {},
   "outputs": [],
   "source": [
    "wiskundigen = [\"Fermat\", \"Gauss\", \"Euler\", \"Fibonacci\", \"Galois\"]\n",
    "wiskundige_vrouwen = [\"Noether\", \"Nightingale\", \"Lovelace\"]\n",
    "for vrouw in wiskundige_vrouwen:\n",
    "    wiskundigen.append(vrouw)\n",
    "print(wiskundigen)"
   ]
  },
  {
   "cell_type": "markdown",
   "metadata": {},
   "source": [
    "Je hebt vast al opgemerkt dat Python geen `;` of `{}` gebruikt. \n",
    "Python gebruikt wel `:`. <br>Heel specifiek is het gebruik van *indentatie*. Op bepaalde plaatsen wordt er vier spaties ingesprongen. Zo wordt de code in de for-lus 'gegroepeerd'. "
   ]
  },
  {
   "cell_type": "markdown",
   "metadata": {},
   "source": [
    "<div class=\"alert alert-block alert-info\"> \n",
    "De instructies van een lus die moeten worden uitgevoerd, volgen na <span style=\"background-color:whitesmoke; font-family:consolas; font-size:1em;\">:</span>  en worden gegroepeerd door in te springen. Men noemt dit <b> indentatie</b>. <br>Waar de inspringing stopt, is de lus een eerste keer doorlopen. \n",
    "</div>"
   ]
  },
  {
   "cell_type": "markdown",
   "metadata": {},
   "source": [
    "Je kan ook een *begrensde herhaling* gebruiken waarbij je het aantal keren dat de instructie wordt uitgevoerd, expliciet vermeldt. Een bepaalde instructie wordt dan een bepaald aantal keren uitgevoerd.\n",
    "<br> Voer de volgende code uit."
   ]
  },
  {
   "cell_type": "code",
   "execution_count": null,
   "metadata": {},
   "outputs": [],
   "source": [
    "even = [0, 2, 4, 6, 8] \n",
    "\n",
    "# deze lijst aanvullen met volgende zes even getallen\n",
    "for i in range(6):                       # i neemt waarden 0, 1, 2, 3, 4 en 5 aan  \n",
    "    print(\"i is:\", i)\n",
    "    getal = 8 + 2*(i+1)\n",
    "    print(\"getal is:\", getal)\n",
    "    even.append(getal)\n",
    "    print(\"de lijst is nu:\", even)"
   ]
  },
  {
   "cell_type": "markdown",
   "metadata": {},
   "source": [
    "`range()` kan je ook gebruiken om een lijst op te vullen. Voer de volgende code uit."
   ]
  },
  {
   "cell_type": "code",
   "execution_count": null,
   "metadata": {},
   "outputs": [],
   "source": [
    "lijst2 = list(range(4))    \n",
    "print(lijst2)\n",
    "\n",
    "for term in lijst2:\n",
    "    print(\"\\t\", term)"
   ]
  },
  {
   "cell_type": "markdown",
   "metadata": {},
   "source": [
    "### Uitdaging 1.1\n",
    "Schrijf een script dat 12 veelvouden van 3 afdrukt. \n",
    "Het script moet daarvoor starten met de gegeven lijst en moet deze lijst 'opkuisen' en aanvullen. "
   ]
  },
  {
   "cell_type": "code",
   "execution_count": null,
   "metadata": {},
   "outputs": [],
   "source": [
    "lijst = [1, 3, 6, 7, 8, 9]"
   ]
  },
  {
   "cell_type": "markdown",
   "metadata": {},
   "source": [
    "<div style='color: #690027;' markdown=\"1\">\n",
    "    <h3>1.2 While-lus</h3> \n",
    "</div>"
   ]
  },
  {
   "cell_type": "markdown",
   "metadata": {},
   "source": [
    "Naast de for-lus kan je ook een while-lus als herhalingsstructuur gebruiken. "
   ]
  },
  {
   "cell_type": "code",
   "execution_count": null,
   "metadata": {},
   "outputs": [],
   "source": [
    "lijst = [\"A\", \"B\", \"C\", \"D\", \"E\", \"F\", \"G\", \"H\", \"I\"]\n",
    "getal = 0\n",
    "# de eerste 6 letters van de lijst afdrukken\n",
    "while getal < 6:\n",
    "    print(\"getal =\", getal, \"\\nletter =\" ,lijst[getal])\n",
    "    getal +=1"
   ]
  },
  {
   "cell_type": "markdown",
   "metadata": {},
   "source": [
    "### Uitdaging 1.2\n",
    "Schrijf een script dat alle veelvouden van 3 afdrukt die kleiner zijn dan 100, te beginnen vanaf 0. "
   ]
  },
  {
   "cell_type": "code",
   "execution_count": null,
   "metadata": {},
   "outputs": [],
   "source": []
  },
  {
   "cell_type": "markdown",
   "metadata": {},
   "source": [
    "<div class=\"alert alert-box alert-info\">\n",
    "Een for-lus wordt gebruikt bij een begrensde herhaling, bv. een lijst doorlopen, een algoritme een bepaald aantal keren uitvoeren. <br>\n",
    "Bij een while-lus wordt de lus steeds opnieuw doorlopen zolang dat aan de voorwaarde voldaan is.\n",
    "</div>"
   ]
  },
  {
   "cell_type": "markdown",
   "metadata": {},
   "source": [
    "<div style='color: #690027;' markdown=\"1\">\n",
    "    <h2>2. Keuzestructuur</h2> \n",
    "</div>"
   ]
  },
  {
   "cell_type": "markdown",
   "metadata": {},
   "source": [
    "Voer de volgende code uit."
   ]
  },
  {
   "cell_type": "code",
   "execution_count": null,
   "metadata": {},
   "outputs": [],
   "source": [
    "getal = float(input(\"Geef een getal: \"))\n",
    "\n",
    "if getal > 0: \n",
    "    print(getal, \"is strikt positief.\")\n",
    "elif getal < 0:    \n",
    "    print(getal, \"is strikt negatief.\")\n",
    "else:\n",
    "    print(getal, \"is nul.\")"
   ]
  },
  {
   "cell_type": "markdown",
   "metadata": {},
   "source": [
    "<div class=\"alert alert-box alert-info\">\n",
    "De combinatie sleutelwoorden <b>if - elif - else</b> staat voor <b>als - anders als - anders</b>.\n",
    "</div>"
   ]
  },
  {
   "cell_type": "markdown",
   "metadata": {},
   "source": [
    "### Oefening 2.1\n",
    "Voer de volgende code uit."
   ]
  },
  {
   "cell_type": "code",
   "execution_count": null,
   "metadata": {},
   "outputs": [],
   "source": [
    "getallen = [3, 7, 1, 13, 2, 4, 5, 11, 15] \n",
    "\n",
    "for getal in getallen:\n",
    "    if getal %2 == 0:\n",
    "        print(\"Het getal\", getal, \"is even.\")\n",
    "    else: \n",
    "        print(\"Het getal\", getal, \"is oneven.\")"
   ]
  },
  {
   "cell_type": "markdown",
   "metadata": {},
   "source": [
    "Breid de code uit, zodat de lijst met de even en de lijst met de oneven getallen worden uitgeprint."
   ]
  },
  {
   "cell_type": "code",
   "execution_count": null,
   "metadata": {},
   "outputs": [],
   "source": []
  },
  {
   "cell_type": "markdown",
   "metadata": {},
   "source": [
    "### Oefening 2.2\n",
    "Voer de volgende code uit."
   ]
  },
  {
   "cell_type": "code",
   "execution_count": null,
   "metadata": {},
   "outputs": [],
   "source": [
    "wiskundigen = [\"Fermat\", \"Gauss\", \"Euler\", \"Fibonacci\", \"Galois\", \"Noether\", \"Nightingale\", \"Lovelace\"]\n",
    "aantal_vrouwen = 0 \n",
    "\n",
    "for persoon in wiskundigen: \n",
    "    geslacht = \"vrouwelijk\"\n",
    "    if persoon[0] in [\"N\", \"L\"]:\n",
    "        aantal_vrouwen += 1\n",
    "    else:\n",
    "        geslacht = \"mannelijk\"    \n",
    "    print(persoon, \"is van het geslacht:\", geslacht)\n",
    "    \n",
    "print(\"Er zijn\", aantal_vrouwen, \"vrouwelijke wiskundigen in de lijst.\")"
   ]
  },
  {
   "cell_type": "markdown",
   "metadata": {},
   "source": [
    "Breid de code uit, zodat ook het aantal mannelijke wiskundigen wordt weergegeven, zonder ze expliciet te tellen."
   ]
  },
  {
   "cell_type": "code",
   "execution_count": null,
   "metadata": {},
   "outputs": [],
   "source": []
  },
  {
   "cell_type": "markdown",
   "metadata": {},
   "source": [
    "### Uitdaging 2.3\n",
    "Vervolledig en verbeter de code, zodat:\n",
    "-  elk veelvoud van 3 uit de lijst getallen wordt verwijderd, tenzij het ook een veelvoud is van 5; \n",
    "-  elk veelvoud van 7 uit de lijst getallen wordt verwijderd, tenzij het ook een veelvoud is van 2. \n",
    "\n",
    "Maak een tweede lijst die de overbleven getallen, elk vermenigvuldigd met 10, bevat.<br>\n",
    "Laat uiteindelijk beide lijsten uitprinten.<br><br>"
   ]
  },
  {
   "cell_type": "code",
   "execution_count": null,
   "metadata": {},
   "outputs": [],
   "source": [
    "getallen = [3, 7, 1, 25, 10, 8, 30, 40, 28, 49, 33, 13, 37, 101, 56, 111, 2, 4, 5, 11, 15] \n",
    "lijst2 = []\n",
    "\n",
    "for getal in getallen:\n",
    "    print(getal)\n",
    "    if getal %3 == 0:\n",
    "        if getal %5 != 0\n",
    "            getallen.remove(getal)\n",
    "        else:\n",
    "            lijst2.append(getal * 10)\n",
    "    elif getal % == 0:\n",
    "        if getal % != 0:\n",
    "            getallen.remove(getal)\n",
    "        else\n",
    "            lijst2.append(getal * 10)\n",
    "    else:\n",
    "        lijst2.append(getal * 10)\n",
    "    \n",
    "print getallen"
   ]
  },
  {
   "cell_type": "code",
   "execution_count": null,
   "metadata": {},
   "outputs": [],
   "source": []
  },
  {
   "cell_type": "markdown",
   "metadata": {},
   "source": [
    "<div class=\"alert alert-box alert-info\">\n",
    "Als structuren in elkaar verweven zijn, dan spreekt men van <b>geneste structuren.</b><br>\n",
    "</div>"
   ]
  },
  {
   "cell_type": "markdown",
   "metadata": {},
   "source": [
    "<img src=\"../.images/cclic.png\" alt=\"Banner\" align=\"left\" style=\"width:100px;\"/><br><br>\n",
    "Notebook KIKS, zie <a href=\"http://www.aiopschool.be\">AI op School</a>, van F. wyffels & N. Gesquière is in licentie gegeven volgens een <a href=\"http://creativecommons.org/licenses/by-nc-sa/4.0/\">Creative Commons Naamsvermelding-NietCommercieel-GelijkDelen 4.0 Internationaal-licentie</a>. "
   ]
  }
 ],
 "metadata": {
  "kernelspec": {
   "display_name": "Python 3",
   "language": "python",
   "name": "python3"
  },
  "language_info": {
   "codemirror_mode": {
    "name": "ipython",
    "version": 3
   },
   "file_extension": ".py",
   "mimetype": "text/x-python",
   "name": "python",
   "nbconvert_exporter": "python",
   "pygments_lexer": "ipython3",
   "version": "3.6.4"
  }
 },
 "nbformat": 4,
 "nbformat_minor": 2
}
