{
 "cells": [
  {
   "cell_type": "markdown",
   "metadata": {},
   "source": [
    "<img src=\"../.images/logosnb2.png\" alt=\"Banner\" style=\"width:1100px;\"/>"
   ]
  },
  {
   "cell_type": "markdown",
   "metadata": {},
   "source": [
    "<div style='color: #690027;' markdown=\"1\">\n",
    "    <h1>VAN JPG-BESTAND NAAR DAT- OF NPY-BESTAND</h1> \n",
    "</div>"
   ]
  },
  {
   "cell_type": "markdown",
   "metadata": {},
   "source": [
    "<div class=\"alert alert-box alert-success\">\n",
    "In deze notebook wordt een voorbeeld gegeven van hoe je een jpg-bestand kunt omzetten naar een grijswaardenafbeelding, gerepresenteerd door een matrix, en hoe je die afbeelding opslaat als een dat-bestand of een npy-bestand.    \n",
    "Je maakt daarvoor gebruik van de module scikit-image (skimage) die algoritmes voorziet voor digitale beeldverwerking en <em>computer vision</em>.\n",
    "</div>"
   ]
  },
  {
   "cell_type": "markdown",
   "metadata": {},
   "source": [
    "### De nodige modules importeren"
   ]
  },
  {
   "cell_type": "code",
   "execution_count": null,
   "metadata": {},
   "outputs": [],
   "source": [
    "import numpy as np\n",
    "import matplotlib.pyplot as plt\n",
    "\n",
    "import skimage.color as skc"
   ]
  },
  {
   "cell_type": "markdown",
   "metadata": {},
   "source": [
    "<div class=\"alert alert-block alert-warning\">\n",
    "In de notebooks 'Matrices en afbeeldingen in grijswaarden' en 'Tensoren en RGB' wordt uitgelegd hoe respectievelijk een grijswaardenafbeelding en een kleurenafbeelding worden gerepresenteerd opdat een computer die begrijpt.\n",
    "</div>"
   ]
  },
  {
   "cell_type": "markdown",
   "metadata": {},
   "source": [
    "<div style='color: #690027;' markdown=\"1\">\n",
    "    <h2>1. Kleurenfoto</h2> \n",
    "</div>"
   ]
  },
  {
   "cell_type": "markdown",
   "metadata": {},
   "source": [
    "Met een smartphone werd een foto genomen  van een zelfgeschreven vier: een vier geschreven met een zwarte stift op een wit blad. <br>\n",
    "Deze foto werd ingevoerd in Paint en bijgeknipt. Erna werd het formaat van de foto in Paint omgezet naar 28 op 28 pixels.<br>\n",
    "Het resultaat werd opgeslagen als `4.jpg`."
   ]
  },
  {
   "cell_type": "markdown",
   "metadata": {},
   "source": [
    "Lees de foto in en vraag de wiskundige dimensie op. Bekijk de foto.  "
   ]
  },
  {
   "cell_type": "code",
   "execution_count": null,
   "metadata": {},
   "outputs": [],
   "source": [
    "vier = plt.imread(\"../.images/IntroductiePython/4.jpg\")     "
   ]
  },
  {
   "cell_type": "code",
   "execution_count": null,
   "metadata": {},
   "outputs": [],
   "source": [
    "vier.shape                    # jpg dus RGB en 3D-tensor"
   ]
  },
  {
   "cell_type": "code",
   "execution_count": null,
   "metadata": {},
   "outputs": [],
   "source": [
    "plt.imshow(vier)              # zwart op witte achtergrond, 28 op 28 pixels"
   ]
  },
  {
   "cell_type": "markdown",
   "metadata": {},
   "source": [
    "Bekijk de drie matrices van de tensor."
   ]
  },
  {
   "cell_type": "code",
   "execution_count": null,
   "metadata": {},
   "outputs": [],
   "source": [
    "print(vier[:,:,0])\n",
    "print(vier[:,:,1])\n",
    "print(vier[:,:,2])"
   ]
  },
  {
   "cell_type": "markdown",
   "metadata": {},
   "source": [
    "Merk op dat de waarden gaan van 0 t.e.m. 255."
   ]
  },
  {
   "cell_type": "markdown",
   "metadata": {},
   "source": [
    "<div style='color: #690027;' markdown=\"1\">\n",
    "    <h2>2. Kleurenfoto omzetten naar grijswaardenafbeelding</h2> \n",
    "</div>"
   ]
  },
  {
   "cell_type": "markdown",
   "metadata": {},
   "source": [
    "Zet de foto om naar een grijswaardenafbeelding en bekijk het effect op de wiskundige dimensie."
   ]
  },
  {
   "cell_type": "code",
   "execution_count": null,
   "metadata": {},
   "outputs": [],
   "source": [
    "vier_grijs = skc.rgb2gray(vier)         # jpg (RGB) omzetten naar grijswaardenafbeelding\n",
    "vier_grijs.shape                        # gerepresenteerd door matrix i.p.v. tensor"
   ]
  },
  {
   "cell_type": "code",
   "execution_count": null,
   "metadata": {},
   "outputs": [],
   "source": [
    "plt.imshow(vier_grijs, cmap=\"gray\")"
   ]
  },
  {
   "cell_type": "markdown",
   "metadata": {},
   "source": [
    "Bekijk de matrix."
   ]
  },
  {
   "cell_type": "code",
   "execution_count": null,
   "metadata": {},
   "outputs": [],
   "source": [
    "print(vier_grijs)"
   ]
  },
  {
   "cell_type": "markdown",
   "metadata": {},
   "source": [
    "Merk op dat de waarden tussen 0 en 1 liggen. D.w.z. dat alle waarden van 0 t.e.m. 255 gedeeld werden door 255. Er is dus ook een schaling gebeurd. 0 komt overeen met zwart en 1 met wit. "
   ]
  },
  {
   "cell_type": "markdown",
   "metadata": {},
   "source": [
    "<div style='color: #690027;' markdown=\"1\">\n",
    "    <h2>3. Kleuren inverteren</h2> \n",
    "</div>"
   ]
  },
  {
   "cell_type": "markdown",
   "metadata": {},
   "source": [
    "Door een bewerking uit te voeren op de matrix kan je de kleuren inverteren. Door 0 te vervangen door 1, 1 te vervangen door 0, 0,3 te vervangen door 0,7 ... bekom je een witte vier op een zwarte achtergrond. <br>\n",
    "Test dit uit door de volgende code-cel uit te voeren."
   ]
  },
  {
   "cell_type": "code",
   "execution_count": null,
   "metadata": {},
   "outputs": [],
   "source": [
    "vier_zw = 1 - vier_grijs    # grijswaarden inverteren\n",
    "print(vier_zw.shape) "
   ]
  },
  {
   "cell_type": "code",
   "execution_count": null,
   "metadata": {},
   "outputs": [],
   "source": [
    "plt.imshow(vier_zw, cmap=\"gray\")"
   ]
  },
  {
   "cell_type": "markdown",
   "metadata": {},
   "source": [
    "Bekijk de matrix en kijk hoe de eerste elementen zijn aangepast."
   ]
  },
  {
   "cell_type": "code",
   "execution_count": null,
   "metadata": {},
   "outputs": [],
   "source": [
    "print(vier_zw)"
   ]
  },
  {
   "cell_type": "markdown",
   "metadata": {},
   "source": [
    "<div style='color: #690027;' markdown=\"1\">\n",
    "    <h2>4. Afbeelding opslaan en inlezen</h2> \n",
    "</div>"
   ]
  },
  {
   "cell_type": "markdown",
   "metadata": {},
   "source": [
    "Met de juiste functies kan je de matrix opslaan als matrix, dus zonder de wiskundige dimensie te veranderen.<br>\n",
    "Als je de matrix zou opslaan als `jpg`, dan verandert de wiskundige dimensie: je krijgt dan opnieuw een tensor."
   ]
  },
  {
   "cell_type": "markdown",
   "metadata": {},
   "source": [
    "Je hebt de keuze tussen een dat-bestand of een npy-bestand. <br>Let op: de functies om op te slaan of in te lezen zijn verschillend naargelang het gekozen formaat."
   ]
  },
  {
   "cell_type": "markdown",
   "metadata": {},
   "source": [
    "Opslaan doe je als volgt:"
   ]
  },
  {
   "cell_type": "code",
   "execution_count": null,
   "metadata": {},
   "outputs": [],
   "source": [
    "np.savetxt(\"vier.dat\", vier_zw)      # opslaan als dat-bestand\n",
    "np.save(\"vier.npy\", vier_zw)         # opslaan als npy-bestand"
   ]
  },
  {
   "cell_type": "markdown",
   "metadata": {},
   "source": [
    "*Omdat gebruikers niet kunnen opslaan op de KIKS-server, werden de bestanden `vier.dat` en `vier.npy` al voorzien op de server.*"
   ]
  },
  {
   "cell_type": "markdown",
   "metadata": {},
   "source": [
    "De bestanden opvragen doe je als volgt:"
   ]
  },
  {
   "cell_type": "code",
   "execution_count": null,
   "metadata": {
    "scrolled": true
   },
   "outputs": [],
   "source": [
    "vier1 = np.loadtxt(\"../.data/IntroductiePython/vier.dat\")       # inlezen van een dat-bestand\n",
    "vier2 = np.load(\"../.data/IntroductiePython/vier.npy\")          # inlezen van een npy-bestand"
   ]
  },
  {
   "cell_type": "markdown",
   "metadata": {},
   "source": [
    "De afbeeldingen tonen, gebeurt wel via dezelfde instructie."
   ]
  },
  {
   "cell_type": "code",
   "execution_count": null,
   "metadata": {},
   "outputs": [],
   "source": [
    "plt.figure()\n",
    "\n",
    "plt.subplot(1,2,1)\n",
    "plt.imshow(vier1, cmap=\"gray\")\n",
    "plt.subplot(1,2,2)\n",
    "plt.imshow(vier2, cmap=\"gray\")\n",
    "\n",
    "plt.show()"
   ]
  },
  {
   "cell_type": "code",
   "execution_count": null,
   "metadata": {},
   "outputs": [],
   "source": [
    "# controle formaat\n",
    "print(vier1.shape)\n",
    "print(vier2.shape)"
   ]
  },
  {
   "cell_type": "markdown",
   "metadata": {},
   "source": [
    "Je kan beide bestanden nog eens bekijken:"
   ]
  },
  {
   "cell_type": "code",
   "execution_count": null,
   "metadata": {},
   "outputs": [],
   "source": [
    "print(vier1)"
   ]
  },
  {
   "cell_type": "code",
   "execution_count": null,
   "metadata": {},
   "outputs": [],
   "source": [
    "print(vier2)"
   ]
  },
  {
   "cell_type": "markdown",
   "metadata": {},
   "source": [
    "Ze zijn inderdaad niet veranderd."
   ]
  },
  {
   "cell_type": "markdown",
   "metadata": {},
   "source": [
    "<div style='color: #690027;' markdown=\"1\">\n",
    "    <h2>5. Opdracht</h2> \n",
    "</div>"
   ]
  },
  {
   "cell_type": "markdown",
   "metadata": {},
   "source": [
    "### Opdracht 5.1\n",
    "Vorm de kleurenfoto van de Morteratschgletsjer om naar een grijswaardenafbeelding.<br>\n",
    "Je vindt de foto op de locatie: `../.images/IntroductiePython/Morteratsch2018_lvt.JPG`."
   ]
  },
  {
   "cell_type": "markdown",
   "metadata": {},
   "source": [
    "### Opdracht 5.2: Uitbreiding\n",
    "Sla het resultaat op als npy-bestand voor later gebruik. <br>\n",
    "Hiervoor maak je zelf een notebook, bv. in Anaconda met de Jupyter Notebook applicatie, in Google Colaboratory of in Microsoft Azure Notebooks. "
   ]
  },
  {
   "cell_type": "markdown",
   "metadata": {},
   "source": [
    "<div class=\"alert alert-block alert-warning\">\n",
    "In de notebook 'MNIST' kan je testen of het model jouw handgeschreven cijfers kan lezen. Deze notebook kan helpen om je data voor te bereiden.\n",
    "</div>"
   ]
  },
  {
   "cell_type": "markdown",
   "metadata": {},
   "source": [
    "<img src=\"../.images/cclic.png\" alt=\"Banner\" align=\"left\" style=\"width:100px;\"/><br><br>\n",
    "Notebook KIKS, zie <a href=\"http://www.aiopschool.be\">AI op School</a>, van F. wyffels & N. Gesquière is in licentie gegeven volgens een <a href=\"http://creativecommons.org/licenses/by-nc-sa/4.0/\">Creative Commons Naamsvermelding-NietCommercieel-GelijkDelen 4.0 Internationaal-licentie</a>. "
   ]
  }
 ],
 "metadata": {
  "kernelspec": {
   "display_name": "Python 3",
   "language": "python",
   "name": "python3"
  },
  "language_info": {
   "codemirror_mode": {
    "name": "ipython",
    "version": 3
   },
   "file_extension": ".py",
   "mimetype": "text/x-python",
   "name": "python",
   "nbconvert_exporter": "python",
   "pygments_lexer": "ipython3",
   "version": "3.6.4"
  }
 },
 "nbformat": 4,
 "nbformat_minor": 2
}
