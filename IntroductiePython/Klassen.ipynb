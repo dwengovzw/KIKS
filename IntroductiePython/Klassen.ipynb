{
 "cells": [
  {
   "cell_type": "markdown",
   "metadata": {},
   "source": [
    "<img src=\"../.images/logosnb.png\" alt=\"Banner\" style=\"width: 800px;\"/>"
   ]
  },
  {
   "cell_type": "markdown",
   "metadata": {},
   "source": [
    "<div style='color: #690027;' markdown=\"1\">\n",
    "    <h1>KLASSEN</h1> \n",
    "</div>"
   ]
  },
  {
   "cell_type": "markdown",
   "metadata": {},
   "source": [
    "<div class=\"alert alert-box alert-success\">\n",
    "Python is een object-georiënteerde taal. In Python is alles een object: elk getal, elk stuk tekst... Gerelateerde objecten en methodes (specifieke functies voor deze objecten) groepeert men in klassen.<br>\n",
    "In deze notebook leer je zelf een klasse opstellen.\n",
    "</div>"
   ]
  },
  {
   "cell_type": "markdown",
   "metadata": {},
   "source": [
    "<div class=\"alert alert-box alert-info\">\n",
    "Een klasse declareren doe je met het sleutelwoord <b>class</b>. <br>\n",
    "In een klasse worden een aantal <b>attributen</b> vastgelegd die de objecten van de klasse <b>kenmerken</b>.\n",
    "Via specifieke functies, <b>methodes</b>, kan men bv. attributen opvragen of wijzigen. <br>\n",
    "</div>"
   ]
  },
  {
   "cell_type": "markdown",
   "metadata": {},
   "source": [
    "<div style='color: #690027;' markdown=\"1\">\n",
    "    <h2>1. Klasse aanmaken</h2> \n",
    "</div>"
   ]
  },
  {
   "cell_type": "markdown",
   "metadata": {},
   "source": [
    "### Voorbeeld"
   ]
  },
  {
   "cell_type": "markdown",
   "metadata": {},
   "source": [
    "Bloemplanten (of *bedektzadigen*) worden opgedeeld in monocotylen (*eenzaadlobbigen*) en dicotylen (*tweezaadlobbigen*). <br>Bij monocotylen liggen de huidmondjes op parallelle lijnen, bij dicotylen zijn ze willekeurig verspreid. "
   ]
  },
  {
   "cell_type": "markdown",
   "metadata": {},
   "source": [
    "<table><tr>\n",
    "<td> <img src=\"../.images/IntroductiePython/dicot.jpg\" alt=\"Banner\" style=\"width: 134px;\"/> </td>\n",
    "<td> <img src=\"../.images/IntroductiePython/monocot.jpg\" alt=\"Banner\" style=\"width: 120px;\"/> </td>\n",
    "</tr></table>\n",
    "\n",
    "Aangepaste figuren. Bron: Stomatal development: focusing on the grasses, Christopher Hepworth, Robert S. Caine, Emily L. Harrison, Jennifer Sloan, Julie E. Gray, Current opinion in plant biology, 2018, Vol. 4, https://doi.org/10.1016/j.pbi.2017.07.009, 1369-5266/© 2017 The Authors. Gepubliceerd door Elsevier Ltd. onder CC BY-NC-ND licentie. "
   ]
  },
  {
   "cell_type": "markdown",
   "metadata": {},
   "source": [
    "Onderstaand script definieert de *klasse* `Bloem`. In deze klasse van bloemplanten kan men verschillende *objecten* initialiseren, zoals een tulp en een appelboom.<br>\n",
    "Binnen deze klasse kan men gebruik maken van twee functies: een om een object te initialiseren, `_init_()`, en een om de kenmerken van een bepaald object weer te geven, `kenmerken()`. Elk object van de klasse heeft *drie attributen*: plantnaam, plantsoort en plantgroep. "
   ]
  },
  {
   "cell_type": "markdown",
   "metadata": {},
   "source": [
    "Naar een bepaald object uit deze klasse wordt verwezen met `self`. Dit object heeft dan een naam en behoort tot een bepaalde soort: bloem, boom, gewas of struik. <br>Sommige bloemplanten zijn dicotyl en andere niet (die zijn monocotyl), dat wordt weergegeven door respectievelijk 1 of 0."
   ]
  },
  {
   "cell_type": "code",
   "execution_count": null,
   "metadata": {},
   "outputs": [],
   "source": [
    "class Bloem:\n",
    "    \"\"\"Klasse Bloemplanten.\"\"\" \n",
    "    \n",
    "    def __init__(self, plantnaam, plantsoort, plantgroep):\n",
    "        \"\"\"Initialisatie, Bloem-object self heeft drie parameters: naam en type van de bloemplant, al dan niet dicotyl (0 of 1).\"\"\"\n",
    "        self.naam = plantnaam\n",
    "        self.soort = plantsoort\n",
    "        self.dicot = plantgroep\n",
    "        \n",
    "    def kenmerken(self):\n",
    "        \"\"\"Geeft attrubuten weer.\"\"\"\n",
    "        print(\"De bloemplant is: een\", self.naam)\n",
    "        print(\"Het soort plant is: een\", self.soort)\n",
    "        print(\"Is het een monocotyl of dicotyl?\")\n",
    "        if self.dicot == 0: \n",
    "            print(\"Monocotyl\")\n",
    "        else:\n",
    "            print(\"Dicotyl\")"
   ]
  },
  {
   "cell_type": "markdown",
   "metadata": {},
   "source": [
    "<div style='color: #690027;' markdown=\"1\">\n",
    "    <h2>2. Objecten van de klasse construeren</h2> \n",
    "</div>"
   ]
  },
  {
   "cell_type": "markdown",
   "metadata": {},
   "source": [
    "Als je de code-cel hierboven hebt uitgevoerd, dan is de klasse `Bloem` aangemaakt. De klasse bevat echter nog geen enkel object. Deze objecten moet je nog construeren. "
   ]
  },
  {
   "cell_type": "markdown",
   "metadata": {},
   "source": [
    "### Voorbeeld\n",
    "Om een object van de klasse `Bloem` aan te maken gebruik je de functie `Bloem()`.<br>In het volgend script wordt een tulp aangemaakt. Voer uit.   "
   ]
  },
  {
   "cell_type": "code",
   "execution_count": null,
   "metadata": {},
   "outputs": [],
   "source": [
    "bloem1 = Bloem(\"tulp\", \"bloem\", 0)"
   ]
  },
  {
   "cell_type": "markdown",
   "metadata": {},
   "source": [
    "Vraag de attributen op."
   ]
  },
  {
   "cell_type": "code",
   "execution_count": null,
   "metadata": {},
   "outputs": [],
   "source": [
    "bloem1.kenmerken()"
   ]
  },
  {
   "cell_type": "markdown",
   "metadata": {},
   "source": [
    "<div style='color: #690027;' markdown=\"1\">\n",
    "    <h2>3. Oefeningen</h2> \n",
    "</div>"
   ]
  },
  {
   "cell_type": "markdown",
   "metadata": {},
   "source": [
    "### Oefening 3.1\n",
    "Maak nog twee andere objecten aan van de klasse `Bloem`: een appelboom (dicotyl) en maïs (monocotyl). Laat van beide de kenmerken weergeven."
   ]
  },
  {
   "cell_type": "code",
   "execution_count": null,
   "metadata": {},
   "outputs": [],
   "source": []
  },
  {
   "cell_type": "markdown",
   "metadata": {},
   "source": [
    "### Oefening 3.2\n",
    "Klimatologen houden nauwlettend de gletsjers in het oog. Bijna overal ter wereld verliezen gletsjers hun massa.\n",
    "Op www.klimaat.be lees je: \"Gletsjers op bergen zijn bijzonder gevoelig voor temperatuurwijzigingen omdat hun oppervlaktetemperatuur dicht tegen het vries- en smeltpunt ligt. Daarom zijn veranderingen in de tijd van hun dikte, hun oppervlakte, hun lengte, … de duidelijkste signalen die de natuur ons over klimaatwijzigingen kan bieden. Gletsjers hebben voor wetenschappers dan ook een belangrijke “signaalfunctie”: ze leveren de eerste tekenen van algemene opwarming. Gletsjers zijn vooral aan het verdwijnen in het Canadese noordpoolgebied en de Rocky Mountains, de Andes, in Patagonië, in de Europese Alpen, de Tiensjan en de tropische gebergten van Zuid-Amerika, maar ook in Afrika en Azië.\"<br>\n",
    "*Bron: https://www.klimaat.be/nl-be/klimaatverandering/oorzaken/ijskappen-en-gletsjers, geraadpleegd op 14 april 2019.*\n",
    "\n",
    "Schrijf code voor een andere klasse `Gletsjer`. De objecten van deze klasse hebben twee attributen: naam van de gletsjer, land waar de gletsjer zich bevindt. Maak erna twee objecten aan uit deze klasse en laat de kenmerken als volgt afdrukken: `De gletsjer ... ligt in ...!` "
   ]
  },
  {
   "cell_type": "code",
   "execution_count": null,
   "metadata": {},
   "outputs": [],
   "source": []
  },
  {
   "cell_type": "markdown",
   "metadata": {},
   "source": [
    "<div class=\"alert alert-box alert-info\">\n",
    "Objecten van eenzelfde klasse hebben eenzelfde reeks attributen en functionaliteiten die ermee gepaard gaan.\n",
    "</div>"
   ]
  }
 ],
 "metadata": {
  "kernelspec": {
   "display_name": "Python 3",
   "language": "python",
   "name": "python3"
  },
  "language_info": {
   "codemirror_mode": {
    "name": "ipython",
    "version": 3
   },
   "file_extension": ".py",
   "mimetype": "text/x-python",
   "name": "python",
   "nbconvert_exporter": "python",
   "pygments_lexer": "ipython3",
   "version": "3.6.4"
  }
 },
 "nbformat": 4,
 "nbformat_minor": 2
}
