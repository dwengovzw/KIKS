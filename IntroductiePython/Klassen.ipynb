{
 "cells": [
  {
   "cell_type": "markdown",
   "metadata": {},
   "source": [
    "<img style=\"float: left;\" src=\"./figs/banner.png\" alt=\"Drawing\" width=\"500\"/> "
   ]
  },
  {
   "cell_type": "markdown",
   "metadata": {},
   "source": [
    "<div style='color: #0f673f;' markdown=\"1\">\n",
    "    <h1><strong>KIKS</strong></h1> \n",
    "</div>"
   ]
  },
  {
   "cell_type": "markdown",
   "metadata": {},
   "source": [
    "<img style=\"float: left;\" src=\"./figs/drie.jpg\" alt=\"Drawing\" width=\"400\"/> "
   ]
  },
  {
   "cell_type": "markdown",
   "metadata": {},
   "source": [
    "<div style='color: #690027;' markdown=\"1\">\n",
    "    <h1>KLASSEN</h1> \n",
    "</div>"
   ]
  },
  {
   "cell_type": "markdown",
   "metadata": {},
   "source": [
    "<div style='color: #690027;' markdown=\"1\">\n",
    "    <h2>Voorbeeld</h2> \n",
    "</div>"
   ]
  },
  {
   "cell_type": "markdown",
   "metadata": {},
   "source": [
    "Van de klasse bloemen kan men verschillende objecten initialiseren, bv. een witte tulp, een gele roos, een rode perkbegonia. Onderstaand script definieert de klasse `Bloem`. <br>\n",
    "Binnen deze klasse kan men gebruik maken van twee functies: een om een object te initialiseren en een om de kenmerken van een bepaald object af te drukken."
   ]
  },
  {
   "cell_type": "markdown",
   "metadata": {},
   "source": [
    "Naar een bepaald object uit deze klasse wordt verwezen met `self`. Dit object heeft dan een naam en een bepaalde kleur. <br>Sommige bloemen gedijen goed in de schaduw en andere niet, wat wordt weergegeven door respectievelijk 1 of 0."
   ]
  },
  {
   "cell_type": "code",
   "execution_count": null,
   "metadata": {},
   "outputs": [],
   "source": [
    "class Bloem:\n",
    "    \"\"\"Klasse Bloemen.\"\"\" \n",
    "    \n",
    "    def __init__(self, plantnaam, plantkleur, status):\n",
    "        \"\"\"Initialisatie, self heeft drie parameters: naam en kleur van de bloem, al dan niet in de schaduw (0 of 1).\"\"\"\n",
    "        self.naam = plantnaam\n",
    "        self.kleur = plantkleur\n",
    "        self.schaduwplant = status\n",
    "        \n",
    "    def kenmerken(self):\n",
    "        \"\"\"Drukt de kenmerken af.\"\"\"\n",
    "        print(\"De bloem is: een\", self.naam)\n",
    "        print(\"De kleur van de bloem is:\", self.kleur)\n",
    "        print(\"Is het een schaduwplant?\")\n",
    "        if self.schaduwplant == 0: \n",
    "            print(\"Neen\")\n",
    "        else:\n",
    "            print(\"Ja\")"
   ]
  },
  {
   "cell_type": "markdown",
   "metadata": {},
   "source": [
    "We maken een object van de klasse `Bloem` aan, namelijk een witte tulp. "
   ]
  },
  {
   "cell_type": "code",
   "execution_count": null,
   "metadata": {},
   "outputs": [],
   "source": [
    "bloem1 = Bloem(\"tulp\", \"wit\", 0)"
   ]
  },
  {
   "cell_type": "markdown",
   "metadata": {},
   "source": [
    "We laten de kenmerken afdrukken."
   ]
  },
  {
   "cell_type": "code",
   "execution_count": null,
   "metadata": {},
   "outputs": [],
   "source": [
    "bloem1.kenmerken()"
   ]
  },
  {
   "cell_type": "markdown",
   "metadata": {},
   "source": [
    "<div style='color: #690027;' markdown=\"1\">\n",
    "    <h2>Oefening 1</h2> \n",
    "</div>"
   ]
  },
  {
   "cell_type": "markdown",
   "metadata": {},
   "source": [
    " Maak nog twee andere objecten aan van de klasse `Bloem`. Laat van beide de kenmerken afdrukken."
   ]
  },
  {
   "cell_type": "markdown",
   "metadata": {},
   "source": [
    "<div style='color: #690027;' markdown=\"1\">\n",
    "    <h2>Oefening 2</h2> \n",
    "</div>"
   ]
  },
  {
   "cell_type": "markdown",
   "metadata": {},
   "source": [
    "Schrijf code voor een andere klasse `Gletsjer`. De objecten van deze klasse hebben de volgende kenmerken: naam van de gletsjer, land waar de gletsjer zich bevindt. Maak erna twee objecten aan uit deze klasse en laat de kenmerken als volgt afdrukken: `De gletsjer ... ligt in: ... ` "
   ]
  }
 ],
 "metadata": {
  "kernelspec": {
   "display_name": "Python 3",
   "language": "python",
   "name": "python3"
  },
  "language_info": {
   "codemirror_mode": {
    "name": "ipython",
    "version": 3
   },
   "file_extension": ".py",
   "mimetype": "text/x-python",
   "name": "python",
   "nbconvert_exporter": "python",
   "pygments_lexer": "ipython3",
   "version": "3.6.4"
  }
 },
 "nbformat": 4,
 "nbformat_minor": 2
}
