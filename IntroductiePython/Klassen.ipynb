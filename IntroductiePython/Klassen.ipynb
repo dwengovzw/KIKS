{
 "cells": [
  {
   "cell_type": "markdown",
   "metadata": {},
   "source": [
    "<img src=\"../.images/logosnb.png\" alt=\"Banner\" style=\"width: 1100px;\"/>"
   ]
  },
  {
   "cell_type": "markdown",
   "metadata": {},
   "source": [
    "<div style='color: #690027;' markdown=\"1\">\n",
    "    <h1>KLASSEN</h1> \n",
    "</div>"
   ]
  },
  {
   "cell_type": "markdown",
   "metadata": {},
   "source": [
    "<div class=\"alert alert-box alert-success\">\n",
    "Python is een object-georiënteerde taal. In Python is alles een object: elk getal, elk stuk tekst... Gerelateerde objecten en methodes (specifieke functies voor deze objecten) groepeert men in klassen.<br>\n",
    "In deze notebook leer je zelf een klasse opstellen.\n",
    "</div>"
   ]
  },
  {
   "cell_type": "markdown",
   "metadata": {},
   "source": [
    "<div class=\"alert alert-box alert-info\">\n",
    "Een klasse declareren doe je met het sleutelwoord <b>class</b>. <br>\n",
    "In een klasse worden een aantal <b>attributen</b> vastgelegd die de objecten van de klasse <b>kenmerken</b>.\n",
    "Via specifieke functies, <b>methodes</b>, kan men bv. attributen opvragen of wijzigen. <br>\n",
    "</div>"
   ]
  },
  {
   "cell_type": "markdown",
   "metadata": {},
   "source": [
    "<div style='color: #690027;' markdown=\"1\">\n",
    "    <h2>1. Klasse aanmaken</h2> \n",
    "</div>"
   ]
  },
  {
   "cell_type": "markdown",
   "metadata": {},
   "source": [
    "### Voorbeeld"
   ]
  },
  {
   "cell_type": "markdown",
   "metadata": {},
   "source": [
    "Bloemplanten (of *bedektzadigen*) worden opgedeeld in monocotylen (*eenzaadlobbigen*) en dicotylen (*tweezaadlobbigen*). <br>Bij monocotylen liggen de huidmondjes op parallelle lijnen, bij dicotylen zijn ze willekeurig verspreid. "
   ]
  },
  {
   "cell_type": "markdown",
   "metadata": {},
   "source": [
    "<table><tr>\n",
    "<td> <img src=\"../.images/IntroductiePython/dicot.jpg\" alt=\"Banner\" style=\"width: 134px;\"/> </td>\n",
    "<td> <img src=\"../.images/IntroductiePython/monocot.jpg\" alt=\"Banner\" style=\"width: 134px;\"/> </td>\n",
    "</tr></table>\n",
    "\n",
    "<center>Figuur 1: Monocotylen en dicotylen. Aangepaste figuur uit [1].</center>"
   ]
  },
  {
   "cell_type": "markdown",
   "metadata": {},
   "source": [
    "Onderstaand script definieert de *klasse* `Bloem`. In deze klasse van bloemplanten kan men verschillende *objecten* initialiseren, zoals een tulp en een appelboom. Elk object van de klasse heeft *drie attributen*: plantnaam, plantsoort en plantgroep. "
   ]
  },
  {
   "cell_type": "code",
   "execution_count": null,
   "metadata": {},
   "outputs": [],
   "source": [
    "class Bloem:\n",
    "    \"\"\"Klasse Bloemplanten.\"\"\" \n",
    "    \n",
    "    def __init__(self, plantnaam, plantsoort, plantgroep):\n",
    "        \"\"\"Initialisatie, Bloem-object self heeft drie parameters: naam en type van de bloemplant, al dan niet dicotyl (0 of 1).\"\"\"\n",
    "        self.naam = plantnaam\n",
    "        self.soort = plantsoort\n",
    "        self.dicot = plantgroep\n",
    "        \n",
    "    def kenmerken(self):\n",
    "        \"\"\"Geeft attributen weer.\"\"\"\n",
    "        print(\"De bloemplant is: een\", self.naam)\n",
    "        print(\"Het soort plant is: een\", self.soort)\n",
    "        print(\"Is het een monocotyl of dicotyl?\")\n",
    "        if self.dicot == 0: \n",
    "            print(\"Monocotyl\")\n",
    "        else:\n",
    "            print(\"Dicotyl\")"
   ]
  },
  {
   "cell_type": "markdown",
   "metadata": {},
   "source": [
    "Binnen deze klasse kan men gebruikmaken van een functie om een object te initialiseren, `__init__()`, en een methode om de kenmerken (*attributen*) van een bepaald object weer te geven, `kenmerken()`. "
   ]
  },
  {
   "cell_type": "markdown",
   "metadata": {},
   "source": [
    "Naar een bepaald object uit deze klasse wordt verwezen met `self`. Dit object heeft dan een naam en behoort tot een bepaalde soort: bloem, boom, gewas of struik. <br>Sommige bloemplanten zijn dicotyl en andere niet (die zijn monocotyl), dat wordt weergegeven door respectievelijk 1 of 0."
   ]
  },
  {
   "cell_type": "markdown",
   "metadata": {},
   "source": [
    "<div style='color: #690027;' markdown=\"1\">\n",
    "    <h2>2. Objecten van de klasse construeren</h2> \n",
    "</div>"
   ]
  },
  {
   "cell_type": "markdown",
   "metadata": {},
   "source": [
    "Als je de code-cel hierboven hebt uitgevoerd, dan is de klasse `Bloem` aangemaakt. De klasse bevat echter nog geen enkel object. Deze objecten moet je nog construeren. <br>\n",
    "Je doet dat bv. door de instructie `Bloem(\"bruidsbloem\", \"struik\", 1)` uit te voeren. Via `__init__()` wordt dan een object `self` aangemaakt met de gegeven kenmerken. <br> "
   ]
  },
  {
   "cell_type": "markdown",
   "metadata": {},
   "source": [
    "### Voorbeeld\n",
    "Om een object van de klasse `Bloem` aan te maken gebruik je de *constructor* `Bloem()`.<br>In het volgend script wordt een object `self` aangemaakt, de variabele `bloem1` refereert aan dit nieuwe object.  Voer uit.   "
   ]
  },
  {
   "cell_type": "code",
   "execution_count": null,
   "metadata": {},
   "outputs": [],
   "source": [
    "bloem1 = Bloem(\"tulp\", \"bloem\", 1)"
   ]
  },
  {
   "cell_type": "markdown",
   "metadata": {},
   "source": [
    "Vraag de attributen op."
   ]
  },
  {
   "cell_type": "code",
   "execution_count": null,
   "metadata": {},
   "outputs": [],
   "source": [
    "bloem1.kenmerken()"
   ]
  },
  {
   "cell_type": "markdown",
   "metadata": {},
   "source": [
    "<div style='color: #690027;' markdown=\"1\">\n",
    "    <h2>3. Oefeningen</h2> \n",
    "</div>"
   ]
  },
  {
   "cell_type": "markdown",
   "metadata": {},
   "source": [
    "### Oefening 3.1\n",
    "Maak nog twee andere objecten aan van de klasse `Bloem`: een appelboom (dicotyl) en maïs (monocotyl). Laat van beide de kenmerken weergeven."
   ]
  },
  {
   "cell_type": "code",
   "execution_count": null,
   "metadata": {},
   "outputs": [],
   "source": []
  },
  {
   "cell_type": "markdown",
   "metadata": {},
   "source": [
    "### Oefening 3.2\n",
    "Klimatologen houden nauwlettend de gebergtegletsjers in het oog. Bijna overal ter wereld verliezen gebergtegletsjers hun massa.\n",
    "Op www.klimaat.be [2] lees je: \"Gletsjers op bergen zijn bijzonder gevoelig voor temperatuurwijzigingen omdat hun oppervlaktetemperatuur dicht tegen het vries- en smeltpunt ligt. Daarom zijn veranderingen in de tijd van hun dikte, hun oppervlakte, hun lengte, … de duidelijkste signalen die de natuur ons over klimaatwijzigingen kan bieden. Gletsjers hebben voor wetenschappers dan ook een belangrijke “signaalfunctie”: ze leveren de eerste tekenen van algemene opwarming.\"<br>\n",
    "\n",
    "Schrijf code voor een andere klasse `Gletsjer`. De objecten van deze klasse hebben twee attributen: naam van de gletsjer, land waar de gletsjer zich bevindt. Maak erna twee objecten aan uit deze klasse en laat de kenmerken als volgt afdrukken: `De gletsjer ... ligt in ...!` "
   ]
  },
  {
   "cell_type": "code",
   "execution_count": null,
   "metadata": {},
   "outputs": [],
   "source": []
  },
  {
   "cell_type": "markdown",
   "metadata": {},
   "source": [
    "<div class=\"alert alert-box alert-info\">\n",
    "Objecten van eenzelfde klasse hebben eenzelfde reeks attributen en methodes.\n",
    "</div>"
   ]
  },
  {
   "cell_type": "markdown",
   "metadata": {},
   "source": [
    "<div> \n",
    "    <h2>Referentielijst</h2> \n",
    "</div>"
   ]
  },
  {
   "cell_type": "markdown",
   "metadata": {},
   "source": [
    "[1] Hepworth, C., Caine, R. S., Harrisson, L., Sloan, J., & Gray, J. E. (2018). Stomatal development: focussing on grasses. <br> &nbsp; &nbsp; &nbsp; &nbsp; Current opinion in *Plant Biology*, Vol. 41, 1-7. Gepubliceerd onder CC BY-NC-ND licentie. https://doi.org/10.1016/j.pbi.2017.07.009 <br>\n",
    "[2] IJskappen en gletsjers. *Klimaat.be*. Geraadpleegd op 14 april 2019 via <br>&nbsp;  &nbsp; &nbsp;  &nbsp; https://www.klimaat.be/nl-be/klimaatverandering/oorzaken/ijskappen-en-gletsjers"
   ]
  },
  {
   "cell_type": "markdown",
   "metadata": {},
   "source": [
    "<img src=\"../.images/cclic.png\" alt=\"Banner\" align=\"left\" style=\"width:100px;\"/><br><br>\n",
    "Notebook KIKS, zie <a href=\"http://www.aiopschool.be\">AI op School</a>, van F. wyffels & N. Gesquière is in licentie gegeven volgens een <a href=\"http://creativecommons.org/licenses/by-nc-sa/4.0/\">Creative Commons Naamsvermelding-NietCommercieel-GelijkDelen 4.0 Internationaal-licentie</a>. "
   ]
  }
 ],
 "metadata": {
  "kernelspec": {
   "display_name": "Python 3",
   "language": "python",
   "name": "python3"
  },
  "language_info": {
   "codemirror_mode": {
    "name": "ipython",
    "version": 3
   },
   "file_extension": ".py",
   "mimetype": "text/x-python",
   "name": "python",
   "nbconvert_exporter": "python",
   "pygments_lexer": "ipython3",
   "version": "3.6.4"
  }
 },
 "nbformat": 4,
 "nbformat_minor": 2
}
