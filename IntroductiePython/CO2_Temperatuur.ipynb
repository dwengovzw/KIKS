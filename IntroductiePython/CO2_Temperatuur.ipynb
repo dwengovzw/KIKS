{
 "cells": [
  {
   "cell_type": "markdown",
   "metadata": {},
   "source": [
    "<img src=\"../.images/logosnb2.png\" alt=\"Banner\" style=\"width:1100px;\"/>"
   ]
  },
  {
   "cell_type": "markdown",
   "metadata": {},
   "source": [
    "<div style='color: #690027;' markdown=\"1\">\n",
    "    <h1>CO<sub>2</sub> EN TEMPERATUUR</h1> \n",
    "</div>"
   ]
  },
  {
   "cell_type": "markdown",
   "metadata": {},
   "source": [
    "<div class=\"alert alert-box alert-success\">\n",
    "In deze notebook beperk je data tot een gewenste periode. Je leert hoe je twee krommen op eenzelfde grafiek kunt weergeven, waarbij de y-as een verschillend bereik en een verschillende ijk heeft.<br>\n",
    "Je bekijkt op een grafiek hoe het verloop van de gemiddelde globale temperatuuranomalie en de verandering van atmosferische CO<sub>2</sub>-concentratie zijn in de periode 1880-1996. \n",
    "</div>"
   ]
  },
  {
   "cell_type": "markdown",
   "metadata": {},
   "source": [
    "Dr. Pieter Tans is hoofd van de  'Carbon Cycle Greenhouse Gases Group' van het onderzoekscentrum 'National Oceanic & Atmospheric Administration (NOAA)' in Colorada. Zijn onderzoeksgroep doet op Mauna Loa op Hawaï metingen van de concentratie CO$_{2}$ in de atmosfeer. De data zijn te vinden op de website van NOAA [1]."
   ]
  },
  {
   "cell_type": "markdown",
   "metadata": {},
   "source": [
    "Pieter Tans [2]: \"David Keeling van het 'Scripps Institute of Oceanography' in San Diego begon in 1958 de eerste precisiemetingen van CO2 op de vulkaan Mauna Loa in een hutje van de 'U.S. Weather Bureau', dat nu overgegaan is in NOAA. De CO$_{2}$-metingen van NOAA begonnen in 1973. Sindsdien zijn er twee onafhankelijke meetprogramma's: door Scripps en door NOAA.<br>\n",
    "De CO$_{2}$-concentraties van de periode voor de metingen op Mauna Loa begonnen, kan men bepalen uit natuurlijke luchtmonsters,  luchtbellen opgesloten in diep ijs. CO$_{2}$ van de laatste 2000 jaar, dat opgesloten zat in diep ijs, werd ontgonnen op Antarctica.\" "
   ]
  },
  {
   "cell_type": "markdown",
   "metadata": {},
   "source": [
    "Dr. Pieter Tans verschafte ons data van zijn onderzoek met de Law Dome **ijskernen** [2]. <br>\n",
    "In deze notebook ga je met de data uit de ijskernen aan de slag."
   ]
  },
  {
   "cell_type": "markdown",
   "metadata": {},
   "source": [
    "CO$_{2}$-concentratie wordt uitgedrukt in **ppm**: parts per million."
   ]
  },
  {
   "cell_type": "markdown",
   "metadata": {},
   "source": [
    "### De nodige modules importeren"
   ]
  },
  {
   "cell_type": "markdown",
   "metadata": {},
   "source": [
    "Om van **csv-bestanden** - csv staat voor **comma separated values** -  overzichtelijke tabellen te kunnen maken, maak je gebruik van de module pandas. <br>\n",
    "Om kolommen van deze tabel om te vormen naar een lijst en daarmee te kunnen rekenen, importeer je de module NumPy. <br>\n",
    "Grafische voorstellingen van de gegevens maken, doe je met de interface pyplot van de module Matplotlib. <br><br>\n",
    "Je importeert de nodige modules door de volgende code-cel uit te voeren."
   ]
  },
  {
   "cell_type": "code",
   "execution_count": null,
   "metadata": {},
   "outputs": [],
   "source": [
    "import pandas as pd\n",
    "import matplotlib.pyplot as plt\n",
    "import numpy as np"
   ]
  },
  {
   "cell_type": "markdown",
   "metadata": {},
   "source": [
    "### Je bekijkt de verandering in atmosferische koolstofdioxide en het verloop van de gemiddelde globale  temperatuur voor de periode van 1880 tot 1996."
   ]
  },
  {
   "cell_type": "markdown",
   "metadata": {},
   "source": [
    "<div style='color: #690027;' markdown=\"1\">\n",
    "    <h2>1. Verandering in atmosferische koolstofdioxide</h2> \n",
    "</div>"
   ]
  },
  {
   "cell_type": "markdown",
   "metadata": {},
   "source": [
    "<div style='color: #690027;' markdown=\"1\">\n",
    "    <h3>1.1 Data koolstofdioxide uit ijskernen inlezen</h2> \n",
    "</div>"
   ]
  },
  {
   "cell_type": "markdown",
   "metadata": {},
   "source": [
    "De data werd ons bezorgd als csv-bestand. Dat is een veel gebruikt bestandsformaat.\n",
    "Het ziet er als volgt uit:"
   ]
  },
  {
   "cell_type": "markdown",
   "metadata": {},
   "source": [
    "<img src=\"../.images/IntroductiePython/csvAntarctica.JPG\" alt=\"Banner\" style=\"width:250px;\"/>"
   ]
  },
  {
   "cell_type": "markdown",
   "metadata": {},
   "source": [
    "Lees het bestand in door de volgende code-cel uit te voeren:"
   ]
  },
  {
   "cell_type": "code",
   "execution_count": null,
   "metadata": {},
   "outputs": [],
   "source": [
    "antarctica = pd.read_csv(\"../.data/IntroductiePython/AntarcticaCO2.dat\")         # data Tans (NOAA)"
   ]
  },
  {
   "cell_type": "markdown",
   "metadata": {},
   "source": [
    "En vraag het resultaat op:"
   ]
  },
  {
   "cell_type": "code",
   "execution_count": null,
   "metadata": {},
   "outputs": [],
   "source": [
    "antarctica"
   ]
  },
  {
   "cell_type": "markdown",
   "metadata": {},
   "source": [
    "De tabel heeft 203 rijen en 2 kolommen. <br>\n",
    "De eerste kolom bevat het jaartal van de meting, de tweede kolom de CO$_{2}$-concentratie in ppm."
   ]
  },
  {
   "cell_type": "markdown",
   "metadata": {},
   "source": [
    "De data bekomen uit de ijskernen, geven de  CO$_{2}$-concentratie van het jaar 1 tot het jaar 1996."
   ]
  },
  {
   "cell_type": "markdown",
   "metadata": {},
   "source": [
    "Om deze data uit te zetten in een grafiek, kies je twee variabelen: x voor het jaartal en y voor de CO$_{2}$-concentratie. <br>\n",
    "Je maakt een lijst met de jaartallen en een lijst met de CO$_{2}$-concentraties. Met Pandas gaat dat vrij eenvoudig omdat je de hoofding van de tabel als **sleutel** (*key*) kunt gebruiken."
   ]
  },
  {
   "cell_type": "code",
   "execution_count": null,
   "metadata": {},
   "outputs": [],
   "source": [
    "x = antarctica[\"jaartal\"]                # hoofding van kolom is sleutel, die speelt rol van index, jaartal komt op x-as\n",
    "y = antarctica[\"molfractie CO2 (ppm)\"]   # concentratie CO2 komt op y-as"
   ]
  },
  {
   "cell_type": "code",
   "execution_count": null,
   "metadata": {},
   "outputs": [],
   "source": [
    "# data omzetten naar NumPy array\n",
    "x = np.array(x)\n",
    "y = np.array(y)"
   ]
  },
  {
   "cell_type": "code",
   "execution_count": null,
   "metadata": {},
   "outputs": [],
   "source": [
    "print(x)\n",
    "print(y)"
   ]
  },
  {
   "cell_type": "markdown",
   "metadata": {},
   "source": [
    "<div style='color: #690027;' markdown=\"1\">\n",
    "    <h3>1.2 Data atmosferische CO$_{2}$-concentratie voor periode 1882-1996</h3> \n",
    "</div>"
   ]
  },
  {
   "cell_type": "markdown",
   "metadata": {},
   "source": [
    "Je hebt dus de CO$_{2}$-concentratie nodig voor de periode 1880-1996.<br> Je moet daarvoor zowel de NumPy array met de jaartallen, als de NumPy array met de CO$_{2}$-concentraties beperken tot die periode."
   ]
  },
  {
   "cell_type": "markdown",
   "metadata": {},
   "source": [
    "Je zoekt eerst uit het hoeveelste element in de arrays overeenkomt met het jaartal 1880."
   ]
  },
  {
   "cell_type": "code",
   "execution_count": null,
   "metadata": {},
   "outputs": [],
   "source": [
    "np.where(x == 1880)"
   ]
  },
  {
   "cell_type": "markdown",
   "metadata": {},
   "source": [
    "Oei, geen resultaat. Ga eens naar de uitgeprinte rij kijken. Je ziet dan dat 1880 zelf er niet in staat, maar wel 1.8770e+03 1.8820e+03. <br>\n",
    "Probeer eens met een jaartal in de buurt van 1880."
   ]
  },
  {
   "cell_type": "code",
   "execution_count": null,
   "metadata": {},
   "outputs": [],
   "source": [
    "np.where(x == 1882)"
   ]
  },
  {
   "cell_type": "markdown",
   "metadata": {},
   "source": [
    "Nog eens controleren:"
   ]
  },
  {
   "cell_type": "code",
   "execution_count": null,
   "metadata": {
    "scrolled": true
   },
   "outputs": [],
   "source": [
    "print(x[107])"
   ]
  },
  {
   "cell_type": "code",
   "execution_count": null,
   "metadata": {},
   "outputs": [],
   "source": [
    "# data beperken tot de gevraagde periode\n",
    "x_CO2 = x[107:]\n",
    "y_CO2 = y[107:]"
   ]
  },
  {
   "cell_type": "code",
   "execution_count": null,
   "metadata": {},
   "outputs": [],
   "source": [
    "print(x_CO2, y_CO2)"
   ]
  },
  {
   "cell_type": "markdown",
   "metadata": {},
   "source": [
    "<div style='color: #690027;' markdown=\"1\">\n",
    "    <h3>1.3 Data koolstofdioxide weergeven op een grafiek</h2> \n",
    "</div>"
   ]
  },
  {
   "cell_type": "markdown",
   "metadata": {},
   "source": [
    "Het is altijd goed om data te visualiseren. Dat maakt de data wat meer concreet."
   ]
  },
  {
   "cell_type": "markdown",
   "metadata": {},
   "source": [
    "Het bereik nodig op de x-as is eenvoudig te zien. Om het bereik op de y-as te bepalen, is het interessant om te weten wat de kleinste en wat de grootste y-waarde is. <br>\n",
    "Je gebruikt daarvoor de methodes `min()` en `max()`."
   ]
  },
  {
   "cell_type": "code",
   "execution_count": null,
   "metadata": {},
   "outputs": [],
   "source": [
    "y_CO2_min = np.min(y_CO2)\n",
    "y_CO2_max = np.max(y_CO2)\n",
    "print(y_CO2_min, y_CO2_max)"
   ]
  },
  {
   "cell_type": "markdown",
   "metadata": {},
   "source": [
    "Het is altijd het beste om geen misleidende grafieken te maken en dus zeker 0 ook te tonen op de y-as. Eventuele stijgingen en dalingen worden anders sterk uitvergroot."
   ]
  },
  {
   "cell_type": "code",
   "execution_count": null,
   "metadata": {},
   "outputs": [],
   "source": [
    "# grafiek\n",
    "\n",
    "plt.figure()                                    # grafiekscherm\n",
    "plt.xlim(1850, 2010)                            # bereik op x-as\n",
    "plt.ylim(280, 370)                              # bereik op y-as\n",
    "\n",
    "plt.plot(x_CO2, y_CO2, color=\"blue\")   # puntenwolk, kleur en vorm van punten vastleggen\n",
    "\n",
    "plt.title(\"CO2 uit ijskernen voor 1882-1996\")    # titel geven aan grafiek\n",
    "plt.xlabel(\"jaartal\")                            # omschrijving geven bij x-as\n",
    "plt.ylabel(\"CO2 (in ppm)\")                       # omschrijving geven bij y-as\n",
    "\n",
    "plt.show()                                       # grafiek tonen"
   ]
  },
  {
   "cell_type": "markdown",
   "metadata": {},
   "source": [
    "<div style='color: #690027;' markdown=\"1\">\n",
    "    <h2>2. Verloop temperatuur</h2> \n",
    "</div>"
   ]
  },
  {
   "cell_type": "markdown",
   "metadata": {},
   "source": [
    "<div style='color: #690027;' markdown=\"1\">\n",
    "    <h3>2.1 Data temperatuur</h3> \n",
    "</div>"
   ]
  },
  {
   "cell_type": "markdown",
   "metadata": {},
   "source": [
    "Je hebt ook data van de gemiddelde globale temperatuur nodig voor de periode 1880-1996."
   ]
  },
  {
   "cell_type": "markdown",
   "metadata": {},
   "source": [
    "De data die je zal gebruiken, zijn beschikbaar op de website van NASA/GISS [3]. Het zijn echter niet de gemeten temperaturen die de data vormen. De data bevatten de mate waarin de gemeten temperatuur, in °C, afwijkt t.o.v. een bepaalde referentieperiode. Men spreekt van een **temperatuuranomalie**. Voor de data van NASA/GISS is de referentieperiode 1951-1980."
   ]
  },
  {
   "cell_type": "code",
   "execution_count": null,
   "metadata": {},
   "outputs": [],
   "source": [
    "globaletemp = pd.read_csv(\"../.data/IntroductiePython/globaleTemperatuur.dat\")           # data NASA"
   ]
  },
  {
   "cell_type": "code",
   "execution_count": null,
   "metadata": {},
   "outputs": [],
   "source": [
    "print(globaletemp)"
   ]
  },
  {
   "cell_type": "markdown",
   "metadata": {},
   "source": [
    "Merk op dat deze metingen lopen tot in 2018, en je hebt ze maar tot 1996 nodig."
   ]
  },
  {
   "cell_type": "markdown",
   "metadata": {},
   "source": [
    "<div style='color: #690027;' markdown=\"1\">\n",
    "    <h3>2.2 Data globale temperatuuranomalie voor periode 1880-1996</h3> \n",
    "</div>"
   ]
  },
  {
   "cell_type": "code",
   "execution_count": null,
   "metadata": {},
   "outputs": [],
   "source": [
    "x_globaletemp = globaletemp[\"jaar\"]\n",
    "y_globaletemp = globaletemp[\"temperatuur\"]"
   ]
  },
  {
   "cell_type": "code",
   "execution_count": null,
   "metadata": {},
   "outputs": [],
   "source": [
    "x_globaletemp = np.array(x_globaletemp)\n",
    "y_globaletemp = np.array(y_globaletemp)"
   ]
  },
  {
   "cell_type": "code",
   "execution_count": null,
   "metadata": {},
   "outputs": [],
   "source": [
    "np.where(x_globaletemp == 1996)"
   ]
  },
  {
   "cell_type": "code",
   "execution_count": null,
   "metadata": {},
   "outputs": [],
   "source": [
    "print(x_globaletemp[116])"
   ]
  },
  {
   "cell_type": "code",
   "execution_count": null,
   "metadata": {},
   "outputs": [],
   "source": [
    "# data beperken tot de gevraagde periode\n",
    "x_temp = x_globaletemp[:117]\n",
    "y_temp = y_globaletemp[:117]"
   ]
  },
  {
   "cell_type": "code",
   "execution_count": null,
   "metadata": {},
   "outputs": [],
   "source": [
    "print(x_temp, y_temp)"
   ]
  },
  {
   "cell_type": "markdown",
   "metadata": {},
   "source": [
    "<div style='color: #690027;' markdown=\"1\">\n",
    "    <h3>2.3 Data temperatuuranomalie voor 1880-1996 weergeven op een grafiek</h3> \n",
    "</div>"
   ]
  },
  {
   "cell_type": "code",
   "execution_count": null,
   "metadata": {},
   "outputs": [],
   "source": [
    "y_temp_min = np.min(y_temp)\n",
    "y_temp_max = np.max(y_temp)\n",
    "print(y_temp_min, y_temp_max)"
   ]
  },
  {
   "cell_type": "code",
   "execution_count": null,
   "metadata": {},
   "outputs": [],
   "source": [
    "# grafiek\n",
    "\n",
    "plt.figure()                                  # grafiekscherm\n",
    "plt.xlim(1850, 2010)                          # bereik op x-as\n",
    "plt.ylim(-0.6, 0.6)                               # bereik op y-as\n",
    "\n",
    "plt.plot(x_temp, y_temp, color=\"green\")   # puntenwolk, kleur en vorm van punten vastleggen\n",
    "\n",
    "plt.title(\"Temperatuuranomalie voor 1880-1996\")    # titel geven aan grafiek\n",
    "plt.xlabel(\"jaartal\")                              # omschrijving geven bij x-as\n",
    "plt.ylabel(\"temperatuuranomalie (°C)\")             # omschrijving geven bij y-as\n",
    "\n",
    "plt.show()                                         # grafiek tonen"
   ]
  },
  {
   "cell_type": "markdown",
   "metadata": {},
   "source": [
    "<div style='color: #690027;' markdown=\"1\">\n",
    "    <h2>3. Verloop temperatuuranomalie en verandering in atmosferische koolstofdioxide voor de periode 1880-1996 op één grafiek</h2> \n",
    "</div>"
   ]
  },
  {
   "cell_type": "code",
   "execution_count": null,
   "metadata": {},
   "outputs": [],
   "source": [
    "# grafiek met twee krommen met verschillende schaal op y-as \n",
    "\n",
    "# twee subgrafieken op eenzelfde figuur\n",
    "fig, ax1 = plt.subplots(figsize=(8, 6))      # grafiek met een eerste assenstelsel\n",
    "ax2 = ax1.twinx()                            # een tweede assenstelsel, met een gemeenschappelijke x-as met het eerste\n",
    "\n",
    "# bereik x-as\n",
    "plt.xlim(1850, 2010)\n",
    "ax1.set_xlabel(\"jaartal\")\n",
    "\n",
    "# bereik y-assen\n",
    "ax1.set_ylim(280, 370)\n",
    "ax2.set_ylim(-0.6, 0.6)\n",
    "ax1.set_ylabel(\"CO$_{2}$ (ppm)\", color=\"blue\")\n",
    "ax2.set_ylabel(\"temperatuur anomalie (°C)\\n(relatief t.o.v. 1951-1980)\", color=\"green\")\n",
    "\n",
    "\n",
    "ax1.plot(x_CO2, y_CO2, color=\"blue\")\n",
    "ax2.plot(x_temp, y_temp, color=\"green\")\n",
    "\n",
    "\n",
    "plt.title(\"Temperatuuranomalie en CO$_{2}$ (1882-1996)\")\n",
    "\n",
    "plt.show()"
   ]
  },
  {
   "cell_type": "markdown",
   "metadata": {},
   "source": [
    "<div>\n",
    "    <h2>Referentielijst</h2> \n",
    "</div>"
   ]
  },
  {
   "cell_type": "markdown",
   "metadata": {},
   "source": [
    "[1] Earth System Research Laboratory, Global Monitoring Division. ESRL/GMD FTP Data Finder.<br> &nbsp; &nbsp; &nbsp; &nbsp; Geraadpleegd op 18 augustus 2019 via https://www.esrl.noaa.gov/gmd/dv/data/?category=Greenhouse%2BGases. <br>\n",
    "[2] Tans, P. (2018). Via e-mail.<br>\n",
    "[3] GISS Surface Temperature Analysis. Geraadpleegd op 4 september 2019 via <br> &nbsp; &nbsp; &nbsp; &nbsp; https://data.giss.nasa.gov/gistemp/graphs_v4/customize.html"
   ]
  },
  {
   "cell_type": "markdown",
   "metadata": {},
   "source": [
    "<img src=\"../.images/cclic.png\" alt=\"Banner\" align=\"left\" style=\"width:80px;\"/><br><br>\n",
    "Notebook KIKS, zie <a href=\"http://www.aiopschool.be\">AI Op School</a>, van F. wyffels & N. Gesquière is in licentie gegeven volgens een <a href=\"http://creativecommons.org/licenses/by-nc-sa/4.0/\">Creative Commons Naamsvermelding-NietCommercieel-GelijkDelen 4.0 Internationaal-licentie</a>. "
   ]
  }
 ],
 "metadata": {
  "kernelspec": {
   "display_name": "Python 3",
   "language": "python",
   "name": "python3"
  },
  "language_info": {
   "codemirror_mode": {
    "name": "ipython",
    "version": 3
   },
   "file_extension": ".py",
   "mimetype": "text/x-python",
   "name": "python",
   "nbconvert_exporter": "python",
   "pygments_lexer": "ipython3",
   "version": "3.7.4"
  }
 },
 "nbformat": 4,
 "nbformat_minor": 2
}
