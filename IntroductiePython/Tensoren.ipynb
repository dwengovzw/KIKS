{
 "cells": [
  {
   "cell_type": "markdown",
   "metadata": {},
   "source": [
    "<img src=\"../.images/logosnb.png\" alt=\"Banner\" style=\"width:1100px;\"/>"
   ]
  },
  {
   "cell_type": "markdown",
   "metadata": {},
   "source": [
    "<div style='color: #690027;' markdown=\"1\">\n",
    "    <h1>TENSOREN</sub></h1> \n",
    "</div>"
   ]
  },
  {
   "cell_type": "markdown",
   "metadata": {},
   "source": [
    "<div class=\"alert alert-box alert-success\">\n",
    "In deze notebook voer je matrices en tensoren in in Python. Vervolgens doe je er bewerkingen mee.<br>\n",
    "Je gebruikt daarvoor de module NumPy.\n",
    "</div>"
   ]
  },
  {
   "cell_type": "markdown",
   "metadata": {},
   "source": [
    "Voer dus eerst de volgende instructie uit om de module 'NumPy' te kunnen gebruiken."
   ]
  },
  {
   "cell_type": "code",
   "execution_count": null,
   "metadata": {},
   "outputs": [],
   "source": [
    "import numpy as np"
   ]
  },
  {
   "cell_type": "markdown",
   "metadata": {},
   "source": [
    "<div class=\"alert alert-block alert-warning\"> \n",
    "In de notebook 'Extra datastructuren met NumPy' leerde je reeds hoe je een matrix invoert en hoe je bepaalde kenmerken zoals de dimensie opvraagt. Je leerde er ook wat rij- en kolommatrices zijn.\n",
    "</div>"
   ]
  },
  {
   "cell_type": "markdown",
   "metadata": {},
   "source": [
    "<div style='color: #690027;' markdown=\"1\">\n",
    "    <h2>1. Elementen, rijen en kolommen van matrices</h2> \n",
    "</div>"
   ]
  },
  {
   "cell_type": "markdown",
   "metadata": {},
   "source": [
    "Een matrix is een rechthoekig rooster van getallen. Een matrix heeft dus een aantal rijen en een aantal kolommen.<br><br>\n",
    "Bv. de matrix $A = \\begin{bmatrix} 1 & 2 & 3 \\\\ 4 & 5 & 6 \\end{bmatrix} $ heeft 2 rijen en 3 kolommen. <br>Men zegt dat $A$ een $2x3$-matrix is. $2x3$ noemt men de (wiskundige) dimensie van de matrix. "
   ]
  },
  {
   "cell_type": "markdown",
   "metadata": {},
   "source": [
    "Een matrix geef je in als NumPy array. Je voert de matrix in de array rij per rij in."
   ]
  },
  {
   "cell_type": "markdown",
   "metadata": {},
   "source": [
    "Voer de matrix A in en laat ze op het scherm verschijnen:"
   ]
  },
  {
   "cell_type": "code",
   "execution_count": null,
   "metadata": {
    "scrolled": false
   },
   "outputs": [],
   "source": [
    "matrix_A = np.array([[1,2,3], [4,5,6]])"
   ]
  },
  {
   "cell_type": "code",
   "execution_count": null,
   "metadata": {},
   "outputs": [],
   "source": [
    "print(matrix_A)"
   ]
  },
  {
   "cell_type": "markdown",
   "metadata": {},
   "source": [
    "### Opdracht 1.1\n",
    "Vraag de (wiskundige) dimensie op van A."
   ]
  },
  {
   "cell_type": "code",
   "execution_count": null,
   "metadata": {},
   "outputs": [],
   "source": []
  },
  {
   "cell_type": "markdown",
   "metadata": {},
   "source": [
    "### Opdracht 1.2\n",
    "-  Voer de matrix $B = \\begin{bmatrix} 3 & 1 \\\\ -1 & 6 \\\\ 2 & -2 \\end{bmatrix} $  in. \n",
    "-  Vraag de dimensie op van $B$."
   ]
  },
  {
   "cell_type": "code",
   "execution_count": null,
   "metadata": {},
   "outputs": [],
   "source": []
  },
  {
   "cell_type": "markdown",
   "metadata": {},
   "source": [
    "Het *element* van $A$ op de eerste rij en de derde kolom van $A$ wordt genoteerd als $a_{13}$.<br>\n",
    "De eerste rij heeft index 0 en de derde kolom heeft index 2. Je geeft het element in Python dus in als volgt:"
   ]
  },
  {
   "cell_type": "code",
   "execution_count": null,
   "metadata": {},
   "outputs": [],
   "source": [
    "matrix_A[0][2]"
   ]
  },
  {
   "cell_type": "markdown",
   "metadata": {},
   "source": [
    "### Opdracht 1.3\n",
    "Bepaal met Python de elementen $a_{22}$ en $b_{12}$."
   ]
  },
  {
   "cell_type": "code",
   "execution_count": null,
   "metadata": {},
   "outputs": [],
   "source": []
  },
  {
   "cell_type": "markdown",
   "metadata": {},
   "source": [
    "Om de tweede *kolom* van $A$ te kiezen, moet je dus alle rijen beschouwen maar slechts 1 kolom.<br>\n",
    "De tweede kolom heeft index 1!<br>"
   ]
  },
  {
   "cell_type": "code",
   "execution_count": null,
   "metadata": {},
   "outputs": [],
   "source": [
    "matrix_A[:,1]"
   ]
  },
  {
   "cell_type": "markdown",
   "metadata": {},
   "source": [
    "Om de tweede en derde *rij* van $B$ te kiezen, m.a.w. de twee laatste rijen, mag je slechts de rijen vanaf index 1 beschouwen, maar moet je wel alle kolommen beschouwen."
   ]
  },
  {
   "cell_type": "code",
   "execution_count": null,
   "metadata": {},
   "outputs": [],
   "source": [
    "matrix_B[1:,:]"
   ]
  },
  {
   "cell_type": "markdown",
   "metadata": {},
   "source": [
    "De eerste en de tweede kolom van $A$ vind je met:"
   ]
  },
  {
   "cell_type": "code",
   "execution_count": null,
   "metadata": {},
   "outputs": [],
   "source": [
    "matrix_A[:,0:2]                      # 0:2 wijst op halfopen interval [0:2["
   ]
  },
  {
   "cell_type": "markdown",
   "metadata": {},
   "source": [
    "De volgende instructie geeft hetzelfde resultaat:"
   ]
  },
  {
   "cell_type": "code",
   "execution_count": null,
   "metadata": {},
   "outputs": [],
   "source": [
    "matrix_A[:,:2]                       # :2 betekent alle kolommen t.e.m. kolom met index 1"
   ]
  },
  {
   "cell_type": "markdown",
   "metadata": {},
   "source": [
    "### Opdracht 1.4\n",
    "\n",
    "Beschouw de matrix $C = \\begin{bmatrix} 1 & 2 & 3 & -1 & -5 \\\\ 4 & 0 & 6 & -6 & 2.5 \\\\ 0 & 5 & 6 & 0 & -6 \\\\ 4 & 5 & 16 & -10 & -7  \\\\ 0 & -5 & 2 & 7 & 9  \\\\ 4 & 5 & 6 & 10 & 0 \\end{bmatrix} $.\n",
    "-  Bepaal $c_{43}$.\n",
    "-  Kies de derde t.e.m. de vijfde rij van $C$.\n",
    "-  Kies de vierde kolom van $C$.\n"
   ]
  },
  {
   "cell_type": "code",
   "execution_count": null,
   "metadata": {},
   "outputs": [],
   "source": []
  },
  {
   "cell_type": "markdown",
   "metadata": {},
   "source": [
    "<div style='color: #690027;' markdown=\"1\">\n",
    "    <h2>2. Eigenschappen en bewerkingen met matrices</h2> \n",
    "</div>"
   ]
  },
  {
   "cell_type": "markdown",
   "metadata": {},
   "source": [
    "Je kan een matrix *transponeren*. Dat betekent dat je van de rijen kolommen maakt en van de kolommen rijen.<br>\n",
    "De tweede rij bv. wordt dan de tweede kolom.<br>\n",
    "De getransponeeerde matrix wordt genoteerd met  $B^{T}$.<br>\n",
    "Transponeer de matrix $B$:"
   ]
  },
  {
   "cell_type": "code",
   "execution_count": null,
   "metadata": {},
   "outputs": [],
   "source": [
    "matrix_B.T"
   ]
  },
  {
   "cell_type": "markdown",
   "metadata": {},
   "source": [
    "### Opdracht 2.1\n",
    "Transponeer de matrix A."
   ]
  },
  {
   "cell_type": "code",
   "execution_count": null,
   "metadata": {},
   "outputs": [],
   "source": []
  },
  {
   "cell_type": "markdown",
   "metadata": {},
   "source": [
    "### Opdracht 2.2\n",
    "Controleer of de matrix $C$ een *vierkante matrix* is door de dimensie van $C$ op te vragen. "
   ]
  },
  {
   "cell_type": "code",
   "execution_count": null,
   "metadata": {},
   "outputs": [],
   "source": []
  },
  {
   "cell_type": "markdown",
   "metadata": {},
   "source": [
    "Antwoord:"
   ]
  },
  {
   "cell_type": "markdown",
   "metadata": {},
   "source": [
    "Omdat $A$ en $B^{T}$ dezelfde dimensie hebben, kan je deze matrices *optellen*. Bij het optellen worden de overeenkomstige elementen van beide matrices opgeteld en bekom je een nieuwe matrix met opnieuw dezelfde dimensie. "
   ]
  },
  {
   "cell_type": "markdown",
   "metadata": {},
   "source": [
    "Voer de volgende code-cel uit:"
   ]
  },
  {
   "cell_type": "code",
   "execution_count": null,
   "metadata": {},
   "outputs": [],
   "source": [
    "matrix_A + matrix_B.T"
   ]
  },
  {
   "cell_type": "markdown",
   "metadata": {},
   "source": [
    "Je kan ook elk element van een matrix met hetzelfde getal vermenigvuldigen. Men spreekt dan van een *scalaire vermenigvuldiging*. <br>\n",
    "Vermenigvuldig bv. de matrix B met 4:"
   ]
  },
  {
   "cell_type": "code",
   "execution_count": null,
   "metadata": {},
   "outputs": [],
   "source": [
    "4 * matrix_B"
   ]
  },
  {
   "cell_type": "markdown",
   "metadata": {},
   "source": [
    "Je kan twee matrices ook met elkaar vermenigvuldigen als de eerste matrix evenveel kolommen heeft als de tweede matrix rijen.<br> \n",
    "De vermenigvuldiging wordt als volgt gedefinieerd:<br>\n",
    "<center>\n",
    "Voor $M \\in \\mathbb{R}^{mxn}$ en $N \\in \\mathbb{R}^{nxq}$ is $M \\cdot N = P \\in \\mathbb{R}^{mxq}$,<br> waarbij de elementen van P gegeven worden door:<br>\n",
    "$p_{ij} =  \\sum_{k=1}^{n} m_{ik} \\cdot  n_{kj}$\n",
    "</center>    "
   ]
  },
  {
   "cell_type": "markdown",
   "metadata": {},
   "source": [
    "Om matrices te vermenigvuldigen gebruik je de methode `dot()`.<br>\n",
    "Bereken $A \\cdot B$:"
   ]
  },
  {
   "cell_type": "code",
   "execution_count": null,
   "metadata": {},
   "outputs": [],
   "source": [
    "matrix_A.dot(matrix_B)"
   ]
  },
  {
   "cell_type": "markdown",
   "metadata": {},
   "source": [
    "Bereken $B \\cdot A$:"
   ]
  },
  {
   "cell_type": "code",
   "execution_count": null,
   "metadata": {},
   "outputs": [],
   "source": [
    "matrix_B.dot(matrix_A)"
   ]
  },
  {
   "cell_type": "markdown",
   "metadata": {},
   "source": [
    "De vermenigvuldiging van matrices is niet commutatief!"
   ]
  },
  {
   "cell_type": "markdown",
   "metadata": {},
   "source": [
    "### Opdracht 2.3\n",
    "Bereken $C \\cdot B$."
   ]
  },
  {
   "cell_type": "code",
   "execution_count": null,
   "metadata": {},
   "outputs": [],
   "source": [
    "matrix_C.dot(matrix_B)"
   ]
  },
  {
   "cell_type": "markdown",
   "metadata": {},
   "source": [
    "Kun je verklaren waarom je deze uitvoer krijgt?<br>\n",
    "Antwoord:"
   ]
  },
  {
   "cell_type": "markdown",
   "metadata": {},
   "source": [
    "### Opdracht 2.4\n",
    "Voer zelf een matrix D in zodat $C \\cdot D \\in  \\mathbb{R}^{6x3}$."
   ]
  },
  {
   "cell_type": "code",
   "execution_count": null,
   "metadata": {},
   "outputs": [],
   "source": []
  },
  {
   "cell_type": "markdown",
   "metadata": {},
   "source": [
    "### Opdracht 2.5\n",
    "-  Vermenigvuldig de matrix $C$ met 7.\n",
    "-  Transponeer $C$."
   ]
  },
  {
   "cell_type": "code",
   "execution_count": null,
   "metadata": {},
   "outputs": [],
   "source": []
  },
  {
   "cell_type": "markdown",
   "metadata": {},
   "source": [
    "<div style='color: #690027;' markdown=\"1\">\n",
    "    <h2>3. Tensoren</h2> \n",
    "</div>"
   ]
  },
  {
   "cell_type": "markdown",
   "metadata": {},
   "source": [
    "Een matrix die geen rij- of kolommatrix is, heeft steeds meer dan één rij en meer dan één kolom. Men zegt dat zo'n matrix twee assen heeft. Anders verwoord: een matrix is een 2D-tensor. <br>\n",
    "Je kan hierbij een analogie zien met het vlak in de meetkunde; je werkt dan in twee dimensies met een x-as en een y-as. <br>\n",
    "Bij een 1D-tensor is er dan maar één as. Een rijmatrix of een kolommatrix is dus een 1D-tensor. <br>\n",
    "Een getal kan je ook zien als een $1x1$-matrix. Het heeft dan niet zoveel zin om te spreken van rijen en kolommen. Een getal is een 0D-tensor.  "
   ]
  },
  {
   "cell_type": "markdown",
   "metadata": {},
   "source": [
    "Net zoals de matrices, de 2D-tensoren, maak je in Python een $n$D-tensor aan als een NumPy array. "
   ]
  },
  {
   "cell_type": "markdown",
   "metadata": {},
   "source": [
    "### Voorbeelden"
   ]
  },
  {
   "cell_type": "markdown",
   "metadata": {},
   "source": [
    "#### Een 0D-tensor"
   ]
  },
  {
   "cell_type": "markdown",
   "metadata": {},
   "source": [
    "Beschouw de 1x1-matrix $\\begin{bmatrix} 12 \\end{bmatrix} $. Je kan deze 0D-tensor aanmaken in Python:"
   ]
  },
  {
   "cell_type": "code",
   "execution_count": null,
   "metadata": {},
   "outputs": [],
   "source": [
    "x0 = np.array([12])"
   ]
  },
  {
   "cell_type": "markdown",
   "metadata": {},
   "source": [
    "Toon de 0D-tensor op het scherm en vraag de wiskundige dimensie op. "
   ]
  },
  {
   "cell_type": "code",
   "execution_count": null,
   "metadata": {},
   "outputs": [],
   "source": [
    "print(x0)"
   ]
  },
  {
   "cell_type": "code",
   "execution_count": null,
   "metadata": {},
   "outputs": [],
   "source": [
    "x0.shape"
   ]
  },
  {
   "cell_type": "markdown",
   "metadata": {},
   "source": [
    "$\\begin{bmatrix} 12 \\end{bmatrix} $ is dus een $n$D-tensor met $n = 0$. Je kan de waarde van $n$ opvragen:"
   ]
  },
  {
   "cell_type": "code",
   "execution_count": null,
   "metadata": {},
   "outputs": [],
   "source": [
    "x0.ndim"
   ]
  },
  {
   "cell_type": "markdown",
   "metadata": {},
   "source": [
    "#### Een 1D-tensor"
   ]
  },
  {
   "cell_type": "markdown",
   "metadata": {},
   "source": [
    "Beschouw de rijmatrix $\\begin{bmatrix} 12 & -3 & 6 & 14 \\end{bmatrix} $."
   ]
  },
  {
   "cell_type": "code",
   "execution_count": null,
   "metadata": {},
   "outputs": [],
   "source": [
    "x1 = np.array([12, -3, 6, 14])"
   ]
  },
  {
   "cell_type": "code",
   "execution_count": null,
   "metadata": {},
   "outputs": [],
   "source": [
    "print(x1)"
   ]
  },
  {
   "cell_type": "code",
   "execution_count": null,
   "metadata": {},
   "outputs": [],
   "source": [
    "x1.shape"
   ]
  },
  {
   "cell_type": "markdown",
   "metadata": {},
   "source": [
    "Dus (4,) betekent niets anders dan dimensie $1x4$."
   ]
  },
  {
   "cell_type": "code",
   "execution_count": null,
   "metadata": {},
   "outputs": [],
   "source": [
    "x1.ndim"
   ]
  },
  {
   "cell_type": "markdown",
   "metadata": {},
   "source": [
    "#### Een 2D-tensor"
   ]
  },
  {
   "cell_type": "markdown",
   "metadata": {},
   "source": [
    "Beschouw de matrix $\\begin{bmatrix} 12 & -3 & 6 & 14 \\\\ 1 & 0 & 2.33 & -7.4545  \\end{bmatrix} $."
   ]
  },
  {
   "cell_type": "code",
   "execution_count": null,
   "metadata": {},
   "outputs": [],
   "source": [
    "x2 = np.array([[12, -3, 6, 14], [1, 0, 2.33, -7.4545]])"
   ]
  },
  {
   "cell_type": "code",
   "execution_count": null,
   "metadata": {},
   "outputs": [],
   "source": [
    "print(x2)"
   ]
  },
  {
   "cell_type": "code",
   "execution_count": null,
   "metadata": {},
   "outputs": [],
   "source": [
    "x2.shape"
   ]
  },
  {
   "cell_type": "code",
   "execution_count": null,
   "metadata": {},
   "outputs": [],
   "source": [
    "x2.ndim"
   ]
  },
  {
   "cell_type": "markdown",
   "metadata": {},
   "source": [
    "#### Een 3D-tensor"
   ]
  },
  {
   "cell_type": "markdown",
   "metadata": {},
   "source": [
    "Maar wat is nu een 3D-tensor? Net zoals je in de ruimtemeetkunde gebruikmaakt van drie assen, een x-as, y-as en z-as, voeg je hier ook een derde as toe. <br>\n",
    "Je bouwt een *3D-tensor* op door een *stapel* te maken van een aantal *matrices* die *allemaal dezelfde dimensie* hebben. <br>\n",
    "Een 3D-tensor met dimensie $10x5x8$ bouw je op door tien $5x8$-matrices te stapelen. "
   ]
  },
  {
   "cell_type": "markdown",
   "metadata": {},
   "source": [
    "Als voorbeeld beschouw je een 3D-tensor met dimensie $2x3x4$.\n",
    "Stapel daarvoor de volgende twee 3x4-matrices op elkaar: <br>\n",
    " $\\begin{bmatrix} 2 & 3 & 4 & 7 \\\\ 1 & 5 & 6 & 8 \\\\ 2 & 1 & 0 & 0  \\end{bmatrix} $ en  $\\begin{bmatrix} 0 & -4 & 2 & 2 \\\\ -1 & 7 & 7 & 0 \\\\ -2.5 & 1.5 & 0  & 0  \\end{bmatrix} $."
   ]
  },
  {
   "cell_type": "code",
   "execution_count": null,
   "metadata": {},
   "outputs": [],
   "source": [
    "x3 = np.array([[[2,3,4,7], [1,5,6,8], [2,1,0,0]], [[0,-4,2,2],[-1,7,7,0],[-2.5,1.5,0,0]]])"
   ]
  },
  {
   "cell_type": "code",
   "execution_count": null,
   "metadata": {},
   "outputs": [],
   "source": [
    "print(x3)"
   ]
  },
  {
   "cell_type": "code",
   "execution_count": null,
   "metadata": {},
   "outputs": [],
   "source": [
    "x3.shape"
   ]
  },
  {
   "cell_type": "markdown",
   "metadata": {},
   "source": [
    "(2,3,4) komt dus overeen met de dimensie $2x3x4$."
   ]
  },
  {
   "cell_type": "code",
   "execution_count": null,
   "metadata": {},
   "outputs": [],
   "source": [
    "x3.ndim"
   ]
  },
  {
   "cell_type": "code",
   "execution_count": null,
   "metadata": {},
   "outputs": [],
   "source": []
  },
  {
   "cell_type": "markdown",
   "metadata": {},
   "source": [
    "### Opdracht 3.1\n",
    "- Voer een 3D-tensor in met dimensie $3x5x2$. Denk goed na over hoeveel matrices je moet stapelen en welke dimensie deze moeten hebben. "
   ]
  },
  {
   "cell_type": "markdown",
   "metadata": {},
   "source": [
    "<div style='color: #690027;' markdown=\"1\">\n",
    "    <h2>4. Bewerkingen met tensoren</h2> \n",
    "</div>"
   ]
  },
  {
   "cell_type": "markdown",
   "metadata": {},
   "source": [
    "De bewerkingen met tensoren zijn uitbreidingen van dezelfde bewerkingen op matrices.<br>\n",
    "We zullen daar niet verder op ingaan.<br>\n",
    "Wel interessant is dat je op tensoren (dus ook op matrices) functies kunt laten inwerken. <br>\n",
    "Deze functies werken elementsgewijs op de tensor in, ze werken dus op elk element afzonderlijk in."
   ]
  },
  {
   "cell_type": "markdown",
   "metadata": {},
   "source": [
    "### Voorbeeld\n",
    "Je kan bv. van elk element van een tensor het teken laten bepalen door de sign-functie.\n",
    "In Python roep je deze NumPy-functie op  via `sign()`."
   ]
  },
  {
   "cell_type": "code",
   "execution_count": null,
   "metadata": {},
   "outputs": [],
   "source": [
    "np.sign(x3)"
   ]
  },
  {
   "cell_type": "markdown",
   "metadata": {},
   "source": [
    "### Opdracht 4.1\n",
    "- Je kan met de Numpy-module ook de absolute waarde-functie oproepen via `absolute()`. Probeer dit uit."
   ]
  },
  {
   "cell_type": "code",
   "execution_count": null,
   "metadata": {},
   "outputs": [],
   "source": []
  },
  {
   "cell_type": "markdown",
   "metadata": {},
   "source": [
    "- De Heaviside-functie, een drempelwaardefunctie met drempel 0, roep je op met `heaviside(x,0)`, waarbij je als eerste argument de tensor meegeeft en als tweede argument de drempel 0. Probeer dit uit."
   ]
  },
  {
   "cell_type": "code",
   "execution_count": null,
   "metadata": {},
   "outputs": [],
   "source": []
  },
  {
   "cell_type": "markdown",
   "metadata": {},
   "source": [
    "<div style='color: #690027;' markdown=\"1\">\n",
    "    <h2>5. In de praktijk</h2> \n",
    "</div>"
   ]
  },
  {
   "cell_type": "markdown",
   "metadata": {},
   "source": [
    "### Voorbeeld: MNIST-dataset"
   ]
  },
  {
   "cell_type": "markdown",
   "metadata": {},
   "source": [
    "De MNIST-dataset is een dataset van 70 000 grijswaardenafbeeldingen. <br>\n",
    "Zo'n grijswaardenafbeelding bestaat uit een vierkant raster van pixels. Het raster heeft 28 rijen en 28 kolommen. Elke pixel neemt een waarde aan van 0 t.e.m 255. Hoe groter de waarde, hoe lichter het grijs. 0 staat voor zwart en 255 voor wit.<br>\n",
    "Elke afbeelding kan dus voorgesteld worden als een vierkante $28x28$-matrix.<br>\n",
    "Om de MNIST-dataset te representeren kan je dus een tensor opbouwen door de 70 000 afbeeldingen te stapelen. <br>\n",
    "Alle afbeeldingen van de MNIST-dataset kunnen dus gerepresenteerd worden door een 3D-tensor met dimensie $70 \\; 000x28x28$. "
   ]
  },
  {
   "cell_type": "markdown",
   "metadata": {},
   "source": [
    "### Opdracht 5.1 KIKS-dataset"
   ]
  },
  {
   "cell_type": "markdown",
   "metadata": {},
   "source": [
    "De KIKS-dataset is een dataset van 84 000 kleurenfoto's.<br>\n",
    "Door rood, groen en blauw licht te mengen, kan bijna elke kleur gesimuleerd worden. Kleurenfoto's kunnen dan ook in een *RGB-systeem* worden opgeslagen (RGB = rood, groen, blauw).<br>\n",
    "In dat geval zijn er wel drie matrices nodig: één voor de rode tinten, één voor de groene tinten en één voor de blauwe tinten. Deze drie matrices worden dan gestapeld tot een tensor. <br>\n",
    "De matrices van de KIKS-dataset zijn $120x120$-matrices. <br>\n",
    "\n",
    "-  Als je de volledige KIKS-dataset met één $n$D-tensor wilt representeren, welke dimensie heeft deze tensor dan?\n",
    "-  Wat is de waarde van $n$?"
   ]
  },
  {
   "cell_type": "markdown",
   "metadata": {},
   "source": [
    "<div class=\"alert alert-block alert-warning\"> \n",
    "In de notebooks 'Matrices en afbeeldingen in grijswaarden'  en 'Tensoren en RGB' leer je meer over hoe een computer naar een afbeelding 'kijkt'. <br>\n",
    "Heb je moeite om de opdracht 5.1 te begrijpen, neem dan eerst deze notebooks door. \n",
    "</div>"
   ]
  },
  {
   "cell_type": "markdown",
   "metadata": {},
   "source": [
    "<div style='color: #690027;' markdown=\"1\">\n",
    "    <h2>6. Matrices stapelen tot een tensor</h2> \n",
    "</div>"
   ]
  },
  {
   "cell_type": "markdown",
   "metadata": {},
   "source": [
    "Als je bv. drie $2x2$-matrices stapelt, dan bekom je een tensor met dimensie $3x2x2$.\n",
    "Die matrices kunnen de rode, groene en blauwe tinten van een kleurenafbeelding representeren. Die kleurenafbeelding wordt gerrepresenteerd door de tensor. <br><br>\n",
    "Stel dat de drie matrices gegeven zijn door `rozepixels_R`, `rozepixels_G` en `rozepixels_B`:  "
   ]
  },
  {
   "cell_type": "code",
   "execution_count": null,
   "metadata": {},
   "outputs": [],
   "source": [
    "rozepixels_R = np.array(([230, 230], [230, 230]), dtype=\"uint8\")\n",
    "rozepixels_G = np.array(([125, 125], [125, 125]), dtype=\"uint8\")\n",
    "rozepixels_B = np.array(([156, 156], [156, 156]), dtype=\"uint8\")"
   ]
  },
  {
   "cell_type": "markdown",
   "metadata": {},
   "source": [
    "Het stapelen tot een tensor voor de kleurenafbeelding gebeurt met de NumPy-functie `dstack` die drie parameters heeft: een voor elke kleur van de RGB-voorstelling."
   ]
  },
  {
   "cell_type": "code",
   "execution_count": null,
   "metadata": {},
   "outputs": [],
   "source": [
    "rozepixels = np.dstack([rozepixels_R, rozepixels_G, rozepixels_B])"
   ]
  },
  {
   "cell_type": "markdown",
   "metadata": {},
   "source": [
    "Vraag van de $n$D-tensor `rozepixels` met de juiste instructies de wiskundige dimensie, de waarde van $n$ en het datatype van de elementen op."
   ]
  },
  {
   "cell_type": "code",
   "execution_count": null,
   "metadata": {},
   "outputs": [],
   "source": []
  },
  {
   "cell_type": "markdown",
   "metadata": {},
   "source": [
    "<img src=\"../.images/cclic.png\" alt=\"Banner\" align=\"left\" style=\"width:100px;\"/><br><br>\n",
    "Notebook KIKS, zie <a href=\"http://www.aiopschool.be\">AI op School</a>, van F. wyffels & N. Gesquière is in licentie gegeven volgens een <a href=\"http://creativecommons.org/licenses/by-nc-sa/4.0/\">Creative Commons Naamsvermelding-NietCommercieel-GelijkDelen 4.0 Internationaal-licentie</a>. "
   ]
  }
 ],
 "metadata": {
  "kernelspec": {
   "display_name": "Python 3",
   "language": "python",
   "name": "python3"
  },
  "language_info": {
   "codemirror_mode": {
    "name": "ipython",
    "version": 3
   },
   "file_extension": ".py",
   "mimetype": "text/x-python",
   "name": "python",
   "nbconvert_exporter": "python",
   "pygments_lexer": "ipython3",
   "version": "3.6.4"
  }
 },
 "nbformat": 4,
 "nbformat_minor": 2
}
