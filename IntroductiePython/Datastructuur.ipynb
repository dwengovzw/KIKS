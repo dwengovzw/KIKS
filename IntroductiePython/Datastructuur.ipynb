{
 "cells": [
  {
   "cell_type": "markdown",
   "metadata": {},
   "source": [
    "<img src=\"../.images/KIKSteam2.png\" alt=\"Banner\" style=\"width:800px;\"/>"
   ]
  },
  {
   "cell_type": "markdown",
   "metadata": {},
   "source": [
    "<div style='color: #690027;' markdown=\"1\">\n",
    "    <h1>DATASTRUCTUUR</h1> \n",
    "</div>"
   ]
  },
  {
   "cell_type": "markdown",
   "metadata": {},
   "source": [
    "<div class=\"alert alert-box alert-success\">\n",
    "Python is een object-georiënteerde taal. Alles is er een <b>object</b>: elk getal, elk stuk tekst... Een object neemt een bepaalde plaats in in het geheugen en heeft een bepaalde waarde. Elk object heeft ook een <b>type</b>, bv. <em>integer</em> en <em>string</em>. <br>\n",
    "In deze notebook maak je kennis met enkele types.\n",
    "</div>"
   ]
  },
  {
   "cell_type": "markdown",
   "metadata": {},
   "source": [
    "<div style='color: #690027;' markdown=\"1\">\n",
    "    <h2>1. String en integer</h2> \n",
    "</div>"
   ]
  },
  {
   "cell_type": "markdown",
   "metadata": {},
   "source": [
    "De types *string (str)* en *integer (int)* kwamen reeds aan bod in de notebook \"Aan de slag!\"."
   ]
  },
  {
   "cell_type": "markdown",
   "metadata": {},
   "source": [
    "<div class=\"alert alert-box alert-info\">\n",
    "Het type <b>str</b> is het type van tekst. Je herkent een string aan de <span style=\"background-color:whitesmoke; font-family:consolas; font-size:1em;\">\" \"</span>.<br> \n",
    "Het type <b>int</b> is het type van een geheel getal.\n",
    "</div>"
   ]
  },
  {
   "cell_type": "code",
   "execution_count": null,
   "metadata": {},
   "outputs": [],
   "source": [
    "bloem = \"iris\""
   ]
  },
  {
   "cell_type": "markdown",
   "metadata": {},
   "source": [
    "`bloem` is een variabele die refereert naar het object `\"iris\"`. Men zegt zowel dat `\"iris\"` als de variabele `bloem` het type *string* hebben. <br>"
   ]
  },
  {
   "cell_type": "code",
   "execution_count": null,
   "metadata": {},
   "outputs": [],
   "source": [
    "getal = -3"
   ]
  },
  {
   "cell_type": "markdown",
   "metadata": {},
   "source": [
    "`getal` is een variabele die refereert naar het object `-3`. Men zegt zowel dat `-3` als de variabele `getal` het type *int* hebben. <br>"
   ]
  },
  {
   "cell_type": "markdown",
   "metadata": {},
   "source": [
    "<div class=\"alert alert-box alert-info\">\n",
    "Een variabele heeft dus hetzelfde type als het object waarnaar hij refereert.\n",
    "</div>"
   ]
  },
  {
   "cell_type": "markdown",
   "metadata": {},
   "source": [
    "Je weet ook al dat je strings kunt optellen en dat je een bepaald type kunt omzetten naar een ander type door typecasting. <br>Voer de volgende code uit."
   ]
  },
  {
   "cell_type": "code",
   "execution_count": null,
   "metadata": {},
   "outputs": [],
   "source": [
    "aantal = 25\n",
    "print(\"Op de bladafdruk van de koffieplant tellen we \" + str(aantal) + \" huidmondjes.\")"
   ]
  },
  {
   "cell_type": "markdown",
   "metadata": {},
   "source": [
    "<div style='color: #690027;' markdown=\"1\">\n",
    "    <h2>2. Boolean</h2> \n",
    "</div>"
   ]
  },
  {
   "cell_type": "markdown",
   "metadata": {},
   "source": [
    "Er zijn slechts twee objecten die type *boolean (bool)* hebben. Het ene object heeft als waarde `False` en het andere heeft als waarde `True`.  Het type bool is een subtype van het type int: `False` komt overeen met 0 en `True` met 1."
   ]
  },
  {
   "cell_type": "markdown",
   "metadata": {},
   "source": [
    "<div class=\"alert alert-box alert-info\">\n",
    "<span style=\"background-color:whitesmoke; font-family:consolas; font-size:1em;\">False</span> en <span style=\"background-color:whitesmoke; font-family:consolas; font-size:1em;\">True</span> hebben type <b>bool</b>.\n",
    "</div>"
   ]
  },
  {
   "cell_type": "markdown",
   "metadata": {},
   "source": [
    "<div style='color: #690027;' markdown=\"1\">\n",
    "    <h2>3. Float</h2> \n",
    "</div>"
   ]
  },
  {
   "cell_type": "markdown",
   "metadata": {},
   "source": [
    "Naast gehele getallen kan je ook natuurlijke getallen en decimale getallen gebruiken. <br>\n",
    "Decimale getallen hebben type *float*."
   ]
  },
  {
   "cell_type": "markdown",
   "metadata": {},
   "source": [
    "Voer volgende code-cel uit."
   ]
  },
  {
   "cell_type": "code",
   "execution_count": null,
   "metadata": {},
   "outputs": [],
   "source": [
    "getal = 8.5\n",
    "type(getal)"
   ]
  },
  {
   "cell_type": "markdown",
   "metadata": {},
   "source": [
    "<div style='color: #690027;' markdown=\"1\">\n",
    "    <h2>4. Opsommingen</h2> \n",
    "</div>"
   ]
  },
  {
   "cell_type": "markdown",
   "metadata": {},
   "source": [
    "Voor opsommingen zijn er o.a. de types *list*, *tuple* en *dictionary*."
   ]
  },
  {
   "cell_type": "markdown",
   "metadata": {},
   "source": [
    "### 4.1 List"
   ]
  },
  {
   "cell_type": "markdown",
   "metadata": {},
   "source": [
    "Bloemplanten worden opgedeeld in monocotylen en dicotylen. <br>Bij monocotylen liggen de huidmondjes op parallelle lijnen, bij dicotylen zijn ze willekeurig verspreid. "
   ]
  },
  {
   "cell_type": "markdown",
   "metadata": {},
   "source": [
    "<table><tr>\n",
    "<td> <img src=\"../.images/IntroductiePython/dicot.jpg\" alt=\"Banner\" style=\"width: 134px;\"/> </td>\n",
    "<td> <img src=\"../.images/IntroductiePython/monocot.jpg\" alt=\"Banner\" style=\"width: 120px;\"/> </td>\n",
    "</tr></table>"
   ]
  },
  {
   "cell_type": "markdown",
   "metadata": {},
   "source": [
    "Enkele voorbeelden van monocotylen en dicotylen worden hieronder opgesomd."
   ]
  },
  {
   "cell_type": "code",
   "execution_count": null,
   "metadata": {},
   "outputs": [],
   "source": [
    "monocotyl = [\"prei\", \"orchidee\", \"iris\", \"ananasboom\"]\n",
    "dicotyl = [\"notelaar\", \"madeliefje\", \"roos\", \"tomatenplant\"]"
   ]
  },
  {
   "cell_type": "markdown",
   "metadata": {},
   "source": [
    "De objecten `monocotyl` en `dicotyl` hebben het type *list*. Het zijn dus *lijsten*. <br>Beide lijsten bevatten vier *elementen*. De elementen van beide lijsten hebben type `string`. "
   ]
  },
  {
   "cell_type": "markdown",
   "metadata": {},
   "source": [
    "Je kan zo'n lijst een beetje vergelijken met een rij in wiskunde, behalve dat dat een rij enkel getallen bevat. De *volgorde* van de elementen van een lijst is belangrijk. Elk element heeft een bepaalde plaats, weergegeven door zijn *index*. Een element kan meerdere keren voorkomen."
   ]
  },
  {
   "cell_type": "markdown",
   "metadata": {},
   "source": [
    "Het aantal elementen van een lijst kan je opvragen met de *functie* `len()`:"
   ]
  },
  {
   "cell_type": "code",
   "execution_count": null,
   "metadata": {},
   "outputs": [],
   "source": [
    "len(dicotyl)"
   ]
  },
  {
   "cell_type": "markdown",
   "metadata": {},
   "source": [
    "### Voorbeeld"
   ]
  },
  {
   "cell_type": "markdown",
   "metadata": {},
   "source": [
    "Voer het volgende script uit. <br>Kijk goed wat de methodes `sort()`,  `remove()`, `append()` en `pop()` en de functie `len()` doen."
   ]
  },
  {
   "cell_type": "code",
   "execution_count": null,
   "metadata": {},
   "outputs": [],
   "source": [
    "getallen = [3, 7, 1, 13, 2, 4, 5, 11, 15]       # lijst van getallen\n",
    "\n",
    "# deze lijst sorteren van klein naar groot\n",
    "getallen.sort()\n",
    "print(getallen)\n",
    "\n",
    "# deze lijst omvormen tot een lijst van 7 priemgetallen\n",
    "# 1, 4 en 15 zijn geen priemgetallen\n",
    "# er zijn maar 6 priemgetallen over, voeg er nog een toe\n",
    "getallen.remove(1)\n",
    "getallen.remove(4)\n",
    "getallen.pop() \n",
    "getallen.append(17)\n",
    "print(getallen)\n",
    "\n",
    "# tellen hoeveel elementen in de lijst priemgetallen\n",
    "print(len(getallen))"
   ]
  },
  {
   "cell_type": "markdown",
   "metadata": {},
   "source": [
    "`sort()` kan je ook gebruiken om een lijst van woorden *alfabetisch* te rangschikken. "
   ]
  },
  {
   "cell_type": "markdown",
   "metadata": {},
   "source": [
    "### Opdracht 4.1\n",
    "Vervolledig het volgende script:\n",
    "-  sorteer de list `wetenschappers` alfabetisch; \n",
    "-  verwijder \"Turing\"; \n",
    "-  voeg er twee minder bekende wetenschappers uit de andere lijst aan toe; \n",
    "-  laat de list `wetenschappers` uitprinten;\n",
    "-  bepaal erna het aantal personen in de list `wetenschappers` en laat dat aantal afdrukken."
   ]
  },
  {
   "cell_type": "code",
   "execution_count": null,
   "metadata": {},
   "outputs": [],
   "source": [
    "wetenschappers = [\"Darwin\", \"Newton\", \"Einstein\", \"Curie\", \"Turing\", \"Planck\", \"Archimedes\"]\n",
    "minder_bekende = [\"Hypathia\", \"Germain\", \"von Humboldt\"]"
   ]
  },
  {
   "cell_type": "code",
   "execution_count": null,
   "metadata": {},
   "outputs": [],
   "source": []
  },
  {
   "cell_type": "markdown",
   "metadata": {},
   "source": [
    "### 4.2 Tuple"
   ]
  },
  {
   "cell_type": "markdown",
   "metadata": {},
   "source": [
    "Een *tuple* kan je vergelijken met een n-tal in wiskunde: een koppel, een drietal.... De *volgorde* van de elementen van een tuple is belangrijk. Elk element heeft een bepaalde plaats, weergegeven door zijn *index*. Een element kan meerdere keren voorkomen.<br>\n",
    "Eens aangemaakt, kan een tuple niet meer gewijzigd worden."
   ]
  },
  {
   "cell_type": "code",
   "execution_count": null,
   "metadata": {},
   "outputs": [],
   "source": [
    "rgb = (255, 255, 255)            "
   ]
  },
  {
   "cell_type": "markdown",
   "metadata": {},
   "source": [
    "De variabele `rgb` verwijst naar het object `(255, 255, 255)` dat type tuple heeft."
   ]
  },
  {
   "cell_type": "markdown",
   "metadata": {},
   "source": [
    "De naam van de variabele is niet willekeurig gekozen: de RGB-code 255, 255, 255 komt overeen met de kleur 'wit'. Hierover meer in de notebook 'Tensoren'."
   ]
  },
  {
   "cell_type": "markdown",
   "metadata": {},
   "source": [
    "### Opdracht 4.2\n",
    "Geef een instructie om het laatste element van `rgb` op te vragen en voer uit."
   ]
  },
  {
   "cell_type": "code",
   "execution_count": null,
   "metadata": {},
   "outputs": [],
   "source": []
  },
  {
   "cell_type": "markdown",
   "metadata": {},
   "source": [
    "### 4.3 Dictionary"
   ]
  },
  {
   "cell_type": "markdown",
   "metadata": {},
   "source": [
    "In het voorbeeld hieronder vind je een object `planten` dat type *dictionary (dict)* heeft. Het is een verzameling van elementen met een soort x- en y-coördinaat. De volgorde van de elementen speelt geen rol, een element kan maar een keer voorkomen. Je zou het kunnen vergelijken als een verzameling koppels uit de wiskundeles."
   ]
  },
  {
   "cell_type": "markdown",
   "metadata": {},
   "source": [
    "### Voorbeeld"
   ]
  },
  {
   "cell_type": "markdown",
   "metadata": {},
   "source": [
    "Planten voorzien zelf in hun voedsel door fotosynthese. Die fotosynthese verloopt echter niet bij alle planten op dezelfde manier. Naargelang het proces onderscheidt men C3-, C4- en CAM-planten. <br>De meeste planten zijn C3-planten. C4-planten zijn planten uit tropische gebieden waardoor het proces moest aangepast worden om uitdroging tegen te gaan, bij het proces gaat zo weinig mogelijk CO<sub>2</sub> verloren. CAM-planten zijn woestijnplanten, bij hen gebeurt de opname van CO<sub>2</sub> 's nachts als het minder warm is. "
   ]
  },
  {
   "cell_type": "markdown",
   "metadata": {},
   "source": [
    "Voer de volgende code-cellen uit."
   ]
  },
  {
   "cell_type": "code",
   "execution_count": null,
   "metadata": {},
   "outputs": [],
   "source": [
    "planten = {\n",
    "    \"appelboom\": \"C3\", \n",
    "    \"cactus\": \"CAM\",  \n",
    "    \"maïs\": \"C4\"\n",
    "    }\n",
    "print(planten)\n",
    "print(len(planten))         # len() geeft het aantal elementen terug"
   ]
  },
  {
   "cell_type": "code",
   "execution_count": null,
   "metadata": {},
   "outputs": [],
   "source": [
    "type(planten)"
   ]
  },
  {
   "cell_type": "markdown",
   "metadata": {},
   "source": [
    "`\"cactus\": \"CAM\"` is het element met *sleutel (index)* `\"cactus\"` en *waarde* `\"CAM\"`."
   ]
  },
  {
   "cell_type": "code",
   "execution_count": null,
   "metadata": {},
   "outputs": [],
   "source": [
    "print(planten[\"cactus\"])"
   ]
  },
  {
   "cell_type": "markdown",
   "metadata": {},
   "source": [
    "Je kunt elementen aan `planten` toevoegen:"
   ]
  },
  {
   "cell_type": "code",
   "execution_count": null,
   "metadata": {},
   "outputs": [],
   "source": [
    "planten[\"suikerriet\"] = \"C4\"\n",
    "planten[\"sedum\"] = \"CAM\"\n",
    "planten[\"graan\"] = \"C3\""
   ]
  },
  {
   "cell_type": "code",
   "execution_count": null,
   "metadata": {},
   "outputs": [],
   "source": [
    "print(planten)"
   ]
  },
  {
   "cell_type": "code",
   "execution_count": null,
   "metadata": {},
   "outputs": [],
   "source": [
    "planten[\"roos\"] = \"C2\"\n",
    "print(planten)"
   ]
  },
  {
   "cell_type": "markdown",
   "metadata": {},
   "source": [
    "Oeps, typfout, een C2-plant bestaat helemaal niet. Gelukkig kan je deze fout rechtzetten.<br> Je kan bovendien ook elementen verwijderen uit een dictionary via een boodschap met het sleutelwoord *del*."
   ]
  },
  {
   "cell_type": "code",
   "execution_count": null,
   "metadata": {},
   "outputs": [],
   "source": [
    "planten[\"roos\"] = \"C3\"\n",
    "del planten[\"sedum\"]\n",
    "print(planten)"
   ]
  },
  {
   "cell_type": "markdown",
   "metadata": {},
   "source": [
    "Voer volgende code-cellen uit."
   ]
  },
  {
   "cell_type": "code",
   "execution_count": null,
   "metadata": {},
   "outputs": [],
   "source": [
    "\"suikerriet\" in planten"
   ]
  },
  {
   "cell_type": "code",
   "execution_count": null,
   "metadata": {},
   "outputs": [],
   "source": [
    "\"madeliefje\" in planten"
   ]
  },
  {
   "cell_type": "markdown",
   "metadata": {},
   "source": [
    "### Opdracht 4.3\n",
    "Veel planten hebben huidmondjes aan de onderkant van hun bladeren (hypostamateus), maar sommigen hebben er aan de bovenkant (epistomateus)  of zelfs aan beide kanten (amphistomateus).<br>\n",
    "Bv. waterlelie (epistomateus), populier (amphistomateus), paardekastanje (hypostomateus).<br>\n",
    "Geef een instructie om een dictionary `plaats_stomata` te construeren met daarin deze gegevens. <br> Laat vervolgens de dictionary afdrukken."
   ]
  },
  {
   "cell_type": "code",
   "execution_count": null,
   "metadata": {},
   "outputs": [],
   "source": []
  },
  {
   "cell_type": "markdown",
   "metadata": {},
   "source": [
    "<div class=\"alert alert-box alert-info\">\n",
    "Zowel in een opsomming van het type <b>list</b> als van het type <b>tuple</b> is de volgorde belangrijk en heeft elk element een <b>index</b> overeenkomstig de positie van het element.<br> Je herkent een list aan de <span style=\"background-color:whitesmoke; font-family:consolas; font-size:1em;\">[ ]</span>.<br> Je herkent een tuple aan de <span style=\"background-color:whitesmoke; font-family:consolas; font-size:1em;\">( )</span>.<br> Bij een opsommming van het type <b>dictionary</b> is de volgorde niet van belang. Elk element heeft zijn sleutel als index.<br>Je herkent een dictionary aan de <span style=\"background-color:whitesmoke; font-family:consolas; font-size:1em;\">{ }</span> in combinatie met de <span style=\"background-color:whitesmoke; font-family:consolas; font-size:1em;\">:</span>.\n",
    "</div>"
   ]
  },
  {
   "cell_type": "markdown",
   "metadata": {},
   "source": [
    "<div style='color: #690027;' markdown=\"1\">\n",
    "    <h2>6. Nonetype</h2> \n",
    "</div>"
   ]
  },
  {
   "cell_type": "markdown",
   "metadata": {},
   "source": [
    "Er is één heel bijzonder object. Het object met de naam `None`. Dit object heet geen waarde en er is er zo maar een. <br>"
   ]
  },
  {
   "cell_type": "markdown",
   "metadata": {},
   "source": [
    "<div class=\"alert alert-box alert-info\">\n",
    "Het object <span style=\"background-color:whitesmoke; font-family:consolas; font-size:1em;\">None</span> heeft type <b>NoneType</b> en heeft geen waarde. \n",
    "</div>"
   ]
  },
  {
   "cell_type": "code",
   "execution_count": null,
   "metadata": {},
   "outputs": [],
   "source": [
    "type(None)"
   ]
  },
  {
   "cell_type": "markdown",
   "metadata": {},
   "source": [
    "In de notebook 'Functies' vind je daar een voorbeeld van."
   ]
  },
  {
   "cell_type": "markdown",
   "metadata": {},
   "source": [
    "<div style='color: #690027;' markdown=\"1\">\n",
    "    <h2>7. Extra types in NumPy</h2> \n",
    "</div>"
   ]
  },
  {
   "cell_type": "markdown",
   "metadata": {},
   "source": [
    "De module NumPy laat toe om meer wetenschappelijke berekeningen te doen, om te werken met matrices...<br> importeer eerst de module."
   ]
  },
  {
   "cell_type": "code",
   "execution_count": 5,
   "metadata": {},
   "outputs": [],
   "source": [
    "import numpy as np"
   ]
  },
  {
   "cell_type": "markdown",
   "metadata": {},
   "source": [
    "### 7.1 uint8"
   ]
  },
  {
   "cell_type": "markdown",
   "metadata": {},
   "source": [
    "Objecten die natuurlijke getallen zijn, zijn positieve gehele getallen en hebben dus geen expliciet toestandsteken nodig (de + hoef je niet te noteren.) <br>In de module NumPy, is er in het bijzonder voor de natuurlijke getallen van 0 t.e.m. 255 een type voorzien: deze objecten hebben type *unsigned integer (uint8)*."
   ]
  },
  {
   "cell_type": "markdown",
   "metadata": {},
   "source": [
    "### 7.2 numpy array"
   ]
  },
  {
   "cell_type": "code",
   "execution_count": 7,
   "metadata": {},
   "outputs": [
    {
     "name": "stdout",
     "output_type": "stream",
     "text": [
      "[[ 1  2  0]\n",
      " [ 3  4 -5]]\n"
     ]
    }
   ],
   "source": [
    "matrix = np.array([[1, 2, 0], [3, 4, -5]])\n",
    "print(matrix)"
   ]
  },
  {
   "cell_type": "markdown",
   "metadata": {},
   "source": [
    "Meer hierover in de notebook 'Tensoren'."
   ]
  },
  {
   "cell_type": "markdown",
   "metadata": {},
   "source": [
    "<div class=\"alert alert-block alert-success\">Veel planten hebben huidmondjes aan de onderkant van hun bladeren (hypostamateus), maar sommigen hebben er aan de bovenkant (epistomateus) of zelfs aan beide kanten (amphistomateus).\n",
    "</div>"
   ]
  },
  {
   "cell_type": "markdown",
   "metadata": {},
   "source": [
    "<img src=\"../.images/cclic.png\" alt=\"Banner\" align=\"left\" style=\"width:80px;\"/><br><br>\n",
    "Notebook KIKS, zie <a href=\"http://www.aiopschool.be\">ai op school</a>, van F. wyffels, N. Gesquière is in licentie gegeven volgens een <a href=\"http://creativecommons.org/licenses/by-nc-sa/4.0/\">Creative Commons Naamsvermelding-NietCommercieel-GelijkDelen 4.0 Internationaal-licentie</a>. "
   ]
  }
 ],
 "metadata": {
  "kernelspec": {
   "display_name": "Python 3",
   "language": "python",
   "name": "python3"
  },
  "language_info": {
   "codemirror_mode": {
    "name": "ipython",
    "version": 3
   },
   "file_extension": ".py",
   "mimetype": "text/x-python",
   "name": "python",
   "nbconvert_exporter": "python",
   "pygments_lexer": "ipython3",
   "version": "3.6.4"
  }
 },
 "nbformat": 4,
 "nbformat_minor": 2
}
