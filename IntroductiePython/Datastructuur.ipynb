{
 "cells": [
  {
   "cell_type": "markdown",
   "metadata": {},
   "source": [
    "<img src=\"../.images/logosnb.png\" alt=\"Banner\" style=\"width:1100px;\"/>"
   ]
  },
  {
   "cell_type": "markdown",
   "metadata": {},
   "source": [
    "<div style='color: #690027;' markdown=\"1\">\n",
    "    <h1>DATASTRUCTUUR</h1> \n",
    "</div>"
   ]
  },
  {
   "cell_type": "markdown",
   "metadata": {},
   "source": [
    "<div class=\"alert alert-box alert-success\">\n",
    "Python is een object-georiënteerde taal. Alles is er een <b>object</b>: elk getal, elk stuk tekst... Een object neemt een bepaalde plaats in in het geheugen en heeft een bepaalde waarde. Elk object heeft ook een <b>type</b>, bv. <em>integer</em> en <em>string</em>. <br>\n",
    "In deze notebook maak je kennis met enkele types.<br>\n",
    "Alle objecten van eenzelfde type behoren tot dezelfde <b>klasse</b>. Binnen deze klasse zijn er <b>methodes</b> voorzien die men specifiek voor objecten van dit type kan oproepen. \n",
    "</div>"
   ]
  },
  {
   "cell_type": "markdown",
   "metadata": {},
   "source": [
    "<div style='color: #690027;' markdown=\"1\">\n",
    "    <h2>1. String en integer</h2> \n",
    "</div>"
   ]
  },
  {
   "cell_type": "markdown",
   "metadata": {},
   "source": [
    "De types *string (str)* en *integer (int)* kwamen reeds aan bod in de notebook \"Aan de slag!\"."
   ]
  },
  {
   "cell_type": "markdown",
   "metadata": {},
   "source": [
    "<div class=\"alert alert-box alert-info\">\n",
    "Het type <b>str</b> is het type van tekst. Je herkent een string aan de <span style=\"background-color:whitesmoke; font-family:consolas; font-size:1em;\">\" \"</span>.<br> \n",
    "Het type <b>int</b> is het type van een geheel getal.\n",
    "</div>"
   ]
  },
  {
   "cell_type": "code",
   "execution_count": null,
   "metadata": {},
   "outputs": [],
   "source": [
    "bloem = \"iris\""
   ]
  },
  {
   "cell_type": "markdown",
   "metadata": {},
   "source": [
    "`bloem` is een variabele die refereert aan het object `\"iris\"`. Men zegt dat zowel `\"iris\"` als de variabele `bloem` het type *string* hebben. <br>"
   ]
  },
  {
   "cell_type": "code",
   "execution_count": null,
   "metadata": {},
   "outputs": [],
   "source": [
    "getal = -3"
   ]
  },
  {
   "cell_type": "markdown",
   "metadata": {},
   "source": [
    "`getal` is een variabele die refereert aan het object `-3`. Men zegt dat  zowel `-3` als de variabele `getal` het type *int* hebben. <br>"
   ]
  },
  {
   "cell_type": "markdown",
   "metadata": {},
   "source": [
    "<div class=\"alert alert-box alert-info\">\n",
    "Een variabele heeft dus hetzelfde type als het object waaraan hij refereert.\n",
    "</div>"
   ]
  },
  {
   "cell_type": "markdown",
   "metadata": {},
   "source": [
    "Je weet ook al dat je strings kunt samenvoegen en dat je een bepaald type kunt omzetten naar een ander type door *typecasting*. <br>Voer de volgende code uit. In deze code heeft de functie `print()` slechts één argument."
   ]
  },
  {
   "cell_type": "code",
   "execution_count": null,
   "metadata": {},
   "outputs": [],
   "source": [
    "aantal = 25\n",
    "print(\"Op de bladafdruk van de koffieplant tellen we \" + str(aantal) + \" huidmondjes.\")"
   ]
  },
  {
   "cell_type": "markdown",
   "metadata": {},
   "source": [
    "<div style='color: #690027;' markdown=\"1\">\n",
    "    <h2>2. Boolean</h2> \n",
    "</div>"
   ]
  },
  {
   "cell_type": "markdown",
   "metadata": {},
   "source": [
    "Begin met het verkennen van enkele voorbeelden. <br> \n",
    "Voer de volgende instructies uit. Begrijp je de uitvoer?"
   ]
  },
  {
   "cell_type": "code",
   "execution_count": null,
   "metadata": {},
   "outputs": [],
   "source": [
    "2 < 5"
   ]
  },
  {
   "cell_type": "code",
   "execution_count": null,
   "metadata": {},
   "outputs": [],
   "source": [
    "- 3 == getal"
   ]
  },
  {
   "cell_type": "code",
   "execution_count": null,
   "metadata": {},
   "outputs": [],
   "source": [
    "bloem != \"iris\""
   ]
  },
  {
   "cell_type": "markdown",
   "metadata": {},
   "source": [
    "De uitdrukkingen `2 < 5`, `- 3 == getal` en `bloem != \"iris\"` zijn objecten die het type *boolean (bool)* hebben. Ze kunnen slechts één van twee waarden aannemen: `False` of `True`. <br>\n",
    "Het type boolean is een subtype van het type integer: `False` komt overeen met 0 en `True` met 1."
   ]
  },
  {
   "cell_type": "markdown",
   "metadata": {},
   "source": [
    "<div class=\"alert alert-box alert-info\">\n",
    "Een object met het type <b>bool</b> kan slechts de waarden <span style=\"background-color:whitesmoke; font-family:consolas; font-size:1em;\">False</span> en <span style=\"background-color:whitesmoke; font-family:consolas; font-size:1em;\">True</span> aannemen.\n",
    "</div>"
   ]
  },
  {
   "cell_type": "markdown",
   "metadata": {},
   "source": [
    "### Logische operatoren"
   ]
  },
  {
   "cell_type": "markdown",
   "metadata": {},
   "source": [
    "<table>\n",
    " <thead>\n",
    "     <tr>\n",
    "      <th>&nbsp;</th>  \n",
    "      <th><p align=\"center\">Wiskunde</th>\n",
    "      <th>&nbsp;</th>\n",
    "      <th><p align=\"center\">Python</th>\n",
    "      <th>&nbsp;</th>    \n",
    "  </thead>\n",
    "  <tr> <td>  <p align=\"left\">gelijk aan            <td>  <p align=\"center\">&nbsp;&nbsp;&nbsp;&nbsp;=       <td> <td> \n",
    "      <p align=\"center\">&nbsp;&nbsp;&nbsp;&nbsp; ==   <td> <p align=\"left\">&nbsp;&nbsp;&nbsp; \n",
    "  <tr> <td> <p align=\"left\">is niet gelijk aan         <td> <p align=\"center\">&nbsp;&nbsp; $\\neq$         <td> <td> \n",
    "      <p align=\"center\">&nbsp;&nbsp;&nbsp; !=         <td> <p align=\"left\">&nbsp;&nbsp;&nbsp;\n",
    "   <tr> <td> <p align=\"left\">kleiner dan          <td> <p align=\"center\">&nbsp;&nbsp;&nbsp;&nbsp; <   <td> <td> \n",
    "      <p align=\"center\">&nbsp;&nbsp;&nbsp;&nbsp; <  <td> <p align=\"left\">&nbsp;&nbsp;&nbsp;   \n",
    "   <tr> <td> <p align=\"left\">groter dan           <td> <p align=\"center\">&nbsp;&nbsp;&nbsp;&nbsp; >   <td> <td> \n",
    "      <p align=\"center\">&nbsp;&nbsp;&nbsp;&nbsp; >  <td>  <p align=\"left\">&nbsp;&nbsp;&nbsp;\n",
    "   <tr> <td> <p align=\"left\">kleiner of gelijk aan <td> <p align=\"center\">&nbsp;&nbsp;&nbsp;&nbsp; $\\leq$ <td> <td> \n",
    "      <p align=\"center\"> &nbsp;&nbsp;&nbsp;&nbsp; <= <td> <p align=\"left\">&nbsp;&nbsp;&nbsp;  \n",
    "   <tr> <td>  <p align=\"left\">groter of gelijk aan  <td> <p align=\"center\">&nbsp;&nbsp;&nbsp;&nbsp; $\\geq$ <td> <td> \n",
    "      <p align=\"center\">&nbsp;&nbsp;&nbsp;&nbsp; >=  <td>  <p align=\"left\">&nbsp;&nbsp;&nbsp;       \n",
    "        \n",
    "</table>"
   ]
  },
  {
   "cell_type": "markdown",
   "metadata": {},
   "source": [
    "<div style='color: #690027;' markdown=\"1\">\n",
    "    <h2>3. Floating-point number</h2> \n",
    "</div>"
   ]
  },
  {
   "cell_type": "markdown",
   "metadata": {},
   "source": [
    "Naast gehele getallen kan je ook decimale getallen gebruiken. <br>\n",
    "Decimale getallen hebben het type *floating-point number (float)*.<br>"
   ]
  },
  {
   "cell_type": "markdown",
   "metadata": {},
   "source": [
    "Voer volgende code-cel uit."
   ]
  },
  {
   "cell_type": "code",
   "execution_count": null,
   "metadata": {},
   "outputs": [],
   "source": [
    "getal = 8.5123\n",
    "type(getal)"
   ]
  },
  {
   "cell_type": "markdown",
   "metadata": {},
   "source": [
    "<div class=\"alert alert-box alert-info\">\n",
    "Een decimaal getal heeft het type <b>float</b>.\n",
    "</div>"
   ]
  },
  {
   "cell_type": "markdown",
   "metadata": {},
   "source": [
    "### Opdracht 3.1\n",
    "Welk type heeft het resultaat van de volgende instructies? Controleer door de instructies uit te voeren."
   ]
  },
  {
   "cell_type": "code",
   "execution_count": null,
   "metadata": {},
   "outputs": [],
   "source": [
    "9 / 3 "
   ]
  },
  {
   "cell_type": "code",
   "execution_count": null,
   "metadata": {},
   "outputs": [],
   "source": [
    "67 // 3"
   ]
  },
  {
   "cell_type": "code",
   "execution_count": null,
   "metadata": {},
   "outputs": [],
   "source": [
    "5.5 + 8.5"
   ]
  },
  {
   "cell_type": "code",
   "execution_count": null,
   "metadata": {},
   "outputs": [],
   "source": [
    "\"6\" + \"8\""
   ]
  },
  {
   "cell_type": "markdown",
   "metadata": {},
   "source": [
    "Controleer nogmaals door de volgende code-cellen uit te voeren."
   ]
  },
  {
   "cell_type": "code",
   "execution_count": null,
   "metadata": {},
   "outputs": [],
   "source": [
    "type(9 / 3) "
   ]
  },
  {
   "cell_type": "code",
   "execution_count": null,
   "metadata": {},
   "outputs": [],
   "source": [
    "type(67 // 3)"
   ]
  },
  {
   "cell_type": "code",
   "execution_count": null,
   "metadata": {},
   "outputs": [],
   "source": [
    "type(5.5 + 8.5)"
   ]
  },
  {
   "cell_type": "code",
   "execution_count": null,
   "metadata": {},
   "outputs": [],
   "source": [
    "type(\"6\" + \"8\")"
   ]
  },
  {
   "cell_type": "markdown",
   "metadata": {},
   "source": [
    "### Opdracht 3.2\n",
    "Welk type heeft `resultaat` in de volgende scripts? Controleer door de code-cellen uit te voeren."
   ]
  },
  {
   "cell_type": "code",
   "execution_count": null,
   "metadata": {},
   "outputs": [],
   "source": [
    "# script 1\n",
    "som = 5.5 + 8.5\n",
    "resultaat = int(som)\n",
    "print(resultaat)"
   ]
  },
  {
   "cell_type": "code",
   "execution_count": null,
   "metadata": {},
   "outputs": [],
   "source": [
    "type(resultaat)"
   ]
  },
  {
   "cell_type": "code",
   "execution_count": null,
   "metadata": {},
   "outputs": [],
   "source": [
    "# script 2\n",
    "som = \"6\" + \"8\"\n",
    "resultaat = int(som)\n",
    "print(resultaat)"
   ]
  },
  {
   "cell_type": "code",
   "execution_count": null,
   "metadata": {},
   "outputs": [],
   "source": [
    "type(resultaat)"
   ]
  },
  {
   "cell_type": "markdown",
   "metadata": {},
   "source": [
    "<div class=\"alert alert-block alert-warning\"> \n",
    "<span style=\"background-color:whitesmoke; font-family:consolas; font-size:1em;\"><em># script 1</em></span> is aan het script in de code-cel toegevoegd om het script te documenteren.<br> Bij het uitvoeren van de code-cel wordt alles in die regel <b>volgend</b> op de <span style=\"background-color:whitesmoke; font-family:consolas; font-size:1em;\"><em>#</em></span> genegeerd.\n",
    "<b>Commentaar</b> kan dus herkend worden aan de <span style=\"background-color:whitesmoke; font-family:consolas; font-size:1em;\"><em>#</em></span>. <br>\n",
    "Voeg steeds voldoende commentaar toe aan je code om de leesbaarheid ervan te verbeteren. \n",
    "</div>"
   ]
  },
  {
   "cell_type": "markdown",
   "metadata": {},
   "source": [
    "<div style='color: #690027;' markdown=\"1\">\n",
    "    <h2>4. Opsommingen</h2> \n",
    "</div>"
   ]
  },
  {
   "cell_type": "markdown",
   "metadata": {},
   "source": [
    "Voor opsommingen zijn er o.a. de types *list*, *tuple* en *dictionary*."
   ]
  },
  {
   "cell_type": "markdown",
   "metadata": {},
   "source": [
    "<div style='color: #690027;' markdown=\"1\">\n",
    "    <h3>4.1 List</h3> \n",
    "</div>"
   ]
  },
  {
   "cell_type": "markdown",
   "metadata": {},
   "source": [
    "Bloemplanten worden opgedeeld in monocotylen en dicotylen. <br>Bij monocotylen liggen de huidmondjes op parallelle lijnen, bij dicotylen zijn ze willekeurig verspreid (zie Figuur 1). "
   ]
  },
  {
   "cell_type": "markdown",
   "metadata": {},
   "source": [
    "<table><tr>\n",
    "<td> <img src=\"../.images/IntroductiePython/dicot.jpg\" alt=\"Banner\" style=\"width: 134px;\"/> </td>\n",
    "<td> <img src=\"../.images/IntroductiePython/monocot.jpg\" alt=\"Banner\" style=\"width: 134px;\"/> </td>\n",
    "</tr></table>\n",
    "\n",
    "<center>Figuur 1: Monocotylen en dicotylen. Aangepaste figuur uit [1].</center>"
   ]
  },
  {
   "cell_type": "markdown",
   "metadata": {},
   "source": [
    "Enkele voorbeelden van monocotylen en dicotylen worden hieronder opgesomd."
   ]
  },
  {
   "cell_type": "code",
   "execution_count": null,
   "metadata": {},
   "outputs": [],
   "source": [
    "monocotyl = [\"prei\", \"orchidee\", \"iris\", \"ananasboom\"]\n",
    "dicotyl = [\"notelaar\", \"madeliefje\", \"roos\", \"tomatenplant\", \"hibiscus\"]"
   ]
  },
  {
   "cell_type": "markdown",
   "metadata": {},
   "source": [
    "De objecten `monocotyl` en `dicotyl` hebben het type *list*. Het zijn *lijsten*. <br>Beide lijsten `monocotyl` en `dicotyl` bevatten vier *elementen*. De elementen van beide lijsten hebben het type `string`. "
   ]
  },
  {
   "cell_type": "markdown",
   "metadata": {},
   "source": [
    "Je kan zo'n lijst een beetje vergelijken met een rij in wiskunde, behalve dat een rij enkel getallen bevat. <br>De *volgorde* van de elementen van een lijst is belangrijk. Elk element heeft een bepaalde plaats, weergegeven door zijn *index*. <br>Een element kan meerdere keren voorkomen."
   ]
  },
  {
   "cell_type": "markdown",
   "metadata": {},
   "source": [
    "Het eerste element is een lijst heeft als index 0. Men begint dus te tellen vanaf 0.<br>\n",
    "Negatieve waarden hebben nochtans ook hun betekenis. Zoek zelf uit welke.<br>\n",
    "Ga na welk element telkens overeenkomt met de volgende instructies. Het getal tussen `[ ]` is de index."
   ]
  },
  {
   "cell_type": "code",
   "execution_count": null,
   "metadata": {},
   "outputs": [],
   "source": [
    "dicotyl[1]"
   ]
  },
  {
   "cell_type": "code",
   "execution_count": null,
   "metadata": {},
   "outputs": [],
   "source": [
    "dicotyl[-1]"
   ]
  },
  {
   "cell_type": "markdown",
   "metadata": {},
   "source": [
    "Het aantal elementen van een lijst kan je opvragen met de *functie* `len()`:"
   ]
  },
  {
   "cell_type": "code",
   "execution_count": null,
   "metadata": {},
   "outputs": [],
   "source": [
    "len(dicotyl)"
   ]
  },
  {
   "cell_type": "markdown",
   "metadata": {},
   "source": [
    "Je kan ook een deel van een lijst opvragen:"
   ]
  },
  {
   "cell_type": "code",
   "execution_count": null,
   "metadata": {},
   "outputs": [],
   "source": [
    "dicotyl[2:4]"
   ]
  },
  {
   "cell_type": "code",
   "execution_count": null,
   "metadata": {},
   "outputs": [],
   "source": [
    "dicotyl[:2]"
   ]
  },
  {
   "cell_type": "code",
   "execution_count": null,
   "metadata": {},
   "outputs": [],
   "source": [
    "dicotyl[2:]"
   ]
  },
  {
   "cell_type": "code",
   "execution_count": null,
   "metadata": {},
   "outputs": [],
   "source": []
  },
  {
   "cell_type": "markdown",
   "metadata": {},
   "source": [
    "<div class=\"alert alert-block alert-warning\"> \n",
    "Let erop dat je alle code-cellen uitvoert. Pas wanneer je een code-cel uitvoert, wordt de code in die cel verwerkt door de notebook. \n",
    "</div>"
   ]
  },
  {
   "cell_type": "markdown",
   "metadata": {},
   "source": [
    "### Opdracht 4.1.1\n",
    "Vraag het laatste element op uit de list `monocotyl`."
   ]
  },
  {
   "cell_type": "code",
   "execution_count": null,
   "metadata": {},
   "outputs": [],
   "source": []
  },
  {
   "cell_type": "markdown",
   "metadata": {},
   "source": [
    "Welke instructie geef je telkens in om de volgende uitvoeren te bekomen?\n",
    "-  `[\"tomatenplant\", \"prei\", \"orchidee\"]`\n",
    "-  `[\"orchidee\", \"iris\"]`\n",
    "-  `[\"orchidee\", \"iris\", \"ananasboom\"]`"
   ]
  },
  {
   "cell_type": "code",
   "execution_count": null,
   "metadata": {},
   "outputs": [],
   "source": []
  },
  {
   "cell_type": "code",
   "execution_count": null,
   "metadata": {},
   "outputs": [],
   "source": []
  },
  {
   "cell_type": "code",
   "execution_count": null,
   "metadata": {},
   "outputs": [],
   "source": []
  },
  {
   "cell_type": "markdown",
   "metadata": {},
   "source": [
    "<div style='color: #690027;' markdown=\"1\">\n",
    "    <h4>Lijsten samenvoegen</h4> \n",
    "</div>"
   ]
  },
  {
   "cell_type": "markdown",
   "metadata": {},
   "source": [
    "Op dezelfde manier als dat je strings samenvoegt, kan je ook lijsten samenvoegen."
   ]
  },
  {
   "cell_type": "code",
   "execution_count": null,
   "metadata": {},
   "outputs": [],
   "source": [
    "bloemplanten = monocotyl + dicotyl\n",
    "print(bloemplanten)"
   ]
  },
  {
   "cell_type": "markdown",
   "metadata": {},
   "source": [
    "<div style='color: #690027;' markdown=\"1\">\n",
    "    <h4>Methodes bij lijsten</h4> \n",
    "</div>"
   ]
  },
  {
   "cell_type": "markdown",
   "metadata": {},
   "source": [
    "Voer het volgende script uit. <br>Kijk goed wat de methodes `sort()`,  `remove()`, `append()` en `pop()` en de functie `len()` doen."
   ]
  },
  {
   "cell_type": "code",
   "execution_count": null,
   "metadata": {},
   "outputs": [],
   "source": [
    "getallen = [3, 7, 1, 13, 2, 4, 5, 11, 15]       # lijst van getallen\n",
    "\n",
    "# deze lijst sorteren van klein naar groot\n",
    "getallen.sort()\n",
    "print(getallen)\n",
    "\n",
    "# deze lijst omvormen tot een lijst van 7 priemgetallen\n",
    "# 1, 4 en 15 zijn geen priemgetallen\n",
    "# er zijn maar 6 priemgetallen over, voeg er nog een toe\n",
    "getallen.remove(1)\n",
    "getallen.remove(4)\n",
    "getallen.pop() \n",
    "getallen.append(17)\n",
    "print(getallen)\n",
    "\n",
    "# tellen hoeveel elementen in lijst getallen\n",
    "print(len(getallen))"
   ]
  },
  {
   "cell_type": "markdown",
   "metadata": {},
   "source": [
    "`sort()` kan je ook gebruiken om een lijst van woorden *alfabetisch* te rangschikken. <br>\n",
    "`sort()` is nl. een methode van de klasse `list`. De methode kan dus opgeroepen worden bij alle objecten die het type list hebben. "
   ]
  },
  {
   "cell_type": "markdown",
   "metadata": {},
   "source": [
    "### Opdracht 4.1.2\n",
    "Vervolledig het volgende script:\n",
    "-  sorteer de list `wetenschappers` alfabetisch; \n",
    "-  verwijder \"Turing\"; \n",
    "-  voeg er twee minder bekende wetenschappers uit de andere lijst aan toe; \n",
    "-  laat de list `wetenschappers` uitprinten;\n",
    "-  bepaal erna het aantal personen in de list `wetenschappers` en laat dat aantal afdrukken.\n",
    "\n",
    "Werk in de lege code-cel."
   ]
  },
  {
   "cell_type": "code",
   "execution_count": null,
   "metadata": {},
   "outputs": [],
   "source": [
    "wetenschappers = [\"Darwin\", \"Newton\", \"Einstein\", \"Curie\", \"Turing\", \"Planck\", \"Archimedes\"]\n",
    "minder_bekende = [\"Hypathia\", \"Germain\", \"von Humboldt\"]"
   ]
  },
  {
   "cell_type": "code",
   "execution_count": null,
   "metadata": {},
   "outputs": [],
   "source": []
  },
  {
   "cell_type": "markdown",
   "metadata": {},
   "source": [
    "<div class=\"alert alert-box alert-info\">\n",
    "Je kan lijsten samenvoegen met de +-operator. <br>\n",
    "<span style=\"background-color:whitesmoke; font-family:consolas; font-size:1em;\">`sort()`,  `remove()`, `append()`</span> en <span style=\"background-color:whitesmoke; font-family:consolas; font-size:1em;\">pop()</span> zijn <b>methodes</b> die je bij een string-object kan oproepen. Het zijn methodes van de <b>klasse</b> <span style=\"background-color:whitesmoke; font-family:consolas; font-size:1em;\">string</span>. \n",
    "<span style=\"background-color:whitesmoke; font-family:consolas; font-size:1em;\">len()</span> is een <b>functie</b>. \n",
    "</div>"
   ]
  },
  {
   "cell_type": "markdown",
   "metadata": {},
   "source": [
    "<div class=\"alert alert-block alert-warning\"> \n",
    "Je leert meer over klassen in de notebook 'Klassen'. \n",
    "</div>"
   ]
  },
  {
   "cell_type": "markdown",
   "metadata": {},
   "source": [
    "<div style='color: #690027;' markdown=\"1\">\n",
    "    <h3>4.2 Tuple</h3> \n",
    "</div>"
   ]
  },
  {
   "cell_type": "markdown",
   "metadata": {},
   "source": [
    "Een *tuple* kan je vergelijken met een n-tal in wiskunde: een koppel, een drietal.... <br>De *volgorde* van de elementen van een tuple is belangrijk. Elk element heeft een bepaalde plaats, weergegeven door zijn *index*. <br>Een element kan meerdere keren voorkomen.<br>\n",
    "Eens aangemaakt, kan een tuple *niet meer gewijzigd* worden."
   ]
  },
  {
   "cell_type": "code",
   "execution_count": null,
   "metadata": {},
   "outputs": [],
   "source": [
    "rgb = (255, 255, 255)            "
   ]
  },
  {
   "cell_type": "markdown",
   "metadata": {},
   "source": [
    "De variabele `rgb` verwijst naar het object `(255, 255, 255)` dat het type tuple heeft."
   ]
  },
  {
   "cell_type": "code",
   "execution_count": null,
   "metadata": {},
   "outputs": [],
   "source": [
    "type(rgb)"
   ]
  },
  {
   "cell_type": "markdown",
   "metadata": {},
   "source": [
    "De naam van de variabele is niet willekeurig gekozen: de RGB-code 255, 255, 255 komt overeen met de kleur 'wit'.<br>\n",
    "De RGB-code 15, 103, 63 is het donkergroen van het schooluniform van Sint-Bavohumaniora. Meer over RGB vind je in de notebook 'Tensoren'."
   ]
  },
  {
   "cell_type": "code",
   "execution_count": null,
   "metadata": {},
   "outputs": [],
   "source": [
    "rgb_bavogroen = (15, 103, 63)"
   ]
  },
  {
   "cell_type": "markdown",
   "metadata": {},
   "source": [
    "### Opdracht 4.2\n",
    "Geef een instructie om het laatste element van `rgb_bavogroen` op te vragen en voer uit."
   ]
  },
  {
   "cell_type": "code",
   "execution_count": null,
   "metadata": {},
   "outputs": [],
   "source": []
  },
  {
   "cell_type": "markdown",
   "metadata": {},
   "source": [
    "<div style='color: #690027;' markdown=\"1\">\n",
    "    <h3>4.3 Dictionary</h3> \n",
    "</div>"
   ]
  },
  {
   "cell_type": "markdown",
   "metadata": {},
   "source": [
    "In het voorbeeld hieronder vind je een object `planten` dat het type *dictionary (dict)* heeft. Het is een verzameling van elementen die tweeledig zijn; elk element bestaat uit een *sleutel* en een ¨*waarde*. <br>De volgorde van de elementen speelt geen rol. Een sleutel kan maar één keer voorkomen. <br>\n",
    "Je zou een dictionary kunnen vergelijken met een woordenboek. Je zoekt op een trefwoord. Als resultaat vind je een of meerdere verklaringen. \n",
    "Een verzameling in wiskunde wordt genoteerd met accolades. In een verzameling is de volgorde van de elementen niet van belang. Dat is ook zo voor een dictionary."
   ]
  },
  {
   "cell_type": "markdown",
   "metadata": {},
   "source": [
    "### Voorbeeld"
   ]
  },
  {
   "cell_type": "markdown",
   "metadata": {},
   "source": [
    "Planten voorzien zelf in hun voedsel door fotosynthese. Die fotosynthese verloopt echter niet bij alle planten op dezelfde manier. Naargelang het proces onderscheidt men C3-, C4- en CAM-planten. <br>De meeste planten zijn C3-planten. C4-planten zijn planten uit tropische gebieden. Bij deze planten werd het fotosynthese-proces aangepast om uitdroging tegen te gaan. Bij het proces gaat zo weinig mogelijk CO<sub>2</sub> verloren. CAM-planten zijn woestijnplanten, bij hen gebeurt de opname van CO<sub>2</sub> 's nachts als het minder warm is. "
   ]
  },
  {
   "cell_type": "markdown",
   "metadata": {},
   "source": [
    "Voer de volgende code-cellen uit."
   ]
  },
  {
   "cell_type": "code",
   "execution_count": null,
   "metadata": {},
   "outputs": [],
   "source": [
    "planten = {\n",
    "    \"appelboom\": \"C3\", \n",
    "    \"cactus\": \"CAM\",  \n",
    "    \"maïs\": \"C4\"\n",
    "    }\n",
    "print(planten)\n",
    "print(len(planten))         # len() geeft aantal elementen terug"
   ]
  },
  {
   "cell_type": "code",
   "execution_count": null,
   "metadata": {},
   "outputs": [],
   "source": [
    "type(planten)"
   ]
  },
  {
   "cell_type": "markdown",
   "metadata": {},
   "source": [
    "`\"cactus\": \"CAM\"` is het element met *sleutel (index)* `\"cactus\"` en *waarde* `\"CAM\"`."
   ]
  },
  {
   "cell_type": "code",
   "execution_count": null,
   "metadata": {},
   "outputs": [],
   "source": [
    "print(planten[\"cactus\"])"
   ]
  },
  {
   "cell_type": "markdown",
   "metadata": {},
   "source": [
    "Je kunt elementen aan `planten` toevoegen:"
   ]
  },
  {
   "cell_type": "code",
   "execution_count": null,
   "metadata": {},
   "outputs": [],
   "source": [
    "planten[\"suikerriet\"] = \"C4\"\n",
    "planten[\"sedum\"] = \"CAM\"\n",
    "planten[\"graan\"] = \"C3\""
   ]
  },
  {
   "cell_type": "code",
   "execution_count": null,
   "metadata": {},
   "outputs": [],
   "source": [
    "print(planten)"
   ]
  },
  {
   "cell_type": "code",
   "execution_count": null,
   "metadata": {},
   "outputs": [],
   "source": [
    "planten[\"roos\"] = \"C2\"\n",
    "print(planten)"
   ]
  },
  {
   "cell_type": "markdown",
   "metadata": {},
   "source": [
    "Oeps, typfout, een C2-plant bestaat helemaal niet. Gelukkig kan je deze fout rechtzetten.<br> Je kan bovendien ook elementen verwijderen uit een dictionary. Gebruik daarvoor het sleutelwoord *del*."
   ]
  },
  {
   "cell_type": "code",
   "execution_count": null,
   "metadata": {},
   "outputs": [],
   "source": [
    "planten[\"roos\"] = \"C3\"\n",
    "del planten[\"sedum\"]\n",
    "print(planten)"
   ]
  },
  {
   "cell_type": "markdown",
   "metadata": {},
   "source": [
    "Voer de volgende code-cellen uit."
   ]
  },
  {
   "cell_type": "code",
   "execution_count": null,
   "metadata": {},
   "outputs": [],
   "source": [
    "\"suikerriet\" in planten"
   ]
  },
  {
   "cell_type": "code",
   "execution_count": null,
   "metadata": {},
   "outputs": [],
   "source": [
    "\"madeliefje\" in planten"
   ]
  },
  {
   "cell_type": "markdown",
   "metadata": {},
   "source": [
    "### Opdracht 4.3\n",
    "Veel planten hebben huidmondjes aan de onderkant van hun bladeren (hypostomateus), maar sommigen hebben er aan de bovenkant (epistomateus)  of zelfs aan beide kanten (amphistomateus).<br>\n",
    "Een waterlelie is epistomateus, een populier is amphistomateus en een paardekastanje is hypostomateus.<br>\n",
    "Geef een instructie om een dictionary `plaats_stomata` te construeren met daarin deze drie voorbeelden. <br> Laat vervolgens de dictionary afdrukken."
   ]
  },
  {
   "cell_type": "code",
   "execution_count": null,
   "metadata": {},
   "outputs": [],
   "source": []
  },
  {
   "cell_type": "markdown",
   "metadata": {},
   "source": [
    "<div class=\"alert alert-box alert-info\">\n",
    "Zowel in een opsomming met het type <b>list</b> als met het type <b>tuple</b> is de volgorde belangrijk en heeft elk element een <b>index</b> overeenkomstig de positie van het element.<br> Je herkent een list aan de <span style=\"background-color:whitesmoke; font-family:consolas; font-size:1em;\">[ ]</span>.<br> Je herkent een tuple aan de <span style=\"background-color:whitesmoke; font-family:consolas; font-size:1em;\">( )</span>.<br> Bij een opsommming met het type <b>dictionary</b> is de volgorde niet van belang. Elk element bestaat uit een sleutel en een waarde.<br>Je herkent een dictionary aan de <span style=\"background-color:whitesmoke; font-family:consolas; font-size:1em;\">{ }</span> in combinatie met de <span style=\"background-color:whitesmoke; font-family:consolas; font-size:1em;\">:</span>.\n",
    "</div>"
   ]
  },
  {
   "cell_type": "markdown",
   "metadata": {},
   "source": [
    "<div style='color: #690027;' markdown=\"1\">\n",
    "    <h2>5. NoneType</h2> \n",
    "</div>"
   ]
  },
  {
   "cell_type": "markdown",
   "metadata": {},
   "source": [
    "Er is een heel bijzondere klasse `NoneType`. De enige waarde die een object van die klasse kan aannemen is `None`. None wordt gebruikt om het ontbreken van een waarde weer te geven.<br>"
   ]
  },
  {
   "cell_type": "markdown",
   "metadata": {},
   "source": [
    "<div class=\"alert alert-box alert-info\">\n",
    "De enige waarde die een object met type <b>NoneType</b> kan aannemen is <span style=\"background-color:whitesmoke; font-family:consolas; font-size:1em;\">None</span>. Een waarde ontbreekt. \n",
    "</div>"
   ]
  },
  {
   "cell_type": "markdown",
   "metadata": {},
   "source": [
    "Voer de volgende code-cel uit."
   ]
  },
  {
   "cell_type": "code",
   "execution_count": null,
   "metadata": {},
   "outputs": [],
   "source": [
    "type(None)"
   ]
  },
  {
   "cell_type": "markdown",
   "metadata": {},
   "source": [
    "<div class=\"alert alert-block alert-warning\"> \n",
    "In de notebook 'Functies' vind je een voorbeeld van het gebruik van <span style=\"background-color:whitesmoke; font-family:consolas; font-size:1em;\">None</span>.\n",
    "</div>"
   ]
  },
  {
   "cell_type": "markdown",
   "metadata": {},
   "source": [
    "<div class=\"alert alert-block alert-warning\"> \n",
    "Je kan in een notebook zelf cellen toevoegen. \n",
    "</div>"
   ]
  },
  {
   "cell_type": "markdown",
   "metadata": {},
   "source": [
    "<div class=\"alert alert-block alert-success\">Veel planten hebben huidmondjes aan de onderkant van hun bladeren (hypostomateus), maar sommigen hebben er aan de bovenkant (epistomateus) of zelfs aan beide kanten (amphistomateus).\n",
    "</div>"
   ]
  },
  {
   "cell_type": "markdown",
   "metadata": {},
   "source": [
    "<div>\n",
    "    <h2>Referentielijst</h2> \n",
    "</div>"
   ]
  },
  {
   "cell_type": "markdown",
   "metadata": {},
   "source": [
    "[1] Hepworth, C., Caine, R. S., Harrisson, L., Sloan, J., & Gray, J. E. (2018). Stomatal development: focussing on grasses. <br> &nbsp; &nbsp; &nbsp; &nbsp; Current opinion in *Plant Biology*, Vol. 41, 1-7. Gepubliceerd onder CC BY-NC-ND licentie. https://doi.org/10.1016/j.pbi.2017.07.009. "
   ]
  },
  {
   "cell_type": "markdown",
   "metadata": {},
   "source": [
    "<img src=\"../.images/cclic.png\" alt=\"Banner\" align=\"left\" style=\"width:100px;\"/><br><br>\n",
    "Notebook KIKS, zie <a href=\"http://www.aiopschool.be\">AI op School</a>, van F. wyffels & N. Gesquière is in licentie gegeven volgens een <a href=\"http://creativecommons.org/licenses/by-nc-sa/4.0/\">Creative Commons Naamsvermelding-NietCommercieel-GelijkDelen 4.0 Internationaal-licentie</a>. "
   ]
  }
 ],
 "metadata": {
  "kernelspec": {
   "display_name": "Python 3",
   "language": "python",
   "name": "python3"
  },
  "language_info": {
   "codemirror_mode": {
    "name": "ipython",
    "version": 3
   },
   "file_extension": ".py",
   "mimetype": "text/x-python",
   "name": "python",
   "nbconvert_exporter": "python",
   "pygments_lexer": "ipython3",
   "version": "3.6.4"
  }
 },
 "nbformat": 4,
 "nbformat_minor": 2
}
