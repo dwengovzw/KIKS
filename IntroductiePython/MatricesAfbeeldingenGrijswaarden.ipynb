{
 "cells": [
  {
   "cell_type": "markdown",
   "metadata": {},
   "source": [
    "<img src=\"../.images/logosnb.png\" alt=\"Banner\" style=\"width: 1100px;\"/>"
   ]
  },
  {
   "cell_type": "markdown",
   "metadata": {},
   "source": [
    "<div style='color: #690027;' markdown=\"1\">\n",
    "    <h1>MATRICES EN AFBEELDINGEN IN GRIJSWAARDEN</h1> \n",
    "</div>\n",
    "\n",
    "<div class=\"alert alert-box alert-success\">\n",
    "Deze notebook onthult hoe digitale beelden zijn opgebouwd en hoe de computer ernaar kijkt.\n",
    "</div>"
   ]
  },
  {
   "cell_type": "markdown",
   "metadata": {},
   "source": [
    "### Nodige modules importeren"
   ]
  },
  {
   "cell_type": "code",
   "execution_count": null,
   "metadata": {},
   "outputs": [],
   "source": [
    "import numpy as np\n",
    "import matplotlib.pyplot as plt"
   ]
  },
  {
   "cell_type": "markdown",
   "metadata": {},
   "source": [
    "<div style='color: #690027;' markdown=\"1\">\n",
    "    <h2>1. Pixels</h2> \n",
    "</div>"
   ]
  },
  {
   "cell_type": "markdown",
   "metadata": {},
   "source": [
    "Een digitaal beeld bestaat uit een eindig aantal *pixels*. Het woord 'pixel' is afgeleid van de Engelse woorden *picture* (afbeelding) en *element*. <br> Het woord '*digitaal*' komt van het Latijnse 'digitus' (vinger) en verwijst naar het tellen op de vingers. <br>\n",
    "Het aantal pixels in een digitaal beeld kan geteld worden. [1]\n",
    "</div>"
   ]
  },
  {
   "cell_type": "markdown",
   "metadata": {},
   "source": [
    "<table><tr>\n",
    "<td> <img src=\"../.images/IntroductiePython/IMG_1675klst.jpg\" alt=\"Banner\" style=\"width: 200px;\"/> </td>\n",
    "<td> <img src=\"../.images/IntroductiePython/IMG_1675sel.jpg\" alt=\"Banner\" style=\"width: 200px;\"/> </td>\n",
    "</tr></table>\n",
    "<center>Figuur 1: Begonia.</center> \n",
    "<center>Foto door N. Gesquière in Plantentuin UGent.</center> "
   ]
  },
  {
   "cell_type": "markdown",
   "metadata": {},
   "source": [
    "Als men inzoomt op het geselecteerde gebied, dan kan men de pixels onderscheiden."
   ]
  },
  {
   "cell_type": "markdown",
   "metadata": {},
   "source": [
    "<img src=\"../.images/IntroductiePython/begoniaZoom.PNG\" alt=\"Banner\" style=\"width: 600px;\"/>\n",
    "<center>Figuur 2: Begonia, ingezoomd.</center> "
   ]
  },
  {
   "cell_type": "markdown",
   "metadata": {},
   "source": [
    "*Een digitale afbeelding is dus een rechthoekig rooster van pixels.* <br>\n",
    "Men spreekt ook van een rasterafbeelding of een bitmap.<br> GIF, JPEG en PNG zijn bestandsformaten voor het opslaan van rasterafbeeldingen in digitale vorm.<br>\n",
    "\n",
    "Meer uitleg kan je vinden op Wikipedia. [2][3]"
   ]
  },
  {
   "cell_type": "markdown",
   "metadata": {},
   "source": [
    "Bij figuur 2 zijn er 709 kolommen en 364 rijen van pixels."
   ]
  },
  {
   "cell_type": "markdown",
   "metadata": {},
   "source": [
    "Hoeveel pixels bevat Figuur 2? Reken uit met Python."
   ]
  },
  {
   "cell_type": "code",
   "execution_count": null,
   "metadata": {},
   "outputs": [],
   "source": []
  },
  {
   "cell_type": "markdown",
   "metadata": {},
   "source": [
    "Antwoord: De afbeelding bevat .................... pixels."
   ]
  },
  {
   "cell_type": "markdown",
   "metadata": {},
   "source": [
    "<div class=\"alert alert-box alert-info\">\n",
    "<b>Een digitale afbeelding is dus een rechthoekig rooster van pixels.</b> Men spreekt ook van een rasterafbeelding of een bitmap.<br>\n",
    "Het woord '<b>pixel</b>' is afgeleid van de Engelse woorden picture (afbeelding) en element. <br> \n",
    "Het woord '<b>digitaal</b>' komt van het Latijnse 'digitus' (vinger) en verwijst naar het tellen op de vingers. <br>\n",
    "GIF, JPEG en PNG zijn <b>bestandsformaten</b> voor het opslaan van digitale afbeeldingen.<br>\n",
    "</div>"
   ]
  },
  {
   "cell_type": "markdown",
   "metadata": {},
   "source": [
    "<div style='color: #690027;' markdown=\"1\">\n",
    "    <h2>2. Kleur van een pixel</h2> \n",
    "</div>"
   ]
  },
  {
   "cell_type": "markdown",
   "metadata": {},
   "source": [
    "Van de begonia hierboven werd een deel van een bloemblad afgepeld en onder de microscoop gelegd. Daarna werd met een smartphone een foto genomen door de microscoop. Op het bloemblad waren enkele stomata te zien. <br>We bekijken een van de huidmondjes van dichterbij."
   ]
  },
  {
   "cell_type": "markdown",
   "metadata": {},
   "source": [
    "<img src=\"../.images/IntroductiePython/begonia.jpg\" alt=\"Banner\" style=\"width: 300px;\"/>\n",
    "<center>Figuur 3: Begonia met huidmondje.</center> \n",
    "<center>Foto door N. Gesquière, genomen met smartphone door microscoop, Plantentuin UGent. </center> "
   ]
  },
  {
   "cell_type": "markdown",
   "metadata": {},
   "source": [
    "*Elke pixel heeft een bepaalde kleur:*\n",
    "-  *bij een zwart-witafbeelding is een pixel zwart of wit;* \n",
    "-  *bij een grijswaardenafbeelding is dat een grijswaarde;* \n",
    "-  *bij een kleurenafbeelding is dat een kleur.*"
   ]
  },
  {
   "cell_type": "markdown",
   "metadata": {},
   "source": [
    "Voordat je in de notebook 'Tensoren en RGB' aan de slag gaat met een kleurenfoto, leer je eerst de principes a.d.h.v. een foto in grijswaarden."
   ]
  },
  {
   "cell_type": "markdown",
   "metadata": {},
   "source": [
    "<div style='color: #690027;' markdown=\"1\">\n",
    "    <h2>3. Grijswaarden</h2> \n",
    "</div>"
   ]
  },
  {
   "cell_type": "markdown",
   "metadata": {},
   "source": [
    "Bekijk de foto van de begonia (Figuur 3) in grijswaarden:"
   ]
  },
  {
   "cell_type": "code",
   "execution_count": null,
   "metadata": {},
   "outputs": [],
   "source": [
    "begonia =  np.load(\"../.images/IntroductiePython/begonia.npy\")      # bestand inladen en de naam begonia geven\n",
    "plt.imshow(begonia, vmin=0, vmax=255, cmap=\"gray\")                  # afbeelding tonen, let op de assen"
   ]
  },
  {
   "cell_type": "markdown",
   "metadata": {},
   "source": [
    "Wat bevat het bestand `begonia.npy`? <br>\n",
    "Laat het eens printen:"
   ]
  },
  {
   "cell_type": "code",
   "execution_count": null,
   "metadata": {},
   "outputs": [],
   "source": [
    "print(begonia)"
   ]
  },
  {
   "cell_type": "markdown",
   "metadata": {},
   "source": [
    "Dit is een ......................"
   ]
  },
  {
   "cell_type": "markdown",
   "metadata": {},
   "source": [
    "<div class=\"alert alert-box alert-info\">\n",
    "Grijswaarden worden door de computer voorgesteld door een natuurlijk getal tussen 0 en 255. \n",
    "<b>Hierbij komt 0 overeen met zwart en 255 met wit.</b><br>\n",
    "De waarden ertussen geven dus grijswaarden weer die stilaan lichter worden naarmate het getal stijgt.\n",
    "</div>"
   ]
  },
  {
   "cell_type": "markdown",
   "metadata": {},
   "source": [
    "<table><tr>   \n",
    "<td> <img src=\"../.images/IntroductiePython/grijswdn.png\" alt=\"Drawing\" style=\"width: 250px;\"/> </td>\n",
    "</tr></table>\n",
    "<center>Figuur 4: Grijswaarden, van 0 tot 255.</center>"
   ]
  },
  {
   "cell_type": "markdown",
   "metadata": {},
   "source": [
    "### Oefening 3.1"
   ]
  },
  {
   "cell_type": "markdown",
   "metadata": {},
   "source": [
    "In de notebook 'Datastructuur NumPy' leerde je hoe je van `begonia` het *aantal rijen en kolommen* kon laten weergeven. <br>\n",
    "Geef hieronder de juiste instructie om dat te doen en voer ze uit."
   ]
  },
  {
   "cell_type": "code",
   "execution_count": null,
   "metadata": {},
   "outputs": [],
   "source": []
  },
  {
   "cell_type": "markdown",
   "metadata": {},
   "source": [
    "Geef de instructie in die het *aantal elementen* van `begonia` teruggeeft en voer ze uit."
   ]
  },
  {
   "cell_type": "code",
   "execution_count": null,
   "metadata": {},
   "outputs": [],
   "source": []
  },
  {
   "cell_type": "markdown",
   "metadata": {},
   "source": [
    "In de notebook 'Datastructuur Numpy' leerde je ook hoe je het *type* dat de elementen hebben, kon laten weergeven. <br>\n",
    "Geef hieronder de juiste instructie om dat te doen en voer ze uit."
   ]
  },
  {
   "cell_type": "code",
   "execution_count": null,
   "metadata": {},
   "outputs": [],
   "source": []
  },
  {
   "cell_type": "markdown",
   "metadata": {},
   "source": [
    "<div class=\"alert alert-box alert-info\">\n",
    "Een afbeelding in grijswaarden kan men voorstellen met een matrix waarvan de elementen natuurlijke getallen tussen 0 en 255 zijn. <br>Men kan er dan in NumPy voor kiezen dat de elementen type <span style=\"background-color:whitesmoke; font-family:consolas; font-size:1em;\">uint8</span> (<em>8 bits-unsigned integer</em>) hebben (zie notebook 'Datastructuur NumPy'). Dan wordt voor de opslag van een element gebruikgemaakt van 8 bits, m.a.w. een byte. \n",
    "</div>"
   ]
  },
  {
   "cell_type": "markdown",
   "metadata": {},
   "source": [
    "<div class=\"alert alert-block alert-info\"> \n",
    "Een <b>bit</b> is een informatie-eenheid. De term is afkomstig van <b>binary digit</b>. Het is een eenheid die enkel de waarden 0 en 1 kan aannemen. <br>Acht bits vormen samen een <b>byte</b>. Er zijn 256 mogelijke combinaties van 0 en 1 die samen een byte vormen. \n",
    "</div>"
   ]
  },
  {
   "cell_type": "markdown",
   "metadata": {},
   "source": [
    "<div style='color: #690027;' markdown=\"1\">\n",
    "    <h2>4. Fotodeel uitknippen</h2> \n",
    "</div>"
   ]
  },
  {
   "cell_type": "markdown",
   "metadata": {},
   "source": [
    "Voer de volgende code-cellen uit."
   ]
  },
  {
   "cell_type": "code",
   "execution_count": null,
   "metadata": {},
   "outputs": [],
   "source": [
    "# isoleren van het huidmondje\n",
    "begonia_crop = begonia[50:125,125:200]                   # bepaalde rijen en kolommen kiezen      \n",
    "plt.imshow(begonia_crop, vmin=0, vmax=255, cmap=\"gray\")  # vmin en vmax geven het bereik van de waarden die de kleuren weergeven"
   ]
  },
  {
   "cell_type": "code",
   "execution_count": null,
   "metadata": {},
   "outputs": [],
   "source": [
    "print(begonia_crop)"
   ]
  },
  {
   "cell_type": "code",
   "execution_count": null,
   "metadata": {},
   "outputs": [],
   "source": [
    "# isoleren van linkerbovenhoek foto huidmondje 'begonia_crop'\n",
    "linkerbovenhoek = begonia[50:60,125:135]                \n",
    "plt.imshow(linkerbovenhoek, vmin=0, vmax=255, cmap=\"gray\")"
   ]
  },
  {
   "cell_type": "code",
   "execution_count": null,
   "metadata": {},
   "outputs": [],
   "source": [
    "print(linkerbovenhoek)"
   ]
  },
  {
   "cell_type": "markdown",
   "metadata": {},
   "source": [
    "Kijk goed naar de grootte van de waarden en de overeenkomstige lichte en donkere tinten."
   ]
  },
  {
   "cell_type": "markdown",
   "metadata": {},
   "source": [
    "### Oefening 4.1\n",
    "Isoleer het eerste vierkant van 9 pixels linksboven van `linkerbovenhoek`. Noem het `vierkant`.<br>\n",
    "Print de overeenkomstige vierkante matrix."
   ]
  },
  {
   "cell_type": "code",
   "execution_count": null,
   "metadata": {},
   "outputs": [],
   "source": []
  },
  {
   "cell_type": "code",
   "execution_count": null,
   "metadata": {},
   "outputs": [],
   "source": []
  },
  {
   "cell_type": "markdown",
   "metadata": {},
   "source": [
    "<div style='color: #690027;' markdown=\"1\">\n",
    "    <h2>5. Verdeling van de tinten</h2> \n",
    "</div>"
   ]
  },
  {
   "cell_type": "markdown",
   "metadata": {},
   "source": [
    "Voer de volgende code-cellen uit."
   ]
  },
  {
   "cell_type": "code",
   "execution_count": null,
   "metadata": {},
   "outputs": [],
   "source": [
    "# kleinste, grootste en gemiddelde grijswaarde van 'linkerbovenhoek'\n",
    "print(linkerbovenhoek.min())\n",
    "print(linkerbovenhoek.max())\n",
    "print(linkerbovenhoek.mean())"
   ]
  },
  {
   "cell_type": "code",
   "execution_count": null,
   "metadata": {},
   "outputs": [],
   "source": [
    "# verdeling grijswaarden bij 'linkerbovenhoek'\n",
    "plt.hist(linkerbovenhoek.ravel(), bins=130) # ravel zet alle elementen van de matrix naast elkaar, omdat hist met rijmatrix werkt"
   ]
  },
  {
   "cell_type": "markdown",
   "metadata": {},
   "source": [
    "Betekenis van het *histogram*:<br>\n",
    "- Er wordt gebruikgemaakt van 131 binaire getallen, het kleinste is 74 en het grootste 204.\n",
    "- Merk op dat 204-74 = 130.\n",
    "- Er worden twee rijmatrices getoond: de tweede met alle natuurlijke getallen van 74 t.e.m. 204 en de eerste met het aantal keren dat ze voorkomen.<br>Bv. de waarde 74 komt twee keer voor en de waarde 75 komt nul keer voor.\n",
    "- Er zijn meer lichte tinten dan heel donkere."
   ]
  },
  {
   "cell_type": "markdown",
   "metadata": {},
   "source": [
    "Je kan de waarden ook groeperen in intervallen:"
   ]
  },
  {
   "cell_type": "code",
   "execution_count": null,
   "metadata": {
    "scrolled": true
   },
   "outputs": [],
   "source": [
    "plt.hist(linkerbovenhoek.ravel(), bins=11)   # waarden verdelen over 11 intervallen"
   ]
  },
  {
   "cell_type": "markdown",
   "metadata": {},
   "source": [
    "### Oefening 5.1\n",
    "Welke waarde komt het meeste voor in `linkerbovenhoek`?"
   ]
  },
  {
   "cell_type": "markdown",
   "metadata": {},
   "source": [
    "### Oefening 5.2\n",
    "Maak een histogram voor de verdeling van `vierkant`. "
   ]
  },
  {
   "cell_type": "code",
   "execution_count": null,
   "metadata": {},
   "outputs": [],
   "source": []
  },
  {
   "cell_type": "markdown",
   "metadata": {},
   "source": [
    "### Oefening 5.3\n",
    "Maak een histogram voor de verdeling van de tinten bij Figuur 3. "
   ]
  },
  {
   "cell_type": "code",
   "execution_count": null,
   "metadata": {},
   "outputs": [],
   "source": []
  },
  {
   "cell_type": "markdown",
   "metadata": {},
   "source": [
    "Komt deze verdeling overeen met een normale verdeling of een scheve verdeling (scheef naar links of scheef naar rechts)?"
   ]
  },
  {
   "cell_type": "markdown",
   "metadata": {},
   "source": [
    "Antwoord: "
   ]
  },
  {
   "cell_type": "markdown",
   "metadata": {},
   "source": [
    "<div style='color: #690027;' markdown=\"1\">\n",
    "    <h2>6. Matrices</h2> \n",
    "</div>"
   ]
  },
  {
   "cell_type": "markdown",
   "metadata": {},
   "source": [
    "### Voorbeelden"
   ]
  },
  {
   "cell_type": "markdown",
   "metadata": {},
   "source": [
    "Voer de volgende code-cellen uit."
   ]
  },
  {
   "cell_type": "code",
   "execution_count": null,
   "metadata": {},
   "outputs": [],
   "source": [
    "# voorbeeld 1\n",
    "afb = np.full((15, 18), 140, dtype=\"uint8\")    # 15x18-matrix met allemaal zelfde elementen, nl. 140\n",
    "print(afb)\n",
    "plt.imshow(afb, vmin=0, vmax=255, cmap=\"gray\")  # vmin en vmax geven het bereik van de waarden die de kleuren weergeven"
   ]
  },
  {
   "cell_type": "code",
   "execution_count": null,
   "metadata": {},
   "outputs": [],
   "source": [
    "# voorbeeld 2\n",
    "afb2 = np.zeros((8, 6), dtype=\"uint8\")          # matrix met enkel nullen\n",
    "print(afb2)"
   ]
  },
  {
   "cell_type": "code",
   "execution_count": null,
   "metadata": {},
   "outputs": [],
   "source": [
    "plt.imshow(afb2, vmin=0, vmax=255, cmap=\"gray\")"
   ]
  },
  {
   "cell_type": "code",
   "execution_count": null,
   "metadata": {},
   "outputs": [],
   "source": [
    "# voorbeeld 3\n",
    "vierpixels = np.array(([50, 140], [140, 50]), dtype=\"uint8\")\n",
    "print(vierpixels)"
   ]
  },
  {
   "cell_type": "code",
   "execution_count": null,
   "metadata": {},
   "outputs": [],
   "source": [
    "plt.imshow(vierpixels, vmin=0, vmax=255, cmap=\"gray\")"
   ]
  },
  {
   "cell_type": "code",
   "execution_count": null,
   "metadata": {},
   "outputs": [],
   "source": [
    "print(vierpixels[1,1])       # element op eerste rij, eerste kolom"
   ]
  },
  {
   "cell_type": "code",
   "execution_count": null,
   "metadata": {},
   "outputs": [],
   "source": [
    "print(vierpixels.ravel())"
   ]
  },
  {
   "cell_type": "code",
   "execution_count": null,
   "metadata": {},
   "outputs": [],
   "source": [
    "# voorbeeld 4\n",
    "zespixels = np.array(([70, 160], [160, 70], [110, 190]), dtype=\"uint8\")\n",
    "print(zespixels)"
   ]
  },
  {
   "cell_type": "code",
   "execution_count": null,
   "metadata": {},
   "outputs": [],
   "source": [
    "plt.imshow(zespixels, vmin=0, vmax=255, cmap=\"gray\")"
   ]
  },
  {
   "cell_type": "code",
   "execution_count": null,
   "metadata": {},
   "outputs": [],
   "source": [
    "print(zespixels.ravel())"
   ]
  },
  {
   "cell_type": "markdown",
   "metadata": {},
   "source": [
    "### Oefening 6.1"
   ]
  },
  {
   "cell_type": "markdown",
   "metadata": {},
   "source": [
    "Maak op een gelijkaardige manier de afbeelding `twaalfpixels`, gelegen in *landscape*. <br>Maak gebruik van wit, zwart en 5 grijswaarden."
   ]
  },
  {
   "cell_type": "code",
   "execution_count": null,
   "metadata": {},
   "outputs": [],
   "source": []
  },
  {
   "cell_type": "markdown",
   "metadata": {},
   "source": [
    "<div>\n",
    "    <h2>Referentielijst</h2> \n",
    "</div>"
   ]
  },
  {
   "cell_type": "markdown",
   "metadata": {},
   "source": [
    "[1] Hautekiet, G., Roelens, M., & Dooms, A. (2016). Wiskunde achter beeldverwerking. *Uitwiskeling*. 32/4. 6-24.<br>\n",
    "[2] https://nl.wikipedia.org/wiki/Rasterafbeelding <br>\n",
    "[3] https://nl.wikipedia.org/wiki/JPEG"
   ]
  },
  {
   "cell_type": "markdown",
   "metadata": {},
   "source": [
    "<img src=\"../.images/cclic.png\" alt=\"Banner\" align=\"left\" style=\"width:100px;\"/><br><br>\n",
    "Notebook KIKS, zie <a href=\"http://www.aiopschool.be\">AI op School</a>, van F. wyffels & N. Gesquière is in licentie gegeven volgens een <a href=\"http://creativecommons.org/licenses/by-nc-sa/4.0/\">Creative Commons Naamsvermelding-NietCommercieel-GelijkDelen 4.0 Internationaal-licentie</a>."
   ]
  }
 ],
 "metadata": {
  "kernelspec": {
   "display_name": "Python 3",
   "language": "python",
   "name": "python3"
  },
  "language_info": {
   "codemirror_mode": {
    "name": "ipython",
    "version": 3
   },
   "file_extension": ".py",
   "mimetype": "text/x-python",
   "name": "python",
   "nbconvert_exporter": "python",
   "pygments_lexer": "ipython3",
   "version": "3.6.4"
  }
 },
 "nbformat": 4,
 "nbformat_minor": 2
}
