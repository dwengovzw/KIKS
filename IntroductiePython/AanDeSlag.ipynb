{
 "cells": [
  {
   "cell_type": "markdown",
   "metadata": {},
   "source": [
    "<img src=\"../.images/logosnb.png\" alt=\"Banner\" style=\"width:1100px;\"/>"
   ]
  },
  {
   "cell_type": "markdown",
   "metadata": {},
   "source": [
    "<div style='color: #690027;' markdown=\"1\">\n",
    "    <h1>AAN DE SLAG!</h1> \n",
    "</div>\n"
   ]
  },
  {
   "cell_type": "markdown",
   "metadata": {},
   "source": [
    "<div class=\"alert alert-box alert-success\">\n",
    "Python is een zeer toegankelijke, vaak intuïtieve programmeertaal. In deze notebook krijg je de syntax vast snel onder de knie.<br>\n",
    "Je leert hoe je tekst laat afdrukken op het scherm, hoe je werkt met variabelen, en hoe je input vraagt van een gebruiker.\n",
    "</div>"
   ]
  },
  {
   "cell_type": "markdown",
   "metadata": {},
   "source": [
    "<div class=\"alert alert-block alert-warning\"> \n",
    "In deze notebook zie je verschillende grijze vakken staan. Dat zijn code-cellen die Python-code bevatten. <br>\n",
    "<b>Om de code uit te voeren, klik je op zo'n grijze cel en voer je die uit met de Run-knop bovenaan in het menu. <img src=\"../.images/runknop.JPG\" alt=\"Banner\" align=\"right\" style=\"width:60px;\"/></b><br> Je kan de code in zo'n cel ook aanpassen en opnieuw uitvoeren. \n",
    "</div>"
   ]
  },
  {
   "cell_type": "markdown",
   "metadata": {},
   "source": [
    "<div style='color: #690027;' markdown=\"1\">\n",
    "    <h2>1. Hello world</h2> \n",
    "</div>"
   ]
  },
  {
   "cell_type": "markdown",
   "metadata": {},
   "source": [
    "### Voorbeelden"
   ]
  },
  {
   "cell_type": "markdown",
   "metadata": {},
   "source": [
    "Voer de volgende instructie uit. "
   ]
  },
  {
   "cell_type": "code",
   "execution_count": null,
   "metadata": {},
   "outputs": [],
   "source": [
    "print(\"Hello world\")"
   ]
  },
  {
   "cell_type": "markdown",
   "metadata": {},
   "source": [
    "`\"Hello world\"` is een *object* dat het type *string (str)* heeft en dat m.b.v. de *functie* `print()` wordt afgedrukt. <br>\n",
    "De `print()`-functie heeft `\"Hello world\"` als *argument*.   <br>Elk object heeft een *type*. <br> Je herkent een string aan de `\" \"`. <br>"
   ]
  },
  {
   "cell_type": "markdown",
   "metadata": {},
   "source": [
    "Voer nu de volgende instructie uit."
   ]
  },
  {
   "cell_type": "code",
   "execution_count": null,
   "metadata": {},
   "outputs": [],
   "source": [
    "print(\"De hoogte van een deur is\", 2, \"meter.\")"
   ]
  },
  {
   "cell_type": "markdown",
   "metadata": {},
   "source": [
    "Herken je de strings? <br>\n",
    "2 heeft een ander type. 2 is een object dat het type *integer (int)* heeft.<br> \n",
    "`print()`heeft drie argumenten die van elkaar gescheiden zijn door een komma's. In de uitvoer worden deze objecten van elkaar gescheiden door een spatie. "
   ]
  },
  {
   "cell_type": "markdown",
   "metadata": {},
   "source": [
    "<div class=\"alert alert-box alert-info\">\n",
    "Het type <b>str</b> is het datatype van een tekst.<br>\n",
    "Het type <b>int</b> is het datatype van een geheel getal.\n",
    "</div>"
   ]
  },
  {
   "cell_type": "markdown",
   "metadata": {},
   "source": [
    "### Opdracht 1.1\n",
    "Schrijf een instructie zodat volgende tekst wordt geprint: `Sint-Bavo ligt aan de mooie Reep op nummer 4 in het toffe Gent.`\n",
    "<br> Voer de instructie uit."
   ]
  },
  {
   "cell_type": "code",
   "execution_count": null,
   "metadata": {},
   "outputs": [],
   "source": []
  },
  {
   "cell_type": "markdown",
   "metadata": {},
   "source": [
    " `Sint-Bavo ligt aan de mooie Reep op nummer 4 in het toffe Gent.` noemt men de *uitvoer (output)*."
   ]
  },
  {
   "cell_type": "markdown",
   "metadata": {},
   "source": [
    "### Voorbeeld"
   ]
  },
  {
   "cell_type": "markdown",
   "metadata": {},
   "source": [
    "Voer nu de volgende code-cel uit. Deze bevat al een kort programma, in Python spreekt men van een **script**."
   ]
  },
  {
   "cell_type": "code",
   "execution_count": null,
   "metadata": {},
   "outputs": [],
   "source": [
    "leerkracht = \"mevrouw\"\n",
    "print(\"Dag\", leerkracht, \"!\")"
   ]
  },
  {
   "cell_type": "markdown",
   "metadata": {},
   "source": [
    "Let op de spaties in de afgedrukte tekst! <br>(Bij het uitroepteken is dat niet helemaal volgens de regels van de kunst.)"
   ]
  },
  {
   "cell_type": "markdown",
   "metadata": {},
   "source": [
    "<div class=\"alert alert-block alert-info\">\n",
    "<span style=\"background-color:whitesmoke; font-family:consolas; font-size:1em;\">leerkracht</span> is een <b>variabele</b> die verwijst naar het <b>object</b> <span style=\"background-color:whitesmoke; font-family:consolas; font-size:1em;\">\"mevrouw\"</span>. <br>Het <b>object</b> <span style=\"background-color:whitesmoke; font-family:consolas; font-size:1em;\">\"mevrouw\"</span> heeft het type string.\n",
    "</div>"
   ]
  },
  {
   "cell_type": "markdown",
   "metadata": {},
   "source": [
    "### Opdracht 1.2\n",
    "Vul het volgende script aan, zodat dezelfde boodschap als in opdracht 1.1 verschijnt. Voer uit."
   ]
  },
  {
   "cell_type": "code",
   "execution_count": null,
   "metadata": {},
   "outputs": [],
   "source": [
    "deel1 = \"Sint-Bavo ligt aan de mooie Reep op nummer\"\n",
    "deel2 = \"in het toffe Gent.\""
   ]
  },
  {
   "cell_type": "markdown",
   "metadata": {},
   "source": [
    "<div style='color: #690027;' markdown=\"1\">\n",
    "    <h2>2. Strings samenvoegen</h2> \n",
    "</div>"
   ]
  },
  {
   "cell_type": "markdown",
   "metadata": {},
   "source": [
    "In Python kan je natuurlijk getallen optellen, maar verrassend genoeg kan je de +-*operator* ook gebruiken om strings samen te voegen. "
   ]
  },
  {
   "cell_type": "markdown",
   "metadata": {},
   "source": [
    "Voer de volgende code-cel uit. "
   ]
  },
  {
   "cell_type": "code",
   "execution_count": null,
   "metadata": {},
   "outputs": [],
   "source": [
    "deel1 = \"huid\"\n",
    "deel2 = \"mondje\"\n",
    "woord = deel1 + deel2\n",
    "print(woord)"
   ]
  },
  {
   "cell_type": "markdown",
   "metadata": {},
   "source": [
    "Zoals je ziet worden er bij het samenvoegen van strings geen spaties toegevoegd tussen de strings."
   ]
  },
  {
   "cell_type": "markdown",
   "metadata": {},
   "source": [
    "In dit script worden drie variabelen gebruikt. Ze verwijzen alle drie naar een object dat het type string heeft."
   ]
  },
  {
   "cell_type": "markdown",
   "metadata": {},
   "source": [
    "### Opdracht 2.1"
   ]
  },
  {
   "cell_type": "markdown",
   "metadata": {},
   "source": [
    "De uitvoer van de volgende code-cel bevat een spatie teveel. Pas de code aan zodat je wél een mooie output krijgt. Voer uit."
   ]
  },
  {
   "cell_type": "code",
   "execution_count": null,
   "metadata": {},
   "outputs": [],
   "source": [
    "leerkracht = \"mevrouw\"\n",
    "print(\"Dag\", leerkracht, \"!\")"
   ]
  },
  {
   "cell_type": "markdown",
   "metadata": {},
   "source": [
    "### Opdracht 2.2\n",
    "Voer het volgende script uit. "
   ]
  },
  {
   "cell_type": "code",
   "execution_count": null,
   "metadata": {},
   "outputs": [],
   "source": [
    "deel1 = \"KA Etterbeek is een school\"\n",
    "deel2 = \"van het gemeenschapsonderwijs.\"\n",
    "zin = deel1 + deel2\n",
    "print(zin)"
   ]
  },
  {
   "cell_type": "markdown",
   "metadata": {},
   "source": [
    "Pas de code aan waar nodig!"
   ]
  },
  {
   "cell_type": "markdown",
   "metadata": {},
   "source": [
    "<div class=\"alert alert-block alert-info\">\n",
    "Bij het samenvoegen van strings met de +-operator, ontstaat een nieuwe string. De strings die samengevoegd zijn, worden niet van elkaar gescheiden in deze nieuwe string. \n",
    "</div>"
   ]
  },
  {
   "cell_type": "markdown",
   "metadata": {},
   "source": [
    "### Opdracht 2.3\n",
    "De code in de volgende code-cel staat niet in de juiste *volgorde*. Er zijn ook enkele typfoutjes.<br> Pas de code aan en voer het script uit. "
   ]
  },
  {
   "cell_type": "code",
   "execution_count": null,
   "metadata": {},
   "outputs": [],
   "source": [
    "deel1 = \"Kunstmatige intelligentie, \"\n",
    "project = deel1 + deel2 + deel3 + deel4\n",
    "print(project)\n",
    "deel2 = \": KIKS.\"\n",
    "deel3 : \"Stomata\"\n",
    "deel4 = \"Klimaatverandering,\""
   ]
  },
  {
   "cell_type": "markdown",
   "metadata": {},
   "source": [
    "<div class=\"alert alert-block alert-info\">\n",
    "Een <b>algoritme</b> is een reeks instructies die, als ze in de juiste volgorde worden uitgevoerd, steeds een bepaald, gewenst resultaat opleveren. <br>De opeenvolging van de instructies noemt men de <b>sequentie</b>. <br>\n",
    "Hierbij is de volgorde essentieel. Bij een foute volgorde zal het algoritme immers niet de gewenste uitkomst leveren. \n",
    "</div>"
   ]
  },
  {
   "cell_type": "markdown",
   "metadata": {},
   "source": [
    "<div style='color: #690027;' markdown=\"1\">\n",
    "    <h2>3. Input van de gebruiker</h2> \n",
    "</div>"
   ]
  },
  {
   "cell_type": "markdown",
   "metadata": {},
   "source": [
    "Je kan m.b.v. de functie `input()` informatie opvragen bij de gebruiker.<br> Bij uitvoer van deze funtcie, verschijnt een *prompt* op het scherm. Je kan dan iets intypen. Door vervolgens op 'Enter' te drukken, heb je een object ingevoerd.<br>\n",
    "Belangrijk: je *invoer (input)* wordt door Python opgeslagen als een *string*. <br>"
   ]
  },
  {
   "cell_type": "markdown",
   "metadata": {},
   "source": [
    "Bekijk de volgende code-cel. Bij uitvoer van de instructie, verschijnt `\"Jij heet: \" ` op het scherm. Dit is de *prompt*. <br>Je typt iets in en drukt op 'Enter'.<br> De variabele `naam` verwijst dan naar het object dat je net hebt ingevoerd.\n",
    "De variabele `naam` verwijst dus naar een object dat het type string heeft."
   ]
  },
  {
   "cell_type": "markdown",
   "metadata": {},
   "source": [
    "Voer de  instructie uit:"
   ]
  },
  {
   "cell_type": "code",
   "execution_count": null,
   "metadata": {},
   "outputs": [],
   "source": [
    "naam = input(\"Jij heet: \")"
   ]
  },
  {
   "cell_type": "markdown",
   "metadata": {},
   "source": [
    "In de volgende code-cel uit wordt een vraag gesteld. Als antwoord op deze vraag verwacht je een getal. <br> \n",
    "De variabele `schoenmaat_string` verwijst echter naar een object dat het type *string* heeft. De instructie `int(schoenmaat_string)` *zet* deze string *om naar een integer*. Dat heet *typecasting*.<br> De nieuwe variabele `schoenmaat` verwijst dus naar een object dat het type *integer* heeft. <br>\n",
    "Voer de code-cel uit en bekijk het resultaat."
   ]
  },
  {
   "cell_type": "code",
   "execution_count": null,
   "metadata": {},
   "outputs": [],
   "source": [
    "schoenmaat_string = input(\"Jouw schoenmaat is: \")\n",
    "schoenmaat = int(schoenmaat_string)\n",
    "print(\"Dag \" + naam + \"! Jouw schoenmaat is groter dan\", schoenmaat-5, \"en kleiner dan die van tante Sidonia.\")"
   ]
  },
  {
   "cell_type": "markdown",
   "metadata": {},
   "source": [
    "Merk op dat in de vorige code-cel de functie `print()` drie argumenten heeft, in de uitvoer gescheiden door een spatie.<br>"
   ]
  },
  {
   "cell_type": "markdown",
   "metadata": {},
   "source": [
    "Je kan hetzelfde resultaat ook bekomen op een korter manier.<br>\n",
    "Voer de code-cel uit en bekijk het resultaat."
   ]
  },
  {
   "cell_type": "code",
   "execution_count": null,
   "metadata": {},
   "outputs": [],
   "source": [
    "lengte = int(input(\"Jouw lengte in centimeter is: \"))\n",
    "print(\"Jij bent\", lengte/100, \"meter groot.\")"
   ]
  },
  {
   "cell_type": "markdown",
   "metadata": {},
   "source": [
    "De variabele `lengte` verwijst naar een object dat het type integer heeft.<br><br>\n",
    "Gebruik in het vervolg de korte methode!"
   ]
  },
  {
   "cell_type": "markdown",
   "metadata": {},
   "source": [
    "### Opdracht 3.1\n",
    "Schrijf een script dat het volgende doet:\n",
    "-  Vraag de gebruiker naar  zijn huisnummer en de kleur van zijn ogen.\n",
    "-  Laat vervolgens een zin uitprinten: `Je woont op nummer ... en de kleur van jouw ogen is ... . `\n",
    "-  Controleer door het script uit te voeren. Pas het zo nodig aan."
   ]
  },
  {
   "cell_type": "code",
   "execution_count": null,
   "metadata": {},
   "outputs": [],
   "source": []
  },
  {
   "cell_type": "markdown",
   "metadata": {},
   "source": [
    "### Opdracht 3.2\n",
    "Voer het volgende script uit. "
   ]
  },
  {
   "cell_type": "code",
   "execution_count": null,
   "metadata": {},
   "outputs": [],
   "source": [
    "print(\"De postcode van Gent is 9000.\")\n",
    "deel1 = \"De postcode van Etterbeek is\"\n",
    "deel2 = 1040\n",
    "print(zin)\n",
    "zin = deel1 + deel2"
   ]
  },
  {
   "cell_type": "markdown",
   "metadata": {},
   "source": [
    "Hier is iets niet helemaal pluis. <br>\n",
    "Pas de code aan!"
   ]
  },
  {
   "cell_type": "markdown",
   "metadata": {},
   "source": [
    "<div class=\"alert alert-block alert-info\">\n",
    "Met de <span style=\"background-color:whitesmoke; font-family:consolas; font-size:1em;\"><b>input()</b></span>-functie kan informatie gevraagd worden aan de gebruiker. De <b>invoer</b> wordt door Python opgeslagen als een <b>string</b>.  \n",
    "</div>"
   ]
  },
  {
   "cell_type": "markdown",
   "metadata": {},
   "source": [
    "<div class=\"alert alert-block alert-info\">\n",
    "Een type expliciet omzetten naar een ander type, noemt men <b>typecasting</b>. Met de functie <span style=\"background-color:whitesmoke; font-family:consolas; font-size:1em;\"><b>int()</b></span> wordt er omgezet naar het type integer en met de functie <span style=\"background-color:whitesmoke; font-family:consolas; font-size:1em;\"><b>str()</b></span> wordt er omgezet naar het type string. \n",
    "</div>"
   ]
  },
  {
   "cell_type": "markdown",
   "metadata": {},
   "source": [
    "<div class=\"alert alert-block alert-warning\"> \n",
    "Je leert meer over de types in de notebook 'Datastructuur'.\n",
    "</div>"
   ]
  },
  {
   "cell_type": "markdown",
   "metadata": {},
   "source": [
    "<div class=\"alert alert-block alert-warning\"> \n",
    "Besteed voldoende aandacht aan je programmeerstijl. Een verzorgde <b>programmeerstijl</b> bevordert de leesbaarheid van een programma, voor jezelf en ook voor anderen. <br>Je kan alvast letten op het gebruik van spaties en een eenvormige naamkeuze voor variabelen. <br><br>\n",
    "In  de volgende notebooks zal het gebruik van commentaar opvallen. Commentaar is tekst die wordt toegevoegd aan de code en die het de lezer gemakkelijker maakt de code te begrijpen. Bij de uitvoer van de code wordt de commentaar overgeslagen; deze wordt dus niet uitgevoerd.\n",
    "</div>"
   ]
  },
  {
   "cell_type": "markdown",
   "metadata": {},
   "source": [
    "<img src=\"../.images/cclic.png\" alt=\"Banner\" align=\"left\" style=\"width:100px;\"/><br><br>\n",
    "Notebook KIKS, zie <a href=\"http://www.aiopschool.be\">AI op School</a>, van F. wyffels & N. Gesquière is in licentie gegeven volgens een <a href=\"http://creativecommons.org/licenses/by-nc-sa/4.0/\">Creative Commons Naamsvermelding-NietCommercieel-GelijkDelen 4.0 Internationaal-licentie</a>. "
   ]
  }
 ],
 "metadata": {
  "kernelspec": {
   "display_name": "Python 3",
   "language": "python",
   "name": "python3"
  },
  "language_info": {
   "codemirror_mode": {
    "name": "ipython",
    "version": 3
   },
   "file_extension": ".py",
   "mimetype": "text/x-python",
   "name": "python",
   "nbconvert_exporter": "python",
   "pygments_lexer": "ipython3",
   "version": "3.6.4"
  }
 },
 "nbformat": 4,
 "nbformat_minor": 2
}
