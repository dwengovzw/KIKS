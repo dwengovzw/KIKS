{
 "cells": [
  {
   "cell_type": "markdown",
   "metadata": {},
   "source": [
    "<img src=\"../.images/KIKSteam2.png\" alt=\"Banner\" style=\"width: 800px;\"/>"
   ]
  },
  {
   "cell_type": "markdown",
   "metadata": {},
   "source": [
    "<div style='color: #690027;' markdown=\"1\">\n",
    "    <h1>AAN DE SLAG!</h1> \n",
    "</div>\n"
   ]
  },
  {
   "cell_type": "markdown",
   "metadata": {},
   "source": [
    "<div class=\"alert alert-box alert-success\">\n",
    "Python is een zeer toegankelijke, vaak intuïtieve programmeertaal. In deze notebook krijg je de syntax vast snel onder de knie.<br>\n",
    "Je leert hoe je tekst laat afdrukken op het scherm, hoe je met een variabele refereert naar een object, hoe je input vraagt van een gebruiker.\n",
    "</div>"
   ]
  },
  {
   "cell_type": "markdown",
   "metadata": {},
   "source": [
    "<div class=\"alert alert-block alert-info\"> \n",
    "In deze notebook zie je verschillende grijze vakken staan. Dat zijn code-cellen die Python-code bevatten. <br>\n",
    "<b>Om de code uit te voeren, klik je op zo'n grijze cel en voer je die uit met de Run-knop bovenaan in het menu. </b><br> Je kan de code in zo'n cel ook aanpassen en opnieuw uitvoeren. \n",
    "</div>"
   ]
  },
  {
   "cell_type": "markdown",
   "metadata": {},
   "source": [
    "<div style='color: #690027;' markdown=\"1\">\n",
    "    <h2>1. Hello world</h2> \n",
    "</div>"
   ]
  },
  {
   "cell_type": "markdown",
   "metadata": {},
   "source": [
    "### Voorbeelden"
   ]
  },
  {
   "cell_type": "markdown",
   "metadata": {},
   "source": [
    "Voer de volgende instructie uit. "
   ]
  },
  {
   "cell_type": "code",
   "execution_count": null,
   "metadata": {},
   "outputs": [],
   "source": [
    "print(\"Hello world\")"
   ]
  },
  {
   "cell_type": "markdown",
   "metadata": {},
   "source": [
    "`\"Hello world\"` is een *object* die het type *string* heeft en die m.b.v de *functie* `print()` wordt afgedrukt. <br>String is een *datatype*. <br> Je herkent een string aan de `\" \"`. <br>"
   ]
  },
  {
   "cell_type": "markdown",
   "metadata": {},
   "source": [
    "Voer nu de volgende instructie uit."
   ]
  },
  {
   "cell_type": "code",
   "execution_count": null,
   "metadata": {},
   "outputs": [],
   "source": [
    "print(\"De hoogte van een deur is\", 2, \"meter.\")"
   ]
  },
  {
   "cell_type": "markdown",
   "metadata": {},
   "source": [
    "Herken je de strings? <br>\n",
    "2 heeft een ander datatype. 2 is object en heeft datatype *int*. "
   ]
  },
  {
   "cell_type": "markdown",
   "metadata": {},
   "source": [
    "<div class=\"alert alert-box alert-info\">\n",
    "Het datatype <b>string</b> is het datatype van een tekst.<br>\n",
    "Het datatype <b>int</b> is het datatype van een geheel getal.\n",
    "</div>"
   ]
  },
  {
   "cell_type": "markdown",
   "metadata": {},
   "source": [
    "### Opdracht 1.1\n",
    "Schrijf een instructie zodat volgende tekst wordt geprint: `Sint-Bavo ligt aan de mooie Reep op nummer 4 in het toffe Gent.`\n",
    "<br> Voer de code uit."
   ]
  },
  {
   "cell_type": "code",
   "execution_count": null,
   "metadata": {},
   "outputs": [],
   "source": []
  },
  {
   "cell_type": "markdown",
   "metadata": {},
   "source": [
    " `Sint-Bavo ligt aan de mooie Reep op nummer 4 in het toffe Gent.` noemt men de *uitvoer (output)*."
   ]
  },
  {
   "cell_type": "markdown",
   "metadata": {},
   "source": [
    "### Voorbeeld"
   ]
  },
  {
   "cell_type": "markdown",
   "metadata": {},
   "source": [
    "Voer nu de volgende code-cel uit. Deze bevat al een kort programma, in Python spreekt men van een **script**."
   ]
  },
  {
   "cell_type": "code",
   "execution_count": null,
   "metadata": {},
   "outputs": [],
   "source": [
    "leerkracht = \"mevrouw\"\n",
    "print(\"Dag\", leerkracht, \"!\")"
   ]
  },
  {
   "cell_type": "markdown",
   "metadata": {},
   "source": [
    "Let op de spaties in de afgedrukte tekst! <br>(Bij het uitroepingsteken niet helemaal volgens de regels van de kunst.)"
   ]
  },
  {
   "cell_type": "markdown",
   "metadata": {},
   "source": [
    "<div class=\"alert alert-block alert-info\">\n",
    "`leerkracht` is een <b>variabele</b> met als datatype string.<br>\n",
    "`leerkracht` **verwijst** naar het **object** `\"mevrouw\"`.\n",
    "</div>"
   ]
  },
  {
   "cell_type": "markdown",
   "metadata": {},
   "source": [
    "### Opdracht 1.2\n",
    "Vul het volgende script aan, zodat dezelfde boodschap als in opdracht 1.1 verschijnt. Voer uit."
   ]
  },
  {
   "cell_type": "code",
   "execution_count": null,
   "metadata": {},
   "outputs": [],
   "source": [
    "deel1 = \"Sint-Bavo ligt aan de mooie Reep op nummer\"\n",
    "deel2 = \"in het toffe Gent.\""
   ]
  },
  {
   "cell_type": "markdown",
   "metadata": {},
   "source": [
    "<div style='color: #690027;' markdown=\"1\">\n",
    "    <h2>2. Strings optellen</h2> \n",
    "</div>"
   ]
  },
  {
   "cell_type": "markdown",
   "metadata": {},
   "source": [
    "In Python kan je natuurlijk getallen optellen, maar verrassend genoeg ook strings. "
   ]
  },
  {
   "cell_type": "markdown",
   "metadata": {},
   "source": [
    "Voer de volgende code-cel uit. "
   ]
  },
  {
   "cell_type": "code",
   "execution_count": null,
   "metadata": {},
   "outputs": [],
   "source": [
    "deel1 = \"huid\"\n",
    "deel2 = \"mondje\"\n",
    "woord = deel1 + deel2\n",
    "print(woord)"
   ]
  },
  {
   "cell_type": "markdown",
   "metadata": {},
   "source": [
    "Er zijn geen spaties in de afgedrukte tekst! "
   ]
  },
  {
   "cell_type": "markdown",
   "metadata": {},
   "source": [
    "### Opdracht 2.1"
   ]
  },
  {
   "cell_type": "markdown",
   "metadata": {},
   "source": [
    "Pas de volgende code-cel aan, zodat je wél een mooie output krijgt. Voer uit."
   ]
  },
  {
   "cell_type": "code",
   "execution_count": null,
   "metadata": {},
   "outputs": [],
   "source": [
    "leerkracht = \"mevrouw\"\n",
    "print(\"Dag\", leerkracht, \"!\")"
   ]
  },
  {
   "cell_type": "markdown",
   "metadata": {},
   "source": [
    "### Opdracht 2.2\n",
    "Voer het volgende script uit. "
   ]
  },
  {
   "cell_type": "code",
   "execution_count": null,
   "metadata": {},
   "outputs": [],
   "source": [
    "deel1 = \"KA Etterbeek is een school\"\n",
    "deel2 = \"van het gemeenschapsonderwijs.\"\n",
    "zin = deel1 + deel2\n",
    "print(zin)"
   ]
  },
  {
   "cell_type": "markdown",
   "metadata": {},
   "source": [
    "Hier is iets niet helemaal pluis. <br>\n",
    "Pas de code aan!"
   ]
  },
  {
   "cell_type": "markdown",
   "metadata": {},
   "source": [
    "### Opdracht 2.3\n",
    "De code in de volgende code-cel staat niet in de juiste *volgorde*. Er zijn ook enkele typfoutjes.<br> Pas de code aan en voer het script uit. "
   ]
  },
  {
   "cell_type": "code",
   "execution_count": null,
   "metadata": {},
   "outputs": [],
   "source": [
    "deel1 = \"Kunstmatige intelligentie, \"\n",
    "project = deel1 + deel2 + deel3 + deel4\n",
    "print(project)\n",
    "deel2 = \": KIKS.\"\n",
    "deel3 : \"Stomata\"\n",
    "deel4 = \"Klimaatverandering,\""
   ]
  },
  {
   "cell_type": "markdown",
   "metadata": {},
   "source": [
    "<div class=\"alert alert-block alert-info\">\n",
    "Een <b>algoritme</b> is een reeks instructies die, als ze in de juiste volgorde worden uitgevoerd, steeds een bepaald, gewenst resultaat opleveren. <br>De volgorde van de instructies, de <b>sequentie</b>, is hierbij essentieel.\n",
    "</div>"
   ]
  },
  {
   "cell_type": "markdown",
   "metadata": {},
   "source": [
    "<div style='color: #690027;' markdown=\"1\">\n",
    "    <h2>3. Input van de gebruiker</h2> \n",
    "</div>"
   ]
  },
  {
   "cell_type": "markdown",
   "metadata": {},
   "source": [
    "Je kan m.b.v. de functie `input()` informatie opvragen bij de gebruiker.<br> Bij uitvoer van de volgende instructie, verschijnt een *prompt*. Je kan dan iets intypen en op 'Enter' drukken. Je hebt dan iets ingevoerd.<br> Belangrijk: de *invoer (input)* wordt door Python beschouwd als een *string*. "
   ]
  },
  {
   "cell_type": "markdown",
   "metadata": {},
   "source": [
    "Voer de volgende instructie uit."
   ]
  },
  {
   "cell_type": "code",
   "execution_count": null,
   "metadata": {},
   "outputs": [],
   "source": [
    "naam = input(\"Jij heet: \")"
   ]
  },
  {
   "cell_type": "markdown",
   "metadata": {},
   "source": [
    "In de volgende code-cel uit wordt een vraag gesteld, waarop het antwoord echter een getal zou moeten zijn. <br> \n",
    "De instructie `int(schoenmaat_string)` zet het antwoord, standaard beschouwd als een string, om naar een int. Dat heet *typecasting*.<br>\n",
    "Voer de code-cel uit en bekijk het resultaat."
   ]
  },
  {
   "cell_type": "code",
   "execution_count": null,
   "metadata": {},
   "outputs": [],
   "source": [
    "schoenmaat_string = input(\"Jouw schoenmaat is: \")\n",
    "schoenmaat = int(schoenmaat_string)\n",
    "print(\"Dag\", naam, \"! Jouw schoenmaat is groter dan\", schoenmaat-5, \"en kleiner dan die van tante Sidonia.\")"
   ]
  },
  {
   "cell_type": "markdown",
   "metadata": {},
   "source": [
    "Het kan ook korter!<br>\n",
    "Voer de code-cel uit en bekijk het resultaat."
   ]
  },
  {
   "cell_type": "code",
   "execution_count": null,
   "metadata": {},
   "outputs": [],
   "source": [
    "lengte = int(input(\"Jouw lengte in centimeter is:\"))\n",
    "print(\"Jij bent\", lengte/100, \"meter groot.\")"
   ]
  },
  {
   "cell_type": "markdown",
   "metadata": {},
   "source": [
    "Gebruik in het vervolg de korte methode!\n",
    "Merk op dat bij de komma's ook spaties afgedrukt worden!"
   ]
  },
  {
   "cell_type": "markdown",
   "metadata": {},
   "source": [
    "<div class=\"alert alert-block alert-info\">\n",
    "Een <em>datatype expliciet omzetten</em> naar een ander datatype, noemt men **typecasting**.\n",
    "</div>"
   ]
  },
  {
   "cell_type": "markdown",
   "metadata": {},
   "source": [
    "### Opdracht 3.1\n",
    "Schrijf een script:<br>\n",
    "Vraag de gebruiker naar  zijn huisnummer en de kleur van zijn ogen.<br> \n",
    "Laat vervolgens een zin uitprinten: `Je woont op nummer ... en de kleur van jouw ogen is ... . `<br> <br>\n",
    "Controleer door het script uit te voeren. Pas het eventueel aan."
   ]
  },
  {
   "cell_type": "code",
   "execution_count": null,
   "metadata": {},
   "outputs": [],
   "source": []
  },
  {
   "cell_type": "markdown",
   "metadata": {},
   "source": [
    "### Opdracht 3.2\n",
    "Voer het volgende script uit. "
   ]
  },
  {
   "cell_type": "code",
   "execution_count": null,
   "metadata": {},
   "outputs": [],
   "source": [
    "print(\"De postcode van Gent is 9000.\")\n",
    "deel1 = \"De postcode van Etterbeek is\"\n",
    "deel2 = 1040\n",
    "print(zin)\n",
    "zin = deel1 + deel2"
   ]
  },
  {
   "cell_type": "markdown",
   "metadata": {},
   "source": [
    "Hier is iets niet helemaal pluis. <br>\n",
    "Pas de code aan!"
   ]
  }
 ],
 "metadata": {
  "kernelspec": {
   "display_name": "Python 3",
   "language": "python",
   "name": "python3"
  },
  "language_info": {
   "codemirror_mode": {
    "name": "ipython",
    "version": 3
   },
   "file_extension": ".py",
   "mimetype": "text/x-python",
   "name": "python",
   "nbconvert_exporter": "python",
   "pygments_lexer": "ipython3",
   "version": "3.6.4"
  }
 },
 "nbformat": 4,
 "nbformat_minor": 2
}
