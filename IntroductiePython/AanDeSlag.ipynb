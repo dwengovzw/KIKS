{
 "cells": [
  {
   "cell_type": "markdown",
   "metadata": {},
   "source": [
    "<img src=\"../.images/KIKSteam.png\" alt=\"Banner\" style=\"width: 800px;\"/>"
   ]
  },
  {
   "cell_type": "markdown",
   "metadata": {},
   "source": [
    "# KIKS"
   ]
  },
  {
   "cell_type": "markdown",
   "metadata": {},
   "source": [
    "<div style='color: #690027;' markdown=\"1\">\n",
    "    <h1>AAN DE SLAG!</h1> \n",
    "</div>\n"
   ]
  },
  {
   "cell_type": "markdown",
   "metadata": {},
   "source": [
    "<div style='color: #690027;' markdown=\"1\">\n",
    "    <h2>1. Hello world</h2> \n",
    "</div>"
   ]
  },
  {
   "cell_type": "markdown",
   "metadata": {},
   "source": [
    "Voer de volgende code-cel uit."
   ]
  },
  {
   "cell_type": "code",
   "execution_count": null,
   "metadata": {},
   "outputs": [],
   "source": [
    "print(\"Hello world\")"
   ]
  },
  {
   "cell_type": "markdown",
   "metadata": {},
   "source": [
    "\"Hello world\" is een string en wordt afgedrukt. <br>String is een datatype. <br> Je herkent een string aan de `\" \"`. <br>"
   ]
  },
  {
   "cell_type": "markdown",
   "metadata": {},
   "source": [
    "Voer nu de volgende code-cel uit."
   ]
  },
  {
   "cell_type": "code",
   "execution_count": null,
   "metadata": {},
   "outputs": [],
   "source": [
    "print(\"De hoogte van een deur is\", 2, \"meter.\")"
   ]
  },
  {
   "cell_type": "markdown",
   "metadata": {},
   "source": [
    "Herken je de strings? <br>\n",
    "2 heeft een ander datatype. 2 is een int."
   ]
  },
  {
   "cell_type": "markdown",
   "metadata": {},
   "source": [
    "### Opdracht 1.1\n",
    "Schrijf een script zodat volgende tekst wordt geprint: `Sint-Bavo ligt aan de mooie Reep op nummer 4 in het toffe Gent.`\n",
    "<br> Voer de code uit."
   ]
  },
  {
   "cell_type": "code",
   "execution_count": null,
   "metadata": {},
   "outputs": [],
   "source": []
  },
  {
   "cell_type": "markdown",
   "metadata": {},
   "source": [
    "Voer nu de volgende code-cel uit."
   ]
  },
  {
   "cell_type": "code",
   "execution_count": null,
   "metadata": {},
   "outputs": [],
   "source": [
    "leerkracht = \"mevrouw\"\n",
    "print(\"Dag\", leerkracht, \"!\")"
   ]
  },
  {
   "cell_type": "markdown",
   "metadata": {},
   "source": [
    "### Opdracht 1.2\n",
    "Vul het volgende script aan, zodat dezelfde boodschap als in opdracht 1.1 verschijnt."
   ]
  },
  {
   "cell_type": "code",
   "execution_count": null,
   "metadata": {},
   "outputs": [],
   "source": [
    "deel1 = \"Sint-Bavo ligt aan de mooie Reep op nummer\"\n",
    "deel2 = \"in het toffe Gent.\""
   ]
  },
  {
   "cell_type": "markdown",
   "metadata": {},
   "source": [
    "<div style='color: #690027;' markdown=\"1\">\n",
    "    <h2>2. Input van de gebruiker</h2> \n",
    "</div>"
   ]
  },
  {
   "cell_type": "markdown",
   "metadata": {},
   "source": [
    "Je kan via een script informatie opvragen bij de gebruiker. De invoer wordt door Python gelezen als een string."
   ]
  },
  {
   "cell_type": "markdown",
   "metadata": {},
   "source": [
    "Voer nu de volgende code-cel uit."
   ]
  },
  {
   "cell_type": "code",
   "execution_count": null,
   "metadata": {},
   "outputs": [],
   "source": [
    "naam = input(\"Jij heet: \")\n",
    "schoenmaat_string = input(\"Jouw schoenmaat is: \")\n",
    "schoenmaat= int(schoenmaat_string)\n",
    "print(\"Dag\", naam, \"! Jouw schoenmaat is groter dan\", schoenmaat-5, \"en kleiner dan die van tante Sidonia.\")"
   ]
  },
  {
   "cell_type": "markdown",
   "metadata": {},
   "source": [
    "De instructie `int(schoenmaat_string)` zet de string om naar een int. Dat heet *typecasting*."
   ]
  },
  {
   "cell_type": "markdown",
   "metadata": {},
   "source": [
    "Het kan ook korter!"
   ]
  },
  {
   "cell_type": "code",
   "execution_count": null,
   "metadata": {},
   "outputs": [],
   "source": [
    "lengte = int(input(\"Jouw lengte in centimeter is:\"))\n",
    "print(\"Jij bent\", lengte/100, \"meter groot.\")"
   ]
  },
  {
   "cell_type": "markdown",
   "metadata": {},
   "source": [
    "Gebruik in het vervolg de korte methode!\n",
    "Merk op dat bij de komma's ook spaties afgedrukt worden!"
   ]
  },
  {
   "cell_type": "markdown",
   "metadata": {},
   "source": [
    "### Opdracht\n",
    "Schrijf een script:<br>\n",
    "Vraag de gebruiker naar  zijn huisnummer en de kleur van zijn ogen.<br> \n",
    "Laat vervolgens een zin uitprinten: `Je woont op nummer ... en de kleur van jouw ogen is ....`<br> <br>\n",
    "Controleer door het script uit te voeren. Pas het eventueel aan."
   ]
  },
  {
   "cell_type": "code",
   "execution_count": null,
   "metadata": {},
   "outputs": [],
   "source": []
  },
  {
   "cell_type": "markdown",
   "metadata": {},
   "source": [
    "<div style='color: #690027;' markdown=\"1\">\n",
    "    <h2>3. Lijsten</h2> \n",
    "</div>"
   ]
  },
  {
   "cell_type": "markdown",
   "metadata": {},
   "source": [
    "Voer het volgende script uit. <br>Kijk goed wat de methodes `sort()`,  `remove()`, `append()` en `pop()` en de functie `len()` doen."
   ]
  },
  {
   "cell_type": "code",
   "execution_count": null,
   "metadata": {},
   "outputs": [],
   "source": [
    "getallen = [3, 7, 1, 13, 2, 4, 5, 11, 15] \n",
    "\n",
    "# deze lijst sorteren van klein naar groot\n",
    "getallen.sort()\n",
    "print(getallen)\n",
    "\n",
    "# deze lijst omvormen tot een lijst van 7 priemgetallen\n",
    "# 1, 4 en 15 zijn geen priemgetallen\n",
    "# er zijn maar 6 priemgetallen over, voeg er nog een toe\n",
    "getallen.remove(1)\n",
    "getallen.remove(4)\n",
    "getallen.pop() \n",
    "getallen.append(17)\n",
    "print(getallen)\n",
    "\n",
    "# tellen hoeveel elementen in de lijst priemgetallen\n",
    "print(len(getallen))"
   ]
  },
  {
   "cell_type": "markdown",
   "metadata": {},
   "source": [
    "`sort()` kan je ook gebruiken om een lijst van woorden *alfabetisch* te rangschikken. "
   ]
  },
  {
   "cell_type": "markdown",
   "metadata": {},
   "source": [
    "### Opdracht\n",
    "Vervolledig het volgende script:\n",
    "-  sorteer de lijst wiskundigen alfabetisch; \n",
    "-  verwijder \"Galois\"; \n",
    "-  voeg er twee wiskundige vrouwen aan toe; \n",
    "-  laat de lijst wiskundigen uitprinten;\n",
    "-  bepaal erna het aantal personen in de lijst wiskundigen en laat dat aantal afdrukken."
   ]
  },
  {
   "cell_type": "code",
   "execution_count": null,
   "metadata": {},
   "outputs": [],
   "source": [
    "wiskundigen = [\"Fermat\", \"Gauss\", \"Euler\", \"Fibonacci\", \"Galois\"]\n",
    "wiskundige_vrouwen = [\"Noether\", \"Nightingale\", \"Lovelace\"]"
   ]
  },
  {
   "cell_type": "markdown",
   "metadata": {},
   "source": [
    "<div style='color: #690027;' markdown=\"1\">\n",
    "    <h2>4. Herhalingsstructuur</h2> \n",
    "</div>"
   ]
  },
  {
   "cell_type": "markdown",
   "metadata": {},
   "source": [
    "Je kunt ook al de wiskundige vrouwen automatisch toevoegen. <br>Voer daarvoor het volgende Python-script uit. Begrijp je wat het doet?"
   ]
  },
  {
   "cell_type": "code",
   "execution_count": null,
   "metadata": {},
   "outputs": [],
   "source": [
    "wiskundigen = [\"Fermat\", \"Gauss\", \"Euler\", \"Fibonacci\", \"Galois\"]\n",
    "wiskundige_vrouwen = [\"Noether\", \"Nightingale\", \"Lovelace\"]\n",
    "for vrouw in wiskundige_vrouwen:\n",
    "    wiskundigen.append(vrouw)\n",
    "print(wiskundigen)"
   ]
  },
  {
   "cell_type": "markdown",
   "metadata": {},
   "source": [
    "Je hebt vast al opgemerkt dat Python geen `;` of `{}` gebruikt. \n",
    "Maar Python gebruikt wel `:`. <br>Heel specifiek is het gebruik van *indentatie*. Op bepaalde plaatsen wordt er vier spaties ingesprongen."
   ]
  },
  {
   "cell_type": "markdown",
   "metadata": {},
   "source": [
    "Je kan ook een begrensde herhaling gebruiken waarbij je het aantal keer dat de instructie wordt uitgevoerd expliciet vermeldt. Een bepaalde instructie wordt dan een bepaald aantal keer uitgevoerd.\n",
    "<br> Voer de volgende code uit."
   ]
  },
  {
   "cell_type": "code",
   "execution_count": null,
   "metadata": {},
   "outputs": [],
   "source": [
    "even = [0, 2, 4, 6, 8] \n",
    "\n",
    "# deze lijst aanvullen met de 6 volgende even getallen\n",
    "# i neemt de waarden 0, 1, 2, 3, 4 en 5 aan  \n",
    "for i in range(6):\n",
    "    print(\"i is:\", i)\n",
    "    getal = 8 + 2*(i+1)\n",
    "    print(\"getal is:\", getal)\n",
    "    even.append(getal)\n",
    "    print(\"de lijst is nu:\", even)"
   ]
  },
  {
   "cell_type": "markdown",
   "metadata": {},
   "source": [
    "`range()` kan je ook gebruiken om een lijst op te vullen. Voer de volgende code uit."
   ]
  },
  {
   "cell_type": "code",
   "execution_count": null,
   "metadata": {},
   "outputs": [],
   "source": [
    "lijst2 = list(range(4))    \n",
    "print(lijst2)\n",
    "\n",
    "for term in lijst2:\n",
    "    print(\"\\t\", term)"
   ]
  },
  {
   "cell_type": "markdown",
   "metadata": {},
   "source": [
    "### Uitdaging\n",
    "Schrijf een script dat 12 veelvouden van 3 afdrukt. \n",
    "Het script moet daarvoor starten met de gegeven lijst en deze lijst 'opkuisen' en aanvullen. "
   ]
  },
  {
   "cell_type": "code",
   "execution_count": null,
   "metadata": {},
   "outputs": [],
   "source": [
    "lijst = [1, 3, 6, 7, 8, 9]"
   ]
  },
  {
   "cell_type": "markdown",
   "metadata": {},
   "source": [
    "Naast de for-lus kan je ook een while-lus als herhalingsstructuur gebruiken. "
   ]
  },
  {
   "cell_type": "code",
   "execution_count": null,
   "metadata": {},
   "outputs": [],
   "source": [
    "lijst = [\"A\", \"B\", \"C\", \"D\", \"E\", \"F\", \"G\", \"H\", \"I\"]\n",
    "getal = 0\n",
    "# de eerste 6 letters van de lijst afdrukken\n",
    "while getal < 6:\n",
    "    print(\"getal =\", getal, \"\\nletter =\" ,lijst[getal])\n",
    "    getal +=1"
   ]
  },
  {
   "cell_type": "markdown",
   "metadata": {},
   "source": [
    "### Uitdaging\n",
    "Schrijf een script dat alle veelvouden van 3 afdrukt die kleiner zijn dan 100, te beginnen vanaf 0. "
   ]
  },
  {
   "cell_type": "code",
   "execution_count": null,
   "metadata": {},
   "outputs": [],
   "source": []
  },
  {
   "cell_type": "markdown",
   "metadata": {},
   "source": [
    "<div style='color: #690027;' markdown=\"1\">\n",
    "    <h2>5. Keuzestructuur</h2> \n",
    "</div>"
   ]
  },
  {
   "cell_type": "markdown",
   "metadata": {},
   "source": [
    "Voer de volgende code uit."
   ]
  },
  {
   "cell_type": "code",
   "execution_count": null,
   "metadata": {},
   "outputs": [],
   "source": [
    "getallen = [3, 7, 1, 13, 2, 4, 5, 11, 15] \n",
    "\n",
    "for getal in getallen:\n",
    "    if getal %2 == 0:\n",
    "        print(\"Het getal\", getal, \"is even.\")\n",
    "    else: \n",
    "        print(\"Het getal\", getal, \"is oneven.\")"
   ]
  },
  {
   "cell_type": "markdown",
   "metadata": {},
   "source": [
    "Breid de code uit, zodat de lijst met de even en de lijst met de oneven getallen worden uitgeprint."
   ]
  },
  {
   "cell_type": "markdown",
   "metadata": {},
   "source": [
    "Voer de volgende code uit."
   ]
  },
  {
   "cell_type": "code",
   "execution_count": null,
   "metadata": {},
   "outputs": [],
   "source": [
    "wiskundigen = [\"Fermat\", \"Gauss\", \"Euler\", \"Fibonacci\", \"Galois\", \"Noether\", \"Nightingale\", \"Lovelace\"]\n",
    "aantal_vrouwen = 0 \n",
    "\n",
    "for persoon in wiskundigen: \n",
    "    geslacht = \"vrouwelijk\"\n",
    "    if persoon[0] in [\"N\", \"L\"]:\n",
    "        aantal_vrouwen += 1\n",
    "    else:\n",
    "        geslacht = \"mannelijk\"    \n",
    "    print(persoon, \"is van het geslacht:\", geslacht)\n",
    "    \n",
    "print(\"Er zijn\", aantal_vrouwen, \"vrouwelijke wiskundigen in de lijst.\")"
   ]
  },
  {
   "cell_type": "markdown",
   "metadata": {},
   "source": [
    "Breid de code uit, zodat ook het aantal mannelijke wiskundigen wordt weergegeven, zonder ze expliciet te tellen."
   ]
  },
  {
   "cell_type": "markdown",
   "metadata": {},
   "source": [
    "### Uitdaging\n",
    "Vervolledig en verbeter de code, zodat:\n",
    "-  elk veelvoud van 3 uit de lijst getallen wordt verwijderd, tenzij het ook een veelvoud is van 5; \n",
    "-  elk veelvoud van 7 uit de lijst getallen wordt verwijderd, tenzij het ook een veelvoud is van 2. \n",
    "\n",
    "Maak een tweede lijst die de overbleven getallen, elk vermenigvuldigd met 10, bevat.<br>\n",
    "Laat uiteindelijk beide lijsten uitprinten.<br><br>\n",
    "Opmerking:  `if - elif - else` staat voor `als - anders als - als`."
   ]
  },
  {
   "cell_type": "code",
   "execution_count": null,
   "metadata": {},
   "outputs": [],
   "source": [
    "getallen = [3, 7, 1, 25, 10, 8, 30, 40, 28, 49, 33, 13, 37, 101, 56, 111, 2, 4, 5, 11, 15] \n",
    "lijst2 = []\n",
    "\n",
    "for getal in getallen:\n",
    "    print(getal)\n",
    "    if getal %3 == 0:\n",
    "        if getal %5 != 0\n",
    "            getallen.remove(getal)\n",
    "        else:\n",
    "            lijst2.append(getal * 10)\n",
    "    elif getal % == 0:\n",
    "        if getal % != 0:\n",
    "            getallen.remove(getal)\n",
    "        else\n",
    "            lijst2.append(getal * 10)\n",
    "    else:\n",
    "        lijst2.append(getal * 10)\n",
    "    \n",
    "print getallen"
   ]
  },
  {
   "cell_type": "code",
   "execution_count": null,
   "metadata": {},
   "outputs": [],
   "source": []
  }
 ],
 "metadata": {
  "kernelspec": {
   "display_name": "Python 3",
   "language": "python",
   "name": "python3"
  },
  "language_info": {
   "codemirror_mode": {
    "name": "ipython",
    "version": 3
   },
   "file_extension": ".py",
   "mimetype": "text/x-python",
   "name": "python",
   "nbconvert_exporter": "python",
   "pygments_lexer": "ipython3",
   "version": "3.6.6"
  }
 },
 "nbformat": 4,
 "nbformat_minor": 2
}
