{
 "cells": [
  {
   "cell_type": "markdown",
   "metadata": {},
   "source": [
    "<img src=\"../.images/logosnb.png\" alt=\"Banner\" style=\"width:1100px;\"/>"
   ]
  },
  {
   "cell_type": "markdown",
   "metadata": {},
   "source": [
    "<div style='color: #690027;' markdown=\"1\">\n",
    "    <h1>CO<sub>2</sub></h1> \n",
    "</div>"
   ]
  },
  {
   "cell_type": "markdown",
   "metadata": {},
   "source": [
    "<div class=\"alert alert-box alert-success\">\n",
    "In deze notebook leer je een puntenwolk maken van data uit een <em>csv-bestand</em>. Je verbindt de punten met een gebroken lijn en je leert hoe je een voorstelling maakt van twee grafieken met de y-as anders geschaald.<br>\n",
    "Je beperkt NumPy-lijsten, voegt er samen en verwijdert er elementen uit.\n",
    "</div>"
   ]
  },
  {
   "cell_type": "markdown",
   "metadata": {},
   "source": [
    "Dr. Pieter Tans is hoofd van de  'Carbon Cycle Greenhouse Gases Group' van het onderzoekscentrum 'National Oceanic & Atmospheric Administration (NOAA)' in Colorada. Zijn onderzoeksgroep doet op Mauna Loa op Hawaï metingen van de concentratie CO$_{2}$ in de atmosfeer. De data zijn te vinden op de website van NOAA [1]."
   ]
  },
  {
   "cell_type": "markdown",
   "metadata": {},
   "source": [
    "Pieter Tans [2]: \"David Keeling van het 'Scripps Institute of Oceanography' in San Diego begon in 1958 de eerste precisiemetingen van CO2 op de vulkaan Mauna Loa in een hutje van de 'U.S. Weather Bureau', dat nu overgegaan is in NOAA. De CO$_{2}$-metingen van NOAA begonnen in 1973. Sindsdien zijn er twee onafhankelijke meetprogramma's: door Scripps en door NOAA.<br>\n",
    "De CO$_{2}$-concentraties van de periode voor de metingen op Mauna Loa begonnen, kan men bepalen uit natuurlijke luchtmonsters,  luchtbellen opgesloten in diep ijs. CO$_{2}$ van de laatste 2000 jaar, dat opgesloten zat in diep ijs, werd ontgonnen op Antarctica.\" "
   ]
  },
  {
   "cell_type": "markdown",
   "metadata": {},
   "source": [
    "Dr. Pieter Tans verschafte ons data van zijn onderzoek met de Law Dome **ijskernen** [2]. <br>\n",
    "In deze notebook ga je met de data uit ijskernen en met de data van Mauna Loa aan de slag."
   ]
  },
  {
   "cell_type": "markdown",
   "metadata": {},
   "source": [
    "CO$_{2}$-concentratie wordt uitgedrukt in **ppm**: parts per million."
   ]
  },
  {
   "cell_type": "markdown",
   "metadata": {},
   "source": [
    "### De nodige modules importeren"
   ]
  },
  {
   "cell_type": "markdown",
   "metadata": {},
   "source": [
    "Om van **csv-bestanden** - csv staat voor **comma separated values** -  overzichtelijke tabellen te kunnen maken, maak je gebruik van de module 'pandas'. <br>\n",
    "Om kolommen van deze tabel om te vormen naar een lijst en daarmee te kunnen rekenen, importeer je de module 'NumPy'. <br>\n",
    "Grafische voorstellingen van de gegevens maken, doe je met de interface 'pyplot' van de module 'Matplotlib'. <br><br>\n",
    "Je importeert de nodige modules door de volgende code-cel uit te voeren."
   ]
  },
  {
   "cell_type": "code",
   "execution_count": null,
   "metadata": {},
   "outputs": [],
   "source": [
    "import pandas as pd\n",
    "\n",
    "import matplotlib.pyplot as plt\n",
    "import numpy as np\n",
    "\n",
    "from IPython.display import YouTubeVideo"
   ]
  },
  {
   "cell_type": "markdown",
   "metadata": {},
   "source": [
    "### Video 'CO2 in the Ice Core Record'"
   ]
  },
  {
   "cell_type": "markdown",
   "metadata": {},
   "source": [
    "Bekijk eerst een videofragment uit 'Earth: The Operators' Manual'. Klimaatdeskundige Richard Alley toont hoe ijskernen hun rol van klimaatproxy vervullen. "
   ]
  },
  {
   "cell_type": "code",
   "execution_count": null,
   "metadata": {},
   "outputs": [],
   "source": [
    "YouTubeVideo(\"oHzADl-XID8\")             "
   ]
  },
  {
   "cell_type": "markdown",
   "metadata": {},
   "source": [
    "<div style='color: #690027;' markdown=\"1\">\n",
    "    <h2>1. Inlezen van de data uit de ijskernen</h2> \n",
    "</div>"
   ]
  },
  {
   "cell_type": "markdown",
   "metadata": {},
   "source": [
    "De data werd ons bezorgd als csv-bestand. Dat is een veel gebruikt bestandsformaat.\n",
    "Het ziet er als volgt uit:"
   ]
  },
  {
   "cell_type": "markdown",
   "metadata": {},
   "source": [
    "<img src=\"../.images/IntroductiePython/csvAntarctica.JPG\" alt=\"Banner\" style=\"width:250px;\"/>"
   ]
  },
  {
   "cell_type": "markdown",
   "metadata": {},
   "source": [
    "Lees het bestand in door de volgende code-cel uit te voeren:"
   ]
  },
  {
   "cell_type": "code",
   "execution_count": null,
   "metadata": {},
   "outputs": [],
   "source": [
    "antarctica = pd.read_csv(\"../.data/IntroductiePython/AntarcticaCO2.dat\")         # data Tans (NOAA)"
   ]
  },
  {
   "cell_type": "markdown",
   "metadata": {},
   "source": [
    "En vraag het resultaat op:"
   ]
  },
  {
   "cell_type": "code",
   "execution_count": null,
   "metadata": {},
   "outputs": [],
   "source": [
    "antarctica"
   ]
  },
  {
   "cell_type": "markdown",
   "metadata": {},
   "source": [
    "Wil je enkel het begin van de tabel zien, of enkel de laatste rijen ervan, dan kan dat via de methodes `head()` en `tail()`."
   ]
  },
  {
   "cell_type": "code",
   "execution_count": null,
   "metadata": {},
   "outputs": [],
   "source": [
    "antarctica.head()"
   ]
  },
  {
   "cell_type": "code",
   "execution_count": null,
   "metadata": {},
   "outputs": [],
   "source": [
    "antarctica.tail()"
   ]
  },
  {
   "cell_type": "markdown",
   "metadata": {},
   "source": [
    "De tabel heeft 203 rijen en 2 kolommen. <br>\n",
    "De eerste kolom bevat het jaartal van de meting, de tweede kolom de CO$_{2}$-concentratie in ppm."
   ]
  },
  {
   "cell_type": "markdown",
   "metadata": {},
   "source": [
    "De data bekomen uit de ijskernen, geven de  CO$_{2}$-concentratie van het jaar 1 tot het jaar 1996."
   ]
  },
  {
   "cell_type": "markdown",
   "metadata": {},
   "source": [
    "Om deze data uit te zetten in een grafiek, kies je *twee variabelen*: x voor het jaartal en y voor de CO$_{2}$-concentratie. <br>\n",
    "Je maakt m.a.w. een lijst met de jaartallen en een lijst met de CO$_{2}$-concentraties. Met pandas gaat dat vrij eenvoudig omdat je de hoofding van de tabel als **sleutel** (*key*) kunt gebruiken."
   ]
  },
  {
   "cell_type": "code",
   "execution_count": null,
   "metadata": {},
   "outputs": [],
   "source": [
    "x = antarctica[\"jaartal\"]                # hoofding van kolom is sleutel, die speelt rol van index, jaartal komt op x-as\n",
    "y = antarctica[\"molfractie CO2 (ppm)\"]   # concentratie CO2 komt op y-as"
   ]
  },
  {
   "cell_type": "markdown",
   "metadata": {},
   "source": [
    "Kijk eens hoe zo'n lijst eruitziet:"
   ]
  },
  {
   "cell_type": "code",
   "execution_count": null,
   "metadata": {},
   "outputs": [],
   "source": [
    "print(x)"
   ]
  },
  {
   "cell_type": "markdown",
   "metadata": {},
   "source": [
    "Dit is nog steeds een soort tabel. Eigenlijk heb je voor x enkel de tweede kolom nodig.<br> Je kunt dat bekomen door gebruik te maken van *typecasting*: door deze pandas-tabel om te zetten naar een *NumPy array* krijg je het beoogde resultaat. Dit is een zeer belangrijke stap."
   ]
  },
  {
   "cell_type": "code",
   "execution_count": null,
   "metadata": {},
   "outputs": [],
   "source": [
    "# data omzetten naar NumPy array\n",
    "x = np.array(x)\n",
    "y = np.array(y)"
   ]
  },
  {
   "cell_type": "code",
   "execution_count": null,
   "metadata": {},
   "outputs": [],
   "source": [
    "print(x)\n",
    "print(y)"
   ]
  },
  {
   "cell_type": "markdown",
   "metadata": {},
   "source": [
    "Het is altijd goed om data te visualiseren. Dat maakt de data wat meer concreet."
   ]
  },
  {
   "cell_type": "markdown",
   "metadata": {},
   "source": [
    "<div style='color: #690027;' markdown=\"1\">\n",
    "    <h2>2. Data uit ijskernen weergeven in puntenwolk</h2> \n",
    "</div>"
   ]
  },
  {
   "cell_type": "markdown",
   "metadata": {},
   "source": [
    "<div class=\"alert alert-block alert-warning\"> \n",
    "In de notebook 'Grafieken' leerde je al hoe je een puntenwolk maakt. Kijk eventueel eens terug. \n",
    "</div>"
   ]
  },
  {
   "cell_type": "markdown",
   "metadata": {},
   "source": [
    "Het bereik nodig op de x-as is eenvoudig te zien. Om het bereik op de y-as te bepalen, is het interessant om te weten wat de kleinste en wat de grootste y-waarde is. <br>\n",
    "Je gebruikt daarvoor de methodes `min()` en `max()`. Omdat het methodes zijn, komen zijn in de instructie ná het object `y` te staan."
   ]
  },
  {
   "cell_type": "code",
   "execution_count": null,
   "metadata": {},
   "outputs": [],
   "source": [
    "y_min = y.min()\n",
    "y_max = y.max()\n",
    "print(y_min, y_max)"
   ]
  },
  {
   "cell_type": "markdown",
   "metadata": {},
   "source": [
    "Het is altijd het beste om geen misleidende grafieken te maken en dus zeker 0 ook te tonen op de y-as. Eventuele stijgingen en dalingen worden anders sterk uitvergroot."
   ]
  },
  {
   "cell_type": "markdown",
   "metadata": {},
   "source": [
    "Vul de code aan en voer ze uit."
   ]
  },
  {
   "cell_type": "code",
   "execution_count": null,
   "metadata": {},
   "outputs": [],
   "source": [
    "# grafiek\n",
    "plt.figure()                                       # grafiekscherm\n",
    "\n",
    "plt.xlim(0, 2020)                                  # bereik op x-as\n",
    "plt.ylim(0, ....)                                  # bereik op y-as\n",
    "\n",
    "plt.title(\"Antarctica, CO$_{2}$ uit ijskernen\")    # titel geven aan grafiek\n",
    "plt.xlabel(\"jaartal\")                              # omschrijving geven bij x-as\n",
    "plt.ylabel(\"CO$_{2}$ (in ppm)\")                    # omschrijving geven bij y-as\n",
    "\n",
    "plt.scatter(..............................)        # puntenwolk, kleur en vorm van punten vastleggen\n",
    "\n",
    "plt.show()                                         # grafiek tonen"
   ]
  },
  {
   "cell_type": "markdown",
   "metadata": {},
   "source": [
    "De CO$_{2}$-concentratie lijkt tot 1500 vrij stabiel. In het eerste deel lijkt de kromme een constant verloop te hebben. <br>\n",
    "Maar je kan dat maar zeker weten als je op de y-as wat inzoomt. Neem een kleiner bereik op de y-as, meer geconcentreerd rond de datapunten.<br>\n",
    "Je maakt de grafiek ook wat groter."
   ]
  },
  {
   "cell_type": "code",
   "execution_count": null,
   "metadata": {},
   "outputs": [],
   "source": [
    "plt.figure(figsize=(10,8))                         # grotere grafiek\n",
    "\n",
    "plt.xlim(0, 2000)\n",
    "plt.ylim(.......)\n",
    "\n",
    "plt.title(\"Antarctica, CO$_{2}$ uit ijskernen\")\n",
    "plt.xlabel(\"jaartal\")\n",
    "plt.ylabel(\"CO$_{2}$ (in ppm)\")\n",
    "\n",
    "plt.scatter(..............................)\n",
    "\n",
    "plt.show()"
   ]
  },
  {
   "cell_type": "markdown",
   "metadata": {},
   "source": [
    "### Opdracht 2.1\n",
    "Bereken de gemidelde CO$_{2}$-concentratie van het jaar 1 t.e.m. het jaar 1499."
   ]
  },
  {
   "cell_type": "code",
   "execution_count": null,
   "metadata": {},
   "outputs": [],
   "source": []
  },
  {
   "cell_type": "markdown",
   "metadata": {},
   "source": [
    "### Opdracht 2.2\n",
    "Hieronder wordt de grafiek hernomen. Er is een  verticale rechte aan toegevoegd, die het begin van de industriële revolutie aangeeft, het jaar 1750.<br><br>\n",
    "Voer het script uit en pas het erna aan:\n",
    "-  Voeg twee horizonatle rechten toe. Doe dat op zo'n manier dat de meeste datapunten er tussen liggen.\n",
    "-  Probeer tot slot via een verticale rechte toe tevoegen, in te schatten vanaf waar de punten niet meer in de strook gevangen zitten.\n",
    "-  Wat besluit je over de stabiliteit/ het ontbreken aan stabiliteit van de CO$_{2}$-concentratie?"
   ]
  },
  {
   "cell_type": "code",
   "execution_count": null,
   "metadata": {
    "scrolled": false
   },
   "outputs": [],
   "source": [
    "plt.figure(figsize=(10,8))   \n",
    "\n",
    "plt.xlim(0, 2000)\n",
    "plt.ylim(250, 400)\n",
    "\n",
    "plt.title(\"Antarctica, CO$_{2}$ uit ijskernen\")\n",
    "plt.xlabel(\"jaartal\")\n",
    "plt.ylabel(\"CO$_{2}$ (in ppm)\")\n",
    "\n",
    "plt.scatter(x, y, color=\"blue\", marker=\".\")\n",
    "\n",
    "# Voeg twee horizontale en twee verticale rechten toe\n",
    "plt.vlines(1750, ymin=0, ymax=400, color = \"red\")\n",
    "\n",
    "plt.show()"
   ]
  },
  {
   "cell_type": "markdown",
   "metadata": {},
   "source": [
    "Antwoord:"
   ]
  },
  {
   "cell_type": "markdown",
   "metadata": {},
   "source": [
    "### Opdracht 2.3\n",
    "*Kopieer het bekomen script uit opdracht 2.2.*<br> \n",
    "Pas de code aan zodat de grafiek een lijndiagram toont i.p.v. een puntenwolk."
   ]
  },
  {
   "cell_type": "code",
   "execution_count": null,
   "metadata": {
    "scrolled": false
   },
   "outputs": [],
   "source": []
  },
  {
   "cell_type": "markdown",
   "metadata": {},
   "source": [
    "De industriële revolutie begon ongeveer in 1750. Het is opvallend hoe de kromme vanaf dan van vorm verandert. <br>\n"
   ]
  },
  {
   "cell_type": "markdown",
   "metadata": {},
   "source": [
    "<div class=\"alert alert-block alert-warning\"> \n",
    "Over de periode sinds het begin van de industriële revolutie leer je meer in de de notebook 'CO$_{2}$: trend sinds het begin van de industriële revolutie'.\n",
    "</div>"
   ]
  },
  {
   "cell_type": "markdown",
   "metadata": {},
   "source": [
    "<div style='color: #690027;' markdown=\"1\">\n",
    "    <h2>3. Kleine IJstijd</h2> \n",
    "</div>"
   ]
  },
  {
   "cell_type": "markdown",
   "metadata": {},
   "source": [
    "De ijskernen verschaffen ook belangrijke informatie over de periode vóór de industriële revolutie. De atmosferische CO$_{2}$ was toen vooral bepaald door natuurlijke processen, maar was wellicht al wat onderhevig aan menselijke activiteiten zoals ontbossing, landbouw en oorlog [4]."
   ]
  },
  {
   "cell_type": "markdown",
   "metadata": {},
   "source": [
    "De Kleine IJstijd is een periode van de 16de tot midden de 19de eeuw. Vooral in de 17de eeuw was het toen kouder in Noordwest-Europa. De periode was bv. gekenmerkt door het feit dat de gebergtegletsjers zich uitbreiden. <br> \n",
    "Veel oogsten mislukten. Er was meer melding van honger en ziekte en een stijging in kindersterfte [5].\n",
    "<img src=\"../.images/IntroductiePython/Bruegel_Jagersindesneeuw.jpg\" alt=\"Banner\" style=\"width:400px;\"/>\n",
    "<center>Pieter Bruegel de Oudere. Jagers in de sneeuw [3].</center>"
   ]
  },
  {
   "cell_type": "markdown",
   "metadata": {},
   "source": [
    "Herken je deze periode op de grafiek? Vind je een verband met het CO$_{2}$-gehalte in die periode?"
   ]
  },
  {
   "cell_type": "markdown",
   "metadata": {},
   "source": [
    "<div class=\"alert alert-block alert-warning\"> \n",
    "Na deze periode volgt een dramatische terugtrekking van de gebergtegletsjers. Zie hiervoor de notebooks over de Morteratschgletsjer en de Silvrettagletsjer.\n",
    "</div>"
   ]
  },
  {
   "cell_type": "markdown",
   "metadata": {},
   "source": [
    "### Opdracht 3.1\n",
    "Maak een nieuwe grafiek (lijndiagram) die enkel de waarden toont voor de Kleine IJstijd.<br>\n",
    "Beperk hiervoor ook de gebruikte arrays op een correcte manier. <br> "
   ]
  },
  {
   "cell_type": "markdown",
   "metadata": {},
   "source": [
    "<div class=\"alert alert-block alert-warning\"> \n",
    "Meer uitleg over hoe je dit doet, vind je in de notebooks over datastructuren.\n",
    "</div>"
   ]
  },
  {
   "cell_type": "markdown",
   "metadata": {},
   "source": [
    "Je krijgt in de code-cellen toch enkele tips."
   ]
  },
  {
   "cell_type": "code",
   "execution_count": null,
   "metadata": {},
   "outputs": [],
   "source": [
    "# indices opsporen\n"
   ]
  },
  {
   "cell_type": "code",
   "execution_count": null,
   "metadata": {},
   "outputs": [],
   "source": [
    "# NumPy arrays beperken\n",
    "x_ki = \n",
    "y_ki = "
   ]
  },
  {
   "cell_type": "code",
   "execution_count": null,
   "metadata": {},
   "outputs": [],
   "source": [
    "# grafiek\n"
   ]
  },
  {
   "cell_type": "markdown",
   "metadata": {},
   "source": [
    "<div class=\"alert alert-box alert-success\">\n",
    "Vóór 1850 schommelt de CO$_{2}$-concentratie weliswaar een beetje maar nooit meer dan $\\pm$ 10 ppm. De waarden van de CO$_{2}$-concentratie lagen toen aanzienlijk lager dan nu.\n",
    "</div>"
   ]
  },
  {
   "cell_type": "markdown",
   "metadata": {},
   "source": [
    "<div class=\"alert alert-block alert-warning\"> \n",
    "In de notebooks 'Keelingcurve', 'Verband tussen CO$_{2}$-concentratie en temperatuur' en 'CO$_{2}$-concentratie vanaf de industriële revolutie' leer je meer over een veranderende CO$_{2}$-concentratie.\n",
    "</div>"
   ]
  },
  {
   "cell_type": "markdown",
   "metadata": {},
   "source": [
    "<div>\n",
    "    <h2>Referentielijst</h2> \n",
    "</div>"
   ]
  },
  {
   "cell_type": "markdown",
   "metadata": {},
   "source": [
    "[1] Earth System Research Laboratory, Global Monitoring Division. ESRL/GMD FTP Data Finder.<br> &nbsp; &nbsp; &nbsp; &nbsp; Geraadpleegd op 18 augustus 2019 via https://www.esrl.noaa.gov/gmd/dv/data/?category=Greenhouse%2BGases. <br>\n",
    "[2] Tans, P. (2018). Via e-mail.<br>\n",
    "[3] Pieter Bruegel the Elder [Public domain], via Wikimedia Commons. Geraadpleegd op 4 september 2019 via <br> &nbsp; &nbsp; &nbsp; &nbsp;  https://commons.wikimedia.org/wiki/File:Pieter_Bruegel_the_Elder_-_Hunters_in_the_Snow_(Winter)_-_Google_Art_Project.jpg<br>\n",
    "[4] Ahn, J., Brook, E.J., Mitchell, L.E., Rosen, J.C., McConnell, J.R., Taylor, K.C., Etheridge, D.M., & Rubino, M. (2012).<br> &nbsp; &nbsp; &nbsp; &nbsp; Atmospheric CO$_{2}$ over the last 1000 years: A high‐resolution record from the West Antarctic Ice Sheet (WAIS) Divide ice core.<br> &nbsp; &nbsp; &nbsp; &nbsp; *Global Biochemical Cycles.* Vol. 26. doi: 10.1029/2011GB004247. <br>\n",
    "[5] Mann, M.E. (2002). Little Ice Age.<br>"
   ]
  },
  {
   "cell_type": "markdown",
   "metadata": {},
   "source": [
    "<img src=\"../.images/cclic.png\" alt=\"Banner\" align=\"left\" style=\"width:100px;\"/><br><br>\n",
    "Notebook KIKS, zie <a href=\"http://www.aiopschool.be\">AI op School</a>, van F. wyffels & N. Gesquière is in licentie gegeven volgens een <a href=\"http://creativecommons.org/licenses/by-nc-sa/4.0/\">Creative Commons Naamsvermelding-NietCommercieel-GelijkDelen 4.0 Internationaal-licentie</a>. "
   ]
  }
 ],
 "metadata": {
  "kernelspec": {
   "display_name": "Python 3",
   "language": "python",
   "name": "python3"
  },
  "language_info": {
   "codemirror_mode": {
    "name": "ipython",
    "version": 3
   },
   "file_extension": ".py",
   "mimetype": "text/x-python",
   "name": "python",
   "nbconvert_exporter": "python",
   "pygments_lexer": "ipython3",
   "version": "3.6.4"
  }
 },
 "nbformat": 4,
 "nbformat_minor": 2
}
