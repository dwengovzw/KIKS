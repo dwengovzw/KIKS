{
 "cells": [
  {
   "cell_type": "markdown",
   "metadata": {},
   "source": [
    "<img src=\"../.images/logosnb.png\" alt=\"Banner\" style=\"width:800px;\"/>"
   ]
  },
  {
   "cell_type": "markdown",
   "metadata": {},
   "source": [
    "<div style='color: #690027;' markdown=\"1\">\n",
    "    <h1>CO<sub>2</sub></h1> \n",
    "</div>"
   ]
  },
  {
   "cell_type": "markdown",
   "metadata": {},
   "source": [
    "<div class=\"alert alert-box alert-success\">\n",
    "In deze notebook leer je een puntenwolk maken van data uit een <em>csv-bestand</em>. Je leert hoe je de punten kunt verbinden met een gebroken lijn en hoe je een voorstelling maakt van twee grafieken met de y-as anders geschaald.<br>\n",
    "Je beperkt NumPy arrays, voegt er samen en verwijdert er elementen uit.\n",
    "</div>"
   ]
  },
  {
   "cell_type": "markdown",
   "metadata": {},
   "source": [
    "Dr. Pieter Tans is hoofd van de  'Carbon Cycle Greenhouse Gases Group' van het onderzoekscentrum 'National Oceanic & Atmospheric Administration (NOAA)' in Colorada. Zijn onderzoeksgroep doet op Mauna Loa op Hawaï metingen van de concentratie CO$_{2}$ in de atmosfeer. De data zijn te vinden op de website van NOAA [1]."
   ]
  },
  {
   "cell_type": "markdown",
   "metadata": {},
   "source": [
    "Pieter Tans [2]: \"David Keeling van het 'Scripps Institute of Oceanography' in San Diego begon in 1958 de eerste precisiemetingen van CO2 op de vulkaan Mauna Loa in een hutje van de 'U.S. Weather Bureau', dat nu overgegaan is in NOAA. De CO$_{2}$-metingen van NOAA begonnen in 1973. Sindsdien zijn er twee onafhankelijke meetprogramma's: door Scripps en door NOAA.<br>\n",
    "De CO$_{2}$-concentraties van de periode voor de metingen op Mauna Loa begonnen, kan men bepalen uit natuurlijke luchtmonsters,  luchtbellen opgesloten in diep ijs. CO$_{2}$ van de laatste 2000 jaar, dat opgesloten zat in diep ijs, werd ontgonnen op Antarctica.\" "
   ]
  },
  {
   "cell_type": "markdown",
   "metadata": {},
   "source": [
    "Dr. Pieter Tans verschafte ons data van zijn onderzoek met de Law Dome **ijskernen** [2]. <br>\n",
    "In deze notebook ga je met de data uit ijskernen en met de data van Mauna Loa aan de slag."
   ]
  },
  {
   "cell_type": "markdown",
   "metadata": {},
   "source": [
    "CO$_{2}$-concentratie wordt uitgedrukt in **ppm**: parts per million."
   ]
  },
  {
   "cell_type": "markdown",
   "metadata": {},
   "source": [
    "### De nodige modules importeren"
   ]
  },
  {
   "cell_type": "markdown",
   "metadata": {},
   "source": [
    "Om van **csv-bestanden** - csv staat voor **comma separated values** -  overzichtelijke tabellen te kunnen maken, maak je gebruik van de module pandas. <br>\n",
    "Om kolommen van deze tabel om te vormen naar een lijst en daarmee te kunnen rekenen, importeer je de module NumPy. <br>\n",
    "Grafische voorstellingen van de gegevens maken, doe je met de interface pyplot van de module Matplotlib. <br><br>\n",
    "Je importeert de nodige modules door de volgende code-cel uit te voeren."
   ]
  },
  {
   "cell_type": "code",
   "execution_count": null,
   "metadata": {},
   "outputs": [],
   "source": [
    "import pandas as pd\n",
    "\n",
    "import matplotlib.pyplot as plt\n",
    "import numpy as np\n",
    "\n",
    "from IPython.display import YouTubeVideo"
   ]
  },
  {
   "cell_type": "markdown",
   "metadata": {},
   "source": [
    "### Video 'CO2 in the Ice Core Record'"
   ]
  },
  {
   "cell_type": "markdown",
   "metadata": {},
   "source": [
    "Bekijk eerst een videofragment uit 'Earth: The Operators' Manual'. Klimaatdeskundige Richard Alley toont hoe ijskernen hun rol van klimaatproxy vervullen. "
   ]
  },
  {
   "cell_type": "code",
   "execution_count": null,
   "metadata": {},
   "outputs": [],
   "source": [
    "YouTubeVideo(\"oHzADl-XID8\")             "
   ]
  },
  {
   "cell_type": "markdown",
   "metadata": {},
   "source": [
    "<div style='color: #690027;' markdown=\"1\">\n",
    "    <h2>1. Inlezen van de data uit de ijskernen</h2> \n",
    "</div>"
   ]
  },
  {
   "cell_type": "markdown",
   "metadata": {},
   "source": [
    "De data werd ons bezorgd als csv-bestand. Dat is een veel gebruikt bestandsformaat.\n",
    "Het ziet er als volgt uit:"
   ]
  },
  {
   "cell_type": "markdown",
   "metadata": {},
   "source": [
    "<img src=\"../.images/IntroductiePython/csvAntarctica.JPG\" alt=\"Banner\" style=\"width:250px;\"/>"
   ]
  },
  {
   "cell_type": "markdown",
   "metadata": {},
   "source": [
    "Lees het bestand in door de volgende code-cel uit te voeren:"
   ]
  },
  {
   "cell_type": "code",
   "execution_count": null,
   "metadata": {},
   "outputs": [],
   "source": [
    "antarctica = pd.read_csv(\"../.data/IntroductiePython/AntarcticaCO2.dat\")         # data Tans (NOAA)"
   ]
  },
  {
   "cell_type": "markdown",
   "metadata": {},
   "source": [
    "En vraag het resultaat op:"
   ]
  },
  {
   "cell_type": "code",
   "execution_count": null,
   "metadata": {},
   "outputs": [],
   "source": [
    "antarctica"
   ]
  },
  {
   "cell_type": "markdown",
   "metadata": {},
   "source": [
    "Wil je enkel het begin van de tabel zien, of enkel de laatste rijen ervan, dan kan dat via de methodes `head()` en `tail()`."
   ]
  },
  {
   "cell_type": "code",
   "execution_count": null,
   "metadata": {},
   "outputs": [],
   "source": [
    "antarctica.head()"
   ]
  },
  {
   "cell_type": "code",
   "execution_count": null,
   "metadata": {},
   "outputs": [],
   "source": [
    "antarctica.tail()"
   ]
  },
  {
   "cell_type": "markdown",
   "metadata": {},
   "source": [
    "De tabel heeft 203 rijen en 2 kolommen. <br>\n",
    "De eerste kolom bevat het jaartal van de meting, de tweede kolom de CO$_{2}$-concentratie in ppm."
   ]
  },
  {
   "cell_type": "markdown",
   "metadata": {},
   "source": [
    "De data bekomen uit de ijskernen, geven de  CO$_{2}$-concentratie van het jaar 1 tot het jaar 1996."
   ]
  },
  {
   "cell_type": "markdown",
   "metadata": {},
   "source": [
    "Om deze data uit te zetten in een grafiek, kies je twee variabelen: x voor het jaartal en y voor de CO$_{2}$-concentratie. <br>\n",
    "Je maakt een lijst met de jaartallen en een lijst met de CO$_{2}$-concentraties. Met Pandas gaat dat vrij eenvoudig omdat je de hoofding van de tabel als **sleutel** (*key*) kunt gebruiken."
   ]
  },
  {
   "cell_type": "code",
   "execution_count": null,
   "metadata": {},
   "outputs": [],
   "source": [
    "x = antarctica[\"jaartal\"]                # hoofding van kolom is sleutel, die speelt rol van index, jaartal komt op x-as\n",
    "y = antarctica[\"molfractie CO2 (ppm)\"]   # concentratie CO2 komt op y-as"
   ]
  },
  {
   "cell_type": "markdown",
   "metadata": {},
   "source": [
    "Kijk eens hoe zo'n lijst eruitziet:"
   ]
  },
  {
   "cell_type": "code",
   "execution_count": null,
   "metadata": {},
   "outputs": [],
   "source": [
    "print(x)"
   ]
  },
  {
   "cell_type": "markdown",
   "metadata": {},
   "source": [
    "Dit is nog steeds een soort tabel. Eigenlijk heb je voor x enkel de tweede kolom nodig.<br> Je kunt dat bekomen door gebruik te maken van *typecasting*: je zet deze pandas-tabel om naar een *NumPy array*."
   ]
  },
  {
   "cell_type": "code",
   "execution_count": null,
   "metadata": {},
   "outputs": [],
   "source": [
    "# data omzetten naar NumPy array\n",
    "x = np.array(x)\n",
    "y = np.array(y)"
   ]
  },
  {
   "cell_type": "code",
   "execution_count": null,
   "metadata": {},
   "outputs": [],
   "source": [
    "print(x)\n",
    "print(y)"
   ]
  },
  {
   "cell_type": "markdown",
   "metadata": {},
   "source": [
    "Het is altijd goed om data te visualiseren. Dat maakt de data wat meer concreet."
   ]
  },
  {
   "cell_type": "markdown",
   "metadata": {},
   "source": [
    "<div style='color: #690027;' markdown=\"1\">\n",
    "    <h2>2. Data uit ijskernen weergeven in puntenwolk</h2> \n",
    "</div>"
   ]
  },
  {
   "cell_type": "markdown",
   "metadata": {},
   "source": [
    "Het bereik nodig op de x-as is eenvoudig te zien. Om het bereik op de y-as te bepalen, is het interessant om te weten wat de kleinste en wat de grootste y-waarde is. <br>\n",
    "Je gebruikt daarvoor de methodes `min()` en `max()`."
   ]
  },
  {
   "cell_type": "code",
   "execution_count": null,
   "metadata": {},
   "outputs": [],
   "source": [
    "y_min = y.min()\n",
    "y_max = y.max()\n",
    "print(y_min, y_max)"
   ]
  },
  {
   "cell_type": "markdown",
   "metadata": {},
   "source": [
    "Het is altijd het beste om geen misleidende grafieken te maken en dus zeker 0 ook te tonen op de y-as. Eventuele stijgingen en dalingen worden anders sterk uitvergroot."
   ]
  },
  {
   "cell_type": "code",
   "execution_count": null,
   "metadata": {},
   "outputs": [],
   "source": [
    "# grafiek\n",
    "\n",
    "plt.figure()                                  # grafiekscherm\n",
    "\n",
    "plt.xlim(0, 2020)                             # bereik op x-as\n",
    "plt.ylim(0, 450)                              # bereik op y-as\n",
    "\n",
    "plt.scatter(x, y, color=\"blue\", marker=\".\")   # puntenwolk, kleur en vorm van punten vastleggen\n",
    "\n",
    "plt.title(\"Antarctica, CO$_{2}$ uit ijskernen\")    # titel geven aan grafiek\n",
    "plt.xlabel(\"jaartal\")                         # omschrijving geven bij x-as\n",
    "plt.ylabel(\"CO$_{2}$ (in ppm)\")                    # omschrijving geven bij y-as\n",
    "\n",
    "plt.show()                                    # grafiek tonen"
   ]
  },
  {
   "cell_type": "markdown",
   "metadata": {},
   "source": [
    "De CO$_{2}$-concentratie lijkt tot 1500 vrij stabiel. In het eerste deel lijkt de kromme een constant verloop te hebben. <br>\n",
    "Maar je kan dat maar zeker weten als je op de y-as wat inzoomt. Neem een kleiner bereik op de y-as, meer geconcentreerd rond de datapunten.<br>\n",
    "Je maakt de grafiek ook wat groter."
   ]
  },
  {
   "cell_type": "code",
   "execution_count": null,
   "metadata": {},
   "outputs": [],
   "source": [
    "plt.figure(figsize=(10,8))    # grotere grafiek\n",
    "plt.xlim(0, 2000)\n",
    "plt.ylim(250, 400)\n",
    "plt.scatter(x, y, color=\"blue\", marker=\".\")\n",
    "plt.title(\"Antarctica, CO$_{2}$ uit ijskernen\")\n",
    "plt.xlabel(\"jaartal\")\n",
    "plt.ylabel(\"CO$_{2}$ (in ppm)\")\n",
    "plt.show()"
   ]
  },
  {
   "cell_type": "markdown",
   "metadata": {},
   "source": [
    "### Opdracht \n",
    "Hieronder wordt de grafiek hernomen. Er is een  verticale lijn aan toegevoegd, die het begin van de industriële revolutie aangeeft, het jaar 1750.<br>\n",
    "Voeg twee horizonatle lijnen toe. Doe dat op zo'n manier dat de meeste datapunten er tussen liggen.<br>\n",
    "Probeer tot slot via een verticale lijn in te schatten vanaf waar de punten niet meer in de strook gevangen zitten.<br>"
   ]
  },
  {
   "cell_type": "code",
   "execution_count": null,
   "metadata": {
    "scrolled": false
   },
   "outputs": [],
   "source": [
    "plt.figure(figsize=(10,8))    # grotere grafiek\n",
    "plt.xlim(0, 2000)\n",
    "plt.ylim(250, 400)\n",
    "plt.scatter(x, y, color=\"blue\", marker=\".\")\n",
    "plt.title(\"Antarctica, CO$_{2}$ uit ijskernen\")\n",
    "plt.xlabel(\"jaartal\")\n",
    "plt.ylabel(\"CO$_{2}$ (in ppm)\")\n",
    "\n",
    "# Voeg twee horizontale lijnen toe\n",
    "plt.hlines(290, xmin=0, xmax=2000, color = \"green\")\n",
    "plt.hlines(270, xmin=0, xmax=2000, color = \"green\")\n",
    "plt.vlines(1850, ymin=0, ymax=400, color = \"green\")\n",
    "plt.vlines(1750, ymin=0, ymax=400, color = \"red\")\n",
    "plt.show()"
   ]
  },
  {
   "cell_type": "markdown",
   "metadata": {},
   "source": [
    "Dus vóór 1850 schommelt de CO$_{2}$-concentratie  weliswaar een beetje maar nooit meer dan $\\pm$ 10 ppm."
   ]
  },
  {
   "cell_type": "markdown",
   "metadata": {},
   "source": [
    "Teken nu een lijndiagram i.p.v. een puntenwolk:"
   ]
  },
  {
   "cell_type": "code",
   "execution_count": null,
   "metadata": {
    "scrolled": false
   },
   "outputs": [],
   "source": [
    "fig = plt.figure(figsize=(10,8))    # grotere grafiek\n",
    "plt.xlim(0, 2000)\n",
    "plt.ylim(250, 400)\n",
    "plt.plot(x, y, color=\"blue\")\n",
    "plt.title(\"Antarctica, CO$_{2}$ uit ijskernen\")\n",
    "plt.xlabel(\"jaartal\")\n",
    "plt.ylabel(\"CO$_{2}$ (in ppm)\")\n",
    "\n",
    "# Voeg twee horizontale lijnen toe\n",
    "plt.hlines(290, xmin=0, xmax=2000, color = \"green\")\n",
    "plt.hlines(270, xmin=0, xmax=2000, color = \"green\")\n",
    "plt.vlines(1850, ymin=0, ymax=400, color = \"green\")\n",
    "plt.vlines(1750, ymin=0, ymax=400, color = \"red\")\n",
    "plt.show()"
   ]
  },
  {
   "cell_type": "markdown",
   "metadata": {},
   "source": [
    "De industriële revolutie begon ongeveer in 1750. Het is opvallend hoe de kromme vanaf dan van vorm verandert. <br>\n"
   ]
  },
  {
   "cell_type": "markdown",
   "metadata": {},
   "source": [
    "<div class=\"alert alert-block alert-warning\"> \n",
    "Over de periode vanaf het begin van de industriële revolutie leer je meer in de de notebook 'CO$_{2}$: trend sinds het begin van de industriële revolutie'.\n",
    "</div>"
   ]
  },
  {
   "cell_type": "markdown",
   "metadata": {},
   "source": [
    "<div style='color: #690027;' markdown=\"1\">\n",
    "    <h2>3. Kleine IJstijd</h2> \n",
    "</div>"
   ]
  },
  {
   "cell_type": "markdown",
   "metadata": {},
   "source": [
    "De ijskernen verschaffen ook belangrijke informatie over de periode vóór de industriële revolutie. De atmosferische CO$_{2}$ was toen vooral bepaald door natuurlijke processen, maar was wellicht al wat onderhevig aan menselijke activiteiten zoals ontbossing, landbouw en oorlog [4]."
   ]
  },
  {
   "cell_type": "markdown",
   "metadata": {},
   "source": [
    "De Kleine IJstijd is een periode van de 16de tot midden de 19de eeuw. Vooral in de 17de eeuw was het toen kouder in Noordwest-Europa. De periode was bv. gekenmerkt door het feit dat de gebergtegletsjers zich uitbreiden. <br> \n",
    "Veel oogsten mislukten. Er was meer melding van honger en ziekte en een stijging in kindersterfte [5].\n",
    "<img src=\"../.images/IntroductiePython/Bruegel_Jagersindesneeuw.jpg\" alt=\"Banner\" style=\"width:400px;\"/>\n",
    "<center>Pieter Bruegel de Oudere. Jagers in de sneeuw [3].</center>"
   ]
  },
  {
   "cell_type": "markdown",
   "metadata": {},
   "source": [
    "Herken je deze periode op de grafiek? Vind je een verband met het CO$_{2}$-gehalte in die periode?"
   ]
  },
  {
   "cell_type": "markdown",
   "metadata": {},
   "source": [
    "<div class=\"alert alert-block alert-warning\"> \n",
    "Na deze periode volgt een dramatische terugtrekking van de gebergtegletsjers. Zie hiervoor de notebooks over de Morteratschgletsjer en de Silvrettagletsjer.\n",
    "</div>"
   ]
  },
  {
   "cell_type": "markdown",
   "metadata": {},
   "source": [
    "### Opdracht\n",
    "Maak een nieuwe grafiek (lijndiagram) die enkel de waarden toont voor de Kleine IJstijd.<br>\n",
    "Beperk hiervoor ook de gebruikte arrays op een correcte manier. <br> \n"
   ]
  },
  {
   "cell_type": "markdown",
   "metadata": {},
   "source": [
    "<div class=\"alert alert-block alert-warning\"> \n",
    "Meer uitleg over hoe je dit doet, vind je in de notebook 'Lijsten en NumPy-arrays beperken'.\n",
    "</div>"
   ]
  },
  {
   "cell_type": "code",
   "execution_count": null,
   "metadata": {},
   "outputs": [],
   "source": [
    "# index opsporen\n",
    "np.where(x==1499)"
   ]
  },
  {
   "cell_type": "code",
   "execution_count": null,
   "metadata": {},
   "outputs": [],
   "source": [
    "np.where(x==1850)"
   ]
  },
  {
   "cell_type": "code",
   "execution_count": null,
   "metadata": {},
   "outputs": [],
   "source": [
    "x_ki = x[51:95]\n",
    "y_ki = y[51:95]"
   ]
  },
  {
   "cell_type": "code",
   "execution_count": null,
   "metadata": {},
   "outputs": [],
   "source": [
    "plt.figure()   \n",
    "plt.xlim(1490, 1860)\n",
    "plt.ylim(270, 290)\n",
    "plt.plot(x_ki, y_ki, color=\"purple\")\n",
    "plt.title(\"Antarctica, CO$_{2}$ in ijs, Kleine IJstijd\")\n",
    "plt.xlabel(\"jaartal\")\n",
    "plt.ylabel(\"CO$_{2}$ (ppm)\")\n",
    "plt.show()"
   ]
  },
  {
   "cell_type": "markdown",
   "metadata": {},
   "source": [
    "<div style='color: #690027;' markdown=\"1\">\n",
    "    <h2>4. Verloop temperatuur en verandering CO$_{2}$-concentratie vergelijken</h2> \n",
    "</div>"
   ]
  },
  {
   "cell_type": "markdown",
   "metadata": {},
   "source": [
    "**Je bekijkt de periode van 1880 tot 1996.**"
   ]
  },
  {
   "cell_type": "markdown",
   "metadata": {},
   "source": [
    "<div style='color: #690027;' markdown=\"1\">\n",
    "    <h3>4.1 Verandering CO$_{2}$-concentratie</h3> \n",
    "</div>"
   ]
  },
  {
   "cell_type": "markdown",
   "metadata": {},
   "source": [
    "Je hebt dus de CO$_{2}$-concentratie nodig voor deze periode.<br> Je moet daarvoor de NumPy array y beperken tot die waarden en tegelijk ook voor de NumPy array x."
   ]
  },
  {
   "cell_type": "markdown",
   "metadata": {},
   "source": [
    "Je zoekt eerst uit het hoeveelste element in de rij het jaartal 1880 is."
   ]
  },
  {
   "cell_type": "code",
   "execution_count": null,
   "metadata": {},
   "outputs": [],
   "source": [
    "np.where(x == 1880)"
   ]
  },
  {
   "cell_type": "markdown",
   "metadata": {},
   "source": [
    "Oei, geen resultaat. Ga eens naar de uitgeprinte rij kijken. Je ziet dan dat 1880 zelf er niet in staat, probeer eens met een jaartal er dichtbij."
   ]
  },
  {
   "cell_type": "code",
   "execution_count": null,
   "metadata": {},
   "outputs": [],
   "source": [
    "np.where(x == 1882)"
   ]
  },
  {
   "cell_type": "markdown",
   "metadata": {},
   "source": [
    "Nog eens controleren:"
   ]
  },
  {
   "cell_type": "code",
   "execution_count": null,
   "metadata": {
    "scrolled": true
   },
   "outputs": [],
   "source": [
    "print(x[107])"
   ]
  },
  {
   "cell_type": "code",
   "execution_count": null,
   "metadata": {},
   "outputs": [],
   "source": [
    "x_CO2 = x[107:]\n",
    "y_CO2 = y[107:]"
   ]
  },
  {
   "cell_type": "code",
   "execution_count": null,
   "metadata": {},
   "outputs": [],
   "source": [
    "print(x_CO2, y_CO2)"
   ]
  },
  {
   "cell_type": "markdown",
   "metadata": {},
   "source": [
    "<div style='color: #690027;' markdown=\"1\">\n",
    "    <h3>4.2 Verloop temperatuur</h3> \n",
    "</div>"
   ]
  },
  {
   "cell_type": "markdown",
   "metadata": {},
   "source": [
    "Je hebt ook data van de gemiddelde globale temperatuur nodig."
   ]
  },
  {
   "cell_type": "markdown",
   "metadata": {},
   "source": [
    "De data die je zal gebruiken, zijn beschikbaar op de website van NASA/GISS [6]. Het zijn echter niet de gemeten temperaturen die de data vormen. De data bevatten de mate waarin de gemeten temperatuur afwijkt t.o.v. een bepaalde referentieperiode. Men spreekt van een **temperatuuranomalie**. Voor de data van NASA/GISS is de referentieperiode 1951-1980."
   ]
  },
  {
   "cell_type": "code",
   "execution_count": null,
   "metadata": {},
   "outputs": [],
   "source": [
    "globale_temp = pd.read_csv(\"../.data/IntroductiePython/globaleTemperatuur.dat\")           # data NASA"
   ]
  },
  {
   "cell_type": "code",
   "execution_count": null,
   "metadata": {},
   "outputs": [],
   "source": [
    "print(globale_temp)"
   ]
  },
  {
   "cell_type": "markdown",
   "metadata": {},
   "source": [
    "Merk op dat deze metingen lopen tot in 2018, en je hebt ze maar tot 1996 nodig."
   ]
  },
  {
   "cell_type": "code",
   "execution_count": null,
   "metadata": {},
   "outputs": [],
   "source": [
    "x_globale_temp = globale_temp[\"jaar\"]"
   ]
  },
  {
   "cell_type": "code",
   "execution_count": null,
   "metadata": {},
   "outputs": [],
   "source": [
    "y_globale_temp = globale_temp[\"temperatuur\"]"
   ]
  },
  {
   "cell_type": "code",
   "execution_count": null,
   "metadata": {},
   "outputs": [],
   "source": [
    "x_globale_temp = np.array(x_globale_temp)\n",
    "y_globale_temp = np.array(y_globale_temp)"
   ]
  },
  {
   "cell_type": "code",
   "execution_count": null,
   "metadata": {},
   "outputs": [],
   "source": [
    "np.where(x_globale_temp == 1996)"
   ]
  },
  {
   "cell_type": "code",
   "execution_count": null,
   "metadata": {},
   "outputs": [],
   "source": [
    "print(x_globale_temp[116])"
   ]
  },
  {
   "cell_type": "code",
   "execution_count": null,
   "metadata": {},
   "outputs": [],
   "source": [
    "x_temp = x_globale_temp[:117]\n",
    "y_temp = y_globale_temp[:117]"
   ]
  },
  {
   "cell_type": "code",
   "execution_count": null,
   "metadata": {},
   "outputs": [],
   "source": [
    "print(x_temp, y_temp)"
   ]
  },
  {
   "cell_type": "markdown",
   "metadata": {},
   "source": [
    "<div style='color: #690027;' markdown=\"1\">\n",
    "    <h3>4.3 Verloop temperatuur en verandering  CO$_{2}$-concentratie op één grafiek</h3> \n",
    "</div>"
   ]
  },
  {
   "cell_type": "code",
   "execution_count": null,
   "metadata": {},
   "outputs": [],
   "source": [
    "print(y_temp.min(), y_temp.max())"
   ]
  },
  {
   "cell_type": "code",
   "execution_count": null,
   "metadata": {},
   "outputs": [],
   "source": [
    "print(y_CO2.min(), y_CO2.max())"
   ]
  },
  {
   "cell_type": "code",
   "execution_count": null,
   "metadata": {},
   "outputs": [],
   "source": [
    "# grafiek met twee krommen met verschillende schaal op y-as \n",
    "fig, ax1 = plt.subplots(figsize=(8, 6))    \n",
    "ax2 = ax1.twinx()   # voor gemeenschappelijke x-as\n",
    "\n",
    "plt.xlim(1850, 2020)\n",
    "ax1.set_ylim(280, 370)\n",
    "ax2.set_ylim(-0.6, 0.6)\n",
    "plt.xlabel(\"jaartal\")\n",
    "ax1.set_ylabel(\"CO$_{2}$ (ppm)\", color=\"blue\")\n",
    "ax2.set_ylabel(\"temperatuur anomalie (°C)\\n(relatief t.o.v. 1951-1980)\", color=\"green\")\n",
    "\n",
    "\n",
    "ax1.plot(x_CO2, y_CO2, color=\"blue\")\n",
    "ax2.plot(x_temp, y_temp, color=\"green\")\n",
    "\n",
    "\n",
    "plt.title(\"Temperatuur vs. CO$_{2}$ (1882-1996)\")\n",
    "\n",
    "# plt.ylabel(\"temperatuur relatief tov....\")\n",
    "fig.tight_layout()\n",
    "plt.show()\n",
    "\n",
    "fig.savefig('tempCO2.png')\n",
    "\n",
    "# ax1.set_xlabel('time (s)')\n",
    "# ax1.set_ylabel('exp', color=color)\n"
   ]
  },
  {
   "cell_type": "markdown",
   "metadata": {},
   "source": [
    "<div style='color: #690027;' markdown=\"1\">\n",
    "    <h2>5. Keelingcurve</h2> \n",
    "</div>"
   ]
  },
  {
   "cell_type": "markdown",
   "metadata": {},
   "source": [
    "De Keelingcurve is een van de belangrijkste krommen in het klimaatonderzoek."
   ]
  },
  {
   "cell_type": "markdown",
   "metadata": {},
   "source": [
    "We beschouwen de data vanaf 1958, toen Keeling met zijn metingen begon. "
   ]
  },
  {
   "cell_type": "code",
   "execution_count": null,
   "metadata": {},
   "outputs": [],
   "source": [
    "keeling = pd.read_csv(\"../.data/IntroductiePython/keeling.dat\")    # data Scripps\n",
    "keeling"
   ]
  },
  {
   "cell_type": "code",
   "execution_count": null,
   "metadata": {},
   "outputs": [],
   "source": [
    "x_keel = keeling[\"Date.1\"]\n",
    "y_keel = keeling[\"CO2\"]"
   ]
  },
  {
   "cell_type": "code",
   "execution_count": null,
   "metadata": {
    "scrolled": false
   },
   "outputs": [],
   "source": [
    "print(x_keel, y_keel)"
   ]
  },
  {
   "cell_type": "code",
   "execution_count": null,
   "metadata": {},
   "outputs": [],
   "source": [
    "x_keel = np.array(x_keel)\n",
    "y_keel = np.array(y_keel)"
   ]
  },
  {
   "cell_type": "markdown",
   "metadata": {},
   "source": [
    "In de data is er een opvallende waarde die meermaals terugkomt: -99.99.<br>\n",
    "Dat zijn eigenlijk **ontbrekende metingen**. Die moet je eruit halen.\n",
    "Pieter Tans verklaart: \"-99.99 betekent immers dat er geen geldige metingen zijn voor dat uur, die dag of die maand. Soms is er een technisch probleem, een orkaan of een vulkaanuitbarsting waarbij de elektriciteit uitgevallen is.\" "
   ]
  },
  {
   "cell_type": "markdown",
   "metadata": {},
   "source": [
    "Om -99.99 te kunnen verwijderen, moet je eerst nagaan op welke plaatsen in de NumPy array deze waarde voorkomt. Je moet immers ook het overeenkomstig jaartal verwijderen uit x_keel."
   ]
  },
  {
   "cell_type": "code",
   "execution_count": null,
   "metadata": {},
   "outputs": [],
   "source": [
    "np.where(y_keel == -99.99 )"
   ]
  },
  {
   "cell_type": "markdown",
   "metadata": {},
   "source": [
    "De waarden met deze indices moeten verwijderd worden. Ook de overeenkomstige uit x-keel."
   ]
  },
  {
   "cell_type": "code",
   "execution_count": null,
   "metadata": {},
   "outputs": [],
   "source": [
    "index = np.where(y_keel == -99.99 )\n",
    "print(len(x_keel), len(y_keel))\n",
    "y_keel_aangepast = np.delete(y_keel, index)\n",
    "x_keel_aangepast = np.delete(x_keel, index)\n",
    "print(x_keel_aangepast, y_keel_aangepast)\n",
    "print(len(x_keel_aangepast),len(y_keel_aangepast))"
   ]
  },
  {
   "cell_type": "code",
   "execution_count": null,
   "metadata": {},
   "outputs": [],
   "source": [
    "plt.figure(figsize=(10,8))    \n",
    "plt.xlim(1950, 2025)\n",
    "plt.ylim(250, 450)\n",
    "plt.plot(x_keel_aangepast, y_keel_aangepast, color=\"blue\")\n",
    "plt.title(\"Keelingcurve\")\n",
    "plt.xlabel(\"jaartal\")\n",
    "plt.ylabel(\"CO$_{2}$ (in ppm)\")\n",
    "plt.show()"
   ]
  },
  {
   "cell_type": "markdown",
   "metadata": {},
   "source": [
    "Let op de vorm. \n",
    "-  Welke trend kun je vaststellen?\n",
    "-  Kun je het zigzaggen verklaren?"
   ]
  },
  {
   "cell_type": "markdown",
   "metadata": {},
   "source": [
    "<div>\n",
    "    <h2>Referentielijst</h2> \n",
    "</div>"
   ]
  },
  {
   "cell_type": "markdown",
   "metadata": {},
   "source": [
    "[1] Earth System Research Laboratory, Global Monitoring Division. ESRL/GMD FTP Data Finder.<br> &nbsp; &nbsp; &nbsp; &nbsp; Geraadpleegd op 18 augustus 2019 via https://www.esrl.noaa.gov/gmd/dv/data/?category=Greenhouse%2BGases. <br>\n",
    "[2] Tans, P. (2018). Via e-mail.<br>\n",
    "[3] Pieter Bruegel the Elder [Public domain], via Wikimedia Commons. Geraadpleegd op 4 september 2019 via <br> &nbsp; &nbsp; &nbsp; &nbsp;  https://commons.wikimedia.org/wiki/File:Pieter_Bruegel_the_Elder_-_Hunters_in_the_Snow_(Winter)_-_Google_Art_Project.jpg<br>\n",
    "[4] Ahn, J., Brook, E.J., Mitchell, L.E., Rosen, J.C., McConnell, J.R., Taylor, K.C., Etheridge, D.M., & Rubino, M. (2012).<br> &nbsp; &nbsp; &nbsp; &nbsp; Atmospheric CO$_{2}$ over the last 1000 years: A high‐resolution record from the West Antarctic Ice Sheet (WAIS) Divide ice core.<br> &nbsp; &nbsp; &nbsp; &nbsp; *Global Biochemical Cycles.* Vol. 26. doi: 10.1029/2011GB004247. <br>\n",
    "[5] Mann, M.E. (2002). Little Ice Age.<br>\n",
    "[6] GISS Surface Temperature Analysis. Geraadpleegd op 4 september 2019 via <br> &nbsp; &nbsp; &nbsp; &nbsp; https://data.giss.nasa.gov/gistemp/graphs_v4/customize.html"
   ]
  },
  {
   "cell_type": "markdown",
   "metadata": {},
   "source": [
    "<img src=\"../.images/cclic.png\" alt=\"Banner\" align=\"left\" style=\"width:80px;\"/><br><br>\n",
    "Notebook KIKS, zie <a href=\"http://www.aiopschool.be\">ai op school</a>, van F. wyffels & N. Gesquière is in licentie gegeven volgens een <a href=\"http://creativecommons.org/licenses/by-nc-sa/4.0/\">Creative Commons Naamsvermelding-NietCommercieel-GelijkDelen 4.0 Internationaal-licentie</a>. "
   ]
  }
 ],
 "metadata": {
  "kernelspec": {
   "display_name": "Python 3",
   "language": "python",
   "name": "python3"
  },
  "language_info": {
   "codemirror_mode": {
    "name": "ipython",
    "version": 3
   },
   "file_extension": ".py",
   "mimetype": "text/x-python",
   "name": "python",
   "nbconvert_exporter": "python",
   "pygments_lexer": "ipython3",
   "version": "3.6.4"
  }
 },
 "nbformat": 4,
 "nbformat_minor": 2
}
