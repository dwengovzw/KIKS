{
 "cells": [
  {
   "cell_type": "markdown",
   "metadata": {},
   "source": [
    "<img src=\"../.images/logosnb.png\" alt=\"Banner\" style=\"width: 1100px;\"/>"
   ]
  },
  {
   "cell_type": "markdown",
   "metadata": {},
   "source": [
    "<div style='color: #690027;' markdown=\"1\">\n",
    "    <h1>REKENEN</h1> \n",
    "</div>"
   ]
  },
  {
   "cell_type": "markdown",
   "metadata": {},
   "source": [
    "<div class=\"alert alert-box alert-success\">\n",
    "In Python kan je ook rekenkundige bewerkingen maken. Python voorziet daartoe een aantal operatoren. <br>\n",
    "Soms zal het ook nodig zijn een module te importeren, die meer mogelijkheden biedt dan de standaardoperatoren.\n",
    "</div>"
   ]
  },
  {
   "cell_type": "markdown",
   "metadata": {},
   "source": [
    "<div style='color: #690027;' markdown=\"1\">\n",
    "    <h2>1. Rekenkundige operatoren</h2> \n",
    "</div>\n",
    "\n",
    "<table>\n",
    " <thead>\n",
    "    <tr>\n",
    "      <th>&nbsp;</th>  \n",
    "      <th><p align=\"center\">Wiskunde</th>\n",
    "      <th>&nbsp;</th>\n",
    "      <th><p align=\"center\">Python</th>\n",
    "      <th>&nbsp;</th>    \n",
    "  </thead>\n",
    "   <tr> <td> <p align=\"left\">plus           <td> <p align=\"center\">&nbsp;&nbsp;&nbsp;&nbsp; +   <td> <td> \n",
    "      <p align=\"center\">&nbsp;&nbsp;&nbsp;&nbsp; +   <td> <p align=\"left\">&nbsp;&nbsp;&nbsp; kan ook toegepast worden op strings  \n",
    "  <tr> <td> <p align=\"left\">min            <td> <p align=\"center\">&nbsp;&nbsp;&nbsp;&nbsp; -   <td> <td> \n",
    "      <p align=\"center\">&nbsp;&nbsp;&nbsp;&nbsp; -  <td>   \n",
    "  <tr> <td> <p align=\"left\">maal           <td> <p align=\"center\">&nbsp;&nbsp;&nbsp;&nbsp; \\.   <td> <td> \n",
    "      <p align=\"center\">&nbsp;&nbsp;&nbsp;&nbsp; \\*  <td> <p align=\"left\">&nbsp;&nbsp;&nbsp; kan ook toegepast worden op string  \n",
    "  <tr> <td>  <p align=\"left\">gedeeld door  <td> <p align=\"center\">&nbsp;&nbsp;&nbsp;&nbsp; /   <td> <td> \n",
    "      <p align=\"center\">&nbsp;&nbsp;&nbsp;&nbsp; /  <td>       \n",
    "  <tr> <td>  <p align=\"left\">gehele deling &nbsp;&nbsp; <td>                                    <td> <td> \n",
    "      <p align=\"center\">&nbsp;&nbsp;&nbsp;&nbsp; //   <td> <p align=\"left\">&nbsp;&nbsp;&nbsp; geeft geheel deel van quotiënt (afgerond naar beneden)  \n",
    "  <tr> <td> <p align=\"left\">modulo          <td> <p align=\"center\">&nbsp;&nbsp; mod             <td> <td> \n",
    "      <p align=\"center\">&nbsp;&nbsp;&nbsp; %          <td> <p align=\"left\">&nbsp;&nbsp;&nbsp; geeft rest na deling \n",
    "  <tr> <td> <p align=\"left\">macht          <td> <p align=\"center\">&nbsp;&nbsp;&nbsp; $a^b$     <td> <td> \n",
    "      <p align=\"center\">&nbsp;&nbsp;&nbsp; a**b <td>\n",
    "      \n",
    "</table>"
   ]
  },
  {
   "cell_type": "markdown",
   "metadata": {},
   "source": [
    "### Opdracht 1.1 Van wiskunde naar Python: oefen even met de operatoren"
   ]
  },
  {
   "cell_type": "markdown",
   "metadata": {},
   "source": [
    "Er wordt telkens een bewerking gegeven in de notatie die je gewoon bent uit de wiskundeles.<br> \n",
    "Bedenk zelf de uitkomst van de bewerking én controleer door de bewerking via een Python-instructie, die je ingeeft in de code-cel, uit te voeren. "
   ]
  },
  {
   "cell_type": "markdown",
   "metadata": {},
   "source": [
    "$2+7\\cdot8 =$  "
   ]
  },
  {
   "cell_type": "code",
   "execution_count": null,
   "metadata": {},
   "outputs": [],
   "source": []
  },
  {
   "cell_type": "markdown",
   "metadata": {},
   "source": [
    "$ (2 + 7)\\cdot 8 =$ "
   ]
  },
  {
   "cell_type": "code",
   "execution_count": null,
   "metadata": {},
   "outputs": [],
   "source": []
  },
  {
   "cell_type": "markdown",
   "metadata": {},
   "source": [
    "$ 2^5 =$ "
   ]
  },
  {
   "cell_type": "code",
   "execution_count": null,
   "metadata": {},
   "outputs": [],
   "source": []
  },
  {
   "cell_type": "markdown",
   "metadata": {},
   "source": [
    "$ -3^2 = $  "
   ]
  },
  {
   "cell_type": "code",
   "execution_count": null,
   "metadata": {},
   "outputs": [],
   "source": []
  },
  {
   "cell_type": "markdown",
   "metadata": {},
   "source": [
    "$17$ mod $4 =$ "
   ]
  },
  {
   "cell_type": "code",
   "execution_count": null,
   "metadata": {},
   "outputs": [],
   "source": []
  },
  {
   "cell_type": "markdown",
   "metadata": {},
   "source": [
    "$ 15 \\; / \\;  2 = $"
   ]
  },
  {
   "cell_type": "code",
   "execution_count": null,
   "metadata": {},
   "outputs": [],
   "source": []
  },
  {
   "cell_type": "markdown",
   "metadata": {},
   "source": [
    "$ 12 \\; / \\; 3 = $ "
   ]
  },
  {
   "cell_type": "code",
   "execution_count": null,
   "metadata": {},
   "outputs": [],
   "source": []
  },
  {
   "cell_type": "markdown",
   "metadata": {},
   "source": [
    "<div class=\"alert alert-box alert-info\">\n",
    "32 heeft het type <b>integer (int)</b>.<br>\n",
    "Een decimaal getal zoals 7,5 heeft het type <b>floating-point number (float)</b>. \n",
    "</div>"
   ]
  },
  {
   "cell_type": "markdown",
   "metadata": {},
   "source": [
    "### Verschillende operatoren voor een deling in Python\n",
    "Gedeeld door kan je in Python zowel met de operator `/` als de operator `//` laten uitvoeren.<br> **Wat is nu juist het verschil tussen de operator `/` en de operator  `//`?**"
   ]
  },
  {
   "cell_type": "markdown",
   "metadata": {},
   "source": [
    "### Opdracht 1.2  Het verschil tussen / en //"
   ]
  },
  {
   "cell_type": "markdown",
   "metadata": {},
   "source": [
    "Voer telkens de instructie in de code-cel uit en vergelijk de uitvoer van de verschillende instructies."
   ]
  },
  {
   "cell_type": "code",
   "execution_count": null,
   "metadata": {},
   "outputs": [],
   "source": [
    "9 / 2"
   ]
  },
  {
   "cell_type": "code",
   "execution_count": null,
   "metadata": {},
   "outputs": [],
   "source": [
    "9.0 / 2.0  "
   ]
  },
  {
   "cell_type": "code",
   "execution_count": null,
   "metadata": {},
   "outputs": [],
   "source": [
    "9.0 / 2"
   ]
  },
  {
   "cell_type": "code",
   "execution_count": null,
   "metadata": {},
   "outputs": [],
   "source": [
    "9 / 2.0"
   ]
  },
  {
   "cell_type": "code",
   "execution_count": null,
   "metadata": {},
   "outputs": [],
   "source": [
    "9 // 2"
   ]
  },
  {
   "cell_type": "code",
   "execution_count": null,
   "metadata": {},
   "outputs": [],
   "source": [
    "9.0 // 2 "
   ]
  },
  {
   "cell_type": "markdown",
   "metadata": {},
   "source": [
    "Begrijp je nu het verschil tussen  `/`  en  `//`  ?"
   ]
  },
  {
   "cell_type": "markdown",
   "metadata": {},
   "source": [
    "<div style='color: #690027;' markdown=\"1\">\n",
    "    <h2>2. De standaardmodule 'math'</h2> \n",
    "</div>"
   ]
  },
  {
   "cell_type": "markdown",
   "metadata": {},
   "source": [
    "<div class=\"alert alert-block alert-info\"> \n",
    "In een <b>module</b> zitten heel wat functies vervat die ervaren informatici reeds voor jou hebben geprogrammeerd. Zo wordt het gebruik van Python zeer toegankelijk. Om een module te kunnen gebruiken, moet je die eerst <b>importeren</b>.  \n",
    "</div>"
   ]
  },
  {
   "cell_type": "markdown",
   "metadata": {},
   "source": [
    "Vaak zijn deze eenvoudige rekenkundige bewerkingen niet voldoende. Soms wil je bv. een vierkantswortel berekenen.<br>\n",
    "In de *module* 'math' zijn een heleboel wiskundige functies voorzien. Door de module te importeren, kan je gebruik maken van al deze functies. <br>\n",
    "Importeren doe je door de volgende instructie uit te voeren. "
   ]
  },
  {
   "cell_type": "code",
   "execution_count": null,
   "metadata": {},
   "outputs": [],
   "source": [
    "import math                      # module importeren"
   ]
  },
  {
   "cell_type": "markdown",
   "metadata": {},
   "source": [
    "<div class=\"alert alert-block alert-warning\"> \n",
    "Met <b>#</b> kan je commentaar toevoegen die verduidelijkt wat de code doet. Commentaar maakt de code gemakkelijker leesbaar. <br>\n",
    "Bij het uitvoeren van de code, wordt de commentaar door Python overgeslagen. \n",
    "</div>"
   ]
  },
  {
   "cell_type": "markdown",
   "metadata": {},
   "source": [
    "Behalve met vierkantswortels, kan je nu bv. ook met het getal $\\pi$ en met goniometrische functies aan de slag.\n",
    "Test eens uit."
   ]
  },
  {
   "cell_type": "code",
   "execution_count": null,
   "metadata": {},
   "outputs": [],
   "source": [
    "# constante pi wordt opgeroepen uit de module 'math' en wordt afgedrukt\n",
    "print(math.pi) \n",
    "\n",
    "# functie sqrt() wordt opgeroepen uit de module 'math'\n",
    "# de vierkantswortel van 16 wordt berekend en afgedrukt\n",
    "print(math.sqrt(16))                     "
   ]
  },
  {
   "cell_type": "markdown",
   "metadata": {},
   "source": [
    "Je kan het ook als volgt doen. Je hoeft dan de naam van de module niet meer te vermelden om een functie of een constante op te roepen. "
   ]
  },
  {
   "cell_type": "code",
   "execution_count": null,
   "metadata": {},
   "outputs": [],
   "source": [
    "from math import sqrt, pi, radians, sin             # nodige constante en functies importeren uit module 'math'\n",
    "\n",
    "# .............\n",
    "print(pi)      \n",
    "\n",
    "# .............\n",
    "print(sqrt(2))\n",
    "\n",
    "# .............\n",
    "print(sin(radians(30)))"
   ]
  },
  {
   "cell_type": "markdown",
   "metadata": {},
   "source": [
    "`sqrt()`, `radians()` en `sin()` zijn functies."
   ]
  },
  {
   "cell_type": "markdown",
   "metadata": {},
   "source": [
    "### Opdracht 2.1 \n",
    "Vul de commentaar in de vorige code-cel aan."
   ]
  },
  {
   "cell_type": "markdown",
   "metadata": {},
   "source": [
    "<div style='color: #690027;' markdown=\"1\">\n",
    "    <h2>3. Oefeningen</h2> \n",
    "</div>"
   ]
  },
  {
   "cell_type": "markdown",
   "metadata": {},
   "source": [
    "Los volgende oefeningen op door een instructie te schrijven in de voorziene code-cellen. Voer die dan ook uit!"
   ]
  },
  {
   "cell_type": "markdown",
   "metadata": {},
   "source": [
    "1)\tHoeveel boeketten van € 53 kan men kopen met € 2564? "
   ]
  },
  {
   "cell_type": "code",
   "execution_count": null,
   "metadata": {},
   "outputs": [],
   "source": []
  },
  {
   "cell_type": "markdown",
   "metadata": {},
   "source": [
    "2) Bereken de inhoud van een bol met straal 7 cm. Controleer met je GRM."
   ]
  },
  {
   "cell_type": "code",
   "execution_count": null,
   "metadata": {},
   "outputs": [],
   "source": []
  },
  {
   "cell_type": "markdown",
   "metadata": {},
   "source": [
    "3)\tTina heeft deelgenomen aan een loopwedstrijd van 6 mijl in Washington. Ze legde de afstand af in 62 minuten en 20 seconden. Aan welke snelheid, uitgedrukt in km/h, liep Tina gemiddeld? (1 mijl is gelijk aan 1,61 km.)"
   ]
  },
  {
   "cell_type": "code",
   "execution_count": null,
   "metadata": {},
   "outputs": [],
   "source": []
  },
  {
   "cell_type": "markdown",
   "metadata": {},
   "source": [
    "4) Hoeveel combinaties kan men maken met een 0 of een 1 op 8 plaatsen **. . . . . . . .** , zoals 01100100? "
   ]
  },
  {
   "cell_type": "code",
   "execution_count": null,
   "metadata": {},
   "outputs": [],
   "source": []
  },
  {
   "cell_type": "markdown",
   "metadata": {},
   "source": [
    "<div class=\"alert alert-block alert-info\"> \n",
    "Een <b>bit</b> is een informatie-eenheid. De term is afkomstig van <b>binary digit</b>. Het is een eenheid die enkel de waarden 0 en 1 kan aannemen. <br>Acht bits vormen samen een <b>byte</b>. \n",
    "</div>"
   ]
  },
  {
   "cell_type": "markdown",
   "metadata": {},
   "source": [
    "<div class=\"alert alert-block alert-warning\"> \n",
    "Opmerking: code die <b>uitgevoerd</b> werd in de notebook, blijft <b>onthouden</b>. \n",
    "</div>"
   ]
  },
  {
   "cell_type": "markdown",
   "metadata": {},
   "source": [
    "<img src=\"../.images/cclic.png\" alt=\"Banner\" align=\"left\" style=\"width:100px;\"/><br><br>\n",
    "Notebook KIKS, zie <a href=\"http://www.aiopschool.be\">AI op School</a>, van F. wyffels & N. Gesquière is in licentie gegeven volgens een <a href=\"http://creativecommons.org/licenses/by-nc-sa/4.0/\">Creative Commons Naamsvermelding-NietCommercieel-GelijkDelen 4.0 Internationaal-licentie</a>. "
   ]
  }
 ],
 "metadata": {
  "kernelspec": {
   "display_name": "Python 3",
   "language": "python",
   "name": "python3"
  },
  "language_info": {
   "codemirror_mode": {
    "name": "ipython",
    "version": 3
   },
   "file_extension": ".py",
   "mimetype": "text/x-python",
   "name": "python",
   "nbconvert_exporter": "python",
   "pygments_lexer": "ipython3",
   "version": "3.6.4"
  }
 },
 "nbformat": 4,
 "nbformat_minor": 2
}
