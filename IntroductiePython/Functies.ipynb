{
 "cells": [
  {
   "cell_type": "markdown",
   "metadata": {},
   "source": [
    "# KIKS\n",
    "Sint-Bavohumaniora, KA Etterbeek, UGent, Plantentuin Meise, Accenture"
   ]
  },
  {
   "cell_type": "markdown",
   "metadata": {},
   "source": [
    "<div style='color: #690027;' markdown=\"1\">\n",
    "    <h1>FUNCTIES</h1> \n",
    "</div>"
   ]
  },
  {
   "cell_type": "markdown",
   "metadata": {},
   "source": [
    "<div style='color: #690027;' markdown=\"1\">\n",
    "    <h2>Voorbeeld</h2> \n",
    "</div>"
   ]
  },
  {
   "cell_type": "markdown",
   "metadata": {},
   "source": [
    "Onderstaand script vraagt een gebruiker om de lengte van de twee rechthoekszijden van een rechthoekige driehoek in te geven. Via de zelfgedefinieerde functie ‘pythagoras’ zal het  script dan de lengte van de schuine zijde berekenen. Voer het script uit."
   ]
  },
  {
   "cell_type": "code",
   "execution_count": null,
   "metadata": {},
   "outputs": [],
   "source": [
    "import math"
   ]
  },
  {
   "cell_type": "code",
   "execution_count": null,
   "metadata": {},
   "outputs": [],
   "source": [
    "def pythagoras(a, b):\n",
    "    \"\"\"Schuine zijde rechthoekige driehoek.\"\"\"\n",
    "    schuinezijde = math.sqrt(a**2 + b**2)\n",
    "    return schuinezijde\n",
    "    \n",
    "print(\"Geef de lengtes in van de twee rechthoekszijden van een rechthoekige driehoek.\")    \n",
    "a = float(input(\"Eerste rechthoekszijde: \"))\n",
    "b = float(input(\"Tweede rechthoekszijde: \"))\n",
    "\n",
    "c = pythagoras(a,b)\n",
    "print(\"\\n De schuine zijde is\", c)"
   ]
  },
  {
   "cell_type": "markdown",
   "metadata": {},
   "source": [
    "<div style='color: #690027;' markdown=\"1\">\n",
    "    <h2>Oefening 1</h2> \n",
    "</div>"
   ]
  },
  {
   "cell_type": "markdown",
   "metadata": {},
   "source": [
    " Bekijk het volgende script. Vul de docstring aan. <br>\n",
    " Wat is de output? Antwoord zonder het script uit te voeren.<br>\n",
    " Controleer nadien door het script uit te voeren."
   ]
  },
  {
   "cell_type": "code",
   "execution_count": null,
   "metadata": {},
   "outputs": [],
   "source": [
    "def bewerking(a, b):\n",
    "    \"\"\" ................................................\"\"\"\n",
    "    kwadr_som = (a + b)**2\n",
    "    return kwadr_som\n",
    "\n",
    "getal1 = bewerking(2, 5)\n",
    "getal2 = bewerking(1, -1)\n",
    "getal3 = bewerking(7, -2)\n",
    "\n",
    "print(getal1, getal2, getal3)"
   ]
  },
  {
   "cell_type": "markdown",
   "metadata": {},
   "source": [
    "Antwoord: "
   ]
  },
  {
   "cell_type": "markdown",
   "metadata": {},
   "source": [
    "<div style='color: #690027;' markdown=\"1\">\n",
    "    <h2>Oefening 2</h2> \n",
    "</div>"
   ]
  },
  {
   "cell_type": "markdown",
   "metadata": {},
   "source": [
    "Vul het script aan en voer het uit."
   ]
  },
  {
   "cell_type": "code",
   "execution_count": null,
   "metadata": {},
   "outputs": [],
   "source": [
    "def afstand(x1,y1,x2,y2):\n",
    "    \"\"\"Afstand tussen twee punten.\"\"\"\n",
    "    d = math.sqrt((x2-x1)**2 + (y2-y1)**2)\n",
    "    return d\n",
    "\n",
    "# afstand tussen A(2,3) en B(7,8)\n",
    "afstand1 = afstand(2,3,7,8)\n",
    "print(\"d(A,B)=\", afstand1)\n",
    "\n",
    "# afstand tussen C(9,0) en D(-2,4)\n",
    "...\n",
    "...\n",
    "\n",
    "# afprinten welke twee punten het verst van elkaar liggen, E(10,-1) en F(2,3), of G(0,0) en H(20,3)\n",
    "verschil_in_afstand = ...\n",
    "if verschil_in_afstand > 0:\n",
    "    print(\"  ...                                \")\n",
    "elif ...\n",
    "    print(\"  ...                                \") \n",
    "else:\n",
    "    print(\"  ...                                \")"
   ]
  },
  {
   "cell_type": "markdown",
   "metadata": {},
   "source": [
    "<div style='color: #690027;' markdown=\"1\">\n",
    "    <h2>Oefening 3</h2> \n",
    "</div>"
   ]
  },
  {
   "cell_type": "markdown",
   "metadata": {},
   "source": [
    "Vul het script aan en voer het uit."
   ]
  },
  {
   "cell_type": "code",
   "execution_count": null,
   "metadata": {},
   "outputs": [],
   "source": [
    "# inhouden berekenen zonder dat je zelf de formules moet kennen\n",
    "def inhoud_kubus(z):\n",
    "    \"\"\"Inhoud van kubus met zijde z.\"\"\"\n",
    "    i = z**3\n",
    "    return i\n",
    "\n",
    "def inhoud_cilinder(r, h):\n",
    "    \"\"\"Inhoud van cilinder met straal r en hoogte h.\"\"\"\n",
    "    i = math.pi * r**2 * h\n",
    "    return i  \n",
    "\n",
    "def inhoud_bol(r):\n",
    "    \"\"\"Inhoud van bol met straal r.\"\"\"\n",
    "    i = 4 / 3 * math.pi * r**3\n",
    "    return i  \n",
    "\n",
    "# inhoud van cilinder C met straal 4 m en hoogte 10 m\n",
    "...\n",
    "print(\"De inhoud van C is\", inhoud_C, \"m³\")\n",
    "\n",
    "# inhoud van kubus K met zijde 2 cm\n",
    "...\n",
    "...\n",
    "\n",
    "# inhoud van bol B met straal 15 mm\n",
    "...\n",
    "..."
   ]
  }
 ],
 "metadata": {
  "kernelspec": {
   "display_name": "Python 3",
   "language": "python",
   "name": "python3"
  },
  "language_info": {
   "codemirror_mode": {
    "name": "ipython",
    "version": 3
   },
   "file_extension": ".py",
   "mimetype": "text/x-python",
   "name": "python",
   "nbconvert_exporter": "python",
   "pygments_lexer": "ipython3",
   "version": "3.6.6"
  }
 },
 "nbformat": 4,
 "nbformat_minor": 2
}
