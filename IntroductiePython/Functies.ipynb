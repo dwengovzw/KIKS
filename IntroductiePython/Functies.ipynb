{
 "cells": [
  {
   "cell_type": "markdown",
   "metadata": {},
   "source": [
    "<img src=\"../.images/logosnb.png\" alt=\"Banner\" style=\"width: 1100px;\"/>"
   ]
  },
  {
   "cell_type": "markdown",
   "metadata": {},
   "source": [
    "<div style='color: #690027;' markdown=\"1\">\n",
    "    <h1>FUNCTIES</h1> \n",
    "</div>"
   ]
  },
  {
   "cell_type": "markdown",
   "metadata": {},
   "source": [
    "<div class=\"alert alert-block alert-success\">\n",
    "Python kent heel wat ingebouwde functies, zoals <span style=\"background-color:whitesmoke; font-family:consolas; font-size:1em;\">print()</span>, <span style=\"background-color:whitesmoke; font-family:consolas; font-size:1em;\">input()</span>, <span style=\"background-color:whitesmoke; font-family:consolas; font-size:1em;\">type()</span>, <span style=\"background-color:whitesmoke; font-family:consolas; font-size:1em;\">int()</span> en <span style=\"background-color:whitesmoke; font-family:consolas; font-size:1em;\">len()</span>. In deze notebook leer je zelf een functie definiëren. Je kan deze functie nadien meermaals gebruiken.\n",
    "</div>"
   ]
  },
  {
   "cell_type": "markdown",
   "metadata": {},
   "source": [
    "<div class=\"alert alert-block alert-info\">\n",
    "Als je bepaalde code meerdere keren wilt gebruiken, loont het de moeite om zelf een functie te definiëren.<br> Functies worden gedeclareerd met het sleutelwoord <b>def</b>. Via het sleutelwoord <b>return</b> geven ze een resultaat terug.<br>\n",
    "Een <b>docstring</b> verduidelijkt het doel van de functie.\n",
    "</div>"
   ]
  },
  {
   "cell_type": "markdown",
   "metadata": {},
   "source": [
    "Om vierkantswortels te kunnen berekenen of het getal $\\pi$ te kunnen gebruiken, maak je gebruik van de *module math*. Deze module moet eerst geïmporteerd worden. Hiervoor voer je de volgende code-cel uit. "
   ]
  },
  {
   "cell_type": "code",
   "execution_count": null,
   "metadata": {},
   "outputs": [],
   "source": [
    "import math"
   ]
  },
  {
   "cell_type": "markdown",
   "metadata": {},
   "source": [
    "<div class=\"alert alert-block alert-warning\"> \n",
    "Meer voorbeelden van het gebruik van de module math vind je in de notebook 'Rekenen'.\n",
    "</div>"
   ]
  },
  {
   "cell_type": "markdown",
   "metadata": {},
   "source": [
    "<div class=\"alert alert-block alert-warning\"> \n",
    "In plaats van de module math kan je ook de module NumPy gebruiken. Numpy komt ook verder in deze notebook aan bod.\n",
    "</div>"
   ]
  },
  {
   "cell_type": "markdown",
   "metadata": {},
   "source": [
    "<div style='color: #690027;' markdown=\"1\">\n",
    "    <h2>1. Functie, input, output, docstring</h2> \n",
    "</div>"
   ]
  },
  {
   "cell_type": "markdown",
   "metadata": {},
   "source": [
    "### Voorbeeld\n",
    "Onderstaand script vraagt een gebruiker om de lengte van de twee rechthoekszijden van een rechthoekige driehoek in te geven. Via de zelfgedefinieerde functie `pythagoras` zal het script dan de lengte van de schuine zijde berekenen. <br>\n",
    "Daartoe worden aan `pythagoras` de rechthoekszijden gegeven; na berekening geeft `pythagoras` de schuine zijde terug aan het script. Dat gebeurt via het sleutelwoord `return`.<br>\n",
    "Voer het script uit."
   ]
  },
  {
   "cell_type": "code",
   "execution_count": null,
   "metadata": {},
   "outputs": [],
   "source": [
    "# functie definiëren\n",
    "def pythagoras(a, b):\n",
    "    \"\"\"Schuine zijde rechthoekige driehoek.\"\"\"\n",
    "    schuinezijde = math.sqrt(a**2 + b**2)\n",
    "    return schuinezijde\n",
    "\n",
    "# input\n",
    "print(\"Geef de lengtes in van de twee rechthoekszijden van een rechthoekige driehoek.\")    \n",
    "rhz1 = float(input(\"Eerste rechthoekszijde: \"))\n",
    "rhz2 = float(input(\"Tweede rechthoekszijde: \"))\n",
    "\n",
    "# input verwerken\n",
    "# functie wordt opgeroepen en geeft schuine zijde terug\n",
    "# variabele c refereert aan teruggegeven waarde\n",
    "c = pythagoras(rhz1, rhz2)  \n",
    "\n",
    "# output\n",
    "print(\"\\n De schuine zijde is\", c)"
   ]
  },
  {
   "cell_type": "markdown",
   "metadata": {},
   "source": [
    "`\"\"\"Schuine zijde rechthoekige driehoek.\"\"\"` is een docstring. **Een docstring beschrijft wat het doel is van de functie.** <br><br>\n",
    "Via de functie `input()` wordt er aan de gebruiker gevraagd om een rechthoekszijde van een rechthoekige driehoek in te geven. Wat de gebruiker ingeeft wordt steeds geïnterpreteerd als een string, maar de lengte van een zijde is een getal. In het script wordt dat opgevangen door *typecasting*. De lengtes van de zijden kunnen een decimaal getal zijn, daarom wordt de ingegeven string omgezet naar het type `float`. "
   ]
  },
  {
   "cell_type": "markdown",
   "metadata": {},
   "source": [
    "<div class=\"alert alert-block alert-warning\"> \n",
    "Meer uitleg over <em>typecasting</em> vind je in de notebook 'Datastructuur'.\n",
    "</div>"
   ]
  },
  {
   "cell_type": "markdown",
   "metadata": {},
   "source": [
    "<div class=\"alert alert-block alert-info\">\n",
    "<span style=\"background-color:whitesmoke; font-family:consolas; font-size:1em;\">def</span>, <span style=\"background-color:whitesmoke; font-family:consolas; font-size:1em;\">else</span>, <span style=\"background-color:whitesmoke; font-family:consolas; font-size:1em;\">False</span>, <span style=\"background-color:whitesmoke; font-family:consolas; font-size:1em;\">for</span>, <span style=\"background-color:whitesmoke; font-family:consolas; font-size:1em;\">if</span>, <span style=\"background-color:whitesmoke; font-family:consolas; font-size:1em;\">import</span>, <span style=\"background-color:whitesmoke; font-family:consolas; font-size:1em;\">in</span>, <span style=\"background-color:whitesmoke; font-family:consolas; font-size:1em;\">return</span>, <span style=\"background-color:whitesmoke; font-family:consolas; font-size:1em;\">while</span> zijn *sleutelwoorden* in Python. In een script ingevoerd in Jupyter notebook kan je ze herkennen omdat ze vetgedrukt zijn. <br><b>Sleutelwoorden zijn woorden die in Python gereserveerd zijn voor een bepaald doel.</b> Kies dus nooit een sleutelwoord als naam voor een variabele. \n",
    "De sleutelwoorden zijn hoofdlettergevoelig en moeten exact geschreven worden zoals ze zijn gereserveerd. \n",
    "\n",
    "Twijfel je of een bepaald woord een sleutelwoord is? Dan kan je via het volgende Python-script alle sleutelwoorden opvragen. \n",
    "</div>"
   ]
  },
  {
   "cell_type": "code",
   "execution_count": null,
   "metadata": {},
   "outputs": [],
   "source": [
    "import keyword\n",
    "keyword.kwlist"
   ]
  },
  {
   "cell_type": "markdown",
   "metadata": {},
   "source": [
    "### Oefening 1.1"
   ]
  },
  {
   "cell_type": "markdown",
   "metadata": {},
   "source": [
    " Bekijk het volgende script. Vul de docstring aan. <br>\n",
    " Wat is de output? Antwoord zonder het script uit te voeren.<br>\n",
    " Controleer nadien door het script uit te voeren."
   ]
  },
  {
   "cell_type": "code",
   "execution_count": null,
   "metadata": {},
   "outputs": [],
   "source": [
    "def bewerking(a, b):\n",
    "    \"\"\"................................................\"\"\"\n",
    "    kwadr_som = (a + b)**2\n",
    "    return kwadr_som\n",
    "\n",
    "# verwerken\n",
    "getal1 = bewerking(2, 5)\n",
    "getal2 = bewerking(1, -1)\n",
    "getal3 = bewerking(7, -2)\n",
    "\n",
    "# uitvoer\n",
    "print(getal1, getal2, getal3)"
   ]
  },
  {
   "cell_type": "markdown",
   "metadata": {},
   "source": [
    "Antwoord:"
   ]
  },
  {
   "cell_type": "markdown",
   "metadata": {},
   "source": [
    "### Voorbeeld"
   ]
  },
  {
   "cell_type": "markdown",
   "metadata": {},
   "source": [
    "Bij uitvoer van het volgende script wordt de gebruiker naar een willekeurig geheel getal gevraagd. <br>\n",
    "Erna wordt 7 gedeeld door dat getal via de functie `zevendelen()`. Het quotiënt wordt getoond. Als de gebruiker het getal 0 invoert, is er echter geen quotiënt.<br>\n",
    "Voer het script enkele keren uit. Probeer verschillende getallen, vergeet 0 niet. "
   ]
  },
  {
   "cell_type": "code",
   "execution_count": null,
   "metadata": {},
   "outputs": [],
   "source": [
    "def zevendelen(getal):\n",
    "    \"\"\"Quotiënt van 7 met een getal.\"\"\"\n",
    "    if getal != 0:\n",
    "        resultaat =  7 / getal             # als noemer niet 0 is, bereken quotiënt\n",
    "    else:\n",
    "        resultaat = None                   # als noemer 0 is, dan is er geen quotiënt\n",
    "    return resultaat\n",
    "\n",
    "# invoer\n",
    "print(\"Deel 7 door een geheel getal naar keuze.\")\n",
    "noemer = int(input(\"Geef een getal om door te delen: \"))  # 7 is teller, in te voeren getal is noemer\n",
    "\n",
    "# invoer verwerken\n",
    "quot = zevendelen(noemer)    # quotiënt\n",
    "\n",
    "# uitvoer\n",
    "print(quot)"
   ]
  },
  {
   "cell_type": "markdown",
   "metadata": {},
   "source": [
    "<div class=\"alert alert-block alert-info\">\n",
    "Begrijp je wat er gebeurt?<br>\n",
    "Er wordt gevraagd naar een getal. Jij geeft dat getal in. Deze invoer wordt geïnterpreteerd als string, maar met typecasting omgezet naar een object dat type int heeft. De variabele <span style=\"background-color:whitesmoke; font-family:consolas; font-size:1em;\">noemer</span> refereert aan dat object. <br>\n",
    "De invoer wordt vervolgens verwerkt. De functie wordt opgeroepen: 7 wordt gedeeld door de waarde van <span style=\"background-color:whitesmoke; font-family:consolas; font-size:1em;\">noemer</span>, tenminste als die waarde niet nul is. Het quotiënt is een object dat type float heeft. De variabele <span style=\"background-color:whitesmoke; font-family:consolas; font-size:1em;\">resultaat</span> verwijst naar dat float-object. In het geval dat de invoer 0 is, verwijst de variabele <span style=\"background-color:whitesmoke; font-family:consolas; font-size:1em;\">resultaat</span> naar een object dat type <span style=\"background-color:whitesmoke; font-family:consolas; font-size:1em;\">NoneType</span> heeft. <br>\n",
    "De variabele <span style=\"background-color:whitesmoke; font-family:consolas; font-size:1em;\">quot</span> refereert aan hetzelfde object als de variabele <span style=\"background-color:whitesmoke; font-family:consolas; font-size:1em;\">resultaat</span>, die de functie teruggeeft. <br>\n",
    "De waarde van dat object <span style=\"background-color:whitesmoke; font-family:consolas; font-size:1em;\">quot</span> wordt afgeprint. \n",
    "</div>"
   ]
  },
  {
   "cell_type": "markdown",
   "metadata": {},
   "source": [
    "### Oefening 1.2\n",
    "Welk type heeft het object waarnaar `quot` verwijst?<br><br>\n",
    "Antwoord: "
   ]
  },
  {
   "cell_type": "markdown",
   "metadata": {},
   "source": [
    "<div style='color: #690027;' markdown=\"1\">\n",
    "    <h2>2. Module Random</h2> \n",
    "</div>"
   ]
  },
  {
   "cell_type": "markdown",
   "metadata": {},
   "source": [
    "*In de module NumPy* is er een *module Random* waarmee men toevalsgetallen kan genereren. <br>In het volgende script worden twee functies uit de module Random gebruikt: de functie `random()` om decimale getallen te genereren en de functie `randint()`, met twee parameters, om gehele getallen te genereren. Het is dus nodig om eerst de module NumPy te importeren.<br>\n",
    "De getallen gegenereerd door `random()` liggen altijd in [0,1[ en de getallen gegenereerd door `randint()` liggen in het halfopen interval bepaald door de twee argumenten die je aan de functie meegeeft, de bovengrens niet inbegrepen. <br>\n",
    "Om deze functies op te roepen, laat je ze voorgaan door `np.random.`."
   ]
  },
  {
   "cell_type": "markdown",
   "metadata": {},
   "source": [
    "### Voorbeeld\n",
    "Test het volgende script eens uit:"
   ]
  },
  {
   "cell_type": "code",
   "execution_count": null,
   "metadata": {},
   "outputs": [],
   "source": [
    "import numpy as np\n",
    "\n",
    "# for-lus wordt 10 keer doorlopen\n",
    "for teller in range(10):\n",
    "    print(\"teller = \", teller)\n",
    "    print(np.random.random())        # functie random() genereert decimaal getal in [0,1[\n",
    "    print(np.random.randint(0, 4))   # functie randint(0,4) kiest willekeurig geheel getal uit [0,4[ \n",
    "    print()"
   ]
  },
  {
   "cell_type": "markdown",
   "metadata": {},
   "source": [
    "### Oefening 2.1: dobbelsteen"
   ]
  },
  {
   "cell_type": "markdown",
   "metadata": {},
   "source": [
    "Jan en Piet willen samen een gezelschapsspel spelen. Diegene die met twee dobbelstenen het hoogste aantal ogen gooit, mag starten. Ze kunnen de dobbelstenen echter niet vinden. <br>Korneel schrijft een script dat het twee keer gooien met twee dobbelstenen nabootst en als boodschap meegeeft wie er mag starten."
   ]
  },
  {
   "cell_type": "markdown",
   "metadata": {},
   "source": [
    "Vul het script aan en voer het uit. "
   ]
  },
  {
   "cell_type": "code",
   "execution_count": null,
   "metadata": {},
   "outputs": [],
   "source": [
    "def worp():\n",
    "    \"\"\"Aantal ogen na worp met twee dobbelstenen.\"\"\"\n",
    "    dob1 = np.random.randint(..., ...)\n",
    "    dob2 = np.random.randint(..., ...)\n",
    "    aantal_ogen = dob1 + dob2\n",
    "    return aantal_ogen\n",
    "\n",
    "# Jan werpt\n",
    "worp_jan = worp()\n",
    "\n",
    "# Piet werpt\n",
    "...\n",
    "\n",
    "# bij ex aequo opnieuw gooien\n",
    "while worp_jan == ....:\n",
    "    worp_jan = worp()\n",
    "    worp_piet = worp()\n",
    "    \n",
    "print(\"Jan werpt een\", worp_jan)\n",
    "print(\"Piet werpt een\", worp_piet)\n",
    "\n",
    "# bepalen wat hoogste worp is en wie mag starten\n",
    "grootste = max(worp_jan, worp_piet)\n",
    "if grootste == worp_jan:\n",
    "    beginner = \"Jan\"\n",
    "else:\n",
    "    ...\n",
    "\n",
    "# output\n",
    "print(..., \"mag starten.\")"
   ]
  },
  {
   "cell_type": "markdown",
   "metadata": {},
   "source": [
    "### Voorbeeld\n",
    "Met de Random-functie `rand()` kan je ook een matrix met een bepaalde dimensie genereren. *De elementen liggen in [0,1[. *<br>\n",
    "\n",
    "Met de Random-functie `randint()` kan je er een genereren met gehele getallen.<br>\n",
    "Test dit uit via het volgende script.<br> Let goed op de parameters van deze functies en of er gewerkt wordt met een open, halfopen of gesloten interval."
   ]
  },
  {
   "cell_type": "code",
   "execution_count": null,
   "metadata": {},
   "outputs": [],
   "source": [
    "willekeurige_matrix = np.random.rand(4,6)\n",
    "willekeurige_matrix_gehele_getallen = np.random.randint(10, 15, (5,7)) \n",
    "print(willekeurige_matrix)\n",
    "print(willekeurige_matrix_gehele_getallen)"
   ]
  },
  {
   "cell_type": "markdown",
   "metadata": {},
   "source": [
    "### Oefening 2.2\n",
    "Genereer een $6x3$-matrix waarvan de elementen gehele getallen zijn, gelegen in het interval [4,9]. <br>"
   ]
  },
  {
   "cell_type": "code",
   "execution_count": null,
   "metadata": {},
   "outputs": [],
   "source": []
  },
  {
   "cell_type": "markdown",
   "metadata": {},
   "source": [
    "<div style='color: #690027;' markdown=\"1\">\n",
    "    <h2>3. Oefening: grootte stoma</h2> \n",
    "</div>"
   ]
  },
  {
   "cell_type": "markdown",
   "metadata": {},
   "source": [
    "De oppervlakte van een ellips wordt gegeven door de formule $\\pi*a*b$ met $a$ de halve grote as en $b$ de halve kleine as.<br>\n",
    "<img src=\"../.images/IntroductiePython/ellips.png\" alt=\"Banner\" style=\"width: 300px;\"/>\n",
    "<center> Figuur 1: Ellips.</center>"
   ]
  },
  {
   "cell_type": "markdown",
   "metadata": {},
   "source": [
    "Een plant neemt CO<sub>2</sub> op langs de huidmondjes (stomata). Zo'n huidmondje is meestal ellipsvormig."
   ]
  },
  {
   "cell_type": "markdown",
   "metadata": {},
   "source": [
    "<img src=\"../.images/IntroductiePython/lengteBreedteStoma.jpg\" alt=\"Banner\" style=\"width: 300px;\"/> \n",
    "<center>Figuur 2: Diagram of a stoma indicating the positions used to measure the length and width. <br>Aangepast van \"Chromosomal and morphological studies of diploid and polyploid cytotypes of *Stevia rebaudiana*<br> (Bertoni) Bertoni (Eupatorieae, Asteraceae)\" door V. M. de Oliveira. Gepubliceerd onder CC BY-NC licentie. [1]</center>"
   ]
  },
  {
   "cell_type": "markdown",
   "metadata": {},
   "source": [
    "Het aantal huidmondjes en de oppervlakte van de huidmondjes is onderhevig aan omgevingsfactoren. <br> Om de oppervlakte van een huidmondje te berekenen, gebruik je doorgaans de formule voor de oppervlakte van een ellips.\n",
    "<img src=\"../.images/IntroductiePython/oppStoma.jpg\" alt=\"Banner\" style=\"width: 300px;\"/> \n",
    "<center>Figuur 3: Oppervlakte van een stoma. Aangepast van \"Project Leaf Prints\" door S. Meeus. [2]</center>"
   ]
  },
  {
   "cell_type": "markdown",
   "metadata": {},
   "source": [
    "Vul het script aan en voer het uit."
   ]
  },
  {
   "cell_type": "code",
   "execution_count": null,
   "metadata": {},
   "outputs": [],
   "source": [
    "# oppervlakte berekenen van huidmondje\n",
    "\n",
    "def opp_ellips(l, w):\n",
    "    \"\"\"Oppervlakte van ellips met grote as l en kleine as w.\"\"\"\n",
    "    a = l / 2\n",
    "    b = w / 2\n",
    "    s = math.pi * a * b    # oppervlakte ellips met lengte 2a en breedte 2b; formule pi*a*b.\n",
    "    return s\n",
    "\n",
    "# oppervlakte van stoma met lengte 20 µm en breedte 5 µm\n",
    "...\n",
    "\n",
    "print(\"De oppervlakte van het huidmondje is\", opp_stoma, \"(µm)²\")"
   ]
  },
  {
   "cell_type": "markdown",
   "metadata": {},
   "source": [
    "<div style='color: #690027;' markdown=\"1\">\n",
    "    <h2>4. Repetitieve taken</h2> \n",
    "</div>"
   ]
  },
  {
   "cell_type": "markdown",
   "metadata": {},
   "source": [
    "### Voorbeeld: DNA"
   ]
  },
  {
   "cell_type": "markdown",
   "metadata": {},
   "source": [
    "Het erfelijk materiaal van een levend organisme is opgeslagen in het DNA. Een DNA-molecuul bestaat uit twee lange strengen van nucleotiden, die in de vorm van een dubbele helix met elkaar vervlochten zijn. Nucleotiden zijn een specifieke groep organische verbindingen. Een DNA-streng bevat vier verschillende nucleotiden met een van de nucleobasen adenine, thymine, guanine en cytosine als component. Deze nucleobasen worden afgekort tot respectievelijk de letters A, T, G en C. De DNA-sequentie is de volgorde van deze nucleotiden op een streng DNA. Er zijn zeer veel sequenties mogelijk. "
   ]
  },
  {
   "cell_type": "markdown",
   "metadata": {},
   "source": [
    "Met de functies `choice()` uit de module Random van de module NumPy en `join()` kun je de letters kiezen en samenbrengen. "
   ]
  },
  {
   "cell_type": "markdown",
   "metadata": {},
   "source": [
    "Met de volgende functie kan je een willekeurige DNA-sequentie met een gewenste lengte genereren:"
   ]
  },
  {
   "cell_type": "code",
   "execution_count": null,
   "metadata": {},
   "outputs": [],
   "source": [
    "def dna_sequentie(n):\n",
    "    \"\"\"DNA-sequentie genereren met gewenste lengte.\"\"\"\n",
    "    letters = [\"A\", \"C\", \"G\", \"T\"]\n",
    "    keuze = [np.random.choice(letters) for i in range(n)]  # kies n letters uit lijst letters en stop die in andere lijst\n",
    "    # print(keuze)\n",
    "    string = \"\".join(keuze)   # elementen van keuze samenbrengen in een (samenhangende) string zonder keuze aan te passen\n",
    "    return string"
   ]
  },
  {
   "cell_type": "markdown",
   "metadata": {},
   "source": [
    "Genereer een DNA-sequentie van lengte 40."
   ]
  },
  {
   "cell_type": "code",
   "execution_count": null,
   "metadata": {},
   "outputs": [],
   "source": []
  },
  {
   "cell_type": "markdown",
   "metadata": {},
   "source": [
    "Alternatief: je kan een module Random gebruiken (een andere, niet die van NumPy). Je kunt dan letters kiezen uit een string i.p.v. een lijst. \n",
    "Met de volgende functie kan je dan een willekeurige DNA-sequentie met een gewenste lengte genereren:"
   ]
  },
  {
   "cell_type": "code",
   "execution_count": null,
   "metadata": {},
   "outputs": [],
   "source": [
    "import random\n",
    "\n",
    "def dna_sequentie_2(n):\n",
    "    \"\"\"DNA-sequentie genereren met gewenste lengte.\"\"\"\n",
    "    letters = \"ACGT\"\n",
    "    keuze = [random.choice(letters) for i in range(n)]  # kies n letters uit string letters en stop die in lijst\n",
    "    # print(keuze)\n",
    "    string = \"\".join(keuze)   # elementen van keuze samenbrengen in een (samenhangende) string zonder keuze aan te passen\n",
    "    return string"
   ]
  },
  {
   "cell_type": "markdown",
   "metadata": {},
   "source": [
    "Genereer een DNA-sequentie van lengte 30 met deze tweede functie."
   ]
  },
  {
   "cell_type": "code",
   "execution_count": null,
   "metadata": {},
   "outputs": [],
   "source": []
  },
  {
   "cell_type": "markdown",
   "metadata": {},
   "source": [
    "### Oefening 4.1"
   ]
  },
  {
   "cell_type": "markdown",
   "metadata": {},
   "source": [
    "Stel een functie op om te tellen hoeveel keer een bepaalde nucleobase in een gegeven DNA-sequentie voorkomt."
   ]
  },
  {
   "cell_type": "code",
   "execution_count": null,
   "metadata": {},
   "outputs": [],
   "source": []
  },
  {
   "cell_type": "markdown",
   "metadata": {},
   "source": [
    "Test de functie uit: laat tellen hoeveel keer de nucleobase \"T\" voorkomt in de DNA-sequentie \"ATGCGGACCTAT\"."
   ]
  },
  {
   "cell_type": "code",
   "execution_count": null,
   "metadata": {},
   "outputs": [],
   "source": []
  },
  {
   "cell_type": "markdown",
   "metadata": {},
   "source": [
    "### Oefening 4.2"
   ]
  },
  {
   "cell_type": "markdown",
   "metadata": {},
   "source": [
    "Gebruik beide functies (een uit het voorbeeld en de functie die je zelf maakte) samen in een script om te tellen hoeveel keer elke nucleobase in een willekeurig gegeneerde DNA-sequentie voorkomt. "
   ]
  },
  {
   "cell_type": "code",
   "execution_count": null,
   "metadata": {},
   "outputs": [],
   "source": []
  },
  {
   "cell_type": "markdown",
   "metadata": {},
   "source": [
    "<div class=\"alert alert-block alert-success\">De computer is razendsnel om repetitieve taken te doen, zoals een letter opsporen in een lange string. Het neuraal netwerk van KIKS zal geen letter opsporen, maar wel een huidmondje. Het neuraal netwerk doorloopt de volledige foto door er een vierkant venster over te laten glijden en na te gaan of er binnen het vierkantje een huidmondje te zien is.\n",
    "</div>"
   ]
  },
  {
   "cell_type": "markdown",
   "metadata": {},
   "source": [
    "<div>\n",
    "    <h2>Referentielijst</h2> \n",
    "</div>"
   ]
  },
  {
   "cell_type": "markdown",
   "metadata": {},
   "source": [
    "[1] Oliveira, V. M. de, Forni-Martins, E. R., Magalhães, P. M., & Alves, M. N. (2004). Chromosomal and morphological studies of diploid and polyploid <br>&nbsp;  &nbsp; &nbsp;  &nbsp; cytotypes of *Stevia rebaudiana* (Bertoni) Bertoni (Eupatorieae, Asteraceae). *Genetics and Molecular Biology*, 27(2), 215-222.<br>&nbsp;  &nbsp; &nbsp;  &nbsp; https://dx.doi.org/10.1590/S1415-47572004000200015. Gepubliceerd onder CC BY-NC licentie.<br>\n",
    "[2] Meeus, S. (2019). Project Leaf Prints. Zooniverse. Geraadpleegd op 14 april 2019 via https://www.zooniverse.org/projects/sofie-dot-meeus/leaf-prints/."
   ]
  },
  {
   "cell_type": "markdown",
   "metadata": {},
   "source": [
    "<img src=\"../.images/cclic.png\" alt=\"Banner\" align=\"left\" style=\"width:100px;\"/><br><br>\n",
    "Notebook KIKS, zie <a href=\"http://www.aiopschool.be\">AI op School</a>, van F. wyffels & N. Gesquière is in licentie gegeven volgens een <a href=\"http://creativecommons.org/licenses/by-nc-sa/4.0/\">Creative Commons Naamsvermelding-NietCommercieel-GelijkDelen 4.0 Internationaal-licentie</a>. "
   ]
  }
 ],
 "metadata": {
  "kernelspec": {
   "display_name": "Python 3",
   "language": "python",
   "name": "python3"
  },
  "language_info": {
   "codemirror_mode": {
    "name": "ipython",
    "version": 3
   },
   "file_extension": ".py",
   "mimetype": "text/x-python",
   "name": "python",
   "nbconvert_exporter": "python",
   "pygments_lexer": "ipython3",
   "version": "3.6.4"
  }
 },
 "nbformat": 4,
 "nbformat_minor": 2
}
