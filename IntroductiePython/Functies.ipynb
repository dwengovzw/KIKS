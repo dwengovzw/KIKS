{
 "cells": [
  {
   "cell_type": "markdown",
   "metadata": {},
   "source": [
    "<img src=\"../.images/KIKSteam2.png\" alt=\"Banner\" style=\"width: 800px;\"/>"
   ]
  },
  {
   "cell_type": "markdown",
   "metadata": {},
   "source": [
    "<div style='color: #690027;' markdown=\"1\">\n",
    "    <h1>FUNCTIES</h1> \n",
    "</div>"
   ]
  },
  {
   "cell_type": "markdown",
   "metadata": {},
   "source": [
    "Om vierkantswortels te kunnen berekenen of het getal $\\pi$ te kunnen gebruiken, maakt men gebruik van de module `math`. Deze module moet eerst geïmporteerd worden. "
   ]
  },
  {
   "cell_type": "code",
   "execution_count": null,
   "metadata": {},
   "outputs": [],
   "source": [
    "import math"
   ]
  },
  {
   "cell_type": "markdown",
   "metadata": {},
   "source": [
    "<div style='color: #690027;' markdown=\"1\">\n",
    "    <h2>Voorbeeld</h2> \n",
    "</div>"
   ]
  },
  {
   "cell_type": "markdown",
   "metadata": {},
   "source": [
    "Onderstaand script vraagt een gebruiker om de lengte van de twee rechthoekszijden van een rechthoekige driehoek in te geven. Via de zelfgedefinieerde functie ‘pythagoras’ zal het  script dan de lengte van de schuine zijde berekenen. Voer het script uit."
   ]
  },
  {
   "cell_type": "code",
   "execution_count": null,
   "metadata": {},
   "outputs": [],
   "source": [
    "def pythagoras(a, b):\n",
    "    \"\"\"Schuine zijde rechthoekige driehoek.\"\"\"\n",
    "    schuinezijde = math.sqrt(a**2 + b**2)\n",
    "    return schuinezijde\n",
    "    \n",
    "print(\"Geef de lengtes in van de twee rechthoekszijden van een rechthoekige driehoek.\")    \n",
    "a = float(input(\"Eerste rechthoekszijde: \"))\n",
    "b = float(input(\"Tweede rechthoekszijde: \"))\n",
    "\n",
    "c = pythagoras(a,b)\n",
    "print(\"\\n De schuine zijde is\", c)"
   ]
  },
  {
   "cell_type": "markdown",
   "metadata": {},
   "source": [
    "`\"\"\"Schuine zijde rechthoekige driehoek.\"\"\"` is een docstring. Een docstring beschrijft wat het doel is van de functie. <br><br>\n",
    "Via de functie `input()` wordt er aan de gebruiker gevraagd om de twee rechthoekszijden van een rechthoekige driehoek in te geven. De lengte van deze zijden kunnen een decimaal getal zijn, daarom wordt de ingegeven string omgezet naar het datatype `float`. "
   ]
  },
  {
   "cell_type": "markdown",
   "metadata": {},
   "source": [
    "<div style='color: #690027;' markdown=\"1\">\n",
    "    <h2>Oefening 1</h2> \n",
    "</div>"
   ]
  },
  {
   "cell_type": "markdown",
   "metadata": {},
   "source": [
    " Bekijk het volgende script. Vul de docstring aan. <br>\n",
    " Wat is de output? Antwoord zonder het script uit te voeren.<br>\n",
    " Controleer nadien door het script uit te voeren."
   ]
  },
  {
   "cell_type": "code",
   "execution_count": null,
   "metadata": {},
   "outputs": [],
   "source": [
    "def bewerking(a, b):\n",
    "    \"\"\" ................................................\"\"\"\n",
    "    kwadr_som = (a + b)**2\n",
    "    return kwadr_som\n",
    "\n",
    "getal1 = bewerking(2, 5)\n",
    "getal2 = bewerking(1, -1)\n",
    "getal3 = bewerking(7, -2)\n",
    "\n",
    "print(getal1, getal2, getal3)"
   ]
  },
  {
   "cell_type": "markdown",
   "metadata": {},
   "source": [
    "Antwoord: "
   ]
  },
  {
   "cell_type": "markdown",
   "metadata": {},
   "source": [
    "<div style='color: #690027;' markdown=\"1\">\n",
    "    <h2>Voorbeeld</h2> \n",
    "</div>"
   ]
  },
  {
   "cell_type": "markdown",
   "metadata": {},
   "source": [
    "`Random` is een module waarmee men toevalsgetallen kan genereren. Test het volgende script eens uit:"
   ]
  },
  {
   "cell_type": "code",
   "execution_count": null,
   "metadata": {},
   "outputs": [],
   "source": [
    "import random\n",
    "\n",
    "# for-lus wordt 10 keer doorlopen\n",
    "for teller in range(10):\n",
    "    print(\"teller = \", teller)\n",
    "    print(random.random())        # genereert decimaal getal tussen 0 en 1\n",
    "    print(random.randint(0, 4))   # kiest willekeurig een natuurlijk getal uit 0, 1, 2 en 3  \n",
    "    print()"
   ]
  },
  {
   "cell_type": "markdown",
   "metadata": {},
   "source": [
    "<div style='color: #690027;' markdown=\"1\">\n",
    "    <h2>Oefening 2</h2> \n",
    "</div>"
   ]
  },
  {
   "cell_type": "markdown",
   "metadata": {},
   "source": [
    "Jan en Piet willen samen een gezelschapsspel spelen. Diegene die met twee dobbelstenen het hoogste aantal ogen gooit, mag starten. Oh ramp, de dobbelstenen zijn verdwenen. Korneel schrijft een script dat het twee keer gooien met twee dobbelstenen nabootst en als boodschap meegeeft wie er mag starten."
   ]
  },
  {
   "cell_type": "markdown",
   "metadata": {},
   "source": [
    "Vul het script aan en voer het uit. "
   ]
  },
  {
   "cell_type": "code",
   "execution_count": null,
   "metadata": {},
   "outputs": [],
   "source": [
    "def worp():\n",
    "    \"\"\"Aantal ogen na worp met twee dobbelstenen.\"\"\"\n",
    "    worp1 = random.randint(..., ...)\n",
    "    worp2 = random.randint(..., ...)\n",
    "    aantal_ogen = worp1 + worp2\n",
    "    return aantal_ogen\n",
    "\n",
    "# Jan werpt\n",
    "worp_jan = worp()\n",
    "\n",
    "# Piet werpt\n",
    "...\n",
    "\n",
    "# bij ex aequo opnieuw gooien\n",
    "while worp_jan == ....:\n",
    "    worp_jan = worp()\n",
    "    worp_piet = worp()\n",
    "    \n",
    "print(\"Jan werpt een\", worp_jan)\n",
    "print(\"Piet werpt een\", worp_piet)\n",
    "\n",
    "# bepalen wat hoogste worp is en wie mag starten\n",
    "grootste = max(worp_jan, worp_piet)\n",
    "if grootste == worp_jan:\n",
    "    beginner = \"Jan\"\n",
    "else:\n",
    "    ...\n",
    "\n",
    "# output\n",
    "print(..., \"mag starten.\")"
   ]
  },
  {
   "cell_type": "markdown",
   "metadata": {},
   "source": [
    "<div style='color: #690027;' markdown=\"1\">\n",
    "    <h2>Oefening 3: grootte stoma</h2> \n",
    "</div>"
   ]
  },
  {
   "cell_type": "markdown",
   "metadata": {},
   "source": [
    "De oppervlakte van een ellips wordt gegeven door de formule $\\pi*a*b$ met a de halve grote as en b de halve kleine as.<br>\n",
    "<img src=\"../.images/ellips.png\" alt=\"Banner\" style=\"width: 300px;\"/>"
   ]
  },
  {
   "cell_type": "markdown",
   "metadata": {},
   "source": [
    "Een huidmondje is ook ellipsvormig.<br>\n",
    "<img src=\"../.images/lengteBreedteStoma.jpg\" alt=\"Banner\" style=\"width: 300px;\"/> <br>\n",
    "Aangepaste afbeelding. Bron: Oliveira, Vanessa M. de, Forni-Martins, Eliana R., Magalhães, Pedro M., & Alves, Marcos N.. (2004). Chromosomal and morphological studies of diploid and polyploid cytotypes of Stevia rebaudiana (Bertoni) Bertoni (Eupatorieae, Asteraceae). Genetics and Molecular Biology, 27(2), 215-222. https://dx.doi.org/10.1590/S1415-47572004000200015"
   ]
  },
  {
   "cell_type": "markdown",
   "metadata": {},
   "source": [
    "Vul het script aan en voer het uit."
   ]
  },
  {
   "cell_type": "code",
   "execution_count": null,
   "metadata": {},
   "outputs": [],
   "source": [
    "# oppervlakte berekenen van een huidmondje\n",
    "def opp_stoma(l, w):\n",
    "    \"\"\"Oppervlakte van stoma met lengte l en breedte w is oppervlakte ellips met lengte 2a en breedte 2b.\"\"\"\n",
    "    a = l / 2\n",
    "    b = w / 2\n",
    "    s = math.pi * a * b\n",
    "    return s\n",
    "\n",
    "# oppervlakte van stoma met lengte 20 µm en breedte 5 µm\n",
    "...\n",
    "print(\"De oppervlakte van het huidmondje is\", opp_stoma, \"(µm)²\")"
   ]
  }
 ],
 "metadata": {
  "kernelspec": {
   "display_name": "Python 3",
   "language": "python",
   "name": "python3"
  },
  "language_info": {
   "codemirror_mode": {
    "name": "ipython",
    "version": 3
   },
   "file_extension": ".py",
   "mimetype": "text/x-python",
   "name": "python",
   "nbconvert_exporter": "python",
   "pygments_lexer": "ipython3",
   "version": "3.6.4"
  }
 },
 "nbformat": 4,
 "nbformat_minor": 2
}
