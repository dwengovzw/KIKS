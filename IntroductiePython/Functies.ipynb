{
 "cells": [
  {
   "cell_type": "markdown",
   "metadata": {},
   "source": [
    "<img src=\"../.images/KIKSteam2.png\" alt=\"Banner\" style=\"width: 800px;\"/>"
   ]
  },
  {
   "cell_type": "markdown",
   "metadata": {},
   "source": [
    "<div style='color: #690027;' markdown=\"1\">\n",
    "    <h1>FUNCTIES</h1> \n",
    "</div>"
   ]
  },
  {
   "cell_type": "markdown",
   "metadata": {},
   "source": [
    "<div style='color: #690027;' markdown=\"1\">\n",
    "    <h2>Voorbeeld</h2> \n",
    "</div>"
   ]
  },
  {
   "cell_type": "markdown",
   "metadata": {},
   "source": [
    "Onderstaand script vraagt een gebruiker om de lengte van de twee rechthoekszijden van een rechthoekige driehoek in te geven. Via de zelfgedefinieerde functie ‘pythagoras’ zal het  script dan de lengte van de schuine zijde berekenen. Voer het script uit."
   ]
  },
  {
   "cell_type": "code",
   "execution_count": null,
   "metadata": {},
   "outputs": [],
   "source": [
    "import math"
   ]
  },
  {
   "cell_type": "code",
   "execution_count": null,
   "metadata": {},
   "outputs": [],
   "source": [
    "def pythagoras(a, b):\n",
    "    \"\"\"Schuine zijde rechthoekige driehoek.\"\"\"\n",
    "    schuinezijde = math.sqrt(a**2 + b**2)\n",
    "    return schuinezijde\n",
    "    \n",
    "print(\"Geef de lengtes in van de twee rechthoekszijden van een rechthoekige driehoek.\")    \n",
    "a = float(input(\"Eerste rechthoekszijde: \"))\n",
    "b = float(input(\"Tweede rechthoekszijde: \"))\n",
    "\n",
    "c = pythagoras(a,b)\n",
    "print(\"\\n De schuine zijde is\", c)"
   ]
  },
  {
   "cell_type": "markdown",
   "metadata": {},
   "source": [
    "<div style='color: #690027;' markdown=\"1\">\n",
    "    <h2>Oefening 1</h2> \n",
    "</div>"
   ]
  },
  {
   "cell_type": "markdown",
   "metadata": {},
   "source": [
    " Bekijk het volgende script. Vul de docstring aan. <br>\n",
    " Wat is de output? Antwoord zonder het script uit te voeren.<br>\n",
    " Controleer nadien door het script uit te voeren."
   ]
  },
  {
   "cell_type": "code",
   "execution_count": null,
   "metadata": {},
   "outputs": [],
   "source": [
    "def bewerking(a, b):\n",
    "    \"\"\" ................................................\"\"\"\n",
    "    kwadr_som = (a + b)**2\n",
    "    return kwadr_som\n",
    "\n",
    "getal1 = bewerking(2, 5)\n",
    "getal2 = bewerking(1, -1)\n",
    "getal3 = bewerking(7, -2)\n",
    "\n",
    "print(getal1, getal2, getal3)"
   ]
  },
  {
   "cell_type": "markdown",
   "metadata": {},
   "source": [
    "Antwoord: "
   ]
  },
  {
   "cell_type": "markdown",
   "metadata": {},
   "source": [
    "<div style='color: #690027;' markdown=\"1\">\n",
    "    <h2>Oefening 2</h2> \n",
    "</div>"
   ]
  },
  {
   "cell_type": "markdown",
   "metadata": {},
   "source": [
    "Vul het script aan en voer het uit. Een minder wisk oef"
   ]
  },
  {
   "cell_type": "code",
   "execution_count": null,
   "metadata": {},
   "outputs": [],
   "source": [
    "def afstand(x1,y1,x2,y2):\n",
    "    \"\"\"Afstand tussen twee punten.\"\"\"\n",
    "    d = math.sqrt((x2-x1)**2 + (y2-y1)**2)\n",
    "    return d\n",
    "\n",
    "# afstand tussen A(2,3) en B(7,8)\n",
    "afstand1 = afstand(2,3,7,8)\n",
    "print(\"d(A,B)=\", afstand1)\n",
    "\n",
    "# afstand tussen C(9,0) en D(-2,4)\n",
    "...\n",
    "...\n",
    "\n",
    "# afprinten welke twee punten het verst van elkaar liggen, E(10,-1) en F(2,3), of G(0,0) en H(20,3)\n",
    "verschil_in_afstand = ...\n",
    "if verschil_in_afstand > 0:\n",
    "    print(\"  ...                                \")\n",
    "elif ...\n",
    "    print(\"  ...                                \") \n",
    "else:\n",
    "    print(\"  ...                                \")"
   ]
  },
  {
   "cell_type": "markdown",
   "metadata": {},
   "source": [
    "<div style='color: #690027;' markdown=\"1\">\n",
    "    <h2>Oefening 3</h2> \n",
    "</div>"
   ]
  },
  {
   "cell_type": "markdown",
   "metadata": {},
   "source": [
    "<img src=\"../.images/lb.png\" alt=\"Banner\" style=\"width: 200px;\"/>\n",
    "Bron afbeelding: Oliveira, Vanessa M. de, Forni-Martins, Eliana R., Magalhães, Pedro M., & Alves, Marcos N.. (2004). Chromosomal and morphological studies of diploid and polyploid cytotypes of Stevia rebaudiana (Bertoni) Bertoni (Eupatorieae, Asteraceae). Genetics and Molecular Biology, 27(2), 215-222. https://dx.doi.org/10.1590/S1415-47572004000200015"
   ]
  },
  {
   "cell_type": "markdown",
   "metadata": {},
   "source": [
    "Vul het script aan en voer het uit."
   ]
  },
  {
   "cell_type": "code",
   "execution_count": null,
   "metadata": {},
   "outputs": [],
   "source": [
    "# oppervlakte berekenen van een huidmondje\n",
    "def opp_stoma(l, w):\n",
    "    \"\"\"Oppervlakte van stoma met lengte l en breedte w is oppervlakte ellips met lengte 2a en breedte 2b.\"\"\"\n",
    "    a = l / 2\n",
    "    b = w / 2\n",
    "    s = math.pi * a * b\n",
    "    return s\n",
    "\n",
    "# oppervlakte van stoma met lengte 20 µm en breedte 5 µm\n",
    "...\n",
    "print(\"De oppervlakte van het huidmondje is\", opp_stoma, \"(µm)²\")"
   ]
  }
 ],
 "metadata": {
  "kernelspec": {
   "display_name": "Python 3",
   "language": "python",
   "name": "python3"
  },
  "language_info": {
   "codemirror_mode": {
    "name": "ipython",
    "version": 3
   },
   "file_extension": ".py",
   "mimetype": "text/x-python",
   "name": "python",
   "nbconvert_exporter": "python",
   "pygments_lexer": "ipython3",
   "version": "3.6.4"
  }
 },
 "nbformat": 4,
 "nbformat_minor": 2
}
