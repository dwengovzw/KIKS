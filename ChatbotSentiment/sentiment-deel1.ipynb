{
 "cells": [
  {
   "cell_type": "markdown",
   "metadata": {},
   "source": [
    "<img src=\"bannerUgentDwengo.png\" alt=\"BannerUGentDwengo\" style=\"width:250px;\"/>"
   ]
  },
  {
   "cell_type": "markdown",
   "metadata": {},
   "source": [
    "<div style='color: #690027;' markdown=\"1\">\n",
    "    <h1>SENTIMENTANALYSE</h1> \n",
    "    <h1>deel 1</h1> \n",
    "</div>"
   ]
  },
  {
   "cell_type": "markdown",
   "metadata": {},
   "source": [
    "<div class=\"alert alert-box alert-success\">\n",
    "Taaltechnologen doen een beroep op machine learning modellen om bij gegeven teksten onderzoek te doen naar sentimentwoorden. In deze notebook maak je kennis met de principes van hun onderzoek. <br> Het gebruik van technologie wordt steeds toegankelijker voor werknemers in een niet-technologische sector, zoals taalkundigen, communicatiewetenschappers, historici en juristen. <br>Dankzij de zeer toegankelijke programmeertaal Python zal ook jij enkele mogelijkheden van technologie ontdekken.\n",
    "</div>"
   ]
  },
  {
   "cell_type": "markdown",
   "metadata": {},
   "source": [
    "<div class=\"alert alert-block alert-info\"> \n",
    "Python is vaak zeer intuïtief in gebruik en bovendien zo populair dat er heel wat modules voorhanden zijn die men vrij kan gebruiken. In een module zitten heel wat functies vervat die ervaren informatici reeds voor jou hebben geprogrammeerd. \n",
    "</div>"
   ]
  },
  {
   "cell_type": "markdown",
   "metadata": {},
   "source": [
    "<div class=\"alert alert-block alert-warning\"> \n",
    "Een notebook is een interactief document dat ook programmacode bevat. In deze notebook zie je verschillende grijze vakken staan. Dat zijn code-cellen die Pythoncode bevatten. Zo'n code-cel wordt voorafgegaan door <span style=\"background-color:whitesmoke; font-family:consolas; font-size:1em;\">In [ ]</span>. Bij het uitvoeren van de code verschijnt er een * tussen de  <span style=\"background-color:whitesmoke; font-family:consolas; font-size:1em;\">[ ]</span>. Eens de code is uitgevoerd, staat er een getal tussen de  <span style=\"background-color:whitesmoke; font-family:consolas; font-size:1em;\">[ ]</span>.<br>\n",
    "<b>Om de code in een code-cel uit te voeren, klik je op de cel en voer je die uit met de knop 'Run' bovenaan in het menu. <img src=\"runknop.jpg\" alt=\"Banner\" align=\"right\" style=\"width:70px;\"/>\n",
    "</div>"
   ]
  },
  {
   "cell_type": "markdown",
   "metadata": {},
   "source": [
    "Heb je het begrepen? Voer dan de volgende code-cel uit door in het menu bovenaan op 'Run' te klikken. "
   ]
  },
  {
   "cell_type": "code",
   "execution_count": null,
   "metadata": {},
   "outputs": [],
   "source": [
    "print(\"Ik snap het!\")"
   ]
  },
  {
   "cell_type": "markdown",
   "metadata": {},
   "source": [
    "<div style='color: #690027;' markdown=\"1\">\n",
    "    <h2>1. Werken met strings en lijsten</h2> \n",
    "</div>"
   ]
  },
  {
   "cell_type": "markdown",
   "metadata": {},
   "source": [
    "### Een string"
   ]
  },
  {
   "cell_type": "markdown",
   "metadata": {},
   "source": [
    "De **uitvoer** die verscheen, was: Ik snap het! Deze uitvoer bestaat uit letters, twee spaties en een leesteken. "
   ]
  },
  {
   "cell_type": "markdown",
   "metadata": {},
   "source": [
    "<div class=\"alert alert-block alert-info\"> \n",
    "<span style=\"background-color:whitesmoke; font-family:consolas; font-size:1em;\">Ik snap het!</span> is een <b>string</b>: een opeenvolging van karakters, zoals letters, leestekens en spaties. Je kan een string ook herkennen aan <span style=\"background-color:whitesmoke; font-family:consolas; font-size:1em;\">\" \"</span>.<br> \n",
    "<span style=\"background-color:whitesmoke; font-family:consolas; font-size:1em;\">print()</span> is een <b>functie</b> waarmee je aangeeft dat er iets moet worden getoond op het scherm.\n",
    "</div>"
   ]
  },
  {
   "cell_type": "markdown",
   "metadata": {},
   "source": [
    "### Een index"
   ]
  },
  {
   "cell_type": "markdown",
   "metadata": {},
   "source": [
    "Neem nu een andere string: \"Hello, world!\" Elk karakter in een string heeft een bepaalde plaats. In Python komt de plaats van een karakter in een string overeen met een **index**. Men begint daarbij te tellen vanaf 0.<br>\n",
    "\n",
    "Bijvoorbeeld:\n",
    "-  De letter \"H\" is het eerste karakter. De index van \"H\" is 0.\n",
    "-  De letter \"e\" in de string staat op de tweede plaats. De index van \"e\" is 1.\n",
    "-  De eerste \"o\" vind je op de vijfde plaats. De index van de eerste \"o\" is 4.\n",
    "-  De spatie is het zevende karakter van deze string. De index van de spatie is 6. "
   ]
  },
  {
   "cell_type": "markdown",
   "metadata": {},
   "source": [
    "<div>\n",
    "<img src=\"helloworldIndex.png\" alt=\"Banner\" align=\"center\" style=\"width:500px;\"/>\n",
    "</div>"
   ]
  },
  {
   "cell_type": "markdown",
   "metadata": {},
   "source": [
    "#### Oefening\n",
    "-  Welk karakter heeft 7 als index? \n",
    "-  Welke letter staat op de twaalfde plaats? "
   ]
  },
  {
   "cell_type": "markdown",
   "metadata": {},
   "source": [
    "Je vraagt de antwoorden van de oefening op met Python door de volgende code-cel uit te voeren."
   ]
  },
  {
   "cell_type": "code",
   "execution_count": null,
   "metadata": {},
   "outputs": [],
   "source": [
    "zin = \"Hello, world!\"\n",
    "print(zin[7])\n",
    "print(zin[11])"
   ]
  },
  {
   "cell_type": "markdown",
   "metadata": {},
   "source": [
    "<div class=\"alert alert-block alert-info\"> \n",
    "<span style=\"background-color:whitesmoke; font-family:consolas; font-size:1em;\">zin</span> is een <b>variabele</b> die verwijst naar de string <span style=\"background-color:whitesmoke; font-family:consolas; font-size:1em;\">\"Hello, world!\"</span>. De naam die je aan de variabele geeft, kies je zelf.\n",
    "</div>"
   ]
  },
  {
   "cell_type": "markdown",
   "metadata": {},
   "source": [
    "Beschouw nog een andere string: \"Programmeren is voor iedereen.\" \n",
    "\n",
    "#### Oefening\n",
    "-  Wat zijn de indices van de letters \"d\" en \"P\"?\n",
    "-  Wat is de index van de tweede spatie?\n",
    "-  Welk karakter heeft 14 als index? "
   ]
  },
  {
   "cell_type": "markdown",
   "metadata": {},
   "source": [
    "Controleer dit laatste eens met Python. Geef een geschikte naam aan de variabele."
   ]
  },
  {
   "cell_type": "code",
   "execution_count": null,
   "metadata": {},
   "outputs": [],
   "source": []
  },
  {
   "cell_type": "code",
   "execution_count": null,
   "metadata": {},
   "outputs": [],
   "source": [
    "nieuwezin = \"Programmeren is voor iedereen\"\n",
    "print(nieuwezin[14])"
   ]
  },
  {
   "cell_type": "markdown",
   "metadata": {},
   "source": [
    "<div class=\"alert alert-block alert-info\"> \n",
    "Elk karakter in een string heeft een <b>index</b> die bepaalt het hoeveelste karakter het is in die string. \n",
    "</div>"
   ]
  },
  {
   "cell_type": "markdown",
   "metadata": {},
   "source": [
    "### Strings samenvoegen"
   ]
  },
  {
   "cell_type": "markdown",
   "metadata": {},
   "source": [
    "Door gebruik te maken van de +-operator kun je strings samenvoegen. Test dit uit door de volgende code-cellen uit te voeren. "
   ]
  },
  {
   "cell_type": "code",
   "execution_count": null,
   "metadata": {},
   "outputs": [],
   "source": [
    "# strings concateneren\n",
    "woord1 = \"sentiment\"\n",
    "woord2 = \"analyse\"\n",
    "woord = woord1 + woord2\n",
    "print(woord)"
   ]
  },
  {
   "cell_type": "markdown",
   "metadata": {},
   "source": [
    "<div class=\"alert alert-block alert-info\"> \n",
    "Tekst die na een <b>#</b> staat, is commentaar om de code beter te begrijpen. Commentaar wordt genegeerd door de computer.\n",
    "</div>"
   ]
  },
  {
   "cell_type": "code",
   "execution_count": null,
   "metadata": {},
   "outputs": [],
   "source": [
    "# strings concateneren\n",
    "deel1 = \"Onderz\"\n",
    "deel2 = \"oek\"\n",
    "deel3 = \" \"\n",
    "deel4 = \"d\"\n",
    "deel5 = \"oen\"\n",
    "deel6 = \"?\"\n",
    "geheel = deel1 + deel2 + deel3 + deel4 + deel5 + deel6\n",
    "print(geheel)"
   ]
  },
  {
   "cell_type": "markdown",
   "metadata": {},
   "source": [
    "Voeg zelf eens enkele strings samen met Python:"
   ]
  },
  {
   "cell_type": "code",
   "execution_count": null,
   "metadata": {},
   "outputs": [],
   "source": []
  },
  {
   "cell_type": "markdown",
   "metadata": {},
   "source": [
    "<div class=\"alert alert-block alert-info\">\n",
    "Bij het samenvoegen of <b>concateneren</b> van strings met de +-operator, ontstaat een nieuwe string.\n",
    "</div>"
   ]
  },
  {
   "cell_type": "markdown",
   "metadata": {},
   "source": [
    "### Lijsten"
   ]
  },
  {
   "cell_type": "markdown",
   "metadata": {},
   "source": [
    "Voer de volgende code-cel uit."
   ]
  },
  {
   "cell_type": "code",
   "execution_count": null,
   "metadata": {},
   "outputs": [],
   "source": [
    "lijst = [\"boter\", \"kan\", \"boos\", \"zielepoot\"]    # lijst met vier elementen"
   ]
  },
  {
   "cell_type": "markdown",
   "metadata": {},
   "source": [
    "Kun je raden wat het element in deze lijst is met index 0? En met index 3?"
   ]
  },
  {
   "cell_type": "code",
   "execution_count": null,
   "metadata": {},
   "outputs": [],
   "source": [
    "print(lijst[0])\n",
    "print(lijst[3])"
   ]
  },
  {
   "cell_type": "markdown",
   "metadata": {},
   "source": [
    "Je begrijpt nu wat de volgende begrippen inhouden:\n",
    "- een string;\n",
    "- een index van een karakter in een string;\n",
    "- het samenvoegen van strings tot één nieuwe string (concateneren);\n",
    "- een index van een element van een lijst."
   ]
  },
  {
   "cell_type": "markdown",
   "metadata": {},
   "source": [
    "<div style='color: #690027;' markdown=\"1\">\n",
    "    <h3>Logische operatoren</h3> \n",
    "</div>\n",
    "\n",
    "<table>\n",
    " <thead>\n",
    "    <tr>\n",
    "      <th>&nbsp;</th>  \n",
    "      <th><p align=\"center\">Wiskunde</th>\n",
    "      <th>&nbsp;</th>\n",
    "      <th><p align=\"center\">Python</th>    \n",
    "  </thead>\n",
    "   <tr> <td> <p align=\"left\">groter dan          <td> <p align=\"center\">&nbsp;&nbsp;&nbsp;&nbsp; >   <td> <td> \n",
    "      <p align=\"center\">&nbsp;&nbsp;&nbsp;&nbsp; >   \n",
    "  <tr> <td> <p align=\"left\">kleiner dan           <td> <p align=\"center\">&nbsp;&nbsp;&nbsp;&nbsp; <   <td> <td> \n",
    "      <p align=\"center\">&nbsp;&nbsp;&nbsp;&nbsp; <    \n",
    "  <tr> <td>  <p align=\"left\">gelijk aan  <td> <p align=\"center\">&nbsp;&nbsp;&nbsp;&nbsp; =   <td> <td> \n",
    "      <p align=\"center\">&nbsp;&nbsp;&nbsp;&nbsp; ==  \n",
    "  <tr> <td> <p align=\"left\">verschillend van          <td> <p align=\"center\">&nbsp;&nbsp;&nbsp;&nbsp; &#8800;  <td> <td> \n",
    "      <p align=\"center\">&nbsp;&nbsp;&nbsp;&nbsp; !=    \n",
    "      \n",
    "</table>"
   ]
  },
  {
   "cell_type": "code",
   "execution_count": null,
   "metadata": {},
   "outputs": [],
   "source": [
    "lijst[2] == \"boos\""
   ]
  },
  {
   "cell_type": "code",
   "execution_count": null,
   "metadata": {},
   "outputs": [],
   "source": [
    "lijst[1] == \"kat\""
   ]
  },
  {
   "cell_type": "code",
   "execution_count": null,
   "metadata": {},
   "outputs": [],
   "source": [
    "lijst[1] != \"kat\""
   ]
  },
  {
   "cell_type": "markdown",
   "metadata": {},
   "source": [
    "<div style='color: #690027;' markdown=\"1\">\n",
    "    <h2>2. Sentimentanalyse</h2> \n",
    "</div>"
   ]
  },
  {
   "cell_type": "markdown",
   "metadata": {},
   "source": [
    "### Principes van sentimentanalyse"
   ]
  },
  {
   "cell_type": "markdown",
   "metadata": {},
   "source": [
    "Voor **regelgebaseerde** sentimentanalyse maak je gebruik van een (bestaand) **lexicon** met daarin woorden gekoppeld aan hun **polariteit** (positief, negatief of neutraal), dus een woordenboek van sentimentwoorden. \n",
    "\n",
    "'Blij' bijvoorbeeld heeft een positieve polariteit, 'thuisbankieren' een neutrale en 'boos' een negatieve polariteit. In het lexicon wordt de polariteit weergegeven door een getal tussen -2 en 2. "
   ]
  },
  {
   "cell_type": "markdown",
   "metadata": {},
   "source": [
    "<div>\n",
    "<img src=\"schaal.png\" alt=\"Banner\" align=\"center\" style=\"width:500px;\"/>\n",
    "</div>"
   ]
  },
  {
   "cell_type": "markdown",
   "metadata": {},
   "source": [
    "De polariteit van een tekst wordt gegeven door de som van de polariteiten van de sentimentwoorden in die tekst."
   ]
  },
  {
   "cell_type": "markdown",
   "metadata": {},
   "source": [
    "Voor je sentimentwoorden uit een lexicon kunt matchen met de gegeven tekst (de data) moet je de data \n",
    "-  1) *inlezen*; \n",
    "-  2) *preprocessen*, d.w.z. voorbereiden voor *lexicon matching* of voor *machine learning*. \n",
    "\n",
    "Preprocessing omvat alle stappen die nodig zijn om de data voor te bereiden op wat volgt, of dat nu een eenvoudige lexicon matching is, dan wel een ingewikkeld machine learning systeem dat op de data getraind zal worden. <br>Hieronder vind je een oplijsting van veelvoorkomende preprocessing stappen.\n",
    "\n",
    "\n",
    "#### Preprocessing\n",
    "\n",
    "* **Lowercasing:** alle hoofdlettertekens worden vervangen door kleine letters.\n",
    "* **Tokenisering:** alle zinnen worden in betekenisvolle eenheden of 'tokens' gesplitst, zoals woorden en leestekens.\n",
    "* **Part-of-speech tagging:** aan elk token wordt de grammaticale woordcategorie toegekend, zoals adjectief of symbool.\n",
    "* **Lemmatisering:** alle tokens worden omgezet naar hun lemma of woordenboekvorm (bv. een substantief komt in een woordenboek in het enkelvoud voor en van een werkwoord vind je er de infinitief). Die woordenboekvorm wordt dan opgezocht in het lexicon. "
   ]
  },
  {
   "cell_type": "markdown",
   "metadata": {},
   "source": [
    "#### Voorbeeld:\n",
    "Gegeven zin:    \n",
    "-  De spelletjes waren toffe ijsbrekers.\n",
    "\n",
    "Lowercasing:    \n",
    "-  de spelletjes waren toffe ijsbrekers.\n",
    "\n",
    "Tokens:         \n",
    "-  'de' 'spelletjes' 'waren' 'toffe' 'ijsbrekers' '.' \n",
    "\n",
    "Part-of-speech: \n",
    "-  'de': lidwoord;\n",
    "-  'spelletjes': substantief; \n",
    "-  'waren': werkwoord;\n",
    "-  'toffe': adjectief;\n",
    "-  'ijsbrekers': substantief;\n",
    "-  '.': leesteken (symbool).\n",
    "\n",
    "Lemma's: 'de', 'spel', 'zijn', 'tof', 'ijsbreker', '.'\n",
    "\n",
    "Polariteit:\n",
    "-  De polariteiten van de lemma's worden opgezocht in het lexicon, lidwoorden en leestekens zijn daarbij niet van belang.  \n",
    "-  'spel' heeft polariteit 1, 'zijn' heeft polariteit 0, 'tof' heeft polariteit 0,8 en 'ijsbreker' 0.\n",
    "-  De polariteit van de gegeven zin is de som van deze polariteiten, dus 1,8. De zin roept een positief sentiment op. "
   ]
  },
  {
   "cell_type": "markdown",
   "metadata": {},
   "source": [
    "### Modules importeren "
   ]
  },
  {
   "cell_type": "markdown",
   "metadata": {},
   "source": [
    "Nu je dit weet, kun je bijna aan de slag. Je laadt eerst twee Python-modules en een lexicon in. <br>\n",
    "Voer daartoe de code-cel hieronder uit. De code in deze cellen hoef je niet in detail te begrijpen."
   ]
  },
  {
   "cell_type": "code",
   "execution_count": null,
   "metadata": {},
   "outputs": [],
   "source": [
    "# module importeren\n",
    "import pickle      # voor lexicon\n",
    "from colorama import Fore, Back   # om in kleur te kunnen printen"
   ]
  },
  {
   "cell_type": "code",
   "execution_count": null,
   "metadata": {},
   "outputs": [],
   "source": [
    "# lexicon inlezen \n",
    "with open(\"new_lexicondict.pickle\", \"rb\") as f: # bestand lexicondict.pickle in map data bevat het sentimentlexicon\n",
    "    lexicondict = pickle.load(f)\n",
    "\n",
    "# lexicon tonen\n",
    "print(lexicondict)"
   ]
  },
  {
   "cell_type": "markdown",
   "metadata": {},
   "source": [
    "Een stukje van het lexicon:<br>  'retorisch': {'postag': ['ADJ'], 'polarity': [0.0]}, <br> 'gezwind': {'postag': ['ADJ'], 'polarity': [0.6]}, <br>'evenwichtig': {'postag': ['ADJ'], 'polarity': [1.25]},<br> 'modaal': {'postag': ['ADJ'], 'polarity': [0.4]},<br> 'digitaal': {'postag': ['ADJ'], 'polarity': [0.0]}, <br>'fout': {'postag': ['ADJ', 'NOUN'], 'polarity': [-0.5, -2.0]}, ... , <br>'analfabeet': {'postag': ['NOUN'], 'polarity': [-1.0]}, ..., <br>'stigmatiseren': {'postag': ['VERB'], 'polarity': [-2.0]},  ...\n",
    "\n",
    "Het lexicon geeft de part-of-speech tag ('postag') en de polariteit ('polarity') van de woorden in het lexicon.\n",
    "\n",
    "Uit het lexicon leid je af:\n",
    "-  het woord 'retorisch' is een adjectief dat qua sentiment een neutrale polariteit heeft;\n",
    "-  het woord 'gezwind' is een adjectief dat qua sentiment een positieve polariteit heeft;\n",
    "-  het woord 'evenwichtig' is een adjectief dat qua sentiment ook een positieve polariteit heeft, maar het wordt positiever aangevoeld dan 'gezwind';\n",
    "-  het woord 'fout' kan zowel een adjectief als een substantief zijn, beide met een negatieve polariteit, maar als substantief wordt het als meer negatief aangevoeld dan als adjectief.\n",
    "- het woord 'analfabeet' is een substantief dat qua sentiment een negatieve polariteit heeft;\n",
    "- het woord 'stigmatiseren' is een werkwoord dat qua sentiment een negatieve polariteit heeft, meer negatief dan 'analfabeet';\n",
    "\n",
    "Noteren in de code:\n",
    "-  `lexicondict[\"retorisch\"][\"postag\"]` is `['ADJ']`\n",
    "-  `lexicondict[\"retorisch\"][\"polarity\"]` is `[0.0]`\n",
    "-  `lexicondict[\"fout][\"postag\"]` is `['ADJ', 'NOUN']`\n",
    "-  `lexicondict[\"fout\"][\"polarity\"]` is `[-0.5, -2.0]`"
   ]
  },
  {
   "cell_type": "markdown",
   "metadata": {},
   "source": [
    "Je zou het lexicon dus ook kunnen weergeven als:<br>\n",
    "retorisch ADJ 0.0<br>\n",
    "gezwind ADJ 0.6<br>\n",
    "evenwichtig ADJ 1.25<br>\n",
    "modaal ADJ 0.3<br>\n",
    "digitaal ADJ 0.0<br>\n",
    "fout ADJ -0.5<br>\n",
    "fout NOUN -2.0"
   ]
  },
  {
   "cell_type": "markdown",
   "metadata": {},
   "source": [
    "#### Oefening:\n",
    "\n",
    "Zoek in het lexicon op:\n",
    "-  de \"postag\" van 'kwekkebekken';\n",
    "-  de \"postag' van  'aanraden';\n",
    "-  de \"polarity\" van 'jolijt';\n",
    "-  de \"polarity\" van 'konkelen'.\n",
    "\n",
    "Tip: zoek met CTRL-F"
   ]
  },
  {
   "cell_type": "markdown",
   "metadata": {},
   "source": [
    "**Merk op** dat de woordsoorten in het Engels teruggegeven worden. \n",
    "\n",
    "-  *'NOUN'* staat voor een zelfstandig naamwoord of substantief; \n",
    "-  *'ADJ'* voor een bijvoeglijk naamwoord of adjectief; \n",
    "-  *'ADV'* voor een bijwoord; \n",
    "-  *'DET'* voor een lidwoord; \n",
    "-  *'VERB'* voor een werkwoord; \n",
    "-  *'AUX' voor een hulpwerkwoord;\n",
    "-  *'PRON'* voor een voornaamwoord;\n",
    "-  *'PROPN'* voor een eigennaam, enz. \n",
    "-  Aan leestekens wordt *'SYM'* toegekend."
   ]
  },
  {
   "cell_type": "markdown",
   "metadata": {},
   "source": [
    "De woorden die in het lexicon staan, noemt men *sleutels* of *keys* in Python. Je kan ze opvragen via de volgende code-cel. "
   ]
  },
  {
   "cell_type": "code",
   "execution_count": null,
   "metadata": {},
   "outputs": [],
   "source": [
    "lexicondict.keys()"
   ]
  },
  {
   "cell_type": "markdown",
   "metadata": {},
   "source": [
    "Zo, je bent klaar voor een toepassing. Stap 1: de data (gegevens) inlezen en bekijken. "
   ]
  },
  {
   "cell_type": "markdown",
   "metadata": {},
   "source": [
    "<div style='color: #690027;' markdown=\"1\">\n",
    "    <h2>3. Toepassing</h2> \n",
    "</div>"
   ]
  },
  {
   "cell_type": "markdown",
   "metadata": {},
   "source": [
    "Voor deze opdracht zal je werken met een **klantenreview**. "
   ]
  },
  {
   "cell_type": "markdown",
   "metadata": {},
   "source": [
    "### De data "
   ]
  },
  {
   "cell_type": "markdown",
   "metadata": {},
   "source": [
    "Voer de volgende code-cel uit om de review in te lezen en vervolgens te bekijken."
   ]
  },
  {
   "cell_type": "code",
   "execution_count": null,
   "metadata": {},
   "outputs": [],
   "source": [
    "review = \"Nieuw concept in Gent, maar dat kan volgens mij toch beter. De meeste cornflakes waren gewoon de basic soorten. Ook wat duur voor de hoeveelheid die je krijgt, vooral met de toppings zijn ze zuinig. En als je ontbijt aanbiedt, geef de mensen dan toch ook wat meer keuze voor hun koffie.\""
   ]
  },
  {
   "cell_type": "code",
   "execution_count": null,
   "metadata": {},
   "outputs": [],
   "source": [
    "print(review)"
   ]
  },
  {
   "cell_type": "markdown",
   "metadata": {},
   "source": [
    "Je bent klaar voor stap 2. In wat volgt voer je de preprocessing uit op de review."
   ]
  },
  {
   "cell_type": "markdown",
   "metadata": {},
   "source": [
    "<div style='color: #690027;' markdown=\"1\">\n",
    "    <h2>4. Preprocessing</h2> \n",
    "</div>"
   ]
  },
  {
   "cell_type": "markdown",
   "metadata": {},
   "source": [
    "### Lowercasing\n",
    "In deze stap zet je de tekst in de review om naar kleine letters. Lowercasing is nodig omdat woorden zonder hoofdletter in het lexicon staan.\n",
    "\n",
    "De variabele `review_kleineletters` verwijst naar deze omgezette tekst."
   ]
  },
  {
   "cell_type": "code",
   "execution_count": null,
   "metadata": {},
   "outputs": [],
   "source": [
    "# zet tekst van de review om naar tekst in kleine letters\n",
    "review_kleineletters = review.lower()  # review met kleine letters schrijven"
   ]
  },
  {
   "cell_type": "code",
   "execution_count": null,
   "metadata": {},
   "outputs": [],
   "source": [
    "# toon resultaat van lowercasing\n",
    "print(review_kleineletters)"
   ]
  },
  {
   "cell_type": "markdown",
   "metadata": {},
   "source": [
    "### Tokenisering\n",
    "Nu zal je de review in woorden en leestekens opsplitsen m.b.v. de computer, dat gebeurt op basis van spaties.\n",
    "Deze woorden en leestekens zijn **tokens**.\n",
    "\n",
    "Om de tokens automatisch te laten genereren, is het nodig dat de woorden en leestekens van elkaar gescheiden zijn door een spatie. Na elke spatie kan dan een nieuwe token worden gegenereerd.\n",
    "Bv. Hello, world!   wordt eerst geschreven als Hello , world ! en de tokens zijn dan: 'Hello', ',', 'world' en '!'.\n",
    "\n",
    "Je zal de review dus eerst wat moeten aanpassen: voor en na elk leesteken moet zeker een spatie aanwezig zijn.  "
   ]
  },
  {
   "cell_type": "markdown",
   "metadata": {},
   "source": [
    "#### Spaties invoeren vóór elk leesteken\n",
    "In deze stap plaats je in de review een spatie voor (en na) elk leesteken.\n",
    "\n",
    "De variabele `review_spatie` verwijst naar deze omgezette tekst."
   ]
  },
  {
   "cell_type": "code",
   "execution_count": null,
   "metadata": {},
   "outputs": [],
   "source": [
    "leestekens = ['!', '\"', '#', '$', '%', '&', \"'\", '(', ')', '*', '+', ',', '-', '.', '/', ':', ';', '<', '=', '>', '?', '@', '[', '\\\\', ']', '^', '_', '`', '{', '|', '}', '~']"
   ]
  },
  {
   "cell_type": "code",
   "execution_count": null,
   "metadata": {},
   "outputs": [],
   "source": [
    "# spaties toevoegen aan tekst van review\n",
    "review_spatie = \" \"     # lege string\n",
    "for karakter in review_kleineletters:\n",
    "    if karakter not in leestekens:\n",
    "        review_spatie = review_spatie + karakter\n",
    "    else:\n",
    "        review_spatie = review_spatie + \" \" + karakter + \" \"     # spatie voor en na een leesteken"
   ]
  },
  {
   "cell_type": "code",
   "execution_count": null,
   "metadata": {
    "scrolled": true
   },
   "outputs": [],
   "source": [
    "# toon resultaat van spaties toevoegen\n",
    "print(review_spatie)"
   ]
  },
  {
   "cell_type": "code",
   "execution_count": null,
   "metadata": {},
   "outputs": [],
   "source": [
    "# tokenisering\n",
    "tokens = review_spatie.split()  "
   ]
  },
  {
   "cell_type": "code",
   "execution_count": null,
   "metadata": {},
   "outputs": [],
   "source": [
    "# toon resultaat van tokenisering\n",
    "print(tokens)"
   ]
  },
  {
   "cell_type": "markdown",
   "metadata": {},
   "source": [
    "Je krijgt dus zo een lijst van de tokens."
   ]
  },
  {
   "cell_type": "markdown",
   "metadata": {},
   "source": [
    "Als de tekst getokeniseerd is, kan je aan elk token een **part-of-speech tag** toekennen, bijvoorbeeld voor een woord is dat de woordsoort.<br>Bij het opzoeken van een token in het lexicon is het belangrijk dat je daarbij ook de part-of-speech tag controleert. Sommige woorden kunnen immers zowel als substantief of als adjectief gebruikt worden.\n",
    "\n",
    "Een token opzoeken in het lexicon doe je in zijn woordenboekgedaante. Elk token moet dus gelemmatiseerd worden, m.a.w. teruggebracht worden naar zijn **lemma** of woordenboekvorm, zoals enkelvoud voor een substantief en de infinitief voor een werkwoord. Het opzoeken van zo'n woordenboekvorm in het lexicon kan dan **geautomatiseerd** worden."
   ]
  },
  {
   "cell_type": "markdown",
   "metadata": {},
   "source": [
    "### Part-of-speech tagging en lemmatisering"
   ]
  },
  {
   "cell_type": "markdown",
   "metadata": {},
   "source": [
    "Je wil dus een lijst van de part-of-speechs tags en van de lemma's die bij de tokens horen, en deze lemma's kan je dan opzoeken in het lexicon."
   ]
  },
  {
   "cell_type": "markdown",
   "metadata": {},
   "source": [
    "Het eerste token is 'nieuw'. De basisvorm of lemma is `nieuw` en dit is een adjectief, ADJ.\n",
    "\n",
    "Neem het token ','. De basisvorm of lemma is `,` en dit is een leesteken, dus een symbool, SYM.\n",
    "\n",
    "Neem het token 'kan'. De basisvorm of lemma is `kunnen` en dit is een werkwoord, VERB.\n",
    "\n",
    "Neem het token 'soorten'. De basisvorm of lemma is `soort` en dit is een substantief, NOUN."
   ]
  },
  {
   "cell_type": "markdown",
   "metadata": {},
   "source": [
    "**Merk op** dat het lemma van tokens zoals *'waren'*, *'soorten'*, *'krijgt'*, *'toppings'*, *'aanbiedt'*, *'geef'* en *'mensen'* niet hetzelfde is als het token. Bij andere tokens is dat wel het geval."
   ]
  },
  {
   "cell_type": "markdown",
   "metadata": {},
   "source": [
    "Maak lijsten van de lemma's en de part-of-speech tags. De volgorde in deze lijsten is van belang.<br>\n",
    "Tip: vertrek van de lijst van de tokens en gebruik 'copy-paste' (CTRL-C, CTRL-V), pas dan enkel de lemma's aan die verschillen van het token. "
   ]
  },
  {
   "cell_type": "code",
   "execution_count": null,
   "metadata": {},
   "outputs": [],
   "source": [
    "postags = ['ADJ', 'NOUN', 'ADP', 'PROPN', 'SYM', 'CCONJ', 'PRON', 'VERB', 'ADP', 'PRON', 'ADV', 'ADJ', 'SYM', 'DET', 'ADV', 'NOUN', 'AUX', 'ADJ', 'DET', 'ADJ', 'NOUN', 'SYM', 'ADV', 'DET', 'ADJ', 'ADP', 'DET', 'NOUN', 'PRON', 'PRON', 'AUX', 'SYM', 'ADV', 'ADP', 'DET', 'NOUN', 'AUX', 'PRON', 'ADJ', 'SYM', 'CCONJ', 'SCONJ', 'PRON', 'NOUN', 'AUX', 'SYM', 'VERB', 'DET', 'NOUN', 'ADV', 'ADV', 'ADV', 'PRON', 'DET', 'NOUN', 'ADP', 'PRON', 'NOUN', 'SYM', 'SYM', 'SYM']\n",
    "lemmas = ['nieuw', 'concept', 'in', 'gent', ',', 'maar', 'dat', 'kunnen', 'volgens', 'mij', 'toch', 'goed', '.', 'de', 'veel', 'cornflakes', 'zijn', 'gewoon', 'de', 'basic', 'soort', '.', 'ook', 'wat', 'duur', 'voor', 'de', 'hoeveelheid', 'die', 'je', 'krijgen', ',', 'vooral', 'met', 'de', 'topping', 'zijn', 'ze', 'zuinig', '.', 'en', 'als', 'je', 'ontbijt', 'aanbieden', ',', 'geven', 'de', 'mens', 'dan', 'toch', 'ook', 'wat', 'meer', 'keuze', 'voor', 'hun', 'koffie', '.', '.', '.']"
   ]
  },
  {
   "cell_type": "markdown",
   "metadata": {},
   "source": [
    "Het opstellen van deze lijsten kost wel wat tijd.  "
   ]
  },
  {
   "cell_type": "markdown",
   "metadata": {},
   "source": [
    "<div style='color: #690027;' markdown=\"1\">\n",
    "    <h2>5. Sentiment lexicon matching</h2> \n",
    "</div>"
   ]
  },
  {
   "cell_type": "markdown",
   "metadata": {},
   "source": [
    "Nu je review *gepreprocessed* is, kan je het **sentiment bepalen** met behulp van het sentiment lexicon dat je ter beschikking hebt.<br>\n",
    "Ook hier werk je in twee grote stappen: je bekijkt het sentiment lexicon en je past daarna matching toe op de review."
   ]
  },
  {
   "cell_type": "markdown",
   "metadata": {},
   "source": [
    "Je zoekt de lemma's op in het sentimentlexicon."
   ]
  },
  {
   "cell_type": "code",
   "execution_count": null,
   "metadata": {},
   "outputs": [],
   "source": [
    "# staat \"nieuw\" in het lexicon?\n",
    "\"nieuw\" in lexicondict"
   ]
  },
  {
   "cell_type": "markdown",
   "metadata": {},
   "source": [
    "Het staat er dus in. Vraag de part-of-speech tag (\"postag\") en de polariteit (\"polarity\") van \"nieuw\" op."
   ]
  },
  {
   "cell_type": "code",
   "execution_count": null,
   "metadata": {},
   "outputs": [],
   "source": [
    "lexicondict[\"nieuw\"][\"postag\"] "
   ]
  },
  {
   "cell_type": "code",
   "execution_count": null,
   "metadata": {},
   "outputs": [],
   "source": [
    "lexicondict[\"nieuw\"][\"polarity\"] "
   ]
  },
  {
   "cell_type": "markdown",
   "metadata": {},
   "source": [
    "Voor de sentimentanalyse maak je nu een lijst van de **sentimentwoorden**: de tokens die in het lexicon voorkomen (`lexiconmatches`). Je maakt ook een lijst met de polariteiten van deze tokens (`polariteiten`). \n",
    "\n",
    "Je overloopt daarvoor een voor een alle lemma's. Voor elk lemma dat in het lexicon staat, controleer je de woordsoort, part-of-speech tag. Bij een correcte woordsoort voeg je het overeenkomstige token toe aan de lijst met tokens en de overeenkomstige polariteit aan de lijst met polariteiten. \n",
    "\n",
    "Voor 'nieuw' betekent dit dat 'nieuw' wordt toegevoegd aan de lijst `lexiconmatches` en '0.575' aan de lijst `polariteiten`.\n",
    "\n",
    "Tot slot tel je alle polariteiten op bij elkaar. De som, `sum(polariteiten)`, geeft het sentiment van de review. "
   ]
  },
  {
   "cell_type": "code",
   "execution_count": null,
   "metadata": {},
   "outputs": [],
   "source": [
    "# zoek lexicon matches in de review\n",
    "lexiconmatches = []       # lijst tokens gevonden in lexicon\n",
    "polariteiten = []         # lijst polariteiten van gevonden tokens  \n",
    "\n",
    "i = 0      # index;  index = 0 komt overeen met eerste lemma em eerste postag\n",
    "for lemma in lemmas:\n",
    "    if lemma in lexicondict.keys():  # sleutels zijn woorden aanwezig in lexicon\n",
    "        if postags[i] in lexicondict[lemma][\"postag\"]: # alleen wanneer het lemma en de POS-tag overeenkomen, is er een match (zie bv. 'fout als ADJ en 'fout' als NOUN)\n",
    "            lexiconmatches.append(tokens[i])           # overeenkomstig token toevoegen aan lijst lexiconmatches\n",
    "            polariteiten.append(sum(lexicondict[lemma][\"polarity\"]))   # overeenkomstige polariteit toevoegen aan lijst polariteiten\n",
    "    i = i + 1  # ga over naar volgende lemma, dus lemma met als index eentje meer          \n",
    "\n",
    "# toon eindbeslissing voor deze review: de som van alle polariteiten\n",
    "if sum(polariteiten) > 0:\n",
    "    sentiment = \"positief\"\n",
    "elif sum(polariteiten) == 0:\n",
    "    sentiment = \"neutraal\"\n",
    "elif sum(polariteiten) < 0:\n",
    "    sentiment = \"negatief\"\n",
    "print(\"Het sentiment van de review is: \" + sentiment)    "
   ]
  },
  {
   "cell_type": "markdown",
   "metadata": {},
   "source": [
    "<div style='color: #690027;' markdown=\"1\">\n",
    "    <h2>6. Sentiment lexicon matching: achter de schermen</h2> \n",
    "</div>"
   ]
  },
  {
   "cell_type": "markdown",
   "metadata": {},
   "source": [
    "Bekijk even de sentimentwoorden en hun polariteit door ze op te vragen."
   ]
  },
  {
   "cell_type": "code",
   "execution_count": null,
   "metadata": {},
   "outputs": [],
   "source": [
    "print(lexiconmatches)\n",
    "print(polariteiten)"
   ]
  },
  {
   "cell_type": "markdown",
   "metadata": {},
   "source": [
    "Je kan in de gegeven review de **sentimentwoorden highlighten**: groen voor een positieve polariteit, rood voor een negatieve en blauw voor een neutrale. \n",
    "\n",
    "Je vertrekt daarvoor van de oorspronkelijke tekst. In deze tekst vervang je de tokens die sentimentwoorden waren door zichzelf op een gekleurde achtergrond. De niet-sentimentwoorden laat je ongemoeid."
   ]
  },
  {
   "cell_type": "code",
   "execution_count": null,
   "metadata": {},
   "outputs": [],
   "source": [
    "# lexicon matches in de review highlighten\n",
    "review_highlighted = review_spatie    # neem review waarin spaties werden aangebracht\n",
    "         \n",
    "i = 0   # index\n",
    "for token in lexiconmatches:\n",
    "    if polariteiten[i] > 0: # overeenkomstige polariteit is positief\n",
    "        review_highlighted = review_highlighted.replace(\" \" + token + \" \", \" \" + Back.GREEN + token + Back.RESET + \" \")   # positieve token groen markeren \n",
    "    elif polariteiten[i] == 0.0: # overeenkomstige polariteit is neutraal\n",
    "        review_highlighted = review_highlighted.replace(\" \" + token + \" \", \" \" + Back.BLUE + token + Back.RESET + \" \")    # neutrale token blauw markeren\n",
    "    elif polariteiten[i] < 0: # negatieve polariteit\n",
    "        review_highlighted = review_highlighted.replace(\" \" + token + \" \", \" \" + Back.RED + token + Back.RESET + \" \")     # negatieve token rood markeren\n",
    "    i = i + 1\n",
    "\n",
    "print(review_highlighted)"
   ]
  },
  {
   "cell_type": "markdown",
   "metadata": {},
   "source": [
    "<div style='color: #690027;' markdown=\"1\">\n",
    "    <h2>7. Oefening</h2> \n",
    "</div>"
   ]
  },
  {
   "cell_type": "markdown",
   "metadata": {},
   "source": [
    "Bekijk de volgende reviews. \n",
    "\n",
    "-  Kies er een uit.\n",
    "-  Welk sentiment koppel jij eraan?\n",
    "-  Leidt het lexicon tot hetzelfde resultaat? "
   ]
  },
  {
   "cell_type": "markdown",
   "metadata": {},
   "source": [
    "> Sunrisewater is net wat België nodig heeft. Met het obesitasprobleem dat toch wel aan een opmars bezig is, kunnen we alle initiatieven gebruiken om de jeugd weer gewoon water te laten drinken in plaats van die Amerikaanse bucht! Het smaakt geweldig en wat nog beter is, is dat je het gewoon op elke straathoek kan vinden! Echt geweldig! Vooral de pink and yellow is ten zeerste aan te raden.\n",
    "\n",
    ">  Salé & Sucré staat bekend voor zijn super lekkere en originele cocktails, helaas was er geen alcoholvrije variant te verkrijgen. Onze BOB van dienst moest het dan maar bij frisdrank houden.\n",
    "\n",
    ">  Het was superleuk om eens te mogen proeven van de Filipijnse keuken. De gerechten zaten goed in elkaar, de porties waren zeker groot genoeg en de smaken zaten helemaal goed. Voor herhaling vatbaar!\n",
    "\n",
    ">  Gezellige sfeer, lekkere koffie en een mooi interieur. De combinatie van een studiebar en een babbelbar is een geniaal idee! Studeren met een lekker bakkie koffie, een overheerlijk hapje en samen met andere studenten, werkt enorm motiverend. Het interieur is enorm rustgevend met weinig afleiding, waardoor ik nog nooit zoveel heb kunnen doen!\n",
    "\n",
    "> Wow, wat een coole restaurants! En het eten is er megalekker."
   ]
  },
  {
   "cell_type": "markdown",
   "metadata": {},
   "source": [
    "<div class=\"alert alert-box alert-success\">\n",
    "Proficiat, je hebt geleerd hoe een regelgebaseerd systeem voor sentimentanalyse werkt!\n",
    "</div>"
   ]
  },
  {
   "cell_type": "markdown",
   "metadata": {},
   "source": [
    "<img src=\"cclic.png\" alt=\"Banner\" align=\"left\" style=\"width:100px;\"/><br><br>\n",
    "Notebook Chatbot, zie <a href=\"http://www.aiopschool.be\">AI Op School</a>, van C. Van Hee, V. Hoste, F. wyffels, Z. Van de Staey & N. Gesquière is in licentie gegeven volgens een <a href=\"http://creativecommons.org/licenses/by-nc-sa/4.0/\">Creative Commons Naamsvermelding-NietCommercieel-GelijkDelen 4.0 Internationaal-licentie</a>. "
   ]
  }
 ],
 "metadata": {
  "kernelspec": {
   "display_name": "Python 3",
   "language": "python",
   "name": "python3"
  },
  "language_info": {
   "codemirror_mode": {
    "name": "ipython",
    "version": 3
   },
   "file_extension": ".py",
   "mimetype": "text/x-python",
   "name": "python",
   "nbconvert_exporter": "python",
   "pygments_lexer": "ipython3",
   "version": "3.8.3"
  }
 },
 "nbformat": 4,
 "nbformat_minor": 4
}
